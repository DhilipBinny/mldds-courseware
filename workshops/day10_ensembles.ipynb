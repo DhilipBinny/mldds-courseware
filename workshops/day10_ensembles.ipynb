{
 "cells": [
  {
   "cell_type": "markdown",
   "metadata": {},
   "source": [
    "# Ensembles"
   ]
  },
  {
   "cell_type": "markdown",
   "metadata": {},
   "source": [
    "The data has been collected from 2018 FIFA World Cup Russia Official App.\n",
    "\n",
    "https://www.kaggle.com/mathan/fifa-2018-match-statistics\n",
    "\n",
    "We'll use the data that's pre-processed in the previous workshop (day 9), so that we don't repeat steps."
   ]
  },
  {
   "cell_type": "code",
   "execution_count": 1,
   "metadata": {},
   "outputs": [],
   "source": [
    "import matplotlib.pyplot as plt\n",
    "import pandas as pd\n",
    "import seaborn as sns\n",
    "\n",
    "# classification\n",
    "from sklearn.model_selection import train_test_split\n",
    "from sklearn.tree import DecisionTreeClassifier\n",
    "from sklearn.metrics import classification_report, confusion_matrix\n",
    "\n",
    "# ensembles\n",
    "from sklearn.ensemble import RandomForestClassifier, AdaBoostClassifier\n",
    "\n",
    "%matplotlib inline"
   ]
  },
  {
   "cell_type": "code",
   "execution_count": null,
   "metadata": {},
   "outputs": [],
   "source": []
  },
  {
   "cell_type": "markdown",
   "metadata": {},
   "source": [
    "## Load pre-processed data\n",
    "\n",
    "Load pre-processed data from Day 9 workshop."
   ]
  },
  {
   "cell_type": "code",
   "execution_count": 2,
   "metadata": {},
   "outputs": [],
   "source": [
    "df_train = pd.read_csv('fifa_processed_train.csv')\n",
    "df_test = pd.read_csv('fifa_processed_test.csv')"
   ]
  },
  {
   "cell_type": "code",
   "execution_count": 3,
   "metadata": {},
   "outputs": [
    {
     "name": "stdout",
     "output_type": "stream",
     "text": [
      "(90, 6) (30, 6)\n"
     ]
    }
   ],
   "source": [
    "print(df_train.shape, df_test.shape)"
   ]
  },
  {
   "cell_type": "code",
   "execution_count": 4,
   "metadata": {},
   "outputs": [
    {
     "data": {
      "text/html": [
       "<div>\n",
       "<style scoped>\n",
       "    .dataframe tbody tr th:only-of-type {\n",
       "        vertical-align: middle;\n",
       "    }\n",
       "\n",
       "    .dataframe tbody tr th {\n",
       "        vertical-align: top;\n",
       "    }\n",
       "\n",
       "    .dataframe thead th {\n",
       "        text-align: right;\n",
       "    }\n",
       "</style>\n",
       "<table border=\"1\" class=\"dataframe\">\n",
       "  <thead>\n",
       "    <tr style=\"text-align: right;\">\n",
       "      <th></th>\n",
       "      <th>Goal Scored</th>\n",
       "      <th>On-Target</th>\n",
       "      <th>Off-Target</th>\n",
       "      <th>Corners</th>\n",
       "      <th>1st Goal</th>\n",
       "      <th>Man of the Match</th>\n",
       "    </tr>\n",
       "  </thead>\n",
       "  <tbody>\n",
       "    <tr>\n",
       "      <th>0</th>\n",
       "      <td>1.476178</td>\n",
       "      <td>1.825788</td>\n",
       "      <td>2.035973</td>\n",
       "      <td>2.129917</td>\n",
       "      <td>1.441201</td>\n",
       "      <td>1</td>\n",
       "    </tr>\n",
       "    <tr>\n",
       "      <th>1</th>\n",
       "      <td>-0.269057</td>\n",
       "      <td>-1.285088</td>\n",
       "      <td>0.333417</td>\n",
       "      <td>-1.095194</td>\n",
       "      <td>-0.260364</td>\n",
       "      <td>1</td>\n",
       "    </tr>\n",
       "    <tr>\n",
       "      <th>2</th>\n",
       "      <td>-0.269057</td>\n",
       "      <td>-0.840677</td>\n",
       "      <td>-0.092222</td>\n",
       "      <td>0.920500</td>\n",
       "      <td>1.079166</td>\n",
       "      <td>1</td>\n",
       "    </tr>\n",
       "    <tr>\n",
       "      <th>3</th>\n",
       "      <td>1.476178</td>\n",
       "      <td>0.048145</td>\n",
       "      <td>-1.794778</td>\n",
       "      <td>-0.288916</td>\n",
       "      <td>0.427503</td>\n",
       "      <td>0</td>\n",
       "    </tr>\n",
       "    <tr>\n",
       "      <th>4</th>\n",
       "      <td>-1.141675</td>\n",
       "      <td>-0.396266</td>\n",
       "      <td>-0.943500</td>\n",
       "      <td>0.114223</td>\n",
       "      <td>-1.093044</td>\n",
       "      <td>0</td>\n",
       "    </tr>\n",
       "    <tr>\n",
       "      <th>5</th>\n",
       "      <td>0.603561</td>\n",
       "      <td>1.381377</td>\n",
       "      <td>-0.092222</td>\n",
       "      <td>0.114223</td>\n",
       "      <td>-0.658602</td>\n",
       "      <td>1</td>\n",
       "    </tr>\n",
       "    <tr>\n",
       "      <th>6</th>\n",
       "      <td>0.603561</td>\n",
       "      <td>0.492555</td>\n",
       "      <td>0.333417</td>\n",
       "      <td>-1.095194</td>\n",
       "      <td>-0.405178</td>\n",
       "      <td>0</td>\n",
       "    </tr>\n",
       "    <tr>\n",
       "      <th>7</th>\n",
       "      <td>0.603561</td>\n",
       "      <td>-0.396266</td>\n",
       "      <td>-1.794778</td>\n",
       "      <td>-0.692055</td>\n",
       "      <td>-0.405178</td>\n",
       "      <td>1</td>\n",
       "    </tr>\n",
       "    <tr>\n",
       "      <th>8</th>\n",
       "      <td>-0.269057</td>\n",
       "      <td>0.048145</td>\n",
       "      <td>0.333417</td>\n",
       "      <td>0.114223</td>\n",
       "      <td>0.174078</td>\n",
       "      <td>1</td>\n",
       "    </tr>\n",
       "    <tr>\n",
       "      <th>9</th>\n",
       "      <td>-1.141675</td>\n",
       "      <td>-0.396266</td>\n",
       "      <td>-0.943500</td>\n",
       "      <td>0.114223</td>\n",
       "      <td>-1.093044</td>\n",
       "      <td>0</td>\n",
       "    </tr>\n",
       "    <tr>\n",
       "      <th>10</th>\n",
       "      <td>0.603561</td>\n",
       "      <td>-0.396266</td>\n",
       "      <td>-0.943500</td>\n",
       "      <td>-0.288916</td>\n",
       "      <td>-0.586195</td>\n",
       "      <td>1</td>\n",
       "    </tr>\n",
       "    <tr>\n",
       "      <th>11</th>\n",
       "      <td>-0.269057</td>\n",
       "      <td>-1.285088</td>\n",
       "      <td>-0.943500</td>\n",
       "      <td>0.114223</td>\n",
       "      <td>0.427503</td>\n",
       "      <td>1</td>\n",
       "    </tr>\n",
       "    <tr>\n",
       "      <th>12</th>\n",
       "      <td>-1.141675</td>\n",
       "      <td>-0.396266</td>\n",
       "      <td>-0.943500</td>\n",
       "      <td>-0.288916</td>\n",
       "      <td>-1.093044</td>\n",
       "      <td>0</td>\n",
       "    </tr>\n",
       "    <tr>\n",
       "      <th>13</th>\n",
       "      <td>0.603561</td>\n",
       "      <td>0.936966</td>\n",
       "      <td>-0.092222</td>\n",
       "      <td>0.517361</td>\n",
       "      <td>-0.839620</td>\n",
       "      <td>1</td>\n",
       "    </tr>\n",
       "    <tr>\n",
       "      <th>14</th>\n",
       "      <td>-0.269057</td>\n",
       "      <td>0.048145</td>\n",
       "      <td>0.333417</td>\n",
       "      <td>-0.692055</td>\n",
       "      <td>-0.224160</td>\n",
       "      <td>1</td>\n",
       "    </tr>\n",
       "    <tr>\n",
       "      <th>15</th>\n",
       "      <td>-0.269057</td>\n",
       "      <td>0.492555</td>\n",
       "      <td>-0.092222</td>\n",
       "      <td>0.114223</td>\n",
       "      <td>0.318892</td>\n",
       "      <td>0</td>\n",
       "    </tr>\n",
       "    <tr>\n",
       "      <th>16</th>\n",
       "      <td>-1.141675</td>\n",
       "      <td>-0.396266</td>\n",
       "      <td>-0.517861</td>\n",
       "      <td>-1.498332</td>\n",
       "      <td>-1.093044</td>\n",
       "      <td>0</td>\n",
       "    </tr>\n",
       "    <tr>\n",
       "      <th>17</th>\n",
       "      <td>-1.141675</td>\n",
       "      <td>-1.285088</td>\n",
       "      <td>-1.369139</td>\n",
       "      <td>-0.288916</td>\n",
       "      <td>-1.093044</td>\n",
       "      <td>0</td>\n",
       "    </tr>\n",
       "    <tr>\n",
       "      <th>18</th>\n",
       "      <td>-0.269057</td>\n",
       "      <td>0.048145</td>\n",
       "      <td>-0.517861</td>\n",
       "      <td>-1.095194</td>\n",
       "      <td>0.789538</td>\n",
       "      <td>1</td>\n",
       "    </tr>\n",
       "    <tr>\n",
       "      <th>19</th>\n",
       "      <td>2.348796</td>\n",
       "      <td>0.048145</td>\n",
       "      <td>-0.517861</td>\n",
       "      <td>-1.901471</td>\n",
       "      <td>-0.586195</td>\n",
       "      <td>1</td>\n",
       "    </tr>\n",
       "    <tr>\n",
       "      <th>20</th>\n",
       "      <td>0.603561</td>\n",
       "      <td>1.381377</td>\n",
       "      <td>2.035973</td>\n",
       "      <td>0.920500</td>\n",
       "      <td>0.572317</td>\n",
       "      <td>0</td>\n",
       "    </tr>\n",
       "    <tr>\n",
       "      <th>21</th>\n",
       "      <td>-1.141675</td>\n",
       "      <td>-0.396266</td>\n",
       "      <td>0.333417</td>\n",
       "      <td>0.114223</td>\n",
       "      <td>-1.093044</td>\n",
       "      <td>0</td>\n",
       "    </tr>\n",
       "    <tr>\n",
       "      <th>22</th>\n",
       "      <td>1.476178</td>\n",
       "      <td>0.492555</td>\n",
       "      <td>0.759056</td>\n",
       "      <td>-0.692055</td>\n",
       "      <td>0.753334</td>\n",
       "      <td>1</td>\n",
       "    </tr>\n",
       "    <tr>\n",
       "      <th>23</th>\n",
       "      <td>-1.141675</td>\n",
       "      <td>-0.396266</td>\n",
       "      <td>-0.943500</td>\n",
       "      <td>-1.498332</td>\n",
       "      <td>-1.093044</td>\n",
       "      <td>0</td>\n",
       "    </tr>\n",
       "    <tr>\n",
       "      <th>24</th>\n",
       "      <td>4.094031</td>\n",
       "      <td>1.381377</td>\n",
       "      <td>-0.943500</td>\n",
       "      <td>-0.692055</td>\n",
       "      <td>-0.767213</td>\n",
       "      <td>1</td>\n",
       "    </tr>\n",
       "    <tr>\n",
       "      <th>25</th>\n",
       "      <td>-0.269057</td>\n",
       "      <td>-0.840677</td>\n",
       "      <td>-1.794778</td>\n",
       "      <td>-0.692055</td>\n",
       "      <td>1.622218</td>\n",
       "      <td>1</td>\n",
       "    </tr>\n",
       "    <tr>\n",
       "      <th>26</th>\n",
       "      <td>-0.269057</td>\n",
       "      <td>0.048145</td>\n",
       "      <td>0.333417</td>\n",
       "      <td>-1.498332</td>\n",
       "      <td>0.210282</td>\n",
       "      <td>0</td>\n",
       "    </tr>\n",
       "    <tr>\n",
       "      <th>27</th>\n",
       "      <td>-1.141675</td>\n",
       "      <td>2.270199</td>\n",
       "      <td>1.610334</td>\n",
       "      <td>1.323639</td>\n",
       "      <td>-1.093044</td>\n",
       "      <td>1</td>\n",
       "    </tr>\n",
       "    <tr>\n",
       "      <th>28</th>\n",
       "      <td>-0.269057</td>\n",
       "      <td>-0.396266</td>\n",
       "      <td>-0.092222</td>\n",
       "      <td>-1.095194</td>\n",
       "      <td>-0.224160</td>\n",
       "      <td>1</td>\n",
       "    </tr>\n",
       "    <tr>\n",
       "      <th>29</th>\n",
       "      <td>-1.141675</td>\n",
       "      <td>-0.396266</td>\n",
       "      <td>0.333417</td>\n",
       "      <td>0.114223</td>\n",
       "      <td>-1.093044</td>\n",
       "      <td>0</td>\n",
       "    </tr>\n",
       "    <tr>\n",
       "      <th>...</th>\n",
       "      <td>...</td>\n",
       "      <td>...</td>\n",
       "      <td>...</td>\n",
       "      <td>...</td>\n",
       "      <td>...</td>\n",
       "      <td>...</td>\n",
       "    </tr>\n",
       "    <tr>\n",
       "      <th>60</th>\n",
       "      <td>-0.269057</td>\n",
       "      <td>-1.285088</td>\n",
       "      <td>-0.943500</td>\n",
       "      <td>-1.095194</td>\n",
       "      <td>-0.658602</td>\n",
       "      <td>0</td>\n",
       "    </tr>\n",
       "    <tr>\n",
       "      <th>61</th>\n",
       "      <td>0.603561</td>\n",
       "      <td>-0.840677</td>\n",
       "      <td>0.759056</td>\n",
       "      <td>-0.692055</td>\n",
       "      <td>0.391299</td>\n",
       "      <td>1</td>\n",
       "    </tr>\n",
       "    <tr>\n",
       "      <th>62</th>\n",
       "      <td>-1.141675</td>\n",
       "      <td>0.048145</td>\n",
       "      <td>-0.092222</td>\n",
       "      <td>2.533055</td>\n",
       "      <td>-1.093044</td>\n",
       "      <td>0</td>\n",
       "    </tr>\n",
       "    <tr>\n",
       "      <th>63</th>\n",
       "      <td>-0.269057</td>\n",
       "      <td>-0.396266</td>\n",
       "      <td>2.035973</td>\n",
       "      <td>-0.288916</td>\n",
       "      <td>-1.020637</td>\n",
       "      <td>0</td>\n",
       "    </tr>\n",
       "    <tr>\n",
       "      <th>64</th>\n",
       "      <td>0.603561</td>\n",
       "      <td>-0.840677</td>\n",
       "      <td>-0.517861</td>\n",
       "      <td>0.517361</td>\n",
       "      <td>0.029264</td>\n",
       "      <td>1</td>\n",
       "    </tr>\n",
       "    <tr>\n",
       "      <th>65</th>\n",
       "      <td>-0.269057</td>\n",
       "      <td>0.048145</td>\n",
       "      <td>1.610334</td>\n",
       "      <td>0.920500</td>\n",
       "      <td>-0.332771</td>\n",
       "      <td>1</td>\n",
       "    </tr>\n",
       "    <tr>\n",
       "      <th>66</th>\n",
       "      <td>-0.269057</td>\n",
       "      <td>-0.840677</td>\n",
       "      <td>-0.092222</td>\n",
       "      <td>-1.095194</td>\n",
       "      <td>2.201474</td>\n",
       "      <td>1</td>\n",
       "    </tr>\n",
       "    <tr>\n",
       "      <th>67</th>\n",
       "      <td>-1.141675</td>\n",
       "      <td>-1.729499</td>\n",
       "      <td>-0.517861</td>\n",
       "      <td>-1.498332</td>\n",
       "      <td>-1.093044</td>\n",
       "      <td>0</td>\n",
       "    </tr>\n",
       "    <tr>\n",
       "      <th>68</th>\n",
       "      <td>-1.141675</td>\n",
       "      <td>0.936966</td>\n",
       "      <td>2.461612</td>\n",
       "      <td>1.726778</td>\n",
       "      <td>-1.093044</td>\n",
       "      <td>0</td>\n",
       "    </tr>\n",
       "    <tr>\n",
       "      <th>69</th>\n",
       "      <td>1.476178</td>\n",
       "      <td>0.492555</td>\n",
       "      <td>-0.092222</td>\n",
       "      <td>0.114223</td>\n",
       "      <td>-0.187957</td>\n",
       "      <td>1</td>\n",
       "    </tr>\n",
       "    <tr>\n",
       "      <th>70</th>\n",
       "      <td>-0.269057</td>\n",
       "      <td>-0.396266</td>\n",
       "      <td>0.759056</td>\n",
       "      <td>-0.692055</td>\n",
       "      <td>-0.875823</td>\n",
       "      <td>0</td>\n",
       "    </tr>\n",
       "    <tr>\n",
       "      <th>71</th>\n",
       "      <td>-0.269057</td>\n",
       "      <td>0.048145</td>\n",
       "      <td>-0.092222</td>\n",
       "      <td>0.517361</td>\n",
       "      <td>1.296387</td>\n",
       "      <td>1</td>\n",
       "    </tr>\n",
       "    <tr>\n",
       "      <th>72</th>\n",
       "      <td>-1.141675</td>\n",
       "      <td>-1.285088</td>\n",
       "      <td>-0.092222</td>\n",
       "      <td>0.114223</td>\n",
       "      <td>-1.093044</td>\n",
       "      <td>0</td>\n",
       "    </tr>\n",
       "    <tr>\n",
       "      <th>73</th>\n",
       "      <td>-0.269057</td>\n",
       "      <td>0.048145</td>\n",
       "      <td>0.759056</td>\n",
       "      <td>0.114223</td>\n",
       "      <td>0.572317</td>\n",
       "      <td>1</td>\n",
       "    </tr>\n",
       "    <tr>\n",
       "      <th>74</th>\n",
       "      <td>-1.141675</td>\n",
       "      <td>-1.729499</td>\n",
       "      <td>-0.943500</td>\n",
       "      <td>-1.095194</td>\n",
       "      <td>-1.093044</td>\n",
       "      <td>0</td>\n",
       "    </tr>\n",
       "    <tr>\n",
       "      <th>75</th>\n",
       "      <td>-1.141675</td>\n",
       "      <td>-0.396266</td>\n",
       "      <td>-0.943500</td>\n",
       "      <td>-1.901471</td>\n",
       "      <td>-1.093044</td>\n",
       "      <td>0</td>\n",
       "    </tr>\n",
       "    <tr>\n",
       "      <th>76</th>\n",
       "      <td>1.476178</td>\n",
       "      <td>0.936966</td>\n",
       "      <td>0.759056</td>\n",
       "      <td>1.726778</td>\n",
       "      <td>0.644724</td>\n",
       "      <td>1</td>\n",
       "    </tr>\n",
       "    <tr>\n",
       "      <th>77</th>\n",
       "      <td>-0.269057</td>\n",
       "      <td>-0.396266</td>\n",
       "      <td>-0.092222</td>\n",
       "      <td>-0.288916</td>\n",
       "      <td>0.970555</td>\n",
       "      <td>1</td>\n",
       "    </tr>\n",
       "    <tr>\n",
       "      <th>78</th>\n",
       "      <td>0.603561</td>\n",
       "      <td>0.048145</td>\n",
       "      <td>-0.943500</td>\n",
       "      <td>0.114223</td>\n",
       "      <td>-0.549992</td>\n",
       "      <td>1</td>\n",
       "    </tr>\n",
       "    <tr>\n",
       "      <th>79</th>\n",
       "      <td>-1.141675</td>\n",
       "      <td>-0.396266</td>\n",
       "      <td>1.184695</td>\n",
       "      <td>0.920500</td>\n",
       "      <td>-1.093044</td>\n",
       "      <td>0</td>\n",
       "    </tr>\n",
       "    <tr>\n",
       "      <th>80</th>\n",
       "      <td>-0.269057</td>\n",
       "      <td>-0.840677</td>\n",
       "      <td>-0.517861</td>\n",
       "      <td>-1.095194</td>\n",
       "      <td>0.753334</td>\n",
       "      <td>0</td>\n",
       "    </tr>\n",
       "    <tr>\n",
       "      <th>81</th>\n",
       "      <td>-0.269057</td>\n",
       "      <td>0.048145</td>\n",
       "      <td>0.759056</td>\n",
       "      <td>-1.095194</td>\n",
       "      <td>2.201474</td>\n",
       "      <td>0</td>\n",
       "    </tr>\n",
       "    <tr>\n",
       "      <th>82</th>\n",
       "      <td>0.603561</td>\n",
       "      <td>1.381377</td>\n",
       "      <td>-0.517861</td>\n",
       "      <td>0.517361</td>\n",
       "      <td>0.789538</td>\n",
       "      <td>1</td>\n",
       "    </tr>\n",
       "    <tr>\n",
       "      <th>83</th>\n",
       "      <td>0.603561</td>\n",
       "      <td>0.492555</td>\n",
       "      <td>-0.517861</td>\n",
       "      <td>1.323639</td>\n",
       "      <td>0.680927</td>\n",
       "      <td>1</td>\n",
       "    </tr>\n",
       "    <tr>\n",
       "      <th>84</th>\n",
       "      <td>0.603561</td>\n",
       "      <td>-0.840677</td>\n",
       "      <td>1.184695</td>\n",
       "      <td>0.114223</td>\n",
       "      <td>0.861945</td>\n",
       "      <td>0</td>\n",
       "    </tr>\n",
       "    <tr>\n",
       "      <th>85</th>\n",
       "      <td>-0.269057</td>\n",
       "      <td>0.936966</td>\n",
       "      <td>-1.794778</td>\n",
       "      <td>-0.692055</td>\n",
       "      <td>0.101671</td>\n",
       "      <td>0</td>\n",
       "    </tr>\n",
       "    <tr>\n",
       "      <th>86</th>\n",
       "      <td>-1.141675</td>\n",
       "      <td>0.936966</td>\n",
       "      <td>0.759056</td>\n",
       "      <td>-0.692055</td>\n",
       "      <td>-1.093044</td>\n",
       "      <td>0</td>\n",
       "    </tr>\n",
       "    <tr>\n",
       "      <th>87</th>\n",
       "      <td>-0.269057</td>\n",
       "      <td>1.381377</td>\n",
       "      <td>1.184695</td>\n",
       "      <td>0.114223</td>\n",
       "      <td>-0.912027</td>\n",
       "      <td>1</td>\n",
       "    </tr>\n",
       "    <tr>\n",
       "      <th>88</th>\n",
       "      <td>0.603561</td>\n",
       "      <td>0.492555</td>\n",
       "      <td>1.184695</td>\n",
       "      <td>0.920500</td>\n",
       "      <td>0.825741</td>\n",
       "      <td>1</td>\n",
       "    </tr>\n",
       "    <tr>\n",
       "      <th>89</th>\n",
       "      <td>-0.269057</td>\n",
       "      <td>0.936966</td>\n",
       "      <td>1.184695</td>\n",
       "      <td>2.129917</td>\n",
       "      <td>1.694625</td>\n",
       "      <td>1</td>\n",
       "    </tr>\n",
       "  </tbody>\n",
       "</table>\n",
       "<p>90 rows × 6 columns</p>\n",
       "</div>"
      ],
      "text/plain": [
       "    Goal Scored  On-Target  Off-Target   Corners  1st Goal  Man of the Match\n",
       "0      1.476178   1.825788    2.035973  2.129917  1.441201                 1\n",
       "1     -0.269057  -1.285088    0.333417 -1.095194 -0.260364                 1\n",
       "2     -0.269057  -0.840677   -0.092222  0.920500  1.079166                 1\n",
       "3      1.476178   0.048145   -1.794778 -0.288916  0.427503                 0\n",
       "4     -1.141675  -0.396266   -0.943500  0.114223 -1.093044                 0\n",
       "5      0.603561   1.381377   -0.092222  0.114223 -0.658602                 1\n",
       "6      0.603561   0.492555    0.333417 -1.095194 -0.405178                 0\n",
       "7      0.603561  -0.396266   -1.794778 -0.692055 -0.405178                 1\n",
       "8     -0.269057   0.048145    0.333417  0.114223  0.174078                 1\n",
       "9     -1.141675  -0.396266   -0.943500  0.114223 -1.093044                 0\n",
       "10     0.603561  -0.396266   -0.943500 -0.288916 -0.586195                 1\n",
       "11    -0.269057  -1.285088   -0.943500  0.114223  0.427503                 1\n",
       "12    -1.141675  -0.396266   -0.943500 -0.288916 -1.093044                 0\n",
       "13     0.603561   0.936966   -0.092222  0.517361 -0.839620                 1\n",
       "14    -0.269057   0.048145    0.333417 -0.692055 -0.224160                 1\n",
       "15    -0.269057   0.492555   -0.092222  0.114223  0.318892                 0\n",
       "16    -1.141675  -0.396266   -0.517861 -1.498332 -1.093044                 0\n",
       "17    -1.141675  -1.285088   -1.369139 -0.288916 -1.093044                 0\n",
       "18    -0.269057   0.048145   -0.517861 -1.095194  0.789538                 1\n",
       "19     2.348796   0.048145   -0.517861 -1.901471 -0.586195                 1\n",
       "20     0.603561   1.381377    2.035973  0.920500  0.572317                 0\n",
       "21    -1.141675  -0.396266    0.333417  0.114223 -1.093044                 0\n",
       "22     1.476178   0.492555    0.759056 -0.692055  0.753334                 1\n",
       "23    -1.141675  -0.396266   -0.943500 -1.498332 -1.093044                 0\n",
       "24     4.094031   1.381377   -0.943500 -0.692055 -0.767213                 1\n",
       "25    -0.269057  -0.840677   -1.794778 -0.692055  1.622218                 1\n",
       "26    -0.269057   0.048145    0.333417 -1.498332  0.210282                 0\n",
       "27    -1.141675   2.270199    1.610334  1.323639 -1.093044                 1\n",
       "28    -0.269057  -0.396266   -0.092222 -1.095194 -0.224160                 1\n",
       "29    -1.141675  -0.396266    0.333417  0.114223 -1.093044                 0\n",
       "..          ...        ...         ...       ...       ...               ...\n",
       "60    -0.269057  -1.285088   -0.943500 -1.095194 -0.658602                 0\n",
       "61     0.603561  -0.840677    0.759056 -0.692055  0.391299                 1\n",
       "62    -1.141675   0.048145   -0.092222  2.533055 -1.093044                 0\n",
       "63    -0.269057  -0.396266    2.035973 -0.288916 -1.020637                 0\n",
       "64     0.603561  -0.840677   -0.517861  0.517361  0.029264                 1\n",
       "65    -0.269057   0.048145    1.610334  0.920500 -0.332771                 1\n",
       "66    -0.269057  -0.840677   -0.092222 -1.095194  2.201474                 1\n",
       "67    -1.141675  -1.729499   -0.517861 -1.498332 -1.093044                 0\n",
       "68    -1.141675   0.936966    2.461612  1.726778 -1.093044                 0\n",
       "69     1.476178   0.492555   -0.092222  0.114223 -0.187957                 1\n",
       "70    -0.269057  -0.396266    0.759056 -0.692055 -0.875823                 0\n",
       "71    -0.269057   0.048145   -0.092222  0.517361  1.296387                 1\n",
       "72    -1.141675  -1.285088   -0.092222  0.114223 -1.093044                 0\n",
       "73    -0.269057   0.048145    0.759056  0.114223  0.572317                 1\n",
       "74    -1.141675  -1.729499   -0.943500 -1.095194 -1.093044                 0\n",
       "75    -1.141675  -0.396266   -0.943500 -1.901471 -1.093044                 0\n",
       "76     1.476178   0.936966    0.759056  1.726778  0.644724                 1\n",
       "77    -0.269057  -0.396266   -0.092222 -0.288916  0.970555                 1\n",
       "78     0.603561   0.048145   -0.943500  0.114223 -0.549992                 1\n",
       "79    -1.141675  -0.396266    1.184695  0.920500 -1.093044                 0\n",
       "80    -0.269057  -0.840677   -0.517861 -1.095194  0.753334                 0\n",
       "81    -0.269057   0.048145    0.759056 -1.095194  2.201474                 0\n",
       "82     0.603561   1.381377   -0.517861  0.517361  0.789538                 1\n",
       "83     0.603561   0.492555   -0.517861  1.323639  0.680927                 1\n",
       "84     0.603561  -0.840677    1.184695  0.114223  0.861945                 0\n",
       "85    -0.269057   0.936966   -1.794778 -0.692055  0.101671                 0\n",
       "86    -1.141675   0.936966    0.759056 -0.692055 -1.093044                 0\n",
       "87    -0.269057   1.381377    1.184695  0.114223 -0.912027                 1\n",
       "88     0.603561   0.492555    1.184695  0.920500  0.825741                 1\n",
       "89    -0.269057   0.936966    1.184695  2.129917  1.694625                 1\n",
       "\n",
       "[90 rows x 6 columns]"
      ]
     },
     "execution_count": 4,
     "metadata": {},
     "output_type": "execute_result"
    }
   ],
   "source": [
    "df_train"
   ]
  },
  {
   "cell_type": "code",
   "execution_count": 5,
   "metadata": {},
   "outputs": [],
   "source": [
    "RandomForestClassifier?"
   ]
  },
  {
   "cell_type": "markdown",
   "metadata": {},
   "source": [
    "## Random Forest"
   ]
  },
  {
   "cell_type": "code",
   "execution_count": 6,
   "metadata": {},
   "outputs": [
    {
     "data": {
      "text/plain": [
       "[DecisionTreeClassifier(class_weight=None, criterion='gini', max_depth=5,\n",
       "             max_features='auto', max_leaf_nodes=None,\n",
       "             min_impurity_decrease=0.0, min_impurity_split=None,\n",
       "             min_samples_leaf=1, min_samples_split=2,\n",
       "             min_weight_fraction_leaf=0.0, presort=False,\n",
       "             random_state=104294493, splitter='best'),\n",
       " DecisionTreeClassifier(class_weight=None, criterion='gini', max_depth=5,\n",
       "             max_features='auto', max_leaf_nodes=None,\n",
       "             min_impurity_decrease=0.0, min_impurity_split=None,\n",
       "             min_samples_leaf=1, min_samples_split=2,\n",
       "             min_weight_fraction_leaf=0.0, presort=False,\n",
       "             random_state=959006163, splitter='best'),\n",
       " DecisionTreeClassifier(class_weight=None, criterion='gini', max_depth=5,\n",
       "             max_features='auto', max_leaf_nodes=None,\n",
       "             min_impurity_decrease=0.0, min_impurity_split=None,\n",
       "             min_samples_leaf=1, min_samples_split=2,\n",
       "             min_weight_fraction_leaf=0.0, presort=False,\n",
       "             random_state=1431719631, splitter='best'),\n",
       " DecisionTreeClassifier(class_weight=None, criterion='gini', max_depth=5,\n",
       "             max_features='auto', max_leaf_nodes=None,\n",
       "             min_impurity_decrease=0.0, min_impurity_split=None,\n",
       "             min_samples_leaf=1, min_samples_split=2,\n",
       "             min_weight_fraction_leaf=0.0, presort=False,\n",
       "             random_state=1811613823, splitter='best'),\n",
       " DecisionTreeClassifier(class_weight=None, criterion='gini', max_depth=5,\n",
       "             max_features='auto', max_leaf_nodes=None,\n",
       "             min_impurity_decrease=0.0, min_impurity_split=None,\n",
       "             min_samples_leaf=1, min_samples_split=2,\n",
       "             min_weight_fraction_leaf=0.0, presort=False,\n",
       "             random_state=34371839, splitter='best')]"
      ]
     },
     "execution_count": 6,
     "metadata": {},
     "output_type": "execute_result"
    }
   ],
   "source": [
    "# n_estimators should be a factor of the number of samples\n",
    "# here we only have 90 training samples\n",
    "# n_jobs trains 2 in parallel (optional)\n",
    "\n",
    "# after visual inspection of a few trees\n",
    "# the trees are too specific and deep (1-3 samples at the leaf nodes)\n",
    "#\n",
    "# In practice, you can try plotting max_depth vs. accuracy in \n",
    "# a learning curve (more rigorous approach)\n",
    "rf = RandomForestClassifier(n_estimators=5, n_jobs=2, max_depth=5)\n",
    "\n",
    "# cross_validate is redundant because bagging is\n",
    "# applying a similar concept, just not repeating samples\n",
    "# more importantly, our dataset is too small, so\n",
    "# at cv=3, we have 6 validation & 12 training\n",
    "\n",
    "# 90 train / 5 trees = 18 per tree\n",
    "# at cv=3, we have 18/3 = 6 val, 12 train\n",
    "\n",
    "target = 'Man of the Match'\n",
    "Z_train = df_train.loc[:, df_train.columns != target]\n",
    "y_train = df_train[target]\n",
    "\n",
    "rf.fit(Z_train, y_train) # typically we have used cross_validate\n",
    "\n",
    "# show the trees\n",
    "rf.estimators_"
   ]
  },
  {
   "cell_type": "code",
   "execution_count": 7,
   "metadata": {},
   "outputs": [
    {
     "data": {
      "text/plain": [
       "0.7"
      ]
     },
     "execution_count": 7,
     "metadata": {},
     "output_type": "execute_result"
    }
   ],
   "source": [
    "# returns accuracy\n",
    "Z_test = df_test.loc[:, df_test.columns != target]\n",
    "y_test = df_test[target]\n",
    "rf.score(Z_test, y_test)"
   ]
  },
  {
   "cell_type": "code",
   "execution_count": 8,
   "metadata": {},
   "outputs": [
    {
     "name": "stdout",
     "output_type": "stream",
     "text": [
      "              precision    recall  f1-score   support\n",
      "\n",
      "           0       0.80      0.67      0.73        18\n",
      "           1       0.60      0.75      0.67        12\n",
      "\n",
      "   micro avg       0.70      0.70      0.70        30\n",
      "   macro avg       0.70      0.71      0.70        30\n",
      "weighted avg       0.72      0.70      0.70        30\n",
      "\n"
     ]
    }
   ],
   "source": [
    "y_pred = rf.predict(Z_test)\n",
    "print(classification_report(y_test, y_pred)) # any improvement???"
   ]
  },
  {
   "cell_type": "code",
   "execution_count": 9,
   "metadata": {},
   "outputs": [
    {
     "data": {
      "text/plain": [
       "array([0.32359481, 0.14347275, 0.16019584, 0.21134958, 0.16138702])"
      ]
     },
     "execution_count": 9,
     "metadata": {},
     "output_type": "execute_result"
    }
   ],
   "source": [
    "# inspect the first tree\n",
    "rf.estimators_[0].feature_importances_ "
   ]
  },
  {
   "cell_type": "code",
   "execution_count": 10,
   "metadata": {},
   "outputs": [
    {
     "data": {
      "text/plain": [
       "array([0.48809661, 0.10146116, 0.23688948, 0.08245596, 0.09109679])"
      ]
     },
     "execution_count": 10,
     "metadata": {},
     "output_type": "execute_result"
    }
   ],
   "source": [
    "rf.estimators_[1].feature_importances_ "
   ]
  },
  {
   "cell_type": "code",
   "execution_count": 11,
   "metadata": {},
   "outputs": [
    {
     "data": {
      "text/plain": [
       "Index(['Goal Scored', 'On-Target', 'Off-Target', 'Corners', '1st Goal'], dtype='object')"
      ]
     },
     "execution_count": 11,
     "metadata": {},
     "output_type": "execute_result"
    }
   ],
   "source": [
    "Z_train.columns"
   ]
  },
  {
   "cell_type": "code",
   "execution_count": 12,
   "metadata": {},
   "outputs": [],
   "source": [
    "def plot_tree(tree, columns, filename):\n",
    "    from sklearn.tree import export_graphviz\n",
    "    import graphviz\n",
    "\n",
    "    export_graphviz(tree,\n",
    "                    out_file=filename,\n",
    "                    feature_names=columns,\n",
    "                    filled=True,\n",
    "                    rounded=True)\n",
    "    source = graphviz.Source.from_file(filename)\n",
    "    source.render(view=True)\n",
    "\n",
    "plot_tree(rf.estimators_[0], Z_train.columns, 'fifa_tree1_depth5.dot')"
   ]
  },
  {
   "cell_type": "code",
   "execution_count": 13,
   "metadata": {},
   "outputs": [],
   "source": [
    "plot_tree(rf.estimators_[1], Z_train.columns, 'fifa_tree2_depth5.dot')"
   ]
  },
  {
   "cell_type": "code",
   "execution_count": null,
   "metadata": {},
   "outputs": [],
   "source": []
  },
  {
   "cell_type": "code",
   "execution_count": 14,
   "metadata": {},
   "outputs": [
    {
     "data": {
      "text/plain": [
       "Index(['Goal Scored', 'On-Target', 'Off-Target', 'Corners', '1st Goal',\n",
       "       'Man of the Match'],\n",
       "      dtype='object')"
      ]
     },
     "execution_count": 14,
     "metadata": {},
     "output_type": "execute_result"
    }
   ],
   "source": [
    "df_train.columns"
   ]
  },
  {
   "cell_type": "code",
   "execution_count": null,
   "metadata": {},
   "outputs": [],
   "source": []
  },
  {
   "cell_type": "markdown",
   "metadata": {},
   "source": [
    "## Ada Boost"
   ]
  },
  {
   "cell_type": "code",
   "execution_count": 15,
   "metadata": {},
   "outputs": [
    {
     "data": {
      "text/plain": [
       "AdaBoostClassifier(algorithm='SAMME.R',\n",
       "          base_estimator=DecisionTreeClassifier(class_weight=None, criterion='gini', max_depth=7,\n",
       "            max_features=None, max_leaf_nodes=None,\n",
       "            min_impurity_decrease=0.0, min_impurity_split=None,\n",
       "            min_samples_leaf=1, min_samples_split=2,\n",
       "            min_weight_fraction_leaf=0.0, presort=False, random_state=None,\n",
       "            splitter='best'),\n",
       "          learning_rate=1.0, n_estimators=50, random_state=None)"
      ]
     },
     "execution_count": 15,
     "metadata": {},
     "output_type": "execute_result"
    }
   ],
   "source": [
    "# limit max_depth to avoid poor performance in boosting\n",
    "# due to overfitting in the first generation tree\n",
    "#\n",
    "# max_depth determined by visual inspection of first gen tree\n",
    "# can tune max_depth by plotting accuracy vs. depth\n",
    "model = DecisionTreeClassifier(max_depth=7)\n",
    "\n",
    "ada = AdaBoostClassifier(model, n_estimators=50)\n",
    "ada.fit(Z_train, y_train)"
   ]
  },
  {
   "cell_type": "code",
   "execution_count": 16,
   "metadata": {},
   "outputs": [
    {
     "data": {
      "text/plain": [
       "50"
      ]
     },
     "execution_count": 16,
     "metadata": {},
     "output_type": "execute_result"
    }
   ],
   "source": [
    "# how many models were generated\n",
    "len(ada.estimators_)"
   ]
  },
  {
   "cell_type": "code",
   "execution_count": 17,
   "metadata": {},
   "outputs": [
    {
     "data": {
      "text/plain": [
       "[Text(0, 0.5, 'estimator error'), Text(0.5, 0, 'n_estimators')]"
      ]
     },
     "execution_count": 17,
     "metadata": {},
     "output_type": "execute_result"
    },
    {
     "data": {
      "image/png": "[encoded data removed]",
      "text/plain": [
       "<Figure size 432x288 with 1 Axes>"
      ]
     },
     "metadata": {
      "needs_background": "light"
     },
     "output_type": "display_data"
    }
   ],
   "source": [
    "# errors for each successive generation (lower = better)\n",
    "# looks like n_estimators=3 is good enough\n",
    "fig, ax = plt.subplots()\n",
    "ax.plot(ada.estimator_errors_, marker='o')\n",
    "ax.set(xlabel='n_estimators', ylabel='estimator error')\n",
    "\n",
    "# but, what is this error on? Training set?"
   ]
  },
  {
   "cell_type": "code",
   "execution_count": 18,
   "metadata": {},
   "outputs": [
    {
     "data": {
      "text/plain": [
       "array([1., 1., 1., 1., 1., 1., 1., 1., 1., 1., 1., 1., 1., 1., 1., 1., 1.,\n",
       "       1., 1., 1., 1., 1., 1., 1., 1., 1., 1., 1., 1., 1., 1., 1., 1., 1.,\n",
       "       1., 1., 1., 1., 1., 1., 1., 1., 1., 1., 1., 1., 1., 1., 1., 1.])"
      ]
     },
     "execution_count": 18,
     "metadata": {},
     "output_type": "execute_result"
    }
   ],
   "source": [
    "# weights for each successive generation (higher = better)\n",
    "ada.estimator_weights_"
   ]
  },
  {
   "cell_type": "code",
   "execution_count": 20,
   "metadata": {},
   "outputs": [],
   "source": [
    "plot_tree(ada.estimators_[0], Z_train.columns, 'fifa_boost_tree1.dot')"
   ]
  },
  {
   "cell_type": "code",
   "execution_count": 21,
   "metadata": {},
   "outputs": [],
   "source": [
    "plot_tree(ada.estimators_[1], Z_train.columns, 'fifa_boost_tree2.dot')"
   ]
  },
  {
   "cell_type": "code",
   "execution_count": 22,
   "metadata": {},
   "outputs": [
    {
     "data": {
      "text/plain": [
       "array([0.06435882, 0.26295221, 0.23144911, 0.16360988, 0.27762999])"
      ]
     },
     "execution_count": 22,
     "metadata": {},
     "output_type": "execute_result"
    }
   ],
   "source": [
    "ada.feature_importances_"
   ]
  },
  {
   "cell_type": "code",
   "execution_count": 23,
   "metadata": {},
   "outputs": [
    {
     "name": "stdout",
     "output_type": "stream",
     "text": [
      "              precision    recall  f1-score   support\n",
      "\n",
      "           0       0.77      0.56      0.65        18\n",
      "           1       0.53      0.75      0.62        12\n",
      "\n",
      "   micro avg       0.63      0.63      0.63        30\n",
      "   macro avg       0.65      0.65      0.63        30\n",
      "weighted avg       0.67      0.63      0.64        30\n",
      "\n"
     ]
    }
   ],
   "source": [
    "# evaluate on test set\n",
    "y_pred_ada = ada.predict(Z_test)\n",
    "print(classification_report(y_test, y_pred_ada))"
   ]
  },
  {
   "cell_type": "code",
   "execution_count": null,
   "metadata": {},
   "outputs": [],
   "source": []
  }
 ],
 "metadata": {
  "kernelspec": {
   "display_name": "Python 3",
   "language": "python",
   "name": "python3"
  },
  "language_info": {
   "codemirror_mode": {
    "name": "ipython",
    "version": 3
   },
   "file_extension": ".py",
   "mimetype": "text/x-python",
   "name": "python",
   "nbconvert_exporter": "python",
   "pygments_lexer": "ipython3",
   "version": "3.6.7"
  }
 },
 "nbformat": 4,
 "nbformat_minor": 2
}
