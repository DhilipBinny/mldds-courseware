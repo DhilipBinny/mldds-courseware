{
 "cells": [
  {
   "cell_type": "markdown",
   "metadata": {},
   "source": [
    "# Classifying movie reviews into positive or negative reviews\n",
    "\n",
    "IMDB: Internet Movie Database: https://www.imdb.com/\n",
    "\n",
    "Dataset (smaller version): https://www.kaggle.com/utathya/imdb-review-dataset/version/1\n",
    "\n",
    "This workshop covers:\n",
    "- Loading the text dataset\n",
    "- Text Processing Techniques\n",
    "- Text Vectorisation\n",
    "- Visualising Text Vectors\n",
    "- Training a Classifier using Text Vectors"
   ]
  },
  {
   "cell_type": "code",
   "execution_count": 1,
   "metadata": {},
   "outputs": [],
   "source": [
    "import matplotlib.pyplot as plt\n",
    "import pandas as pd\n",
    "import numpy as np\n",
    "import seaborn as sns\n",
    "\n",
    "%matplotlib inline"
   ]
  },
  {
   "cell_type": "markdown",
   "metadata": {},
   "source": [
    "## Load data"
   ]
  },
  {
   "cell_type": "code",
   "execution_count": 2,
   "metadata": {},
   "outputs": [
    {
     "data": {
      "text/plain": [
       "pos    25000\n",
       "neg    25000\n",
       "Name: label, dtype: int64"
      ]
     },
     "execution_count": 2,
     "metadata": {},
     "output_type": "execute_result"
    }
   ],
   "source": [
    "df = pd.read_csv('imdb_master.csv',\n",
    "                 encoding='latin_1', index_col=0)\n",
    "\n",
    "df1 = df.loc[df.label != 'unsup']\n",
    "\n",
    "df1.label.value_counts() # count each label value"
   ]
  },
  {
   "cell_type": "code",
   "execution_count": 3,
   "metadata": {},
   "outputs": [],
   "source": [
    "df_train = df1.loc[df1.type == 'train']\n",
    "df_test = df1.loc[df1.type == 'test']"
   ]
  },
  {
   "cell_type": "code",
   "execution_count": 4,
   "metadata": {},
   "outputs": [],
   "source": [
    "df_train = df_train.sample(n=2000, random_state=42)\n",
    "df_test = df_test.sample(n=2000, random_state=42)"
   ]
  },
  {
   "cell_type": "code",
   "execution_count": 5,
   "metadata": {},
   "outputs": [
    {
     "data": {
      "text/html": [
       "<div>\n",
       "<style scoped>\n",
       "    .dataframe tbody tr th:only-of-type {\n",
       "        vertical-align: middle;\n",
       "    }\n",
       "\n",
       "    .dataframe tbody tr th {\n",
       "        vertical-align: top;\n",
       "    }\n",
       "\n",
       "    .dataframe thead th {\n",
       "        text-align: right;\n",
       "    }\n",
       "</style>\n",
       "<table border=\"1\" class=\"dataframe\">\n",
       "  <thead>\n",
       "    <tr style=\"text-align: right;\">\n",
       "      <th></th>\n",
       "      <th>type</th>\n",
       "      <th>review</th>\n",
       "      <th>label</th>\n",
       "      <th>file</th>\n",
       "    </tr>\n",
       "  </thead>\n",
       "  <tbody>\n",
       "    <tr>\n",
       "      <th>31868</th>\n",
       "      <td>train</td>\n",
       "      <td>Silent Night, Deadly Night 5 is the very last ...</td>\n",
       "      <td>neg</td>\n",
       "      <td>4932_4.txt</td>\n",
       "    </tr>\n",
       "    <tr>\n",
       "      <th>49016</th>\n",
       "      <td>train</td>\n",
       "      <td>The idea ia a very short film with a lot of in...</td>\n",
       "      <td>pos</td>\n",
       "      <td>9115_10.txt</td>\n",
       "    </tr>\n",
       "    <tr>\n",
       "      <th>34668</th>\n",
       "      <td>train</td>\n",
       "      <td>For me, this movie just seemed to fall on its ...</td>\n",
       "      <td>neg</td>\n",
       "      <td>7452_4.txt</td>\n",
       "    </tr>\n",
       "    <tr>\n",
       "      <th>38640</th>\n",
       "      <td>train</td>\n",
       "      <td>Was this based on a comic-book? A video-game? ...</td>\n",
       "      <td>pos</td>\n",
       "      <td>11026_7.txt</td>\n",
       "    </tr>\n",
       "    <tr>\n",
       "      <th>39018</th>\n",
       "      <td>train</td>\n",
       "      <td>Caution: May contain spoilers...&lt;br /&gt;&lt;br /&gt;I'...</td>\n",
       "      <td>pos</td>\n",
       "      <td>11367_10.txt</td>\n",
       "    </tr>\n",
       "  </tbody>\n",
       "</table>\n",
       "</div>"
      ],
      "text/plain": [
       "        type                                             review label  \\\n",
       "31868  train  Silent Night, Deadly Night 5 is the very last ...   neg   \n",
       "49016  train  The idea ia a very short film with a lot of in...   pos   \n",
       "34668  train  For me, this movie just seemed to fall on its ...   neg   \n",
       "38640  train  Was this based on a comic-book? A video-game? ...   pos   \n",
       "39018  train  Caution: May contain spoilers...<br /><br />I'...   pos   \n",
       "\n",
       "               file  \n",
       "31868    4932_4.txt  \n",
       "49016   9115_10.txt  \n",
       "34668    7452_4.txt  \n",
       "38640   11026_7.txt  \n",
       "39018  11367_10.txt  "
      ]
     },
     "execution_count": 5,
     "metadata": {},
     "output_type": "execute_result"
    }
   ],
   "source": [
    "df_train.head()"
   ]
  },
  {
   "cell_type": "code",
   "execution_count": 6,
   "metadata": {},
   "outputs": [
    {
     "data": {
      "text/plain": [
       "'Silent Night, Deadly Night 5 is the very last of the series, and like part 4, it\\'s unrelated to the first three except by title and the fact that it\\'s a Christmas-themed horror flick.<br /><br />Except to the oblivious, there\\'s some obvious things going on here...Mickey Rooney plays a toymaker named Joe Petto and his creepy son\\'s name is Pino. Ring a bell, anyone? Now, a little boy named Derek heard a knock at the door one evening, and opened it to find a present on the doorstep for him. Even though it said \"don\\'t open till Christmas\", he begins to open it anyway but is stopped by his dad, who scolds him and sends him to bed, and opens the gift himself. Inside is a little red ball that sprouts Santa arms and a head, and proceeds to kill dad. Oops, maybe he should have left well-enough alone. Of course Derek is then traumatized by the incident since he watched it from the stairs, but he doesn\\'t grow up to be some killer Santa, he just stops talking.<br /><br />There\\'s a mysterious stranger lurking around, who seems very interested in the toys that Joe Petto makes. We even see him buying a bunch when Derek\\'s mom takes him to the store to find a gift for him to bring him out of his trauma. And what exactly is this guy doing? Well, we\\'re not sure but he does seem to be taking these toys apart to see what makes them tick. He does keep his landlord from evicting him by promising him to pay him in cash the next day and presents him with a \"Larry the Larvae\" toy for his kid, but of course \"Larry\" is not a good toy and gets out of the box in the car and of course, well, things aren\\'t pretty.<br /><br />Anyway, eventually what\\'s going on with Joe Petto and Pino is of course revealed, and as with the old story, Pino is not a \"real boy\". Pino is probably even more agitated and naughty because he suffers from \"Kenitalia\" (a smooth plastic crotch) so that could account for his evil ways. And the identity of the lurking stranger is revealed too, and there\\'s even kind of a happy ending of sorts. Whee.<br /><br />A step up from part 4, but not much of one. Again, Brian Yuzna is involved, and Screaming Mad George, so some decent special effects, but not enough to make this great. A few leftovers from part 4 are hanging around too, like Clint Howard and Neith Hunter, but that doesn\\'t really make any difference. Anyway, I now have seeing the whole series out of my system. Now if I could get some of it out of my brain. 4 out of 5.'"
      ]
     },
     "execution_count": 6,
     "metadata": {},
     "output_type": "execute_result"
    }
   ],
   "source": [
    "df_train.iloc[0]['review'] # 1 document"
   ]
  },
  {
   "cell_type": "markdown",
   "metadata": {},
   "source": [
    "# Process Text\n",
    "\n",
    "## Text processing:\n",
    "- Tokenise: split text into words\n",
    "- Lemmatise: look at word form, considering noun, adjective, etc\n",
    "- Stem: get the word stem (bluntly chop off the end)\n",
    "\n",
    "### Goals:\n",
    "- Identify unique words\n",
    "- Avoid duplicating the same word form (e.g. cat, cats) in order to keep number of features small\n",
    "\n",
    "### Curse of Dimensionality:\n",
    "- 1 word is at least 1 feature (not considering N-grams - sequences of N words)\n",
    "- Reducing number of words will improve scalability"
   ]
  },
  {
   "cell_type": "markdown",
   "metadata": {},
   "source": [
    "## Install Natural Language Toolkit (NLTK)\n",
    "\n",
    "From Anaconda environment:\n",
    "```\n",
    "conda install nltk\n",
    "```"
   ]
  },
  {
   "cell_type": "code",
   "execution_count": 7,
   "metadata": {},
   "outputs": [
    {
     "name": "stdout",
     "output_type": "stream",
     "text": [
      "[nltk_data] Downloading package punkt to\n",
      "[nltk_data]     C:\\Users\\issohl\\AppData\\Roaming\\nltk_data...\n",
      "[nltk_data]   Package punkt is already up-to-date!\n",
      "[nltk_data] Downloading package wordnet to\n",
      "[nltk_data]     C:\\Users\\issohl\\AppData\\Roaming\\nltk_data...\n",
      "[nltk_data]   Package wordnet is already up-to-date!\n",
      "[nltk_data] Downloading package stopwords to\n",
      "[nltk_data]     C:\\Users\\issohl\\AppData\\Roaming\\nltk_data...\n",
      "[nltk_data]   Package stopwords is already up-to-date!\n"
     ]
    },
    {
     "data": {
      "text/plain": [
       "True"
      ]
     },
     "execution_count": 7,
     "metadata": {},
     "output_type": "execute_result"
    }
   ],
   "source": [
    "# Requires: conda install nltk\n",
    "import nltk\n",
    "nltk.download('punkt')\n",
    "nltk.download('wordnet')\n",
    "nltk.download('stopwords')"
   ]
  },
  {
   "cell_type": "markdown",
   "metadata": {},
   "source": [
    "## Tokenise"
   ]
  },
  {
   "cell_type": "code",
   "execution_count": 8,
   "metadata": {},
   "outputs": [
    {
     "data": {
      "text/plain": [
       "['Hello', 'this', 'is', 'a', 'test', '.']"
      ]
     },
     "execution_count": 8,
     "metadata": {},
     "output_type": "execute_result"
    }
   ],
   "source": [
    "from nltk import word_tokenize\n",
    "\n",
    "text = 'Hello this is a test.'\n",
    "\n",
    "word_tokenize(text)"
   ]
  },
  {
   "cell_type": "markdown",
   "metadata": {},
   "source": [
    "## Lemmatise"
   ]
  },
  {
   "cell_type": "code",
   "execution_count": 9,
   "metadata": {},
   "outputs": [
    {
     "data": {
      "text/plain": [
       "['he',\n",
       " 'liked',\n",
       " 'cats',\n",
       " 'and',\n",
       " 'dogs',\n",
       " ',',\n",
       " 'and',\n",
       " 'teaching',\n",
       " 'machines',\n",
       " 'to',\n",
       " 'learn']"
      ]
     },
     "execution_count": 9,
     "metadata": {},
     "output_type": "execute_result"
    }
   ],
   "source": [
    "text = 'he liked cats and dogs, and teaching machines to learn'\n",
    "\n",
    "# just tokenisation\n",
    "word_tokenize(text)"
   ]
  },
  {
   "cell_type": "code",
   "execution_count": 10,
   "metadata": {},
   "outputs": [
    {
     "data": {
      "text/plain": [
       "['he',\n",
       " 'liked',\n",
       " 'cat',\n",
       " 'and',\n",
       " 'dog',\n",
       " ',',\n",
       " 'and',\n",
       " 'teaching',\n",
       " 'machine',\n",
       " 'to',\n",
       " 'learn',\n",
       " 'fasting',\n",
       " 'mouse',\n",
       " 'men',\n",
       " 'woman']"
      ]
     },
     "execution_count": 10,
     "metadata": {},
     "output_type": "execute_result"
    }
   ],
   "source": [
    "# WordNet is a lexical database, it is used to\n",
    "# find the lemma of a word based on language rules (verb, etc)\n",
    "from nltk.stem import WordNetLemmatizer\n",
    "\n",
    "text = 'he liked cats and dogs, and teaching machines to learn fasting mice men women'\n",
    "\n",
    "# tokenisation + lemmatisation\n",
    "wnl = WordNetLemmatizer()\n",
    "\n",
    "tokens = word_tokenize(text) # tokenise into terms\n",
    "\n",
    "# Lemmatise each token and return a list\n",
    "# - Either: List comprehension,\n",
    "# - Or: For loop\n",
    "\n",
    "# Option 1: list comprehension way:\n",
    "[wnl.lemmatize(token) for token in tokens]\n",
    "\n",
    "# Option 2: For loop:\n",
    "result = []\n",
    "for token in tokens:\n",
    "    result.append(wnl.lemmatize(token))\n",
    "result"
   ]
  },
  {
   "cell_type": "markdown",
   "metadata": {},
   "source": [
    "## Stem"
   ]
  },
  {
   "cell_type": "code",
   "execution_count": 11,
   "metadata": {},
   "outputs": [
    {
     "data": {
      "text/plain": [
       "['he',\n",
       " 'like',\n",
       " 'cat',\n",
       " 'and',\n",
       " 'dog',\n",
       " ',',\n",
       " 'and',\n",
       " 'teach',\n",
       " 'machin',\n",
       " 'to',\n",
       " 'learn',\n",
       " 'fast',\n",
       " 'mice',\n",
       " 'men',\n",
       " 'women']"
      ]
     },
     "execution_count": 11,
     "metadata": {},
     "output_type": "execute_result"
    }
   ],
   "source": [
    "# Stemmer looks at word endings and chops it off\n",
    "# based on some rules, e.g: es -> e\n",
    "from nltk.stem import SnowballStemmer\n",
    "\n",
    "text = 'he liked cats and dogs, and teaching machines to learn fasting mice men women'\n",
    "stem = SnowballStemmer(language='english')\n",
    "\n",
    "# tokenise, then stem\n",
    "tokens = word_tokenize(text)\n",
    "[stem.stem(token) for token in tokens]"
   ]
  },
  {
   "cell_type": "markdown",
   "metadata": {},
   "source": [
    "## Stop words"
   ]
  },
  {
   "cell_type": "code",
   "execution_count": 12,
   "metadata": {},
   "outputs": [
    {
     "data": {
      "text/plain": [
       "['liked', 'cats', 'dogs', ',', 'teaching', 'machines', 'learn']"
      ]
     },
     "execution_count": 12,
     "metadata": {},
     "output_type": "execute_result"
    }
   ],
   "source": [
    "from nltk.corpus import stopwords\n",
    "stop = set(stopwords.words('english'))\n",
    "\n",
    "text = 'he liked cats and dogs, and teaching machines to learn'\n",
    "\n",
    "# lower case\n",
    "lower = text.lower()\n",
    "\n",
    "# tokenize\n",
    "tokens = word_tokenize(lower)\n",
    "\n",
    "# remove stop words\n",
    "# for each token, add to list if it is not in the stopword list\n",
    "[token for token in tokens if (not token in stop)]"
   ]
  },
  {
   "cell_type": "code",
   "execution_count": 13,
   "metadata": {},
   "outputs": [],
   "source": [
    "# add / remove words to stoplist\n",
    "# This changes the local copy, not the original stoplist\n",
    "\n",
    "stop.add('la')\n",
    "stop.remove('because') # changes the stop list in-place\n",
    "                       # so running this cell again will return\n",
    "                       # KeyError"
   ]
  },
  {
   "cell_type": "code",
   "execution_count": 14,
   "metadata": {},
   "outputs": [
    {
     "name": "stdout",
     "output_type": "stream",
     "text": [
      "{'should', 'those', 'itself', 'has', 'now', 'off', \"you'll\", 'doesn', 'about', \"hasn't\", 'a', 'who', 's', \"mustn't\", 'themselves', 'm', 'its', 'above', 'which', 'yourself', 'below', 'why', \"needn't\", 'don', 'yourselves', 'do', 'few', \"should've\", 'theirs', 'isn', 'after', 'them', 'where', \"you'd\", 'were', \"wouldn't\", 'then', 'of', \"you're\", 'just', \"mightn't\", 'mustn', 'she', 'if', 'can', 'or', \"wasn't\", 'won', 'this', 'each', 'from', 'under', 'his', 're', \"hadn't\", 'than', 'further', 'how', 'aren', 'but', 'have', 'couldn', \"doesn't\", \"isn't\", 'here', 'by', 'any', 'are', 'i', 'y', 'didn', 'yours', 'does', 'over', 'all', 'will', 'in', 'her', 'whom', 'at', 'am', 'down', 'some', 'me', 'not', 'between', 'weren', 'and', 't', \"shan't\", 'when', 'we', 'same', 'you', 'was', 'ma', 'doing', 'o', 'my', 'our', 'an', 'again', 'himself', 'nor', 'into', 'hadn', 'la', 'he', \"couldn't\", 'there', \"won't\", 'having', 'only', 'it', \"don't\", 'shouldn', 'as', 'so', 'hasn', 'shan', 'they', 'had', 'that', 'll', 'what', 'more', 'being', \"she's\", 'is', 'your', 'these', 'both', 'such', 'be', 'with', \"weren't\", 'needn', 'out', 'the', 'up', 'myself', 'ain', 'd', 'ours', 'their', 'to', 'very', 've', 'most', 'no', 'before', 'through', 'did', 'once', 'until', 'other', 'too', 'been', 'haven', 'while', 'for', \"you've\", 'wasn', 'wouldn', 'mightn', 'ourselves', 'him', 'during', \"that'll\", 'on', 'own', 'herself', \"didn't\", \"haven't\", \"it's\", 'against', 'hers', \"aren't\", \"shouldn't\"}\n"
     ]
    }
   ],
   "source": [
    "print(stop)"
   ]
  },
  {
   "cell_type": "markdown",
   "metadata": {},
   "source": [
    "# Vectorise Text\n",
    "\n",
    "Vectorisation converts words into vectors of numbers\n",
    "\n",
    "Common ways:\n",
    "- By word count: CountVectorizer\n",
    "- By word and document frequency: TfidfVectorizer\n",
    "- By word vectors (gensim Word2Vec)"
   ]
  },
  {
   "cell_type": "markdown",
   "metadata": {},
   "source": [
    "## Word Count Vectorisation\n",
    "\n",
    "* Words that are used more frequently get a higher count"
   ]
  },
  {
   "cell_type": "code",
   "execution_count": 15,
   "metadata": {},
   "outputs": [
    {
     "name": "stdout",
     "output_type": "stream",
     "text": [
      "  (0, 1)\t1\n",
      "  (0, 2)\t1\n",
      "  (0, 6)\t1\n",
      "  (0, 3)\t1\n",
      "  (0, 8)\t1\n",
      "  (1, 5)\t1\n",
      "  (1, 1)\t2\n",
      "  (1, 6)\t1\n",
      "  (1, 3)\t1\n",
      "  (1, 8)\t1\n",
      "  (2, 4)\t1\n",
      "  (2, 7)\t1\n",
      "  (2, 0)\t1\n",
      "  (2, 6)\t1\n",
      "  (2, 3)\t1\n",
      "  (2, 8)\t1\n",
      "  (3, 1)\t1\n",
      "  (3, 2)\t1\n",
      "  (3, 6)\t1\n",
      "  (3, 3)\t1\n",
      "  (3, 8)\t1\n"
     ]
    }
   ],
   "source": [
    "from sklearn.feature_extraction.text import CountVectorizer\n",
    "corpus = [\n",
    "   'This is the first document.',\n",
    "   'This document is the second document.',\n",
    "   'And this is the third one.',\n",
    "   'Is this the first document?',\n",
    "]\n",
    "\n",
    "cv = CountVectorizer()\n",
    "\n",
    "# returns a sparse matrix\n",
    "# sparse matrix: efficient format for matrices with a lot of 0s\n",
    "# why 0s? same words are not always used in every document\n",
    "result = cv.fit_transform(corpus)\n",
    "print(result) \n",
    "\n",
    "#   (0, 1)\t1\n",
    "# means (row, column) non-zero value\n",
    "# usually sorted by rows, but not always by column"
   ]
  },
  {
   "cell_type": "code",
   "execution_count": 16,
   "metadata": {},
   "outputs": [
    {
     "data": {
      "text/plain": [
       "matrix([[0, 1, 1, 1, 0, 0, 1, 0, 1],\n",
       "        [0, 2, 0, 1, 0, 1, 1, 0, 1],\n",
       "        [1, 0, 0, 1, 1, 0, 1, 1, 1],\n",
       "        [0, 1, 1, 1, 0, 0, 1, 0, 1]], dtype=int64)"
      ]
     },
     "execution_count": 16,
     "metadata": {},
     "output_type": "execute_result"
    }
   ],
   "source": [
    "# convert sparse matrix to dense matrix\n",
    "result.todense()"
   ]
  },
  {
   "cell_type": "code",
   "execution_count": 17,
   "metadata": {},
   "outputs": [
    {
     "data": {
      "text/html": [
       "<div>\n",
       "<style scoped>\n",
       "    .dataframe tbody tr th:only-of-type {\n",
       "        vertical-align: middle;\n",
       "    }\n",
       "\n",
       "    .dataframe tbody tr th {\n",
       "        vertical-align: top;\n",
       "    }\n",
       "\n",
       "    .dataframe thead th {\n",
       "        text-align: right;\n",
       "    }\n",
       "</style>\n",
       "<table border=\"1\" class=\"dataframe\">\n",
       "  <thead>\n",
       "    <tr style=\"text-align: right;\">\n",
       "      <th></th>\n",
       "      <th>and</th>\n",
       "      <th>document</th>\n",
       "      <th>first</th>\n",
       "      <th>is</th>\n",
       "      <th>one</th>\n",
       "      <th>second</th>\n",
       "      <th>the</th>\n",
       "      <th>third</th>\n",
       "      <th>this</th>\n",
       "      <th>text</th>\n",
       "    </tr>\n",
       "  </thead>\n",
       "  <tbody>\n",
       "    <tr>\n",
       "      <th>0</th>\n",
       "      <td>0</td>\n",
       "      <td>1</td>\n",
       "      <td>1</td>\n",
       "      <td>1</td>\n",
       "      <td>0</td>\n",
       "      <td>0</td>\n",
       "      <td>1</td>\n",
       "      <td>0</td>\n",
       "      <td>1</td>\n",
       "      <td>This is the first document.</td>\n",
       "    </tr>\n",
       "    <tr>\n",
       "      <th>1</th>\n",
       "      <td>0</td>\n",
       "      <td>2</td>\n",
       "      <td>0</td>\n",
       "      <td>1</td>\n",
       "      <td>0</td>\n",
       "      <td>1</td>\n",
       "      <td>1</td>\n",
       "      <td>0</td>\n",
       "      <td>1</td>\n",
       "      <td>This document is the second document.</td>\n",
       "    </tr>\n",
       "    <tr>\n",
       "      <th>2</th>\n",
       "      <td>1</td>\n",
       "      <td>0</td>\n",
       "      <td>0</td>\n",
       "      <td>1</td>\n",
       "      <td>1</td>\n",
       "      <td>0</td>\n",
       "      <td>1</td>\n",
       "      <td>1</td>\n",
       "      <td>1</td>\n",
       "      <td>And this is the third one.</td>\n",
       "    </tr>\n",
       "    <tr>\n",
       "      <th>3</th>\n",
       "      <td>0</td>\n",
       "      <td>1</td>\n",
       "      <td>1</td>\n",
       "      <td>1</td>\n",
       "      <td>0</td>\n",
       "      <td>0</td>\n",
       "      <td>1</td>\n",
       "      <td>0</td>\n",
       "      <td>1</td>\n",
       "      <td>Is this the first document?</td>\n",
       "    </tr>\n",
       "  </tbody>\n",
       "</table>\n",
       "</div>"
      ],
      "text/plain": [
       "   and  document  first  is  one  second  the  third  this  \\\n",
       "0    0         1      1   1    0       0    1      0     1   \n",
       "1    0         2      0   1    0       1    1      0     1   \n",
       "2    1         0      0   1    1       0    1      1     1   \n",
       "3    0         1      1   1    0       0    1      0     1   \n",
       "\n",
       "                                    text  \n",
       "0            This is the first document.  \n",
       "1  This document is the second document.  \n",
       "2             And this is the third one.  \n",
       "3            Is this the first document?  "
      ]
     },
     "execution_count": 17,
     "metadata": {},
     "output_type": "execute_result"
    }
   ],
   "source": [
    "# vocabulary\n",
    "col_name = cv.get_feature_names()\n",
    "\n",
    "# create dataframe with count vectors as data\n",
    "# and vocabulary as headers\n",
    "temp = pd.DataFrame(result.todense(), columns=col_name)\n",
    "\n",
    "# add the original text as the 'text column \n",
    "temp['text'] = corpus\n",
    "\n",
    "temp"
   ]
  },
  {
   "cell_type": "code",
   "execution_count": null,
   "metadata": {},
   "outputs": [],
   "source": []
  },
  {
   "cell_type": "markdown",
   "metadata": {},
   "source": [
    "## Word and Document Frequency (TF-IDF) Vectorisation\n",
    "\n",
    "- TF: Term Frequency: rewards words commonly used in a document\n",
    "- IDF: Inverse Document Frequency: penalises words commonly used in all documents"
   ]
  },
  {
   "cell_type": "code",
   "execution_count": 18,
   "metadata": {},
   "outputs": [
    {
     "data": {
      "text/plain": [
       "matrix([[0.        , 0.46979139, 0.58028582, 0.38408524, 0.        ,\n",
       "         0.        , 0.38408524, 0.        , 0.38408524],\n",
       "        [0.        , 0.6876236 , 0.        , 0.28108867, 0.        ,\n",
       "         0.53864762, 0.28108867, 0.        , 0.28108867],\n",
       "        [0.51184851, 0.        , 0.        , 0.26710379, 0.51184851,\n",
       "         0.        , 0.26710379, 0.51184851, 0.26710379],\n",
       "        [0.        , 0.46979139, 0.58028582, 0.38408524, 0.        ,\n",
       "         0.        , 0.38408524, 0.        , 0.38408524]])"
      ]
     },
     "execution_count": 18,
     "metadata": {},
     "output_type": "execute_result"
    }
   ],
   "source": [
    "from sklearn.feature_extraction.text import TfidfVectorizer\n",
    "corpus = [\n",
    "   'This is the first document.',\n",
    "   'This document is the second document.',\n",
    "   'And this is the third one.',\n",
    "   'Is this the first document?',\n",
    "]\n",
    "\n",
    "tfidf = TfidfVectorizer()\n",
    "result = tfidf.fit_transform(corpus)\n",
    "result.todense()"
   ]
  },
  {
   "cell_type": "code",
   "execution_count": 19,
   "metadata": {},
   "outputs": [
    {
     "data": {
      "text/plain": [
       "['and', 'document', 'first', 'is', 'one', 'second', 'the', 'third', 'this']"
      ]
     },
     "execution_count": 19,
     "metadata": {},
     "output_type": "execute_result"
    }
   ],
   "source": [
    "tfidf.get_feature_names()"
   ]
  },
  {
   "cell_type": "code",
   "execution_count": 20,
   "metadata": {},
   "outputs": [
    {
     "data": {
      "text/plain": [
       "array([1.91629073, 1.22314355, 1.51082562, 1.        , 1.91629073,\n",
       "       1.91629073, 1.        , 1.91629073, 1.        ])"
      ]
     },
     "execution_count": 20,
     "metadata": {},
     "output_type": "execute_result"
    }
   ],
   "source": [
    "# inverse of how many documents contains this term\n",
    "tfidf.idf_"
   ]
  },
  {
   "cell_type": "code",
   "execution_count": 21,
   "metadata": {},
   "outputs": [
    {
     "data": {
      "text/html": [
       "<div>\n",
       "<style scoped>\n",
       "    .dataframe tbody tr th:only-of-type {\n",
       "        vertical-align: middle;\n",
       "    }\n",
       "\n",
       "    .dataframe tbody tr th {\n",
       "        vertical-align: top;\n",
       "    }\n",
       "\n",
       "    .dataframe thead th {\n",
       "        text-align: right;\n",
       "    }\n",
       "</style>\n",
       "<table border=\"1\" class=\"dataframe\">\n",
       "  <thead>\n",
       "    <tr style=\"text-align: right;\">\n",
       "      <th></th>\n",
       "      <th>0</th>\n",
       "      <th>idf</th>\n",
       "    </tr>\n",
       "  </thead>\n",
       "  <tbody>\n",
       "    <tr>\n",
       "      <th>0</th>\n",
       "      <td>and</td>\n",
       "      <td>1.916291</td>\n",
       "    </tr>\n",
       "    <tr>\n",
       "      <th>1</th>\n",
       "      <td>document</td>\n",
       "      <td>1.223144</td>\n",
       "    </tr>\n",
       "    <tr>\n",
       "      <th>2</th>\n",
       "      <td>first</td>\n",
       "      <td>1.510826</td>\n",
       "    </tr>\n",
       "    <tr>\n",
       "      <th>3</th>\n",
       "      <td>is</td>\n",
       "      <td>1.000000</td>\n",
       "    </tr>\n",
       "    <tr>\n",
       "      <th>4</th>\n",
       "      <td>one</td>\n",
       "      <td>1.916291</td>\n",
       "    </tr>\n",
       "    <tr>\n",
       "      <th>5</th>\n",
       "      <td>second</td>\n",
       "      <td>1.916291</td>\n",
       "    </tr>\n",
       "    <tr>\n",
       "      <th>6</th>\n",
       "      <td>the</td>\n",
       "      <td>1.000000</td>\n",
       "    </tr>\n",
       "    <tr>\n",
       "      <th>7</th>\n",
       "      <td>third</td>\n",
       "      <td>1.916291</td>\n",
       "    </tr>\n",
       "    <tr>\n",
       "      <th>8</th>\n",
       "      <td>this</td>\n",
       "      <td>1.000000</td>\n",
       "    </tr>\n",
       "  </tbody>\n",
       "</table>\n",
       "</div>"
      ],
      "text/plain": [
       "          0       idf\n",
       "0       and  1.916291\n",
       "1  document  1.223144\n",
       "2     first  1.510826\n",
       "3        is  1.000000\n",
       "4       one  1.916291\n",
       "5    second  1.916291\n",
       "6       the  1.000000\n",
       "7     third  1.916291\n",
       "8      this  1.000000"
      ]
     },
     "execution_count": 21,
     "metadata": {},
     "output_type": "execute_result"
    }
   ],
   "source": [
    "# inspecting the Inverse-Document Frequency for each\n",
    "# term\n",
    "temp = pd.DataFrame(tfidf.get_feature_names())\n",
    "temp['idf'] = tfidf.idf_\n",
    "temp"
   ]
  },
  {
   "cell_type": "code",
   "execution_count": 22,
   "metadata": {},
   "outputs": [
    {
     "data": {
      "text/html": [
       "<div>\n",
       "<style scoped>\n",
       "    .dataframe tbody tr th:only-of-type {\n",
       "        vertical-align: middle;\n",
       "    }\n",
       "\n",
       "    .dataframe tbody tr th {\n",
       "        vertical-align: top;\n",
       "    }\n",
       "\n",
       "    .dataframe thead th {\n",
       "        text-align: right;\n",
       "    }\n",
       "</style>\n",
       "<table border=\"1\" class=\"dataframe\">\n",
       "  <thead>\n",
       "    <tr style=\"text-align: right;\">\n",
       "      <th></th>\n",
       "      <th>and</th>\n",
       "      <th>document</th>\n",
       "      <th>first</th>\n",
       "      <th>is</th>\n",
       "      <th>one</th>\n",
       "      <th>second</th>\n",
       "      <th>the</th>\n",
       "      <th>third</th>\n",
       "      <th>this</th>\n",
       "      <th>text</th>\n",
       "    </tr>\n",
       "  </thead>\n",
       "  <tbody>\n",
       "    <tr>\n",
       "      <th>0</th>\n",
       "      <td>0.000000</td>\n",
       "      <td>0.469791</td>\n",
       "      <td>0.580286</td>\n",
       "      <td>0.384085</td>\n",
       "      <td>0.000000</td>\n",
       "      <td>0.000000</td>\n",
       "      <td>0.384085</td>\n",
       "      <td>0.000000</td>\n",
       "      <td>0.384085</td>\n",
       "      <td>This is the first document.</td>\n",
       "    </tr>\n",
       "    <tr>\n",
       "      <th>1</th>\n",
       "      <td>0.000000</td>\n",
       "      <td>0.687624</td>\n",
       "      <td>0.000000</td>\n",
       "      <td>0.281089</td>\n",
       "      <td>0.000000</td>\n",
       "      <td>0.538648</td>\n",
       "      <td>0.281089</td>\n",
       "      <td>0.000000</td>\n",
       "      <td>0.281089</td>\n",
       "      <td>This document is the second document.</td>\n",
       "    </tr>\n",
       "    <tr>\n",
       "      <th>2</th>\n",
       "      <td>0.511849</td>\n",
       "      <td>0.000000</td>\n",
       "      <td>0.000000</td>\n",
       "      <td>0.267104</td>\n",
       "      <td>0.511849</td>\n",
       "      <td>0.000000</td>\n",
       "      <td>0.267104</td>\n",
       "      <td>0.511849</td>\n",
       "      <td>0.267104</td>\n",
       "      <td>And this is the third one.</td>\n",
       "    </tr>\n",
       "    <tr>\n",
       "      <th>3</th>\n",
       "      <td>0.000000</td>\n",
       "      <td>0.469791</td>\n",
       "      <td>0.580286</td>\n",
       "      <td>0.384085</td>\n",
       "      <td>0.000000</td>\n",
       "      <td>0.000000</td>\n",
       "      <td>0.384085</td>\n",
       "      <td>0.000000</td>\n",
       "      <td>0.384085</td>\n",
       "      <td>Is this the first document?</td>\n",
       "    </tr>\n",
       "  </tbody>\n",
       "</table>\n",
       "</div>"
      ],
      "text/plain": [
       "        and  document     first        is       one    second       the  \\\n",
       "0  0.000000  0.469791  0.580286  0.384085  0.000000  0.000000  0.384085   \n",
       "1  0.000000  0.687624  0.000000  0.281089  0.000000  0.538648  0.281089   \n",
       "2  0.511849  0.000000  0.000000  0.267104  0.511849  0.000000  0.267104   \n",
       "3  0.000000  0.469791  0.580286  0.384085  0.000000  0.000000  0.384085   \n",
       "\n",
       "      third      this                                   text  \n",
       "0  0.000000  0.384085            This is the first document.  \n",
       "1  0.000000  0.281089  This document is the second document.  \n",
       "2  0.511849  0.267104             And this is the third one.  \n",
       "3  0.000000  0.384085            Is this the first document?  "
      ]
     },
     "execution_count": 22,
     "metadata": {},
     "output_type": "execute_result"
    }
   ],
   "source": [
    "# vocabulary\n",
    "col_name = tfidf.get_feature_names()\n",
    "\n",
    "# create dataframe with count vectors as data\n",
    "# and vocabulary as headers\n",
    "temp = pd.DataFrame(result.todense(), columns=col_name)\n",
    "\n",
    "# add the original text as the 'text column \n",
    "temp['text'] = corpus\n",
    "\n",
    "temp"
   ]
  },
  {
   "cell_type": "code",
   "execution_count": null,
   "metadata": {},
   "outputs": [],
   "source": []
  },
  {
   "cell_type": "code",
   "execution_count": null,
   "metadata": {},
   "outputs": [],
   "source": []
  },
  {
   "cell_type": "markdown",
   "metadata": {},
   "source": [
    "## Word2Vec\n",
    "\n",
    "Word2Vec generates word-vectors where vectors close together in vector space have similar meanings based on context, and word-vectors distant to each other have differing meanings.\n",
    "\n",
    "https://radimrehurek.com/gensim/models/word2vec.html\n",
    "\n",
    "https://radimrehurek.com/gensim/models/keyedvectors.html"
   ]
  },
  {
   "cell_type": "markdown",
   "metadata": {},
   "source": [
    "### Install gensim\n",
    "\n",
    "Gensim is a library to train word vectors and to consume pre-trained word vectors.\n",
    "\n",
    "From Anaconda environment:\n",
    "```\n",
    "conda install gensim\n",
    "```"
   ]
  },
  {
   "cell_type": "code",
   "execution_count": 23,
   "metadata": {},
   "outputs": [
    {
     "name": "stderr",
     "output_type": "stream",
     "text": [
      "C:\\Users\\issohl\\AppData\\Local\\Continuum\\anaconda3\\envs\\mldds\\lib\\site-packages\\gensim\\utils.py:1197: UserWarning: detected Windows; aliasing chunkize to chunkize_serial\n",
      "  warnings.warn(\"detected Windows; aliasing chunkize to chunkize_serial\")\n"
     ]
    },
    {
     "data": {
      "text/plain": [
       "array([-0.0241556 ,  0.0304557 , -0.00313591, -0.004926  , -0.0417055 ,\n",
       "        0.03378602,  0.02714459,  0.04138164,  0.01962712,  0.04242539],\n",
       "      dtype=float32)"
      ]
     },
     "execution_count": 23,
     "metadata": {},
     "output_type": "execute_result"
    }
   ],
   "source": [
    "from gensim.models import Word2Vec\n",
    "\n",
    "corpus = [\n",
    "    'Dashing through the snow',\n",
    "    'In a one-horse open sleigh',\n",
    "    'Over the fields we go',\n",
    "    'Laughing all the way',\n",
    "    'Bells on bob-tail ring',\n",
    "    'Making spirits bright',\n",
    "    'What fun it is to ride and sing a sleighing song tonight'\n",
    "]\n",
    "\n",
    "# split text into words\n",
    "corpus_tokens = [word_tokenize(doc.lower()) for doc in corpus]\n",
    "\n",
    "vector_size=10 # vector representation (typically about 50-100 for larger vocabs)\n",
    "window_size=3 # how many words to see around it (depending on task)\n",
    "\n",
    "# train\n",
    "word2vec = Word2Vec(corpus_tokens, size=vector_size, window=window_size,\n",
    "                    min_count=1, workers=4)\n",
    "\n",
    "# model.save(\"word2vec.model\") # save for use later\n",
    "\n",
    "word2vec.wv['snow'] # numpy vector of a word"
   ]
  },
  {
   "cell_type": "code",
   "execution_count": 24,
   "metadata": {},
   "outputs": [
    {
     "data": {
      "text/plain": [
       "array([-2.9858397e-03, -4.4529639e-05,  1.9895381e-03,  8.2571758e-03,\n",
       "        3.4722486e-03,  9.7618783e-03, -6.5765460e-03, -2.8016534e-02,\n",
       "        4.2780340e-02, -2.3609916e-02], dtype=float32)"
      ]
     },
     "execution_count": 24,
     "metadata": {},
     "output_type": "execute_result"
    }
   ],
   "source": [
    "word2vec.wv['sleigh'] # numpy vector of a word"
   ]
  },
  {
   "cell_type": "code",
   "execution_count": 25,
   "metadata": {},
   "outputs": [
    {
     "name": "stderr",
     "output_type": "stream",
     "text": [
      "C:\\Users\\issohl\\AppData\\Local\\Continuum\\anaconda3\\envs\\mldds\\lib\\site-packages\\ipykernel_launcher.py:2: DeprecationWarning: Call to deprecated `most_similar` (Method will be removed in 4.0.0, use self.wv.most_similar() instead).\n",
      "  \n"
     ]
    },
    {
     "data": {
      "text/plain": [
       "[('go', 0.8308119773864746),\n",
       " ('ride', 0.7542840242385864),\n",
       " ('spirits', 0.7060720920562744),\n",
       " ('one-horse', 0.4769761860370636),\n",
       " ('bells', 0.4632706642150879),\n",
       " ('and', 0.3797527253627777),\n",
       " ('sing', 0.364645779132843),\n",
       " ('tonight', 0.32928308844566345),\n",
       " ('open', 0.16916939616203308),\n",
       " ('in', 0.16779181361198425)]"
      ]
     },
     "execution_count": 25,
     "metadata": {},
     "output_type": "execute_result"
    }
   ],
   "source": [
    "# find similar words\n",
    "word2vec.most_similar('snow')"
   ]
  },
  {
   "cell_type": "code",
   "execution_count": 26,
   "metadata": {},
   "outputs": [
    {
     "data": {
      "text/plain": [
       "{'dashing': <gensim.models.keyedvectors.Vocab at 0x21cda005c50>,\n",
       " 'through': <gensim.models.keyedvectors.Vocab at 0x21cda005cc0>,\n",
       " 'the': <gensim.models.keyedvectors.Vocab at 0x21cda005c88>,\n",
       " 'snow': <gensim.models.keyedvectors.Vocab at 0x21cda005cf8>,\n",
       " 'in': <gensim.models.keyedvectors.Vocab at 0x21cda005d30>,\n",
       " 'a': <gensim.models.keyedvectors.Vocab at 0x21cda005d68>,\n",
       " 'one-horse': <gensim.models.keyedvectors.Vocab at 0x21cda005da0>,\n",
       " 'open': <gensim.models.keyedvectors.Vocab at 0x21cda005dd8>,\n",
       " 'sleigh': <gensim.models.keyedvectors.Vocab at 0x21cda005e10>,\n",
       " 'over': <gensim.models.keyedvectors.Vocab at 0x21cda005e48>,\n",
       " 'fields': <gensim.models.keyedvectors.Vocab at 0x21cda005e80>,\n",
       " 'we': <gensim.models.keyedvectors.Vocab at 0x21cda005eb8>,\n",
       " 'go': <gensim.models.keyedvectors.Vocab at 0x21cda005ef0>,\n",
       " 'laughing': <gensim.models.keyedvectors.Vocab at 0x21cda005f28>,\n",
       " 'all': <gensim.models.keyedvectors.Vocab at 0x21cda005f60>,\n",
       " 'way': <gensim.models.keyedvectors.Vocab at 0x21cda005f98>,\n",
       " 'bells': <gensim.models.keyedvectors.Vocab at 0x21cda005fd0>,\n",
       " 'on': <gensim.models.keyedvectors.Vocab at 0x21cda012048>,\n",
       " 'bob-tail': <gensim.models.keyedvectors.Vocab at 0x21cda012080>,\n",
       " 'ring': <gensim.models.keyedvectors.Vocab at 0x21cda0120b8>,\n",
       " 'making': <gensim.models.keyedvectors.Vocab at 0x21cda0120f0>,\n",
       " 'spirits': <gensim.models.keyedvectors.Vocab at 0x21cda012128>,\n",
       " 'bright': <gensim.models.keyedvectors.Vocab at 0x21cda012160>,\n",
       " 'what': <gensim.models.keyedvectors.Vocab at 0x21cda012198>,\n",
       " 'fun': <gensim.models.keyedvectors.Vocab at 0x21cda0121d0>,\n",
       " 'it': <gensim.models.keyedvectors.Vocab at 0x21cda012208>,\n",
       " 'is': <gensim.models.keyedvectors.Vocab at 0x21cda012240>,\n",
       " 'to': <gensim.models.keyedvectors.Vocab at 0x21cda012278>,\n",
       " 'ride': <gensim.models.keyedvectors.Vocab at 0x21cda0122b0>,\n",
       " 'and': <gensim.models.keyedvectors.Vocab at 0x21cda0122e8>,\n",
       " 'sing': <gensim.models.keyedvectors.Vocab at 0x21cda012320>,\n",
       " 'sleighing': <gensim.models.keyedvectors.Vocab at 0x21cda012358>,\n",
       " 'song': <gensim.models.keyedvectors.Vocab at 0x21cda012390>,\n",
       " 'tonight': <gensim.models.keyedvectors.Vocab at 0x21cda0123c8>}"
      ]
     },
     "execution_count": 26,
     "metadata": {},
     "output_type": "execute_result"
    }
   ],
   "source": [
    "# inspect vocabulary\n",
    "word2vec.wv.vocab"
   ]
  },
  {
   "cell_type": "code",
   "execution_count": 27,
   "metadata": {},
   "outputs": [
    {
     "data": {
      "text/plain": [
       "(34, 10)"
      ]
     },
     "execution_count": 27,
     "metadata": {},
     "output_type": "execute_result"
    }
   ],
   "source": [
    "# get word vectors\n",
    "word2vec.wv.vectors.shape"
   ]
  },
  {
   "cell_type": "code",
   "execution_count": 28,
   "metadata": {},
   "outputs": [
    {
     "data": {
      "image/png": "[encoded data removed]",
      "text/plain": [
       "<Figure size 432x288 with 1 Axes>"
      ]
     },
     "metadata": {
      "needs_background": "light"
     },
     "output_type": "display_data"
    }
   ],
   "source": [
    "# plot the vectors in vector space\n",
    "from sklearn.decomposition import PCA\n",
    "\n",
    "pca = PCA(n_components=2)\n",
    "\n",
    "wv_2d = pca.fit_transform(word2vec.wv.vectors)\n",
    "\n",
    "fig, ax = plt.subplots()\n",
    "vocab = word2vec.wv.vocab\n",
    "\n",
    "ax.scatter(wv_2d[:, 0], wv_2d[:, 1])\n",
    "\n",
    "for i, word in enumerate(vocab):\n",
    "    ax.annotate(word, (wv_2d[i, 0], wv_2d[i, 1]))"
   ]
  },
  {
   "cell_type": "markdown",
   "metadata": {},
   "source": [
    "### Pre-trained Word2Vec models\n",
    "\n",
    "Instead of training your own word2vec, you can alternatively load the (large!) pre-trained models\n",
    "\n",
    "https://github.com/RaRe-Technologies/gensim-data"
   ]
  },
  {
   "cell_type": "code",
   "execution_count": null,
   "metadata": {},
   "outputs": [],
   "source": []
  },
  {
   "cell_type": "markdown",
   "metadata": {},
   "source": [
    "# Putting it together"
   ]
  },
  {
   "cell_type": "markdown",
   "metadata": {},
   "source": [
    "### TF-IDF vectorisation"
   ]
  },
  {
   "cell_type": "code",
   "execution_count": 29,
   "metadata": {},
   "outputs": [
    {
     "name": "stdout",
     "output_type": "stream",
     "text": [
      "(2000, 16413)\n",
      "(2000, 16413)\n"
     ]
    }
   ],
   "source": [
    "class StemmerTokenizer(object):\n",
    "    def __init__(self):\n",
    "        self.stemmer = SnowballStemmer(language='english')\n",
    "        self.stop = set(stopwords.words('english'))\n",
    "\n",
    "    def __call__(self, doc):\n",
    "\n",
    "        # tokenize text into tokens\n",
    "        tokens = word_tokenize(doc)\n",
    "\n",
    "        # strip out punctuation\n",
    "        words = [t for t in tokens if t.isalpha()]\n",
    "        \n",
    "        # strip out stopwords\n",
    "        words = [t for t in words if t not in self.stop]\n",
    "        \n",
    "        # lemmatize each token\n",
    "        return [self.stemmer.stem(t) for t in words]\n",
    "\n",
    "tfidf = TfidfVectorizer(analyzer='word', tokenizer=StemmerTokenizer())\n",
    "\n",
    "Z_train_tfidf = tfidf.fit_transform(df_train.review)\n",
    "Z_test_tdidf = tfidf.transform(df_test.review)\n",
    "\n",
    "print(Z_train_tfidf.shape)\n",
    "print(Z_test_tdidf.shape)"
   ]
  },
  {
   "cell_type": "code",
   "execution_count": null,
   "metadata": {},
   "outputs": [],
   "source": []
  },
  {
   "cell_type": "markdown",
   "metadata": {},
   "source": [
    "### Word2Vec\n",
    "\n",
    "Word2Vec vectors are more geared towards deep learning. We will revisit this after we've covered Deep Learning.\n",
    "\n",
    "To use this with sklearn, we will need to perform an averaging or summing operation on the Word2Vec vectors.\n",
    "\n",
    "Example: https://nadbordrozd.github.io/blog/2016/05/20/text-classification-with-word2vec/"
   ]
  },
  {
   "cell_type": "code",
   "execution_count": 30,
   "metadata": {},
   "outputs": [],
   "source": [
    "stem_tokenise = StemmerTokenizer()\n",
    "train_tokens = [stem_tokenise(review) for review in df_train.review]\n",
    "test_tokens = [stem_tokenise(review) for review in df_test.review]\n",
    "\n",
    "# train word2vec\n",
    "dimension = 50 # vector size of 5\n",
    "window_size = 10 # 5 words around each token\n",
    "word2vec = Word2Vec(train_tokens, size=dimension, window=window_size,\n",
    "                    min_count=1, workers=4)"
   ]
  },
  {
   "cell_type": "code",
   "execution_count": 31,
   "metadata": {},
   "outputs": [
    {
     "data": {
      "text/plain": [
       "[('fun', 0.9992152452468872),\n",
       " ('terribl', 0.9986472725868225),\n",
       " ('actual', 0.9986103177070618),\n",
       " ('entertain', 0.9984951019287109),\n",
       " ('absolut', 0.9983296990394592),\n",
       " ('make', 0.9983088970184326),\n",
       " ('best', 0.9981921315193176),\n",
       " ('surpris', 0.9981886148452759),\n",
       " ('lot', 0.9978866577148438),\n",
       " ('opinion', 0.9978313446044922)]"
      ]
     },
     "execution_count": 31,
     "metadata": {},
     "output_type": "execute_result"
    }
   ],
   "source": [
    "# inspect vocab\n",
    "# inspect vectors\n",
    "word2vec.wv.most_similar('horror')"
   ]
  },
  {
   "cell_type": "code",
   "execution_count": 32,
   "metadata": {},
   "outputs": [
    {
     "data": {
      "image/png": "[encoded data removed]",
      "text/plain": [
       "<Figure size 1080x720 with 1 Axes>"
      ]
     },
     "metadata": {
      "needs_background": "light"
     },
     "output_type": "display_data"
    }
   ],
   "source": [
    "# plot first N vectors\n",
    "num_to_plot = 300\n",
    "pca = PCA(n_components=2)\n",
    "\n",
    "wv_2d = pca.fit_transform(word2vec.wv.vectors[:num_to_plot])\n",
    "\n",
    "fig, ax = plt.subplots(figsize=(15, 10))\n",
    "vocab = word2vec.wv.index2word[:num_to_plot]\n",
    "\n",
    "ax.scatter(wv_2d[:, 0], wv_2d[:, 1])\n",
    "\n",
    "for i, word in enumerate(vocab):\n",
    "    ax.annotate(word, (wv_2d[i, 0], wv_2d[i, 1]))"
   ]
  },
  {
   "cell_type": "code",
   "execution_count": 33,
   "metadata": {},
   "outputs": [
    {
     "data": {
      "image/png": "[encoded data removed]",
      "text/plain": [
       "<Figure size 1080x720 with 1 Axes>"
      ]
     },
     "metadata": {
      "needs_background": "light"
     },
     "output_type": "display_data"
    }
   ],
   "source": [
    "# 300 too hard to see, zoom in to first 30\n",
    "num_to_plot = 30\n",
    "pca = PCA(n_components=2)\n",
    "\n",
    "wv_2d = pca.fit_transform(word2vec.wv.vectors[:num_to_plot])\n",
    "\n",
    "fig, ax = plt.subplots(figsize=(15, 10))\n",
    "vocab = word2vec.wv.index2word[:num_to_plot]\n",
    "\n",
    "ax.scatter(wv_2d[:, 0], wv_2d[:, 1])\n",
    "\n",
    "for i, word in enumerate(vocab):\n",
    "    ax.annotate(word, (wv_2d[i, 0], wv_2d[i, 1]))"
   ]
  },
  {
   "cell_type": "code",
   "execution_count": null,
   "metadata": {},
   "outputs": [],
   "source": []
  },
  {
   "cell_type": "markdown",
   "metadata": {},
   "source": [
    "#### Applying Word Vectors in sklearn (Advanced)\n",
    "\n",
    "This technique is used sometimes in order to apply Word2Vec vectors using scikit-learn models.\n",
    "\n",
    "Most cases, Word2Vec embeddings are used with Deep Learning models, such as with the Embedding Layer in Keras.\n",
    "\n",
    "As a result of a limitation of scikit-learn, we need to convert the Word2Vec vector into a single number (by taking the mean), which loses some representation."
   ]
  },
  {
   "cell_type": "code",
   "execution_count": 34,
   "metadata": {},
   "outputs": [],
   "source": [
    "class EmbeddingVectorizer(object):\n",
    "    def __init__(self, word2vec, dimension):\n",
    "        self.word2vec = word2vec\n",
    "        # if a text is empty we should return a vector of zeros\n",
    "        # with the same dimensionality as all the other vectors\n",
    "        self.dim = dimension\n",
    "\n",
    "    def transform(self, X):\n",
    "        return np.array([\n",
    "            # take the mean of the word vectors for that word\n",
    "            # or zero if the word is out of vocabulary\n",
    "            np.mean([self.word2vec[w] for w in words if w in self.word2vec]\n",
    "                    or [np.zeros(self.dim)], axis=0)\n",
    "            for words in X\n",
    "        ])"
   ]
  },
  {
   "cell_type": "code",
   "execution_count": 35,
   "metadata": {},
   "outputs": [
    {
     "name": "stdout",
     "output_type": "stream",
     "text": [
      "(2000, 50)\n",
      "(2000, 50)\n"
     ]
    }
   ],
   "source": [
    "w2v = dict(zip(word2vec.wv.index2word, word2vec.wv.vectors))\n",
    "mev = EmbeddingVectorizer(w2v, dimension)\n",
    "\n",
    "# EmbeddingVectorizer takes in tokens, so we used\n",
    "# the StemmerTokenizer above to tokenise df_train and df_test\n",
    "# accordingly\n",
    "Z_train_word2vec = mev.transform(train_tokens)\n",
    "Z_test_word2vec = mev.transform(test_tokens)\n",
    "\n",
    "print(Z_train_word2vec.shape)\n",
    "print(Z_test_word2vec.shape)"
   ]
  },
  {
   "cell_type": "code",
   "execution_count": null,
   "metadata": {},
   "outputs": [],
   "source": []
  },
  {
   "cell_type": "markdown",
   "metadata": {},
   "source": [
    "# Visualisation in 2D"
   ]
  },
  {
   "cell_type": "code",
   "execution_count": 36,
   "metadata": {},
   "outputs": [
    {
     "data": {
      "text/plain": [
       "<matplotlib.legend.Legend at 0x21c80190cf8>"
      ]
     },
     "execution_count": 36,
     "metadata": {},
     "output_type": "execute_result"
    },
    {
     "data": {
      "image/png": "[encoded data removed]",
      "text/plain": [
       "<Figure size 432x288 with 1 Axes>"
      ]
     },
     "metadata": {
      "needs_background": "light"
     },
     "output_type": "display_data"
    }
   ],
   "source": [
    "# visualize only the first n rows\n",
    "n = 3000\n",
    "\n",
    "# Vectors are about the same magnitude, so no need to scale\n",
    "pca = PCA(n_components=2)\n",
    "Z_train_2d = pca.fit_transform(Z_train_tfidf[:n].todense())\n",
    "y_train = df_train.label[:n]\n",
    "\n",
    "fig, ax = plt.subplots()\n",
    "\n",
    "labels = ['pos', 'neg']\n",
    "\n",
    "for l in labels:\n",
    "    ax.scatter(Z_train_2d[y_train == l, 0],\n",
    "               Z_train_2d[y_train == l, 1],\n",
    "               label=l)\n",
    "\n",
    "ax.set(title='PCA of reviews (TF-IDF vectorised)')\n",
    "\n",
    "ax.legend()"
   ]
  },
  {
   "cell_type": "code",
   "execution_count": 37,
   "metadata": {},
   "outputs": [
    {
     "data": {
      "text/plain": [
       "<matplotlib.legend.Legend at 0x21cde24a080>"
      ]
     },
     "execution_count": 37,
     "metadata": {},
     "output_type": "execute_result"
    },
    {
     "data": {
      "image/png": "[encoded data removed]",
      "text/plain": [
       "<Figure size 432x288 with 1 Axes>"
      ]
     },
     "metadata": {
      "needs_background": "light"
     },
     "output_type": "display_data"
    }
   ],
   "source": [
    "# visualize only the first n rows\n",
    "n = 3000\n",
    "\n",
    "# Vectors are about the same magnitude, so no need to scale\n",
    "pca = PCA(n_components=2)\n",
    "Z_train_2d = pca.fit_transform(Z_train_word2vec[:n])\n",
    "y_train = df_train.label[:n]\n",
    "\n",
    "fig, ax = plt.subplots()\n",
    "\n",
    "labels = ['pos', 'neg']\n",
    "\n",
    "for l in labels:\n",
    "    ax.scatter(Z_train_2d[y_train == l, 0],\n",
    "               Z_train_2d[y_train == l, 1],\n",
    "               label=l)\n",
    "\n",
    "ax.set(title='PCA of reviews (Word2Vec vectorised)')\n",
    "    \n",
    "ax.legend()"
   ]
  },
  {
   "cell_type": "code",
   "execution_count": null,
   "metadata": {},
   "outputs": [],
   "source": []
  },
  {
   "cell_type": "markdown",
   "metadata": {},
   "source": [
    "# Training Classifiers"
   ]
  },
  {
   "cell_type": "code",
   "execution_count": 38,
   "metadata": {},
   "outputs": [],
   "source": [
    "from sklearn.model_selection import cross_validate\n",
    "from sklearn.linear_model import SGDClassifier\n",
    "from sklearn.metrics import classification_report, confusion_matrix"
   ]
  },
  {
   "cell_type": "code",
   "execution_count": 39,
   "metadata": {},
   "outputs": [
    {
     "data": {
      "text/plain": [
       "{'fit_time': array([0.02205968, 0.02406216, 0.03559947, 0.0250721 , 0.02218723,\n",
       "        0.01562405, 0.01562762, 0.0196414 , 0.01611328, 0.01562595]),\n",
       " 'score_time': array([0.00100565, 0.0020051 , 0.00150394, 0.0020051 , 0.        ,\n",
       "        0.        , 0.        , 0.00150251, 0.        , 0.        ]),\n",
       " 'estimator': (SGDClassifier(alpha=0.0001, average=False, class_weight=None,\n",
       "         early_stopping=False, epsilon=0.1, eta0=0.0, fit_intercept=True,\n",
       "         l1_ratio=0.15, learning_rate='optimal', loss='hinge', max_iter=1000,\n",
       "         n_iter=None, n_iter_no_change=5, n_jobs=None, penalty='l2',\n",
       "         power_t=0.5, random_state=None, shuffle=True, tol=0.001,\n",
       "         validation_fraction=0.1, verbose=0, warm_start=False),\n",
       "  SGDClassifier(alpha=0.0001, average=False, class_weight=None,\n",
       "         early_stopping=False, epsilon=0.1, eta0=0.0, fit_intercept=True,\n",
       "         l1_ratio=0.15, learning_rate='optimal', loss='hinge', max_iter=1000,\n",
       "         n_iter=None, n_iter_no_change=5, n_jobs=None, penalty='l2',\n",
       "         power_t=0.5, random_state=None, shuffle=True, tol=0.001,\n",
       "         validation_fraction=0.1, verbose=0, warm_start=False),\n",
       "  SGDClassifier(alpha=0.0001, average=False, class_weight=None,\n",
       "         early_stopping=False, epsilon=0.1, eta0=0.0, fit_intercept=True,\n",
       "         l1_ratio=0.15, learning_rate='optimal', loss='hinge', max_iter=1000,\n",
       "         n_iter=None, n_iter_no_change=5, n_jobs=None, penalty='l2',\n",
       "         power_t=0.5, random_state=None, shuffle=True, tol=0.001,\n",
       "         validation_fraction=0.1, verbose=0, warm_start=False),\n",
       "  SGDClassifier(alpha=0.0001, average=False, class_weight=None,\n",
       "         early_stopping=False, epsilon=0.1, eta0=0.0, fit_intercept=True,\n",
       "         l1_ratio=0.15, learning_rate='optimal', loss='hinge', max_iter=1000,\n",
       "         n_iter=None, n_iter_no_change=5, n_jobs=None, penalty='l2',\n",
       "         power_t=0.5, random_state=None, shuffle=True, tol=0.001,\n",
       "         validation_fraction=0.1, verbose=0, warm_start=False),\n",
       "  SGDClassifier(alpha=0.0001, average=False, class_weight=None,\n",
       "         early_stopping=False, epsilon=0.1, eta0=0.0, fit_intercept=True,\n",
       "         l1_ratio=0.15, learning_rate='optimal', loss='hinge', max_iter=1000,\n",
       "         n_iter=None, n_iter_no_change=5, n_jobs=None, penalty='l2',\n",
       "         power_t=0.5, random_state=None, shuffle=True, tol=0.001,\n",
       "         validation_fraction=0.1, verbose=0, warm_start=False),\n",
       "  SGDClassifier(alpha=0.0001, average=False, class_weight=None,\n",
       "         early_stopping=False, epsilon=0.1, eta0=0.0, fit_intercept=True,\n",
       "         l1_ratio=0.15, learning_rate='optimal', loss='hinge', max_iter=1000,\n",
       "         n_iter=None, n_iter_no_change=5, n_jobs=None, penalty='l2',\n",
       "         power_t=0.5, random_state=None, shuffle=True, tol=0.001,\n",
       "         validation_fraction=0.1, verbose=0, warm_start=False),\n",
       "  SGDClassifier(alpha=0.0001, average=False, class_weight=None,\n",
       "         early_stopping=False, epsilon=0.1, eta0=0.0, fit_intercept=True,\n",
       "         l1_ratio=0.15, learning_rate='optimal', loss='hinge', max_iter=1000,\n",
       "         n_iter=None, n_iter_no_change=5, n_jobs=None, penalty='l2',\n",
       "         power_t=0.5, random_state=None, shuffle=True, tol=0.001,\n",
       "         validation_fraction=0.1, verbose=0, warm_start=False),\n",
       "  SGDClassifier(alpha=0.0001, average=False, class_weight=None,\n",
       "         early_stopping=False, epsilon=0.1, eta0=0.0, fit_intercept=True,\n",
       "         l1_ratio=0.15, learning_rate='optimal', loss='hinge', max_iter=1000,\n",
       "         n_iter=None, n_iter_no_change=5, n_jobs=None, penalty='l2',\n",
       "         power_t=0.5, random_state=None, shuffle=True, tol=0.001,\n",
       "         validation_fraction=0.1, verbose=0, warm_start=False),\n",
       "  SGDClassifier(alpha=0.0001, average=False, class_weight=None,\n",
       "         early_stopping=False, epsilon=0.1, eta0=0.0, fit_intercept=True,\n",
       "         l1_ratio=0.15, learning_rate='optimal', loss='hinge', max_iter=1000,\n",
       "         n_iter=None, n_iter_no_change=5, n_jobs=None, penalty='l2',\n",
       "         power_t=0.5, random_state=None, shuffle=True, tol=0.001,\n",
       "         validation_fraction=0.1, verbose=0, warm_start=False),\n",
       "  SGDClassifier(alpha=0.0001, average=False, class_weight=None,\n",
       "         early_stopping=False, epsilon=0.1, eta0=0.0, fit_intercept=True,\n",
       "         l1_ratio=0.15, learning_rate='optimal', loss='hinge', max_iter=1000,\n",
       "         n_iter=None, n_iter_no_change=5, n_jobs=None, penalty='l2',\n",
       "         power_t=0.5, random_state=None, shuffle=True, tol=0.001,\n",
       "         validation_fraction=0.1, verbose=0, warm_start=False)),\n",
       " 'test_score': array([0.83 , 0.855, 0.825, 0.84 , 0.84 , 0.85 , 0.825, 0.81 , 0.84 ,\n",
       "        0.865])}"
      ]
     },
     "execution_count": 39,
     "metadata": {},
     "output_type": "execute_result"
    }
   ],
   "source": [
    "model = SGDClassifier(max_iter=1000, tol=1e-3)\n",
    "\n",
    "scores_tfidf = cross_validate(model, Z_train_tfidf, y_train, cv=10,\n",
    "                              return_train_score=False,\n",
    "                              return_estimator=True)\n",
    "scores_tfidf"
   ]
  },
  {
   "cell_type": "code",
   "execution_count": 40,
   "metadata": {},
   "outputs": [
    {
     "name": "stdout",
     "output_type": "stream",
     "text": [
      "              precision    recall  f1-score   support\n",
      "\n",
      "         neg       0.81      0.81      0.81      1040\n",
      "         pos       0.80      0.79      0.80       960\n",
      "\n",
      "   micro avg       0.81      0.81      0.81      2000\n",
      "   macro avg       0.80      0.80      0.80      2000\n",
      "weighted avg       0.80      0.81      0.80      2000\n",
      "\n"
     ]
    },
    {
     "data": {
      "image/png": "[encoded data removed]",
      "text/plain": [
       "<Figure size 432x288 with 2 Axes>"
      ]
     },
     "metadata": {
      "needs_background": "light"
     },
     "output_type": "display_data"
    }
   ],
   "source": [
    "best_tfidf = scores_tfidf['estimator'][scores_tfidf['test_score'].argmax()]\n",
    "\n",
    "y_test = df_test.label\n",
    "pred_tfidf = best_tfidf.predict(Z_test_tdidf)\n",
    "print(classification_report(y_test, pred_tfidf))\n",
    "\n",
    "fig, ax = plt.subplots()\n",
    "sns.heatmap(confusion_matrix(y_test, pred_tfidf), ax=ax, annot=True, fmt='d')\n",
    "ax.set(xlabel='Predicted', ylabel='Truth')\n",
    "plt.show()"
   ]
  },
  {
   "cell_type": "code",
   "execution_count": null,
   "metadata": {},
   "outputs": [],
   "source": []
  },
  {
   "cell_type": "code",
   "execution_count": 41,
   "metadata": {},
   "outputs": [
    {
     "data": {
      "text/plain": [
       "{'fit_time': array([0.03108215, 0.02406502, 0.04412699, 0.02907777, 0.03008151,\n",
       "        0.03804064, 0.01562738, 0.03125334, 0.03877902, 0.01562905]),\n",
       " 'score_time': array([0.00100279, 0.00300717, 0.00200558, 0.00100327, 0.00100327,\n",
       "        0.00100255, 0.        , 0.        , 0.00100446, 0.        ]),\n",
       " 'estimator': (SGDClassifier(alpha=0.0001, average=False, class_weight=None,\n",
       "         early_stopping=False, epsilon=0.1, eta0=0.0, fit_intercept=True,\n",
       "         l1_ratio=0.15, learning_rate='optimal', loss='hinge', max_iter=1000,\n",
       "         n_iter=None, n_iter_no_change=5, n_jobs=None, penalty='l2',\n",
       "         power_t=0.5, random_state=None, shuffle=True, tol=0.001,\n",
       "         validation_fraction=0.1, verbose=0, warm_start=False),\n",
       "  SGDClassifier(alpha=0.0001, average=False, class_weight=None,\n",
       "         early_stopping=False, epsilon=0.1, eta0=0.0, fit_intercept=True,\n",
       "         l1_ratio=0.15, learning_rate='optimal', loss='hinge', max_iter=1000,\n",
       "         n_iter=None, n_iter_no_change=5, n_jobs=None, penalty='l2',\n",
       "         power_t=0.5, random_state=None, shuffle=True, tol=0.001,\n",
       "         validation_fraction=0.1, verbose=0, warm_start=False),\n",
       "  SGDClassifier(alpha=0.0001, average=False, class_weight=None,\n",
       "         early_stopping=False, epsilon=0.1, eta0=0.0, fit_intercept=True,\n",
       "         l1_ratio=0.15, learning_rate='optimal', loss='hinge', max_iter=1000,\n",
       "         n_iter=None, n_iter_no_change=5, n_jobs=None, penalty='l2',\n",
       "         power_t=0.5, random_state=None, shuffle=True, tol=0.001,\n",
       "         validation_fraction=0.1, verbose=0, warm_start=False),\n",
       "  SGDClassifier(alpha=0.0001, average=False, class_weight=None,\n",
       "         early_stopping=False, epsilon=0.1, eta0=0.0, fit_intercept=True,\n",
       "         l1_ratio=0.15, learning_rate='optimal', loss='hinge', max_iter=1000,\n",
       "         n_iter=None, n_iter_no_change=5, n_jobs=None, penalty='l2',\n",
       "         power_t=0.5, random_state=None, shuffle=True, tol=0.001,\n",
       "         validation_fraction=0.1, verbose=0, warm_start=False),\n",
       "  SGDClassifier(alpha=0.0001, average=False, class_weight=None,\n",
       "         early_stopping=False, epsilon=0.1, eta0=0.0, fit_intercept=True,\n",
       "         l1_ratio=0.15, learning_rate='optimal', loss='hinge', max_iter=1000,\n",
       "         n_iter=None, n_iter_no_change=5, n_jobs=None, penalty='l2',\n",
       "         power_t=0.5, random_state=None, shuffle=True, tol=0.001,\n",
       "         validation_fraction=0.1, verbose=0, warm_start=False),\n",
       "  SGDClassifier(alpha=0.0001, average=False, class_weight=None,\n",
       "         early_stopping=False, epsilon=0.1, eta0=0.0, fit_intercept=True,\n",
       "         l1_ratio=0.15, learning_rate='optimal', loss='hinge', max_iter=1000,\n",
       "         n_iter=None, n_iter_no_change=5, n_jobs=None, penalty='l2',\n",
       "         power_t=0.5, random_state=None, shuffle=True, tol=0.001,\n",
       "         validation_fraction=0.1, verbose=0, warm_start=False),\n",
       "  SGDClassifier(alpha=0.0001, average=False, class_weight=None,\n",
       "         early_stopping=False, epsilon=0.1, eta0=0.0, fit_intercept=True,\n",
       "         l1_ratio=0.15, learning_rate='optimal', loss='hinge', max_iter=1000,\n",
       "         n_iter=None, n_iter_no_change=5, n_jobs=None, penalty='l2',\n",
       "         power_t=0.5, random_state=None, shuffle=True, tol=0.001,\n",
       "         validation_fraction=0.1, verbose=0, warm_start=False),\n",
       "  SGDClassifier(alpha=0.0001, average=False, class_weight=None,\n",
       "         early_stopping=False, epsilon=0.1, eta0=0.0, fit_intercept=True,\n",
       "         l1_ratio=0.15, learning_rate='optimal', loss='hinge', max_iter=1000,\n",
       "         n_iter=None, n_iter_no_change=5, n_jobs=None, penalty='l2',\n",
       "         power_t=0.5, random_state=None, shuffle=True, tol=0.001,\n",
       "         validation_fraction=0.1, verbose=0, warm_start=False),\n",
       "  SGDClassifier(alpha=0.0001, average=False, class_weight=None,\n",
       "         early_stopping=False, epsilon=0.1, eta0=0.0, fit_intercept=True,\n",
       "         l1_ratio=0.15, learning_rate='optimal', loss='hinge', max_iter=1000,\n",
       "         n_iter=None, n_iter_no_change=5, n_jobs=None, penalty='l2',\n",
       "         power_t=0.5, random_state=None, shuffle=True, tol=0.001,\n",
       "         validation_fraction=0.1, verbose=0, warm_start=False),\n",
       "  SGDClassifier(alpha=0.0001, average=False, class_weight=None,\n",
       "         early_stopping=False, epsilon=0.1, eta0=0.0, fit_intercept=True,\n",
       "         l1_ratio=0.15, learning_rate='optimal', loss='hinge', max_iter=1000,\n",
       "         n_iter=None, n_iter_no_change=5, n_jobs=None, penalty='l2',\n",
       "         power_t=0.5, random_state=None, shuffle=True, tol=0.001,\n",
       "         validation_fraction=0.1, verbose=0, warm_start=False)),\n",
       " 'test_score': array([0.56 , 0.67 , 0.505, 0.485, 0.525, 0.48 , 0.475, 0.54 , 0.52 ,\n",
       "        0.655])}"
      ]
     },
     "execution_count": 41,
     "metadata": {},
     "output_type": "execute_result"
    }
   ],
   "source": [
    "# Try Word2Vec\n",
    "scores_w2v = cross_validate(model, Z_train_word2vec, y_train, cv=10,\n",
    "                            return_train_score=False,\n",
    "                            return_estimator=True)\n",
    "scores_w2v"
   ]
  },
  {
   "cell_type": "code",
   "execution_count": 42,
   "metadata": {},
   "outputs": [
    {
     "name": "stdout",
     "output_type": "stream",
     "text": [
      "              precision    recall  f1-score   support\n",
      "\n",
      "         neg       0.61      0.70      0.66      1040\n",
      "         pos       0.62      0.52      0.56       960\n",
      "\n",
      "   micro avg       0.62      0.62      0.62      2000\n",
      "   macro avg       0.62      0.61      0.61      2000\n",
      "weighted avg       0.62      0.62      0.61      2000\n",
      "\n"
     ]
    },
    {
     "data": {
      "image/png": "[encoded data removed]",
      "text/plain": [
       "<Figure size 432x288 with 2 Axes>"
      ]
     },
     "metadata": {
      "needs_background": "light"
     },
     "output_type": "display_data"
    }
   ],
   "source": [
    "best_w2v = scores_w2v['estimator'][scores_w2v['test_score'].argmax()]\n",
    "\n",
    "y_test = df_test.label\n",
    "pred_w2v = best_w2v.predict(Z_train_word2vec)\n",
    "print(classification_report(y_test, pred_w2v))\n",
    "\n",
    "fig, ax = plt.subplots()\n",
    "sns.heatmap(confusion_matrix(y_test, pred_w2v), ax=ax, annot=True, fmt='d')\n",
    "ax.set(xlabel='Predicted', ylabel='Truth')\n",
    "plt.show()"
   ]
  },
  {
   "cell_type": "code",
   "execution_count": null,
   "metadata": {},
   "outputs": [],
   "source": []
  },
  {
   "cell_type": "markdown",
   "metadata": {},
   "source": [
    "Word2Vec not as good as TF-IDF\n",
    "\n",
    "Possible reason: we are taking the mean Word2Vec values and losing some information.\n",
    "\n",
    "Word2Vec *should* be better with deep learning (of course actual experience may vary)"
   ]
  },
  {
   "cell_type": "code",
   "execution_count": null,
   "metadata": {},
   "outputs": [],
   "source": []
  },
  {
   "cell_type": "code",
   "execution_count": 43,
   "metadata": {},
   "outputs": [
    {
     "data": {
      "text/html": [
       "<div>\n",
       "<style scoped>\n",
       "    .dataframe tbody tr th:only-of-type {\n",
       "        vertical-align: middle;\n",
       "    }\n",
       "\n",
       "    .dataframe tbody tr th {\n",
       "        vertical-align: top;\n",
       "    }\n",
       "\n",
       "    .dataframe thead th {\n",
       "        text-align: right;\n",
       "    }\n",
       "</style>\n",
       "<table border=\"1\" class=\"dataframe\">\n",
       "  <thead>\n",
       "    <tr style=\"text-align: right;\">\n",
       "      <th></th>\n",
       "      <th>type</th>\n",
       "      <th>review</th>\n",
       "      <th>label</th>\n",
       "      <th>file</th>\n",
       "    </tr>\n",
       "  </thead>\n",
       "  <tbody>\n",
       "    <tr>\n",
       "      <th>14377</th>\n",
       "      <td>test</td>\n",
       "      <td>First I have to admit that I have had some dou...</td>\n",
       "      <td>pos</td>\n",
       "      <td>11690_10.txt</td>\n",
       "    </tr>\n",
       "    <tr>\n",
       "      <th>5384</th>\n",
       "      <td>test</td>\n",
       "      <td>I don't understand the humor in this film. I a...</td>\n",
       "      <td>neg</td>\n",
       "      <td>3597_1.txt</td>\n",
       "    </tr>\n",
       "    <tr>\n",
       "      <th>5502</th>\n",
       "      <td>test</td>\n",
       "      <td>The films of the Science Fiction Channel ( Sci...</td>\n",
       "      <td>neg</td>\n",
       "      <td>3702_4.txt</td>\n",
       "    </tr>\n",
       "    <tr>\n",
       "      <th>20210</th>\n",
       "      <td>test</td>\n",
       "      <td>As a kid I loved the song \"Never smile at a cr...</td>\n",
       "      <td>pos</td>\n",
       "      <td>5690_8.txt</td>\n",
       "    </tr>\n",
       "    <tr>\n",
       "      <th>20243</th>\n",
       "      <td>test</td>\n",
       "      <td>I don't need to say much about how good this d...</td>\n",
       "      <td>pos</td>\n",
       "      <td>571_10.txt</td>\n",
       "    </tr>\n",
       "    <tr>\n",
       "      <th>15415</th>\n",
       "      <td>test</td>\n",
       "      <td>Got this the other day from the Creators on DV...</td>\n",
       "      <td>pos</td>\n",
       "      <td>1374_9.txt</td>\n",
       "    </tr>\n",
       "    <tr>\n",
       "      <th>1569</th>\n",
       "      <td>test</td>\n",
       "      <td>Another Son of Sam is definitely not an Oscar ...</td>\n",
       "      <td>neg</td>\n",
       "      <td>11412_2.txt</td>\n",
       "    </tr>\n",
       "    <tr>\n",
       "      <th>2232</th>\n",
       "      <td>test</td>\n",
       "      <td>Whenever someone tries to tell me that they th...</td>\n",
       "      <td>neg</td>\n",
       "      <td>12009_1.txt</td>\n",
       "    </tr>\n",
       "    <tr>\n",
       "      <th>18176</th>\n",
       "      <td>test</td>\n",
       "      <td>In Strangers On A Train, it's obvious from the...</td>\n",
       "      <td>pos</td>\n",
       "      <td>385_9.txt</td>\n",
       "    </tr>\n",
       "    <tr>\n",
       "      <th>3752</th>\n",
       "      <td>test</td>\n",
       "      <td>Yikes.&lt;br /&gt;&lt;br /&gt;I've seen quite a few bad mo...</td>\n",
       "      <td>neg</td>\n",
       "      <td>2127_1.txt</td>\n",
       "    </tr>\n",
       "  </tbody>\n",
       "</table>\n",
       "</div>"
      ],
      "text/plain": [
       "       type                                             review label  \\\n",
       "14377  test  First I have to admit that I have had some dou...   pos   \n",
       "5384   test  I don't understand the humor in this film. I a...   neg   \n",
       "5502   test  The films of the Science Fiction Channel ( Sci...   neg   \n",
       "20210  test  As a kid I loved the song \"Never smile at a cr...   pos   \n",
       "20243  test  I don't need to say much about how good this d...   pos   \n",
       "15415  test  Got this the other day from the Creators on DV...   pos   \n",
       "1569   test  Another Son of Sam is definitely not an Oscar ...   neg   \n",
       "2232   test  Whenever someone tries to tell me that they th...   neg   \n",
       "18176  test  In Strangers On A Train, it's obvious from the...   pos   \n",
       "3752   test  Yikes.<br /><br />I've seen quite a few bad mo...   neg   \n",
       "\n",
       "               file  \n",
       "14377  11690_10.txt  \n",
       "5384     3597_1.txt  \n",
       "5502     3702_4.txt  \n",
       "20210    5690_8.txt  \n",
       "20243    571_10.txt  \n",
       "15415    1374_9.txt  \n",
       "1569    11412_2.txt  \n",
       "2232    12009_1.txt  \n",
       "18176     385_9.txt  \n",
       "3752     2127_1.txt  "
      ]
     },
     "execution_count": 43,
     "metadata": {},
     "output_type": "execute_result"
    }
   ],
   "source": [
    "# Example predictions\n",
    "\n",
    "# Some test data\n",
    "sample_reviews = df_test[-10:]\n",
    "sample_reviews"
   ]
  },
  {
   "cell_type": "code",
   "execution_count": 44,
   "metadata": {},
   "outputs": [
    {
     "name": "stdout",
     "output_type": "stream",
     "text": [
      "truth ['pos' 'neg' 'neg' 'pos' 'pos' 'pos' 'neg' 'neg' 'pos' 'neg']\n",
      "pred ['pos' 'neg' 'neg' 'neg' 'pos' 'pos' 'neg' 'neg' 'pos' 'neg']\n",
      "accuracy 0.9\n"
     ]
    }
   ],
   "source": [
    "from sklearn.metrics import accuracy_score\n",
    "Z_sample_reviews = tfidf.transform(sample_reviews.review)\n",
    "\n",
    "pred = best_tfidf.predict(Z_sample_reviews)\n",
    "print('truth', sample_reviews.label.values)\n",
    "print('pred', pred)\n",
    "print('accuracy', accuracy_score(sample_reviews.label, pred))"
   ]
  },
  {
   "cell_type": "code",
   "execution_count": null,
   "metadata": {},
   "outputs": [],
   "source": []
  }
 ],
 "metadata": {
  "kernelspec": {
   "display_name": "Python 3",
   "language": "python",
   "name": "python3"
  },
  "language_info": {
   "codemirror_mode": {
    "name": "ipython",
    "version": 3
   },
   "file_extension": ".py",
   "mimetype": "text/x-python",
   "name": "python",
   "nbconvert_exporter": "python",
   "pygments_lexer": "ipython3",
   "version": "3.6.7"
  }
 },
 "nbformat": 4,
 "nbformat_minor": 2
}
