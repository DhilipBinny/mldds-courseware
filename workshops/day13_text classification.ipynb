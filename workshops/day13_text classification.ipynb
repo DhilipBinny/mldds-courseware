{
 "cells": [
  {
   "cell_type": "markdown",
   "metadata": {},
   "source": [
    "# Classifying movie reviews into positive or negative reviews\n",
    "\n",
    "IMDB: Internet Movie Database: https://www.imdb.com/\n",
    "\n",
    "Dataset (smaller version): https://www.kaggle.com/utathya/imdb-review-dataset/version/1\n",
    "\n",
    "This workshop covers:\n",
    "- Loading the text dataset\n",
    "- Text Processing Techniques\n",
    "- Text Vectorisation\n",
    "- Visualising Text Vectors\n",
    "- Training a Classifier using Text Vectors"
   ]
  },
  {
   "cell_type": "code",
   "execution_count": 58,
   "metadata": {},
   "outputs": [],
   "source": [
    "import matplotlib.pyplot as plt\n",
    "import pandas as pd\n",
    "import numpy as np\n",
    "\n",
    "%matplotlib inline"
   ]
  },
  {
   "cell_type": "markdown",
   "metadata": {},
   "source": [
    "## Load data"
   ]
  },
  {
   "cell_type": "code",
   "execution_count": 59,
   "metadata": {},
   "outputs": [
    {
     "data": {
      "text/plain": [
       "pos    25000\n",
       "neg    25000\n",
       "Name: label, dtype: int64"
      ]
     },
     "execution_count": 59,
     "metadata": {},
     "output_type": "execute_result"
    }
   ],
   "source": [
    "df = pd.read_csv('imdb_master.csv',\n",
    "                 encoding='latin_1', index_col=0)\n",
    "\n",
    "df1 = df.loc[df.label != 'unsup']\n",
    "\n",
    "df1.label.value_counts() # count each label value"
   ]
  },
  {
   "cell_type": "code",
   "execution_count": 60,
   "metadata": {},
   "outputs": [],
   "source": [
    "df_train = df1.loc[df1.type == 'train']\n",
    "df_test = df1.loc[df1.type == 'test']"
   ]
  },
  {
   "cell_type": "code",
   "execution_count": 61,
   "metadata": {},
   "outputs": [],
   "source": [
    "df_train = df_train.sample(n=2000, random_state=42)\n",
    "df_test = df_test.sample(n=2000, random_state=42)"
   ]
  },
  {
   "cell_type": "markdown",
   "metadata": {},
   "source": [
    "# Process Text\n",
    "\n",
    "## Text processing:\n",
    "- Tokenise: split text into words\n",
    "- Lemmatise: look at word form, considering noun, adjective, etc\n",
    "- Stem: get the word stem (bluntly chop off the end)\n",
    "\n",
    "### Goals:\n",
    "- Identify unique words\n",
    "- Avoid duplicating the same word form (e.g. cat, cats) in order to keep number of features small\n",
    "\n",
    "### Curse of Dimensionality:\n",
    "- 1 word is at least 1 feature (not considering N-grams - sequences of N words)\n",
    "- Reducing number of words will improve scalability"
   ]
  },
  {
   "cell_type": "markdown",
   "metadata": {},
   "source": [
    "## Install Natural Language Toolkit (NLTK)\n",
    "\n",
    "From Anaconda environment:\n",
    "```\n",
    "conda install nltk\n",
    "```"
   ]
  },
  {
   "cell_type": "code",
   "execution_count": 62,
   "metadata": {},
   "outputs": [
    {
     "name": "stdout",
     "output_type": "stream",
     "text": [
      "[nltk_data] Downloading package punkt to\n",
      "[nltk_data]     C:\\Users\\issohl\\AppData\\Roaming\\nltk_data...\n",
      "[nltk_data]   Package punkt is already up-to-date!\n",
      "[nltk_data] Downloading package wordnet to\n",
      "[nltk_data]     C:\\Users\\issohl\\AppData\\Roaming\\nltk_data...\n",
      "[nltk_data]   Package wordnet is already up-to-date!\n",
      "[nltk_data] Downloading package stopwords to\n",
      "[nltk_data]     C:\\Users\\issohl\\AppData\\Roaming\\nltk_data...\n",
      "[nltk_data]   Package stopwords is already up-to-date!\n"
     ]
    },
    {
     "data": {
      "text/plain": [
       "True"
      ]
     },
     "execution_count": 62,
     "metadata": {},
     "output_type": "execute_result"
    }
   ],
   "source": [
    "# Requires: conda install nltk\n",
    "import nltk\n",
    "nltk.download('punkt')\n",
    "nltk.download('wordnet')\n",
    "nltk.download('stopwords')"
   ]
  },
  {
   "cell_type": "markdown",
   "metadata": {},
   "source": [
    "## Tokenise"
   ]
  },
  {
   "cell_type": "code",
   "execution_count": 63,
   "metadata": {},
   "outputs": [],
   "source": [
    "from nltk import word_tokenize\n",
    "\n",
    "text = 'Hello this is a test.'"
   ]
  },
  {
   "cell_type": "markdown",
   "metadata": {},
   "source": [
    "## Lemmatise"
   ]
  },
  {
   "cell_type": "code",
   "execution_count": 64,
   "metadata": {},
   "outputs": [],
   "source": [
    "from nltk.stem import WordNetLemmatizer\n",
    "\n",
    "text = 'he liked cats and dogs, and teaching machines to learn'"
   ]
  },
  {
   "cell_type": "markdown",
   "metadata": {},
   "source": [
    "## Stem"
   ]
  },
  {
   "cell_type": "code",
   "execution_count": 65,
   "metadata": {},
   "outputs": [],
   "source": [
    "from nltk.stem import SnowballStemmer\n",
    "\n",
    "text = 'he liked cats and dogs, and teaching machines to learn'\n",
    "stem = SnowballStemmer(language='english')"
   ]
  },
  {
   "cell_type": "markdown",
   "metadata": {},
   "source": [
    "## Stop words"
   ]
  },
  {
   "cell_type": "code",
   "execution_count": 66,
   "metadata": {},
   "outputs": [],
   "source": [
    "from nltk.corpus import stopwords\n",
    "stop = set(stopwords.words('english'))\n",
    "\n",
    "text = 'he liked cats and dogs, and teaching machines to learn'"
   ]
  },
  {
   "cell_type": "code",
   "execution_count": 67,
   "metadata": {},
   "outputs": [
    {
     "name": "stdout",
     "output_type": "stream",
     "text": [
      "{'during', 'they', 'other', 'that', \"needn't\", \"mightn't\", \"it's\", 'when', 'against', 'before', 'all', 'where', 'than', 'himself', 'down', 'ourselves', 'why', 'hadn', 'are', 'few', 'should', 'yourselves', 'o', 'into', 'after', 'd', 'couldn', 'on', 'shouldn', 'll', 'he', 'it', 'have', \"couldn't\", 'so', 'i', 't', \"you'd\", 'at', \"hasn't\", \"wouldn't\", 'who', 'up', 'then', 'those', 's', 'we', 'out', 'yours', 'any', 'having', 'most', 'how', 'by', 'between', \"didn't\", 'wouldn', 'be', 'ma', 'didn', 'some', 'which', 'being', \"don't\", 'hasn', 'these', 'more', 'further', 'ain', 'did', 'myself', 'mustn', 'do', 'will', \"aren't\", 'through', 're', 'an', 'weren', 'had', 'theirs', 'his', 'over', 'nor', 'y', 'again', 'under', 'her', 'both', 'not', 'them', 'if', 'from', \"you've\", 'yourself', 'too', 'a', 'this', 'wasn', 'your', 'mightn', 'herself', \"weren't\", \"shan't\", 'don', 'my', 'to', 'and', \"wasn't\", 'haven', 'm', 'off', \"should've\", 'their', 'of', 'does', \"you're\", \"doesn't\", 'each', 'itself', 'can', 'shan', 'has', 'for', 'about', 'aren', 'is', 'isn', 'there', 'the', \"hadn't\", 'but', 'or', 'were', 'whom', 'me', 'here', 'am', 'below', 'themselves', \"that'll\", 'in', 'own', 'won', 'once', 'ours', \"she's\", \"haven't\", \"won't\", 'with', 'doesn', 'just', 'doing', 'as', 'hers', 'was', 'until', 'while', 'you', 'she', 'its', 'no', \"shouldn't\", 'what', 'been', 'him', 'because', 'only', \"mustn't\", 'such', \"isn't\", 'our', 'same', 'above', 've', 'needn', 'now', \"you'll\", 'very'}\n"
     ]
    }
   ],
   "source": [
    "print(stop)"
   ]
  },
  {
   "cell_type": "markdown",
   "metadata": {},
   "source": [
    "# Vectorise Text\n",
    "\n",
    "Vectorisation converts words into vectors of numbers\n",
    "\n",
    "Common ways:\n",
    "- By word count: CountVectorizer\n",
    "- By word and document frequency: TfidfVectorizer\n",
    "- By word vectors (gensim Word2Vec)"
   ]
  },
  {
   "cell_type": "markdown",
   "metadata": {},
   "source": [
    "## Word Count Vectorisation\n",
    "\n",
    "* Words that are used more frequently get a higher count"
   ]
  },
  {
   "cell_type": "code",
   "execution_count": 68,
   "metadata": {},
   "outputs": [],
   "source": [
    "from sklearn.feature_extraction.text import CountVectorizer\n",
    "corpus = [\n",
    "   'This is the first document.',\n",
    "   'This document is the second document.',\n",
    "   'And this is the third one.',\n",
    "   'Is this the first document?',\n",
    "]"
   ]
  },
  {
   "cell_type": "code",
   "execution_count": null,
   "metadata": {},
   "outputs": [],
   "source": []
  },
  {
   "cell_type": "markdown",
   "metadata": {},
   "source": [
    "## Word and Document Frequency (TF-IDF) Vectorisation\n",
    "\n",
    "- TF: Term Frequency: rewards words commonly used in a document\n",
    "- IDF: Inverse Document Frequency: penalises words commonly used in all documents"
   ]
  },
  {
   "cell_type": "code",
   "execution_count": 69,
   "metadata": {},
   "outputs": [],
   "source": [
    "from sklearn.feature_extraction.text import TfidfVectorizer\n",
    "corpus = [\n",
    "   'This is the first document.',\n",
    "   'This document is the second document.',\n",
    "   'And this is the third one.',\n",
    "   'Is this the first document?',\n",
    "]"
   ]
  },
  {
   "cell_type": "code",
   "execution_count": null,
   "metadata": {},
   "outputs": [],
   "source": []
  },
  {
   "cell_type": "markdown",
   "metadata": {},
   "source": [
    "## Word2Vec\n",
    "\n",
    "Word2Vec generates word-vectors where vectors close together in vector space have similar meanings based on context, and word-vectors distant to each other have differing meanings.\n",
    "\n",
    "https://radimrehurek.com/gensim/models/word2vec.html\n",
    "\n",
    "https://radimrehurek.com/gensim/models/keyedvectors.html"
   ]
  },
  {
   "cell_type": "markdown",
   "metadata": {},
   "source": [
    "### Install gensim\n",
    "\n",
    "Gensim is a library to train word vectors and to consume pre-trained word vectors.\n",
    "\n",
    "From Anaconda environment:\n",
    "```\n",
    "conda install gensim\n",
    "```"
   ]
  },
  {
   "cell_type": "code",
   "execution_count": 70,
   "metadata": {},
   "outputs": [
    {
     "data": {
      "text/plain": [
       "array([ 0.02432165,  0.0455005 , -0.02880215, -0.01555269,  0.01685715,\n",
       "        0.01092012, -0.02440065,  0.04818794, -0.00813113,  0.02975553],\n",
       "      dtype=float32)"
      ]
     },
     "execution_count": 70,
     "metadata": {},
     "output_type": "execute_result"
    }
   ],
   "source": [
    "from gensim.test.utils import common_texts, get_tmpfile\n",
    "from gensim.models import Word2Vec\n",
    "\n",
    "corpus = [\n",
    "    'Dashing through the snow',\n",
    "    'In a one-horse open sleigh',\n",
    "    'Over the fields we go',\n",
    "    'Laughing all the way',\n",
    "    'Bells on bob-tail ring',\n",
    "    'Making spirits bright',\n",
    "    'What fun it is to ride and sing a sleighing song tonight'\n",
    "]\n",
    "\n",
    "# split text into words\n",
    "corpus_tokens = [word_tokenize(doc.lower()) for doc in corpus]\n",
    "\n",
    "vector_size=10 # vector representation (typically about 50-100 for larger vocabs)\n",
    "window_size=3 # how many words to see around it (depending on task)\n",
    "\n",
    "# train\n",
    "word2vec = Word2Vec(corpus_tokens, size=vector_size, window=window_size,\n",
    "                    min_count=1, workers=4)\n",
    "\n",
    "# model.save(\"word2vec.model\") # save for use later\n",
    "\n",
    "word2vec.wv['snow'] # numpy vector of a word"
   ]
  },
  {
   "cell_type": "code",
   "execution_count": 71,
   "metadata": {},
   "outputs": [
    {
     "name": "stderr",
     "output_type": "stream",
     "text": [
      "C:\\Users\\issohl\\AppData\\Local\\Continuum\\anaconda3\\envs\\mldds\\lib\\site-packages\\ipykernel_launcher.py:2: DeprecationWarning: Call to deprecated `most_similar` (Method will be removed in 4.0.0, use self.wv.most_similar() instead).\n",
      "  \n"
     ]
    },
    {
     "data": {
      "text/plain": [
       "[('to', 0.6324091553688049),\n",
       " ('laughing', 0.6223492622375488),\n",
       " ('fields', 0.4292348027229309),\n",
       " ('spirits', 0.40156325697898865),\n",
       " ('bright', 0.3750440776348114),\n",
       " ('tonight', 0.3327932357788086),\n",
       " ('all', 0.30081361532211304),\n",
       " ('bob-tail', 0.19522309303283691),\n",
       " ('fun', 0.1860320270061493),\n",
       " ('through', 0.12681089341640472)]"
      ]
     },
     "execution_count": 71,
     "metadata": {},
     "output_type": "execute_result"
    }
   ],
   "source": [
    "# find similar words\n",
    "word2vec.most_similar('snow')"
   ]
  },
  {
   "cell_type": "code",
   "execution_count": 72,
   "metadata": {},
   "outputs": [
    {
     "data": {
      "text/plain": [
       "{'dashing': <gensim.models.keyedvectors.Vocab at 0x24289995400>,\n",
       " 'through': <gensim.models.keyedvectors.Vocab at 0x24289995470>,\n",
       " 'the': <gensim.models.keyedvectors.Vocab at 0x24289995438>,\n",
       " 'snow': <gensim.models.keyedvectors.Vocab at 0x242899954a8>,\n",
       " 'in': <gensim.models.keyedvectors.Vocab at 0x242899954e0>,\n",
       " 'a': <gensim.models.keyedvectors.Vocab at 0x24289995518>,\n",
       " 'one-horse': <gensim.models.keyedvectors.Vocab at 0x24289995550>,\n",
       " 'open': <gensim.models.keyedvectors.Vocab at 0x24289995588>,\n",
       " 'sleigh': <gensim.models.keyedvectors.Vocab at 0x242899955c0>,\n",
       " 'over': <gensim.models.keyedvectors.Vocab at 0x242899955f8>,\n",
       " 'fields': <gensim.models.keyedvectors.Vocab at 0x24289995630>,\n",
       " 'we': <gensim.models.keyedvectors.Vocab at 0x24289995668>,\n",
       " 'go': <gensim.models.keyedvectors.Vocab at 0x242899956a0>,\n",
       " 'laughing': <gensim.models.keyedvectors.Vocab at 0x242899956d8>,\n",
       " 'all': <gensim.models.keyedvectors.Vocab at 0x24289995710>,\n",
       " 'way': <gensim.models.keyedvectors.Vocab at 0x24289995748>,\n",
       " 'bells': <gensim.models.keyedvectors.Vocab at 0x24289995780>,\n",
       " 'on': <gensim.models.keyedvectors.Vocab at 0x242899957b8>,\n",
       " 'bob-tail': <gensim.models.keyedvectors.Vocab at 0x242899957f0>,\n",
       " 'ring': <gensim.models.keyedvectors.Vocab at 0x24289995828>,\n",
       " 'making': <gensim.models.keyedvectors.Vocab at 0x24289995860>,\n",
       " 'spirits': <gensim.models.keyedvectors.Vocab at 0x24289995898>,\n",
       " 'bright': <gensim.models.keyedvectors.Vocab at 0x242899958d0>,\n",
       " 'what': <gensim.models.keyedvectors.Vocab at 0x24289995908>,\n",
       " 'fun': <gensim.models.keyedvectors.Vocab at 0x24289995940>,\n",
       " 'it': <gensim.models.keyedvectors.Vocab at 0x24289995978>,\n",
       " 'is': <gensim.models.keyedvectors.Vocab at 0x242899959b0>,\n",
       " 'to': <gensim.models.keyedvectors.Vocab at 0x242899959e8>,\n",
       " 'ride': <gensim.models.keyedvectors.Vocab at 0x24289995a20>,\n",
       " 'and': <gensim.models.keyedvectors.Vocab at 0x24289995a58>,\n",
       " 'sing': <gensim.models.keyedvectors.Vocab at 0x24289995a90>,\n",
       " 'sleighing': <gensim.models.keyedvectors.Vocab at 0x24289995ac8>,\n",
       " 'song': <gensim.models.keyedvectors.Vocab at 0x24289995b00>,\n",
       " 'tonight': <gensim.models.keyedvectors.Vocab at 0x24289995b38>}"
      ]
     },
     "execution_count": 72,
     "metadata": {},
     "output_type": "execute_result"
    }
   ],
   "source": [
    "# inspect vocabulary\n",
    "word2vec.wv.vocab"
   ]
  },
  {
   "cell_type": "code",
   "execution_count": 73,
   "metadata": {},
   "outputs": [
    {
     "data": {
      "text/plain": [
       "(34, 10)"
      ]
     },
     "execution_count": 73,
     "metadata": {},
     "output_type": "execute_result"
    }
   ],
   "source": [
    "# get word vectors\n",
    "word2vec.wv.vectors.shape"
   ]
  },
  {
   "cell_type": "code",
   "execution_count": null,
   "metadata": {},
   "outputs": [],
   "source": []
  },
  {
   "cell_type": "code",
   "execution_count": 74,
   "metadata": {},
   "outputs": [
    {
     "data": {
      "image/png": "[encoded data removed]",
      "text/plain": [
       "<Figure size 432x288 with 1 Axes>"
      ]
     },
     "metadata": {
      "needs_background": "light"
     },
     "output_type": "display_data"
    }
   ],
   "source": [
    "# plot the vectors in vector space\n",
    "from sklearn.decomposition import PCA\n",
    "\n",
    "pca = PCA(n_components=2)\n",
    "\n",
    "wv_2d = pca.fit_transform(word2vec.wv.vectors)\n",
    "\n",
    "fig, ax = plt.subplots()\n",
    "vocab = word2vec.wv.vocab\n",
    "\n",
    "ax.scatter(wv_2d[:, 0], wv_2d[:, 1])\n",
    "\n",
    "for i, word in enumerate(vocab):\n",
    "    ax.annotate(word, (wv_2d[i, 0], wv_2d[i, 1]))"
   ]
  },
  {
   "cell_type": "markdown",
   "metadata": {},
   "source": [
    "### Pre-trained Word2Vec models\n",
    "\n",
    "Instead of training your own word2vec, you can alternatively load the (large!) pre-trained models\n",
    "\n",
    "https://github.com/RaRe-Technologies/gensim-data"
   ]
  },
  {
   "cell_type": "code",
   "execution_count": null,
   "metadata": {},
   "outputs": [],
   "source": []
  },
  {
   "cell_type": "markdown",
   "metadata": {},
   "source": [
    "# Putting it together"
   ]
  },
  {
   "cell_type": "markdown",
   "metadata": {},
   "source": [
    "### TF-IDF vectorisation"
   ]
  },
  {
   "cell_type": "code",
   "execution_count": 75,
   "metadata": {},
   "outputs": [],
   "source": [
    "class StemmerTokenizer(object):\n",
    "    def __init__(self):\n",
    "        self.stemmer = SnowballStemmer(language='english')\n",
    "        self.stop = set(stopwords.words('english'))\n",
    "\n",
    "    def __call__(self, doc):\n",
    "\n",
    "        # tokenize text into tokens\n",
    "        tokens = word_tokenize(doc)\n",
    "\n",
    "        # strip out punctuation\n",
    "        words = [t for t in tokens if t.isalpha()]\n",
    "        \n",
    "        # strip out stopwords\n",
    "        words = [t for t in words if t not in self.stop]\n",
    "        \n",
    "        # lemmatize each token\n",
    "        return [self.stemmer.stem(t) for t in words]\n",
    "\n",
    "tfidf = TfidfVectorizer(analyzer='word', tokenizer=StemmerTokenizer())"
   ]
  },
  {
   "cell_type": "code",
   "execution_count": null,
   "metadata": {},
   "outputs": [],
   "source": []
  },
  {
   "cell_type": "markdown",
   "metadata": {},
   "source": [
    "### Word2Vec\n",
    "\n",
    "Word2Vec vectors are more geared towards deep learning. We will revisit this after we've covered Deep Learning.\n",
    "\n",
    "To use this with sklearn, we will need to perform an averaging or summing operation on the Word2Vec vectors.\n",
    "\n",
    "Example: https://nadbordrozd.github.io/blog/2016/05/20/text-classification-with-word2vec/"
   ]
  },
  {
   "cell_type": "code",
   "execution_count": 76,
   "metadata": {},
   "outputs": [],
   "source": [
    "stem_tokenise = StemmerTokenizer()\n",
    "train_tokens = [stem_tokenise(review) for review in df_train.review]\n",
    "\n",
    "# train word2vec\n",
    "dimension = 50 # vector size of 5\n",
    "window_size = 10 # 5 words around each token\n",
    "word2vec = Word2Vec(train_tokens, size=dimension, window=window_size,\n",
    "                    min_count=1, workers=4)"
   ]
  },
  {
   "cell_type": "code",
   "execution_count": 77,
   "metadata": {},
   "outputs": [
    {
     "data": {
      "text/plain": [
       "[('funni', 0.9988646507263184),\n",
       " ('rate', 0.9983547925949097),\n",
       " ('overal', 0.997759997844696),\n",
       " ('suck', 0.997560977935791),\n",
       " ('end', 0.9975547790527344),\n",
       " ('fun', 0.9974384903907776),\n",
       " ('terribl', 0.9973731637001038),\n",
       " ('this', 0.9969583749771118),\n",
       " ('pretti', 0.9969315528869629),\n",
       " ('entertain', 0.9965165257453918)]"
      ]
     },
     "execution_count": 77,
     "metadata": {},
     "output_type": "execute_result"
    }
   ],
   "source": [
    "# inspect vocab\n",
    "# inspect vectors\n",
    "word2vec.wv.most_similar('horror')"
   ]
  },
  {
   "cell_type": "code",
   "execution_count": null,
   "metadata": {},
   "outputs": [],
   "source": [
    "# plot first N vectors\n",
    "from sklearn.manifold import TSNE\n",
    "num_to_plot = 100\n",
    "\n",
    "tsne = TSNE(n_components=2)\n",
    "\n",
    "wv_2d = tsne.fit_transform(word2vec.wv.vectors[:num_to_plot])\n",
    "\n",
    "fig, ax = plt.subplots(figsize=(15, 10))\n",
    "vocab = word2vec.wv.index2word[:num_to_plot]\n",
    "\n",
    "ax.scatter(wv_2d[:, 0], wv_2d[:, 1])\n",
    "\n",
    "for i, word in enumerate(vocab):\n",
    "    ax.annotate(word, (wv_2d[i, 0], wv_2d[i, 1]))"
   ]
  },
  {
   "cell_type": "markdown",
   "metadata": {},
   "source": [
    "#### Applying Word Vectors in sklearn (Advanced)"
   ]
  },
  {
   "cell_type": "code",
   "execution_count": 84,
   "metadata": {},
   "outputs": [],
   "source": [
    "class EmbeddingVectorizer(object):\n",
    "    def __init__(self, word2vec, dimension):\n",
    "        self.word2vec = word2vec\n",
    "        # if a text is empty we should return a vector of zeros\n",
    "        # with the same dimensionality as all the other vectors\n",
    "        self.dim = dimension\n",
    "\n",
    "    def fit_transform(self, X):\n",
    "        return np.array([\n",
    "            # take the mean of the word vectors for that word\n",
    "            # or zero if the word is out of vocabulary\n",
    "            np.mean([self.word2vec[w] for w in words if w in self.word2vec]\n",
    "                    or [np.zeros(self.dim)], axis=0)\n",
    "            for words in X\n",
    "        ])"
   ]
  },
  {
   "cell_type": "code",
   "execution_count": 85,
   "metadata": {},
   "outputs": [
    {
     "data": {
      "text/plain": [
       "array([[-1.0196497 ,  0.37326747,  0.52921486, ..., -0.43196118,\n",
       "        -0.03446192,  0.24069342],\n",
       "       [-0.9849607 ,  0.48519412,  0.6487241 , ..., -0.49223754,\n",
       "        -0.11414311,  0.29095602],\n",
       "       [-1.167735  ,  0.46075565,  0.66950035, ..., -0.510481  ,\n",
       "        -0.06021508,  0.3042708 ],\n",
       "       ...,\n",
       "       [-0.9477591 ,  0.4235014 ,  0.58861554, ..., -0.45990774,\n",
       "        -0.07499728,  0.26947865],\n",
       "       [-0.99030614,  0.35024667,  0.5396627 , ..., -0.4345945 ,\n",
       "        -0.00431083,  0.24832533],\n",
       "       [-1.0121374 ,  0.40062177,  0.58204323, ..., -0.46473366,\n",
       "        -0.04050661,  0.26623076]], dtype=float32)"
      ]
     },
     "execution_count": 85,
     "metadata": {},
     "output_type": "execute_result"
    }
   ],
   "source": [
    "w2v = dict(zip(word2vec.wv.index2word, word2vec.wv.vectors))\n",
    "mev = EmbeddingVectorizer(w2v, dimension)\n",
    "\n",
    "Z_train_word2vec = mev.fit_transform(train_tokens)\n",
    "Z_train_word2vec"
   ]
  },
  {
   "cell_type": "code",
   "execution_count": null,
   "metadata": {},
   "outputs": [],
   "source": []
  },
  {
   "cell_type": "markdown",
   "metadata": {},
   "source": [
    "# Visualisation in 2D"
   ]
  },
  {
   "cell_type": "code",
   "execution_count": 81,
   "metadata": {},
   "outputs": [
    {
     "data": {
      "text/plain": [
       "<matplotlib.legend.Legend at 0x2428d8b6d68>"
      ]
     },
     "execution_count": 81,
     "metadata": {},
     "output_type": "execute_result"
    },
    {
     "data": {
      "image/png": "[encoded data removed]",
      "text/plain": [
       "<Figure size 432x288 with 1 Axes>"
      ]
     },
     "metadata": {
      "needs_background": "light"
     },
     "output_type": "display_data"
    }
   ],
   "source": [
    "# visualize only the first n rows\n",
    "n = 3000\n",
    "\n",
    "# Vectors are about the same magnitude, so no need to scale\n",
    "pca = PCA(n_components=2)\n",
    "Z_train_2d = pca.fit_transform(Z_train[:n].todense())\n",
    "y_train = df_train.label[:n]\n",
    "\n",
    "fig, ax = plt.subplots()\n",
    "\n",
    "labels = ['pos', 'neg']\n",
    "\n",
    "for l in labels:\n",
    "    ax.scatter(Z_train_2d[y_train == l, 0],\n",
    "               Z_train_2d[y_train == l, 1],\n",
    "               label=l)\n",
    "\n",
    "ax.set(title='PCA of reviews (TF-IDF representation)')\n",
    "\n",
    "ax.legend()"
   ]
  },
  {
   "cell_type": "code",
   "execution_count": 82,
   "metadata": {},
   "outputs": [
    {
     "data": {
      "text/plain": [
       "<matplotlib.legend.Legend at 0x2428d8ba710>"
      ]
     },
     "execution_count": 82,
     "metadata": {},
     "output_type": "execute_result"
    },
    {
     "data": {
      "image/png": "[encoded data removed]",
      "text/plain": [
       "<Figure size 432x288 with 1 Axes>"
      ]
     },
     "metadata": {
      "needs_background": "light"
     },
     "output_type": "display_data"
    }
   ],
   "source": [
    "# visualize only the first n rows\n",
    "n = 3000\n",
    "\n",
    "# Vectors are about the same magnitude, so no need to scale\n",
    "pca = PCA(n_components=2)\n",
    "Z_train_2d = pca.fit_transform(Z_train_word2vec[:n])\n",
    "y_train = df_train.label[:n]\n",
    "\n",
    "fig, ax = plt.subplots()\n",
    "\n",
    "labels = ['pos', 'neg']\n",
    "\n",
    "for l in labels:\n",
    "    ax.scatter(Z_train_2d[y_train == l, 0],\n",
    "               Z_train_2d[y_train == l, 1],\n",
    "               label=l)\n",
    "\n",
    "ax.set(title='PCA of reviews (word vector representation)')\n",
    "    \n",
    "ax.legend()"
   ]
  },
  {
   "cell_type": "code",
   "execution_count": null,
   "metadata": {},
   "outputs": [],
   "source": []
  },
  {
   "cell_type": "markdown",
   "metadata": {},
   "source": [
    "# Training Classifiers"
   ]
  },
  {
   "cell_type": "code",
   "execution_count": null,
   "metadata": {},
   "outputs": [],
   "source": [
    "from sklearn.model_selection import cross_validate\n",
    "from sklearn.svm import SVC\n",
    "from sklearn.linear_model import SGDClassifier\n",
    "from sklearn.metrics import classification_report, confusion_matrix"
   ]
  },
  {
   "cell_type": "code",
   "execution_count": null,
   "metadata": {},
   "outputs": [],
   "source": []
  },
  {
   "cell_type": "code",
   "execution_count": null,
   "metadata": {},
   "outputs": [],
   "source": []
  },
  {
   "cell_type": "code",
   "execution_count": null,
   "metadata": {},
   "outputs": [],
   "source": []
  }
 ],
 "metadata": {
  "kernelspec": {
   "display_name": "Python 3",
   "language": "python",
   "name": "python3"
  },
  "language_info": {
   "codemirror_mode": {
    "name": "ipython",
    "version": 3
   },
   "file_extension": ".py",
   "mimetype": "text/x-python",
   "name": "python",
   "nbconvert_exporter": "python",
   "pygments_lexer": "ipython3",
   "version": "3.6.7"
  }
 },
 "nbformat": 4,
 "nbformat_minor": 2
}
