{
 "cells": [
  {
   "cell_type": "markdown",
   "metadata": {},
   "source": [
    "# Deep Learning: GPU Setup\n",
    "\n",
    "## Important: Laptop Pre-requisites\n",
    "\n",
    "1. If you have a Mac, skip this setup.  You will be using CPU for training. Our workshops will still run within the alloted time.\n",
    "\n",
    "2. If you have a Windows laptop, check if your laptop has a green NVidia logo. Here's an example: ![image](https://encrypted-tbn0.gstatic.com/images?q=tbn:ANd9GcRms09BvmkYccxU1TleSVa94TYfcHk6PEw934f1S85au95iXJ8g) (actual logo may differ)\n",
    "  \n",
    "  No logo: skip this setup. You will be using CPU for training. Our workshops will still run within the alloted time. \n",
    "  \n",
    "  Got logo: Good news, you may have a GPU that can speed up deep learning by about 5-6 times (depending on neural network and GPU)! Proceed with the rest of the steps.\n",
    "\n",
    "\n",
    "3. Check your laptop specifications to determine if your GPU is one of the supported ones here:\n",
    "https://developer.nvidia.com/cuda-gpus\n",
    "\n",
    "```\n",
    "Question: How can I find out which GPU is in my computer?\n",
    "Answer: On Windows computers:\n",
    "\n",
    "Right-click on desktop\n",
    "If you see \"NVIDIA Control Panel\" or \"NVIDIA Display\" in the pop-up window, you have an NVIDIA GPU\n",
    "Click on \"NVIDIA Control Panel\" or \"NVIDIA Display\" in the pop-up window\n",
    "Look at \"Graphics Card Information\"\n",
    "You will see the name of your NVIDIA GPU\n",
    "```\n",
    "  \n",
    "### What if I don't meet requirements and still want to try GPU?\n",
    "\n",
    "For your final project, you can try Colaboratory (http://colab.research.google.com/), which is a free service that supports running on Google cloud using a basic GPU. You may have to pay for faster GPUs."
   ]
  },
  {
   "cell_type": "markdown",
   "metadata": {},
   "source": [
    "### A. Download CUDA Toolkit\n",
    "\n",
    "**Skip this if your laptop doesn't meet pre-requisites**\n",
    "\n",
    "1. Download the CUDA Toolkit.  This will take about 20-30 minutes to download. The current version supported by Keras (and Tensorflow) is **9.2**: https://developer.nvidia.com/cuda-92-download-archive\n",
    "\n",
    "    **Important: DO NOT install CUDA 10.0. 10.0 is released in September 2018 and [not yet supported](https://github.com/tensorflow/tensorflow/issues/22706) by Keras (and Tensorflow)**\n",
    "\n",
    "\n",
    "2. Install the CUDA Toolkit. You can choose the default options.\n",
    "\n",
    "\n",
    "3. Reboot the computer when prompted, if you are asked to install a graphics driver.\n",
    "\n",
    "Documentation: https://docs.nvidia.com/cuda/archive/9.2/cuda-installation-guide-microsoft-windows/index.html"
   ]
  },
  {
   "cell_type": "markdown",
   "metadata": {},
   "source": [
    "### B. Install Keras with Tensorflow, GPU version:\n",
    "\n",
    "**Skip this if your laptop doesn't meet pre-requisites**\n",
    "\n",
    "Open an Anaconda Prompt:\n",
    "\n",
    "1. Activate the mldds environment\n",
    "```\n",
    "conda activate mldds\n",
    "```\n",
    "\n",
    "2. Uninstall the CPU-version of Keras. By default, Keras is CPU-only. A different package is needed to install the GPU version.\n",
    "```\n",
    "conda uninstall keras tensorflow\n",
    "```\n",
    "\n",
    "   Note: Installing keras (CPU version) includes tensorflow (CPU version). No separate install of tensorflow is needed.  When uninstalling keras, make sure we also uninstall tensorflow CPU version.\n",
    "\n",
    "\n",
    "3. Install the GPU-version of Keras (which includes Tensorflow GPU version)\n",
    "\n",
    "```\n",
    "conda install -y keras-gpu\n",
    "```"
   ]
  },
  {
   "cell_type": "markdown",
   "metadata": {},
   "source": [
    "### C. Verify your GPU configuration\n",
    "\n",
    "Even though we will be using Keras in the class, Keras actually calls down to Tensorflow in the backend.\n",
    "\n",
    "Therefore, the most direct way to test GPU install is to use Tensorflow Python code. We will not be writing Tensorflow code in this class.\n",
    "\n",
    "Run the following cells to make sure you don't get any errors.\n",
    "\n",
    "Expected output:\n",
    "\n",
    "Cell 1:\n",
    "```\n",
    "[[22. 28.]\n",
    " [49. 64.]]\n",
    "```\n",
    "\n",
    "Cell 2:\n",
    "```\n",
    "Using TensorFlow backend.\n",
    "['/job:localhost/replica:0/task:0/device:GPU:0'] \n",
    "```"
   ]
  },
  {
   "cell_type": "code",
   "execution_count": 1,
   "metadata": {},
   "outputs": [
    {
     "name": "stdout",
     "output_type": "stream",
     "text": [
      "[[22. 28.]\n",
      " [49. 64.]]\n"
     ]
    }
   ],
   "source": [
    "import tensorflow as tf\n",
    "with tf.device('/gpu:0'):\n",
    "    a = tf.constant([1.0, 2.0, 3.0, 4.0, 5.0, 6.0], shape=[2, 3], name='a')\n",
    "    b = tf.constant([1.0, 2.0, 3.0, 4.0, 5.0, 6.0], shape=[3, 2], name='b')\n",
    "    c = tf.matmul(a, b)\n",
    "\n",
    "with tf.Session() as sess:\n",
    "    print (sess.run(c))"
   ]
  },
  {
   "cell_type": "code",
   "execution_count": 2,
   "metadata": {},
   "outputs": [
    {
     "name": "stderr",
     "output_type": "stream",
     "text": [
      "Using TensorFlow backend.\n"
     ]
    },
    {
     "data": {
      "text/plain": [
       "['/job:localhost/replica:0/task:0/device:GPU:0',\n",
       " '/job:localhost/replica:0/task:0/device:GPU:1']"
      ]
     },
     "execution_count": 2,
     "metadata": {},
     "output_type": "execute_result"
    }
   ],
   "source": [
    "from keras import backend as K\n",
    "K.tensorflow_backend._get_available_gpus()"
   ]
  },
  {
   "cell_type": "code",
   "execution_count": null,
   "metadata": {},
   "outputs": [],
   "source": []
  },
  {
   "cell_type": "markdown",
   "metadata": {},
   "source": [
    "### Problems?\n",
    "\n",
    "If you run into problems, you can revert back to the CPU version of Keras and Tensorflow\n",
    "\n",
    "```\n",
    "# if problem installing and verifying keras-gpu, revert back to CPU versions\n",
    "\n",
    "conda uninstall keras-gpu tensorflow-gpu\n",
    "conda install keras\n",
    "```"
   ]
  },
  {
   "cell_type": "code",
   "execution_count": null,
   "metadata": {},
   "outputs": [],
   "source": []
  }
 ],
 "metadata": {
  "kernelspec": {
   "display_name": "Python 3",
   "language": "python",
   "name": "python3"
  },
  "language_info": {
   "codemirror_mode": {
    "name": "ipython",
    "version": 3
   },
   "file_extension": ".py",
   "mimetype": "text/x-python",
   "name": "python",
   "nbconvert_exporter": "python",
   "pygments_lexer": "ipython3",
   "version": "3.6.7"
  }
 },
 "nbformat": 4,
 "nbformat_minor": 2
}
