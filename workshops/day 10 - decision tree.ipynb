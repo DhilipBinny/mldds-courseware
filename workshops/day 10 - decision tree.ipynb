{
 "cells": [
  {
   "cell_type": "code",
   "execution_count": null,
   "metadata": {},
   "outputs": [],
   "source": [
    "# Demonstration: IRIS dataset\n",
    "# - fit decision tree classifier\n",
    "# - inspect decision tree\n",
    "\n",
    "# - pros and cons\n",
    "# - tuning the decision tree\n",
    "\n",
    "# Exercise: MNIST dataset"
   ]
  },
  {
   "cell_type": "code",
   "execution_count": 1,
   "metadata": {},
   "outputs": [],
   "source": [
    "from sklearn.datasets import load_iris\n",
    "\n",
    "iris = load_iris()\n",
    "\n",
    "X = iris.data\n",
    "y = iris.target"
   ]
  },
  {
   "cell_type": "code",
   "execution_count": 40,
   "metadata": {},
   "outputs": [],
   "source": [
    "from sklearn.model_selection import train_test_split\n",
    "\n",
    "X_train, X_test, y_train, y_test = train_test_split(X, y, random_state=31)"
   ]
  },
  {
   "cell_type": "code",
   "execution_count": 41,
   "metadata": {},
   "outputs": [
    {
     "data": {
      "text/plain": [
       "(112, 4)"
      ]
     },
     "execution_count": 41,
     "metadata": {},
     "output_type": "execute_result"
    }
   ],
   "source": [
    "X_train.shape"
   ]
  },
  {
   "cell_type": "code",
   "execution_count": 42,
   "metadata": {},
   "outputs": [
    {
     "data": {
      "text/plain": [
       "['sepal length (cm)',\n",
       " 'sepal width (cm)',\n",
       " 'petal length (cm)',\n",
       " 'petal width (cm)']"
      ]
     },
     "execution_count": 42,
     "metadata": {},
     "output_type": "execute_result"
    }
   ],
   "source": [
    "iris.feature_names"
   ]
  },
  {
   "cell_type": "code",
   "execution_count": 43,
   "metadata": {},
   "outputs": [
    {
     "data": {
      "text/plain": [
       "array([2.1, 1.3, 0.3, 1.9, 2. , 0.2, 1.2, 1. , 0.2, 0.2, 1.3, 1.8, 2.3,\n",
       "       0.2, 0.5, 1. , 2.3, 0.2, 1.4, 0.2, 1.3, 2.1, 0.2, 0.1, 1.8, 0.4,\n",
       "       2.2, 0.2, 1.5, 0.4, 1.8, 0.2, 1.5, 1.9, 0.2, 1. , 1.2, 0.2, 0.3,\n",
       "       1.4, 1.3, 1.5, 2.3, 2. , 1.4, 1.6, 0.2, 2. , 1.1, 0.2, 0.1, 2.1,\n",
       "       0.4, 0.2, 0.3, 1.3, 1.5, 2. , 2.3, 0.4, 2.5, 0.2, 0.2, 2.5, 1.4,\n",
       "       0.2, 1.7, 1.8, 1.8, 0.1, 1.3, 2.4, 0.2, 1.8, 0.1, 1.4, 2.3, 1. ,\n",
       "       0.3, 1.6, 1.3, 0.2, 0.2, 2.3, 1.8, 1.3, 1.9, 2.4, 1.5, 0.2, 1.7,\n",
       "       2.3, 1.9, 1.8, 1.5, 1.3, 1.9, 2. , 1.8, 1. , 0.2, 1.2, 0.3, 0.2,\n",
       "       2. , 1.2, 0.2, 1.3, 1.1, 1.8, 0.4, 1.3])"
      ]
     },
     "execution_count": 43,
     "metadata": {},
     "output_type": "execute_result"
    }
   ],
   "source": [
    "import numpy as np\n",
    "\n",
    "X_train[:, 3]"
   ]
  },
  {
   "cell_type": "code",
   "execution_count": 44,
   "metadata": {},
   "outputs": [
    {
     "data": {
      "text/plain": [
       "array([0.1, 0.1, 0.1, 0.1, 0.2, 0.2, 0.2, 0.2, 0.2, 0.2, 0.2, 0.2, 0.2,\n",
       "       0.2, 0.2, 0.2, 0.2, 0.2, 0.2, 0.2, 0.2, 0.2, 0.2, 0.2, 0.2, 0.2,\n",
       "       0.2, 0.2, 0.3, 0.3, 0.3, 0.3, 0.3, 0.4, 0.4, 0.4, 0.4, 0.4, 0.5,\n",
       "       1. , 1. , 1. , 1. , 1. , 1.1, 1.1, 1.2, 1.2, 1.2, 1.2, 1.3, 1.3,\n",
       "       1.3, 1.3, 1.3, 1.3, 1.3, 1.3, 1.3, 1.3, 1.3, 1.4, 1.4, 1.4, 1.4,\n",
       "       1.4, 1.5, 1.5, 1.5, 1.5, 1.5, 1.5, 1.6, 1.6, 1.7, 1.7, 1.8, 1.8,\n",
       "       1.8, 1.8, 1.8, 1.8, 1.8, 1.8, 1.8, 1.8, 1.9, 1.9, 1.9, 1.9, 1.9,\n",
       "       2. , 2. , 2. , 2. , 2. , 2. , 2.1, 2.1, 2.1, 2.2, 2.3, 2.3, 2.3,\n",
       "       2.3, 2.3, 2.3, 2.3, 2.4, 2.4, 2.5, 2.5])"
      ]
     },
     "execution_count": 44,
     "metadata": {},
     "output_type": "execute_result"
    }
   ],
   "source": [
    "np.sort(X_train[:, 3])"
   ]
  },
  {
   "cell_type": "code",
   "execution_count": 45,
   "metadata": {},
   "outputs": [
    {
     "data": {
      "text/plain": [
       "(38, 4)"
      ]
     },
     "execution_count": 45,
     "metadata": {},
     "output_type": "execute_result"
    }
   ],
   "source": [
    "X_test.shape"
   ]
  },
  {
   "cell_type": "code",
   "execution_count": 46,
   "metadata": {
    "scrolled": false
   },
   "outputs": [
    {
     "data": {
      "text/plain": [
       "0.9473684210526315"
      ]
     },
     "execution_count": 46,
     "metadata": {},
     "output_type": "execute_result"
    }
   ],
   "source": [
    "# - fit decision tree classifier\n",
    "from sklearn.tree import DecisionTreeClassifier\n",
    "\n",
    "# 4: perfect score: investigate?\n",
    "dtc_entropy = DecisionTreeClassifier(criterion='entropy', max_depth=3)\n",
    "\n",
    "dtc_entropy.fit(X_train, y_train)\n",
    "dtc_entropy.score(X_test, y_test) # mean accuracy"
   ]
  },
  {
   "cell_type": "code",
   "execution_count": 47,
   "metadata": {},
   "outputs": [
    {
     "name": "stdout",
     "output_type": "stream",
     "text": [
      "              precision    recall  f1-score   support\n",
      "\n",
      "           0       1.00      1.00      1.00        11\n",
      "           1       1.00      0.88      0.93        16\n",
      "           2       0.85      1.00      0.92        11\n",
      "\n",
      "   micro avg       0.95      0.95      0.95        38\n",
      "   macro avg       0.95      0.96      0.95        38\n",
      "weighted avg       0.96      0.95      0.95        38\n",
      "\n",
      "[[11  0  0]\n",
      " [ 0 14  2]\n",
      " [ 0  0 11]]\n"
     ]
    }
   ],
   "source": [
    "from sklearn.metrics import classification_report, confusion_matrix\n",
    "\n",
    "pred_entropy = dtc_entropy.predict(X_test)\n",
    "\n",
    "print(classification_report(y_test, pred_entropy))\n",
    "print(confusion_matrix(y_test, pred_entropy))"
   ]
  },
  {
   "cell_type": "code",
   "execution_count": null,
   "metadata": {},
   "outputs": [],
   "source": []
  },
  {
   "cell_type": "code",
   "execution_count": 48,
   "metadata": {},
   "outputs": [
    {
     "data": {
      "text/plain": [
       "'iris_entropy.dot.pdf'"
      ]
     },
     "execution_count": 48,
     "metadata": {},
     "output_type": "execute_result"
    }
   ],
   "source": [
    "# - inspect decision tree\n",
    "# conda install python-graphviz\n",
    "\n",
    "from sklearn.tree import export_graphviz\n",
    "import graphviz\n",
    "\n",
    "filename = 'iris_entropy.dot'\n",
    "export_graphviz(dtc_entropy,\n",
    "                out_file=filename,\n",
    "                feature_names=iris.feature_names,\n",
    "                class_names=iris.target_names, filled=True,\n",
    "                rounded=True)\n",
    "\n",
    "source = graphviz.Source.from_file(filename)\n",
    "source.render(view=True)"
   ]
  },
  {
   "cell_type": "code",
   "execution_count": 72,
   "metadata": {},
   "outputs": [
    {
     "name": "stdout",
     "output_type": "stream",
     "text": [
      "1.0\n",
      "1.0\n"
     ]
    },
    {
     "data": {
      "text/plain": [
       "'iris_gini_depth5.dot.pdf'"
      ]
     },
     "execution_count": 72,
     "metadata": {},
     "output_type": "execute_result"
    }
   ],
   "source": [
    "dtc_gini = DecisionTreeClassifier(criterion='gini', max_depth=4,\n",
    "                                  random_state=24)\n",
    "\n",
    "dtc_gini.fit(X_train, y_train)\n",
    "print(dtc_gini.score(X_test, y_test)) # mean accuracy\n",
    "\n",
    "filename = 'iris_gini_depth4.dot'\n",
    "export_graphviz(dtc_gini,\n",
    "                out_file=filename,\n",
    "                feature_names=iris.feature_names,\n",
    "                class_names=iris.target_names, filled=True,\n",
    "                rounded=True)\n",
    "\n",
    "source = graphviz.Source.from_file(filename)\n",
    "source.render(view=True)\n",
    "\n",
    "dtc_gini = DecisionTreeClassifier(criterion='gini', max_depth=5,\n",
    "                                  random_state=24)\n",
    "\n",
    "dtc_gini.fit(X_train, y_train)\n",
    "print(dtc_gini.score(X_test, y_test)) # mean accuracy\n",
    "\n",
    "filename = 'iris_gini_depth5.dot'\n",
    "export_graphviz(dtc_gini,\n",
    "                out_file=filename,\n",
    "                feature_names=iris.feature_names,\n",
    "                class_names=iris.target_names, filled=True,\n",
    "                rounded=True)\n",
    "\n",
    "source = graphviz.Source.from_file(filename)\n",
    "source.render(view=True)"
   ]
  },
  {
   "cell_type": "code",
   "execution_count": 68,
   "metadata": {},
   "outputs": [
    {
     "name": "stdout",
     "output_type": "stream",
     "text": [
      "1.0\n"
     ]
    }
   ],
   "source": [
    "print(dtc_gini.score(X_test, y_test)) # mean accurac"
   ]
  },
  {
   "cell_type": "code",
   "execution_count": 73,
   "metadata": {},
   "outputs": [
    {
     "data": {
      "text/plain": [
       "array([0.        , 0.03793136, 0.32291776, 0.63915088])"
      ]
     },
     "execution_count": 73,
     "metadata": {},
     "output_type": "execute_result"
    }
   ],
   "source": [
    "dtc_entropy.feature_importances_"
   ]
  },
  {
   "cell_type": "code",
   "execution_count": 74,
   "metadata": {},
   "outputs": [
    {
     "name": "stdout",
     "output_type": "stream",
     "text": [
      "sepal length (cm) 0.0\n",
      "sepal width (cm) 0.037931356617116406\n",
      "petal length (cm) 0.3229177588472077\n",
      "petal width (cm) 0.639150884535676\n"
     ]
    }
   ],
   "source": [
    "# Feature importance\n",
    "for i in range(len(iris.feature_names)):\n",
    "    print(iris.feature_names[i], dtc_entropy.feature_importances_[i])"
   ]
  },
  {
   "cell_type": "code",
   "execution_count": null,
   "metadata": {},
   "outputs": [],
   "source": []
  },
  {
   "cell_type": "code",
   "execution_count": null,
   "metadata": {},
   "outputs": [],
   "source": []
  },
  {
   "cell_type": "code",
   "execution_count": null,
   "metadata": {},
   "outputs": [],
   "source": [
    "# overfitting\n",
    "#\n",
    "# Tree-specific:\n",
    "#  max depth\n",
    "#  max leaf nodes\n",
    "#  min_samples_leaf\n",
    "#\n",
    "# Machine learning:\n",
    "#  Cross validation\n",
    "#  Forests\n",
    "#"
   ]
  },
  {
   "cell_type": "code",
   "execution_count": 79,
   "metadata": {},
   "outputs": [
    {
     "name": "stdout",
     "output_type": "stream",
     "text": [
      "Fitting 3 folds for each of 18 candidates, totalling 54 fits\n",
      "best score 1.0\n",
      "best parameters {'max_depth': 5, 'max_leaf_nodes': 10, 'min_samples_leaf': 5}\n"
     ]
    },
    {
     "name": "stderr",
     "output_type": "stream",
     "text": [
      "[Parallel(n_jobs=1)]: Done  54 out of  54 | elapsed:    0.0s finished\n"
     ]
    }
   ],
   "source": [
    "# Tune decision tree using GridSearchCV (for larger datasets like MNIST)\n",
    "\n",
    "from sklearn.model_selection import GridSearchCV\n",
    " \n",
    "param_grid = {\n",
    "    'max_depth': [5, 10, 15], # limit depth to avoid overfitting\n",
    "    'max_leaf_nodes': [10, 15], # limit leaf nodes also for overfitting\n",
    "    'min_samples_leaf': [5, 10, 15]  # sets minimum support for leaf\n",
    "}\n",
    "\n",
    "# Note: better to use RandomForestClassifier because result is more stable\n",
    "gs = GridSearchCV(DecisionTreeClassifier(random_state=42),\n",
    "                 param_grid, verbose=True) # verbose: print more information\n",
    "gs.fit(X_train, y_train)\n",
    "print('best score', gs.score(X_test, y_test))\n",
    "print('best parameters', gs.best_params_)"
   ]
  },
  {
   "cell_type": "code",
   "execution_count": 78,
   "metadata": {},
   "outputs": [],
   "source": []
  },
  {
   "cell_type": "code",
   "execution_count": 39,
   "metadata": {},
   "outputs": [],
   "source": [
    "# https://github.com/scikit-learn/scikit-learn/blob/79bdc8f711d0af225ed6be9fdb708cea9f98a910/sklearn/tree/export.py\n",
    "def export_dict(tree, feature_names=None, max_depth=None):\n",
    "    \"\"\"Export a decision tree in dict format.\n",
    "    Parameters\n",
    "    ----------\n",
    "    decision_tree : decision tree classifier\n",
    "        The decision tree to be exported\n",
    "    feature_names : list of strings, optional (default=None)\n",
    "        Names of each of the features.\n",
    "    max_depth : int, optional (default=None)\n",
    "        The maximum depth of the representation. If None, the tree is fully\n",
    "        generated.\n",
    "    Returns\n",
    "    -------\n",
    "    a dictionary of the format <tree> := {\n",
    "        'feature' <int> | <string>,\n",
    "        'threshold' : <float>,\n",
    "        'impurity' : <float>,\n",
    "        'n_node_samples' : <int>,\n",
    "        'left' : <tree>,\n",
    "        'right' : <tree>,\n",
    "        'value' : [<int>],\n",
    "    }\n",
    "    if feature_names is provided, it is used to map feature indicies\n",
    "    to feature names.  All types (including the value list) are native\n",
    "    python types as opposed to numpy types to make exporting to json\n",
    "    and other pythonic operations easier.\n",
    "    Examples\n",
    "    --------\n",
    "    >>> from sklearn.datasets import load_iris\n",
    "    >>> from sklearn import tree\n",
    "    >>> import json\n",
    "    >>> clf = tree.DecisionTreeClassifier()\n",
    "    >>> iris = load_iris()\n",
    "    >>> clf = clf.fit(iris.data, iris.target)\n",
    "    >>> d = export_dict(clf)\n",
    "    >>> j = json.dumps(d, indent=4)\n",
    "    \"\"\"\n",
    "    from sklearn.tree import _tree\n",
    "    \n",
    "    tree_ = tree.tree_\n",
    "\n",
    "    # i is the element in the tree_ to create a dict for\n",
    "    def recur(i, depth=0) :\n",
    "        if max_depth is not None and depth > max_depth :\n",
    "            return None\n",
    "        if i == _tree.TREE_LEAF :\n",
    "            return None\n",
    "\n",
    "        feature = int(tree_.feature[i])\n",
    "        threshold = float(tree_.threshold[i])\n",
    "        if feature == _tree.TREE_UNDEFINED :\n",
    "            feature = None\n",
    "            threshold = None\n",
    "            value = [map(int, l) for l in tree_.value[i].tolist()]\n",
    "        else :\n",
    "            value = None\n",
    "            if feature_names :\n",
    "                feature = feature_names[feature]\n",
    "\n",
    "        return {\n",
    "            'feature' : feature,\n",
    "            'threshold' : threshold,\n",
    "            'impurity' : float(tree_.impurity[i]),\n",
    "            'n_node_samples' : int(tree_.n_node_samples[i]),\n",
    "            'left'  : recur(tree_.children_left[i],  depth + 1),\n",
    "            'right' : recur(tree_.children_right[i], depth + 1),\n",
    "            'value' : value,\n",
    "        }\n",
    "\n",
    "    return recur(0)"
   ]
  },
  {
   "cell_type": "code",
   "execution_count": 40,
   "metadata": {
    "scrolled": false
   },
   "outputs": [
    {
     "data": {
      "text/plain": [
       "{'feature': 'petal length (cm)',\n",
       " 'threshold': 2.450000047683716,\n",
       " 'impurity': 1.5834545859901241,\n",
       " 'n_node_samples': 112,\n",
       " 'left': {'feature': None,\n",
       "  'threshold': None,\n",
       "  'impurity': 0.0,\n",
       "  'n_node_samples': 35,\n",
       "  'left': None,\n",
       "  'right': None,\n",
       "  'value': [<map at 0x212fa8231d0>]},\n",
       " 'right': {'feature': 'petal length (cm)',\n",
       "  'threshold': 4.75,\n",
       "  'impurity': 0.9998783322990061,\n",
       "  'n_node_samples': 77,\n",
       "  'left': {'feature': 'petal width (cm)',\n",
       "   'threshold': 1.6500000953674316,\n",
       "   'impurity': 0.18717625687320816,\n",
       "   'n_node_samples': 35,\n",
       "   'left': {'feature': None,\n",
       "    'threshold': None,\n",
       "    'impurity': 0.0,\n",
       "    'n_node_samples': 34,\n",
       "    'left': None,\n",
       "    'right': None,\n",
       "    'value': [<map at 0x212fa8232b0>]},\n",
       "   'right': {'feature': None,\n",
       "    'threshold': None,\n",
       "    'impurity': 0.0,\n",
       "    'n_node_samples': 1,\n",
       "    'left': None,\n",
       "    'right': None,\n",
       "    'value': [<map at 0x212fa8230f0>]},\n",
       "   'value': None},\n",
       "  'right': {'feature': 'petal length (cm)',\n",
       "   'threshold': 5.149999618530273,\n",
       "   'impurity': 0.5266170655714282,\n",
       "   'n_node_samples': 42,\n",
       "   'left': {'feature': 'petal width (cm)',\n",
       "    'threshold': 1.75,\n",
       "    'impurity': 0.8960382325345575,\n",
       "    'n_node_samples': 16,\n",
       "    'left': {'feature': 'sepal width (cm)',\n",
       "     'threshold': 2.3499999046325684,\n",
       "     'impurity': 0.9182958340544896,\n",
       "     'n_node_samples': 6,\n",
       "     'left': {'feature': None,\n",
       "      'threshold': None,\n",
       "      'impurity': 0.0,\n",
       "      'n_node_samples': 1,\n",
       "      'left': None,\n",
       "      'right': None,\n",
       "      'value': [<map at 0x212fa8230b8>]},\n",
       "     'right': {'feature': 'petal length (cm)',\n",
       "      'threshold': 5.050000190734863,\n",
       "      'impurity': 0.7219280948873623,\n",
       "      'n_node_samples': 5,\n",
       "      'left': {'feature': None,\n",
       "       'threshold': None,\n",
       "       'impurity': 0.0,\n",
       "       'n_node_samples': 3,\n",
       "       'left': None,\n",
       "       'right': None,\n",
       "       'value': [<map at 0x212fa823630>]},\n",
       "      'right': {'feature': 'sepal width (cm)',\n",
       "       'threshold': 2.75,\n",
       "       'impurity': 1.0,\n",
       "       'n_node_samples': 2,\n",
       "       'left': {'feature': None,\n",
       "        'threshold': None,\n",
       "        'impurity': 0.0,\n",
       "        'n_node_samples': 1,\n",
       "        'left': None,\n",
       "        'right': None,\n",
       "        'value': [<map at 0x212fa823390>]},\n",
       "       'right': {'feature': None,\n",
       "        'threshold': None,\n",
       "        'impurity': 0.0,\n",
       "        'n_node_samples': 1,\n",
       "        'left': None,\n",
       "        'right': None,\n",
       "        'value': [<map at 0x212fa823358>]},\n",
       "       'value': None},\n",
       "      'value': None},\n",
       "     'value': None},\n",
       "    'right': {'feature': 'sepal width (cm)',\n",
       "     'threshold': 3.0999999046325684,\n",
       "     'impurity': 0.4689955935892812,\n",
       "     'n_node_samples': 10,\n",
       "     'left': {'feature': None,\n",
       "      'threshold': None,\n",
       "      'impurity': 0.0,\n",
       "      'n_node_samples': 9,\n",
       "      'left': None,\n",
       "      'right': None,\n",
       "      'value': [<map at 0x212fa8232e8>]},\n",
       "     'right': {'feature': None,\n",
       "      'threshold': None,\n",
       "      'impurity': 0.0,\n",
       "      'n_node_samples': 1,\n",
       "      'left': None,\n",
       "      'right': None,\n",
       "      'value': [<map at 0x212fa823240>]},\n",
       "     'value': None},\n",
       "    'value': None},\n",
       "   'right': {'feature': None,\n",
       "    'threshold': None,\n",
       "    'impurity': 0.0,\n",
       "    'n_node_samples': 26,\n",
       "    'left': None,\n",
       "    'right': None,\n",
       "    'value': [<map at 0x212fa8239b0>]},\n",
       "   'value': None},\n",
       "  'value': None},\n",
       " 'value': None}"
      ]
     },
     "execution_count": 40,
     "metadata": {},
     "output_type": "execute_result"
    }
   ],
   "source": [
    "d = export_dict(dtc_entropy, iris.feature_names)\n",
    "d"
   ]
  },
  {
   "cell_type": "code",
   "execution_count": null,
   "metadata": {},
   "outputs": [],
   "source": []
  },
  {
   "cell_type": "markdown",
   "metadata": {},
   "source": [
    "### Decision Tree Regressor\n",
    "\n"
   ]
  },
  {
   "cell_type": "code",
   "execution_count": 50,
   "metadata": {},
   "outputs": [
    {
     "data": {
      "text/html": [
       "<div>\n",
       "<style scoped>\n",
       "    .dataframe tbody tr th:only-of-type {\n",
       "        vertical-align: middle;\n",
       "    }\n",
       "\n",
       "    .dataframe tbody tr th {\n",
       "        vertical-align: top;\n",
       "    }\n",
       "\n",
       "    .dataframe thead th {\n",
       "        text-align: right;\n",
       "    }\n",
       "</style>\n",
       "<table border=\"1\" class=\"dataframe\">\n",
       "  <thead>\n",
       "    <tr style=\"text-align: right;\">\n",
       "      <th></th>\n",
       "      <th>mpg</th>\n",
       "      <th>cylinders</th>\n",
       "      <th>displacement</th>\n",
       "      <th>horsepower</th>\n",
       "      <th>weight</th>\n",
       "      <th>acceleration</th>\n",
       "      <th>model_year</th>\n",
       "      <th>origin</th>\n",
       "    </tr>\n",
       "  </thead>\n",
       "  <tbody>\n",
       "    <tr>\n",
       "      <th>0</th>\n",
       "      <td>18.0</td>\n",
       "      <td>8</td>\n",
       "      <td>307.0</td>\n",
       "      <td>130.0</td>\n",
       "      <td>3504.0</td>\n",
       "      <td>12.0</td>\n",
       "      <td>70</td>\n",
       "      <td>1</td>\n",
       "    </tr>\n",
       "    <tr>\n",
       "      <th>1</th>\n",
       "      <td>15.0</td>\n",
       "      <td>8</td>\n",
       "      <td>350.0</td>\n",
       "      <td>165.0</td>\n",
       "      <td>3693.0</td>\n",
       "      <td>11.5</td>\n",
       "      <td>70</td>\n",
       "      <td>1</td>\n",
       "    </tr>\n",
       "    <tr>\n",
       "      <th>2</th>\n",
       "      <td>18.0</td>\n",
       "      <td>8</td>\n",
       "      <td>318.0</td>\n",
       "      <td>150.0</td>\n",
       "      <td>3436.0</td>\n",
       "      <td>11.0</td>\n",
       "      <td>70</td>\n",
       "      <td>1</td>\n",
       "    </tr>\n",
       "    <tr>\n",
       "      <th>3</th>\n",
       "      <td>16.0</td>\n",
       "      <td>8</td>\n",
       "      <td>304.0</td>\n",
       "      <td>150.0</td>\n",
       "      <td>3433.0</td>\n",
       "      <td>12.0</td>\n",
       "      <td>70</td>\n",
       "      <td>1</td>\n",
       "    </tr>\n",
       "    <tr>\n",
       "      <th>4</th>\n",
       "      <td>17.0</td>\n",
       "      <td>8</td>\n",
       "      <td>302.0</td>\n",
       "      <td>140.0</td>\n",
       "      <td>3449.0</td>\n",
       "      <td>10.5</td>\n",
       "      <td>70</td>\n",
       "      <td>1</td>\n",
       "    </tr>\n",
       "  </tbody>\n",
       "</table>\n",
       "</div>"
      ],
      "text/plain": [
       "    mpg  cylinders  displacement  horsepower  weight  acceleration  \\\n",
       "0  18.0          8         307.0       130.0  3504.0          12.0   \n",
       "1  15.0          8         350.0       165.0  3693.0          11.5   \n",
       "2  18.0          8         318.0       150.0  3436.0          11.0   \n",
       "3  16.0          8         304.0       150.0  3433.0          12.0   \n",
       "4  17.0          8         302.0       140.0  3449.0          10.5   \n",
       "\n",
       "   model_year  origin  \n",
       "0          70       1  \n",
       "1          70       1  \n",
       "2          70       1  \n",
       "3          70       1  \n",
       "4          70       1  "
      ]
     },
     "execution_count": 50,
     "metadata": {},
     "output_type": "execute_result"
    }
   ],
   "source": [
    "import pandas as pd\n",
    "df = pd.read_csv('../data/auto-mpg/auto-mpg.data.txt', sep='\\s+',\n",
    "                names=['mpg', 'cylinders', 'displacement',\n",
    "                       'horsepower', 'weight', 'acceleration', 'model_year',\n",
    "                       'origin', 'car_name'],\n",
    "                header=None,\n",
    "                na_values=['?'])\n",
    "\n",
    "# Attribute Information:\n",
    "#    1. mpg:           continuous\n",
    "#    2. cylinders:     multi-valued discrete\n",
    "#    3. displacement:  continuous\n",
    "#    4. horsepower:    continuous\n",
    "#    5. weight:        continuous\n",
    "#    6. acceleration:  continuous\n",
    "#    7. model year:    multi-valued discrete\n",
    "#    8. origin:        multi-valued discrete\n",
    "#    9. car name:      string (mostly unique for each instance)\n",
    "\n",
    "df.drop(['car_name'], axis=1, inplace=True)\n",
    "df.dropna(inplace=True)\n",
    "df.head()"
   ]
  },
  {
   "cell_type": "code",
   "execution_count": 52,
   "metadata": {},
   "outputs": [
    {
     "name": "stdout",
     "output_type": "stream",
     "text": [
      "(294, 7)\n",
      "(98, 7)\n"
     ]
    }
   ],
   "source": [
    "X = df.loc[:, df.columns != 'mpg']\n",
    "y = df.mpg\n",
    "X_train, X_test, y_train, y_test = train_test_split(X, y, random_state=42)\n",
    "\n",
    "print(X_train.shape)\n",
    "print(X_test.shape)"
   ]
  },
  {
   "cell_type": "code",
   "execution_count": 58,
   "metadata": {},
   "outputs": [
    {
     "name": "stdout",
     "output_type": "stream",
     "text": [
      "0.8168506048851136\n"
     ]
    },
    {
     "data": {
      "text/plain": [
       "'autompg_entropy_depth5.dot.pdf'"
      ]
     },
     "execution_count": 58,
     "metadata": {},
     "output_type": "execute_result"
    }
   ],
   "source": [
    "from sklearn.tree import DecisionTreeRegressor\n",
    "dtr = DecisionTreeRegressor(random_state=42, max_depth=5)\n",
    "\n",
    "dtr.fit(X_train, y_train)\n",
    "print(dtr.score(X_test, y_test)) # r2 score\n",
    "\n",
    "filename = 'autompg_entropy_depth5.dot'\n",
    "export_graphviz(dtr,\n",
    "                feature_names=df.columns[df.columns != 'mpg'],\n",
    "                out_file=filename,\n",
    "                filled=True,\n",
    "                rounded=True)\n",
    "\n",
    "source = graphviz.Source.from_file(filename)\n",
    "source.render(view=True)"
   ]
  },
  {
   "cell_type": "code",
   "execution_count": null,
   "metadata": {},
   "outputs": [],
   "source": []
  }
 ],
 "metadata": {
  "kernelspec": {
   "display_name": "Python 3",
   "language": "python",
   "name": "python3"
  },
  "language_info": {
   "codemirror_mode": {
    "name": "ipython",
    "version": 3
   },
   "file_extension": ".py",
   "mimetype": "text/x-python",
   "name": "python",
   "nbconvert_exporter": "python",
   "pygments_lexer": "ipython3",
   "version": "3.6.6"
  }
 },
 "nbformat": 4,
 "nbformat_minor": 2
}
