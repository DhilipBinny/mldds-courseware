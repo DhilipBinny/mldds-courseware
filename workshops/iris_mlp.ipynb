{
  "nbformat": 4,
  "nbformat_minor": 0,
  "metadata": {
    "colab": {
      "name": "iris_mlp.ipynb",
      "provenance": [],
      "include_colab_link": true
    },
    "kernelspec": {
      "name": "python3",
      "display_name": "Python 3"
    }
  },
  "cells": [
    {
      "cell_type": "markdown",
      "metadata": {
        "id": "view-in-github",
        "colab_type": "text"
      },
      "source": [
        "<a href=\"https://colab.research.google.com/github/lisaong/mldds-courseware/blob/master/workshops/iris_mlp.ipynb\" target=\"_parent\"><img src=\"https://colab.research.google.com/assets/colab-badge.svg\" alt=\"Open In Colab\"/></a>"
      ]
    },
    {
      "cell_type": "code",
      "metadata": {
        "id": "i9IP-Ule47sw",
        "colab_type": "code",
        "colab": {}
      },
      "source": [
        "%tensorflow_version 2.x\n",
        "\n",
        "import tensorflow as tf\n",
        "import tensorflow.keras as keras\n",
        "from sklearn.datasets import load_iris\n",
        "from sklearn.model_selection import train_test_split\n",
        "from sklearn.preprocessing import MinMaxScaler"
      ],
      "execution_count": 0,
      "outputs": []
    },
    {
      "cell_type": "code",
      "metadata": {
        "id": "uk-J3Kw55_yE",
        "colab_type": "code",
        "colab": {}
      },
      "source": [
        "X, y = load_iris(return_X_y=True)\n",
        "X"
      ],
      "execution_count": 0,
      "outputs": []
    },
    {
      "cell_type": "code",
      "metadata": {
        "id": "aB3CMiuM6fwG",
        "colab_type": "code",
        "colab": {}
      },
      "source": [
        "y"
      ],
      "execution_count": 0,
      "outputs": []
    },
    {
      "cell_type": "code",
      "metadata": {
        "id": "5f3V_Pqv6leL",
        "colab_type": "code",
        "colab": {}
      },
      "source": [
        "num_classes=3\n",
        "y_cat = keras.utils.to_categorical(y, num_classes)\n",
        "y_cat"
      ],
      "execution_count": 0,
      "outputs": []
    },
    {
      "cell_type": "code",
      "metadata": {
        "id": "O9Portvo66r5",
        "colab_type": "code",
        "colab": {}
      },
      "source": [
        "X_train, X_test, y_train, y_test = train_test_split(X, y_cat, stratify=y_cat)"
      ],
      "execution_count": 0,
      "outputs": []
    },
    {
      "cell_type": "code",
      "metadata": {
        "id": "tOU7zne61Fw9",
        "colab_type": "code",
        "colab": {}
      },
      "source": [
        "scaler = MinMaxScaler(feature_range=(-1,1))\n",
        "X_train_sc = scaler.fit_transform(X_train)"
      ],
      "execution_count": 0,
      "outputs": []
    },
    {
      "cell_type": "code",
      "metadata": {
        "id": "0luswnQz7Pse",
        "colab_type": "code",
        "colab": {}
      },
      "source": [
        "# neural network\n",
        "\n",
        "from tensorflow.keras.models import Sequential\n",
        "from tensorflow.keras.layers import Dense"
      ],
      "execution_count": 0,
      "outputs": []
    },
    {
      "cell_type": "code",
      "metadata": {
        "id": "Mi6RGUtE7wk9",
        "colab_type": "code",
        "outputId": "5a1a734f-5fb8-4e56-f731-3566ce44be7d",
        "colab": {
          "base_uri": "https://localhost:8080/",
          "height": 217
        }
      },
      "source": [
        "model = Sequential()\n",
        "model.add(Dense(num_classes, input_shape=(4,), activation='softmax'))\n",
        "model.summary()"
      ],
      "execution_count": 9,
      "outputs": [
        {
          "output_type": "stream",
          "text": [
            "Model: \"sequential\"\n",
            "_________________________________________________________________\n",
            "Layer (type)                 Output Shape              Param #   \n",
            "=================================================================\n",
            "dense (Dense)                (None, 3)                 15        \n",
            "=================================================================\n",
            "Total params: 15\n",
            "Trainable params: 15\n",
            "Non-trainable params: 0\n",
            "_________________________________________________________________\n"
          ],
          "name": "stdout"
        }
      ]
    },
    {
      "cell_type": "code",
      "metadata": {
        "id": "WlONzoKQ9Axo",
        "colab_type": "code",
        "colab": {}
      },
      "source": [
        "model.compile(optimizer='sgd', loss='categorical_crossentropy', metrics=['accuracy'])"
      ],
      "execution_count": 0,
      "outputs": []
    },
    {
      "cell_type": "code",
      "metadata": {
        "id": "Nqsn335p9Thz",
        "colab_type": "code",
        "outputId": "3a519f66-7d28-4d31-8df0-3319119c3b08",
        "colab": {
          "base_uri": "https://localhost:8080/",
          "height": 1000
        }
      },
      "source": [
        "# incremental fit\n",
        "\n",
        "history = model.fit(X_train_sc, y_train, batch_size=16, epochs=100, validation_split=.2)"
      ],
      "execution_count": 16,
      "outputs": [
        {
          "output_type": "stream",
          "text": [
            "Train on 89 samples, validate on 23 samples\n",
            "Epoch 1/100\n",
            "89/89 [==============================] - 0s 4ms/sample - loss: 0.5526 - accuracy: 0.8652 - val_loss: 0.4946 - val_accuracy: 0.8696\n",
            "Epoch 2/100\n",
            "89/89 [==============================] - 0s 294us/sample - loss: 0.5507 - accuracy: 0.8652 - val_loss: 0.4923 - val_accuracy: 0.8696\n",
            "Epoch 3/100\n",
            "89/89 [==============================] - 0s 250us/sample - loss: 0.5487 - accuracy: 0.8652 - val_loss: 0.4901 - val_accuracy: 0.8696\n",
            "Epoch 4/100\n",
            "89/89 [==============================] - 0s 296us/sample - loss: 0.5468 - accuracy: 0.8652 - val_loss: 0.4878 - val_accuracy: 0.8696\n",
            "Epoch 5/100\n",
            "89/89 [==============================] - 0s 275us/sample - loss: 0.5448 - accuracy: 0.8652 - val_loss: 0.4854 - val_accuracy: 0.8696\n",
            "Epoch 6/100\n",
            "89/89 [==============================] - 0s 259us/sample - loss: 0.5429 - accuracy: 0.8652 - val_loss: 0.4834 - val_accuracy: 0.8696\n",
            "Epoch 7/100\n",
            "89/89 [==============================] - 0s 255us/sample - loss: 0.5410 - accuracy: 0.8652 - val_loss: 0.4812 - val_accuracy: 0.8696\n",
            "Epoch 8/100\n",
            "89/89 [==============================] - 0s 288us/sample - loss: 0.5393 - accuracy: 0.8652 - val_loss: 0.4793 - val_accuracy: 0.8696\n",
            "Epoch 9/100\n",
            "89/89 [==============================] - 0s 265us/sample - loss: 0.5374 - accuracy: 0.8652 - val_loss: 0.4773 - val_accuracy: 0.9130\n",
            "Epoch 10/100\n",
            "89/89 [==============================] - 0s 251us/sample - loss: 0.5358 - accuracy: 0.8652 - val_loss: 0.4753 - val_accuracy: 0.9130\n",
            "Epoch 11/100\n",
            "89/89 [==============================] - 0s 245us/sample - loss: 0.5339 - accuracy: 0.8652 - val_loss: 0.4734 - val_accuracy: 0.9130\n",
            "Epoch 12/100\n",
            "89/89 [==============================] - 0s 258us/sample - loss: 0.5322 - accuracy: 0.8652 - val_loss: 0.4715 - val_accuracy: 0.9130\n",
            "Epoch 13/100\n",
            "89/89 [==============================] - 0s 277us/sample - loss: 0.5305 - accuracy: 0.8652 - val_loss: 0.4695 - val_accuracy: 0.9130\n",
            "Epoch 14/100\n",
            "89/89 [==============================] - 0s 295us/sample - loss: 0.5288 - accuracy: 0.8652 - val_loss: 0.4676 - val_accuracy: 0.9130\n",
            "Epoch 15/100\n",
            "89/89 [==============================] - 0s 258us/sample - loss: 0.5271 - accuracy: 0.8652 - val_loss: 0.4657 - val_accuracy: 0.9130\n",
            "Epoch 16/100\n",
            "89/89 [==============================] - 0s 251us/sample - loss: 0.5253 - accuracy: 0.8764 - val_loss: 0.4638 - val_accuracy: 0.9130\n",
            "Epoch 17/100\n",
            "89/89 [==============================] - 0s 249us/sample - loss: 0.5236 - accuracy: 0.8764 - val_loss: 0.4619 - val_accuracy: 0.9130\n",
            "Epoch 18/100\n",
            "89/89 [==============================] - 0s 251us/sample - loss: 0.5221 - accuracy: 0.8764 - val_loss: 0.4602 - val_accuracy: 0.9130\n",
            "Epoch 19/100\n",
            "89/89 [==============================] - 0s 293us/sample - loss: 0.5205 - accuracy: 0.8764 - val_loss: 0.4584 - val_accuracy: 0.9130\n",
            "Epoch 20/100\n",
            "89/89 [==============================] - 0s 272us/sample - loss: 0.5189 - accuracy: 0.8764 - val_loss: 0.4565 - val_accuracy: 0.9130\n",
            "Epoch 21/100\n",
            "89/89 [==============================] - 0s 294us/sample - loss: 0.5174 - accuracy: 0.8764 - val_loss: 0.4547 - val_accuracy: 0.9130\n",
            "Epoch 22/100\n",
            "89/89 [==============================] - 0s 303us/sample - loss: 0.5157 - accuracy: 0.8764 - val_loss: 0.4528 - val_accuracy: 0.9130\n",
            "Epoch 23/100\n",
            "89/89 [==============================] - 0s 262us/sample - loss: 0.5142 - accuracy: 0.8764 - val_loss: 0.4511 - val_accuracy: 0.9130\n",
            "Epoch 24/100\n",
            "89/89 [==============================] - 0s 264us/sample - loss: 0.5126 - accuracy: 0.8764 - val_loss: 0.4495 - val_accuracy: 0.9130\n",
            "Epoch 25/100\n",
            "89/89 [==============================] - 0s 289us/sample - loss: 0.5111 - accuracy: 0.8764 - val_loss: 0.4480 - val_accuracy: 0.9130\n",
            "Epoch 26/100\n",
            "89/89 [==============================] - 0s 321us/sample - loss: 0.5097 - accuracy: 0.8764 - val_loss: 0.4461 - val_accuracy: 0.9130\n",
            "Epoch 27/100\n",
            "89/89 [==============================] - 0s 249us/sample - loss: 0.5082 - accuracy: 0.8764 - val_loss: 0.4445 - val_accuracy: 0.9130\n",
            "Epoch 28/100\n",
            "89/89 [==============================] - 0s 270us/sample - loss: 0.5067 - accuracy: 0.8764 - val_loss: 0.4427 - val_accuracy: 0.9130\n",
            "Epoch 29/100\n",
            "89/89 [==============================] - 0s 280us/sample - loss: 0.5052 - accuracy: 0.8764 - val_loss: 0.4411 - val_accuracy: 0.9130\n",
            "Epoch 30/100\n",
            "89/89 [==============================] - 0s 276us/sample - loss: 0.5039 - accuracy: 0.8764 - val_loss: 0.4396 - val_accuracy: 0.9130\n",
            "Epoch 31/100\n",
            "89/89 [==============================] - 0s 286us/sample - loss: 0.5025 - accuracy: 0.8876 - val_loss: 0.4380 - val_accuracy: 0.9130\n",
            "Epoch 32/100\n",
            "89/89 [==============================] - 0s 294us/sample - loss: 0.5010 - accuracy: 0.8876 - val_loss: 0.4365 - val_accuracy: 0.9130\n",
            "Epoch 33/100\n",
            "89/89 [==============================] - 0s 256us/sample - loss: 0.4996 - accuracy: 0.8876 - val_loss: 0.4349 - val_accuracy: 0.9130\n",
            "Epoch 34/100\n",
            "89/89 [==============================] - 0s 275us/sample - loss: 0.4981 - accuracy: 0.8876 - val_loss: 0.4331 - val_accuracy: 0.9130\n",
            "Epoch 35/100\n",
            "89/89 [==============================] - 0s 257us/sample - loss: 0.4967 - accuracy: 0.8876 - val_loss: 0.4316 - val_accuracy: 0.9130\n",
            "Epoch 36/100\n",
            "89/89 [==============================] - 0s 262us/sample - loss: 0.4953 - accuracy: 0.8876 - val_loss: 0.4301 - val_accuracy: 0.9130\n",
            "Epoch 37/100\n",
            "89/89 [==============================] - 0s 265us/sample - loss: 0.4942 - accuracy: 0.8876 - val_loss: 0.4288 - val_accuracy: 0.9130\n",
            "Epoch 38/100\n",
            "89/89 [==============================] - 0s 322us/sample - loss: 0.4926 - accuracy: 0.8876 - val_loss: 0.4273 - val_accuracy: 0.9130\n",
            "Epoch 39/100\n",
            "89/89 [==============================] - 0s 270us/sample - loss: 0.4914 - accuracy: 0.8876 - val_loss: 0.4260 - val_accuracy: 0.9130\n",
            "Epoch 40/100\n",
            "89/89 [==============================] - 0s 271us/sample - loss: 0.4902 - accuracy: 0.8876 - val_loss: 0.4246 - val_accuracy: 0.9130\n",
            "Epoch 41/100\n",
            "89/89 [==============================] - 0s 271us/sample - loss: 0.4888 - accuracy: 0.8876 - val_loss: 0.4231 - val_accuracy: 0.9130\n",
            "Epoch 42/100\n",
            "89/89 [==============================] - 0s 259us/sample - loss: 0.4874 - accuracy: 0.8876 - val_loss: 0.4216 - val_accuracy: 0.9130\n",
            "Epoch 43/100\n",
            "89/89 [==============================] - 0s 262us/sample - loss: 0.4862 - accuracy: 0.8876 - val_loss: 0.4201 - val_accuracy: 0.9130\n",
            "Epoch 44/100\n",
            "89/89 [==============================] - 0s 270us/sample - loss: 0.4849 - accuracy: 0.8989 - val_loss: 0.4187 - val_accuracy: 0.9130\n",
            "Epoch 45/100\n",
            "89/89 [==============================] - 0s 256us/sample - loss: 0.4837 - accuracy: 0.8989 - val_loss: 0.4174 - val_accuracy: 0.9130\n",
            "Epoch 46/100\n",
            "89/89 [==============================] - 0s 267us/sample - loss: 0.4824 - accuracy: 0.8989 - val_loss: 0.4162 - val_accuracy: 0.9130\n",
            "Epoch 47/100\n",
            "89/89 [==============================] - 0s 245us/sample - loss: 0.4812 - accuracy: 0.8989 - val_loss: 0.4149 - val_accuracy: 0.9130\n",
            "Epoch 48/100\n",
            "89/89 [==============================] - 0s 254us/sample - loss: 0.4800 - accuracy: 0.8989 - val_loss: 0.4137 - val_accuracy: 0.9130\n",
            "Epoch 49/100\n",
            "89/89 [==============================] - 0s 280us/sample - loss: 0.4789 - accuracy: 0.8989 - val_loss: 0.4125 - val_accuracy: 0.9130\n",
            "Epoch 50/100\n",
            "89/89 [==============================] - 0s 260us/sample - loss: 0.4777 - accuracy: 0.8989 - val_loss: 0.4114 - val_accuracy: 0.9130\n",
            "Epoch 51/100\n",
            "89/89 [==============================] - 0s 287us/sample - loss: 0.4765 - accuracy: 0.8989 - val_loss: 0.4102 - val_accuracy: 0.9130\n",
            "Epoch 52/100\n",
            "89/89 [==============================] - 0s 250us/sample - loss: 0.4754 - accuracy: 0.8989 - val_loss: 0.4091 - val_accuracy: 0.9130\n",
            "Epoch 53/100\n",
            "89/89 [==============================] - 0s 263us/sample - loss: 0.4742 - accuracy: 0.8989 - val_loss: 0.4078 - val_accuracy: 0.9130\n",
            "Epoch 54/100\n",
            "89/89 [==============================] - 0s 300us/sample - loss: 0.4731 - accuracy: 0.8989 - val_loss: 0.4065 - val_accuracy: 0.9130\n",
            "Epoch 55/100\n",
            "89/89 [==============================] - 0s 288us/sample - loss: 0.4720 - accuracy: 0.8989 - val_loss: 0.4052 - val_accuracy: 0.9130\n",
            "Epoch 56/100\n",
            "89/89 [==============================] - 0s 315us/sample - loss: 0.4709 - accuracy: 0.8989 - val_loss: 0.4040 - val_accuracy: 0.9130\n",
            "Epoch 57/100\n",
            "89/89 [==============================] - 0s 309us/sample - loss: 0.4698 - accuracy: 0.8989 - val_loss: 0.4027 - val_accuracy: 0.9130\n",
            "Epoch 58/100\n",
            "89/89 [==============================] - 0s 327us/sample - loss: 0.4687 - accuracy: 0.8989 - val_loss: 0.4016 - val_accuracy: 0.9130\n",
            "Epoch 59/100\n",
            "89/89 [==============================] - 0s 298us/sample - loss: 0.4674 - accuracy: 0.8989 - val_loss: 0.4005 - val_accuracy: 0.9130\n",
            "Epoch 60/100\n",
            "89/89 [==============================] - 0s 267us/sample - loss: 0.4664 - accuracy: 0.8989 - val_loss: 0.3993 - val_accuracy: 0.9130\n",
            "Epoch 61/100\n",
            "89/89 [==============================] - 0s 257us/sample - loss: 0.4653 - accuracy: 0.8989 - val_loss: 0.3982 - val_accuracy: 0.9130\n",
            "Epoch 62/100\n",
            "89/89 [==============================] - 0s 299us/sample - loss: 0.4642 - accuracy: 0.8989 - val_loss: 0.3971 - val_accuracy: 0.9130\n",
            "Epoch 63/100\n",
            "89/89 [==============================] - 0s 269us/sample - loss: 0.4631 - accuracy: 0.8989 - val_loss: 0.3958 - val_accuracy: 0.9130\n",
            "Epoch 64/100\n",
            "89/89 [==============================] - 0s 277us/sample - loss: 0.4621 - accuracy: 0.8989 - val_loss: 0.3947 - val_accuracy: 0.9130\n",
            "Epoch 65/100\n",
            "89/89 [==============================] - 0s 263us/sample - loss: 0.4610 - accuracy: 0.8989 - val_loss: 0.3936 - val_accuracy: 0.9130\n",
            "Epoch 66/100\n",
            "89/89 [==============================] - 0s 260us/sample - loss: 0.4600 - accuracy: 0.8989 - val_loss: 0.3925 - val_accuracy: 0.9130\n",
            "Epoch 67/100\n",
            "89/89 [==============================] - 0s 285us/sample - loss: 0.4590 - accuracy: 0.8989 - val_loss: 0.3914 - val_accuracy: 0.9130\n",
            "Epoch 68/100\n",
            "89/89 [==============================] - 0s 280us/sample - loss: 0.4579 - accuracy: 0.8989 - val_loss: 0.3904 - val_accuracy: 0.9130\n",
            "Epoch 69/100\n",
            "89/89 [==============================] - 0s 247us/sample - loss: 0.4569 - accuracy: 0.8989 - val_loss: 0.3893 - val_accuracy: 0.9130\n",
            "Epoch 70/100\n",
            "89/89 [==============================] - 0s 294us/sample - loss: 0.4560 - accuracy: 0.8989 - val_loss: 0.3883 - val_accuracy: 0.9130\n",
            "Epoch 71/100\n",
            "89/89 [==============================] - 0s 248us/sample - loss: 0.4549 - accuracy: 0.8989 - val_loss: 0.3873 - val_accuracy: 0.9130\n",
            "Epoch 72/100\n",
            "89/89 [==============================] - 0s 262us/sample - loss: 0.4539 - accuracy: 0.8989 - val_loss: 0.3862 - val_accuracy: 0.9130\n",
            "Epoch 73/100\n",
            "89/89 [==============================] - 0s 293us/sample - loss: 0.4529 - accuracy: 0.8989 - val_loss: 0.3852 - val_accuracy: 0.9130\n",
            "Epoch 74/100\n",
            "89/89 [==============================] - 0s 307us/sample - loss: 0.4519 - accuracy: 0.8876 - val_loss: 0.3842 - val_accuracy: 0.9130\n",
            "Epoch 75/100\n",
            "89/89 [==============================] - 0s 298us/sample - loss: 0.4509 - accuracy: 0.8876 - val_loss: 0.3832 - val_accuracy: 0.9130\n",
            "Epoch 76/100\n",
            "89/89 [==============================] - 0s 249us/sample - loss: 0.4500 - accuracy: 0.8876 - val_loss: 0.3822 - val_accuracy: 0.9130\n",
            "Epoch 77/100\n",
            "89/89 [==============================] - 0s 257us/sample - loss: 0.4491 - accuracy: 0.8876 - val_loss: 0.3813 - val_accuracy: 0.9130\n",
            "Epoch 78/100\n",
            "89/89 [==============================] - 0s 270us/sample - loss: 0.4482 - accuracy: 0.8876 - val_loss: 0.3805 - val_accuracy: 0.9130\n",
            "Epoch 79/100\n",
            "89/89 [==============================] - 0s 274us/sample - loss: 0.4471 - accuracy: 0.8989 - val_loss: 0.3794 - val_accuracy: 0.9130\n",
            "Epoch 80/100\n",
            "89/89 [==============================] - 0s 273us/sample - loss: 0.4462 - accuracy: 0.8989 - val_loss: 0.3784 - val_accuracy: 0.9130\n",
            "Epoch 81/100\n",
            "89/89 [==============================] - 0s 274us/sample - loss: 0.4452 - accuracy: 0.8989 - val_loss: 0.3774 - val_accuracy: 0.9130\n",
            "Epoch 82/100\n",
            "89/89 [==============================] - 0s 279us/sample - loss: 0.4443 - accuracy: 0.8989 - val_loss: 0.3764 - val_accuracy: 0.9130\n",
            "Epoch 83/100\n",
            "89/89 [==============================] - 0s 258us/sample - loss: 0.4434 - accuracy: 0.8989 - val_loss: 0.3755 - val_accuracy: 0.9130\n",
            "Epoch 84/100\n",
            "89/89 [==============================] - 0s 275us/sample - loss: 0.4425 - accuracy: 0.8989 - val_loss: 0.3747 - val_accuracy: 0.9130\n",
            "Epoch 85/100\n",
            "89/89 [==============================] - 0s 270us/sample - loss: 0.4416 - accuracy: 0.8989 - val_loss: 0.3738 - val_accuracy: 0.9130\n",
            "Epoch 86/100\n",
            "89/89 [==============================] - 0s 281us/sample - loss: 0.4407 - accuracy: 0.8989 - val_loss: 0.3729 - val_accuracy: 0.9130\n",
            "Epoch 87/100\n",
            "89/89 [==============================] - 0s 274us/sample - loss: 0.4399 - accuracy: 0.8989 - val_loss: 0.3719 - val_accuracy: 0.9130\n",
            "Epoch 88/100\n",
            "89/89 [==============================] - 0s 272us/sample - loss: 0.4389 - accuracy: 0.8989 - val_loss: 0.3710 - val_accuracy: 0.9130\n",
            "Epoch 89/100\n",
            "89/89 [==============================] - 0s 279us/sample - loss: 0.4381 - accuracy: 0.8989 - val_loss: 0.3702 - val_accuracy: 0.9130\n",
            "Epoch 90/100\n",
            "89/89 [==============================] - 0s 284us/sample - loss: 0.4372 - accuracy: 0.8989 - val_loss: 0.3694 - val_accuracy: 0.9130\n",
            "Epoch 91/100\n",
            "89/89 [==============================] - 0s 306us/sample - loss: 0.4364 - accuracy: 0.8989 - val_loss: 0.3686 - val_accuracy: 0.9130\n",
            "Epoch 92/100\n",
            "89/89 [==============================] - 0s 282us/sample - loss: 0.4355 - accuracy: 0.8989 - val_loss: 0.3676 - val_accuracy: 0.9130\n",
            "Epoch 93/100\n",
            "89/89 [==============================] - 0s 353us/sample - loss: 0.4347 - accuracy: 0.8989 - val_loss: 0.3668 - val_accuracy: 0.9130\n",
            "Epoch 94/100\n",
            "89/89 [==============================] - 0s 294us/sample - loss: 0.4339 - accuracy: 0.8876 - val_loss: 0.3658 - val_accuracy: 0.9130\n",
            "Epoch 95/100\n",
            "89/89 [==============================] - 0s 302us/sample - loss: 0.4330 - accuracy: 0.8876 - val_loss: 0.3650 - val_accuracy: 0.9130\n",
            "Epoch 96/100\n",
            "89/89 [==============================] - 0s 351us/sample - loss: 0.4322 - accuracy: 0.8876 - val_loss: 0.3641 - val_accuracy: 0.9130\n",
            "Epoch 97/100\n",
            "89/89 [==============================] - 0s 270us/sample - loss: 0.4313 - accuracy: 0.8876 - val_loss: 0.3633 - val_accuracy: 0.9130\n",
            "Epoch 98/100\n",
            "89/89 [==============================] - 0s 278us/sample - loss: 0.4305 - accuracy: 0.8876 - val_loss: 0.3624 - val_accuracy: 0.9130\n",
            "Epoch 99/100\n",
            "89/89 [==============================] - 0s 302us/sample - loss: 0.4297 - accuracy: 0.8876 - val_loss: 0.3617 - val_accuracy: 0.9130\n",
            "Epoch 100/100\n",
            "89/89 [==============================] - 0s 308us/sample - loss: 0.4289 - accuracy: 0.8876 - val_loss: 0.3607 - val_accuracy: 0.9130\n"
          ],
          "name": "stdout"
        }
      ]
    }
  ]
}