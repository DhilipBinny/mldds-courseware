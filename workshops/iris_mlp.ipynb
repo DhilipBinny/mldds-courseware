{
  "nbformat": 4,
  "nbformat_minor": 0,
  "metadata": {
    "colab": {
      "name": "iris_mlp.ipynb",
      "provenance": [],
      "include_colab_link": true
    },
    "kernelspec": {
      "name": "python3",
      "display_name": "Python 3"
    }
  },
  "cells": [
    {
      "cell_type": "markdown",
      "metadata": {
        "id": "view-in-github",
        "colab_type": "text"
      },
      "source": [
        "<a href=\"https://colab.research.google.com/github/lisaong/mldds-courseware/blob/master/workshops/iris_mlp.ipynb\" target=\"_parent\"><img src=\"https://colab.research.google.com/assets/colab-badge.svg\" alt=\"Open In Colab\"/></a>"
      ]
    },
    {
      "cell_type": "code",
      "metadata": {
        "id": "i9IP-Ule47sw",
        "colab_type": "code",
        "colab": {}
      },
      "source": [
        "%tensorflow_version 2.x\n",
        "\n",
        "import tensorflow as tf\n",
        "import tensorflow.keras as keras\n",
        "from sklearn.datasets import load_iris\n",
        "from sklearn.model_selection import train_test_split\n",
        "from sklearn.preprocessing import MinMaxScaler"
      ],
      "execution_count": 0,
      "outputs": []
    },
    {
      "cell_type": "code",
      "metadata": {
        "id": "uk-J3Kw55_yE",
        "colab_type": "code",
        "colab": {}
      },
      "source": [
        "X, y = load_iris(return_X_y=True)\n",
        "X"
      ],
      "execution_count": 0,
      "outputs": []
    },
    {
      "cell_type": "code",
      "metadata": {
        "id": "aB3CMiuM6fwG",
        "colab_type": "code",
        "colab": {}
      },
      "source": [
        "y"
      ],
      "execution_count": 0,
      "outputs": []
    },
    {
      "cell_type": "code",
      "metadata": {
        "id": "5f3V_Pqv6leL",
        "colab_type": "code",
        "colab": {}
      },
      "source": [
        "num_classes=3\n",
        "y_cat = keras.utils.to_categorical(y, num_classes)\n",
        "y_cat"
      ],
      "execution_count": 0,
      "outputs": []
    },
    {
      "cell_type": "code",
      "metadata": {
        "id": "O9Portvo66r5",
        "colab_type": "code",
        "colab": {}
      },
      "source": [
        "X_train, X_test, y_train, y_test = train_test_split(X, y_cat, stratify=y_cat)"
      ],
      "execution_count": 0,
      "outputs": []
    },
    {
      "cell_type": "code",
      "metadata": {
        "id": "tOU7zne61Fw9",
        "colab_type": "code",
        "colab": {}
      },
      "source": [
        "scaler = MinMaxScaler(feature_range=(-1,1))\n",
        "X_train_sc = scaler.fit_transform(X_train)"
      ],
      "execution_count": 0,
      "outputs": []
    },
    {
      "cell_type": "code",
      "metadata": {
        "id": "0luswnQz7Pse",
        "colab_type": "code",
        "colab": {}
      },
      "source": [
        "# neural network\n",
        "\n",
        "from tensorflow.keras.models import Sequential\n",
        "from tensorflow.keras.layers import Dense"
      ],
      "execution_count": 0,
      "outputs": []
    },
    {
      "cell_type": "code",
      "metadata": {
        "id": "Mi6RGUtE7wk9",
        "colab_type": "code",
        "outputId": "7867f6a8-b6b3-4f64-e434-610865d63f5a",
        "colab": {
          "base_uri": "https://localhost:8080/",
          "height": 217
        }
      },
      "source": [
        "model = Sequential()\n",
        "model.add(Dense(num_classes, input_shape=(4,), activation='softmax'))\n",
        "model.summary()"
      ],
      "execution_count": 24,
      "outputs": [
        {
          "output_type": "stream",
          "text": [
            "Model: \"sequential_1\"\n",
            "_________________________________________________________________\n",
            "Layer (type)                 Output Shape              Param #   \n",
            "=================================================================\n",
            "dense_1 (Dense)              (None, 3)                 15        \n",
            "=================================================================\n",
            "Total params: 15\n",
            "Trainable params: 15\n",
            "Non-trainable params: 0\n",
            "_________________________________________________________________\n"
          ],
          "name": "stdout"
        }
      ]
    },
    {
      "cell_type": "code",
      "metadata": {
        "id": "WlONzoKQ9Axo",
        "colab_type": "code",
        "colab": {}
      },
      "source": [
        "model.compile(optimizer='sgd', loss='categorical_crossentropy', metrics=['accuracy'])"
      ],
      "execution_count": 0,
      "outputs": []
    },
    {
      "cell_type": "code",
      "metadata": {
        "id": "Nqsn335p9Thz",
        "colab_type": "code",
        "outputId": "1df57158-a8b4-416f-865e-88537d488e56",
        "colab": {
          "base_uri": "https://localhost:8080/",
          "height": 1000
        }
      },
      "source": [
        "# incremental fit\n",
        "\n",
        "history = model.fit(X_train, y_train, batch_size=16, epochs=100, validation_split=.2)"
      ],
      "execution_count": 27,
      "outputs": [
        {
          "output_type": "stream",
          "text": [
            "Train on 89 samples, validate on 23 samples\n",
            "Epoch 1/100\n",
            "89/89 [==============================] - 0s 4ms/sample - loss: 1.8040 - accuracy: 0.3258 - val_loss: 2.1754 - val_accuracy: 0.1739\n",
            "Epoch 2/100\n",
            "89/89 [==============================] - 0s 276us/sample - loss: 1.5722 - accuracy: 0.3034 - val_loss: 2.0003 - val_accuracy: 0.3478\n",
            "Epoch 3/100\n",
            "89/89 [==============================] - 0s 285us/sample - loss: 1.5020 - accuracy: 0.3034 - val_loss: 1.8770 - val_accuracy: 0.2609\n",
            "Epoch 4/100\n",
            "89/89 [==============================] - 0s 289us/sample - loss: 1.4697 - accuracy: 0.2921 - val_loss: 1.7663 - val_accuracy: 0.2609\n",
            "Epoch 5/100\n",
            "89/89 [==============================] - 0s 281us/sample - loss: 1.4090 - accuracy: 0.3708 - val_loss: 1.7039 - val_accuracy: 0.3043\n",
            "Epoch 6/100\n",
            "89/89 [==============================] - 0s 285us/sample - loss: 1.3388 - accuracy: 0.3371 - val_loss: 1.6397 - val_accuracy: 0.3913\n",
            "Epoch 7/100\n",
            "89/89 [==============================] - 0s 268us/sample - loss: 1.2980 - accuracy: 0.3820 - val_loss: 1.5486 - val_accuracy: 0.3043\n",
            "Epoch 8/100\n",
            "89/89 [==============================] - 0s 289us/sample - loss: 1.2535 - accuracy: 0.3933 - val_loss: 1.5634 - val_accuracy: 0.1739\n",
            "Epoch 9/100\n",
            "89/89 [==============================] - 0s 252us/sample - loss: 1.2082 - accuracy: 0.3708 - val_loss: 1.4361 - val_accuracy: 0.2609\n",
            "Epoch 10/100\n",
            "89/89 [==============================] - 0s 281us/sample - loss: 1.1707 - accuracy: 0.3708 - val_loss: 1.3400 - val_accuracy: 0.3478\n",
            "Epoch 11/100\n",
            "89/89 [==============================] - 0s 271us/sample - loss: 1.1262 - accuracy: 0.3483 - val_loss: 1.2802 - val_accuracy: 0.3913\n",
            "Epoch 12/100\n",
            "89/89 [==============================] - 0s 268us/sample - loss: 1.0918 - accuracy: 0.5169 - val_loss: 1.2910 - val_accuracy: 0.2174\n",
            "Epoch 13/100\n",
            "89/89 [==============================] - 0s 294us/sample - loss: 1.0561 - accuracy: 0.3483 - val_loss: 1.2096 - val_accuracy: 0.2609\n",
            "Epoch 14/100\n",
            "89/89 [==============================] - 0s 293us/sample - loss: 1.0244 - accuracy: 0.3708 - val_loss: 1.1415 - val_accuracy: 0.2609\n",
            "Epoch 15/100\n",
            "89/89 [==============================] - 0s 266us/sample - loss: 1.0092 - accuracy: 0.3820 - val_loss: 1.0890 - val_accuracy: 0.3913\n",
            "Epoch 16/100\n",
            "89/89 [==============================] - 0s 293us/sample - loss: 0.9651 - accuracy: 0.4944 - val_loss: 1.0238 - val_accuracy: 0.3913\n",
            "Epoch 17/100\n",
            "89/89 [==============================] - 0s 312us/sample - loss: 0.9540 - accuracy: 0.5056 - val_loss: 1.0156 - val_accuracy: 0.3043\n",
            "Epoch 18/100\n",
            "89/89 [==============================] - 0s 284us/sample - loss: 0.9185 - accuracy: 0.5506 - val_loss: 1.0061 - val_accuracy: 0.3043\n",
            "Epoch 19/100\n",
            "89/89 [==============================] - 0s 279us/sample - loss: 0.8918 - accuracy: 0.5169 - val_loss: 0.9325 - val_accuracy: 0.6957\n",
            "Epoch 20/100\n",
            "89/89 [==============================] - 0s 270us/sample - loss: 0.8724 - accuracy: 0.6404 - val_loss: 0.9170 - val_accuracy: 0.6087\n",
            "Epoch 21/100\n",
            "89/89 [==============================] - 0s 272us/sample - loss: 0.8504 - accuracy: 0.6404 - val_loss: 0.8882 - val_accuracy: 0.6522\n",
            "Epoch 22/100\n",
            "89/89 [==============================] - 0s 263us/sample - loss: 0.8295 - accuracy: 0.6629 - val_loss: 0.8555 - val_accuracy: 0.7391\n",
            "Epoch 23/100\n",
            "89/89 [==============================] - 0s 280us/sample - loss: 0.8137 - accuracy: 0.7079 - val_loss: 0.8449 - val_accuracy: 0.6957\n",
            "Epoch 24/100\n",
            "89/89 [==============================] - 0s 272us/sample - loss: 0.8071 - accuracy: 0.7191 - val_loss: 0.8040 - val_accuracy: 0.6957\n",
            "Epoch 25/100\n",
            "89/89 [==============================] - 0s 363us/sample - loss: 0.7912 - accuracy: 0.6629 - val_loss: 0.7826 - val_accuracy: 0.7826\n",
            "Epoch 26/100\n",
            "89/89 [==============================] - 0s 256us/sample - loss: 0.7669 - accuracy: 0.7079 - val_loss: 0.7598 - val_accuracy: 0.7826\n",
            "Epoch 27/100\n",
            "89/89 [==============================] - 0s 318us/sample - loss: 0.7539 - accuracy: 0.7528 - val_loss: 0.7344 - val_accuracy: 0.9565\n",
            "Epoch 28/100\n",
            "89/89 [==============================] - 0s 335us/sample - loss: 0.7454 - accuracy: 0.7191 - val_loss: 0.7241 - val_accuracy: 0.9565\n",
            "Epoch 29/100\n",
            "89/89 [==============================] - 0s 328us/sample - loss: 0.7322 - accuracy: 0.7079 - val_loss: 0.6925 - val_accuracy: 0.9565\n",
            "Epoch 30/100\n",
            "89/89 [==============================] - 0s 279us/sample - loss: 0.7198 - accuracy: 0.7416 - val_loss: 0.6699 - val_accuracy: 0.9130\n",
            "Epoch 31/100\n",
            "89/89 [==============================] - 0s 305us/sample - loss: 0.7083 - accuracy: 0.7528 - val_loss: 0.6535 - val_accuracy: 0.7826\n",
            "Epoch 32/100\n",
            "89/89 [==============================] - 0s 269us/sample - loss: 0.7004 - accuracy: 0.7416 - val_loss: 0.6435 - val_accuracy: 0.7826\n",
            "Epoch 33/100\n",
            "89/89 [==============================] - 0s 280us/sample - loss: 0.6928 - accuracy: 0.7079 - val_loss: 0.6161 - val_accuracy: 0.8261\n",
            "Epoch 34/100\n",
            "89/89 [==============================] - 0s 282us/sample - loss: 0.6794 - accuracy: 0.7640 - val_loss: 0.6231 - val_accuracy: 0.7826\n",
            "Epoch 35/100\n",
            "89/89 [==============================] - 0s 339us/sample - loss: 0.6721 - accuracy: 0.6854 - val_loss: 0.6040 - val_accuracy: 0.8696\n",
            "Epoch 36/100\n",
            "89/89 [==============================] - 0s 314us/sample - loss: 0.6719 - accuracy: 0.7528 - val_loss: 0.6030 - val_accuracy: 0.7391\n",
            "Epoch 37/100\n",
            "89/89 [==============================] - 0s 290us/sample - loss: 0.6622 - accuracy: 0.6966 - val_loss: 0.5801 - val_accuracy: 0.7826\n",
            "Epoch 38/100\n",
            "89/89 [==============================] - 0s 293us/sample - loss: 0.6545 - accuracy: 0.7079 - val_loss: 0.5731 - val_accuracy: 0.7826\n",
            "Epoch 39/100\n",
            "89/89 [==============================] - 0s 313us/sample - loss: 0.6400 - accuracy: 0.7528 - val_loss: 0.5641 - val_accuracy: 0.7826\n",
            "Epoch 40/100\n",
            "89/89 [==============================] - 0s 370us/sample - loss: 0.6354 - accuracy: 0.7865 - val_loss: 0.5511 - val_accuracy: 0.8696\n",
            "Epoch 41/100\n",
            "89/89 [==============================] - 0s 283us/sample - loss: 0.6255 - accuracy: 0.8315 - val_loss: 0.5443 - val_accuracy: 0.7826\n",
            "Epoch 42/100\n",
            "89/89 [==============================] - 0s 281us/sample - loss: 0.6231 - accuracy: 0.7303 - val_loss: 0.5328 - val_accuracy: 1.0000\n",
            "Epoch 43/100\n",
            "89/89 [==============================] - 0s 335us/sample - loss: 0.6168 - accuracy: 0.7528 - val_loss: 0.5278 - val_accuracy: 1.0000\n",
            "Epoch 44/100\n",
            "89/89 [==============================] - 0s 274us/sample - loss: 0.6127 - accuracy: 0.8315 - val_loss: 0.5341 - val_accuracy: 0.7391\n",
            "Epoch 45/100\n",
            "89/89 [==============================] - 0s 272us/sample - loss: 0.6016 - accuracy: 0.7753 - val_loss: 0.5231 - val_accuracy: 0.7826\n",
            "Epoch 46/100\n",
            "89/89 [==============================] - 0s 263us/sample - loss: 0.6001 - accuracy: 0.8202 - val_loss: 0.5240 - val_accuracy: 0.7391\n",
            "Epoch 47/100\n",
            "89/89 [==============================] - 0s 295us/sample - loss: 0.5905 - accuracy: 0.7079 - val_loss: 0.4996 - val_accuracy: 1.0000\n",
            "Epoch 48/100\n",
            "89/89 [==============================] - 0s 346us/sample - loss: 0.5927 - accuracy: 0.8090 - val_loss: 0.4886 - val_accuracy: 0.9565\n",
            "Epoch 49/100\n",
            "89/89 [==============================] - 0s 296us/sample - loss: 0.5854 - accuracy: 0.7865 - val_loss: 0.4847 - val_accuracy: 1.0000\n",
            "Epoch 50/100\n",
            "89/89 [==============================] - 0s 279us/sample - loss: 0.5803 - accuracy: 0.8315 - val_loss: 0.4842 - val_accuracy: 0.9565\n",
            "Epoch 51/100\n",
            "89/89 [==============================] - 0s 278us/sample - loss: 0.5758 - accuracy: 0.8315 - val_loss: 0.4791 - val_accuracy: 0.8696\n",
            "Epoch 52/100\n",
            "89/89 [==============================] - 0s 282us/sample - loss: 0.5678 - accuracy: 0.8652 - val_loss: 0.4814 - val_accuracy: 0.7391\n",
            "Epoch 53/100\n",
            "89/89 [==============================] - 0s 295us/sample - loss: 0.5691 - accuracy: 0.7978 - val_loss: 0.4796 - val_accuracy: 0.7826\n",
            "Epoch 54/100\n",
            "89/89 [==============================] - 0s 353us/sample - loss: 0.5591 - accuracy: 0.7978 - val_loss: 0.4723 - val_accuracy: 0.8261\n",
            "Epoch 55/100\n",
            "89/89 [==============================] - 0s 367us/sample - loss: 0.5560 - accuracy: 0.7978 - val_loss: 0.4646 - val_accuracy: 0.8696\n",
            "Epoch 56/100\n",
            "89/89 [==============================] - 0s 333us/sample - loss: 0.5525 - accuracy: 0.8202 - val_loss: 0.4508 - val_accuracy: 0.9565\n",
            "Epoch 57/100\n",
            "89/89 [==============================] - 0s 321us/sample - loss: 0.5494 - accuracy: 0.8539 - val_loss: 0.4575 - val_accuracy: 0.7826\n",
            "Epoch 58/100\n",
            "89/89 [==============================] - 0s 281us/sample - loss: 0.5565 - accuracy: 0.8315 - val_loss: 0.4485 - val_accuracy: 0.8696\n",
            "Epoch 59/100\n",
            "89/89 [==============================] - 0s 291us/sample - loss: 0.5420 - accuracy: 0.8090 - val_loss: 0.4417 - val_accuracy: 0.9565\n",
            "Epoch 60/100\n",
            "89/89 [==============================] - 0s 305us/sample - loss: 0.5416 - accuracy: 0.8315 - val_loss: 0.4498 - val_accuracy: 0.8261\n",
            "Epoch 61/100\n",
            "89/89 [==============================] - 0s 293us/sample - loss: 0.5446 - accuracy: 0.7978 - val_loss: 0.4351 - val_accuracy: 0.9565\n",
            "Epoch 62/100\n",
            "89/89 [==============================] - 0s 282us/sample - loss: 0.5392 - accuracy: 0.7978 - val_loss: 0.4368 - val_accuracy: 0.9130\n",
            "Epoch 63/100\n",
            "89/89 [==============================] - 0s 370us/sample - loss: 0.5346 - accuracy: 0.8427 - val_loss: 0.4325 - val_accuracy: 0.9565\n",
            "Epoch 64/100\n",
            "89/89 [==============================] - 0s 314us/sample - loss: 0.5245 - accuracy: 0.8315 - val_loss: 0.4286 - val_accuracy: 0.9565\n",
            "Epoch 65/100\n",
            "89/89 [==============================] - 0s 317us/sample - loss: 0.5280 - accuracy: 0.8539 - val_loss: 0.4199 - val_accuracy: 0.9565\n",
            "Epoch 66/100\n",
            "89/89 [==============================] - 0s 333us/sample - loss: 0.5177 - accuracy: 0.8989 - val_loss: 0.4202 - val_accuracy: 0.9130\n",
            "Epoch 67/100\n",
            "89/89 [==============================] - 0s 306us/sample - loss: 0.5154 - accuracy: 0.8989 - val_loss: 0.4150 - val_accuracy: 0.9565\n",
            "Epoch 68/100\n",
            "89/89 [==============================] - 0s 259us/sample - loss: 0.5143 - accuracy: 0.8764 - val_loss: 0.4107 - val_accuracy: 0.9565\n",
            "Epoch 69/100\n",
            "89/89 [==============================] - 0s 314us/sample - loss: 0.5169 - accuracy: 0.9101 - val_loss: 0.4108 - val_accuracy: 0.9565\n",
            "Epoch 70/100\n",
            "89/89 [==============================] - 0s 365us/sample - loss: 0.5175 - accuracy: 0.8202 - val_loss: 0.4060 - val_accuracy: 0.9565\n",
            "Epoch 71/100\n",
            "89/89 [==============================] - 0s 315us/sample - loss: 0.5057 - accuracy: 0.8989 - val_loss: 0.4100 - val_accuracy: 0.8696\n",
            "Epoch 72/100\n",
            "89/89 [==============================] - 0s 307us/sample - loss: 0.5048 - accuracy: 0.8652 - val_loss: 0.4075 - val_accuracy: 0.8696\n",
            "Epoch 73/100\n",
            "89/89 [==============================] - 0s 297us/sample - loss: 0.5086 - accuracy: 0.8427 - val_loss: 0.4191 - val_accuracy: 0.7391\n",
            "Epoch 74/100\n",
            "89/89 [==============================] - 0s 305us/sample - loss: 0.5013 - accuracy: 0.7303 - val_loss: 0.3944 - val_accuracy: 0.9565\n",
            "Epoch 75/100\n",
            "89/89 [==============================] - 0s 301us/sample - loss: 0.4966 - accuracy: 0.9213 - val_loss: 0.3953 - val_accuracy: 0.9565\n",
            "Epoch 76/100\n",
            "89/89 [==============================] - 0s 297us/sample - loss: 0.4951 - accuracy: 0.8539 - val_loss: 0.3931 - val_accuracy: 0.9130\n",
            "Epoch 77/100\n",
            "89/89 [==============================] - 0s 315us/sample - loss: 0.4960 - accuracy: 0.8315 - val_loss: 0.3845 - val_accuracy: 0.9565\n",
            "Epoch 78/100\n",
            "89/89 [==============================] - 0s 290us/sample - loss: 0.4956 - accuracy: 0.9101 - val_loss: 0.3941 - val_accuracy: 0.8696\n",
            "Epoch 79/100\n",
            "89/89 [==============================] - 0s 285us/sample - loss: 0.4867 - accuracy: 0.8539 - val_loss: 0.3884 - val_accuracy: 0.9130\n",
            "Epoch 80/100\n",
            "89/89 [==============================] - 0s 312us/sample - loss: 0.4919 - accuracy: 0.8652 - val_loss: 0.3915 - val_accuracy: 0.8696\n",
            "Epoch 81/100\n",
            "89/89 [==============================] - 0s 302us/sample - loss: 0.4843 - accuracy: 0.8652 - val_loss: 0.3876 - val_accuracy: 0.8696\n",
            "Epoch 82/100\n",
            "89/89 [==============================] - 0s 315us/sample - loss: 0.4837 - accuracy: 0.8764 - val_loss: 0.3932 - val_accuracy: 0.8261\n",
            "Epoch 83/100\n",
            "89/89 [==============================] - 0s 263us/sample - loss: 0.4833 - accuracy: 0.8652 - val_loss: 0.3834 - val_accuracy: 0.9130\n",
            "Epoch 84/100\n",
            "89/89 [==============================] - 0s 288us/sample - loss: 0.4848 - accuracy: 0.8876 - val_loss: 0.3806 - val_accuracy: 0.9130\n",
            "Epoch 85/100\n",
            "89/89 [==============================] - 0s 292us/sample - loss: 0.4744 - accuracy: 0.8876 - val_loss: 0.3729 - val_accuracy: 0.9565\n",
            "Epoch 86/100\n",
            "89/89 [==============================] - 0s 306us/sample - loss: 0.4727 - accuracy: 0.9101 - val_loss: 0.3687 - val_accuracy: 0.9565\n",
            "Epoch 87/100\n",
            "89/89 [==============================] - 0s 299us/sample - loss: 0.4718 - accuracy: 0.9101 - val_loss: 0.3649 - val_accuracy: 0.9565\n",
            "Epoch 88/100\n",
            "89/89 [==============================] - 0s 279us/sample - loss: 0.4695 - accuracy: 0.9213 - val_loss: 0.3630 - val_accuracy: 0.9565\n",
            "Epoch 89/100\n",
            "89/89 [==============================] - 0s 259us/sample - loss: 0.4710 - accuracy: 0.8989 - val_loss: 0.3682 - val_accuracy: 0.9130\n",
            "Epoch 90/100\n",
            "89/89 [==============================] - 0s 310us/sample - loss: 0.4665 - accuracy: 0.8989 - val_loss: 0.3626 - val_accuracy: 0.9565\n",
            "Epoch 91/100\n",
            "89/89 [==============================] - 0s 282us/sample - loss: 0.4626 - accuracy: 0.9213 - val_loss: 0.3572 - val_accuracy: 0.9565\n",
            "Epoch 92/100\n",
            "89/89 [==============================] - 0s 283us/sample - loss: 0.4635 - accuracy: 0.9101 - val_loss: 0.3586 - val_accuracy: 0.9565\n",
            "Epoch 93/100\n",
            "89/89 [==============================] - 0s 254us/sample - loss: 0.4687 - accuracy: 0.8427 - val_loss: 0.3545 - val_accuracy: 0.9565\n",
            "Epoch 94/100\n",
            "89/89 [==============================] - 0s 278us/sample - loss: 0.4631 - accuracy: 0.9213 - val_loss: 0.3516 - val_accuracy: 0.9565\n",
            "Epoch 95/100\n",
            "89/89 [==============================] - 0s 263us/sample - loss: 0.4587 - accuracy: 0.9101 - val_loss: 0.3562 - val_accuracy: 0.9565\n",
            "Epoch 96/100\n",
            "89/89 [==============================] - 0s 255us/sample - loss: 0.4570 - accuracy: 0.9101 - val_loss: 0.3599 - val_accuracy: 0.9130\n",
            "Epoch 97/100\n",
            "89/89 [==============================] - 0s 269us/sample - loss: 0.4561 - accuracy: 0.8652 - val_loss: 0.3433 - val_accuracy: 0.9565\n",
            "Epoch 98/100\n",
            "89/89 [==============================] - 0s 290us/sample - loss: 0.4516 - accuracy: 0.9438 - val_loss: 0.3524 - val_accuracy: 0.9130\n",
            "Epoch 99/100\n",
            "89/89 [==============================] - 0s 302us/sample - loss: 0.4503 - accuracy: 0.9213 - val_loss: 0.3451 - val_accuracy: 0.9565\n",
            "Epoch 100/100\n",
            "89/89 [==============================] - 0s 262us/sample - loss: 0.4523 - accuracy: 0.9213 - val_loss: 0.3508 - val_accuracy: 0.9130\n"
          ],
          "name": "stdout"
        }
      ]
    },
    {
      "cell_type": "code",
      "metadata": {
        "id": "vV_Lv__I62b5",
        "colab_type": "code",
        "colab": {
          "base_uri": "https://localhost:8080/",
          "height": 302
        },
        "outputId": "324ffdf4-089b-4754-f9b2-4af0cd3c6e7c"
      },
      "source": [
        "# plot learning curve\n",
        "import matplotlib.pyplot as plt\n",
        "\n",
        "loss = history.history['loss']\n",
        "val_loss = history.history['val_loss']\n",
        "\n",
        "fig, ax = plt.subplots()\n",
        "ax.plot(loss, label='training')\n",
        "ax.plot(val_loss, label='validation')\n",
        "ax.legend()\n",
        "ax.set_xlabel('epoch')\n",
        "ax.set_ylabel('cross entropy')\n",
        "plt.show()"
      ],
      "execution_count": 29,
      "outputs": [
        {
          "output_type": "display_data",
          "data": {
            "image/png": "[encoded data removed]",
            "text/plain": [
              "<Figure size 432x288 with 1 Axes>"
            ]
          },
          "metadata": {
            "tags": []
          }
        }
      ]
    }
  ]
}