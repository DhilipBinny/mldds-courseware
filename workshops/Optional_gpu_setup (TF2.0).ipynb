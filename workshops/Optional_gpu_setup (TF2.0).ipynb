{
 "cells": [
  {
   "cell_type": "markdown",
   "metadata": {},
   "source": [
    "# Deep Learning: Tensorflow 2.0 GPU Setup\n",
    "\n",
    "## Important: Laptop Pre-requisites\n",
    "\n",
    "1. If you have a Mac, skip this setup.  You will be using CPU for training. Our workshops will still run within the alloted time.\n",
    "\n",
    "2. If you have a Windows laptop, check if your laptop has a green NVidia logo. Here's an example: ![image](https://encrypted-tbn0.gstatic.com/images?q=tbn:ANd9GcRms09BvmkYccxU1TleSVa94TYfcHk6PEw934f1S85au95iXJ8g) (actual logo may differ)\n",
    "  \n",
    "  No logo: skip this entire notebook. You will be using CPU for training. Our workshops will still run within the alloted time. \n",
    "  \n",
    "  Got logo: Good news, you may have a GPU that can speed up deep learning by about 5-6 times (depending on neural network and GPU)! Proceed with the rest of the steps.\n",
    "\n",
    "\n",
    "3. Check your laptop specifications to determine if your GPU is one of the supported ones here:\n",
    "https://developer.nvidia.com/cuda-gpus\n",
    "\n",
    "```\n",
    "Question: How can I find out which GPU is in my computer?\n",
    "Answer: On Windows computers:\n",
    "\n",
    "Right-click on desktop\n",
    "If you see \"NVIDIA Control Panel\" or \"NVIDIA Display\" in the pop-up window, you have an NVIDIA GPU\n",
    "Click on \"NVIDIA Control Panel\" or \"NVIDIA Display\" in the pop-up window\n",
    "Look at \"Graphics Card Information\"\n",
    "You will see the name of your NVIDIA GPU\n",
    "```\n",
    "  \n",
    "### What if I don't meet requirements and still want to try GPU?\n",
    "\n",
    "For your final project, you can try Colaboratory (http://colab.research.google.com/), which is a free service that supports running on Google cloud using a basic GPU (https://colab.research.google.com/notebooks/gpu.ipynb). You may have to pay for faster GPUs."
   ]
  },
  {
   "cell_type": "markdown",
   "metadata": {},
   "source": [
    "### A. Download CUDA Toolkit\n",
    "\n",
    "**Important: Skip this if your laptop doesn't meet pre-requisites**\n",
    "\n",
    "This can take about 20-30 minutes to install, including rebooting. Please save your work before starting.\n",
    "\n",
    "1. Download the CUDA Toolkit, specifically this version: https://developer.nvidia.com/cuda-10.0-download-archive \n",
    "  - You can choose the network install or local install. \n",
    "  - The version that works with Tensorflow 2.0 is 10.0 (https://www.tensorflow.org/install/gpu#software_requirements)  \n",
    "\n",
    "**Important: You must use the specific version of CUDA, because a build of Tensorflow is tied to some version of CUDA. Mismatched versions will result in CUDA DLL load failures.**\n",
    "\n",
    "2. Install the CUDA Toolkit.\n",
    "  - You can choose the default options.\n",
    "\n",
    "\n",
    "3. Reboot the computer when prompted, if you are asked to install a graphics driver.\n",
    "\n",
    "Documentation: https://docs.nvidia.com/cuda/cuda-installation-guide-microsoft-windows/"
   ]
  },
  {
   "cell_type": "markdown",
   "metadata": {},
   "source": [
    "### B. Install Keras with Tensorflow, GPU version:\n",
    "\n",
    "**Important: Skip this if your laptop doesn't meet pre-requisites**\n",
    "\n",
    "Open an Anaconda Prompt:\n",
    "\n",
    "1. Activate the mldds environment\n",
    "```\n",
    "conda activate mldds\n",
    "```\n",
    "\n",
    "2. Uninstall the CPU-version of Tensorflow. By default, Tensorflow is CPU-only. A different package is needed to install the GPU version.\n",
    "```\n",
    "pip uninstall tensorflow\n",
    "```\n",
    "\n",
    "3. Install the GPU-version of Tensorflow. Make sure you install the 2.0 version. Currently, we use pip install (instead of conda install) because tensorflow 2.0 is still relatively new, and older Anaconda installations may not find it. \n",
    "\n",
    "```\n",
    "pip install -y tensorflow-gpu==2.0\n",
    "```"
   ]
  },
  {
   "cell_type": "markdown",
   "metadata": {},
   "source": [
    "### C. Verify your GPU configuration\n",
    "\n",
    "Even though we will be using Keras in the class, Keras actually calls down to Tensorflow in the backend.\n",
    "\n",
    "Therefore, the most direct way to test GPU install is to use Tensorflow Python code. We will not be writing Tensorflow code in this class.\n",
    "\n",
    "Run the following cells to make sure you don't get any errors.\n",
    "\n",
    "Expected output:\n",
    "\n",
    "Cell 1:\n",
    "```\n",
    "Num GPUs Available: 1\n",
    "```\n",
    "(The number of GPUs is typically 1 on a laptop, unless you have a super amazing one :))\n",
    "\n",
    "Cell 2:\n",
    "```\n",
    "Executing op MatMul in device /job:localhost/replica:0/task:0/device:GPU:0\n",
    "tf.Tensor(\n",
    "[[22. 28.]\n",
    " [49. 64.]], shape=(2, 2), dtype=float32)\n",
    "```"
   ]
  },
  {
   "cell_type": "code",
   "execution_count": 1,
   "metadata": {},
   "outputs": [
    {
     "name": "stdout",
     "output_type": "stream",
     "text": [
      "Tensorflow version:  2.0.0\n",
      "Num GPUs Available:  2\n"
     ]
    }
   ],
   "source": [
    "from __future__ import absolute_import, division, print_function, unicode_literals\n",
    "\n",
    "import tensorflow as tf\n",
    "print('Tensorflow version: ', tf.__version__)\n",
    "print('Num GPUs Available: ', len(tf.config.experimental.list_physical_devices('GPU')))"
   ]
  },
  {
   "cell_type": "code",
   "execution_count": 2,
   "metadata": {},
   "outputs": [
    {
     "name": "stdout",
     "output_type": "stream",
     "text": [
      "Executing op MatMul in device /job:localhost/replica:0/task:0/device:GPU:0\n",
      "tf.Tensor(\n",
      "[[22. 28.]\n",
      " [49. 64.]], shape=(2, 2), dtype=float32)\n"
     ]
    }
   ],
   "source": [
    "tf.debugging.set_log_device_placement(True)\n",
    "\n",
    "# Create some tensors ont the GPU\n",
    "a = tf.constant([[1.0, 2.0, 3.0], [4.0, 5.0, 6.0]])\n",
    "b = tf.constant([[1.0, 2.0], [3.0, 4.0], [5.0, 6.0]])\n",
    "c = tf.matmul(a, b)\n",
    "\n",
    "print(c)"
   ]
  },
  {
   "cell_type": "markdown",
   "metadata": {},
   "source": [
    "### Problems?\n",
    "\n",
    "1. Double-check that you indeed installed the correct version of CUDA. If not, download the right version. If you have another version installed, you do not need to uninstall it, the latest version of CUDART will override. https://stackoverflow.com/questions/9727688/how-to-get-the-cuda-version\n",
    "\n",
    "```\n",
    "C:\\>nvcc --version\n",
    "nvcc: NVIDIA (R) Cuda compiler driver\n",
    "Copyright (c) 2005-2018 NVIDIA Corporation\n",
    "Built on Sat_Aug_25_21:08:04_Central_Daylight_Time_2018\n",
    "Cuda compilation tools, release 10.0, V10.0.130\n",
    "```\n",
    "\n",
    "2. Close and restart your Anaconda prompt. It may need to be reloaded to use the correct PATH.\n",
    "\n",
    "\n",
    "3. Import Tensorflow from the python interpretor. Success should look like this (actual version of Python and cudart may differ):\n",
    "```\n",
    "Python 3.6.6 |Anaconda, Inc.| (default, Jun 28 2018, 11:27:44) [MSC v.1900 64 bit (AMD64)] on win32\n",
    "Type \"help\", \"copyright\", \"credits\" or \"license\" for more information.\n",
    ">>> import tensorflow as tf\n",
    "2019-12-02 09:06:45.228342: I tensorflow/stream_executor/platform/default/dso_loader.cc:44] Successfully opened dynamic library cudart64_100.dll\n",
    "```\n",
    "\n",
    "4. If you still run into problems, you can revert back to the CPU version of Tensorflow.  Also check that you downloaded the correct version of CUDA. https://www.tensorflow.org/install/gpu#software_requirements\n",
    "\n",
    "```\n",
    "# if problem installing and verifying tensorflow-gpu, revert back to CPU versions\n",
    "\n",
    "pip uninstall tensorflow-gpu\n",
    "pip install tensorflow==2.0\n",
    "```"
   ]
  },
  {
   "cell_type": "code",
   "execution_count": null,
   "metadata": {},
   "outputs": [],
   "source": []
  }
 ],
 "metadata": {
  "kernelspec": {
   "display_name": "Python 3",
   "language": "python",
   "name": "python3"
  },
  "language_info": {
   "codemirror_mode": {
    "name": "ipython",
    "version": 3
   },
   "file_extension": ".py",
   "mimetype": "text/x-python",
   "name": "python",
   "nbconvert_exporter": "python",
   "pygments_lexer": "ipython3",
   "version": "3.6.6"
  }
 },
 "nbformat": 4,
 "nbformat_minor": 2
}
