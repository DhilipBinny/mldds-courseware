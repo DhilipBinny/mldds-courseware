{
 "cells": [
  {
   "cell_type": "raw",
   "metadata": {
    "colab_type": "text",
    "id": "yxAZvH_gO-DC"
   },
   "source": [
    "<h2 style=\"color:blue; text-align:center\"> Data preparation activity</h2><br/>\n",
    "\n",
    "<h4 style=\"color:blue; text-align:left\"> Data credits</h4>\n",
    "\n",
    "- data source: http://www.vacommunity.org/VAST+Challenge+2017+MC1\n",
    "\n",
    "- document: \"Data Descriptions for MC1 v2.docx\"\n",
    "\n",
    "Files:\n",
    "    - raw_file: 'Lekagul Sensor Data.csv'\n",
    "    - coordinates: 'coordinates_small.csv' #self created file using image provided with dataset as this was not provided with the competition\n",
    "    \n",
    "<h3 style=\"color:blue; text-align:left\">Time: 3 Hours ( you may take longer to finish this)</h3>\n",
    "<h4 style=\"color:blue; text-align:left\">Rename the notebook with your name (such as prakash_DataPrep.ipynb) prior to submission.</h4>\n",
    "<h4 style=\"color:blue; text-align:left\">Created by: Prakash Sukhwal (Assoc. Lecturer, NUS-ISS)</h4>\n"
   ]
  },
  {
   "cell_type": "markdown",
   "metadata": {
    "colab_type": "text",
    "id": "M7kVAXAdO-DG"
   },
   "source": [
    "### 0. import the required packages to read the files"
   ]
  },
  {
   "cell_type": "code",
   "execution_count": null,
   "metadata": {
    "colab": {
     "autoexec": {
      "startup": false,
      "wait_interval": 0
     }
    },
    "colab_type": "code",
    "id": "3yYsDnMIO-DJ"
   },
   "outputs": [],
   "source": [
    "# import packages as you need them here\n"
   ]
  },
  {
   "cell_type": "markdown",
   "metadata": {
    "colab_type": "text",
    "id": "GuXb5-Y5O-DU"
   },
   "source": [
    "### 1. Ingesting raw data files"
   ]
  },
  {
   "cell_type": "code",
   "execution_count": null,
   "metadata": {
    "colab": {
     "autoexec": {
      "startup": false,
      "wait_interval": 0
     }
    },
    "colab_type": "code",
    "id": "G-_EPQLFO-DW"
   },
   "outputs": [],
   "source": [
    "path = 'your file path'\n",
    "\n",
    "raw_file = 'Lekagul Sensor Data.csv'\n",
    "\n",
    "loc_file2 = 'coordinates_small.csv' # self created file using image provided with dataset"
   ]
  },
  {
   "cell_type": "code",
   "execution_count": null,
   "metadata": {
    "colab": {
     "autoexec": {
      "startup": false,
      "wait_interval": 0
     }
    },
    "colab_type": "code",
    "id": "M0s3RE-GO-Da"
   },
   "outputs": [],
   "source": [
    "# read in the file\n",
    "raw_data = "
   ]
  },
  {
   "cell_type": "code",
   "execution_count": null,
   "metadata": {
    "colab": {
     "autoexec": {
      "startup": false,
      "wait_interval": 0
     }
    },
    "colab_type": "code",
    "id": "jtSJgVATO-Dg"
   },
   "outputs": [],
   "source": [
    "# look at the first 10 elements\n"
   ]
  },
  {
   "cell_type": "code",
   "execution_count": null,
   "metadata": {
    "colab": {
     "autoexec": {
      "startup": false,
      "wait_interval": 0
     }
    },
    "colab_type": "code",
    "id": "QPbU-cSQO-Dj"
   },
   "outputs": [],
   "source": [
    "# examine the data types of each column\n"
   ]
  },
  {
   "cell_type": "code",
   "execution_count": null,
   "metadata": {
    "colab": {
     "autoexec": {
      "startup": false,
      "wait_interval": 0
     }
    },
    "colab_type": "code",
    "id": "pkWy4y4QO-Dn"
   },
   "outputs": [],
   "source": [
    "# shape of the df\n"
   ]
  },
  {
   "cell_type": "code",
   "execution_count": null,
   "metadata": {
    "colab": {
     "autoexec": {
      "startup": false,
      "wait_interval": 0
     }
    },
    "colab_type": "code",
    "id": "H0TXHTBEO-Dp"
   },
   "outputs": [],
   "source": [
    "# print out the different gate name\n"
   ]
  },
  {
   "cell_type": "code",
   "execution_count": null,
   "metadata": {
    "colab": {
     "autoexec": {
      "startup": false,
      "wait_interval": 0
     }
    },
    "colab_type": "code",
    "id": "QqL7VdOPO-Ds"
   },
   "outputs": [],
   "source": [
    "# count the number of unique gate names\n"
   ]
  },
  {
   "cell_type": "markdown",
   "metadata": {
    "colab_type": "text",
    "id": "80m-L5irO-Dw"
   },
   "source": [
    "### 2. Need to convert dtype for time field\n",
    "- change the date data type  using **pd.to_datetime(field, format='%d/%m/%Y %H:%M')**"
   ]
  },
  {
   "cell_type": "code",
   "execution_count": null,
   "metadata": {
    "colab": {
     "autoexec": {
      "startup": false,
      "wait_interval": 0
     }
    },
    "colab_type": "code",
    "id": "V4a8ulqhO-Dx"
   },
   "outputs": [],
   "source": [
    "raw_data['Timestamp'] = "
   ]
  },
  {
   "cell_type": "code",
   "execution_count": null,
   "metadata": {
    "colab": {
     "autoexec": {
      "startup": false,
      "wait_interval": 0
     }
    },
    "colab_type": "code",
    "id": "1ERERW-IO-Dz"
   },
   "outputs": [],
   "source": [
    "# check data types again to make sure\n"
   ]
  },
  {
   "cell_type": "markdown",
   "metadata": {
    "colab_type": "text",
    "id": "S-RJ4Vk-O-D2"
   },
   "source": [
    "### 3. De-duplication before any analysis\n",
    "- think of a method to find all the duplicated rows in the data\n",
    "- find the total number of duplicated rows"
   ]
  },
  {
   "cell_type": "code",
   "execution_count": null,
   "metadata": {
    "colab": {
     "autoexec": {
      "startup": false,
      "wait_interval": 0
     }
    },
    "colab_type": "code",
    "id": "o80QI5caO-D3"
   },
   "outputs": [],
   "source": [
    "# create a bool column for the duplicated records\n",
    "raw_data['is_duplicated'] = "
   ]
  },
  {
   "cell_type": "code",
   "execution_count": null,
   "metadata": {
    "colab": {
     "autoexec": {
      "startup": false,
      "wait_interval": 0
     }
    },
    "colab_type": "code",
    "id": "Zz6_HwgqO-D4"
   },
   "outputs": [],
   "source": [
    "# get the sum to get a total count of duplicate records\n"
   ]
  },
  {
   "cell_type": "markdown",
   "metadata": {
    "colab_type": "text",
    "id": "VhS6CvcZO-D8"
   },
   "source": [
    "#### 3.1 separate duplicated records"
   ]
  },
  {
   "cell_type": "code",
   "execution_count": null,
   "metadata": {
    "colab": {
     "autoexec": {
      "startup": false,
      "wait_interval": 0
     }
    },
    "colab_type": "code",
    "collapsed": true,
    "id": "sTiz3QdIO-D-"
   },
   "outputs": [],
   "source": [
    "# collect the duplicated records\n",
    "duplicatedrecords = "
   ]
  },
  {
   "cell_type": "code",
   "execution_count": null,
   "metadata": {
    "colab": {
     "autoexec": {
      "startup": false,
      "wait_interval": 0
     }
    },
    "colab_type": "code",
    "collapsed": true,
    "id": "365xQiiBO-EE"
   },
   "outputs": [],
   "source": []
  },
  {
   "cell_type": "markdown",
   "metadata": {
    "colab_type": "text",
    "id": "rhBz_KWQO-EJ"
   },
   "source": [
    "#### 3.2 Remove duplicate records"
   ]
  },
  {
   "cell_type": "code",
   "execution_count": null,
   "metadata": {
    "colab": {
     "autoexec": {
      "startup": false,
      "wait_interval": 0
     }
    },
    "colab_type": "code",
    "collapsed": true,
    "id": "CAT9Zq7DO-EK"
   },
   "outputs": [],
   "source": [
    "raw_data = "
   ]
  },
  {
   "cell_type": "code",
   "execution_count": null,
   "metadata": {
    "colab": {
     "autoexec": {
      "startup": false,
      "wait_interval": 0
     }
    },
    "colab_type": "code",
    "collapsed": true,
    "id": "hDUQQNtXO-EN"
   },
   "outputs": [],
   "source": [
    "raw_data.head()"
   ]
  },
  {
   "cell_type": "markdown",
   "metadata": {
    "colab_type": "text",
    "id": "_ob-LuK6O-ES"
   },
   "source": [
    "### 4. Create ExitTime and ExitGate "
   ]
  },
  {
   "cell_type": "code",
   "execution_count": null,
   "metadata": {
    "colab": {
     "autoexec": {
      "startup": false,
      "wait_interval": 0
     }
    },
    "colab_type": "code",
    "collapsed": true,
    "id": "xAgQQuSEO-ES"
   },
   "outputs": [],
   "source": [
    "# rename exisiting fields for convenience\n",
    "raw_data = raw_data.rename(columns={'Timestamp': 'EntryTime', 'gate-name': 'EntryGate'})\n",
    "raw_data.head()"
   ]
  },
  {
   "cell_type": "code",
   "execution_count": null,
   "metadata": {
    "colab": {
     "autoexec": {
      "startup": false,
      "wait_interval": 0
     }
    },
    "colab_type": "code",
    "collapsed": true,
    "id": "NkP4qzTuO-EY"
   },
   "outputs": [],
   "source": [
    "# create new columns using shift() method with grouby on car-id\n",
    "raw_data['ExitTime'] = raw_data.groupby('car-id')['EntryTime'].shift(1)"
   ]
  },
  {
   "cell_type": "code",
   "execution_count": null,
   "metadata": {
    "colab": {
     "autoexec": {
      "startup": false,
      "wait_interval": 0
     }
    },
    "colab_type": "code",
    "collapsed": true,
    "id": "0dRv1azzO-Ea"
   },
   "outputs": [],
   "source": [
    "# use the same logic as above\n",
    "raw_data['ExitGate'] = "
   ]
  },
  {
   "cell_type": "code",
   "execution_count": null,
   "metadata": {
    "colab": {
     "autoexec": {
      "startup": false,
      "wait_interval": 0
     }
    },
    "colab_type": "code",
    "collapsed": true,
    "id": "YNpV6RfnO-Ec"
   },
   "outputs": [],
   "source": [
    "raw_data.head()"
   ]
  },
  {
   "cell_type": "markdown",
   "metadata": {
    "colab_type": "text",
    "id": "Jp2Srx_hO-Ef"
   },
   "source": [
    "### 4.1 Remove NaN or NaT introduced due to shift()"
   ]
  },
  {
   "cell_type": "code",
   "execution_count": null,
   "metadata": {
    "colab": {
     "autoexec": {
      "startup": false,
      "wait_interval": 0
     }
    },
    "colab_type": "code",
    "collapsed": true,
    "id": "Zi0_EeilO-Ef"
   },
   "outputs": [],
   "source": [
    "raw_data = "
   ]
  },
  {
   "cell_type": "code",
   "execution_count": null,
   "metadata": {
    "colab": {
     "autoexec": {
      "startup": false,
      "wait_interval": 0
     }
    },
    "colab_type": "code",
    "collapsed": true,
    "id": "FvEPLzBPO-Ei"
   },
   "outputs": [],
   "source": [
    "raw_data.head()"
   ]
  },
  {
   "cell_type": "markdown",
   "metadata": {
    "colab_type": "text",
    "id": "qkkrtmQqO-Ek"
   },
   "source": [
    "### 4.2 Remove the is_duplicated as it has served its purpose\n",
    "- del function"
   ]
  },
  {
   "cell_type": "code",
   "execution_count": null,
   "metadata": {
    "colab": {
     "autoexec": {
      "startup": false,
      "wait_interval": 0
     }
    },
    "colab_type": "code",
    "collapsed": true,
    "id": "VMBeJbIrO-El"
   },
   "outputs": [],
   "source": [
    "# delete the column"
   ]
  },
  {
   "cell_type": "code",
   "execution_count": null,
   "metadata": {
    "colab": {
     "autoexec": {
      "startup": false,
      "wait_interval": 0
     }
    },
    "colab_type": "code",
    "collapsed": true,
    "id": "IwEmLiPgO-En"
   },
   "outputs": [],
   "source": [
    "# verify using shape"
   ]
  },
  {
   "cell_type": "markdown",
   "metadata": {
    "colab_type": "text",
    "id": "J2_InCOGO-Eq"
   },
   "source": [
    "### 5. Create column for time spent at between 2 consecutive locations\n",
    "### This will be used to compute speed (note: speedlimit 25 mph)"
   ]
  },
  {
   "cell_type": "code",
   "execution_count": null,
   "metadata": {
    "colab": {
     "autoexec": {
      "startup": false,
      "wait_interval": 0
     }
    },
    "colab_type": "code",
    "collapsed": true,
    "id": "EdStlO93O-Es"
   },
   "outputs": [],
   "source": [
    "#above checks looks fine so let's create time spent field\n",
    "raw_data['SecondSpent'] = (raw_data['EntryTime'] - raw_data['ExitTime']).dt.total_seconds()\n",
    "raw_data['MinuteSpent'] =    # explore as shown above with dot (.) operator\n",
    "raw_data['DaysSpent'] =      # explore as shown above with dot (.) operator"
   ]
  },
  {
   "cell_type": "markdown",
   "metadata": {
    "colab_type": "text",
    "id": "RnEWwcFgO-Ev"
   },
   "source": [
    "### 6. Date field to generated to create a filter for visualization\n",
    "- **just run it to create this feature**"
   ]
  },
  {
   "cell_type": "code",
   "execution_count": null,
   "metadata": {
    "colab": {
     "autoexec": {
      "startup": false,
      "wait_interval": 0
     }
    },
    "colab_type": "code",
    "collapsed": true,
    "id": "V4btNiLaO-Ew"
   },
   "outputs": [],
   "source": [
    "raw_data['Date'] =  raw_data.EntryTime.dt.date "
   ]
  },
  {
   "cell_type": "markdown",
   "metadata": {
    "colab_type": "text",
    "id": "OzR_VlIvO-E1"
   },
   "source": [
    "### 7. Remove erreneous records:\n",
    "- where timestamp is 1970-01-01 00:00:00 (introduced in cell above)\n",
    "- where timestamps between 2 locs is same but the gates are different suggesting an error in data entry"
   ]
  },
  {
   "cell_type": "code",
   "execution_count": null,
   "metadata": {
    "colab": {
     "autoexec": {
      "startup": false,
      "wait_interval": 0
     }
    },
    "colab_type": "code",
    "collapsed": true,
    "id": "BEiVPgZoO-E1"
   },
   "outputs": [],
   "source": [
    "# where timestamp is 1970-01-01 00:00:00 set the time related fields to 0\n"
   ]
  },
  {
   "cell_type": "markdown",
   "metadata": {
    "colab_type": "text",
    "id": "dW40hxgYO-E4"
   },
   "source": [
    "#### 7.1 Flag errors"
   ]
  },
  {
   "cell_type": "code",
   "execution_count": null,
   "metadata": {
    "colab": {
     "autoexec": {
      "startup": false,
      "wait_interval": 0
     }
    },
    "colab_type": "code",
    "collapsed": true,
    "id": "1JZBIr_sO-E5"
   },
   "outputs": [],
   "source": [
    "# create a bool\n",
    "# where timestamps between 2 locs is same but the gates are different suggesting an error in data entry\n",
    "raw_data['error'] = "
   ]
  },
  {
   "cell_type": "code",
   "execution_count": null,
   "metadata": {
    "colab": {
     "autoexec": {
      "startup": false,
      "wait_interval": 0
     }
    },
    "colab_type": "code",
    "collapsed": true,
    "id": "PiOFKpeJO-E-"
   },
   "outputs": [],
   "source": [
    "raw_data['error'].value_counts()"
   ]
  },
  {
   "cell_type": "code",
   "execution_count": null,
   "metadata": {
    "colab": {
     "autoexec": {
      "startup": false,
      "wait_interval": 0
     }
    },
    "colab_type": "code",
    "collapsed": true,
    "id": "lxvhLt6gO-FN"
   },
   "outputs": [],
   "source": [
    "# remove error == True and save it to raw_data again\n",
    "raw_data = "
   ]
  },
  {
   "cell_type": "code",
   "execution_count": null,
   "metadata": {
    "colab": {
     "autoexec": {
      "startup": false,
      "wait_interval": 0
     }
    },
    "colab_type": "code",
    "collapsed": true,
    "id": "m3Ec3OHrO-FR"
   },
   "outputs": [],
   "source": [
    "# delete the error column\n"
   ]
  },
  {
   "cell_type": "markdown",
   "metadata": {
    "colab_type": "text",
    "id": "-tgcL64HO-FY"
   },
   "source": [
    "#### Let's rearrange the columns to place similar ones together"
   ]
  },
  {
   "cell_type": "code",
   "execution_count": null,
   "metadata": {
    "colab": {
     "autoexec": {
      "startup": false,
      "wait_interval": 0
     }
    },
    "colab_type": "code",
    "collapsed": true,
    "id": "NJ1to9LVO-FY"
   },
   "outputs": [],
   "source": [
    "columns = raw_data.columns.tolist()\n",
    "columns"
   ]
  },
  {
   "cell_type": "code",
   "execution_count": null,
   "metadata": {
    "colab": {
     "autoexec": {
      "startup": false,
      "wait_interval": 0
     }
    },
    "colab_type": "code",
    "collapsed": true,
    "id": "vtZY7MELO-Fc"
   },
   "outputs": [],
   "source": [
    "# create a list\n",
    "new_columns = ['car-id','car-type','Date','EntryTime','ExitTime','EntryGate', 'ExitGate','SecondSpent',\n",
    " 'MinuteSpent', 'DaysSpent']"
   ]
  },
  {
   "cell_type": "code",
   "execution_count": null,
   "metadata": {
    "colab": {
     "autoexec": {
      "startup": false,
      "wait_interval": 0
     }
    },
    "colab_type": "code",
    "collapsed": true,
    "id": "6rOaPqamO-Fe"
   },
   "outputs": [],
   "source": [
    "raw_data = raw_data[new_columns]"
   ]
  },
  {
   "cell_type": "code",
   "execution_count": null,
   "metadata": {
    "colab": {
     "autoexec": {
      "startup": false,
      "wait_interval": 0
     }
    },
    "colab_type": "code",
    "collapsed": true,
    "id": "1yadd8F0O-Fg"
   },
   "outputs": [],
   "source": [
    "print raw_data.shape\n",
    "raw_data.head()"
   ]
  },
  {
   "cell_type": "markdown",
   "metadata": {
    "colab_type": "text",
    "id": "2XS5zREhO-Fj"
   },
   "source": [
    "### 8. Let's bring in location coordinates for EntryGate and ExitGate\n",
    "#### 8.1 First replace the 0s in exitgates with entry gates so that distance and speed computations can be carried out"
   ]
  },
  {
   "cell_type": "code",
   "execution_count": null,
   "metadata": {
    "colab": {
     "autoexec": {
      "startup": false,
      "wait_interval": 0
     }
    },
    "colab_type": "code",
    "collapsed": true,
    "id": "q3a476CVO-Fl"
   },
   "outputs": [],
   "source": [
    "raw_data.ExitGate[raw_data.ExitGate==0] = raw_data.EntryGate"
   ]
  },
  {
   "cell_type": "code",
   "execution_count": null,
   "metadata": {
    "colab": {
     "autoexec": {
      "startup": false,
      "wait_interval": 0
     }
    },
    "colab_type": "code",
    "collapsed": true,
    "id": "wUONRitaO-Fm"
   },
   "outputs": [],
   "source": [
    "raw_data.head()"
   ]
  },
  {
   "cell_type": "markdown",
   "metadata": {
    "colab_type": "text",
    "id": "s6WXA7nUO-Fo"
   },
   "source": [
    "#### 8.2 Read in the coordinates from the loc_file2 and get the X and Y coordinates"
   ]
  },
  {
   "cell_type": "code",
   "execution_count": null,
   "metadata": {
    "colab": {
     "autoexec": {
      "startup": false,
      "wait_interval": 0
     }
    },
    "colab_type": "code",
    "collapsed": true,
    "id": "LTDt7RL_O-Fp"
   },
   "outputs": [],
   "source": [
    "loc_data = pd.read_csv(os.path.join(path, loc_file2))"
   ]
  },
  {
   "cell_type": "code",
   "execution_count": null,
   "metadata": {
    "colab": {
     "autoexec": {
      "startup": false,
      "wait_interval": 0
     }
    },
    "colab_type": "code",
    "collapsed": true,
    "id": "9Pt0YwvlO-Fs"
   },
   "outputs": [],
   "source": [
    "loc_data['coordinates'] = zip(loc_data.X, loc_data.Y)\n",
    "#loc_data['coordinates']"
   ]
  },
  {
   "cell_type": "code",
   "execution_count": null,
   "metadata": {
    "colab": {
     "autoexec": {
      "startup": false,
      "wait_interval": 0
     }
    },
    "colab_type": "code",
    "collapsed": true,
    "id": "1k69ljFIO-Fu"
   },
   "outputs": [],
   "source": [
    "# write a utility function for lookup\n",
    "def FindCoordinates(gatename):\n",
    "    coo = loc_data.loc[loc_data['gate-name'] == gatename, 'coordinates'].iloc[0]\n",
    "    return coo"
   ]
  },
  {
   "cell_type": "code",
   "execution_count": null,
   "metadata": {
    "colab": {
     "autoexec": {
      "startup": false,
      "wait_interval": 0
     }
    },
    "colab_type": "code",
    "collapsed": true,
    "id": "GYEYAnfFO-Fw"
   },
   "outputs": [],
   "source": [
    "# write a utility function for lookup\n",
    "def FindCoordinatesX(gatename):\n",
    "    coo = loc_data.loc[loc_data['gate-name'] == gatename, 'coordinates'].iloc[0]\n",
    "    return coo[0]"
   ]
  },
  {
   "cell_type": "code",
   "execution_count": null,
   "metadata": {
    "colab": {
     "autoexec": {
      "startup": false,
      "wait_interval": 0
     }
    },
    "colab_type": "code",
    "collapsed": true,
    "id": "qWhNpXJsO-Fy"
   },
   "outputs": [],
   "source": [
    "# write a utility function for lookup\n",
    "def FindCoordinatesY(gatename):\n",
    "    coo = loc_data.loc[loc_data['gate-name'] == gatename, 'coordinates'].iloc[0]\n",
    "    return coo[1]"
   ]
  },
  {
   "cell_type": "code",
   "execution_count": null,
   "metadata": {
    "colab": {
     "autoexec": {
      "startup": false,
      "wait_interval": 0
     }
    },
    "colab_type": "code",
    "collapsed": true,
    "id": "C9o9YOgBO-F0"
   },
   "outputs": [],
   "source": [
    "# test a function\n",
    "print FindCoordinates('ranger-stop2')\n",
    "print FindCoordinatesX('ranger-stop2')\n",
    "print FindCoordinatesY('ranger-stop2')"
   ]
  },
  {
   "cell_type": "code",
   "execution_count": null,
   "metadata": {
    "colab": {
     "autoexec": {
      "startup": false,
      "wait_interval": 0
     }
    },
    "colab_type": "code",
    "collapsed": true,
    "id": "gyIzebG8O-F3"
   },
   "outputs": [],
   "source": [
    "raw_data['EntryX']=raw_data['EntryGate'].apply(lambda cell :FindCoordinatesX(cell))\n",
    "raw_data['EntryY'] = raw_data['EntryGate'].apply(lambda cell :FindCoordinatesY(cell))\n"
   ]
  },
  {
   "cell_type": "code",
   "execution_count": null,
   "metadata": {
    "colab": {
     "autoexec": {
      "startup": false,
      "wait_interval": 0
     }
    },
    "colab_type": "code",
    "collapsed": true,
    "id": "rVu4dw1qO-F9"
   },
   "outputs": [],
   "source": [
    "raw_data['ExitX']=raw_data['ExitGate'].apply(lambda cell :FindCoordinatesX(cell))\n",
    "raw_data['ExitY'] = raw_data['ExitGate'].apply(lambda cell :FindCoordinatesY(cell))"
   ]
  },
  {
   "cell_type": "code",
   "execution_count": null,
   "metadata": {
    "colab": {
     "autoexec": {
      "startup": false,
      "wait_interval": 0
     }
    },
    "colab_type": "code",
    "collapsed": true,
    "id": "tGoEK4MOO-GA"
   },
   "outputs": [],
   "source": [
    "raw_data['ExitCoordinates'] = raw_data['ExitGate'].apply(lambda row: FindCoordinates(row))"
   ]
  },
  {
   "cell_type": "code",
   "execution_count": null,
   "metadata": {
    "colab": {
     "autoexec": {
      "startup": false,
      "wait_interval": 0
     }
    },
    "colab_type": "code",
    "collapsed": true,
    "id": "S3fob5z4O-GE"
   },
   "outputs": [],
   "source": [
    "raw_data['EntryCoordinates'] = raw_data['EntryGate'].apply(lambda row: FindCoordinates(row))"
   ]
  },
  {
   "cell_type": "code",
   "execution_count": null,
   "metadata": {
    "colab": {
     "autoexec": {
      "startup": false,
      "wait_interval": 0
     }
    },
    "colab_type": "code",
    "collapsed": true,
    "id": "wJXNqJ3dO-GI"
   },
   "outputs": [],
   "source": [
    "print raw_data.shape\n",
    "raw_data.head()"
   ]
  },
  {
   "cell_type": "markdown",
   "metadata": {
    "colab_type": "text",
    "id": "3VI4EOdfO-GK"
   },
   "source": [
    "### 9. Let's find out the distance moved (straight-line) and derive speed of movement\n",
    "#### 982 units = 12 mile for the image used<br/>\n",
    "#### 1 unit = 12/982 miles"
   ]
  },
  {
   "cell_type": "code",
   "execution_count": null,
   "metadata": {
    "colab": {
     "autoexec": {
      "startup": false,
      "wait_interval": 0
     }
    },
    "colab_type": "code",
    "collapsed": true,
    "id": "uQx7syxTO-GL"
   },
   "outputs": [],
   "source": [
    "from scipy.spatial import distance\n",
    "def DistanceMoved(df):    \n",
    "    miles = round(distance.euclidean(df['EntryCoordinates'],df['ExitCoordinates'])*(12.0/982.0),3)\n",
    "    return miles "
   ]
  },
  {
   "cell_type": "code",
   "execution_count": null,
   "metadata": {
    "colab": {
     "autoexec": {
      "startup": false,
      "wait_interval": 0
     }
    },
    "colab_type": "code",
    "collapsed": true,
    "id": "toZeYsRFO-GO"
   },
   "outputs": [],
   "source": [
    "# test\n",
    "df = pd.DataFrame({'ID':['1','2'], 'EntryCoordinates': [(564, 818),(394, 174)], 'ExitCoordinates':[(316, 128),(440, 82)]})\n",
    "df.apply(DistanceMoved, axis=1)"
   ]
  },
  {
   "cell_type": "code",
   "execution_count": null,
   "metadata": {
    "colab": {
     "autoexec": {
      "startup": false,
      "wait_interval": 0
     }
    },
    "colab_type": "code",
    "collapsed": true,
    "id": "_TPDu0k4O-GQ"
   },
   "outputs": [],
   "source": [
    "# apply the given function on the dataframe\n",
    "raw_data['DistanceMiles'] = "
   ]
  },
  {
   "cell_type": "markdown",
   "metadata": {
    "colab_type": "text",
    "id": "j0_pKKRKO-GU"
   },
   "source": [
    "### 10. Similarily compute speed of movement between coordinates"
   ]
  },
  {
   "cell_type": "code",
   "execution_count": null,
   "metadata": {
    "colab": {
     "autoexec": {
      "startup": false,
      "wait_interval": 0
     }
    },
    "colab_type": "code",
    "collapsed": true,
    "id": "T3ONtrftO-GV"
   },
   "outputs": [],
   "source": [
    "def Speed(df):\n",
    "    distance = df['DistanceMiles']\n",
    "    hours = df['SecondSpent']/3600.0\n",
    "    if hours > 0.0:\n",
    "        return round(distance/hours,3)\n",
    "    else:\n",
    "        return 0"
   ]
  },
  {
   "cell_type": "code",
   "execution_count": null,
   "metadata": {
    "colab": {
     "autoexec": {
      "startup": false,
      "wait_interval": 0
     }
    },
    "colab_type": "code",
    "collapsed": true,
    "id": "AGqfktnlO-Ga"
   },
   "outputs": [],
   "source": [
    "# apply the Speed function\n",
    "raw_data['SpeedMPH'] = "
   ]
  },
  {
   "cell_type": "code",
   "execution_count": null,
   "metadata": {
    "colab": {
     "autoexec": {
      "startup": false,
      "wait_interval": 0
     }
    },
    "colab_type": "code",
    "collapsed": true,
    "id": "3IKUQP5_O-Gj"
   },
   "outputs": [],
   "source": [
    "raw_data['SpeedMPH'].describe()"
   ]
  },
  {
   "cell_type": "code",
   "execution_count": null,
   "metadata": {
    "colab": {
     "autoexec": {
      "startup": false,
      "wait_interval": 0
     }
    },
    "colab_type": "code",
    "collapsed": true,
    "id": "iANI5-qMO-Go"
   },
   "outputs": [],
   "source": [
    "raw_data['NoMovement']=(raw_data['SpeedMPH']==0)"
   ]
  },
  {
   "cell_type": "code",
   "execution_count": null,
   "metadata": {
    "colab": {
     "autoexec": {
      "startup": false,
      "wait_interval": 0
     }
    },
    "colab_type": "code",
    "collapsed": true,
    "id": "p1gE7IC1O-Gq"
   },
   "outputs": [],
   "source": [
    "# instances where vehicles exceeded speed limit of 25\n",
    "raw_data['SpeedLimitViolation']="
   ]
  },
  {
   "cell_type": "markdown",
   "metadata": {
    "colab_type": "text",
    "id": "2ha9vtufO-Gs"
   },
   "source": [
    "#### Let's keep only required columns"
   ]
  },
  {
   "cell_type": "code",
   "execution_count": null,
   "metadata": {
    "colab": {
     "autoexec": {
      "startup": false,
      "wait_interval": 0
     }
    },
    "colab_type": "code",
    "collapsed": true,
    "id": "K0IXi09cO-Gt"
   },
   "outputs": [],
   "source": [
    "# let's keep only required columns\n",
    "# change is as per need\n",
    "new_columns = ['car-id',\n",
    " 'car-type',\n",
    " 'Date',\n",
    " 'EntryTime', \n",
    " 'EntryGate',\n",
    " 'SecondSpent',\n",
    " 'MinuteSpent',\n",
    " 'DaysSpent',\n",
    " 'EntryX',\n",
    " 'EntryY',\n",
    " 'EntryCoordinates',\n",
    " 'DistanceMiles',\n",
    " 'SpeedMPH',\n",
    " 'NoMovement',\n",
    " 'SpeedLimitViolation']"
   ]
  },
  {
   "cell_type": "code",
   "execution_count": null,
   "metadata": {
    "colab": {
     "autoexec": {
      "startup": false,
      "wait_interval": 0
     }
    },
    "colab_type": "code",
    "collapsed": true,
    "id": "AF8c7l_vO-Gu"
   },
   "outputs": [],
   "source": [
    "raw_data = raw_data[new_columns]"
   ]
  },
  {
   "cell_type": "markdown",
   "metadata": {
    "colab_type": "text",
    "id": "m6SQw0pZO-Gw"
   },
   "source": [
    "#### save the work to a cleaned file"
   ]
  },
  {
   "cell_type": "code",
   "execution_count": null,
   "metadata": {
    "colab": {
     "autoexec": {
      "startup": false,
      "wait_interval": 0
     }
    },
    "colab_type": "code",
    "collapsed": true,
    "id": "OkP5EvVvO-Gw"
   },
   "outputs": [],
   "source": [
    "file_name = 'cleandata_activity.csv'"
   ]
  },
  {
   "cell_type": "code",
   "execution_count": null,
   "metadata": {
    "colab": {
     "autoexec": {
      "startup": false,
      "wait_interval": 0
     }
    },
    "colab_type": "code",
    "collapsed": true,
    "id": "sNkX-X-PO-Gy"
   },
   "outputs": [],
   "source": [
    "raw_data.to_csv(os.path.join(path, file_name), sep=';', encoding='utf-8', index=False)"
   ]
  },
  {
   "cell_type": "markdown",
   "metadata": {
    "colab_type": "text",
    "id": "7IC1L_yhO-G0"
   },
   "source": [
    "### 11. Read back the clean dataset"
   ]
  },
  {
   "cell_type": "code",
   "execution_count": null,
   "metadata": {
    "colab": {
     "autoexec": {
      "startup": false,
      "wait_interval": 0
     }
    },
    "colab_type": "code",
    "collapsed": true,
    "id": "MvPMrVd3O-G0"
   },
   "outputs": [],
   "source": [
    "file_name = 'cleandata_activity.csv'"
   ]
  },
  {
   "cell_type": "code",
   "execution_count": null,
   "metadata": {
    "colab": {
     "autoexec": {
      "startup": false,
      "wait_interval": 0
     }
    },
    "colab_type": "code",
    "collapsed": true,
    "id": "jaL9e0JvO-G3"
   },
   "outputs": [],
   "source": [
    "# read the file back to make sure\n",
    "clean_data = pd.read_csv(os.path.join(path, file_name), delimiter=';')"
   ]
  },
  {
   "cell_type": "code",
   "execution_count": null,
   "metadata": {
    "colab": {
     "autoexec": {
      "startup": false,
      "wait_interval": 0
     }
    },
    "colab_type": "code",
    "collapsed": true,
    "id": "Qv2LS6nnO-G6"
   },
   "outputs": [],
   "source": [
    "print clean_data.shape\n",
    "clean_data.head()"
   ]
  },
  {
   "cell_type": "code",
   "execution_count": null,
   "metadata": {
    "colab": {
     "autoexec": {
      "startup": false,
      "wait_interval": 0
     }
    },
    "colab_type": "code",
    "collapsed": true,
    "id": "Gyi7jpEAO-G8"
   },
   "outputs": [],
   "source": [
    "#clean_data.to_csv(os.path.join(path, 'full2.csv'), sep=',', encoding='utf-8', index=False)"
   ]
  },
  {
   "cell_type": "code",
   "execution_count": null,
   "metadata": {
    "colab": {
     "autoexec": {
      "startup": false,
      "wait_interval": 0
     }
    },
    "colab_type": "code",
    "collapsed": true,
    "id": "H_OJ3Wm7O-G9"
   },
   "outputs": [],
   "source": []
  }
 ],
 "metadata": {
  "colab": {
   "default_view": {},
   "name": "assessment1.ipynb",
   "provenance": [],
   "version": "0.3.2",
   "views": {}
  },
  "kernelspec": {
   "display_name": "Python 3",
   "language": "python",
   "name": "python3"
  },
  "language_info": {
   "codemirror_mode": {
    "name": "ipython",
    "version": 3
   },
   "file_extension": ".py",
   "mimetype": "text/x-python",
   "name": "python",
   "nbconvert_exporter": "python",
   "pygments_lexer": "ipython3",
   "version": "3.6.4"
  }
 },
 "nbformat": 4,
 "nbformat_minor": 2
}
