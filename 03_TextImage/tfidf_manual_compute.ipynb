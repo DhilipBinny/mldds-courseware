{
  "nbformat": 4,
  "nbformat_minor": 0,
  "metadata": {
    "kernelspec": {
      "display_name": "Python 3",
      "language": "python",
      "name": "python3"
    },
    "language_info": {
      "codemirror_mode": {
        "name": "ipython",
        "version": 3
      },
      "file_extension": ".py",
      "mimetype": "text/x-python",
      "name": "python",
      "nbconvert_exporter": "python",
      "pygments_lexer": "ipython3",
      "version": "3.7.3"
    },
    "colab": {
      "name": "text processing - tfidf manual compute.ipynb",
      "provenance": [],
      "include_colab_link": true
    }
  },
  "cells": [
    {
      "cell_type": "markdown",
      "metadata": {
        "id": "view-in-github",
        "colab_type": "text"
      },
      "source": [
        "<a href=\"https://colab.research.google.com/github/lisaong/mldds-courseware/blob/master/03_TextImage/tfidf_manual_compute.ipynb\" target=\"_parent\"><img src=\"https://colab.research.google.com/assets/colab-badge.svg\" alt=\"Open In Colab\"/></a>"
      ]
    },
    {
      "cell_type": "markdown",
      "metadata": {
        "id": "iZthx2dwLJeB",
        "colab_type": "text"
      },
      "source": [
        "# Text Processing\n",
        "\n",
        "This notebook covers:\n",
        "- Text Processing Techniques\n",
        "- Count vectorization\n",
        "- TFIDF computation\n"
      ]
    },
    {
      "cell_type": "code",
      "metadata": {
        "id": "U7CxXBGmLJeK",
        "colab_type": "code",
        "colab": {}
      },
      "source": [
        "import matplotlib.pyplot as plt\n",
        "import pandas as pd\n",
        "import numpy as np\n",
        "\n",
        "%matplotlib inline"
      ],
      "execution_count": 0,
      "outputs": []
    },
    {
      "cell_type": "markdown",
      "metadata": {
        "id": "JCPLNk0yLJf8",
        "colab_type": "text"
      },
      "source": [
        "## Text processing:\n",
        "- Tokenise: split text into words\n",
        "- Lemmatise: look at word form, considering noun, adjective, etc\n",
        "- Stem: get the word stem (bluntly chop off the end)\n",
        "\n",
        "### Goals:\n",
        "- Identify unique words\n",
        "- Avoid duplicating the same word form (e.g. cat, cats) in order to keep number of features small\n",
        "\n",
        "### Curse of Dimensionality:\n",
        "- 1 word is at least 1 feature (not considering N-grams - sequences of N words)\n",
        "- Reducing number of words will improve scalability"
      ]
    },
    {
      "cell_type": "markdown",
      "metadata": {
        "id": "mVCzOFiULJgD",
        "colab_type": "text"
      },
      "source": [
        "## NLTK\n",
        "\n",
        "We will exploring using NLTK (the Natural Language Processing Toolkit) to perform text pre-processing.\n",
        "\n",
        "(You should already have NLTK installed if you followed the Workshop Setup Instructions.)"
      ]
    },
    {
      "cell_type": "code",
      "metadata": {
        "id": "w_DMhj7XLJgH",
        "colab_type": "code",
        "outputId": "1a291cf8-282d-4bb2-933e-e4ad2f06ce70",
        "colab": {
          "base_uri": "https://localhost:8080/",
          "height": 136
        }
      },
      "source": [
        "# Download corpus for text pre-processing. These are not included in NLTK automatically because of file size.\n",
        "\n",
        "import nltk\n",
        "nltk.download('punkt') # tokenisation\n",
        "nltk.download('wordnet') # lemmatisation\n",
        "nltk.download('stopwords') # stop words"
      ],
      "execution_count": 49,
      "outputs": [
        {
          "output_type": "stream",
          "text": [
            "[nltk_data] Downloading package punkt to /root/nltk_data...\n",
            "[nltk_data]   Package punkt is already up-to-date!\n",
            "[nltk_data] Downloading package wordnet to /root/nltk_data...\n",
            "[nltk_data]   Package wordnet is already up-to-date!\n",
            "[nltk_data] Downloading package stopwords to /root/nltk_data...\n",
            "[nltk_data]   Package stopwords is already up-to-date!\n"
          ],
          "name": "stdout"
        },
        {
          "output_type": "execute_result",
          "data": {
            "text/plain": [
              "True"
            ]
          },
          "metadata": {
            "tags": []
          },
          "execution_count": 49
        }
      ]
    },
    {
      "cell_type": "markdown",
      "metadata": {
        "id": "yeAbtsnTLJgi",
        "colab_type": "text"
      },
      "source": [
        "## Tokenise"
      ]
    },
    {
      "cell_type": "code",
      "metadata": {
        "id": "omQSVXsXLJgl",
        "colab_type": "code",
        "outputId": "7f570a3e-f7cb-4a52-a291-4b453c59dcad",
        "colab": {
          "base_uri": "https://localhost:8080/",
          "height": 34
        }
      },
      "source": [
        "from nltk import word_tokenize\n",
        "\n",
        "text = 'Hello this is a test.'\n",
        "\n",
        "word_tokenize(text)"
      ],
      "execution_count": 50,
      "outputs": [
        {
          "output_type": "execute_result",
          "data": {
            "text/plain": [
              "['Hello', 'this', 'is', 'a', 'test', '.']"
            ]
          },
          "metadata": {
            "tags": []
          },
          "execution_count": 50
        }
      ]
    },
    {
      "cell_type": "markdown",
      "metadata": {
        "id": "yd_8OH7VLJgr",
        "colab_type": "text"
      },
      "source": [
        "## Lemmatise"
      ]
    },
    {
      "cell_type": "code",
      "metadata": {
        "id": "AxXHmCMdLJgt",
        "colab_type": "code",
        "outputId": "d2fd9b4b-b3b1-4ecf-eb09-622fb797a4ac",
        "colab": {
          "base_uri": "https://localhost:8080/",
          "height": 204
        }
      },
      "source": [
        "text = 'he liked cats and dogs, and teaching machines to learn'\n",
        "\n",
        "# just tokenisation\n",
        "word_tokenize(text)"
      ],
      "execution_count": 51,
      "outputs": [
        {
          "output_type": "execute_result",
          "data": {
            "text/plain": [
              "['he',\n",
              " 'liked',\n",
              " 'cats',\n",
              " 'and',\n",
              " 'dogs',\n",
              " ',',\n",
              " 'and',\n",
              " 'teaching',\n",
              " 'machines',\n",
              " 'to',\n",
              " 'learn']"
            ]
          },
          "metadata": {
            "tags": []
          },
          "execution_count": 51
        }
      ]
    },
    {
      "cell_type": "code",
      "metadata": {
        "id": "LQdXXdpILJgy",
        "colab_type": "code",
        "outputId": "87ede7e3-298c-43ec-acf9-c48e6fc63cbb",
        "colab": {
          "base_uri": "https://localhost:8080/",
          "height": 289
        }
      },
      "source": [
        "# WordNet is a lexical database, it is used to\n",
        "# find the lemma of a word based on language rules (verb, etc)\n",
        "from nltk.stem import WordNetLemmatizer\n",
        "\n",
        "text = 'he liked cats and dogs, and teaching machines to learn fasting mice women men man'\n",
        "\n",
        "# tokenise: breaks up sentence into words\n",
        "tokens = word_tokenize(text)\n",
        "\n",
        "# lemmatise using list comprehension\n",
        "# WordNetLemmatizer\n",
        "wnl = WordNetLemmatizer()\n",
        "\n",
        "# result = [] \n",
        "# for t in tokens:\n",
        "#     print(wnl.lemmatize(t))\n",
        "#     result.append(wnl.lemmatize(t))\n",
        "\n",
        "# creates a list of lemmatised tokens\n",
        "# \n",
        "# text = 'he liked cats and dogs, and teaching machines to learn fasting mice men women'\n",
        "\n",
        "[wnl.lemmatize(t) for t in tokens]"
      ],
      "execution_count": 52,
      "outputs": [
        {
          "output_type": "execute_result",
          "data": {
            "text/plain": [
              "['he',\n",
              " 'liked',\n",
              " 'cat',\n",
              " 'and',\n",
              " 'dog',\n",
              " ',',\n",
              " 'and',\n",
              " 'teaching',\n",
              " 'machine',\n",
              " 'to',\n",
              " 'learn',\n",
              " 'fasting',\n",
              " 'mouse',\n",
              " 'woman',\n",
              " 'men',\n",
              " 'man']"
            ]
          },
          "metadata": {
            "tags": []
          },
          "execution_count": 52
        }
      ]
    },
    {
      "cell_type": "markdown",
      "metadata": {
        "id": "dnP9CCiXLJg4",
        "colab_type": "text"
      },
      "source": [
        "## Stem"
      ]
    },
    {
      "cell_type": "code",
      "metadata": {
        "id": "RUSj4qIsLJg7",
        "colab_type": "code",
        "outputId": "a4250e04-1eb7-47a4-d986-6453f0bcac80",
        "colab": {
          "base_uri": "https://localhost:8080/",
          "height": 289
        }
      },
      "source": [
        "# Stemmer looks at word endings and chops it off\n",
        "# based on some rules, e.g: es -> e\n",
        "from nltk.stem import SnowballStemmer\n",
        "\n",
        "text = 'he liked cats and dogs, and teaching teach machines to learn fasting mice men women'\n",
        "\n",
        "# tokenise\n",
        "tokens = word_tokenize(text)\n",
        "\n",
        "# stemmer for English\n",
        "stm = SnowballStemmer('english')\n",
        "\n",
        "[stm.stem(t) for t in tokens]"
      ],
      "execution_count": 53,
      "outputs": [
        {
          "output_type": "execute_result",
          "data": {
            "text/plain": [
              "['he',\n",
              " 'like',\n",
              " 'cat',\n",
              " 'and',\n",
              " 'dog',\n",
              " ',',\n",
              " 'and',\n",
              " 'teach',\n",
              " 'teach',\n",
              " 'machin',\n",
              " 'to',\n",
              " 'learn',\n",
              " 'fast',\n",
              " 'mice',\n",
              " 'men',\n",
              " 'women']"
            ]
          },
          "metadata": {
            "tags": []
          },
          "execution_count": 53
        }
      ]
    },
    {
      "cell_type": "markdown",
      "metadata": {
        "id": "sF89bMrOLJhC",
        "colab_type": "text"
      },
      "source": [
        "## Stop words"
      ]
    },
    {
      "cell_type": "code",
      "metadata": {
        "id": "tETUTvyjLJhD",
        "colab_type": "code",
        "outputId": "2d067d3f-e0e3-4b52-950f-b33a3e8b9bdd",
        "colab": {
          "base_uri": "https://localhost:8080/",
          "height": 34
        }
      },
      "source": [
        "from nltk.corpus import stopwords\n",
        "stop = set(stopwords.words('english'))\n",
        "\n",
        "text = 'he liked cats and dogs, and teaching machines to learn'\n",
        "\n",
        "# lower case\n",
        "lower = text.lower()\n",
        "\n",
        "# tokenize\n",
        "tokens = word_tokenize(lower)\n",
        "\n",
        "# remove stop words\n",
        "[t for t in tokens if (t not in stop)]"
      ],
      "execution_count": 54,
      "outputs": [
        {
          "output_type": "execute_result",
          "data": {
            "text/plain": [
              "['liked', 'cats', 'dogs', ',', 'teaching', 'machines', 'learn']"
            ]
          },
          "metadata": {
            "tags": []
          },
          "execution_count": 54
        }
      ]
    },
    {
      "cell_type": "code",
      "metadata": {
        "id": "Zz2XQdJKLJhJ",
        "colab_type": "code",
        "outputId": "2907d93e-dc01-4d97-80d3-f187995c1287",
        "colab": {
          "base_uri": "https://localhost:8080/",
          "height": 1000
        }
      },
      "source": [
        "stop"
      ],
      "execution_count": 55,
      "outputs": [
        {
          "output_type": "execute_result",
          "data": {
            "text/plain": [
              "{'a',\n",
              " 'about',\n",
              " 'above',\n",
              " 'after',\n",
              " 'again',\n",
              " 'against',\n",
              " 'ain',\n",
              " 'all',\n",
              " 'am',\n",
              " 'an',\n",
              " 'and',\n",
              " 'any',\n",
              " 'are',\n",
              " 'aren',\n",
              " \"aren't\",\n",
              " 'as',\n",
              " 'at',\n",
              " 'be',\n",
              " 'because',\n",
              " 'been',\n",
              " 'before',\n",
              " 'being',\n",
              " 'below',\n",
              " 'between',\n",
              " 'both',\n",
              " 'but',\n",
              " 'by',\n",
              " 'can',\n",
              " 'couldn',\n",
              " \"couldn't\",\n",
              " 'd',\n",
              " 'did',\n",
              " 'didn',\n",
              " \"didn't\",\n",
              " 'do',\n",
              " 'does',\n",
              " 'doesn',\n",
              " \"doesn't\",\n",
              " 'doing',\n",
              " 'don',\n",
              " \"don't\",\n",
              " 'down',\n",
              " 'during',\n",
              " 'each',\n",
              " 'few',\n",
              " 'for',\n",
              " 'from',\n",
              " 'further',\n",
              " 'had',\n",
              " 'hadn',\n",
              " \"hadn't\",\n",
              " 'has',\n",
              " 'hasn',\n",
              " \"hasn't\",\n",
              " 'have',\n",
              " 'haven',\n",
              " \"haven't\",\n",
              " 'having',\n",
              " 'he',\n",
              " 'her',\n",
              " 'here',\n",
              " 'hers',\n",
              " 'herself',\n",
              " 'him',\n",
              " 'himself',\n",
              " 'his',\n",
              " 'how',\n",
              " 'i',\n",
              " 'if',\n",
              " 'in',\n",
              " 'into',\n",
              " 'is',\n",
              " 'isn',\n",
              " \"isn't\",\n",
              " 'it',\n",
              " \"it's\",\n",
              " 'its',\n",
              " 'itself',\n",
              " 'just',\n",
              " 'll',\n",
              " 'm',\n",
              " 'ma',\n",
              " 'me',\n",
              " 'mightn',\n",
              " \"mightn't\",\n",
              " 'more',\n",
              " 'most',\n",
              " 'mustn',\n",
              " \"mustn't\",\n",
              " 'my',\n",
              " 'myself',\n",
              " 'needn',\n",
              " \"needn't\",\n",
              " 'no',\n",
              " 'nor',\n",
              " 'not',\n",
              " 'now',\n",
              " 'o',\n",
              " 'of',\n",
              " 'off',\n",
              " 'on',\n",
              " 'once',\n",
              " 'only',\n",
              " 'or',\n",
              " 'other',\n",
              " 'our',\n",
              " 'ours',\n",
              " 'ourselves',\n",
              " 'out',\n",
              " 'over',\n",
              " 'own',\n",
              " 're',\n",
              " 's',\n",
              " 'same',\n",
              " 'shan',\n",
              " \"shan't\",\n",
              " 'she',\n",
              " \"she's\",\n",
              " 'should',\n",
              " \"should've\",\n",
              " 'shouldn',\n",
              " \"shouldn't\",\n",
              " 'so',\n",
              " 'some',\n",
              " 'such',\n",
              " 't',\n",
              " 'than',\n",
              " 'that',\n",
              " \"that'll\",\n",
              " 'the',\n",
              " 'their',\n",
              " 'theirs',\n",
              " 'them',\n",
              " 'themselves',\n",
              " 'then',\n",
              " 'there',\n",
              " 'these',\n",
              " 'they',\n",
              " 'this',\n",
              " 'those',\n",
              " 'through',\n",
              " 'to',\n",
              " 'too',\n",
              " 'under',\n",
              " 'until',\n",
              " 'up',\n",
              " 've',\n",
              " 'very',\n",
              " 'was',\n",
              " 'wasn',\n",
              " \"wasn't\",\n",
              " 'we',\n",
              " 'were',\n",
              " 'weren',\n",
              " \"weren't\",\n",
              " 'what',\n",
              " 'when',\n",
              " 'where',\n",
              " 'which',\n",
              " 'while',\n",
              " 'who',\n",
              " 'whom',\n",
              " 'why',\n",
              " 'will',\n",
              " 'with',\n",
              " 'won',\n",
              " \"won't\",\n",
              " 'wouldn',\n",
              " \"wouldn't\",\n",
              " 'y',\n",
              " 'you',\n",
              " \"you'd\",\n",
              " \"you'll\",\n",
              " \"you're\",\n",
              " \"you've\",\n",
              " 'your',\n",
              " 'yours',\n",
              " 'yourself',\n",
              " 'yourselves'}"
            ]
          },
          "metadata": {
            "tags": []
          },
          "execution_count": 55
        }
      ]
    },
    {
      "cell_type": "code",
      "metadata": {
        "id": "okfZ9IjYLJhQ",
        "colab_type": "code",
        "outputId": "364949c7-91d3-481a-a2b4-c243ae6325db",
        "colab": {
          "base_uri": "https://localhost:8080/",
          "height": 34
        }
      },
      "source": [
        "len(stop) # number of stop words"
      ],
      "execution_count": 56,
      "outputs": [
        {
          "output_type": "execute_result",
          "data": {
            "text/plain": [
              "179"
            ]
          },
          "metadata": {
            "tags": []
          },
          "execution_count": 56
        }
      ]
    },
    {
      "cell_type": "code",
      "metadata": {
        "id": "SMLkcAaqLJhW",
        "colab_type": "code",
        "colab": {}
      },
      "source": [
        "# add / remove words to stoplist\n",
        "# This changes the local copy, not the original stoplist\n",
        "\n",
        "stop.add('lah')\n",
        "stop.remove('because') # changes the stop list in-place\n",
        "                       # so running this cell again will return\n",
        "                       # KeyError"
      ],
      "execution_count": 0,
      "outputs": []
    },
    {
      "cell_type": "markdown",
      "metadata": {
        "id": "rHC1dEHhLJhj",
        "colab_type": "text"
      },
      "source": [
        "# Vectorise Text\n",
        "\n",
        "Vectorisation converts words into vectors of numbers\n",
        "\n",
        "Common ways:\n",
        "- By word count: CountVectorizer\n",
        "- By word and document frequency: TfidfVectorizer\n",
        "- By word vectors (gensim Word2Vec)"
      ]
    },
    {
      "cell_type": "markdown",
      "metadata": {
        "id": "gkBjXJeFLJhm",
        "colab_type": "text"
      },
      "source": [
        "## Word Count Vectorisation\n",
        "\n",
        "* Words that are used more frequently get a higher count"
      ]
    },
    {
      "cell_type": "code",
      "metadata": {
        "id": "4Fa0IKC9LJhp",
        "colab_type": "code",
        "outputId": "118de9a0-5bdf-4c1f-acf1-290b989ae700",
        "colab": {
          "base_uri": "https://localhost:8080/",
          "height": 0
        }
      },
      "source": [
        "from sklearn.feature_extraction.text import CountVectorizer\n",
        "corpus = [\n",
        "   'This is the first document.',\n",
        "   'This document is the second document.',\n",
        "   'And this is the third one.',\n",
        "   'Is this the first document?',\n",
        "]\n",
        "\n",
        "# sklearn's stoplist, with unigram & bigram\n",
        "#countvec = CountVectorizer(ngram_range=(1, 2), stop_words='english')\n",
        "\n",
        "# sklearn stoplist is lousy, use nltk's\n",
        "countvec = CountVectorizer(ngram_range=(1, 2), stop_words=list(stop))\n",
        "result = countvec.fit_transform(corpus)\n",
        "print(result) # sparse matrix, (location) non-zero value"
      ],
      "execution_count": 58,
      "outputs": [
        {
          "output_type": "stream",
          "text": [
            "  (0, 2)\t1\n",
            "  (0, 0)\t1\n",
            "  (0, 3)\t1\n",
            "  (1, 0)\t2\n",
            "  (1, 5)\t1\n",
            "  (1, 1)\t1\n",
            "  (1, 6)\t1\n",
            "  (2, 7)\t1\n",
            "  (2, 4)\t1\n",
            "  (2, 8)\t1\n",
            "  (3, 2)\t1\n",
            "  (3, 0)\t1\n",
            "  (3, 3)\t1\n"
          ],
          "name": "stdout"
        }
      ]
    },
    {
      "cell_type": "code",
      "metadata": {
        "id": "zXQ4aXSkLJhy",
        "colab_type": "code",
        "outputId": "4555c8aa-df2c-4c89-aead-68aba7ae46e9",
        "colab": {
          "base_uri": "https://localhost:8080/",
          "height": 0
        }
      },
      "source": [
        "# convert sparse matrix to dense matrix using todense()\n",
        "result.todense()"
      ],
      "execution_count": 59,
      "outputs": [
        {
          "output_type": "execute_result",
          "data": {
            "text/plain": [
              "matrix([[1, 0, 1, 1, 0, 0, 0, 0, 0],\n",
              "        [2, 1, 0, 0, 0, 1, 1, 0, 0],\n",
              "        [0, 0, 0, 0, 1, 0, 0, 1, 1],\n",
              "        [1, 0, 1, 1, 0, 0, 0, 0, 0]])"
            ]
          },
          "metadata": {
            "tags": []
          },
          "execution_count": 59
        }
      ]
    },
    {
      "cell_type": "code",
      "metadata": {
        "id": "eLz6UE4VLJh6",
        "colab_type": "code",
        "outputId": "98fa9fdd-108a-4bde-ac81-0b10b53b2807",
        "colab": {
          "base_uri": "https://localhost:8080/",
          "height": 0
        }
      },
      "source": [
        "# vocabulary\n",
        "countvec.get_feature_names()\n",
        "\n",
        "# create dataframe with count vectors as data\n",
        "# and vocabulary as headers\n",
        "\n",
        "# add the original text as the 'text column \n",
        "df = pd.DataFrame(result.todense(),\n",
        "             columns=countvec.get_feature_names())\n",
        "df['text'] = corpus\n",
        "df"
      ],
      "execution_count": 60,
      "outputs": [
        {
          "output_type": "execute_result",
          "data": {
            "text/html": [
              "<div>\n",
              "<style scoped>\n",
              "    .dataframe tbody tr th:only-of-type {\n",
              "        vertical-align: middle;\n",
              "    }\n",
              "\n",
              "    .dataframe tbody tr th {\n",
              "        vertical-align: top;\n",
              "    }\n",
              "\n",
              "    .dataframe thead th {\n",
              "        text-align: right;\n",
              "    }\n",
              "</style>\n",
              "<table border=\"1\" class=\"dataframe\">\n",
              "  <thead>\n",
              "    <tr style=\"text-align: right;\">\n",
              "      <th></th>\n",
              "      <th>document</th>\n",
              "      <th>document second</th>\n",
              "      <th>first</th>\n",
              "      <th>first document</th>\n",
              "      <th>one</th>\n",
              "      <th>second</th>\n",
              "      <th>second document</th>\n",
              "      <th>third</th>\n",
              "      <th>third one</th>\n",
              "      <th>text</th>\n",
              "    </tr>\n",
              "  </thead>\n",
              "  <tbody>\n",
              "    <tr>\n",
              "      <th>0</th>\n",
              "      <td>1</td>\n",
              "      <td>0</td>\n",
              "      <td>1</td>\n",
              "      <td>1</td>\n",
              "      <td>0</td>\n",
              "      <td>0</td>\n",
              "      <td>0</td>\n",
              "      <td>0</td>\n",
              "      <td>0</td>\n",
              "      <td>This is the first document.</td>\n",
              "    </tr>\n",
              "    <tr>\n",
              "      <th>1</th>\n",
              "      <td>2</td>\n",
              "      <td>1</td>\n",
              "      <td>0</td>\n",
              "      <td>0</td>\n",
              "      <td>0</td>\n",
              "      <td>1</td>\n",
              "      <td>1</td>\n",
              "      <td>0</td>\n",
              "      <td>0</td>\n",
              "      <td>This document is the second document.</td>\n",
              "    </tr>\n",
              "    <tr>\n",
              "      <th>2</th>\n",
              "      <td>0</td>\n",
              "      <td>0</td>\n",
              "      <td>0</td>\n",
              "      <td>0</td>\n",
              "      <td>1</td>\n",
              "      <td>0</td>\n",
              "      <td>0</td>\n",
              "      <td>1</td>\n",
              "      <td>1</td>\n",
              "      <td>And this is the third one.</td>\n",
              "    </tr>\n",
              "    <tr>\n",
              "      <th>3</th>\n",
              "      <td>1</td>\n",
              "      <td>0</td>\n",
              "      <td>1</td>\n",
              "      <td>1</td>\n",
              "      <td>0</td>\n",
              "      <td>0</td>\n",
              "      <td>0</td>\n",
              "      <td>0</td>\n",
              "      <td>0</td>\n",
              "      <td>Is this the first document?</td>\n",
              "    </tr>\n",
              "  </tbody>\n",
              "</table>\n",
              "</div>"
            ],
            "text/plain": [
              "   document  document second  ...  third one                                   text\n",
              "0         1                0  ...          0            This is the first document.\n",
              "1         2                1  ...          0  This document is the second document.\n",
              "2         0                0  ...          1             And this is the third one.\n",
              "3         1                0  ...          0            Is this the first document?\n",
              "\n",
              "[4 rows x 10 columns]"
            ]
          },
          "metadata": {
            "tags": []
          },
          "execution_count": 60
        }
      ]
    },
    {
      "cell_type": "code",
      "metadata": {
        "id": "45R4zSNMLJh-",
        "colab_type": "code",
        "colab": {}
      },
      "source": [
        ""
      ],
      "execution_count": 0,
      "outputs": []
    },
    {
      "cell_type": "markdown",
      "metadata": {
        "id": "A32KmwDkLJiB",
        "colab_type": "text"
      },
      "source": [
        "## Word and Document Frequency (TF-IDF) Vectorisation\n",
        "\n",
        "- TF: Term Frequency: rewards words commonly used in a document\n",
        "- IDF: Inverse Document Frequency: penalises words commonly used in all documents"
      ]
    },
    {
      "cell_type": "code",
      "metadata": {
        "id": "i2_zY9ABLJiC",
        "colab_type": "code",
        "outputId": "22c42b58-ba77-45cb-f4b4-b890997200eb",
        "colab": {
          "base_uri": "https://localhost:8080/",
          "height": 153
        }
      },
      "source": [
        "from sklearn.feature_extraction.text import TfidfVectorizer\n",
        "corpus = [\n",
        "   'This document is the first document.',\n",
        "   'This document is the second document.',\n",
        "   'And this is the third one.',\n",
        "   'Is this document the first document?',\n",
        "]\n",
        "\n",
        "# create vectoriser\n",
        "tfidf = TfidfVectorizer(ngram_range=(1, 2), stop_words=list(stop))\n",
        "\n",
        "# fit transform\n",
        "result = tfidf.fit_transform(corpus)\n",
        "\n",
        "# inspect matrix\n",
        "result.todense()"
      ],
      "execution_count": 61,
      "outputs": [
        {
          "output_type": "execute_result",
          "data": {
            "text/plain": [
              "matrix([[0.6829022 , 0.42176004, 0.        , 0.42176004, 0.42176004,\n",
              "         0.        , 0.        , 0.        , 0.        , 0.        ],\n",
              "        [0.59329727, 0.        , 0.46475741, 0.        , 0.        ,\n",
              "         0.        , 0.46475741, 0.46475741, 0.        , 0.        ],\n",
              "        [0.        , 0.        , 0.        , 0.        , 0.        ,\n",
              "         0.57735027, 0.        , 0.        , 0.57735027, 0.57735027],\n",
              "        [0.6829022 , 0.42176004, 0.        , 0.42176004, 0.42176004,\n",
              "         0.        , 0.        , 0.        , 0.        , 0.        ]])"
            ]
          },
          "metadata": {
            "tags": []
          },
          "execution_count": 61
        }
      ]
    },
    {
      "cell_type": "code",
      "metadata": {
        "id": "yYK6jTWELJiF",
        "colab_type": "code",
        "outputId": "35bc0ca3-a977-475c-836e-0255f1b3c110",
        "colab": {
          "base_uri": "https://localhost:8080/",
          "height": 187
        }
      },
      "source": [
        "# inspect vocabulary using get_feature_names()\n",
        "\n",
        "vocab = tfidf.get_feature_names()\n",
        "vocab"
      ],
      "execution_count": 62,
      "outputs": [
        {
          "output_type": "execute_result",
          "data": {
            "text/plain": [
              "['document',\n",
              " 'document first',\n",
              " 'document second',\n",
              " 'first',\n",
              " 'first document',\n",
              " 'one',\n",
              " 'second',\n",
              " 'second document',\n",
              " 'third',\n",
              " 'third one']"
            ]
          },
          "metadata": {
            "tags": []
          },
          "execution_count": 62
        }
      ]
    },
    {
      "cell_type": "code",
      "metadata": {
        "id": "bLoeMtvsLJiJ",
        "colab_type": "code",
        "outputId": "5e7bc834-c1c6-4c7c-c5f3-b209492afbf1",
        "colab": {
          "base_uri": "https://localhost:8080/",
          "height": 173
        }
      },
      "source": [
        "# create dataframe with count vectors as data\n",
        "# and vocabulary as headers\n",
        "# remember to convert vectors from sparse to dense matrix\n",
        "\n",
        "# add the original text as the 'text column \n",
        "df = pd.DataFrame(result.todense(),\n",
        "             columns=vocab)\n",
        "\n",
        "# add the original text as the 'text column \n",
        "df['text'] = corpus\n",
        "df"
      ],
      "execution_count": 63,
      "outputs": [
        {
          "output_type": "execute_result",
          "data": {
            "text/html": [
              "<div>\n",
              "<style scoped>\n",
              "    .dataframe tbody tr th:only-of-type {\n",
              "        vertical-align: middle;\n",
              "    }\n",
              "\n",
              "    .dataframe tbody tr th {\n",
              "        vertical-align: top;\n",
              "    }\n",
              "\n",
              "    .dataframe thead th {\n",
              "        text-align: right;\n",
              "    }\n",
              "</style>\n",
              "<table border=\"1\" class=\"dataframe\">\n",
              "  <thead>\n",
              "    <tr style=\"text-align: right;\">\n",
              "      <th></th>\n",
              "      <th>document</th>\n",
              "      <th>document first</th>\n",
              "      <th>document second</th>\n",
              "      <th>first</th>\n",
              "      <th>first document</th>\n",
              "      <th>one</th>\n",
              "      <th>second</th>\n",
              "      <th>second document</th>\n",
              "      <th>third</th>\n",
              "      <th>third one</th>\n",
              "      <th>text</th>\n",
              "    </tr>\n",
              "  </thead>\n",
              "  <tbody>\n",
              "    <tr>\n",
              "      <th>0</th>\n",
              "      <td>0.682902</td>\n",
              "      <td>0.42176</td>\n",
              "      <td>0.000000</td>\n",
              "      <td>0.42176</td>\n",
              "      <td>0.42176</td>\n",
              "      <td>0.00000</td>\n",
              "      <td>0.000000</td>\n",
              "      <td>0.000000</td>\n",
              "      <td>0.00000</td>\n",
              "      <td>0.00000</td>\n",
              "      <td>This document is the first document.</td>\n",
              "    </tr>\n",
              "    <tr>\n",
              "      <th>1</th>\n",
              "      <td>0.593297</td>\n",
              "      <td>0.00000</td>\n",
              "      <td>0.464757</td>\n",
              "      <td>0.00000</td>\n",
              "      <td>0.00000</td>\n",
              "      <td>0.00000</td>\n",
              "      <td>0.464757</td>\n",
              "      <td>0.464757</td>\n",
              "      <td>0.00000</td>\n",
              "      <td>0.00000</td>\n",
              "      <td>This document is the second document.</td>\n",
              "    </tr>\n",
              "    <tr>\n",
              "      <th>2</th>\n",
              "      <td>0.000000</td>\n",
              "      <td>0.00000</td>\n",
              "      <td>0.000000</td>\n",
              "      <td>0.00000</td>\n",
              "      <td>0.00000</td>\n",
              "      <td>0.57735</td>\n",
              "      <td>0.000000</td>\n",
              "      <td>0.000000</td>\n",
              "      <td>0.57735</td>\n",
              "      <td>0.57735</td>\n",
              "      <td>And this is the third one.</td>\n",
              "    </tr>\n",
              "    <tr>\n",
              "      <th>3</th>\n",
              "      <td>0.682902</td>\n",
              "      <td>0.42176</td>\n",
              "      <td>0.000000</td>\n",
              "      <td>0.42176</td>\n",
              "      <td>0.42176</td>\n",
              "      <td>0.00000</td>\n",
              "      <td>0.000000</td>\n",
              "      <td>0.000000</td>\n",
              "      <td>0.00000</td>\n",
              "      <td>0.00000</td>\n",
              "      <td>Is this document the first document?</td>\n",
              "    </tr>\n",
              "  </tbody>\n",
              "</table>\n",
              "</div>"
            ],
            "text/plain": [
              "   document  document first  ...  third one                                   text\n",
              "0  0.682902         0.42176  ...    0.00000   This document is the first document.\n",
              "1  0.593297         0.00000  ...    0.00000  This document is the second document.\n",
              "2  0.000000         0.00000  ...    0.57735             And this is the third one.\n",
              "3  0.682902         0.42176  ...    0.00000   Is this document the first document?\n",
              "\n",
              "[4 rows x 11 columns]"
            ]
          },
          "metadata": {
            "tags": []
          },
          "execution_count": 63
        }
      ]
    },
    {
      "cell_type": "code",
      "metadata": {
        "id": "-RpJJJTOLJiM",
        "colab_type": "code",
        "outputId": "9d63d286-7c93-478f-ed7d-95b302549d62",
        "colab": {
          "base_uri": "https://localhost:8080/",
          "height": 238
        }
      },
      "source": [
        "# Computing TFIDF manually to check the values above\n",
        "\n",
        "# first, we examine the settings used for our TFIDF vectorizer\n",
        "tfidf"
      ],
      "execution_count": 64,
      "outputs": [
        {
          "output_type": "execute_result",
          "data": {
            "text/plain": [
              "TfidfVectorizer(analyzer='word', binary=False, decode_error='strict',\n",
              "                dtype=<class 'numpy.float64'>, encoding='utf-8',\n",
              "                input='content', lowercase=True, max_df=1.0, max_features=None,\n",
              "                min_df=1, ngram_range=(1, 2), norm='l2', preprocessor=None,\n",
              "                smooth_idf=True,\n",
              "                stop_words=['over', 'wouldn', 'but', 'at', 'can', 'they', 'don',\n",
              "                            \"you've\", 'you', 'most', 'herself', 'how', 'to',\n",
              "                            'were', 'during', 'has', \"don't\", 'having',\n",
              "                            'itself', 'down', 'that', 'hers', 'had', 'an', 't',\n",
              "                            'or', 'll', 'yourself', 'lah', \"isn't\", ...],\n",
              "                strip_accents=None, sublinear_tf=False,\n",
              "                token_pattern='(?u)\\\\b\\\\w\\\\w+\\\\b', tokenizer=None, use_idf=True,\n",
              "                vocabulary=None)"
            ]
          },
          "metadata": {
            "tags": []
          },
          "execution_count": 64
        }
      ]
    },
    {
      "cell_type": "markdown",
      "metadata": {
        "id": "fl623qxkLJiQ",
        "colab_type": "text"
      },
      "source": [
        "Based on https://scikit-learn.org/stable/modules/feature_extraction.html#tfidf-term-weighting, the equation used is:\n",
        "\n",
        "$\\text{tf-idf(t,d)}=\\text{tf(t,d)} \\times \\text{idf(t)}$\n",
        "\n",
        "Where:\n",
        "\n",
        "$\\text{idf}(t) = \\log{\\frac{n}{1+\\text{df}(t)}}$\n",
        "\n",
        "When smooth_idf=True, the TFIDF computed tries to avoid zero values by adding a 1:\n",
        "\n",
        "$\\text{idf}(t) = \\log{\\frac{1 + n}{1+\\text{df}(t)}} + 1$\n",
        "\n",
        "Where $n$ is the total number of documents in the document set, and $\\text{df}(t)$ is the number of documents in the document set that contain term $t$. The resulting tf-idf vectors are then normalized by the Euclidean norm:\n",
        "\n",
        "$v_{norm} = \\frac{v}{||v||_2} = \\frac{v}{\\sqrt{v{_1}^2 +\n",
        "v{_2}^2 + \\dots + v{_n}^2}}$"
      ]
    },
    {
      "cell_type": "code",
      "metadata": {
        "id": "jT0suuTvLJiR",
        "colab_type": "code",
        "outputId": "537093f1-c011-4d31-ad22-0bc336ab8398",
        "colab": {
          "base_uri": "https://localhost:8080/",
          "height": 85
        }
      },
      "source": [
        "corpus"
      ],
      "execution_count": 65,
      "outputs": [
        {
          "output_type": "execute_result",
          "data": {
            "text/plain": [
              "['This document is the first document.',\n",
              " 'This document is the second document.',\n",
              " 'And this is the third one.',\n",
              " 'Is this document the first document?']"
            ]
          },
          "metadata": {
            "tags": []
          },
          "execution_count": 65
        }
      ]
    },
    {
      "cell_type": "code",
      "metadata": {
        "id": "VOfAtWXBLJiW",
        "colab_type": "code",
        "outputId": "5de21c67-1e4a-4d8c-c4b6-5e4eb0644dc1",
        "colab": {
          "base_uri": "https://localhost:8080/",
          "height": 85
        }
      },
      "source": [
        "# term frequency\n",
        "countvec = CountVectorizer(ngram_range=(1, 2), stop_words=list(stop))\n",
        "\n",
        "tf_sparse = countvec.fit_transform(corpus)\n",
        "tf = tf_sparse.todense()\n",
        "tf"
      ],
      "execution_count": 66,
      "outputs": [
        {
          "output_type": "execute_result",
          "data": {
            "text/plain": [
              "matrix([[2, 1, 0, 1, 1, 0, 0, 0, 0, 0],\n",
              "        [2, 0, 1, 0, 0, 0, 1, 1, 0, 0],\n",
              "        [0, 0, 0, 0, 0, 1, 0, 0, 1, 1],\n",
              "        [2, 1, 0, 1, 1, 0, 0, 0, 0, 0]])"
            ]
          },
          "metadata": {
            "tags": []
          },
          "execution_count": 66
        }
      ]
    },
    {
      "cell_type": "code",
      "metadata": {
        "id": "rLBDe_GbLJic",
        "colab_type": "code",
        "outputId": "4086740d-d7b4-4ed5-80b4-e3d7af7e19f3",
        "colab": {
          "base_uri": "https://localhost:8080/",
          "height": 34
        }
      },
      "source": [
        "# document frequency\n",
        "# the number of documents in the document set that contain term t\n",
        "# can be computed by inspecting how many non-zero counts there are in each column\n",
        "\n",
        "df = (tf > 0).sum(axis=0)\n",
        "df"
      ],
      "execution_count": 67,
      "outputs": [
        {
          "output_type": "execute_result",
          "data": {
            "text/plain": [
              "matrix([[3, 2, 1, 2, 2, 1, 1, 1, 1, 1]])"
            ]
          },
          "metadata": {
            "tags": []
          },
          "execution_count": 67
        }
      ]
    },
    {
      "cell_type": "code",
      "metadata": {
        "id": "ihkjdtqKLJio",
        "colab_type": "code",
        "outputId": "4fbb4740-a58f-482a-a13d-c391d382f98b",
        "colab": {
          "base_uri": "https://localhost:8080/",
          "height": 34
        }
      },
      "source": [
        "n = len(corpus)\n",
        "n"
      ],
      "execution_count": 68,
      "outputs": [
        {
          "output_type": "execute_result",
          "data": {
            "text/plain": [
              "4"
            ]
          },
          "metadata": {
            "tags": []
          },
          "execution_count": 68
        }
      ]
    },
    {
      "cell_type": "code",
      "metadata": {
        "id": "PEQEIlfTLJiv",
        "colab_type": "code",
        "outputId": "c5850472-8f27-4a2b-942a-19ee6535e248",
        "colab": {
          "base_uri": "https://localhost:8080/",
          "height": 51
        }
      },
      "source": [
        "# inverse document frequency (smooth_idf=True version)\n",
        "idf = np.log(n / (1 + df)) + 1\n",
        "idf"
      ],
      "execution_count": 69,
      "outputs": [
        {
          "output_type": "execute_result",
          "data": {
            "text/plain": [
              "matrix([[1.        , 1.28768207, 1.69314718, 1.28768207, 1.28768207,\n",
              "         1.69314718, 1.69314718, 1.69314718, 1.69314718, 1.69314718]])"
            ]
          },
          "metadata": {
            "tags": []
          },
          "execution_count": 69
        }
      ]
    },
    {
      "cell_type": "code",
      "metadata": {
        "id": "vX9wUlJ9LJi1",
        "colab_type": "code",
        "outputId": "63e89ced-0917-446f-f58b-2dedb8b3f1aa",
        "colab": {
          "base_uri": "https://localhost:8080/",
          "height": 173
        }
      },
      "source": [
        "# tf x idf\n",
        "# element-wise multiply\n",
        "tfidf_raw = np.multiply(tf, idf)\n",
        "pd.DataFrame(tfidf_raw, columns=vocab)"
      ],
      "execution_count": 70,
      "outputs": [
        {
          "output_type": "execute_result",
          "data": {
            "text/html": [
              "<div>\n",
              "<style scoped>\n",
              "    .dataframe tbody tr th:only-of-type {\n",
              "        vertical-align: middle;\n",
              "    }\n",
              "\n",
              "    .dataframe tbody tr th {\n",
              "        vertical-align: top;\n",
              "    }\n",
              "\n",
              "    .dataframe thead th {\n",
              "        text-align: right;\n",
              "    }\n",
              "</style>\n",
              "<table border=\"1\" class=\"dataframe\">\n",
              "  <thead>\n",
              "    <tr style=\"text-align: right;\">\n",
              "      <th></th>\n",
              "      <th>document</th>\n",
              "      <th>document first</th>\n",
              "      <th>document second</th>\n",
              "      <th>first</th>\n",
              "      <th>first document</th>\n",
              "      <th>one</th>\n",
              "      <th>second</th>\n",
              "      <th>second document</th>\n",
              "      <th>third</th>\n",
              "      <th>third one</th>\n",
              "    </tr>\n",
              "  </thead>\n",
              "  <tbody>\n",
              "    <tr>\n",
              "      <th>0</th>\n",
              "      <td>2.0</td>\n",
              "      <td>1.287682</td>\n",
              "      <td>0.000000</td>\n",
              "      <td>1.287682</td>\n",
              "      <td>1.287682</td>\n",
              "      <td>0.000000</td>\n",
              "      <td>0.000000</td>\n",
              "      <td>0.000000</td>\n",
              "      <td>0.000000</td>\n",
              "      <td>0.000000</td>\n",
              "    </tr>\n",
              "    <tr>\n",
              "      <th>1</th>\n",
              "      <td>2.0</td>\n",
              "      <td>0.000000</td>\n",
              "      <td>1.693147</td>\n",
              "      <td>0.000000</td>\n",
              "      <td>0.000000</td>\n",
              "      <td>0.000000</td>\n",
              "      <td>1.693147</td>\n",
              "      <td>1.693147</td>\n",
              "      <td>0.000000</td>\n",
              "      <td>0.000000</td>\n",
              "    </tr>\n",
              "    <tr>\n",
              "      <th>2</th>\n",
              "      <td>0.0</td>\n",
              "      <td>0.000000</td>\n",
              "      <td>0.000000</td>\n",
              "      <td>0.000000</td>\n",
              "      <td>0.000000</td>\n",
              "      <td>1.693147</td>\n",
              "      <td>0.000000</td>\n",
              "      <td>0.000000</td>\n",
              "      <td>1.693147</td>\n",
              "      <td>1.693147</td>\n",
              "    </tr>\n",
              "    <tr>\n",
              "      <th>3</th>\n",
              "      <td>2.0</td>\n",
              "      <td>1.287682</td>\n",
              "      <td>0.000000</td>\n",
              "      <td>1.287682</td>\n",
              "      <td>1.287682</td>\n",
              "      <td>0.000000</td>\n",
              "      <td>0.000000</td>\n",
              "      <td>0.000000</td>\n",
              "      <td>0.000000</td>\n",
              "      <td>0.000000</td>\n",
              "    </tr>\n",
              "  </tbody>\n",
              "</table>\n",
              "</div>"
            ],
            "text/plain": [
              "   document  document first  ...     third  third one\n",
              "0       2.0        1.287682  ...  0.000000   0.000000\n",
              "1       2.0        0.000000  ...  0.000000   0.000000\n",
              "2       0.0        0.000000  ...  1.693147   1.693147\n",
              "3       2.0        1.287682  ...  0.000000   0.000000\n",
              "\n",
              "[4 rows x 10 columns]"
            ]
          },
          "metadata": {
            "tags": []
          },
          "execution_count": 70
        }
      ]
    },
    {
      "cell_type": "code",
      "metadata": {
        "id": "MBzHAUpnLJi9",
        "colab_type": "code",
        "outputId": "ae801350-0eb2-4e01-9054-0b1ed7bfc658",
        "colab": {
          "base_uri": "https://localhost:8080/",
          "height": 34
        }
      },
      "source": [
        "# compute euclidean norm for each document\n",
        "v_norm = np.linalg.norm(tfidf_raw, axis=1)\n",
        "v_norm"
      ],
      "execution_count": 71,
      "outputs": [
        {
          "output_type": "execute_result",
          "data": {
            "text/plain": [
              "array([2.99572618, 3.54968198, 2.93261694, 2.99572618])"
            ]
          },
          "metadata": {
            "tags": []
          },
          "execution_count": 71
        }
      ]
    },
    {
      "cell_type": "code",
      "metadata": {
        "id": "1EVLzY6vLJjB",
        "colab_type": "code",
        "outputId": "c53bd76e-a003-4b42-b989-88bd82d3640c",
        "colab": {
          "base_uri": "https://localhost:8080/",
          "height": 153
        }
      },
      "source": [
        "# [:, None] allows tfidf_raw to be divided by each vector element\n",
        "# for example, first row will be divided by v_norm[0], second row by v_norm[1], etc\n",
        "tfidf = tfidf_raw / v_norm[:, None]\n",
        "tfidf"
      ],
      "execution_count": 72,
      "outputs": [
        {
          "output_type": "execute_result",
          "data": {
            "text/plain": [
              "matrix([[0.66761776, 0.42983971, 0.        , 0.42983971, 0.42983971,\n",
              "         0.        , 0.        , 0.        , 0.        , 0.        ],\n",
              "        [0.56343076, 0.        , 0.4769856 , 0.        , 0.        ,\n",
              "         0.        , 0.4769856 , 0.4769856 , 0.        , 0.        ],\n",
              "        [0.        , 0.        , 0.        , 0.        , 0.        ,\n",
              "         0.57735027, 0.        , 0.        , 0.57735027, 0.57735027],\n",
              "        [0.66761776, 0.42983971, 0.        , 0.42983971, 0.42983971,\n",
              "         0.        , 0.        , 0.        , 0.        , 0.        ]])"
            ]
          },
          "metadata": {
            "tags": []
          },
          "execution_count": 72
        }
      ]
    },
    {
      "cell_type": "code",
      "metadata": {
        "id": "oP1A1arhLJjJ",
        "colab_type": "code",
        "outputId": "75dc1c55-6e9d-4d44-d209-fd040c029e8c",
        "colab": {
          "base_uri": "https://localhost:8080/",
          "height": 153
        }
      },
      "source": [
        "# compare with TfidfVectorizer's output\n",
        "result.todense()"
      ],
      "execution_count": 73,
      "outputs": [
        {
          "output_type": "execute_result",
          "data": {
            "text/plain": [
              "matrix([[0.6829022 , 0.42176004, 0.        , 0.42176004, 0.42176004,\n",
              "         0.        , 0.        , 0.        , 0.        , 0.        ],\n",
              "        [0.59329727, 0.        , 0.46475741, 0.        , 0.        ,\n",
              "         0.        , 0.46475741, 0.46475741, 0.        , 0.        ],\n",
              "        [0.        , 0.        , 0.        , 0.        , 0.        ,\n",
              "         0.57735027, 0.        , 0.        , 0.57735027, 0.57735027],\n",
              "        [0.6829022 , 0.42176004, 0.        , 0.42176004, 0.42176004,\n",
              "         0.        , 0.        , 0.        , 0.        , 0.        ]])"
            ]
          },
          "metadata": {
            "tags": []
          },
          "execution_count": 73
        }
      ]
    },
    {
      "cell_type": "code",
      "metadata": {
        "id": "LzSVhMuFLJjO",
        "colab_type": "code",
        "outputId": "6148bd92-d38e-4d32-955b-7e7e5a0c265c",
        "colab": {
          "base_uri": "https://localhost:8080/",
          "height": 153
        }
      },
      "source": [
        "# the values are within +/-0.02, possibly due to floating point rounding error\n",
        "abs(tfidf - result.todense())"
      ],
      "execution_count": 74,
      "outputs": [
        {
          "output_type": "execute_result",
          "data": {
            "text/plain": [
              "matrix([[0.01528444, 0.00807967, 0.        , 0.00807967, 0.00807967,\n",
              "         0.        , 0.        , 0.        , 0.        , 0.        ],\n",
              "        [0.02986651, 0.        , 0.01222819, 0.        , 0.        ,\n",
              "         0.        , 0.01222819, 0.01222819, 0.        , 0.        ],\n",
              "        [0.        , 0.        , 0.        , 0.        , 0.        ,\n",
              "         0.        , 0.        , 0.        , 0.        , 0.        ],\n",
              "        [0.01528444, 0.00807967, 0.        , 0.00807967, 0.00807967,\n",
              "         0.        , 0.        , 0.        , 0.        , 0.        ]])"
            ]
          },
          "metadata": {
            "tags": []
          },
          "execution_count": 74
        }
      ]
    },
    {
      "cell_type": "code",
      "metadata": {
        "id": "4KLTro19LJjT",
        "colab_type": "code",
        "colab": {}
      },
      "source": [
        ""
      ],
      "execution_count": 0,
      "outputs": []
    },
    {
      "cell_type": "markdown",
      "metadata": {
        "id": "2C2orQjTLJjZ",
        "colab_type": "text"
      },
      "source": [
        "## Word2Vec\n",
        "\n",
        "Word2Vec generates word-vectors where vectors close together in vector space have similar meanings based on context, and word-vectors distant to each other have differing meanings.\n",
        "\n",
        "### Gensim\n",
        "\n",
        "Gensim is a Python library to train word vectors, and to load pre-trained word vectors.\n",
        "\n",
        "(You should already have Gensim installed if you followed the Workshop Setup Instructions.)\n",
        "\n",
        "https://radimrehurek.com/gensim/models/word2vec.html\n",
        "https://radimrehurek.com/gensim/models/keyedvectors.html"
      ]
    },
    {
      "cell_type": "markdown",
      "metadata": {
        "id": "j9qi6NRZLJja",
        "colab_type": "text"
      },
      "source": [
        ""
      ]
    },
    {
      "cell_type": "code",
      "metadata": {
        "id": "HYrOed0VPms8",
        "colab_type": "code",
        "colab": {}
      },
      "source": [
        "# !pip install gensim"
      ],
      "execution_count": 0,
      "outputs": []
    },
    {
      "cell_type": "code",
      "metadata": {
        "id": "C7wy-w93LJja",
        "colab_type": "code",
        "colab": {
          "base_uri": "https://localhost:8080/",
          "height": 71
        },
        "outputId": "379413a0-6d37-4901-dd1f-e914f6c369e2"
      },
      "source": [
        "from gensim.models import Word2Vec\n",
        "\n",
        "corpus = [\n",
        "    'Dashing through the snow',\n",
        "    'In a one-horse open sleigh',\n",
        "    'Over the fields we go',\n",
        "    'Laughing all the way',\n",
        "    'Bells on bob-tail ring',\n",
        "    'Making spirits bright',\n",
        "    'What fun it is to ride and sing a sleighing song tonight'\n",
        "]\n",
        "\n",
        "# split text into words\n",
        "corpus_tokens = [word_tokenize(doc.lower()) for doc in corpus]\n",
        "\n",
        "vector_size=10 # vector representation (typically about 50-100 for larger vocabs)\n",
        "\n",
        "window_size=3 # how many words to see around it (depending on task)\n",
        "\n",
        "# train\n",
        "word2vec = Word2Vec(corpus_tokens, size=vector_size, \n",
        "                    window=window_size,\n",
        "                    min_count=1, workers=4)\n",
        "\n",
        "word2vec.save('word2vec.model') # save for use later"
      ],
      "execution_count": 76,
      "outputs": [
        {
          "output_type": "stream",
          "text": [
            "/usr/local/lib/python3.6/dist-packages/smart_open/smart_open_lib.py:402: UserWarning: This function is deprecated, use smart_open.open instead. See the migration notes for details: https://github.com/RaRe-Technologies/smart_open/blob/master/README.rst#migrating-to-the-new-open-function\n",
            "  'See the migration notes for details: %s' % _MIGRATION_NOTES_URL\n"
          ],
          "name": "stderr"
        }
      ]
    },
    {
      "cell_type": "code",
      "metadata": {
        "id": "LK-iMlxxLJjd",
        "colab_type": "code",
        "colab": {
          "base_uri": "https://localhost:8080/",
          "height": 71
        },
        "outputId": "a5d7e64c-cd5e-470e-d480-02ff6d58b8c1"
      },
      "source": [
        "# lookup vector using wv\n",
        "\n",
        "model = Word2Vec.load('word2vec.model')"
      ],
      "execution_count": 77,
      "outputs": [
        {
          "output_type": "stream",
          "text": [
            "/usr/local/lib/python3.6/dist-packages/smart_open/smart_open_lib.py:402: UserWarning: This function is deprecated, use smart_open.open instead. See the migration notes for details: https://github.com/RaRe-Technologies/smart_open/blob/master/README.rst#migrating-to-the-new-open-function\n",
            "  'See the migration notes for details: %s' % _MIGRATION_NOTES_URL\n"
          ],
          "name": "stderr"
        }
      ]
    },
    {
      "cell_type": "code",
      "metadata": {
        "id": "bRKT6JwxRxGG",
        "colab_type": "code",
        "colab": {
          "base_uri": "https://localhost:8080/",
          "height": 68
        },
        "outputId": "295c532b-fb4d-4394-fe18-055b54f1c76f"
      },
      "source": [
        "model.wv['snow']"
      ],
      "execution_count": 78,
      "outputs": [
        {
          "output_type": "execute_result",
          "data": {
            "text/plain": [
              "array([ 0.00251603,  0.04430296, -0.02943466, -0.00134141, -0.03735583,\n",
              "        0.01622982, -0.04263984, -0.0040435 , -0.00726846,  0.01236074],\n",
              "      dtype=float32)"
            ]
          },
          "metadata": {
            "tags": []
          },
          "execution_count": 78
        }
      ]
    },
    {
      "cell_type": "code",
      "metadata": {
        "id": "dwfmq4iHLJjg",
        "colab_type": "code",
        "colab": {
          "base_uri": "https://localhost:8080/",
          "height": 241
        },
        "outputId": "ccc3c75b-d708-4f68-fe0e-ab9bf53397f6"
      },
      "source": [
        "# find similar words using most_similar\n",
        "\n",
        "model.wv.most_similar('snow')"
      ],
      "execution_count": 79,
      "outputs": [
        {
          "output_type": "stream",
          "text": [
            "/usr/local/lib/python3.6/dist-packages/gensim/matutils.py:737: FutureWarning: Conversion of the second argument of issubdtype from `int` to `np.signedinteger` is deprecated. In future, it will be treated as `np.int64 == np.dtype(int).type`.\n",
            "  if np.issubdtype(vec.dtype, np.int):\n"
          ],
          "name": "stderr"
        },
        {
          "output_type": "execute_result",
          "data": {
            "text/plain": [
              "[('laughing', 0.46315237879753113),\n",
              " ('through', 0.4586874842643738),\n",
              " ('all', 0.45076000690460205),\n",
              " ('dashing', 0.4005179703235626),\n",
              " ('it', 0.35689616203308105),\n",
              " ('we', 0.33617711067199707),\n",
              " ('ring', 0.2503301501274109),\n",
              " ('go', 0.20174315571784973),\n",
              " ('what', 0.18450412154197693),\n",
              " ('way', 0.18004260957241058)]"
            ]
          },
          "metadata": {
            "tags": []
          },
          "execution_count": 79
        }
      ]
    },
    {
      "cell_type": "code",
      "metadata": {
        "id": "ZGqZVSH2LJjj",
        "colab_type": "code",
        "colab": {
          "base_uri": "https://localhost:8080/",
          "height": 54
        },
        "outputId": "6da3ba87-3da0-4073-9d9a-bb2413b303c3"
      },
      "source": [
        "# inspect vocabulary using wv.vocab\n",
        "\n",
        "model.wv.vocab.keys()"
      ],
      "execution_count": 80,
      "outputs": [
        {
          "output_type": "execute_result",
          "data": {
            "text/plain": [
              "dict_keys(['dashing', 'through', 'the', 'snow', 'in', 'a', 'one-horse', 'open', 'sleigh', 'over', 'fields', 'we', 'go', 'laughing', 'all', 'way', 'bells', 'on', 'bob-tail', 'ring', 'making', 'spirits', 'bright', 'what', 'fun', 'it', 'is', 'to', 'ride', 'and', 'sing', 'sleighing', 'song', 'tonight'])"
            ]
          },
          "metadata": {
            "tags": []
          },
          "execution_count": 80
        }
      ]
    },
    {
      "cell_type": "code",
      "metadata": {
        "id": "B9cnIIG3LJjs",
        "colab_type": "code",
        "colab": {
          "base_uri": "https://localhost:8080/",
          "height": 1000
        },
        "outputId": "15842334-c961-4e57-8acb-3c7607f1a797"
      },
      "source": [
        "# get word vectors using vectors\n",
        "\n",
        "model.wv.vectors"
      ],
      "execution_count": 81,
      "outputs": [
        {
          "output_type": "execute_result",
          "data": {
            "text/plain": [
              "array([[ 0.02024841, -0.02363075, -0.0067077 ,  0.01714315,  0.01189275,\n",
              "        -0.04451837,  0.04471996,  0.0116303 ,  0.03900393, -0.02928073],\n",
              "       [-0.03840334, -0.02825641,  0.01018477, -0.01077155,  0.01540786,\n",
              "        -0.0020289 ,  0.01161858, -0.03156778, -0.0238294 , -0.02631742],\n",
              "       [-0.00818824,  0.04676739, -0.04089574,  0.00293907,  0.00579027,\n",
              "         0.02044639,  0.02290519, -0.02465931,  0.0118738 ,  0.00279095],\n",
              "       [-0.0039688 ,  0.04832843, -0.03159709,  0.00406955, -0.04520088,\n",
              "         0.00126436,  0.01330342,  0.00450369,  0.04253701, -0.034617  ],\n",
              "       [ 0.00251603,  0.04430296, -0.02943466, -0.00134141, -0.03735583,\n",
              "         0.01622982, -0.04263984, -0.0040435 , -0.00726846,  0.01236074],\n",
              "       [-0.03640911, -0.03708036, -0.00702204, -0.04988885, -0.04708905,\n",
              "        -0.03888847,  0.04616447,  0.04525517,  0.04266737, -0.02168377],\n",
              "       [ 0.03159136, -0.04023651, -0.02139726, -0.02771721,  0.04980505,\n",
              "         0.01695251,  0.04904992,  0.01530724,  0.02209809, -0.04594931],\n",
              "       [-0.03527501, -0.0105756 , -0.01545606, -0.01384903,  0.0049733 ,\n",
              "        -0.04939621,  0.00801609, -0.04635264,  0.00463717,  0.03903132],\n",
              "       [ 0.00657282, -0.04188105, -0.04307052,  0.00969836,  0.03862516,\n",
              "        -0.02232214,  0.01956511, -0.04319038,  0.03746392, -0.04005827],\n",
              "       [-0.0162541 ,  0.00696331,  0.04583511, -0.01674099,  0.02541358,\n",
              "         0.02726082,  0.02764681, -0.00308779,  0.04704256,  0.02187283],\n",
              "       [-0.0457368 , -0.02675663, -0.04137333, -0.01020245, -0.03304437,\n",
              "         0.04682695,  0.02746417,  0.04278667,  0.03263406,  0.02135892],\n",
              "       [ 0.03073413,  0.03970593,  0.0418059 ,  0.03937019, -0.03506212,\n",
              "         0.03509051, -0.03337191, -0.02185121,  0.04696366, -0.03668891],\n",
              "       [-0.00225893,  0.03050826,  0.04350106,  0.04401978, -0.04453486,\n",
              "        -0.00132991, -0.0084369 , -0.03069527, -0.00473885, -0.04474378],\n",
              "       [-0.01409112,  0.04750187,  0.0386356 , -0.03379633, -0.02553078,\n",
              "         0.03402286, -0.03436822, -0.02792623,  0.03761224,  0.00061774],\n",
              "       [ 0.00781089,  0.04478922, -0.03794087, -0.02114667, -0.00549667,\n",
              "        -0.04438287, -0.02559654, -0.02439619,  0.03967539, -0.00864632],\n",
              "       [-0.00887286,  0.0450725 , -0.03732522, -0.01604248, -0.00153265,\n",
              "        -0.01398946,  0.04247582, -0.04349661,  0.04202658,  0.04777982],\n",
              "       [-0.01818679, -0.00885146,  0.00279512,  0.03856863,  0.0151565 ,\n",
              "        -0.03088056, -0.03920541, -0.03979346, -0.01843439, -0.01894999],\n",
              "       [-0.01487483,  0.01544945,  0.04305301,  0.04892145,  0.00114421,\n",
              "        -0.01118053, -0.03574175,  0.00451844,  0.01035077,  0.03393955],\n",
              "       [-0.02273411, -0.01270891,  0.02313054,  0.02922297,  0.00604456,\n",
              "        -0.04464985,  0.01938165, -0.02442168, -0.0321305 ,  0.01310346],\n",
              "       [ 0.04782389,  0.00683404, -0.04523922, -0.03318852, -0.00738293,\n",
              "        -0.04250802,  0.00206664, -0.04870106, -0.03072424,  0.04650199],\n",
              "       [ 0.01281051,  0.04630319,  0.02673768,  0.02130608,  0.02363564,\n",
              "        -0.03499069,  0.0226898 ,  0.00308064,  0.04744083,  0.04404892],\n",
              "       [ 0.02121571, -0.03691551, -0.0464157 ,  0.01886059, -0.02818923,\n",
              "         0.00018367,  0.04396192,  0.04246411, -0.02507498,  0.02005438],\n",
              "       [-0.02327432, -0.00983385,  0.03208892,  0.02352516,  0.01955506,\n",
              "         0.02135678, -0.03602025, -0.00387409, -0.03373512, -0.04139324],\n",
              "       [-0.03524437,  0.04057879,  0.01179417,  0.01613277,  0.01125319,\n",
              "         0.00954501, -0.00225807,  0.01964486, -0.02877783, -0.01913372],\n",
              "       [ 0.02745169, -0.02203379,  0.02889988,  0.03067053,  0.0477457 ,\n",
              "        -0.00442237, -0.03401187, -0.00620667,  0.02236844,  0.00362671],\n",
              "       [ 0.01612474,  0.04524354,  0.04559399, -0.02743839, -0.00254036,\n",
              "         0.03236012, -0.04631984,  0.0428857 ,  0.04114013,  0.03702469],\n",
              "       [ 0.02655297,  0.02511931,  0.03022916,  0.00270219, -0.02108546,\n",
              "        -0.02902167,  0.02359278, -0.00640556,  0.01865557,  0.01919932],\n",
              "       [ 0.00873113, -0.01188441,  0.04295298,  0.02139677,  0.0248022 ,\n",
              "         0.04422079, -0.00725596, -0.03088255, -0.01902042,  0.03075291],\n",
              "       [-0.04577525,  0.01709589, -0.00830893,  0.02878097,  0.03214482,\n",
              "         0.02828425,  0.01003131,  0.02668469,  0.00625687, -0.0150468 ],\n",
              "       [ 0.03790291, -0.040165  , -0.04202752,  0.02592429,  0.01371606,\n",
              "         0.01946287, -0.04713174,  0.0079064 ,  0.02984063, -0.01077971],\n",
              "       [-0.04376176,  0.02602307,  0.01657295, -0.00346807,  0.03629731,\n",
              "        -0.03572024,  0.03734716, -0.00512422, -0.0435592 , -0.03468399],\n",
              "       [ 0.04051419,  0.02890378, -0.00890278, -0.03211914,  0.00922307,\n",
              "         0.02030056,  0.01104291,  0.0485941 , -0.02992163,  0.00263775],\n",
              "       [ 0.02764164, -0.01580638,  0.0003746 ,  0.04642361,  0.02485122,\n",
              "        -0.00260699,  0.02590467,  0.04817306, -0.03271174, -0.00571678],\n",
              "       [-0.00330951, -0.04325883, -0.01270822,  0.0118857 , -0.01792927,\n",
              "         0.03171911,  0.04224816, -0.04862902, -0.01208927,  0.01766374]],\n",
              "      dtype=float32)"
            ]
          },
          "metadata": {
            "tags": []
          },
          "execution_count": 81
        }
      ]
    },
    {
      "cell_type": "code",
      "metadata": {
        "id": "-7BwKEUzLJjy",
        "colab_type": "code",
        "outputId": "89344810-06be-4a62-9044-2ccfab5d01b5",
        "colab": {
          "base_uri": "https://localhost:8080/",
          "height": 483
        }
      },
      "source": [
        "# To explore word vectors, you can plot them in 2d space\n",
        "# (Notice how useful PCA is?)\n",
        "from sklearn.decomposition import PCA\n",
        "\n",
        "pca = PCA(n_components=2)\n",
        "wv_2d = pca.fit_transform(word2vec.wv.vectors)\n",
        "\n",
        "fig, ax = plt.subplots(figsize=(10, 8))\n",
        "\n",
        "# scatter plot\n",
        "ax.scatter(wv_2d[:, 0], wv_2d[:, 1])\n",
        "\n",
        "# annotate each point using the words\n",
        "for i, word in enumerate(model.wv.vocab):\n",
        "    ax.annotate(word, (wv_2d[i, 0], wv_2d[i, 1]))"
      ],
      "execution_count": 82,
      "outputs": [
        {
          "output_type": "display_data",
          "data": {
            "image/png": "[encoded data removed]",
            "text/plain": [
              "<Figure size 720x576 with 1 Axes>"
            ]
          },
          "metadata": {
            "tags": []
          }
        }
      ]
    },
    {
      "cell_type": "markdown",
      "metadata": {
        "id": "UPbNE4u9LJj2",
        "colab_type": "text"
      },
      "source": [
        "### Pre-trained Word2Vec models\n",
        "\n",
        "Instead of training your own word2vec, you can alternatively load the (large!) pre-trained models\n",
        "\n",
        "https://github.com/RaRe-Technologies/gensim-data\n",
        "\n",
        "These are most commonly used when training Neural Networks, because scikit-learn cannot handle non-scalar features well.  :("
      ]
    }
  ]
}