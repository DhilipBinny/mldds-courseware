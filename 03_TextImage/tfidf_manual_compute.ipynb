{
  "nbformat": 4,
  "nbformat_minor": 0,
  "metadata": {
    "kernelspec": {
      "display_name": "Python 3",
      "language": "python",
      "name": "python3"
    },
    "language_info": {
      "codemirror_mode": {
        "name": "ipython",
        "version": 3
      },
      "file_extension": ".py",
      "mimetype": "text/x-python",
      "name": "python",
      "nbconvert_exporter": "python",
      "pygments_lexer": "ipython3",
      "version": "3.7.3"
    },
    "colab": {
      "name": "text processing - tfidf manual compute.ipynb",
      "provenance": [],
      "include_colab_link": true
    }
  },
  "cells": [
    {
      "cell_type": "markdown",
      "metadata": {
        "id": "view-in-github",
        "colab_type": "text"
      },
      "source": [
        "<a href=\"https://colab.research.google.com/github/lisaong/mldds-courseware/blob/master/03_TextImage/tfidf_manual_compute.ipynb\" target=\"_parent\"><img src=\"https://colab.research.google.com/assets/colab-badge.svg\" alt=\"Open In Colab\"/></a>"
      ]
    },
    {
      "cell_type": "markdown",
      "metadata": {
        "id": "iZthx2dwLJeB",
        "colab_type": "text"
      },
      "source": [
        "# Text Processing\n",
        "\n",
        "This notebook covers:\n",
        "- Text Processing Techniques\n",
        "- Count vectorization\n",
        "- TFIDF computation\n"
      ]
    },
    {
      "cell_type": "code",
      "metadata": {
        "id": "U7CxXBGmLJeK",
        "colab_type": "code",
        "colab": {}
      },
      "source": [
        "import matplotlib.pyplot as plt\n",
        "import pandas as pd\n",
        "import numpy as np\n",
        "\n",
        "%matplotlib inline"
      ],
      "execution_count": 0,
      "outputs": []
    },
    {
      "cell_type": "markdown",
      "metadata": {
        "id": "JCPLNk0yLJf8",
        "colab_type": "text"
      },
      "source": [
        "## Text processing:\n",
        "- Tokenise: split text into words\n",
        "- Lemmatise: look at word form, considering noun, adjective, etc\n",
        "- Stem: get the word stem (bluntly chop off the end)\n",
        "\n",
        "### Goals:\n",
        "- Identify unique words\n",
        "- Avoid duplicating the same word form (e.g. cat, cats) in order to keep number of features small\n",
        "\n",
        "### Curse of Dimensionality:\n",
        "- 1 word is at least 1 feature (not considering N-grams - sequences of N words)\n",
        "- Reducing number of words will improve scalability"
      ]
    },
    {
      "cell_type": "markdown",
      "metadata": {
        "id": "mVCzOFiULJgD",
        "colab_type": "text"
      },
      "source": [
        "## NLTK\n",
        "\n",
        "We will exploring using NLTK (the Natural Language Processing Toolkit) to perform text pre-processing.\n",
        "\n",
        "(You should already have NLTK installed if you followed the Workshop Setup Instructions.)"
      ]
    },
    {
      "cell_type": "code",
      "metadata": {
        "id": "w_DMhj7XLJgH",
        "colab_type": "code",
        "outputId": "25d91aef-e120-4fdd-91e9-50bac104f87b",
        "colab": {
          "base_uri": "https://localhost:8080/",
          "height": 137
        }
      },
      "source": [
        "# Download corpus for text pre-processing. These are not included in NLTK automatically because of file size.\n",
        "\n",
        "import nltk\n",
        "nltk.download('punkt') # tokenisation\n",
        "nltk.download('wordnet') # lemmatisation\n",
        "nltk.download('stopwords') # stop words"
      ],
      "execution_count": 5,
      "outputs": [
        {
          "output_type": "stream",
          "text": [
            "[nltk_data] Downloading package punkt to /root/nltk_data...\n",
            "[nltk_data]   Package punkt is already up-to-date!\n",
            "[nltk_data] Downloading package wordnet to /root/nltk_data...\n",
            "[nltk_data]   Package wordnet is already up-to-date!\n",
            "[nltk_data] Downloading package stopwords to /root/nltk_data...\n",
            "[nltk_data]   Package stopwords is already up-to-date!\n"
          ],
          "name": "stdout"
        },
        {
          "output_type": "execute_result",
          "data": {
            "text/plain": [
              "True"
            ]
          },
          "metadata": {
            "tags": []
          },
          "execution_count": 5
        }
      ]
    },
    {
      "cell_type": "markdown",
      "metadata": {
        "id": "yeAbtsnTLJgi",
        "colab_type": "text"
      },
      "source": [
        "## Tokenise"
      ]
    },
    {
      "cell_type": "code",
      "metadata": {
        "id": "omQSVXsXLJgl",
        "colab_type": "code",
        "outputId": "8d4d6037-9ec4-4617-a70f-31408f228ec6",
        "colab": {
          "base_uri": "https://localhost:8080/",
          "height": 34
        }
      },
      "source": [
        "from nltk import word_tokenize\n",
        "\n",
        "text = 'Hello this is a test.'\n",
        "\n",
        "word_tokenize(text)"
      ],
      "execution_count": 6,
      "outputs": [
        {
          "output_type": "execute_result",
          "data": {
            "text/plain": [
              "['Hello', 'this', 'is', 'a', 'test', '.']"
            ]
          },
          "metadata": {
            "tags": []
          },
          "execution_count": 6
        }
      ]
    },
    {
      "cell_type": "markdown",
      "metadata": {
        "id": "yd_8OH7VLJgr",
        "colab_type": "text"
      },
      "source": [
        "## Lemmatise"
      ]
    },
    {
      "cell_type": "code",
      "metadata": {
        "id": "AxXHmCMdLJgt",
        "colab_type": "code",
        "outputId": "cb8fa87b-4cdd-48bd-c01e-b65985ee1f20",
        "colab": {
          "base_uri": "https://localhost:8080/",
          "height": 206
        }
      },
      "source": [
        "text = 'he liked cats and dogs, and teaching machines to learn'\n",
        "\n",
        "# just tokenisation\n",
        "word_tokenize(text)"
      ],
      "execution_count": 7,
      "outputs": [
        {
          "output_type": "execute_result",
          "data": {
            "text/plain": [
              "['he',\n",
              " 'liked',\n",
              " 'cats',\n",
              " 'and',\n",
              " 'dogs',\n",
              " ',',\n",
              " 'and',\n",
              " 'teaching',\n",
              " 'machines',\n",
              " 'to',\n",
              " 'learn']"
            ]
          },
          "metadata": {
            "tags": []
          },
          "execution_count": 7
        }
      ]
    },
    {
      "cell_type": "code",
      "metadata": {
        "id": "LQdXXdpILJgy",
        "colab_type": "code",
        "outputId": "5d878f0e-ad33-466b-cdd9-182ea65c0857",
        "colab": {
          "base_uri": "https://localhost:8080/",
          "height": 291
        }
      },
      "source": [
        "# WordNet is a lexical database, it is used to\n",
        "# find the lemma of a word based on language rules (verb, etc)\n",
        "from nltk.stem import WordNetLemmatizer\n",
        "\n",
        "text = 'he liked cats and dogs, and teaching machines to learn fasting mice women men man'\n",
        "\n",
        "# tokenise: breaks up sentence into words\n",
        "tokens = word_tokenize(text)\n",
        "\n",
        "# lemmatise using list comprehension\n",
        "# WordNetLemmatizer\n",
        "wnl = WordNetLemmatizer()\n",
        "\n",
        "# result = [] \n",
        "# for t in tokens:\n",
        "#     print(wnl.lemmatize(t))\n",
        "#     result.append(wnl.lemmatize(t))\n",
        "\n",
        "# creates a list of lemmatised tokens\n",
        "# \n",
        "# text = 'he liked cats and dogs, and teaching machines to learn fasting mice men women'\n",
        "\n",
        "[wnl.lemmatize(t) for t in tokens]"
      ],
      "execution_count": 8,
      "outputs": [
        {
          "output_type": "execute_result",
          "data": {
            "text/plain": [
              "['he',\n",
              " 'liked',\n",
              " 'cat',\n",
              " 'and',\n",
              " 'dog',\n",
              " ',',\n",
              " 'and',\n",
              " 'teaching',\n",
              " 'machine',\n",
              " 'to',\n",
              " 'learn',\n",
              " 'fasting',\n",
              " 'mouse',\n",
              " 'woman',\n",
              " 'men',\n",
              " 'man']"
            ]
          },
          "metadata": {
            "tags": []
          },
          "execution_count": 8
        }
      ]
    },
    {
      "cell_type": "markdown",
      "metadata": {
        "id": "dnP9CCiXLJg4",
        "colab_type": "text"
      },
      "source": [
        "## Stem"
      ]
    },
    {
      "cell_type": "code",
      "metadata": {
        "id": "RUSj4qIsLJg7",
        "colab_type": "code",
        "outputId": "e3bd927d-4a1c-4f7f-d57d-ca82808dfd36",
        "colab": {
          "base_uri": "https://localhost:8080/",
          "height": 291
        }
      },
      "source": [
        "# Stemmer looks at word endings and chops it off\n",
        "# based on some rules, e.g: es -> e\n",
        "from nltk.stem import SnowballStemmer\n",
        "\n",
        "text = 'he liked cats and dogs, and teaching teach machines to learn fasting mice men women'\n",
        "\n",
        "# tokenise\n",
        "tokens = word_tokenize(text)\n",
        "\n",
        "# stemmer for English\n",
        "stm = SnowballStemmer('english')\n",
        "\n",
        "[stm.stem(t) for t in tokens]"
      ],
      "execution_count": 9,
      "outputs": [
        {
          "output_type": "execute_result",
          "data": {
            "text/plain": [
              "['he',\n",
              " 'like',\n",
              " 'cat',\n",
              " 'and',\n",
              " 'dog',\n",
              " ',',\n",
              " 'and',\n",
              " 'teach',\n",
              " 'teach',\n",
              " 'machin',\n",
              " 'to',\n",
              " 'learn',\n",
              " 'fast',\n",
              " 'mice',\n",
              " 'men',\n",
              " 'women']"
            ]
          },
          "metadata": {
            "tags": []
          },
          "execution_count": 9
        }
      ]
    },
    {
      "cell_type": "markdown",
      "metadata": {
        "id": "sF89bMrOLJhC",
        "colab_type": "text"
      },
      "source": [
        "## Stop words"
      ]
    },
    {
      "cell_type": "code",
      "metadata": {
        "id": "tETUTvyjLJhD",
        "colab_type": "code",
        "outputId": "fa92f5c3-a75c-412d-83c3-354731a6bee7",
        "colab": {
          "base_uri": "https://localhost:8080/",
          "height": 34
        }
      },
      "source": [
        "from nltk.corpus import stopwords\n",
        "stop = set(stopwords.words('english'))\n",
        "\n",
        "text = 'he liked cats and dogs, and teaching machines to learn'\n",
        "\n",
        "# lower case\n",
        "lower = text.lower()\n",
        "\n",
        "# tokenize\n",
        "tokens = word_tokenize(lower)\n",
        "\n",
        "# remove stop words\n",
        "[t for t in tokens if (t not in stop)]"
      ],
      "execution_count": 10,
      "outputs": [
        {
          "output_type": "execute_result",
          "data": {
            "text/plain": [
              "['liked', 'cats', 'dogs', ',', 'teaching', 'machines', 'learn']"
            ]
          },
          "metadata": {
            "tags": []
          },
          "execution_count": 10
        }
      ]
    },
    {
      "cell_type": "code",
      "metadata": {
        "id": "Zz2XQdJKLJhJ",
        "colab_type": "code",
        "outputId": "b02069cd-0c07-4524-f82d-37cb12185404",
        "colab": {
          "base_uri": "https://localhost:8080/",
          "height": 1000
        }
      },
      "source": [
        "stop"
      ],
      "execution_count": 11,
      "outputs": [
        {
          "output_type": "execute_result",
          "data": {
            "text/plain": [
              "{'a',\n",
              " 'about',\n",
              " 'above',\n",
              " 'after',\n",
              " 'again',\n",
              " 'against',\n",
              " 'ain',\n",
              " 'all',\n",
              " 'am',\n",
              " 'an',\n",
              " 'and',\n",
              " 'any',\n",
              " 'are',\n",
              " 'aren',\n",
              " \"aren't\",\n",
              " 'as',\n",
              " 'at',\n",
              " 'be',\n",
              " 'because',\n",
              " 'been',\n",
              " 'before',\n",
              " 'being',\n",
              " 'below',\n",
              " 'between',\n",
              " 'both',\n",
              " 'but',\n",
              " 'by',\n",
              " 'can',\n",
              " 'couldn',\n",
              " \"couldn't\",\n",
              " 'd',\n",
              " 'did',\n",
              " 'didn',\n",
              " \"didn't\",\n",
              " 'do',\n",
              " 'does',\n",
              " 'doesn',\n",
              " \"doesn't\",\n",
              " 'doing',\n",
              " 'don',\n",
              " \"don't\",\n",
              " 'down',\n",
              " 'during',\n",
              " 'each',\n",
              " 'few',\n",
              " 'for',\n",
              " 'from',\n",
              " 'further',\n",
              " 'had',\n",
              " 'hadn',\n",
              " \"hadn't\",\n",
              " 'has',\n",
              " 'hasn',\n",
              " \"hasn't\",\n",
              " 'have',\n",
              " 'haven',\n",
              " \"haven't\",\n",
              " 'having',\n",
              " 'he',\n",
              " 'her',\n",
              " 'here',\n",
              " 'hers',\n",
              " 'herself',\n",
              " 'him',\n",
              " 'himself',\n",
              " 'his',\n",
              " 'how',\n",
              " 'i',\n",
              " 'if',\n",
              " 'in',\n",
              " 'into',\n",
              " 'is',\n",
              " 'isn',\n",
              " \"isn't\",\n",
              " 'it',\n",
              " \"it's\",\n",
              " 'its',\n",
              " 'itself',\n",
              " 'just',\n",
              " 'll',\n",
              " 'm',\n",
              " 'ma',\n",
              " 'me',\n",
              " 'mightn',\n",
              " \"mightn't\",\n",
              " 'more',\n",
              " 'most',\n",
              " 'mustn',\n",
              " \"mustn't\",\n",
              " 'my',\n",
              " 'myself',\n",
              " 'needn',\n",
              " \"needn't\",\n",
              " 'no',\n",
              " 'nor',\n",
              " 'not',\n",
              " 'now',\n",
              " 'o',\n",
              " 'of',\n",
              " 'off',\n",
              " 'on',\n",
              " 'once',\n",
              " 'only',\n",
              " 'or',\n",
              " 'other',\n",
              " 'our',\n",
              " 'ours',\n",
              " 'ourselves',\n",
              " 'out',\n",
              " 'over',\n",
              " 'own',\n",
              " 're',\n",
              " 's',\n",
              " 'same',\n",
              " 'shan',\n",
              " \"shan't\",\n",
              " 'she',\n",
              " \"she's\",\n",
              " 'should',\n",
              " \"should've\",\n",
              " 'shouldn',\n",
              " \"shouldn't\",\n",
              " 'so',\n",
              " 'some',\n",
              " 'such',\n",
              " 't',\n",
              " 'than',\n",
              " 'that',\n",
              " \"that'll\",\n",
              " 'the',\n",
              " 'their',\n",
              " 'theirs',\n",
              " 'them',\n",
              " 'themselves',\n",
              " 'then',\n",
              " 'there',\n",
              " 'these',\n",
              " 'they',\n",
              " 'this',\n",
              " 'those',\n",
              " 'through',\n",
              " 'to',\n",
              " 'too',\n",
              " 'under',\n",
              " 'until',\n",
              " 'up',\n",
              " 've',\n",
              " 'very',\n",
              " 'was',\n",
              " 'wasn',\n",
              " \"wasn't\",\n",
              " 'we',\n",
              " 'were',\n",
              " 'weren',\n",
              " \"weren't\",\n",
              " 'what',\n",
              " 'when',\n",
              " 'where',\n",
              " 'which',\n",
              " 'while',\n",
              " 'who',\n",
              " 'whom',\n",
              " 'why',\n",
              " 'will',\n",
              " 'with',\n",
              " 'won',\n",
              " \"won't\",\n",
              " 'wouldn',\n",
              " \"wouldn't\",\n",
              " 'y',\n",
              " 'you',\n",
              " \"you'd\",\n",
              " \"you'll\",\n",
              " \"you're\",\n",
              " \"you've\",\n",
              " 'your',\n",
              " 'yours',\n",
              " 'yourself',\n",
              " 'yourselves'}"
            ]
          },
          "metadata": {
            "tags": []
          },
          "execution_count": 11
        }
      ]
    },
    {
      "cell_type": "code",
      "metadata": {
        "id": "okfZ9IjYLJhQ",
        "colab_type": "code",
        "outputId": "c5fadd11-80b4-4377-b192-41433ca2de01",
        "colab": {
          "base_uri": "https://localhost:8080/",
          "height": 34
        }
      },
      "source": [
        "len(stop) # number of stop words"
      ],
      "execution_count": 12,
      "outputs": [
        {
          "output_type": "execute_result",
          "data": {
            "text/plain": [
              "179"
            ]
          },
          "metadata": {
            "tags": []
          },
          "execution_count": 12
        }
      ]
    },
    {
      "cell_type": "code",
      "metadata": {
        "id": "SMLkcAaqLJhW",
        "colab_type": "code",
        "colab": {}
      },
      "source": [
        "# add / remove words to stoplist\n",
        "# This changes the local copy, not the original stoplist\n",
        "\n",
        "stop.add('lah')\n",
        "stop.remove('because') # changes the stop list in-place\n",
        "                       # so running this cell again will return\n",
        "                       # KeyError"
      ],
      "execution_count": 0,
      "outputs": []
    },
    {
      "cell_type": "markdown",
      "metadata": {
        "id": "rHC1dEHhLJhj",
        "colab_type": "text"
      },
      "source": [
        "# Vectorise Text\n",
        "\n",
        "Vectorisation converts words into vectors of numbers\n",
        "\n",
        "Common ways:\n",
        "- By word count: CountVectorizer\n",
        "- By word and document frequency: TfidfVectorizer\n",
        "- By word vectors (gensim Word2Vec)"
      ]
    },
    {
      "cell_type": "markdown",
      "metadata": {
        "id": "gkBjXJeFLJhm",
        "colab_type": "text"
      },
      "source": [
        "## Word Count Vectorisation\n",
        "\n",
        "* Words that are used more frequently get a higher count"
      ]
    },
    {
      "cell_type": "code",
      "metadata": {
        "id": "4Fa0IKC9LJhp",
        "colab_type": "code",
        "outputId": "34fd3e3c-4a04-4d88-eec4-6bccaea36a19",
        "colab": {
          "base_uri": "https://localhost:8080/",
          "height": 240
        }
      },
      "source": [
        "from sklearn.feature_extraction.text import CountVectorizer\n",
        "corpus = [\n",
        "   'This is the first document.',\n",
        "   'This document is the second document.',\n",
        "   'And this is the third one.',\n",
        "   'Is this the first document?',\n",
        "]\n",
        "\n",
        "# sklearn's stoplist, with unigram & bigram\n",
        "#countvec = CountVectorizer(ngram_range=(1, 2), stop_words='english')\n",
        "\n",
        "# sklearn stoplist is lousy, use nltk's\n",
        "countvec = CountVectorizer(ngram_range=(1, 2), stop_words=list(stop))\n",
        "result = countvec.fit_transform(corpus)\n",
        "print(result) # sparse matrix, (location) non-zero value"
      ],
      "execution_count": 14,
      "outputs": [
        {
          "output_type": "stream",
          "text": [
            "  (0, 2)\t1\n",
            "  (0, 0)\t1\n",
            "  (0, 3)\t1\n",
            "  (1, 0)\t2\n",
            "  (1, 5)\t1\n",
            "  (1, 1)\t1\n",
            "  (1, 6)\t1\n",
            "  (2, 7)\t1\n",
            "  (2, 4)\t1\n",
            "  (2, 8)\t1\n",
            "  (3, 2)\t1\n",
            "  (3, 0)\t1\n",
            "  (3, 3)\t1\n"
          ],
          "name": "stdout"
        }
      ]
    },
    {
      "cell_type": "code",
      "metadata": {
        "id": "zXQ4aXSkLJhy",
        "colab_type": "code",
        "outputId": "0deaa55f-b24d-4538-fa58-bed2634b2cc0",
        "colab": {
          "base_uri": "https://localhost:8080/",
          "height": 86
        }
      },
      "source": [
        "# convert sparse matrix to dense matrix using todense()\n",
        "result.todense()"
      ],
      "execution_count": 15,
      "outputs": [
        {
          "output_type": "execute_result",
          "data": {
            "text/plain": [
              "matrix([[1, 0, 1, 1, 0, 0, 0, 0, 0],\n",
              "        [2, 1, 0, 0, 0, 1, 1, 0, 0],\n",
              "        [0, 0, 0, 0, 1, 0, 0, 1, 1],\n",
              "        [1, 0, 1, 1, 0, 0, 0, 0, 0]])"
            ]
          },
          "metadata": {
            "tags": []
          },
          "execution_count": 15
        }
      ]
    },
    {
      "cell_type": "code",
      "metadata": {
        "id": "eLz6UE4VLJh6",
        "colab_type": "code",
        "outputId": "5e2a0c0e-d6e0-4ff0-b472-98916b45bdd9",
        "colab": {
          "base_uri": "https://localhost:8080/",
          "height": 206
        }
      },
      "source": [
        "# vocabulary\n",
        "countvec.get_feature_names()\n",
        "\n",
        "# create dataframe with count vectors as data\n",
        "# and vocabulary as headers\n",
        "\n",
        "# add the original text as the 'text column \n",
        "df = pd.DataFrame(result.todense(),\n",
        "             columns=countvec.get_feature_names())\n",
        "df['text'] = corpus\n",
        "df"
      ],
      "execution_count": 16,
      "outputs": [
        {
          "output_type": "execute_result",
          "data": {
            "text/html": [
              "<div>\n",
              "<style scoped>\n",
              "    .dataframe tbody tr th:only-of-type {\n",
              "        vertical-align: middle;\n",
              "    }\n",
              "\n",
              "    .dataframe tbody tr th {\n",
              "        vertical-align: top;\n",
              "    }\n",
              "\n",
              "    .dataframe thead th {\n",
              "        text-align: right;\n",
              "    }\n",
              "</style>\n",
              "<table border=\"1\" class=\"dataframe\">\n",
              "  <thead>\n",
              "    <tr style=\"text-align: right;\">\n",
              "      <th></th>\n",
              "      <th>document</th>\n",
              "      <th>document second</th>\n",
              "      <th>first</th>\n",
              "      <th>first document</th>\n",
              "      <th>one</th>\n",
              "      <th>second</th>\n",
              "      <th>second document</th>\n",
              "      <th>third</th>\n",
              "      <th>third one</th>\n",
              "      <th>text</th>\n",
              "    </tr>\n",
              "  </thead>\n",
              "  <tbody>\n",
              "    <tr>\n",
              "      <th>0</th>\n",
              "      <td>1</td>\n",
              "      <td>0</td>\n",
              "      <td>1</td>\n",
              "      <td>1</td>\n",
              "      <td>0</td>\n",
              "      <td>0</td>\n",
              "      <td>0</td>\n",
              "      <td>0</td>\n",
              "      <td>0</td>\n",
              "      <td>This is the first document.</td>\n",
              "    </tr>\n",
              "    <tr>\n",
              "      <th>1</th>\n",
              "      <td>2</td>\n",
              "      <td>1</td>\n",
              "      <td>0</td>\n",
              "      <td>0</td>\n",
              "      <td>0</td>\n",
              "      <td>1</td>\n",
              "      <td>1</td>\n",
              "      <td>0</td>\n",
              "      <td>0</td>\n",
              "      <td>This document is the second document.</td>\n",
              "    </tr>\n",
              "    <tr>\n",
              "      <th>2</th>\n",
              "      <td>0</td>\n",
              "      <td>0</td>\n",
              "      <td>0</td>\n",
              "      <td>0</td>\n",
              "      <td>1</td>\n",
              "      <td>0</td>\n",
              "      <td>0</td>\n",
              "      <td>1</td>\n",
              "      <td>1</td>\n",
              "      <td>And this is the third one.</td>\n",
              "    </tr>\n",
              "    <tr>\n",
              "      <th>3</th>\n",
              "      <td>1</td>\n",
              "      <td>0</td>\n",
              "      <td>1</td>\n",
              "      <td>1</td>\n",
              "      <td>0</td>\n",
              "      <td>0</td>\n",
              "      <td>0</td>\n",
              "      <td>0</td>\n",
              "      <td>0</td>\n",
              "      <td>Is this the first document?</td>\n",
              "    </tr>\n",
              "  </tbody>\n",
              "</table>\n",
              "</div>"
            ],
            "text/plain": [
              "   document  document second  ...  third one                                   text\n",
              "0         1                0  ...          0            This is the first document.\n",
              "1         2                1  ...          0  This document is the second document.\n",
              "2         0                0  ...          1             And this is the third one.\n",
              "3         1                0  ...          0            Is this the first document?\n",
              "\n",
              "[4 rows x 10 columns]"
            ]
          },
          "metadata": {
            "tags": []
          },
          "execution_count": 16
        }
      ]
    },
    {
      "cell_type": "code",
      "metadata": {
        "id": "45R4zSNMLJh-",
        "colab_type": "code",
        "colab": {}
      },
      "source": [
        ""
      ],
      "execution_count": 0,
      "outputs": []
    },
    {
      "cell_type": "markdown",
      "metadata": {
        "id": "A32KmwDkLJiB",
        "colab_type": "text"
      },
      "source": [
        "## Word and Document Frequency (TF-IDF) Vectorisation\n",
        "\n",
        "- TF: Term Frequency: rewards words commonly used in a document\n",
        "- IDF: Inverse Document Frequency: penalises words commonly used in all documents"
      ]
    },
    {
      "cell_type": "code",
      "metadata": {
        "id": "i2_zY9ABLJiC",
        "colab_type": "code",
        "outputId": "caa3802e-1e96-4278-b15a-603ead2c5121",
        "colab": {
          "base_uri": "https://localhost:8080/",
          "height": 154
        }
      },
      "source": [
        "from sklearn.feature_extraction.text import TfidfVectorizer\n",
        "corpus = [\n",
        "   'This document is the first document.',\n",
        "   'This document is the second document.',\n",
        "   'And this is the third one.',\n",
        "   'Is this document the first document?',\n",
        "]\n",
        "\n",
        "# create vectoriser\n",
        "tfidf = TfidfVectorizer(ngram_range=(1, 2), stop_words=list(stop))\n",
        "\n",
        "# fit transform\n",
        "result = tfidf.fit_transform(corpus)\n",
        "\n",
        "# inspect matrix\n",
        "result.todense()"
      ],
      "execution_count": 17,
      "outputs": [
        {
          "output_type": "execute_result",
          "data": {
            "text/plain": [
              "matrix([[0.6829022 , 0.42176004, 0.        , 0.42176004, 0.42176004,\n",
              "         0.        , 0.        , 0.        , 0.        , 0.        ],\n",
              "        [0.59329727, 0.        , 0.46475741, 0.        , 0.        ,\n",
              "         0.        , 0.46475741, 0.46475741, 0.        , 0.        ],\n",
              "        [0.        , 0.        , 0.        , 0.        , 0.        ,\n",
              "         0.57735027, 0.        , 0.        , 0.57735027, 0.57735027],\n",
              "        [0.6829022 , 0.42176004, 0.        , 0.42176004, 0.42176004,\n",
              "         0.        , 0.        , 0.        , 0.        , 0.        ]])"
            ]
          },
          "metadata": {
            "tags": []
          },
          "execution_count": 17
        }
      ]
    },
    {
      "cell_type": "code",
      "metadata": {
        "id": "yYK6jTWELJiF",
        "colab_type": "code",
        "outputId": "197291aa-9a8b-42f9-fcfc-8133eb454022",
        "colab": {
          "base_uri": "https://localhost:8080/",
          "height": 188
        }
      },
      "source": [
        "# inspect vocabulary using get_feature_names()\n",
        "\n",
        "vocab = tfidf.get_feature_names()\n",
        "vocab"
      ],
      "execution_count": 18,
      "outputs": [
        {
          "output_type": "execute_result",
          "data": {
            "text/plain": [
              "['document',\n",
              " 'document first',\n",
              " 'document second',\n",
              " 'first',\n",
              " 'first document',\n",
              " 'one',\n",
              " 'second',\n",
              " 'second document',\n",
              " 'third',\n",
              " 'third one']"
            ]
          },
          "metadata": {
            "tags": []
          },
          "execution_count": 18
        }
      ]
    },
    {
      "cell_type": "code",
      "metadata": {
        "id": "bLoeMtvsLJiJ",
        "colab_type": "code",
        "outputId": "0f675db7-85c5-4f6e-dda1-01ed16c6d0f1",
        "colab": {
          "base_uri": "https://localhost:8080/",
          "height": 258
        }
      },
      "source": [
        "# create dataframe with count vectors as data\n",
        "# and vocabulary as headers\n",
        "# remember to convert vectors from sparse to dense matrix\n",
        "\n",
        "# add the original text as the 'text column \n",
        "df = pd.DataFrame(result.todense(),\n",
        "             columns=vocab)\n",
        "\n",
        "# add the original text as the 'text column \n",
        "df['text'] = corpus\n",
        "df"
      ],
      "execution_count": 19,
      "outputs": [
        {
          "output_type": "execute_result",
          "data": {
            "text/html": [
              "<div>\n",
              "<style scoped>\n",
              "    .dataframe tbody tr th:only-of-type {\n",
              "        vertical-align: middle;\n",
              "    }\n",
              "\n",
              "    .dataframe tbody tr th {\n",
              "        vertical-align: top;\n",
              "    }\n",
              "\n",
              "    .dataframe thead th {\n",
              "        text-align: right;\n",
              "    }\n",
              "</style>\n",
              "<table border=\"1\" class=\"dataframe\">\n",
              "  <thead>\n",
              "    <tr style=\"text-align: right;\">\n",
              "      <th></th>\n",
              "      <th>document</th>\n",
              "      <th>document first</th>\n",
              "      <th>document second</th>\n",
              "      <th>first</th>\n",
              "      <th>first document</th>\n",
              "      <th>one</th>\n",
              "      <th>second</th>\n",
              "      <th>second document</th>\n",
              "      <th>third</th>\n",
              "      <th>third one</th>\n",
              "      <th>text</th>\n",
              "    </tr>\n",
              "  </thead>\n",
              "  <tbody>\n",
              "    <tr>\n",
              "      <th>0</th>\n",
              "      <td>0.682902</td>\n",
              "      <td>0.42176</td>\n",
              "      <td>0.000000</td>\n",
              "      <td>0.42176</td>\n",
              "      <td>0.42176</td>\n",
              "      <td>0.00000</td>\n",
              "      <td>0.000000</td>\n",
              "      <td>0.000000</td>\n",
              "      <td>0.00000</td>\n",
              "      <td>0.00000</td>\n",
              "      <td>This document is the first document.</td>\n",
              "    </tr>\n",
              "    <tr>\n",
              "      <th>1</th>\n",
              "      <td>0.593297</td>\n",
              "      <td>0.00000</td>\n",
              "      <td>0.464757</td>\n",
              "      <td>0.00000</td>\n",
              "      <td>0.00000</td>\n",
              "      <td>0.00000</td>\n",
              "      <td>0.464757</td>\n",
              "      <td>0.464757</td>\n",
              "      <td>0.00000</td>\n",
              "      <td>0.00000</td>\n",
              "      <td>This document is the second document.</td>\n",
              "    </tr>\n",
              "    <tr>\n",
              "      <th>2</th>\n",
              "      <td>0.000000</td>\n",
              "      <td>0.00000</td>\n",
              "      <td>0.000000</td>\n",
              "      <td>0.00000</td>\n",
              "      <td>0.00000</td>\n",
              "      <td>0.57735</td>\n",
              "      <td>0.000000</td>\n",
              "      <td>0.000000</td>\n",
              "      <td>0.57735</td>\n",
              "      <td>0.57735</td>\n",
              "      <td>And this is the third one.</td>\n",
              "    </tr>\n",
              "    <tr>\n",
              "      <th>3</th>\n",
              "      <td>0.682902</td>\n",
              "      <td>0.42176</td>\n",
              "      <td>0.000000</td>\n",
              "      <td>0.42176</td>\n",
              "      <td>0.42176</td>\n",
              "      <td>0.00000</td>\n",
              "      <td>0.000000</td>\n",
              "      <td>0.000000</td>\n",
              "      <td>0.00000</td>\n",
              "      <td>0.00000</td>\n",
              "      <td>Is this document the first document?</td>\n",
              "    </tr>\n",
              "  </tbody>\n",
              "</table>\n",
              "</div>"
            ],
            "text/plain": [
              "   document  document first  ...  third one                                   text\n",
              "0  0.682902         0.42176  ...    0.00000   This document is the first document.\n",
              "1  0.593297         0.00000  ...    0.00000  This document is the second document.\n",
              "2  0.000000         0.00000  ...    0.57735             And this is the third one.\n",
              "3  0.682902         0.42176  ...    0.00000   Is this document the first document?\n",
              "\n",
              "[4 rows x 11 columns]"
            ]
          },
          "metadata": {
            "tags": []
          },
          "execution_count": 19
        }
      ]
    },
    {
      "cell_type": "code",
      "metadata": {
        "id": "-RpJJJTOLJiM",
        "colab_type": "code",
        "outputId": "b3c26429-87b5-4ec4-d17b-2faff2b1008f",
        "colab": {
          "base_uri": "https://localhost:8080/",
          "height": 240
        }
      },
      "source": [
        "# Computing TFIDF manually to check the values above\n",
        "\n",
        "# first, we examine the settings used for our TFIDF vectorizer\n",
        "tfidf"
      ],
      "execution_count": 20,
      "outputs": [
        {
          "output_type": "execute_result",
          "data": {
            "text/plain": [
              "TfidfVectorizer(analyzer='word', binary=False, decode_error='strict',\n",
              "                dtype=<class 'numpy.float64'>, encoding='utf-8',\n",
              "                input='content', lowercase=True, max_df=1.0, max_features=None,\n",
              "                min_df=1, ngram_range=(1, 2), norm='l2', preprocessor=None,\n",
              "                smooth_idf=True,\n",
              "                stop_words=['that', \"that'll\", 'as', 'each', 'haven', 'other',\n",
              "                            \"you've\", \"wasn't\", 'at', 'his', 's', 'the', 'same',\n",
              "                            'your', \"isn't\", 'about', 'not', 'am', 'mightn',\n",
              "                            'of', 'or', \"she's\", 'against', 'do', 'my', 'most',\n",
              "                            \"weren't\", 'too', 'm', 'been', ...],\n",
              "                strip_accents=None, sublinear_tf=False,\n",
              "                token_pattern='(?u)\\\\b\\\\w\\\\w+\\\\b', tokenizer=None, use_idf=True,\n",
              "                vocabulary=None)"
            ]
          },
          "metadata": {
            "tags": []
          },
          "execution_count": 20
        }
      ]
    },
    {
      "cell_type": "markdown",
      "metadata": {
        "id": "fl623qxkLJiQ",
        "colab_type": "text"
      },
      "source": [
        "Based on https://scikit-learn.org/stable/modules/feature_extraction.html#tfidf-term-weighting, the equation used is:\n",
        "\n",
        "$\\text{tf-idf(t,d)}=\\text{tf(t,d)} \\times \\text{idf(t)}$\n",
        "\n",
        "Where:\n",
        "\n",
        "$\\text{idf}(t) = \\log{\\frac{n}{1+\\text{df}(t)}}$\n",
        "\n",
        "When smooth_idf=True, the TFIDF computed tries to avoid zero values by adding a 1:\n",
        "\n",
        "$\\text{idf}(t) = \\log{\\frac{1 + n}{1+\\text{df}(t)}} + 1$\n",
        "\n",
        "Where $n$ is the total number of documents in the document set, and $\\text{df}(t)$ is the number of documents in the document set that contain term $t$. The resulting tf-idf vectors are then normalized by the Euclidean norm:\n",
        "\n",
        "$v_{norm} = \\frac{v}{||v||_2} = \\frac{v}{\\sqrt{v{_1}^2 +\n",
        "v{_2}^2 + \\dots + v{_n}^2}}$"
      ]
    },
    {
      "cell_type": "code",
      "metadata": {
        "id": "jT0suuTvLJiR",
        "colab_type": "code",
        "outputId": "79655132-3699-49a7-f7f7-9c60bb36c315",
        "colab": {
          "base_uri": "https://localhost:8080/",
          "height": 86
        }
      },
      "source": [
        "corpus"
      ],
      "execution_count": 21,
      "outputs": [
        {
          "output_type": "execute_result",
          "data": {
            "text/plain": [
              "['This document is the first document.',\n",
              " 'This document is the second document.',\n",
              " 'And this is the third one.',\n",
              " 'Is this document the first document?']"
            ]
          },
          "metadata": {
            "tags": []
          },
          "execution_count": 21
        }
      ]
    },
    {
      "cell_type": "code",
      "metadata": {
        "id": "VOfAtWXBLJiW",
        "colab_type": "code",
        "outputId": "7ab12ea7-8ac5-4493-b77f-5c9a44648422",
        "colab": {
          "base_uri": "https://localhost:8080/",
          "height": 86
        }
      },
      "source": [
        "# term frequency\n",
        "countvec = CountVectorizer(ngram_range=(1, 2), stop_words=list(stop))\n",
        "\n",
        "tf_sparse = countvec.fit_transform(corpus)\n",
        "tf = tf_sparse.todense()\n",
        "tf"
      ],
      "execution_count": 22,
      "outputs": [
        {
          "output_type": "execute_result",
          "data": {
            "text/plain": [
              "matrix([[2, 1, 0, 1, 1, 0, 0, 0, 0, 0],\n",
              "        [2, 0, 1, 0, 0, 0, 1, 1, 0, 0],\n",
              "        [0, 0, 0, 0, 0, 1, 0, 0, 1, 1],\n",
              "        [2, 1, 0, 1, 1, 0, 0, 0, 0, 0]])"
            ]
          },
          "metadata": {
            "tags": []
          },
          "execution_count": 22
        }
      ]
    },
    {
      "cell_type": "code",
      "metadata": {
        "id": "rLBDe_GbLJic",
        "colab_type": "code",
        "outputId": "f435eb46-4e49-4aea-9d52-411320a91025",
        "colab": {
          "base_uri": "https://localhost:8080/",
          "height": 34
        }
      },
      "source": [
        "# document frequency\n",
        "# the number of documents in the document set that contain term t\n",
        "# can be computed by inspecting how many non-zero counts there are in each column\n",
        "\n",
        "df = (tf > 0).sum(axis=0)\n",
        "df"
      ],
      "execution_count": 23,
      "outputs": [
        {
          "output_type": "execute_result",
          "data": {
            "text/plain": [
              "matrix([[3, 2, 1, 2, 2, 1, 1, 1, 1, 1]])"
            ]
          },
          "metadata": {
            "tags": []
          },
          "execution_count": 23
        }
      ]
    },
    {
      "cell_type": "code",
      "metadata": {
        "id": "ihkjdtqKLJio",
        "colab_type": "code",
        "outputId": "6c02ddac-a70f-4ab5-eaae-253453f7df22",
        "colab": {
          "base_uri": "https://localhost:8080/",
          "height": 34
        }
      },
      "source": [
        "n = len(corpus)\n",
        "n"
      ],
      "execution_count": 24,
      "outputs": [
        {
          "output_type": "execute_result",
          "data": {
            "text/plain": [
              "4"
            ]
          },
          "metadata": {
            "tags": []
          },
          "execution_count": 24
        }
      ]
    },
    {
      "cell_type": "code",
      "metadata": {
        "id": "PEQEIlfTLJiv",
        "colab_type": "code",
        "outputId": "1f7aa418-9357-4b12-e68b-d21309acd39f",
        "colab": {
          "base_uri": "https://localhost:8080/",
          "height": 51
        }
      },
      "source": [
        "# inverse document frequency (smooth_idf=True version)\n",
        "idf = np.log(n / (1 + df)) + 1\n",
        "idf"
      ],
      "execution_count": 25,
      "outputs": [
        {
          "output_type": "execute_result",
          "data": {
            "text/plain": [
              "matrix([[1.        , 1.28768207, 1.69314718, 1.28768207, 1.28768207,\n",
              "         1.69314718, 1.69314718, 1.69314718, 1.69314718, 1.69314718]])"
            ]
          },
          "metadata": {
            "tags": []
          },
          "execution_count": 25
        }
      ]
    },
    {
      "cell_type": "code",
      "metadata": {
        "id": "vX9wUlJ9LJi1",
        "colab_type": "code",
        "outputId": "bd102083-a380-40b5-8f83-190f4fcf4026",
        "colab": {
          "base_uri": "https://localhost:8080/",
          "height": 189
        }
      },
      "source": [
        "# tf x idf\n",
        "# element-wise multiply\n",
        "tfidf_raw = np.multiply(tf, idf)\n",
        "pd.DataFrame(tfidf_raw, columns=vocab)"
      ],
      "execution_count": 26,
      "outputs": [
        {
          "output_type": "execute_result",
          "data": {
            "text/html": [
              "<div>\n",
              "<style scoped>\n",
              "    .dataframe tbody tr th:only-of-type {\n",
              "        vertical-align: middle;\n",
              "    }\n",
              "\n",
              "    .dataframe tbody tr th {\n",
              "        vertical-align: top;\n",
              "    }\n",
              "\n",
              "    .dataframe thead th {\n",
              "        text-align: right;\n",
              "    }\n",
              "</style>\n",
              "<table border=\"1\" class=\"dataframe\">\n",
              "  <thead>\n",
              "    <tr style=\"text-align: right;\">\n",
              "      <th></th>\n",
              "      <th>document</th>\n",
              "      <th>document first</th>\n",
              "      <th>document second</th>\n",
              "      <th>first</th>\n",
              "      <th>first document</th>\n",
              "      <th>one</th>\n",
              "      <th>second</th>\n",
              "      <th>second document</th>\n",
              "      <th>third</th>\n",
              "      <th>third one</th>\n",
              "    </tr>\n",
              "  </thead>\n",
              "  <tbody>\n",
              "    <tr>\n",
              "      <th>0</th>\n",
              "      <td>2.0</td>\n",
              "      <td>1.287682</td>\n",
              "      <td>0.000000</td>\n",
              "      <td>1.287682</td>\n",
              "      <td>1.287682</td>\n",
              "      <td>0.000000</td>\n",
              "      <td>0.000000</td>\n",
              "      <td>0.000000</td>\n",
              "      <td>0.000000</td>\n",
              "      <td>0.000000</td>\n",
              "    </tr>\n",
              "    <tr>\n",
              "      <th>1</th>\n",
              "      <td>2.0</td>\n",
              "      <td>0.000000</td>\n",
              "      <td>1.693147</td>\n",
              "      <td>0.000000</td>\n",
              "      <td>0.000000</td>\n",
              "      <td>0.000000</td>\n",
              "      <td>1.693147</td>\n",
              "      <td>1.693147</td>\n",
              "      <td>0.000000</td>\n",
              "      <td>0.000000</td>\n",
              "    </tr>\n",
              "    <tr>\n",
              "      <th>2</th>\n",
              "      <td>0.0</td>\n",
              "      <td>0.000000</td>\n",
              "      <td>0.000000</td>\n",
              "      <td>0.000000</td>\n",
              "      <td>0.000000</td>\n",
              "      <td>1.693147</td>\n",
              "      <td>0.000000</td>\n",
              "      <td>0.000000</td>\n",
              "      <td>1.693147</td>\n",
              "      <td>1.693147</td>\n",
              "    </tr>\n",
              "    <tr>\n",
              "      <th>3</th>\n",
              "      <td>2.0</td>\n",
              "      <td>1.287682</td>\n",
              "      <td>0.000000</td>\n",
              "      <td>1.287682</td>\n",
              "      <td>1.287682</td>\n",
              "      <td>0.000000</td>\n",
              "      <td>0.000000</td>\n",
              "      <td>0.000000</td>\n",
              "      <td>0.000000</td>\n",
              "      <td>0.000000</td>\n",
              "    </tr>\n",
              "  </tbody>\n",
              "</table>\n",
              "</div>"
            ],
            "text/plain": [
              "   document  document first  ...     third  third one\n",
              "0       2.0        1.287682  ...  0.000000   0.000000\n",
              "1       2.0        0.000000  ...  0.000000   0.000000\n",
              "2       0.0        0.000000  ...  1.693147   1.693147\n",
              "3       2.0        1.287682  ...  0.000000   0.000000\n",
              "\n",
              "[4 rows x 10 columns]"
            ]
          },
          "metadata": {
            "tags": []
          },
          "execution_count": 26
        }
      ]
    },
    {
      "cell_type": "code",
      "metadata": {
        "id": "MBzHAUpnLJi9",
        "colab_type": "code",
        "outputId": "54bbf73e-30f6-4b2e-c0a2-718c45e6f25f",
        "colab": {
          "base_uri": "https://localhost:8080/",
          "height": 34
        }
      },
      "source": [
        "# compute euclidean norm for each document\n",
        "v_norm = np.linalg.norm(tfidf_raw, axis=1)\n",
        "v_norm"
      ],
      "execution_count": 27,
      "outputs": [
        {
          "output_type": "execute_result",
          "data": {
            "text/plain": [
              "array([2.99572618, 3.54968198, 2.93261694, 2.99572618])"
            ]
          },
          "metadata": {
            "tags": []
          },
          "execution_count": 27
        }
      ]
    },
    {
      "cell_type": "code",
      "metadata": {
        "id": "1EVLzY6vLJjB",
        "colab_type": "code",
        "outputId": "692a79a3-c40b-47c2-b752-87988c849060",
        "colab": {
          "base_uri": "https://localhost:8080/",
          "height": 154
        }
      },
      "source": [
        "# [:, None] allows tfidf_raw to be divided by each vector element\n",
        "# for example, first row will be divided by v_norm[0], second row by v_norm[1], etc\n",
        "tfidf = tfidf_raw / v_norm[:, None]\n",
        "tfidf"
      ],
      "execution_count": 28,
      "outputs": [
        {
          "output_type": "execute_result",
          "data": {
            "text/plain": [
              "matrix([[0.66761776, 0.42983971, 0.        , 0.42983971, 0.42983971,\n",
              "         0.        , 0.        , 0.        , 0.        , 0.        ],\n",
              "        [0.56343076, 0.        , 0.4769856 , 0.        , 0.        ,\n",
              "         0.        , 0.4769856 , 0.4769856 , 0.        , 0.        ],\n",
              "        [0.        , 0.        , 0.        , 0.        , 0.        ,\n",
              "         0.57735027, 0.        , 0.        , 0.57735027, 0.57735027],\n",
              "        [0.66761776, 0.42983971, 0.        , 0.42983971, 0.42983971,\n",
              "         0.        , 0.        , 0.        , 0.        , 0.        ]])"
            ]
          },
          "metadata": {
            "tags": []
          },
          "execution_count": 28
        }
      ]
    },
    {
      "cell_type": "code",
      "metadata": {
        "id": "oP1A1arhLJjJ",
        "colab_type": "code",
        "outputId": "cb5ea159-7385-456d-e24d-428b8136a17b",
        "colab": {
          "base_uri": "https://localhost:8080/",
          "height": 154
        }
      },
      "source": [
        "# compare with TfidfVectorizer's output\n",
        "result.todense()"
      ],
      "execution_count": 29,
      "outputs": [
        {
          "output_type": "execute_result",
          "data": {
            "text/plain": [
              "matrix([[0.6829022 , 0.42176004, 0.        , 0.42176004, 0.42176004,\n",
              "         0.        , 0.        , 0.        , 0.        , 0.        ],\n",
              "        [0.59329727, 0.        , 0.46475741, 0.        , 0.        ,\n",
              "         0.        , 0.46475741, 0.46475741, 0.        , 0.        ],\n",
              "        [0.        , 0.        , 0.        , 0.        , 0.        ,\n",
              "         0.57735027, 0.        , 0.        , 0.57735027, 0.57735027],\n",
              "        [0.6829022 , 0.42176004, 0.        , 0.42176004, 0.42176004,\n",
              "         0.        , 0.        , 0.        , 0.        , 0.        ]])"
            ]
          },
          "metadata": {
            "tags": []
          },
          "execution_count": 29
        }
      ]
    },
    {
      "cell_type": "code",
      "metadata": {
        "id": "LzSVhMuFLJjO",
        "colab_type": "code",
        "outputId": "d3e8194f-b56d-4f88-ed3a-411fdf799d48",
        "colab": {
          "base_uri": "https://localhost:8080/",
          "height": 154
        }
      },
      "source": [
        "# the values are within +/-0.02, possibly due to floating point rounding error\n",
        "abs(tfidf - result.todense())"
      ],
      "execution_count": 30,
      "outputs": [
        {
          "output_type": "execute_result",
          "data": {
            "text/plain": [
              "matrix([[0.01528444, 0.00807967, 0.        , 0.00807967, 0.00807967,\n",
              "         0.        , 0.        , 0.        , 0.        , 0.        ],\n",
              "        [0.02986651, 0.        , 0.01222819, 0.        , 0.        ,\n",
              "         0.        , 0.01222819, 0.01222819, 0.        , 0.        ],\n",
              "        [0.        , 0.        , 0.        , 0.        , 0.        ,\n",
              "         0.        , 0.        , 0.        , 0.        , 0.        ],\n",
              "        [0.01528444, 0.00807967, 0.        , 0.00807967, 0.00807967,\n",
              "         0.        , 0.        , 0.        , 0.        , 0.        ]])"
            ]
          },
          "metadata": {
            "tags": []
          },
          "execution_count": 30
        }
      ]
    },
    {
      "cell_type": "code",
      "metadata": {
        "id": "4KLTro19LJjT",
        "colab_type": "code",
        "colab": {}
      },
      "source": [
        ""
      ],
      "execution_count": 0,
      "outputs": []
    },
    {
      "cell_type": "markdown",
      "metadata": {
        "id": "2C2orQjTLJjZ",
        "colab_type": "text"
      },
      "source": [
        "## Word2Vec\n",
        "\n",
        "Word2Vec generates word-vectors where vectors close together in vector space have similar meanings based on context, and word-vectors distant to each other have differing meanings.\n",
        "\n",
        "### Gensim\n",
        "\n",
        "Gensim is a Python library to train word vectors, and to load pre-trained word vectors.\n",
        "\n",
        "(You should already have Gensim installed if you followed the Workshop Setup Instructions.)\n",
        "\n",
        "https://radimrehurek.com/gensim/models/word2vec.html\n",
        "https://radimrehurek.com/gensim/models/keyedvectors.html"
      ]
    },
    {
      "cell_type": "markdown",
      "metadata": {
        "id": "j9qi6NRZLJja",
        "colab_type": "text"
      },
      "source": [
        ""
      ]
    },
    {
      "cell_type": "code",
      "metadata": {
        "id": "C7wy-w93LJja",
        "colab_type": "code",
        "colab": {}
      },
      "source": [
        "from gensim.models import Word2Vec\n",
        "\n",
        "corpus = [\n",
        "    'Dashing through the snow',\n",
        "    'In a one-horse open sleigh',\n",
        "    'Over the fields we go',\n",
        "    'Laughing all the way',\n",
        "    'Bells on bob-tail ring',\n",
        "    'Making spirits bright',\n",
        "    'What fun it is to ride and sing a sleighing song tonight'\n",
        "]\n",
        "\n",
        "# split text into words\n",
        "corpus_tokens = [word_tokenize(doc.lower()) for doc in corpus]\n",
        "\n",
        "vector_size=10 # vector representation (typically about 50-100 for larger vocabs)\n",
        "\n",
        "window_size=3 # how many words to see around it (depending on task)\n",
        "\n",
        "# train\n",
        "word2vec = Word2Vec(corpus_tokens, size=vector_size, \n",
        "                    window=window_size,\n",
        "                    min_count=1, workers=4)\n",
        "\n",
        "# model.save(\"word2vec.model\") # save for use later"
      ],
      "execution_count": 0,
      "outputs": []
    },
    {
      "cell_type": "code",
      "metadata": {
        "id": "LK-iMlxxLJjd",
        "colab_type": "code",
        "colab": {}
      },
      "source": [
        "# lookup vector using wv\n",
        "\n"
      ],
      "execution_count": 0,
      "outputs": []
    },
    {
      "cell_type": "code",
      "metadata": {
        "id": "dwfmq4iHLJjg",
        "colab_type": "code",
        "colab": {}
      },
      "source": [
        "# find similar words using most_similar\n",
        "\n"
      ],
      "execution_count": 0,
      "outputs": []
    },
    {
      "cell_type": "code",
      "metadata": {
        "id": "ZGqZVSH2LJjj",
        "colab_type": "code",
        "colab": {}
      },
      "source": [
        "# inspect vocabulary using wv.vocab\n",
        "\n"
      ],
      "execution_count": 0,
      "outputs": []
    },
    {
      "cell_type": "code",
      "metadata": {
        "id": "B9cnIIG3LJjs",
        "colab_type": "code",
        "colab": {}
      },
      "source": [
        "# get word vectors using vectors\n",
        "\n"
      ],
      "execution_count": 0,
      "outputs": []
    },
    {
      "cell_type": "code",
      "metadata": {
        "id": "-7BwKEUzLJjy",
        "colab_type": "code",
        "colab": {
          "base_uri": "https://localhost:8080/",
          "height": 265
        },
        "outputId": "2db294c2-108b-4f13-cc4a-b57f2e3a0b76"
      },
      "source": [
        "# To explore word vectors, you can plot them in 2d space\n",
        "# (Notice how useful PCA is?)\n",
        "from sklearn.decomposition import PCA\n",
        "\n",
        "pca = PCA(n_components=2)\n",
        "wv_2d = pca.fit_transform(word2vec.wv.vectors)\n",
        "\n",
        "fig, ax = plt.subplots()\n",
        "\n",
        "# scatter plot\n",
        "ax.scatter(wv_2d[:, 0], wv_2d[:, 1])\n",
        "\n",
        "# annotate each point using the words\n",
        "for i, word in enumerate(word2vec.wv.vocab):\n",
        "    ax.annotate(word, (wv_2d[i, 0], wv_2d[i, 1]))"
      ],
      "execution_count": 32,
      "outputs": [
        {
          "output_type": "display_data",
          "data": {
            "image/png": "[encoded data removed]",
            "text/plain": [
              "<Figure size 432x288 with 1 Axes>"
            ]
          },
          "metadata": {
            "tags": []
          }
        }
      ]
    },
    {
      "cell_type": "markdown",
      "metadata": {
        "id": "UPbNE4u9LJj2",
        "colab_type": "text"
      },
      "source": [
        "### Pre-trained Word2Vec models\n",
        "\n",
        "Instead of training your own word2vec, you can alternatively load the (large!) pre-trained models\n",
        "\n",
        "https://github.com/RaRe-Technologies/gensim-data\n",
        "\n",
        "These are most commonly used when training Neural Networks, because scikit-learn cannot handle non-scalar features well.  :("
      ]
    }
  ]
}