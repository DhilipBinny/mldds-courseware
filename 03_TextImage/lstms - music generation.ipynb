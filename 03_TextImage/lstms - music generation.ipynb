{
 "cells": [
  {
   "cell_type": "markdown",
   "metadata": {},
   "source": [
    "## LSTM and Music Generation\n",
    "\n",
    "Credits: https://towardsdatascience.com/how-to-generate-music-using-a-lstm-neural-network-in-keras-68786834d4c5"
   ]
  },
  {
   "cell_type": "markdown",
   "metadata": {},
   "source": [
    "### RNN: Classic Unrolling\n",
    "![rnn](https://chunml.github.io/images/projects/creating-text-generator-using-recurrent-neural-network/vanilla_RNN.png)\n"
   ]
  },
  {
   "cell_type": "markdown",
   "metadata": {},
   "source": [
    "\n",
    "Hidden layer at time step $t$ ($h_t$), is computed from using $h_{t-1}$ (from previous time step) ($\\sigma$ = sigmoid):\n",
    "\n",
    "$$h_t=\\sigma(W_{xh}x_t+W_{hh}h_{t−1})$$\n",
    "\n",
    "Output (only based on latest $h_t$):\n",
    "\n",
    "$$y_t = softmax(W_{hy}h_t)$$"
   ]
  },
  {
   "cell_type": "markdown",
   "metadata": {},
   "source": [
    "### RNN problem: Vanishing Gradient\n",
    "- As we back-propagate, gradient of the cost function w.r.t. weights tends to diminish.\n",
    "- This means we forget stuff from earlier time steps.\n",
    "- Training becomes very slow because RNN doesn't remember much \n",
    "\n",
    "![vanishing gradient](https://cdn-images-1.medium.com/max/2000/1*FWy4STsp8k0M5Yd8LifG_Q.png)"
   ]
  },
  {
   "cell_type": "markdown",
   "metadata": {},
   "source": [
    "### LSTM\n",
    "\n",
    "![lstm](https://chunml.github.io/images/projects/creating-text-generator-using-recurrent-neural-network/LSTM.png)"
   ]
  },
  {
   "cell_type": "markdown",
   "metadata": {},
   "source": [
    "- $h_{t-1}$ is the output at time step $t-1$\n",
    "- Cell state ($C_t$) holds the \"long-short term memory\" and is controlled by 3 gates:\n",
    "  - Input gate: decides which values to update ($i_t$)\n",
    "  - Forget gate: decides which values to forget ($f_t$)\n",
    "  - Output gate: decides which values to output ($o_t$)\n",
    "  \n",
    "- $h_t$ is the output at time step $t$"
   ]
  },
  {
   "cell_type": "code",
   "execution_count": null,
   "metadata": {},
   "outputs": [],
   "source": []
  },
  {
   "cell_type": "markdown",
   "metadata": {},
   "source": [
    "## Attention vs. LSTM / RNNs\n",
    "\n",
    "In recent months, LSTMs and RNNs have fallen out of favour (machine learning is like the fashion industry). \n",
    "\n",
    "We won't address this in this workbook, but may cover it in the future.\n",
    "\n",
    "Some background if you are curious:\n",
    "\n",
    "https://towardsdatascience.com/the-fall-of-rnn-lstm-2d1594c74ce0\n",
    "\n",
    "https://arxiv.org/abs/1502.03044\n",
    "\n",
    "https://github.com/philipperemy/keras-attention-mechanism"
   ]
  },
  {
   "cell_type": "code",
   "execution_count": null,
   "metadata": {},
   "outputs": [],
   "source": []
  },
  {
   "cell_type": "markdown",
   "metadata": {},
   "source": [
    "## Music Generation\n",
    "\n",
    "Train a neural network to generate midi files\n",
    "\n",
    "Repository: https://github.com/Skuldur/Classical-Piano-Composer\n",
    "\n",
    "Blog post: https://towardsdatascience.com/how-to-generate-music-using-a-lstm-neural-network-in-keras-68786834d4c5"
   ]
  },
  {
   "cell_type": "markdown",
   "metadata": {},
   "source": [
    "### Setup\n",
    "\n",
    "[Music21](http://web.mit.edu/music21/doc/about/what.html) is a Python toolkit for computer-aided musicology (study of music, editing and composing music)\n",
    "\n",
    "Install to your environment:\n",
    "\n",
    "```\n",
    "(mldds03) pip install music21\n",
    "```\n"
   ]
  },
  {
   "cell_type": "code",
   "execution_count": 2,
   "metadata": {},
   "outputs": [
    {
     "name": "stderr",
     "output_type": "stream",
     "text": [
      "Cloning into 'Classical-Piano-Composer'...\n"
     ]
    }
   ],
   "source": [
    "# clone the repository\n",
    "!git clone https://github.com/Skuldur/Classical-Piano-Composer"
   ]
  },
  {
   "cell_type": "markdown",
   "metadata": {},
   "source": [
    "### Predict"
   ]
  },
  {
   "cell_type": "markdown",
   "metadata": {},
   "source": [
    "As a starting point, we won't modify the script or setup, but try out the demo to make sure it still works.\n",
    "\n",
    "Later on, we can add our own midi files, tweak the LSTM network, etc."
   ]
  },
  {
   "cell_type": "code",
   "execution_count": 14,
   "metadata": {},
   "outputs": [
    {
     "name": "stdout",
     "output_type": "stream",
     "text": [
      " Volume in drive D is DATA\n",
      " Volume Serial Number is B200-6E0E\n",
      "\n",
      " Directory of D:\\mldds-courseware\\03_TextImage\\Classical-Piano-Composer\n",
      "\n",
      "02/08/2018  02:43 PM    <DIR>          .\n",
      "02/08/2018  02:43 PM    <DIR>          ..\n",
      "02/08/2018  02:43 PM                66 .gitattributes\n",
      "02/08/2018  02:43 PM    <DIR>          data\n",
      "02/08/2018  02:43 PM             3,978 lstm.py\n",
      "02/08/2018  02:43 PM    <DIR>          midi_songs\n",
      "02/08/2018  02:43 PM        43,837,652 new_weights.hdf5\n",
      "02/08/2018  02:43 PM             4,771 predict.py\n",
      "02/08/2018  02:43 PM               917 README.md\n",
      "02/08/2018  02:43 PM        43,837,652 weights.hdf5\n",
      "02/08/2018  02:43 PM    <DIR>          __pycache__\n",
      "               6 File(s)     87,685,036 bytes\n",
      "               5 Dir(s)  786,515,230,720 bytes free\n"
     ]
    }
   ],
   "source": [
    "# !cd is needed because the ! syntax always evaluates from the current directory\n",
    "!cd Classical-Piano-Composer & dir"
   ]
  },
  {
   "cell_type": "markdown",
   "metadata": {},
   "source": [
    "There is a pre-trained LSTM network (`weights.hdf5`) already present. Let's run it to generate music."
   ]
  },
  {
   "cell_type": "code",
   "execution_count": 1,
   "metadata": {},
   "outputs": [
    {
     "name": "stderr",
     "output_type": "stream",
     "text": [
      "2018-08-02 14:54:50.643288: I tensorflow/core/platform/cpu_feature_guard.cc:140] Your CPU supports instructions that this TensorFlow binary was not compiled to use: AVX AVX2\n",
      "Using TensorFlow backend.\n"
     ]
    }
   ],
   "source": [
    "!cd Classical-Piano-Composer & python predict.py"
   ]
  },
  {
   "cell_type": "code",
   "execution_count": 3,
   "metadata": {},
   "outputs": [],
   "source": [
    "# if you have Visual Studio Code installed, you can run this to inspect predict.py\n",
    "# if you don't have Visual Studio Code installed, you can replace\n",
    "# code with notepad or your text editor\n",
    "!cd Classical-Piano-Composer & code predict.py\n"
   ]
  },
  {
   "cell_type": "markdown",
   "metadata": {},
   "source": [
    "This produces the following file:\n",
    "\n",
    "`test_output.mid`"
   ]
  },
  {
   "cell_type": "code",
   "execution_count": 1,
   "metadata": {},
   "outputs": [
    {
     "data": {
      "text/html": [
       "\n",
       "                <div id='midiPlayerDiv5965'></div>\n",
       "                <link rel=\"stylesheet\" href=\"//cuthbertLab.github.io/music21j/css/m21.css\"\n",
       "                    type=\"text/css\" />\n",
       "                <script>\n",
       "                require.config({\n",
       "                    paths: {'music21': '//cuthbertLab.github.io/music21j/src/music21'}\n",
       "                });\n",
       "                require(['music21'], function() {\n",
       "                               mp = new music21.miditools.MidiPlayer();\n",
       "                               mp.addPlayer('#midiPlayerDiv5965');\n",
       "                               mp.base64Load('data:audio/midi;base64,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');\n",
       "                        });\n",
       "                </script>"
      ],
      "text/plain": [
       "<IPython.core.display.HTML object>"
      ]
     },
     "metadata": {},
     "output_type": "display_data"
    }
   ],
   "source": [
    "# Reference: https://blog.ouseful.info/2016/09/13/making-music-and-embedding-sounds-in-jupyter-notebooks/\n",
    "\n",
    "def play_midi(filename):\n",
    "    \"\"\"Plays a midi file\n",
    "    Args:\n",
    "        filename - path to the midi file\n",
    "    \"\"\"\n",
    "    from music21 import midi\n",
    "    \n",
    "    mf = midi.MidiFile()\n",
    "    mf.open(filename)\n",
    "    mf.read()\n",
    "    mf.close()\n",
    "    stream = midi.translate.midiFileToStream(mf)\n",
    "    stream.show('midi')\n",
    "\n",
    "play_midi('Classical-Piano-Composer/test_output.mid')"
   ]
  },
  {
   "cell_type": "markdown",
   "metadata": {},
   "source": [
    "### Train\n",
    "\n",
    "Now that we've verified that the pre-trained network works, let's try training using our own midi files.\n",
    "\n",
    "Note that the original network takes about 20 hours to train, so we'll just be training a smaller version of \n",
    "the network for demonstration purposes.\n",
    "\n",
    "### Training with GPU\n",
    "\n",
    "If you have a machine with an NVidia GPU, you can use keras-gpu to speed up training (about 6x speedup).\n",
    "\n",
    "This requires uninstalling keras (cpu version) and install keras-gpu:\n",
    "\n",
    "```\n",
    "(mldds03) conda uninstall keras\n",
    "(mldds03) conda install keras-gpu\n",
    "``` "
   ]
  },
  {
   "cell_type": "markdown",
   "metadata": {},
   "source": [
    "Steps:\n",
    "\n",
    "1. Rename the midi_songs folder to midi_songs_original\n",
    "\n",
    "2. Rename `weights.hdf5` to `weights.hdf5.original`\n",
    "\n",
    "3. Create an empty midi_songs folder.  Download about 5-10 .mid files of your choice into it.  The original network was trained on a single instrument.\n",
    "- As an experimentation, you can add more instruments to see what happens (maybe gibberish),\n",
    "- Or if you want to play it safe, pick midi files from just 1 instrument.\n",
    "\n",
    "   - Example sources: \n",
    "    - http://meteorheaven.tripod.com/frame/mchi_male.htm\n",
    "    - http://sanjeevmusic.com/\n",
    "\n",
    "\n",
    "4. Create a copy of lstm.py called lstm_exercise.py. Edit this file:\n",
    "\n",
    "   a. Edit the `train` function to reduce the number of epochs from 200 to 10. Outside of class, you can always re-start training and train for a longer period of time.\n",
    "\n",
    "   b. Add a TensorBoard callback to monitor training progress.\n",
    "\n",
    "    ```\n",
    "    from keras.callbacks import TensorBoard\n",
    "    from time import time\n",
    "\n",
    "    ...\n",
    "\n",
    "    tensorboard = TensorBoard(log_dir='./logs/{}'.format(time()),\n",
    "                              histogram_freq=0,\n",
    "                              batch_size=64,\n",
    "                              write_graph=True)\n",
    "\n",
    "    ...\n",
    "\n",
    "    callbacks_list = [checkpoint, tensorboard]\n",
    "\n",
    "    ```\n",
    "\n",
    "5. Launch tensorboard:\n",
    "    ```\n",
    "   (mldds03) D:\\mldds-courseware\\03_TextImage\\Classical-Piano-Composer>tensorboard --logdir logs --host=0.0.0.0\n",
    "    \n",
    "    2018-08-02 15:32:56.198899: I tensorflow/core/platform/cpu_feature_guard.cc:140] Your CPU supports instructions that this TensorFlow binary was not compiled to use: AVX AVX2\n",
    "    TensorBoard 1.8.0 at http://0.0.0.0:6006 (Press CTRL+C to quit)\n",
    "    \n",
    "    ```\n",
    "   Open a browser window to http://localhost:6006\n",
    "\n",
    "6. Start training:\n",
    "    ```\n",
    "    python lstm_exercise.py\n",
    "    ```\n"
   ]
  },
  {
   "cell_type": "markdown",
   "metadata": {},
   "source": [
    "If all goes to plan you should see output like this (depending on whether you are running with or without GPU):\n",
    "   \n",
    "### CPU-only\n",
    "```\n",
    "\n",
    "    (mldds03) D:\\mldds-courseware\\03_TextImage\\Classical-Piano-Composer>python lstm_exercise.py\n",
    "    Using TensorFlow backend.\n",
    "    Parsing midi_songs\\aidehuhuan.mid\n",
    "    Parsing midi_songs\\kewang.mid\n",
    "    Parsing midi_songs\\parapara.mid\n",
    "    Parsing midi_songs\\shuinenggaoshuwo.mid\n",
    "    Parsing midi_songs\\zhaomi.mid\n",
    "    2018-08-02 15:35:15.560156: I tensorflow/core/platform/cpu_feature_guard.cc:140] Your CPU supports instructions that this TensorFlow binary was not compiled to use: AVX AVX2\n",
    "    Epoch 1/10\n",
    "    5344/5344 [==============================] - 223s 42ms/step - loss: 4.4112\n",
    "    Epoch 2/10\n",
    "     832/5344 [===>..........................] - ETA: 3:06 - loss: 4.1681\n",
    "\n",
    "```\n",
    "\n",
    "### GPU\n",
    "\n",
    "```\n",
    "    (mldds03) D:\\mldds-courseware\\03_TextImage\\Classical-Piano-Composer>python lstm_exercise.py\n",
    "    Using TensorFlow backend.\n",
    "    Parsing midi_songs\\aidehuhuan.mid\n",
    "    Parsing midi_songs\\kewang.mid\n",
    "    Parsing midi_songs\\parapara.mid\n",
    "    Parsing midi_songs\\shuinenggaoshuwo.mid\n",
    "    Parsing midi_songs\\zhaomi.mid\n",
    "    2018-08-02 15:48:55.160750: I C:\\users\\nwani\\_bazel_nwani\\mmtm6wb6\\execroot\\org_tensorflow\\tensorflow\\core\\platform\\cpu_feature_guard.cc:140] Your CPU supports instructions that this TensorFlow binary was not compiled to use: AVX AVX2\n",
    "    2018-08-02 15:48:55.635377: I C:\\users\\nwani\\_bazel_nwani\\mmtm6wb6\\execroot\\org_tensorflow\\tensorflow\\core\\common_runtime\\gpu\\gpu_device.cc:1356] Found device 0 with properties:\n",
    "    name: GeForce GTX 1080 Ti major: 6 minor: 1 memoryClockRate(GHz): 1.582\n",
    "    pciBusID: 0000:01:00.0\n",
    "    totalMemory: 11.00GiB freeMemory: 9.01GiB\n",
    "    2018-08-02 15:48:55.722389: I C:\\users\\nwani\\_bazel_nwani\\mmtm6wb6\\execroot\\org_tensorflow\\tensorflow\\core\\common_runtime\\gpu\\gpu_device.cc:1356] Found device 1 with properties:\n",
    "    name: GeForce GTX 1080 Ti major: 6 minor: 1 memoryClockRate(GHz): 1.582\n",
    "    pciBusID: 0000:02:00.0\n",
    "    totalMemory: 11.00GiB freeMemory: 9.01GiB\n",
    "    2018-08-02 15:48:55.727757: I C:\\users\\nwani\\_bazel_nwani\\mmtm6wb6\\execroot\\org_tensorflow\\tensorflow\\core\\common_runtime\\gpu\\gpu_device.cc:1435] Adding visible gpu devices: 0, 1\n",
    "    2018-08-02 15:48:57.789074: I C:\\users\\nwani\\_bazel_nwani\\mmtm6wb6\\execroot\\org_tensorflow\\tensorflow\\core\\common_runtime\\gpu\\gpu_device.cc:923] Device interconnect StreamExecutor with strength 1 edge matrix:\n",
    "    2018-08-02 15:48:57.793350: I C:\\users\\nwani\\_bazel_nwani\\mmtm6wb6\\execroot\\org_tensorflow\\tensorflow\\core\\common_runtime\\gpu\\gpu_device.cc:929]      0 1\n",
    "    2018-08-02 15:48:57.796512: I C:\\users\\nwani\\_bazel_nwani\\mmtm6wb6\\execroot\\org_tensorflow\\tensorflow\\core\\common_runtime\\gpu\\gpu_device.cc:942] 0:   N N\n",
    "    2018-08-02 15:48:57.800165: I C:\\users\\nwani\\_bazel_nwani\\mmtm6wb6\\execroot\\org_tensorflow\\tensorflow\\core\\common_runtime\\gpu\\gpu_device.cc:942] 1:   N N\n",
    "    2018-08-02 15:48:57.805051: I C:\\users\\nwani\\_bazel_nwani\\mmtm6wb6\\execroot\\org_tensorflow\\tensorflow\\core\\common_runtime\\gpu\\gpu_device.cc:1053] Created TensorFlow device (/job:localhost/replica:0/task:0/device:GPU:0 with 8713 MB memory) -> physical GPU (device: 0, name: GeForce GTX 1080 Ti, pci bus id: 0000:01:00.0, compute capability: 6.1)\n",
    "    2018-08-02 15:48:58.227726: I C:\\users\\nwani\\_bazel_nwani\\mmtm6wb6\\execroot\\org_tensorflow\\tensorflow\\core\\common_runtime\\gpu\\gpu_device.cc:1053] Created TensorFlow device (/job:localhost/replica:0/task:0/device:GPU:1 with 8713 MB memory) -> physical GPU (device: 1, name: GeForce GTX 1080 Ti, pci bus id: 0000:02:00.0, compute capability: 6.1)\n",
    "\n",
    "    Epoch 1/10\n",
    "    5344/5344 [==============================] - 37s 7ms/step - loss: 4.3308\n",
    "    Epoch 2/10\n",
    "    1856/5344 [=========>....................] - ETA: 22s - loss: 4.1595\n",
    "```"
   ]
  },
  {
   "cell_type": "markdown",
   "metadata": {},
   "source": [
    "Tensorboard should show the network graph, but it will take some time before a loss curve is shown.\n",
    "\n",
    "LSTM graph:\n",
    "\n",
    "![tensorboard](assets/lstm/tensorboard_1.png)\n",
    "\n",
    "Initial loss values:\n",
    "\n",
    "![tensorboard](assets/lstm/tensorboard_2.png)"
   ]
  },
  {
   "cell_type": "markdown",
   "metadata": {},
   "source": []
  },
  {
   "attachments": {},
   "cell_type": "markdown",
   "metadata": {},
   "source": [
    "### Predict (own trained)\n",
    "\n",
    "1. copy weights-improvement-10-4.0982-bigger.hdf5 weights.hdf5\n",
    "2. python predict.py"
   ]
  },
  {
   "cell_type": "code",
   "execution_count": 7,
   "metadata": {},
   "outputs": [
    {
     "data": {
      "text/html": [
       "\n",
       "                <div id='midiPlayerDiv16729'></div>\n",
       "                <link rel=\"stylesheet\" href=\"//cuthbertLab.github.io/music21j/css/m21.css\"\n",
       "                    type=\"text/css\" />\n",
       "                <script>\n",
       "                require.config({\n",
       "                    paths: {'music21': '//cuthbertLab.github.io/music21j/src/music21'}\n",
       "                });\n",
       "                require(['music21'], function() {\n",
       "                               mp = new music21.miditools.MidiPlayer();\n",
       "                               mp.addPlayer('#midiPlayerDiv16729');\n",
       "                               mp.base64Load('data:audio/midi;base64,TVRoZAAAAAYAAQABBABNVHJrAAARmQD/AwAA4ABAAJAqWoQAgCoAhACQKlqEAIAqAACQKlqEAIAqAACQKlqEAIAqAACQKlqEAIAqAACQKlqEAIAqAACQKlqEAIAqAACQKlqEAIAqAACQKlqEAIAqAACQKlqEAIAqAACQKlqEAIAqAACQKlqEAIAqAACQKlqEAIAqAACQKlqEAIAqAACQKlqEAIAqAACQKlqEAIAqAACQKlqEAIAqAACQKlqEAIAqAACQKlqEAIAqAACQKlqEAIAqAACQKlqEAIAqAACQKlqEAIAqAACQKlqEAIAqAACQKlqEAIAqAACQKlqEAIAqAACQKlqEAIAqAACQKlqEAIAqAACQKlqEAIAqAACQKlqEAIAqAACQKlqEAIAqAACQKlqEAIAqAACQKlqEAIAqAACQKlqEAIAqAACQKlqEAIAqAACQKlqEAIAqAACQKlqEAIAqAACQKlqEAIAqAACQKlqEAIAqAACQKlqEAIAqAACQKlqEAIAqAACQKlqEAIAqAACQKlqEAIAqAACQKlqEAIAqAACQKlqEAIAqAACQKlqEAIAqAACQKlqEAIAqAACQKlqEAIAqAACQKlqEAIAqAACQKlqEAIAqAACQKlqEAIAqAACQKlqEAIAqAACQKlqEAIAqAACQKlqEAIAqAACQKlqEAIAqAACQKlqEAIAqAACQKlqEAIAqAACQKlqEAIAqAACQKlqEAIAqAACQKlqEAIAqAACQKlqEAIAqAACQKlqEAIAqAACQKlqEAIAqAACQKlqEAIAqAACQKlqEAIAqAACQKlqEAIAqAACQKlqEAIAqAACQKlqEAIAqAACQKlqEAIAqAACQKlqEAIAqAACQKlqEAIAqAACQKlqEAIAqAACQKlqEAIAqAACQKlqEAIAqAACQKlqEAIAqAACQKlqEAIAqAACQKlqEAIAqAACQKlqEAIAqAACQKlqEAIAqAACQKlqEAIAqAACQKlqEAIAqAACQKlqEAIAqAACQKlqEAIAqAACQKlqEAIAqAACQKlqEAIAqAACQKlqEAIAqAACQKlqEAIAqAACQKlqEAIAqAACQKlqEAIAqAACQKlqEAIAqAACQKlqEAIAqAACQKlqEAIAqAACQKlqEAIAqAACQKlqEAIAqAACQKlqEAIAqAACQKlqEAIAqAACQKlqEAIAqAACQKlqEAIAqAACQKlqEAIAqAACQKlqEAIAqAACQKlqEAIAqAACQKlqEAIAqAACQKlqEAIAqAACQKlqEAIAqAACQKlqEAIAqAACQKlqEAIAqAACQKlqEAIAqAACQKlqEAIAqAACQKlqEAIAqAACQKlqEAIAqAACQKlqEAIAqAACQKlqEAIAqAACQKlqEAIAqAACQKlqEAIAqAACQKlqEAIAqAACQKlqEAIAqAACQKlqEAIAqAACQKlqEAIAqAACQKlqEAIAqAACQKlqEAIAqAACQKlqEAIAqAACQKlqEAIAqAACQKlqEAIAqAACQKlqEAIAqAACQKlqEAIAqAACQKlqEAIAqAACQKlqEAIAqAACQKlqEAIAqAACQKlqEAIAqAACQKlqEAIAqAACQKlqEAIAqAACQKlqEAIAqAACQKlqEAIAqAACQKlqEAIAqAACQKlqEAIAqAACQKlqEAIAqAACQKlqEAIAqAACQKlqEAIAqAACQKlqEAIAqAACQKlqEAIAqAACQKlqEAIAqAACQKlqEAIAqAACQKlqEAIAqAACQKlqEAIAqAACQKlqEAIAqAACQKlqEAIAqAACQKlqEAIAqAACQKlqEAIAqAACQKlqEAIAqAACQKlqEAIAqAACQKlqEAIAqAACQKlqEAIAqAACQKlqEAIAqAACQKlqEAIAqAACQKlqEAIAqAACQKlqEAIAqAACQKlqEAIAqAACQKlqEAIAqAACQKlqEAIAqAACQKlqEAIAqAACQKlqEAIAqAACQKlqEAIAqAACQKlqEAIAqAACQKlqEAIAqAACQKlqEAIAqAACQKlqEAIAqAACQKlqEAIAqAACQKlqEAIAqAACQKlqEAIAqAACQKlqEAIAqAACQKlqEAIAqAACQKlqEAIAqAACQKlqEAIAqAACQKlqEAIAqAACQKlqEAIAqAACQKlqEAIAqAACQKlqEAIAqAACQKlqEAIAqAACQKlqEAIAqAACQKlqEAIAqAACQKlqEAIAqAACQKlqEAIAqAACQKlqEAIAqAACQKlqEAIAqAACQKlqEAIAqAACQKlqEAIAqAACQKlqEAIAqAACQKlqEAIAqAACQKlqEAIAqAACQKlqEAIAqAACQKlqEAIAqAACQKlqEAIAqAACQKlqEAIAqAACQKlqEAIAqAACQKlqEAIAqAACQKlqEAIAqAACQKlqEAIAqAACQKlqEAIAqAACQKlqEAIAqAACQKlqEAIAqAACQKlqEAIAqAACQKlqEAIAqAACQKlqEAIAqAACQKlqEAIAqAACQKlqEAIAqAACQKlqEAIAqAACQKlqEAIAqAACQKlqEAIAqAACQKlqEAIAqAACQKlqEAIAqAACQKlqEAIAqAACQKlqEAIAqAACQKlqEAIAqAACQKlqEAIAqAACQKlqEAIAqAACQKlqEAIAqAACQKlqEAIAqAACQKlqEAIAqAACQKlqEAIAqAACQKlqEAIAqAACQKlqEAIAqAACQKlqEAIAqAACQKlqEAIAqAACQKlqEAIAqAACQKlqEAIAqAACQKlqEAIAqAACQKlqEAIAqAACQKlqEAIAqAACQKlqEAIAqAACQKlqEAIAqAACQKlqEAIAqAACQKlqEAIAqAACQKlqEAIAqAACQKlqEAIAqAACQKlqEAIAqAACQKlqEAIAqAACQKlqEAIAqAACQKlqEAIAqAACQKlqEAIAqAACQKlqEAIAqAACQKlqEAIAqAACQKlqEAIAqAACQKlqEAIAqAACQKlqEAIAqAACQKlqEAIAqAACQKlqEAIAqAACQKlqEAIAqAACQKlqEAIAqAACQKlqEAIAqAACQKlqEAIAqAACQKlqEAIAqAACQKlqEAIAqAACQKlqEAIAqAACQKlqEAIAqAACQKlqEAIAqAACQKlqEAIAqAACQKlqEAIAqAACQKlqEAIAqAACQKlqEAIAqAACQKlqEAIAqAACQKlqEAIAqAACQKlqEAIAqAACQKlqEAIAqAACQKlqEAIAqAACQKlqEAIAqAACQKlqEAIAqAACQKlqEAIAqAACQKlqEAIAqAACQKlqEAIAqAACQKlqEAIAqAACQKlqEAIAqAACQKlqEAIAqAACQKlqEAIAqAACQKlqEAIAqAACQKlqEAIAqAACQKlqEAIAqAACQKlqEAIAqAACQKlqEAIAqAACQKlqEAIAqAACQKlqEAIAqAACQKlqEAIAqAACQKlqEAIAqAACQKlqEAIAqAACQKlqEAIAqAACQKlqEAIAqAACQKlqEAIAqAACQKlqEAIAqAACQKlqEAIAqAACQKlqEAIAqAACQKlqEAIAqAACQKlqEAIAqAACQKlqEAIAqAACQKlqEAIAqAACQKlqEAIAqAACQKlqEAIAqAACQKlqEAIAqAACQKlqEAIAqAACQKlqEAIAqAACQKlqEAIAqAACQKlqEAIAqAACQKlqEAIAqAACQKlqEAIAqAACQKlqEAIAqAACQKlqEAIAqAACQKlqEAIAqAACQKlqEAIAqAACQKlqEAIAqAACQKlqEAIAqAACQKlqEAIAqAACQKlqEAIAqAACQKlqEAIAqAACQKlqEAIAqAACQKlqEAIAqAACQKlqEAIAqAACQKlqEAIAqAACQKlqEAIAqAACQKlqEAIAqAACQKlqEAIAqAACQKlqEAIAqAACQKlqEAIAqAACQKlqEAIAqAACQKlqEAIAqAACQKlqEAIAqAACQKlqEAIAqAACQKlqEAIAqAACQKlqEAIAqAACQKlqEAIAqAACQKlqEAIAqAACQKlqEAIAqAACQKlqEAIAqAACQKlqEAIAqAACQKlqEAIAqAACQKlqEAIAqAACQKlqEAIAqAACQKlqEAIAqAACQKlqEAIAqAACQKlqEAIAqAACQKlqEAIAqAACQKlqEAIAqAACQKlqEAIAqAACQKlqEAIAqAACQKlqEAIAqAACQKlqEAIAqAACQKlqEAIAqAACQKlqEAIAqAACQKlqEAIAqAACQKlqEAIAqAACQKlqEAIAqAACQKlqEAIAqAACQKlqEAIAqAACQKlqEAIAqAACQKlqEAIAqAACQKlqEAIAqAACQKlqEAIAqAACQKlqEAIAqAACQKlqEAIAqAACQKlqEAIAqAACQKlqEAIAqAACQKlqEAIAqAACQKlqEAIAqAACQKlqEAIAqAACQKlqEAIAqAACQKlqEAIAqAACQKlqEAIAqAACQKlqEAIAqAACQKlqEAIAqAACQKlqEAIAqAACQKlqEAIAqAACQKlqEAIAqAACQKlqEAIAqAACQKlqEAIAqAACQKlqEAIAqAACQKlqEAIAqAACQKlqEAIAqAACQKlqEAIAqAACQKlqEAIAqAACQKlqEAIAqAACQKlqEAIAqAACQKlqEAIAqAACQKlqEAIAqAACQKlqEAIAqAACQKlqEAIAqAACQKlqEAIAqAACQKlqEAIAqAACQKlqEAIAqAACQKlqEAIAqAACQKlqEAIAqAACQKlqEAIAqAACQKlqEAIAqAACQKlqEAIAqAACQKlqEAIAqAACQKlqEAIAqAACQKlqEAIAqAACQKlqEAIAqAACQKlqEAIAqAACQKlqEAIAqAACQKlqEAIAqAACQKlqEAIAqAACQKlqEAIAqAACQKlqEAIAqAACQKlqEAIAqAACQKlqEAIAqAACQKlqEAIAqAACQKlqEAIAqAACQKlqEAIAqAACQKlqEAIAqAACQKlqEAIAqAACQKlqEAIAqAACQKlqEAIAqAACQKlqEAIAqAACQKlqEAIAqAACQKlqEAIAqAACQKlqEAIAqAACQKlqEAIAqAACQKlqEAIAqAACQKlqEAIAqAACQKlqEAIAqAACQKlqEAIAqAACQKlqEAIAqAACQKlqEAIAqAACQKlqEAIAqAACQKlqEAIAqAACQKlqEAIAqAACQKlqEAIAqAACQKlqEAIAqAACQKlqEAIAqAACQKlqEAIAqAACQKlqEAIAqAACQKlqEAIAqAACQKlqEAIAqAACQKlqEAIAqAACQKlqEAIAqAACQKlqEAIAqAACQKlqEAIAqAACQKlqEAIAqAACQKlqEAIAqAACQKlqEAIAqAACQKlqEAIAqAACQKlqEAIAqAACQKlqEAIAqAACQKlqEAIAqAACQKlqEAIAqAACQKlqEAIAqAACQKlqEAIAqAACQKlqEAIAqAACQKlqEAIAqAACQKlqEAIAqAACQKlqEAIAqAACQKlqEAIAqAACQKlqEAIAqAACQKlqEAIAqAACQKlqEAIAqAACQKlqEAIAqAACQKlqEAIAqAACQKlqEAIAqAACQKlqEAIAqAACQKlqEAIAqAACQKlqEAIAqAACQKlqEAIAqAACQKlqEAIAqAACQKlqEAIAqAACQKlqEAIAqAACQKlqEAIAqAACQKlqEAIAqAACQKlqEAIAqAACQKlqEAIAqAACQKlqEAIAqAACQKlqEAIAqAACQKlqEAIAqAACQKlqEAIAqAACQKlqEAIAqAACQKlqEAIAqAACQKlqEAIAqAACQKlqEAIAqAACQKlqEAIAqAACQKlqEAIAqAACQKlqEAIAqAACQKlqEAIAqAACQKlqEAIAqAACQKlqEAIAqAACQKlqEAIAqAACQKlqEAIAqAACQKlqEAIAqAACQKlqEAIAqAACQKlqEAIAqAACQKlqEAIAqAACQKlqEAIAqAACQKlqEAIAqAACQKlqEAIAqAACQKlqEAIAqAACQKlqEAIAqAACQKlqEAIAqAACQKlqEAIAqAACQKlqEAIAqAACQKlqEAIAqAACQKlqEAIAqAACQKlqEAIAqAACQKlqEAIAqAACQKlqEAIAqAACQKlqEAIAqAIgA/y8A');\n",
       "                        });\n",
       "                </script>"
      ],
      "text/plain": [
       "<IPython.core.display.HTML object>"
      ]
     },
     "metadata": {},
     "output_type": "display_data"
    }
   ],
   "source": [
    "play_midi('Classical-Piano-Composer/test_output.mid')"
   ]
  },
  {
   "cell_type": "code",
   "execution_count": null,
   "metadata": {},
   "outputs": [],
   "source": []
  }
 ],
 "metadata": {
  "kernelspec": {
   "display_name": "Python 3",
   "language": "python",
   "name": "python3"
  },
  "language_info": {
   "codemirror_mode": {
    "name": "ipython",
    "version": 3
   },
   "file_extension": ".py",
   "mimetype": "text/x-python",
   "name": "python",
   "nbconvert_exporter": "python",
   "pygments_lexer": "ipython3",
   "version": "3.6.6"
  }
 },
 "nbformat": 4,
 "nbformat_minor": 2
}
