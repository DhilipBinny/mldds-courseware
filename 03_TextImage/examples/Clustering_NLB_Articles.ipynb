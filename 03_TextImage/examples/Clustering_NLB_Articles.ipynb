{
  "nbformat": 4,
  "nbformat_minor": 0,
  "metadata": {
    "kernelspec": {
      "display_name": "Python 3",
      "language": "python",
      "name": "python3"
    },
    "language_info": {
      "codemirror_mode": {
        "name": "ipython",
        "version": 3
      },
      "file_extension": ".py",
      "mimetype": "text/x-python",
      "name": "python",
      "nbconvert_exporter": "python",
      "pygments_lexer": "ipython3",
      "version": "3.7.3"
    },
    "colab": {
      "name": "Clustering NLB Articles.ipynb",
      "provenance": [],
      "collapsed_sections": [],
      "toc_visible": true,
      "include_colab_link": true
    }
  },
  "cells": [
    {
      "cell_type": "markdown",
      "metadata": {
        "id": "view-in-github",
        "colab_type": "text"
      },
      "source": [
        "<a href=\"https://colab.research.google.com/github/lisaong/mldds-courseware/blob/master/03_TextImage/examples/Clustering_NLB_Articles.ipynb\" target=\"_parent\"><img src=\"https://colab.research.google.com/assets/colab-badge.svg\" alt=\"Open In Colab\"/></a>"
      ]
    },
    {
      "cell_type": "markdown",
      "metadata": {
        "id": "7c1mzXmbz6nv",
        "colab_type": "text"
      },
      "source": [
        "## Clustering National Library Board Infopedia Articles\n",
        "\n",
        "In this example, we will use clustering to explore the summaries of different articles published by the National Library Board about Singapore.\n",
        "\n",
        "The hypothesis is that the words used in the text can separate the articles into different \"topic\" groups.\n",
        "\n",
        "The use case is automatic topic suggestion for new articles.\n",
        "\n",
        "Data Source: https://data.gov.sg/dataset/national-library-board-infopedia-articles"
      ]
    },
    {
      "cell_type": "code",
      "metadata": {
        "id": "m__-_iTbz6nx",
        "colab_type": "code",
        "colab": {
          "base_uri": "https://localhost:8080/",
          "height": 51
        },
        "outputId": "29ecc1e6-e7f8-47a2-da24-27318879cd09"
      },
      "source": [
        "import pandas as pd\n",
        "import matplotlib.pyplot as plt\n",
        "import numpy as np\n",
        "\n",
        "plt.style.use('seaborn')\n",
        "\n",
        "# vectorization\n",
        "from sklearn.feature_extraction.text import TfidfVectorizer\n",
        "\n",
        "# use stop words from nltk instead of sklearn as they are more reliable\n",
        "import nltk\n",
        "nltk.download('stopwords')\n",
        "from nltk.corpus import stopwords\n",
        "\n",
        "# clustering\n",
        "from sklearn.cluster import KMeans\n",
        "\n",
        "# visualisation (for sparse matrices)\n",
        "from sklearn.decomposition import TruncatedSVD\n",
        "\n",
        "# topic extraction\n",
        "from sklearn.decomposition import LatentDirichletAllocation"
      ],
      "execution_count": 1,
      "outputs": [
        {
          "output_type": "stream",
          "text": [
            "[nltk_data] Downloading package stopwords to /root/nltk_data...\n",
            "[nltk_data]   Package stopwords is already up-to-date!\n"
          ],
          "name": "stdout"
        }
      ]
    },
    {
      "cell_type": "code",
      "metadata": {
        "id": "MpIBKRnzz6n0",
        "colab_type": "code",
        "outputId": "9b603545-15d0-425d-c09b-2308e6fee694",
        "colab": {
          "base_uri": "https://localhost:8080/",
          "height": 1000
        }
      },
      "source": [
        "df = pd.read_csv('http://opendata.nlb.gov.sg/content/opds/datagovsg/sg-infopedia.csv')\n",
        "df"
      ],
      "execution_count": 2,
      "outputs": [
        {
          "output_type": "execute_result",
          "data": {
            "text/html": [
              "<div>\n",
              "<style scoped>\n",
              "    .dataframe tbody tr th:only-of-type {\n",
              "        vertical-align: middle;\n",
              "    }\n",
              "\n",
              "    .dataframe tbody tr th {\n",
              "        vertical-align: top;\n",
              "    }\n",
              "\n",
              "    .dataframe thead th {\n",
              "        text-align: right;\n",
              "    }\n",
              "</style>\n",
              "<table border=\"1\" class=\"dataframe\">\n",
              "  <thead>\n",
              "    <tr style=\"text-align: right;\">\n",
              "      <th></th>\n",
              "      <th>uid</th>\n",
              "      <th>book_title</th>\n",
              "      <th>subject</th>\n",
              "      <th>summary</th>\n",
              "      <th>original_publisher</th>\n",
              "      <th>digital_publisher</th>\n",
              "      <th>format</th>\n",
              "      <th>language</th>\n",
              "      <th>copyright</th>\n",
              "      <th>author_name</th>\n",
              "      <th>published</th>\n",
              "      <th>resource_url</th>\n",
              "      <th>cover</th>\n",
              "      <th>thumbnail</th>\n",
              "    </tr>\n",
              "  </thead>\n",
              "  <tbody>\n",
              "    <tr>\n",
              "      <th>0</th>\n",
              "      <td>d129a114-12d1-456f-ba77-3c1fad52d9ab</td>\n",
              "      <td>17th APEC meeting</td>\n",
              "      <td>Events | Economy |nlbshtx:Events|nlbshtx:Econo...</td>\n",
              "      <td>Singapore hosted the 17th Asia-Pacific Economi...</td>\n",
              "      <td>na</td>\n",
              "      <td>National Library Board Singapore</td>\n",
              "      <td>text/html :. .</td>\n",
              "      <td>eng</td>\n",
              "      <td>na</td>\n",
              "      <td>na</td>\n",
              "      <td>na</td>\n",
              "      <td>http://eresources.nlb.gov.sg/infopedia/article...</td>\n",
              "      <td>http://eservice.nlb.gov.sg/bookcoverwrapper/co...</td>\n",
              "      <td>http://eservice.nlb.gov.sg/bookcoverwrapper/co...</td>\n",
              "    </tr>\n",
              "    <tr>\n",
              "      <th>1</th>\n",
              "      <td>2dbdfae5-8e45-48da-87e0-5e8436a7ff44</td>\n",
              "      <td>17th century Singapore Straits</td>\n",
              "      <td>Politics and Government {18336134}|Geography a...</td>\n",
              "      <td>The Singapore Straits is among the most geogra...</td>\n",
              "      <td>na</td>\n",
              "      <td>National Library Board Singapore</td>\n",
              "      <td>text/html :. .</td>\n",
              "      <td>eng</td>\n",
              "      <td>na</td>\n",
              "      <td>na</td>\n",
              "      <td>na</td>\n",
              "      <td>http://eresources.nlb.gov.sg/infopedia/article...</td>\n",
              "      <td>http://eservice.nlb.gov.sg/bookcoverwrapper/co...</td>\n",
              "      <td>http://eservice.nlb.gov.sg/bookcoverwrapper/co...</td>\n",
              "    </tr>\n",
              "    <tr>\n",
              "      <th>2</th>\n",
              "      <td>92bb56f0-e821-40d1-bd8c-cf8fa7e7f172</td>\n",
              "      <td>1819 Singapore Treaty</td>\n",
              "      <td>Politics and Government {18336134}|Events {184...</td>\n",
              "      <td>On 6 February 1819, Sir Stamford Raffles, Teme...</td>\n",
              "      <td>na</td>\n",
              "      <td>National Library Board Singapore</td>\n",
              "      <td>text/html :. .</td>\n",
              "      <td>eng</td>\n",
              "      <td>na</td>\n",
              "      <td>na</td>\n",
              "      <td>na</td>\n",
              "      <td>http://eresources.nlb.gov.sg/infopedia/article...</td>\n",
              "      <td>http://eservice.nlb.gov.sg/bookcoverwrapper/co...</td>\n",
              "      <td>http://eservice.nlb.gov.sg/bookcoverwrapper/co...</td>\n",
              "    </tr>\n",
              "    <tr>\n",
              "      <th>3</th>\n",
              "      <td>9590a69f-b3c8-4208-92bb-11ff74934af6</td>\n",
              "      <td>1824 Treaty of Friendship and Alliance</td>\n",
              "      <td>na</td>\n",
              "      <td>The Treaty of Friendship and Alliance was sign...</td>\n",
              "      <td>na</td>\n",
              "      <td>National Library Board Singapore</td>\n",
              "      <td>text/html :. .</td>\n",
              "      <td>eng</td>\n",
              "      <td>All Rights Reserved. National Library Board Si...</td>\n",
              "      <td>na</td>\n",
              "      <td>na</td>\n",
              "      <td>http://eresources.nlb.gov.sg/infopedia/article...</td>\n",
              "      <td>http://eservice.nlb.gov.sg/bookcoverwrapper/co...</td>\n",
              "      <td>http://eservice.nlb.gov.sg/bookcoverwrapper/co...</td>\n",
              "    </tr>\n",
              "    <tr>\n",
              "      <th>4</th>\n",
              "      <td>82db2bb0-b99c-4a9f-9beb-b25626cb3f87</td>\n",
              "      <td>1915 Singapore Mutiny</td>\n",
              "      <td>nlbshtx:Events&gt;&gt;Historical Periods&gt;&gt;Founding o...</td>\n",
              "      <td>In the midst of World War I, on 15 February 19...</td>\n",
              "      <td>na</td>\n",
              "      <td>National Library Board Singapore</td>\n",
              "      <td>text/html :. 11 KB, 2 p..</td>\n",
              "      <td>eng</td>\n",
              "      <td>na</td>\n",
              "      <td>Tan, Bonny</td>\n",
              "      <td>na</td>\n",
              "      <td>http://eresources.nlb.gov.sg/infopedia/article...</td>\n",
              "      <td>http://eservice.nlb.gov.sg/bookcoverwrapper/co...</td>\n",
              "      <td>http://eservice.nlb.gov.sg/bookcoverwrapper/co...</td>\n",
              "    </tr>\n",
              "    <tr>\n",
              "      <th>...</th>\n",
              "      <td>...</td>\n",
              "      <td>...</td>\n",
              "      <td>...</td>\n",
              "      <td>...</td>\n",
              "      <td>...</td>\n",
              "      <td>...</td>\n",
              "      <td>...</td>\n",
              "      <td>...</td>\n",
              "      <td>...</td>\n",
              "      <td>...</td>\n",
              "      <td>...</td>\n",
              "      <td>...</td>\n",
              "      <td>...</td>\n",
              "      <td>...</td>\n",
              "    </tr>\n",
              "    <tr>\n",
              "      <th>1927</th>\n",
              "      <td>b7af4c0f-b141-4f87-a377-4b3ecc9deb90</td>\n",
              "      <td>Zena Tessensohn</td>\n",
              "      <td>Athletic clubs--Singapore|Women hockey players...</td>\n",
              "      <td>Zena Denise Tessensohn née Clarke (b. 16 Decem...</td>\n",
              "      <td>na</td>\n",
              "      <td>na</td>\n",
              "      <td>text/html :. 16.65 KB, 3 p..</td>\n",
              "      <td>eng</td>\n",
              "      <td>na</td>\n",
              "      <td>Sutherland, Duncan</td>\n",
              "      <td>na</td>\n",
              "      <td>http://eresources.nlb.gov.sg/infopedia/article...</td>\n",
              "      <td>http://eservice.nlb.gov.sg/bookcoverwrapper/co...</td>\n",
              "      <td>http://eservice.nlb.gov.sg/bookcoverwrapper/co...</td>\n",
              "    </tr>\n",
              "    <tr>\n",
              "      <th>1928</th>\n",
              "      <td>fe14c69f-7d05-4844-abae-de842064f5ce</td>\n",
              "      <td>Zhong Yuan Jie (Hungry Ghost Festival)</td>\n",
              "      <td>nlbshtx:Ethnic Communities&gt;&gt;Festivals and Cele...</td>\n",
              "      <td>Zhong Yuan Jie (中元节), also known as the Hungry...</td>\n",
              "      <td>na</td>\n",
              "      <td>National Library Board Singapore</td>\n",
              "      <td>text/html :. 10 KB, 1 p..</td>\n",
              "      <td>eng</td>\n",
              "      <td>na</td>\n",
              "      <td>Sim, Cheryl</td>\n",
              "      <td>na</td>\n",
              "      <td>http://eresources.nlb.gov.sg/infopedia/article...</td>\n",
              "      <td>http://eservice.nlb.gov.sg/bookcoverwrapper/co...</td>\n",
              "      <td>http://eservice.nlb.gov.sg/bookcoverwrapper/co...</td>\n",
              "    </tr>\n",
              "    <tr>\n",
              "      <th>1929</th>\n",
              "      <td>f5a5b0cb-3b2f-4780-867d-33713b0558aa</td>\n",
              "      <td>Zhu Xu</td>\n",
              "      <td>Arts {18336109}|nlbshtx:Arts|Personalities {18...</td>\n",
              "      <td>Zhu Xu (朱绪) (b. 15 November 1909, Quanzhou, Fu...</td>\n",
              "      <td>na</td>\n",
              "      <td>National Library Board Singapore</td>\n",
              "      <td>text/html :. .</td>\n",
              "      <td>eng</td>\n",
              "      <td>na</td>\n",
              "      <td>Sim, Cheryl</td>\n",
              "      <td>na</td>\n",
              "      <td>http://eresources.nlb.gov.sg/infopedia/article...</td>\n",
              "      <td>http://eservice.nlb.gov.sg/bookcoverwrapper/co...</td>\n",
              "      <td>http://eservice.nlb.gov.sg/bookcoverwrapper/co...</td>\n",
              "    </tr>\n",
              "    <tr>\n",
              "      <th>1930</th>\n",
              "      <td>f14e4ab4-e713-4036-a649-599ea5217cca</td>\n",
              "      <td>Zouk</td>\n",
              "      <td>Sports and Recreation {18486681}|nlbshtx:Recre...</td>\n",
              "      <td>Zouk is a globally renowned award-winning nigh...</td>\n",
              "      <td>na</td>\n",
              "      <td>National Library Board Singapore</td>\n",
              "      <td>text/html :. .</td>\n",
              "      <td>eng</td>\n",
              "      <td>All Rights Reserved. National Library Board Si...</td>\n",
              "      <td>Ho, Aloysius|Lim, Fiona</td>\n",
              "      <td>na</td>\n",
              "      <td>http://eresources.nlb.gov.sg/infopedia/article...</td>\n",
              "      <td>http://eservice.nlb.gov.sg/bookcoverwrapper/co...</td>\n",
              "      <td>http://eservice.nlb.gov.sg/bookcoverwrapper/co...</td>\n",
              "    </tr>\n",
              "    <tr>\n",
              "      <th>1931</th>\n",
              "      <td>4b3061ce-c763-480d-9867-ac364bb139bf</td>\n",
              "      <td>Zubir Said</td>\n",
              "      <td>nlbshtx:Personalities&gt;&gt;Biographies&gt;&gt;Artists|Zu...</td>\n",
              "      <td>Zubir Said (b. 22 July 1907, Bukittinggi, Mina...</td>\n",
              "      <td>na</td>\n",
              "      <td>National Library Board Singapore</td>\n",
              "      <td>text/html :. 11 KB, 2 p..</td>\n",
              "      <td>eng</td>\n",
              "      <td>na</td>\n",
              "      <td>Sim, Cheryl</td>\n",
              "      <td>na</td>\n",
              "      <td>http://eresources.nlb.gov.sg/infopedia/article...</td>\n",
              "      <td>http://eservice.nlb.gov.sg/bookcoverwrapper/co...</td>\n",
              "      <td>http://eservice.nlb.gov.sg/bookcoverwrapper/co...</td>\n",
              "    </tr>\n",
              "  </tbody>\n",
              "</table>\n",
              "<p>1932 rows × 14 columns</p>\n",
              "</div>"
            ],
            "text/plain": [
              "                                       uid  ...                                          thumbnail\n",
              "0     d129a114-12d1-456f-ba77-3c1fad52d9ab  ...  http://eservice.nlb.gov.sg/bookcoverwrapper/co...\n",
              "1     2dbdfae5-8e45-48da-87e0-5e8436a7ff44  ...  http://eservice.nlb.gov.sg/bookcoverwrapper/co...\n",
              "2     92bb56f0-e821-40d1-bd8c-cf8fa7e7f172  ...  http://eservice.nlb.gov.sg/bookcoverwrapper/co...\n",
              "3     9590a69f-b3c8-4208-92bb-11ff74934af6  ...  http://eservice.nlb.gov.sg/bookcoverwrapper/co...\n",
              "4     82db2bb0-b99c-4a9f-9beb-b25626cb3f87  ...  http://eservice.nlb.gov.sg/bookcoverwrapper/co...\n",
              "...                                    ...  ...                                                ...\n",
              "1927  b7af4c0f-b141-4f87-a377-4b3ecc9deb90  ...  http://eservice.nlb.gov.sg/bookcoverwrapper/co...\n",
              "1928  fe14c69f-7d05-4844-abae-de842064f5ce  ...  http://eservice.nlb.gov.sg/bookcoverwrapper/co...\n",
              "1929  f5a5b0cb-3b2f-4780-867d-33713b0558aa  ...  http://eservice.nlb.gov.sg/bookcoverwrapper/co...\n",
              "1930  f14e4ab4-e713-4036-a649-599ea5217cca  ...  http://eservice.nlb.gov.sg/bookcoverwrapper/co...\n",
              "1931  4b3061ce-c763-480d-9867-ac364bb139bf  ...  http://eservice.nlb.gov.sg/bookcoverwrapper/co...\n",
              "\n",
              "[1932 rows x 14 columns]"
            ]
          },
          "metadata": {
            "tags": []
          },
          "execution_count": 2
        }
      ]
    },
    {
      "cell_type": "code",
      "metadata": {
        "id": "gAKR8FQlz6n3",
        "colab_type": "code",
        "outputId": "78d06380-2a6f-4ca7-85fd-224db39674c1",
        "colab": {
          "base_uri": "https://localhost:8080/",
          "height": 221
        }
      },
      "source": [
        "# select a column with interesting text\n",
        "df['summary']"
      ],
      "execution_count": 3,
      "outputs": [
        {
          "output_type": "execute_result",
          "data": {
            "text/plain": [
              "0       Singapore hosted the 17th Asia-Pacific Economi...\n",
              "1       The Singapore Straits is among the most geogra...\n",
              "2       On 6 February 1819, Sir Stamford Raffles, Teme...\n",
              "3       The Treaty of Friendship and Alliance was sign...\n",
              "4       In the midst of World War I, on 15 February 19...\n",
              "                              ...                        \n",
              "1927    Zena Denise Tessensohn née Clarke (b. 16 Decem...\n",
              "1928    Zhong Yuan Jie (中元节), also known as the Hungry...\n",
              "1929    Zhu Xu (朱绪) (b. 15 November 1909, Quanzhou, Fu...\n",
              "1930    Zouk is a globally renowned award-winning nigh...\n",
              "1931    Zubir Said (b. 22 July 1907, Bukittinggi, Mina...\n",
              "Name: summary, Length: 1932, dtype: object"
            ]
          },
          "metadata": {
            "tags": []
          },
          "execution_count": 3
        }
      ]
    },
    {
      "cell_type": "markdown",
      "metadata": {
        "id": "yqOS9Stssc4r",
        "colab_type": "text"
      },
      "source": [
        "## Vectorisation\n",
        "\n",
        "Convert the text column into a document-term matrix using TFIDF.\n",
        "\n",
        "- We will remove stopwords because the articles are quite long.\n",
        "- Try unigrams and bigrams to get some word combinations."
      ]
    },
    {
      "cell_type": "code",
      "metadata": {
        "id": "vUO9wWmbz6n-",
        "colab_type": "code",
        "outputId": "98851f96-bbe7-412d-e000-96eb8be23606",
        "colab": {
          "base_uri": "https://localhost:8080/",
          "height": 51
        }
      },
      "source": [
        "# convert the text to vectors\n",
        "# removing stopwords, use unigrams and bigrams\n",
        "\n",
        "stop_words = stopwords.words('english')\n",
        "stop_words.extend(['singapore']) # add more common words\n",
        "\n",
        "vec = TfidfVectorizer(stop_words=stop_words, ngram_range=(1, 2))\n",
        "vec_summary = vec.fit_transform(df['summary'])\n",
        "vec_summary"
      ],
      "execution_count": 4,
      "outputs": [
        {
          "output_type": "execute_result",
          "data": {
            "text/plain": [
              "<1932x79323 sparse matrix of type '<class 'numpy.float64'>'\n",
              "\twith 156203 stored elements in Compressed Sparse Row format>"
            ]
          },
          "metadata": {
            "tags": []
          },
          "execution_count": 4
        }
      ]
    },
    {
      "cell_type": "markdown",
      "metadata": {
        "id": "lem_sU3Ss1Fk",
        "colab_type": "text"
      },
      "source": [
        "## Clustering\n",
        "\n",
        "Cluster with kmeans. We'll try a few ks to get an elbow plot to find a suitable k.\n",
        "\n",
        "Note: this can take a while to run because our matrices are large."
      ]
    },
    {
      "cell_type": "code",
      "metadata": {
        "id": "Juas3b4Fz6oB",
        "colab_type": "code",
        "outputId": "e9055cd2-3891-4eec-da93-25438ffc0f88",
        "colab": {
          "base_uri": "https://localhost:8080/",
          "height": 119
        }
      },
      "source": [
        "inertias = []\n",
        "\n",
        "for k in range(6, 12):\n",
        "  # kmeans uses randomized centroid initialization,\n",
        "  # so we set a random state to get stable cluster assignments\n",
        "  kmeans = KMeans(n_clusters=k, random_state=42)\n",
        "  kmeans.fit(vec_summary)\n",
        "  inertias.append(kmeans.inertia_)\n",
        "\n",
        "inertias"
      ],
      "execution_count": 5,
      "outputs": [
        {
          "output_type": "execute_result",
          "data": {
            "text/plain": [
              "[1898.926224455169,\n",
              " 1897.2874949264924,\n",
              " 1895.4250160965196,\n",
              " 1892.9618390036815,\n",
              " 1889.878793175687,\n",
              " 1889.8229070590598]"
            ]
          },
          "metadata": {
            "tags": []
          },
          "execution_count": 5
        }
      ]
    },
    {
      "cell_type": "code",
      "metadata": {
        "id": "_8HeRCqepx3N",
        "colab_type": "code",
        "colab": {
          "base_uri": "https://localhost:8080/",
          "height": 376
        },
        "outputId": "f70c30c7-ae96-41ed-8f61-caee7444a768"
      },
      "source": [
        "# Plot the ks vs. inertias to try to find any \"elbow\" \n",
        "fig, ax = plt.subplots()\n",
        "ax.plot(range(6, 12), inertias)\n",
        "ax.set_xlabel('k')\n",
        "ax.set_ylabel('inertia')\n",
        "ax.set_title('KMeans++ Elbow plot')\n",
        "plt.show()"
      ],
      "execution_count": 6,
      "outputs": [
        {
          "output_type": "display_data",
          "data": {
            "image/png": "[encoded data removed]",
            "text/plain": [
              "<Figure size 576x396 with 1 Axes>"
            ]
          },
          "metadata": {
            "tags": []
          }
        }
      ]
    },
    {
      "cell_type": "code",
      "metadata": {
        "id": "FcEBMskLqBg0",
        "colab_type": "code",
        "colab": {
          "base_uri": "https://localhost:8080/",
          "height": 68
        },
        "outputId": "f9294ef0-170d-4041-b18e-ff044337d32f"
      },
      "source": [
        "# let's try k = 10, at one of the kinks\n",
        "k = 10\n",
        "kmeans = KMeans(n_clusters=k, random_state=42)\n",
        "kmeans.fit(vec_summary)"
      ],
      "execution_count": 16,
      "outputs": [
        {
          "output_type": "execute_result",
          "data": {
            "text/plain": [
              "KMeans(algorithm='auto', copy_x=True, init='k-means++', max_iter=300,\n",
              "       n_clusters=10, n_init=10, n_jobs=None, precompute_distances='auto',\n",
              "       random_state=42, tol=0.0001, verbose=0)"
            ]
          },
          "metadata": {
            "tags": []
          },
          "execution_count": 16
        }
      ]
    },
    {
      "cell_type": "code",
      "metadata": {
        "id": "wrilg-iJz6oJ",
        "colab_type": "code",
        "outputId": "62a4ae3b-1c0f-450f-fe9a-def8dac7c0b1",
        "colab": {
          "base_uri": "https://localhost:8080/",
          "height": 34
        }
      },
      "source": [
        "clusters = kmeans.predict(vec_summary)\n",
        "clusters"
      ],
      "execution_count": 17,
      "outputs": [
        {
          "output_type": "execute_result",
          "data": {
            "text/plain": [
              "array([3, 7, 7, ..., 2, 2, 2], dtype=int32)"
            ]
          },
          "metadata": {
            "tags": []
          },
          "execution_count": 17
        }
      ]
    },
    {
      "cell_type": "markdown",
      "metadata": {
        "id": "RGSUGVIDtBhS",
        "colab_type": "text"
      },
      "source": [
        "## Visualization\n",
        "\n",
        "After performing clustering, we will take the cluster assignments and plot them using SVD. \n",
        "\n",
        "Since the document-term matrix is large and sparse, we use an algorithm that can handle sparse matrices."
      ]
    },
    {
      "cell_type": "code",
      "metadata": {
        "id": "YkgTgcZ5z6oO",
        "colab_type": "code",
        "outputId": "88f19705-ac5f-4fa3-d194-83651078d4be",
        "colab": {
          "base_uri": "https://localhost:8080/",
          "height": 136
        }
      },
      "source": [
        "svd = TruncatedSVD(n_components=2)\n",
        "vec_2d = svd.fit_transform(vec_summary)\n",
        "vec_2d"
      ],
      "execution_count": 18,
      "outputs": [
        {
          "output_type": "execute_result",
          "data": {
            "text/plain": [
              "array([[ 0.04795288, -0.04636392],\n",
              "       [ 0.0610806 , -0.01859464],\n",
              "       [ 0.06378096, -0.03533575],\n",
              "       ...,\n",
              "       [ 0.05272992, -0.05701844],\n",
              "       [ 0.04447792, -0.05048394],\n",
              "       [ 0.08167419, -0.08714545]])"
            ]
          },
          "metadata": {
            "tags": []
          },
          "execution_count": 18
        }
      ]
    },
    {
      "cell_type": "code",
      "metadata": {
        "id": "-orPChR9z6oQ",
        "colab_type": "code",
        "outputId": "b56d30bf-38c3-48f7-ef28-6c26e9dece31",
        "colab": {
          "base_uri": "https://localhost:8080/",
          "height": 498
        }
      },
      "source": [
        "# plot different colours based on clusters\n",
        "\n",
        "fig, ax = plt.subplots(figsize=(10, 8))\n",
        "for i in range(k):\n",
        "    ax.scatter(vec_2d[clusters==i, 0], vec_2d[clusters==i, 1], label=f'Cluster{i}')\n",
        "    \n",
        "ax.set_title('KMeans clustering of NLB article summaries')\n",
        "ax.legend()\n",
        "plt.show()"
      ],
      "execution_count": 19,
      "outputs": [
        {
          "output_type": "display_data",
          "data": {
            "image/png": "[encoded data removed]",
            "text/plain": [
              "<Figure size 720x576 with 1 Axes>"
            ]
          },
          "metadata": {
            "tags": []
          }
        }
      ]
    },
    {
      "cell_type": "markdown",
      "metadata": {
        "id": "dclrub0-tVNM",
        "colab_type": "text"
      },
      "source": [
        "## Visual Inspection\n",
        "\n",
        "We'll use masking to show the summary text of some clusters. "
      ]
    },
    {
      "cell_type": "code",
      "metadata": {
        "id": "-15A71ABz6oU",
        "colab_type": "code",
        "outputId": "f9801dc4-0310-4db9-cfea-06d73a10647e",
        "colab": {
          "base_uri": "https://localhost:8080/",
          "height": 221
        }
      },
      "source": [
        "df['summary'][clusters==1]"
      ],
      "execution_count": 20,
      "outputs": [
        {
          "output_type": "execute_result",
          "data": {
            "text/plain": [
              "11      Masjid Abdul Gaffoor, or Abdul Gaffoor Mosque,...\n",
              "17      Some of the earliest mentions of Adelphi Hotel...\n",
              "36      Alkaff Kampung Melayu Mosque, previously known...\n",
              "37      The Alkaff Lake Gardens was located off MacPhe...\n",
              "63      Anson Road Stadium, which has been described a...\n",
              "                              ...                        \n",
              "1843    The Victoria Theatre and Concert Hall (VTCH) a...\n",
              "1856    It is believed that Warong Nasi Pariaman is th...\n",
              "1871    Founded in Calcutta, India by Robert Laidlaw i...\n",
              "1922    The Young Women’s Christian Association (YWCA)...\n",
              "1923    Yueh Hai Ching Temple is one of the oldest Tao...\n",
              "Name: summary, Length: 170, dtype: object"
            ]
          },
          "metadata": {
            "tags": []
          },
          "execution_count": 20
        }
      ]
    },
    {
      "cell_type": "code",
      "metadata": {
        "id": "NDSC8Lqnz6oW",
        "colab_type": "code",
        "outputId": "1d405d54-a5c2-4306-806b-58a6f5dc0f5c",
        "colab": {
          "base_uri": "https://localhost:8080/",
          "height": 221
        }
      },
      "source": [
        "df['summary'][clusters==2]"
      ],
      "execution_count": 21,
      "outputs": [
        {
          "output_type": "execute_result",
          "data": {
            "text/plain": [
              "29      Alex Abisheganaden (b. 31 January 1926, Singap...\n",
              "41      Amanda Heng Liang Ngim (born 1951, Singapore),...\n",
              "50      From 1959 up till the early 1960s, Singapore's...\n",
              "52      Ang Chwee Chai (b. 1910–d. 1995, Singapore) wa...\n",
              "65      Anthony Poon (b. 21 April 1945, Singapore–d. 2...\n",
              "                              ...                        \n",
              "1920    Yong Shu Hoong (b. 1966, Singapore–) is an awa...\n",
              "1926    Multidisciplinary artist Jailani Zai Kuning (b...\n",
              "1929    Zhu Xu (朱绪) (b. 15 November 1909, Quanzhou, Fu...\n",
              "1930    Zouk is a globally renowned award-winning nigh...\n",
              "1931    Zubir Said (b. 22 July 1907, Bukittinggi, Mina...\n",
              "Name: summary, Length: 198, dtype: object"
            ]
          },
          "metadata": {
            "tags": []
          },
          "execution_count": 21
        }
      ]
    },
    {
      "cell_type": "code",
      "metadata": {
        "id": "rteBvokKz6oY",
        "colab_type": "code",
        "outputId": "373ee08d-7f40-4df9-aae3-39d027f479c8",
        "colab": {
          "base_uri": "https://localhost:8080/",
          "height": 969
        }
      },
      "source": [
        "df['summary'][clusters==6]"
      ],
      "execution_count": 22,
      "outputs": [
        {
          "output_type": "execute_result",
          "data": {
            "text/plain": [
              "56      Ang Mo Kio Community Library was the fifth ful...\n",
              "87      Audiovisual Services were first introduced in ...\n",
              "112     Bedok Public Library, located at 21 Bedok Nort...\n",
              "149     The Born to Read, Read to Bond programme aimed...\n",
              "169     Bukit Batok Public Library is located at 1 Buk...\n",
              "174     Bukit Merah Community Library, located at Buki...\n",
              "210     Opened on 12 November 1960, the Central Commun...\n",
              "239     Cheng San Public Library is located in Hougang...\n",
              "286     Choa Chu Kang Public Library is located in Lot...\n",
              "297     Christopher Chia (Dr) (b. 1954, Singapore–) is...\n",
              "336     Community Children’s Libraries (CCLs), targete...\n",
              "337     Community Libraries are administered by the Na...\n",
              "503     In 1874, the Singapore Library became a public...\n",
              "556     Geylang East Community Library (known as Geyla...\n",
              "558     A collection of 1,000 published books and jour...\n",
              "624     Hedwig Elizabeth Anuar née Aroozoo (b. 19 Nove...\n",
              "755     The Junior Library was a library for the young...\n",
              "761     Jurong Regional Library (JRL) located at 21 Ju...\n",
              "764     Jurong West Community Library is located at 1 ...\n",
              "812     Kouo Shang Wei (b. 1924, Vietnam–d. 22 Decembe...\n",
              "832     Leonard Montague Harrod (b. 21 May 1905, Horsh...\n",
              "880     Library@Esplanade, officially opened on 12 Sep...\n",
              "881     Library@Orchard, officially opened on 21 Octob...\n",
              "882     The National Library Board’s first centralised...\n",
              "883     The Library Supply Centre, located in Changi S...\n",
              "986     The Marine Parade Community Library, opened on...\n",
              "1031    Mobile Library Services were initiated by the ...\n",
              "1036    Molly, the Mobile Library, affectionately know...\n",
              "1075    The National Archives of Singapore (NAS) is re...\n",
              "1090    Between 1960 and 1995, the National Library ex...\n",
              "1091    The National Library Board (NLB) is a statutor...\n",
              "1092    The National Library Building, located at 91 S...\n",
              "1093    The National Library Building at 100 Victoria ...\n",
              "1094    The National Library Courtyard was an open-air...\n",
              "1100    The National Reference Library (NRL) was locat...\n",
              "1122    Located in Orchard Gateway shopping centre on ...\n",
              "1199    Part-time branch libraries were started by the...\n",
              "1203    Pasir Ris Public Library, located on the fourt...\n",
              "1288    The Queenstown Community Library located at 53...\n",
              "1292    Ramachandran Rasu Naidu (b. 5 September 1942, ...\n",
              "1301    The Raffles Museum and Library reopened to the...\n",
              "1303    The Raffles Library and Museum building at Sta...\n",
              "1317    READ! Singapore is a nationwide campaign organ...\n",
              "1325    Reference Point is an electronic reference ser...\n",
              "1415    The Sembawang Public Library (formerly known a...\n",
              "1418    Sengkang Public Library is located in Sengkang...\n",
              "1442    As at 2016, the National Library Board (NLB) h...\n",
              "1500    The Singapore Institution Library grew from a ...\n",
              "1508    The Singapore Library, which grew out of the S...\n",
              "1657    Tampines Regional Library is the first regiona...\n",
              "1745    The Arts Resource Centre (ARC) was officially ...\n",
              "1798    The Toa Payoh Community Library, located at 6,...\n",
              "1800    Located at 6 Toa Payoh Central, Singapore, Toa...\n",
              "1893    Woodlands Regional Library (WRL) was officiall...\n",
              "1917    Yoke-Lan Wicks was the deputy director of the ...\n",
              "Name: summary, dtype: object"
            ]
          },
          "metadata": {
            "tags": []
          },
          "execution_count": 22
        }
      ]
    },
    {
      "cell_type": "markdown",
      "metadata": {
        "id": "X9KmEbmaz6ow",
        "colab_type": "text"
      },
      "source": [
        "## Topic Extraction\n",
        "\n",
        "Instead of doing manual visual inspection, a more automated approach is to do \"topic extraction\" on the clusters.\n",
        "\n",
        "Topic extraction has benefits in that it also suggests \"topic words\" so that we don't have to inspect the clusters. Whereas clustering is a general technique that we can use for many things (not just topic extraction).\n",
        "\n",
        "For each cluster:\n",
        " - Use Latent Dirichlet Allocation to extract the top topics\n",
        " - Map the top topics to keywords in the documents\n",
        "\n",
        "References:\n",
        "- https://scikit-learn.org/stable/modules/generated/sklearn.decomposition.LatentDirichletAllocation.html\n",
        "- https://www.machinelearningplus.com/nlp/topic-modeling-python-sklearn-examples/"
      ]
    },
    {
      "cell_type": "code",
      "metadata": {
        "id": "yvMXivXcz6ox",
        "colab_type": "code",
        "colab": {}
      },
      "source": [
        "# For each cluster, we will run LDA to extract top topics\n",
        "#\n",
        "# Effectively, LDA performs the following transformation:\n",
        "#   document_topic = document_word.dot(topic_word.T)\n",
        "#\n",
        "#   The output matrix, document_topic, indicates the topic probabilities\n",
        "#   for each document. This can be used to extract topics (top topics per doc)\n",
        "#\n",
        "#   The components matrix, topic_word, indicates the word probabilities\n",
        "#   for each topic. This can be used to extract keywords (top words per topic)\n",
        "\n",
        "def extract_topics(tfidf_transformer, summary_tfidf, num_topics=5):\n",
        "  topic_names = [f'Topic {i}' for i in range(num_topics)]\n",
        "\n",
        "  lda = LatentDirichletAllocation(n_components=num_topics)\n",
        "  topic_probabilities = lda.fit_transform(summary_tfidf)\n",
        "  \n",
        "  # get top topic for each document\n",
        "  # LDA transformation returns document_topic probabilities matrix\n",
        "  df_document_topic = pd.DataFrame(topic_probabilities)\n",
        "  top_topics = df_document_topic.values.argmax(axis=1)\n",
        "  _, counts = np.unique(top_topics, return_counts=True)\n",
        "  topic_counts = pd.Series(counts, index=topic_names)\n",
        "\n",
        "  # get topic keywords\n",
        "  # LDA components contain the topic_word probabilities matrix\n",
        "  keywords = lda.components_\n",
        "  df_topic_words = pd.DataFrame(lda.components_, index=topic_names,\n",
        "                                   columns=tfidf_transformer.get_feature_names())\n",
        "\n",
        "  return topic_counts, df_topic_words"
      ],
      "execution_count": 0,
      "outputs": []
    },
    {
      "cell_type": "code",
      "metadata": {
        "id": "lyuMZK9_T9Bu",
        "colab_type": "code",
        "colab": {
          "base_uri": "https://localhost:8080/",
          "height": 255
        },
        "outputId": "bd736e64-3173-457e-cd8b-da0e281427c1"
      },
      "source": [
        "# Try on cluster 6\n",
        "cluster_id = 6\n",
        "topics, keywords = extract_topics(vec, vec_summary[clusters==cluster_id])\n",
        "topics, keywords"
      ],
      "execution_count": 25,
      "outputs": [
        {
          "output_type": "execute_result",
          "data": {
            "text/plain": [
              "(Topic 0     9\n",
              " Topic 1     9\n",
              " Topic 2    14\n",
              " Topic 3     8\n",
              " Topic 4    15\n",
              " dtype: int64,\n",
              "           00  00 pm       000  000 acre  ...   龙灯  龙灯 traditional   龙舞  龙舞 longdeng\n",
              " Topic 0  0.2    0.2  0.349703       0.2  ...  0.2             0.2  0.2          0.2\n",
              " Topic 1  0.2    0.2  0.275155       0.2  ...  0.2             0.2  0.2          0.2\n",
              " Topic 2  0.2    0.2  0.200040       0.2  ...  0.2             0.2  0.2          0.2\n",
              " Topic 3  0.2    0.2  0.252470       0.2  ...  0.2             0.2  0.2          0.2\n",
              " Topic 4  0.2    0.2  0.254729       0.2  ...  0.2             0.2  0.2          0.2\n",
              " \n",
              " [5 rows x 79323 columns])"
            ]
          },
          "metadata": {
            "tags": []
          },
          "execution_count": 25
        }
      ]
    },
    {
      "cell_type": "code",
      "metadata": {
        "id": "m5Oc0E0PhUk0",
        "colab_type": "code",
        "colab": {
          "base_uri": "https://localhost:8080/",
          "height": 34
        },
        "outputId": "826bc145-faec-4f08-849e-5710b87a0d5f"
      },
      "source": [
        "print(f'Top topic for cluster {cluster_id}: {topics.idxmax()}')\n",
        "# Note that the topic index will change each time we run LDA, because LDA\n",
        "# is unsupervised. However, the number of topics is fixed."
      ],
      "execution_count": 26,
      "outputs": [
        {
          "output_type": "stream",
          "text": [
            "Top topic for cluster 6: Topic 4\n"
          ],
          "name": "stdout"
        }
      ]
    },
    {
      "cell_type": "code",
      "metadata": {
        "id": "ryxyAgmChyyV",
        "colab_type": "code",
        "colab": {
          "base_uri": "https://localhost:8080/",
          "height": 136
        },
        "outputId": "5f51005c-8c7d-48b4-f38d-369186d1dc4b"
      },
      "source": [
        "num_keywords = 5\n",
        "print('Top {num_keywords} topic keywords for cluster {cluster_id}')\n",
        "keywords.loc[topics.idxmax()].sort_values(ascending=False)[:num_keywords]"
      ],
      "execution_count": 27,
      "outputs": [
        {
          "output_type": "stream",
          "text": [
            "Top {num_keywords} topic keywords for cluster {cluster_id}\n"
          ],
          "name": "stdout"
        },
        {
          "output_type": "execute_result",
          "data": {
            "text/plain": [
              "library             4.384562\n",
              "national library    1.880011\n",
              "national            1.417397\n",
              "libraries           0.844331\n",
              "located             0.789300\n",
              "Name: Topic 4, dtype: float64"
            ]
          },
          "metadata": {
            "tags": []
          },
          "execution_count": 27
        }
      ]
    },
    {
      "cell_type": "code",
      "metadata": {
        "id": "19d5PuHSn7pc",
        "colab_type": "code",
        "colab": {}
      },
      "source": [
        "# let's create a function to get the topic keywords and probabilities\n",
        "\n",
        "def show_topics(tfidf_transformer, summary_tfidf, cluster_id, num_keywords=5):\n",
        "  topics, keywords = extract_topics(tfidf_transformer, \n",
        "                                    summary_tfidf[clusters==cluster_id])\n",
        "  top_topic = topics.idxmax()\n",
        "  print(f'Cluster {cluster_id} topic keywords and probabilities:')\n",
        "  print(keywords.loc[top_topic].sort_values(ascending=False)[:num_keywords])\n",
        "  print()"
      ],
      "execution_count": 0,
      "outputs": []
    },
    {
      "cell_type": "code",
      "metadata": {
        "id": "fqtYWuFMvAP5",
        "colab_type": "code",
        "colab": {
          "base_uri": "https://localhost:8080/",
          "height": 1000
        },
        "outputId": "e609bc8a-3650-46b9-ad25-47179a45f27b"
      },
      "source": [
        "for cluster_id in range(k):\n",
        "  show_topics(vec, vec_summary, cluster_id)"
      ],
      "execution_count": 29,
      "outputs": [
        {
          "output_type": "stream",
          "text": [
            "Cluster 0 topic keywords and probabilities:\n",
            "party             2.070470\n",
            "minister          2.013894\n",
            "lee               1.242232\n",
            "first             1.023545\n",
            "prime minister    1.017059\n",
            "Name: Topic 1, dtype: float64\n",
            "\n",
            "Cluster 1 topic keywords and probabilities:\n",
            "building    2.122916\n",
            "church      1.540762\n",
            "road        1.331089\n",
            "temple      1.174533\n",
            "school      1.174113\n",
            "Name: Topic 2, dtype: float64\n",
            "\n",
            "Cluster 2 topic keywords and probabilities:\n",
            "arts     2.539361\n",
            "art      1.950928\n",
            "music    1.843797\n",
            "award    1.638280\n",
            "dance    1.616315\n",
            "Name: Topic 1, dtype: float64\n",
            "\n",
            "Cluster 3 topic keywords and probabilities:\n",
            "club           1.458072\n",
            "association    1.045123\n",
            "tan            0.970484\n",
            "mas            0.938419\n",
            "years          0.861491\n",
            "Name: Topic 3, dtype: float64\n",
            "\n",
            "Cluster 4 topic keywords and probabilities:\n",
            "street             5.132849\n",
            "road               1.438940\n",
            "connects           1.086139\n",
            "mosque             0.983037\n",
            "street connects    0.953542\n",
            "Name: Topic 2, dtype: float64\n",
            "\n",
            "Cluster 5 topic keywords and probabilities:\n",
            "dish      1.341167\n",
            "malay     1.113749\n",
            "indian    1.103662\n",
            "south     1.097109\n",
            "island    1.060552\n",
            "Name: Topic 0, dtype: float64\n",
            "\n",
            "Cluster 6 topic keywords and probabilities:\n",
            "library             4.677740\n",
            "national library    1.661769\n",
            "national            1.185662\n",
            "libraries           1.045693\n",
            "branch              1.023962\n",
            "Name: Topic 4, dtype: float64\n",
            "\n",
            "Cluster 7 topic keywords and probabilities:\n",
            "raffles             1.835165\n",
            "stamford            1.205231\n",
            "sir                 1.171804\n",
            "stamford raffles    1.133617\n",
            "museum              1.067239\n",
            "Name: Topic 2, dtype: float64\n",
            "\n",
            "Cluster 8 topic keywords and probabilities:\n",
            "hospital    2.537724\n",
            "chinese     2.081767\n",
            "first       1.767639\n",
            "public      1.764794\n",
            "world       1.707396\n",
            "Name: Topic 2, dtype: float64\n",
            "\n",
            "Cluster 9 topic keywords and probabilities:\n",
            "road        5.215108\n",
            "area        1.296212\n",
            "street      1.065586\n",
            "bridge      1.038292\n",
            "junction    1.024232\n",
            "Name: Topic 0, dtype: float64\n",
            "\n"
          ],
          "name": "stdout"
        }
      ]
    },
    {
      "cell_type": "code",
      "metadata": {
        "id": "3lOh3O-bvQvq",
        "colab_type": "code",
        "colab": {}
      },
      "source": [
        ""
      ],
      "execution_count": 0,
      "outputs": []
    }
  ]
}