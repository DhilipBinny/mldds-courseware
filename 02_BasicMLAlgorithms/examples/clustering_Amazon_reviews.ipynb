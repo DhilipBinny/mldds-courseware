{
  "nbformat": 4,
  "nbformat_minor": 0,
  "metadata": {
    "kernelspec": {
      "display_name": "Python 3",
      "language": "python",
      "name": "python3"
    },
    "language_info": {
      "codemirror_mode": {
        "name": "ipython",
        "version": 3
      },
      "file_extension": ".py",
      "mimetype": "text/x-python",
      "name": "python",
      "nbconvert_exporter": "python",
      "pygments_lexer": "ipython3",
      "version": "3.7.3"
    },
    "colab": {
      "name": "clustering Amazon reviews.ipynb",
      "provenance": [],
      "collapsed_sections": [],
      "include_colab_link": true
    }
  },
  "cells": [
    {
      "cell_type": "markdown",
      "metadata": {
        "id": "view-in-github",
        "colab_type": "text"
      },
      "source": [
        "<a href=\"https://colab.research.google.com/github/lisaong/mldds-courseware/blob/master/02_BasicMLAlgorithms/examples/clustering_Amazon_reviews.ipynb\" target=\"_parent\"><img src=\"https://colab.research.google.com/assets/colab-badge.svg\" alt=\"Open In Colab\"/></a>"
      ]
    },
    {
      "cell_type": "markdown",
      "metadata": {
        "id": "t6jlLsfF6YPV",
        "colab_type": "text"
      },
      "source": [
        "# Clustering Customer Reviews\n",
        "\n",
        "Data source: https://www.kaggle.com/datafiniti/consumer-reviews-of-amazon-products\n",
        "\n",
        "This is a list of over 34,000 consumer reviews for Amazon products like the Kindle, Fire TV Stick, and more provided by Datafiniti's Product Database. The dataset includes basic product information, rating, review text, and more for each product.\n",
        "\n",
        "Note that this is a sample of a large dataset. The full dataset is available through Datafiniti.\n",
        "\n",
        "### Tasks:\n",
        "1. Data engineering\n",
        "2. Feature engineering\n",
        "3. Cluster to find patterns\n",
        "  - Kmeans\n",
        "  - Hierarchical clustering\n",
        "4. Evaluate metrics"
      ]
    },
    {
      "cell_type": "code",
      "metadata": {
        "id": "zYadtxv96YPX",
        "colab_type": "code",
        "colab": {}
      },
      "source": [
        "import pandas as pd\n",
        "import matplotlib.pyplot as plt\n",
        "import seaborn as sns\n",
        "\n",
        "from sklearn.preprocessing import LabelEncoder, StandardScaler\n",
        "from sklearn.feature_extraction.text import TfidfVectorizer, CountVectorizer\n",
        "\n",
        "import scipy\n",
        "from sklearn.decomposition import TruncatedSVD\n",
        "\n",
        "from sklearn.cluster import KMeans\n",
        "from sklearn.metrics import silhouette_score\n",
        "\n",
        "sns.set(style='whitegrid')\n",
        "\n",
        "%matplotlib inline"
      ],
      "execution_count": 0,
      "outputs": []
    },
    {
      "cell_type": "code",
      "metadata": {
        "id": "76OrBw1D6YPa",
        "colab_type": "code",
        "outputId": "f0aaadc2-656e-43eb-8358-3942ecd3113f",
        "colab": {
          "base_uri": "https://localhost:8080/",
          "height": 551
        }
      },
      "source": [
        "df = pd.read_csv('https://github.com/lisaong/mldds-courseware/blob/master/data/amazon-reviews/Datafiniti_Amazon_Consumer_Reviews_of_Amazon_Products.csv?raw=true')\n",
        "df.head()"
      ],
      "execution_count": 0,
      "outputs": [
        {
          "output_type": "execute_result",
          "data": {
            "text/html": [
              "<div>\n",
              "<style scoped>\n",
              "    .dataframe tbody tr th:only-of-type {\n",
              "        vertical-align: middle;\n",
              "    }\n",
              "\n",
              "    .dataframe tbody tr th {\n",
              "        vertical-align: top;\n",
              "    }\n",
              "\n",
              "    .dataframe thead th {\n",
              "        text-align: right;\n",
              "    }\n",
              "</style>\n",
              "<table border=\"1\" class=\"dataframe\">\n",
              "  <thead>\n",
              "    <tr style=\"text-align: right;\">\n",
              "      <th></th>\n",
              "      <th>id</th>\n",
              "      <th>dateAdded</th>\n",
              "      <th>dateUpdated</th>\n",
              "      <th>name</th>\n",
              "      <th>asins</th>\n",
              "      <th>brand</th>\n",
              "      <th>categories</th>\n",
              "      <th>primaryCategories</th>\n",
              "      <th>imageURLs</th>\n",
              "      <th>keys</th>\n",
              "      <th>manufacturer</th>\n",
              "      <th>manufacturerNumber</th>\n",
              "      <th>reviews.date</th>\n",
              "      <th>reviews.dateAdded</th>\n",
              "      <th>reviews.dateSeen</th>\n",
              "      <th>reviews.doRecommend</th>\n",
              "      <th>reviews.id</th>\n",
              "      <th>reviews.numHelpful</th>\n",
              "      <th>reviews.rating</th>\n",
              "      <th>reviews.sourceURLs</th>\n",
              "      <th>reviews.text</th>\n",
              "      <th>reviews.title</th>\n",
              "      <th>reviews.username</th>\n",
              "      <th>sourceURLs</th>\n",
              "    </tr>\n",
              "  </thead>\n",
              "  <tbody>\n",
              "    <tr>\n",
              "      <th>0</th>\n",
              "      <td>AVqVGZNvQMlgsOJE6eUY</td>\n",
              "      <td>2017-03-03T16:56:05Z</td>\n",
              "      <td>2018-10-25T16:36:31Z</td>\n",
              "      <td>Amazon Kindle E-Reader 6\" Wifi (8th Generation...</td>\n",
              "      <td>B00ZV9PXP2</td>\n",
              "      <td>Amazon</td>\n",
              "      <td>Computers,Electronics Features,Tablets,Electro...</td>\n",
              "      <td>Electronics</td>\n",
              "      <td>https://pisces.bbystatic.com/image2/BestBuy_US...</td>\n",
              "      <td>allnewkindleereaderblack6glarefreetouchscreend...</td>\n",
              "      <td>Amazon</td>\n",
              "      <td>B00ZV9PXP2</td>\n",
              "      <td>2017-09-03T00:00:00.000Z</td>\n",
              "      <td>NaN</td>\n",
              "      <td>2018-05-27T00:00:00Z,2017-09-18T00:00:00Z,2017...</td>\n",
              "      <td>False</td>\n",
              "      <td>NaN</td>\n",
              "      <td>0</td>\n",
              "      <td>3</td>\n",
              "      <td>http://reviews.bestbuy.com/3545/5442403/review...</td>\n",
              "      <td>I thought it would be as big as small paper bu...</td>\n",
              "      <td>Too small</td>\n",
              "      <td>llyyue</td>\n",
              "      <td>https://www.newegg.com/Product/Product.aspx%25...</td>\n",
              "    </tr>\n",
              "    <tr>\n",
              "      <th>1</th>\n",
              "      <td>AVqVGZNvQMlgsOJE6eUY</td>\n",
              "      <td>2017-03-03T16:56:05Z</td>\n",
              "      <td>2018-10-25T16:36:31Z</td>\n",
              "      <td>Amazon Kindle E-Reader 6\" Wifi (8th Generation...</td>\n",
              "      <td>B00ZV9PXP2</td>\n",
              "      <td>Amazon</td>\n",
              "      <td>Computers,Electronics Features,Tablets,Electro...</td>\n",
              "      <td>Electronics</td>\n",
              "      <td>https://pisces.bbystatic.com/image2/BestBuy_US...</td>\n",
              "      <td>allnewkindleereaderblack6glarefreetouchscreend...</td>\n",
              "      <td>Amazon</td>\n",
              "      <td>B00ZV9PXP2</td>\n",
              "      <td>2017-06-06T00:00:00.000Z</td>\n",
              "      <td>NaN</td>\n",
              "      <td>2018-05-27T00:00:00Z,2017-07-07T00:00:00Z,2017...</td>\n",
              "      <td>True</td>\n",
              "      <td>NaN</td>\n",
              "      <td>0</td>\n",
              "      <td>5</td>\n",
              "      <td>http://reviews.bestbuy.com/3545/5442403/review...</td>\n",
              "      <td>This kindle is light and easy to use especiall...</td>\n",
              "      <td>Great light reader. Easy to use at the beach</td>\n",
              "      <td>Charmi</td>\n",
              "      <td>https://www.newegg.com/Product/Product.aspx%25...</td>\n",
              "    </tr>\n",
              "    <tr>\n",
              "      <th>2</th>\n",
              "      <td>AVqVGZNvQMlgsOJE6eUY</td>\n",
              "      <td>2017-03-03T16:56:05Z</td>\n",
              "      <td>2018-10-25T16:36:31Z</td>\n",
              "      <td>Amazon Kindle E-Reader 6\" Wifi (8th Generation...</td>\n",
              "      <td>B00ZV9PXP2</td>\n",
              "      <td>Amazon</td>\n",
              "      <td>Computers,Electronics Features,Tablets,Electro...</td>\n",
              "      <td>Electronics</td>\n",
              "      <td>https://pisces.bbystatic.com/image2/BestBuy_US...</td>\n",
              "      <td>allnewkindleereaderblack6glarefreetouchscreend...</td>\n",
              "      <td>Amazon</td>\n",
              "      <td>B00ZV9PXP2</td>\n",
              "      <td>2018-04-20T00:00:00.000Z</td>\n",
              "      <td>NaN</td>\n",
              "      <td>2018-05-27T00:00:00Z</td>\n",
              "      <td>True</td>\n",
              "      <td>NaN</td>\n",
              "      <td>0</td>\n",
              "      <td>4</td>\n",
              "      <td>https://reviews.bestbuy.com/3545/5442403/revie...</td>\n",
              "      <td>Didnt know how much i'd use a kindle so went f...</td>\n",
              "      <td>Great for the price</td>\n",
              "      <td>johnnyjojojo</td>\n",
              "      <td>https://www.newegg.com/Product/Product.aspx%25...</td>\n",
              "    </tr>\n",
              "    <tr>\n",
              "      <th>3</th>\n",
              "      <td>AVqVGZNvQMlgsOJE6eUY</td>\n",
              "      <td>2017-03-03T16:56:05Z</td>\n",
              "      <td>2018-10-25T16:36:31Z</td>\n",
              "      <td>Amazon Kindle E-Reader 6\" Wifi (8th Generation...</td>\n",
              "      <td>B00ZV9PXP2</td>\n",
              "      <td>Amazon</td>\n",
              "      <td>Computers,Electronics Features,Tablets,Electro...</td>\n",
              "      <td>Electronics</td>\n",
              "      <td>https://pisces.bbystatic.com/image2/BestBuy_US...</td>\n",
              "      <td>allnewkindleereaderblack6glarefreetouchscreend...</td>\n",
              "      <td>Amazon</td>\n",
              "      <td>B00ZV9PXP2</td>\n",
              "      <td>2017-11-02T17:33:31.000Z</td>\n",
              "      <td>NaN</td>\n",
              "      <td>2018-10-09T00:00:00Z</td>\n",
              "      <td>True</td>\n",
              "      <td>177283626.0</td>\n",
              "      <td>3</td>\n",
              "      <td>5</td>\n",
              "      <td>https://redsky.target.com/groot-domain-api/v1/...</td>\n",
              "      <td>I am 100 happy with my purchase. I caught it o...</td>\n",
              "      <td>A Great Buy</td>\n",
              "      <td>Kdperry</td>\n",
              "      <td>https://www.newegg.com/Product/Product.aspx%25...</td>\n",
              "    </tr>\n",
              "    <tr>\n",
              "      <th>4</th>\n",
              "      <td>AVqVGZNvQMlgsOJE6eUY</td>\n",
              "      <td>2017-03-03T16:56:05Z</td>\n",
              "      <td>2018-10-25T16:36:31Z</td>\n",
              "      <td>Amazon Kindle E-Reader 6\" Wifi (8th Generation...</td>\n",
              "      <td>B00ZV9PXP2</td>\n",
              "      <td>Amazon</td>\n",
              "      <td>Computers,Electronics Features,Tablets,Electro...</td>\n",
              "      <td>Electronics</td>\n",
              "      <td>https://pisces.bbystatic.com/image2/BestBuy_US...</td>\n",
              "      <td>allnewkindleereaderblack6glarefreetouchscreend...</td>\n",
              "      <td>Amazon</td>\n",
              "      <td>B00ZV9PXP2</td>\n",
              "      <td>2018-04-24T00:00:00.000Z</td>\n",
              "      <td>NaN</td>\n",
              "      <td>2018-05-27T00:00:00Z</td>\n",
              "      <td>True</td>\n",
              "      <td>NaN</td>\n",
              "      <td>0</td>\n",
              "      <td>5</td>\n",
              "      <td>https://reviews.bestbuy.com/3545/5442403/revie...</td>\n",
              "      <td>Solid entry level Kindle. Great for kids. Gift...</td>\n",
              "      <td>Solid entry-level Kindle. Great for kids</td>\n",
              "      <td>Johnnyblack</td>\n",
              "      <td>https://www.newegg.com/Product/Product.aspx%25...</td>\n",
              "    </tr>\n",
              "  </tbody>\n",
              "</table>\n",
              "</div>"
            ],
            "text/plain": [
              "                     id  ...                                         sourceURLs\n",
              "0  AVqVGZNvQMlgsOJE6eUY  ...  https://www.newegg.com/Product/Product.aspx%25...\n",
              "1  AVqVGZNvQMlgsOJE6eUY  ...  https://www.newegg.com/Product/Product.aspx%25...\n",
              "2  AVqVGZNvQMlgsOJE6eUY  ...  https://www.newegg.com/Product/Product.aspx%25...\n",
              "3  AVqVGZNvQMlgsOJE6eUY  ...  https://www.newegg.com/Product/Product.aspx%25...\n",
              "4  AVqVGZNvQMlgsOJE6eUY  ...  https://www.newegg.com/Product/Product.aspx%25...\n",
              "\n",
              "[5 rows x 24 columns]"
            ]
          },
          "metadata": {
            "tags": []
          },
          "execution_count": 2
        }
      ]
    },
    {
      "cell_type": "markdown",
      "metadata": {
        "id": "0P42nU4v6YPd",
        "colab_type": "text"
      },
      "source": [
        "## Data Engineering\n",
        "\n",
        "Explore data to see which columns we would like to cluster"
      ]
    },
    {
      "cell_type": "code",
      "metadata": {
        "id": "H8vRKIiV6YPe",
        "colab_type": "code",
        "outputId": "d9e39262-0ffa-407d-9c61-a29343af1483",
        "colab": {
          "base_uri": "https://localhost:8080/",
          "height": 504
        }
      },
      "source": [
        "df.info()"
      ],
      "execution_count": 0,
      "outputs": [
        {
          "output_type": "stream",
          "text": [
            "<class 'pandas.core.frame.DataFrame'>\n",
            "RangeIndex: 5000 entries, 0 to 4999\n",
            "Data columns (total 24 columns):\n",
            "id                     5000 non-null object\n",
            "dateAdded              5000 non-null object\n",
            "dateUpdated            5000 non-null object\n",
            "name                   5000 non-null object\n",
            "asins                  5000 non-null object\n",
            "brand                  5000 non-null object\n",
            "categories             5000 non-null object\n",
            "primaryCategories      5000 non-null object\n",
            "imageURLs              5000 non-null object\n",
            "keys                   5000 non-null object\n",
            "manufacturer           5000 non-null object\n",
            "manufacturerNumber     5000 non-null object\n",
            "reviews.date           5000 non-null object\n",
            "reviews.dateAdded      1052 non-null object\n",
            "reviews.dateSeen       5000 non-null object\n",
            "reviews.doRecommend    5000 non-null bool\n",
            "reviews.id             29 non-null float64\n",
            "reviews.numHelpful     5000 non-null int64\n",
            "reviews.rating         5000 non-null int64\n",
            "reviews.sourceURLs     5000 non-null object\n",
            "reviews.text           5000 non-null object\n",
            "reviews.title          4987 non-null object\n",
            "reviews.username       5000 non-null object\n",
            "sourceURLs             5000 non-null object\n",
            "dtypes: bool(1), float64(1), int64(2), object(20)\n",
            "memory usage: 903.4+ KB\n"
          ],
          "name": "stdout"
        }
      ]
    },
    {
      "cell_type": "markdown",
      "metadata": {
        "id": "rnxM6ChG6YPg",
        "colab_type": "text"
      },
      "source": [
        "### Ignore columns\n",
        "\n",
        "Too unique: \n",
        "- id, dateAdded, dateUpdated, imageURLs, reviews.date*, reviews.id, reviews.sourceURLs, asins, sourceURLs\n",
        "\n",
        "Less relevant for finding patterns in reviews (maybe for other problems like supervised learning or recommender systems): \n",
        "- reviews.username, manufacturerNumber, manufacturer, reviews.numHelpful, reviews.rating, reviews.doRecommend, categories"
      ]
    },
    {
      "cell_type": "code",
      "metadata": {
        "id": "Boe2cvbj6YPh",
        "colab_type": "code",
        "outputId": "005408e6-222f-4df3-a8d6-a57cab878b9c",
        "colab": {
          "base_uri": "https://localhost:8080/",
          "height": 279
        }
      },
      "source": [
        "columns = ['name', 'brand', 'primaryCategories', 'reviews.title', 'reviews.text']\n",
        "\n",
        "df = df[columns]\n",
        "df.head()"
      ],
      "execution_count": 0,
      "outputs": [
        {
          "output_type": "execute_result",
          "data": {
            "text/html": [
              "<div>\n",
              "<style scoped>\n",
              "    .dataframe tbody tr th:only-of-type {\n",
              "        vertical-align: middle;\n",
              "    }\n",
              "\n",
              "    .dataframe tbody tr th {\n",
              "        vertical-align: top;\n",
              "    }\n",
              "\n",
              "    .dataframe thead th {\n",
              "        text-align: right;\n",
              "    }\n",
              "</style>\n",
              "<table border=\"1\" class=\"dataframe\">\n",
              "  <thead>\n",
              "    <tr style=\"text-align: right;\">\n",
              "      <th></th>\n",
              "      <th>name</th>\n",
              "      <th>brand</th>\n",
              "      <th>primaryCategories</th>\n",
              "      <th>reviews.title</th>\n",
              "      <th>reviews.text</th>\n",
              "    </tr>\n",
              "  </thead>\n",
              "  <tbody>\n",
              "    <tr>\n",
              "      <th>0</th>\n",
              "      <td>Amazon Kindle E-Reader 6\" Wifi (8th Generation...</td>\n",
              "      <td>Amazon</td>\n",
              "      <td>Electronics</td>\n",
              "      <td>Too small</td>\n",
              "      <td>I thought it would be as big as small paper bu...</td>\n",
              "    </tr>\n",
              "    <tr>\n",
              "      <th>1</th>\n",
              "      <td>Amazon Kindle E-Reader 6\" Wifi (8th Generation...</td>\n",
              "      <td>Amazon</td>\n",
              "      <td>Electronics</td>\n",
              "      <td>Great light reader. Easy to use at the beach</td>\n",
              "      <td>This kindle is light and easy to use especiall...</td>\n",
              "    </tr>\n",
              "    <tr>\n",
              "      <th>2</th>\n",
              "      <td>Amazon Kindle E-Reader 6\" Wifi (8th Generation...</td>\n",
              "      <td>Amazon</td>\n",
              "      <td>Electronics</td>\n",
              "      <td>Great for the price</td>\n",
              "      <td>Didnt know how much i'd use a kindle so went f...</td>\n",
              "    </tr>\n",
              "    <tr>\n",
              "      <th>3</th>\n",
              "      <td>Amazon Kindle E-Reader 6\" Wifi (8th Generation...</td>\n",
              "      <td>Amazon</td>\n",
              "      <td>Electronics</td>\n",
              "      <td>A Great Buy</td>\n",
              "      <td>I am 100 happy with my purchase. I caught it o...</td>\n",
              "    </tr>\n",
              "    <tr>\n",
              "      <th>4</th>\n",
              "      <td>Amazon Kindle E-Reader 6\" Wifi (8th Generation...</td>\n",
              "      <td>Amazon</td>\n",
              "      <td>Electronics</td>\n",
              "      <td>Solid entry-level Kindle. Great for kids</td>\n",
              "      <td>Solid entry level Kindle. Great for kids. Gift...</td>\n",
              "    </tr>\n",
              "  </tbody>\n",
              "</table>\n",
              "</div>"
            ],
            "text/plain": [
              "                                                name  ...                                       reviews.text\n",
              "0  Amazon Kindle E-Reader 6\" Wifi (8th Generation...  ...  I thought it would be as big as small paper bu...\n",
              "1  Amazon Kindle E-Reader 6\" Wifi (8th Generation...  ...  This kindle is light and easy to use especiall...\n",
              "2  Amazon Kindle E-Reader 6\" Wifi (8th Generation...  ...  Didnt know how much i'd use a kindle so went f...\n",
              "3  Amazon Kindle E-Reader 6\" Wifi (8th Generation...  ...  I am 100 happy with my purchase. I caught it o...\n",
              "4  Amazon Kindle E-Reader 6\" Wifi (8th Generation...  ...  Solid entry level Kindle. Great for kids. Gift...\n",
              "\n",
              "[5 rows x 5 columns]"
            ]
          },
          "metadata": {
            "tags": []
          },
          "execution_count": 4
        }
      ]
    },
    {
      "cell_type": "code",
      "metadata": {
        "id": "mCPV-X3d6YPi",
        "colab_type": "code",
        "outputId": "34db138c-a7a2-4644-ab93-ca9c416987bc",
        "colab": {
          "base_uri": "https://localhost:8080/",
          "height": 185
        }
      },
      "source": [
        "df.info()"
      ],
      "execution_count": 0,
      "outputs": [
        {
          "output_type": "stream",
          "text": [
            "<class 'pandas.core.frame.DataFrame'>\n",
            "RangeIndex: 5000 entries, 0 to 4999\n",
            "Data columns (total 5 columns):\n",
            "name                 5000 non-null object\n",
            "brand                5000 non-null object\n",
            "primaryCategories    5000 non-null object\n",
            "reviews.title        4987 non-null object\n",
            "reviews.text         5000 non-null object\n",
            "dtypes: object(5)\n",
            "memory usage: 195.4+ KB\n"
          ],
          "name": "stdout"
        }
      ]
    },
    {
      "cell_type": "markdown",
      "metadata": {
        "id": "F58gi_056YPk",
        "colab_type": "text"
      },
      "source": [
        "## Clean missing values"
      ]
    },
    {
      "cell_type": "code",
      "metadata": {
        "id": "ADVJ8xcJ6YPl",
        "colab_type": "code",
        "outputId": "df28e6ab-7f98-4f1c-fab5-babeab0599ca",
        "colab": {
          "base_uri": "https://localhost:8080/",
          "height": 432
        }
      },
      "source": [
        "mask = df['reviews.title'].isnull()\n",
        "df[mask]"
      ],
      "execution_count": 0,
      "outputs": [
        {
          "output_type": "execute_result",
          "data": {
            "text/html": [
              "<div>\n",
              "<style scoped>\n",
              "    .dataframe tbody tr th:only-of-type {\n",
              "        vertical-align: middle;\n",
              "    }\n",
              "\n",
              "    .dataframe tbody tr th {\n",
              "        vertical-align: top;\n",
              "    }\n",
              "\n",
              "    .dataframe thead th {\n",
              "        text-align: right;\n",
              "    }\n",
              "</style>\n",
              "<table border=\"1\" class=\"dataframe\">\n",
              "  <thead>\n",
              "    <tr style=\"text-align: right;\">\n",
              "      <th></th>\n",
              "      <th>name</th>\n",
              "      <th>brand</th>\n",
              "      <th>primaryCategories</th>\n",
              "      <th>reviews.title</th>\n",
              "      <th>reviews.text</th>\n",
              "    </tr>\n",
              "  </thead>\n",
              "  <tbody>\n",
              "    <tr>\n",
              "      <th>334</th>\n",
              "      <td>Amazon Echo Show Alexa-enabled Bluetooth Speak...</td>\n",
              "      <td>Amazon</td>\n",
              "      <td>Electronics,Hardware</td>\n",
              "      <td>NaN</td>\n",
              "      <td>I love it. It does so much and is so easy to u...</td>\n",
              "    </tr>\n",
              "    <tr>\n",
              "      <th>335</th>\n",
              "      <td>Amazon Echo Show Alexa-enabled Bluetooth Speak...</td>\n",
              "      <td>Amazon</td>\n",
              "      <td>Electronics,Hardware</td>\n",
              "      <td>NaN</td>\n",
              "      <td>I love the Echo show. I have found so many use...</td>\n",
              "    </tr>\n",
              "    <tr>\n",
              "      <th>347</th>\n",
              "      <td>Amazon Echo Show Alexa-enabled Bluetooth Speak...</td>\n",
              "      <td>Amazon</td>\n",
              "      <td>Electronics,Hardware</td>\n",
              "      <td>NaN</td>\n",
              "      <td>I bought the echo show for my mom for her birt...</td>\n",
              "    </tr>\n",
              "    <tr>\n",
              "      <th>395</th>\n",
              "      <td>Amazon Echo Show Alexa-enabled Bluetooth Speak...</td>\n",
              "      <td>Amazon</td>\n",
              "      <td>Electronics,Hardware</td>\n",
              "      <td>NaN</td>\n",
              "      <td>This was bought for a gift. But it looks nice....</td>\n",
              "    </tr>\n",
              "    <tr>\n",
              "      <th>476</th>\n",
              "      <td>Amazon Echo Show Alexa-enabled Bluetooth Speak...</td>\n",
              "      <td>Amazon</td>\n",
              "      <td>Electronics,Hardware</td>\n",
              "      <td>NaN</td>\n",
              "      <td>Its a lot more then we expected.this is a wond...</td>\n",
              "    </tr>\n",
              "    <tr>\n",
              "      <th>603</th>\n",
              "      <td>Amazon Echo Show Alexa-enabled Bluetooth Speak...</td>\n",
              "      <td>Amazon</td>\n",
              "      <td>Electronics,Hardware</td>\n",
              "      <td>NaN</td>\n",
              "      <td>Best New Adult Toy in years! Wish I had purcha...</td>\n",
              "    </tr>\n",
              "    <tr>\n",
              "      <th>618</th>\n",
              "      <td>Amazon Echo Show Alexa-enabled Bluetooth Speak...</td>\n",
              "      <td>Amazon</td>\n",
              "      <td>Electronics,Hardware</td>\n",
              "      <td>NaN</td>\n",
              "      <td>this is pretty cool, we love ours, we listen t...</td>\n",
              "    </tr>\n",
              "    <tr>\n",
              "      <th>734</th>\n",
              "      <td>Amazon Echo Show Alexa-enabled Bluetooth Speak...</td>\n",
              "      <td>Amazon</td>\n",
              "      <td>Electronics,Hardware</td>\n",
              "      <td>NaN</td>\n",
              "      <td>Delivered on time and it looked good will hook...</td>\n",
              "    </tr>\n",
              "    <tr>\n",
              "      <th>763</th>\n",
              "      <td>Amazon Echo Show Alexa-enabled Bluetooth Speak...</td>\n",
              "      <td>Amazon</td>\n",
              "      <td>Electronics,Hardware</td>\n",
              "      <td>NaN</td>\n",
              "      <td>Awesome so far. Have used it as alarm clock, s...</td>\n",
              "    </tr>\n",
              "    <tr>\n",
              "      <th>784</th>\n",
              "      <td>Amazon Echo Show Alexa-enabled Bluetooth Speak...</td>\n",
              "      <td>Amazon</td>\n",
              "      <td>Electronics,Hardware</td>\n",
              "      <td>NaN</td>\n",
              "      <td>Absolutely Love the echo Show! It is in my kit...</td>\n",
              "    </tr>\n",
              "    <tr>\n",
              "      <th>828</th>\n",
              "      <td>Amazon Echo Show Alexa-enabled Bluetooth Speak...</td>\n",
              "      <td>Amazon</td>\n",
              "      <td>Electronics,Hardware</td>\n",
              "      <td>NaN</td>\n",
              "      <td>This was bought for a gift. But it looks nice....</td>\n",
              "    </tr>\n",
              "    <tr>\n",
              "      <th>936</th>\n",
              "      <td>Amazon Echo Show Alexa-enabled Bluetooth Speak...</td>\n",
              "      <td>Amazon</td>\n",
              "      <td>Electronics,Hardware</td>\n",
              "      <td>NaN</td>\n",
              "      <td>Best New Adult Toy in years! Wish I had purcha...</td>\n",
              "    </tr>\n",
              "    <tr>\n",
              "      <th>943</th>\n",
              "      <td>Amazon Fire TV with 4K Ultra HD and Alexa Voic...</td>\n",
              "      <td>Amazon</td>\n",
              "      <td>Electronics</td>\n",
              "      <td>NaN</td>\n",
              "      <td>Really cool device! Instantly noticed the diff...</td>\n",
              "    </tr>\n",
              "  </tbody>\n",
              "</table>\n",
              "</div>"
            ],
            "text/plain": [
              "                                                  name  ...                                       reviews.text\n",
              "334  Amazon Echo Show Alexa-enabled Bluetooth Speak...  ...  I love it. It does so much and is so easy to u...\n",
              "335  Amazon Echo Show Alexa-enabled Bluetooth Speak...  ...  I love the Echo show. I have found so many use...\n",
              "347  Amazon Echo Show Alexa-enabled Bluetooth Speak...  ...  I bought the echo show for my mom for her birt...\n",
              "395  Amazon Echo Show Alexa-enabled Bluetooth Speak...  ...  This was bought for a gift. But it looks nice....\n",
              "476  Amazon Echo Show Alexa-enabled Bluetooth Speak...  ...  Its a lot more then we expected.this is a wond...\n",
              "603  Amazon Echo Show Alexa-enabled Bluetooth Speak...  ...  Best New Adult Toy in years! Wish I had purcha...\n",
              "618  Amazon Echo Show Alexa-enabled Bluetooth Speak...  ...  this is pretty cool, we love ours, we listen t...\n",
              "734  Amazon Echo Show Alexa-enabled Bluetooth Speak...  ...  Delivered on time and it looked good will hook...\n",
              "763  Amazon Echo Show Alexa-enabled Bluetooth Speak...  ...  Awesome so far. Have used it as alarm clock, s...\n",
              "784  Amazon Echo Show Alexa-enabled Bluetooth Speak...  ...  Absolutely Love the echo Show! It is in my kit...\n",
              "828  Amazon Echo Show Alexa-enabled Bluetooth Speak...  ...  This was bought for a gift. But it looks nice....\n",
              "936  Amazon Echo Show Alexa-enabled Bluetooth Speak...  ...  Best New Adult Toy in years! Wish I had purcha...\n",
              "943  Amazon Fire TV with 4K Ultra HD and Alexa Voic...  ...  Really cool device! Instantly noticed the diff...\n",
              "\n",
              "[13 rows x 5 columns]"
            ]
          },
          "metadata": {
            "tags": []
          },
          "execution_count": 6
        }
      ]
    },
    {
      "cell_type": "code",
      "metadata": {
        "id": "Iqinrp3P6YPm",
        "colab_type": "code",
        "outputId": "d359316e-56c7-4c17-ae7c-11a3ae70a7db",
        "colab": {
          "base_uri": "https://localhost:8080/",
          "height": 67
        }
      },
      "source": [
        "df[mask]['name'].value_counts()"
      ],
      "execution_count": 0,
      "outputs": [
        {
          "output_type": "execute_result",
          "data": {
            "text/plain": [
              "Amazon Echo Show Alexa-enabled Bluetooth Speaker with 7\" Screen                                     12\n",
              "Amazon Fire TV with 4K Ultra HD and Alexa Voice Remote (Pendant Design) | Streaming Media Player     1\n",
              "Name: name, dtype: int64"
            ]
          },
          "metadata": {
            "tags": []
          },
          "execution_count": 7
        }
      ]
    },
    {
      "cell_type": "markdown",
      "metadata": {
        "id": "3Ec-FhG-6YPp",
        "colab_type": "text"
      },
      "source": [
        "Most of the null values belong to two types of products...\n",
        "\n",
        "Let's see how many total reviews are available for these products."
      ]
    },
    {
      "cell_type": "code",
      "metadata": {
        "id": "Ikeq7wxM6YPq",
        "colab_type": "code",
        "outputId": "b9da7afa-f73a-462a-d541-6b9bdb1b0829",
        "colab": {
          "base_uri": "https://localhost:8080/",
          "height": 50
        }
      },
      "source": [
        "alexa_mask = df['name'] == 'Amazon Echo Show Alexa-enabled Bluetooth Speaker with 7\" Screen'\n",
        "\n",
        "# count how many total with this name\n",
        "df[alexa_mask]['name'].value_counts()"
      ],
      "execution_count": 0,
      "outputs": [
        {
          "output_type": "execute_result",
          "data": {
            "text/plain": [
              "Amazon Echo Show Alexa-enabled Bluetooth Speaker with 7\" Screen    845\n",
              "Name: name, dtype: int64"
            ]
          },
          "metadata": {
            "tags": []
          },
          "execution_count": 8
        }
      ]
    },
    {
      "cell_type": "code",
      "metadata": {
        "id": "agSKFRY56YPs",
        "colab_type": "code",
        "outputId": "3a941ed9-4f9e-46f8-a6ea-35eeeb8e8669",
        "colab": {
          "base_uri": "https://localhost:8080/",
          "height": 34
        }
      },
      "source": [
        "12/845 * 100"
      ],
      "execution_count": 0,
      "outputs": [
        {
          "output_type": "execute_result",
          "data": {
            "text/plain": [
              "1.4201183431952662"
            ]
          },
          "metadata": {
            "tags": []
          },
          "execution_count": 9
        }
      ]
    },
    {
      "cell_type": "markdown",
      "metadata": {
        "id": "xv7ZCzh56YPv",
        "colab_type": "text"
      },
      "source": [
        "So... we can actually afford to drop the 12 reviews because there are 845 total (1.4% only).\n",
        "\n",
        "However, another option is to fill the NaN with empty string (= no title provided)."
      ]
    },
    {
      "cell_type": "code",
      "metadata": {
        "id": "1HFoVSOu6YPw",
        "colab_type": "code",
        "outputId": "f370ecd4-17a9-463f-b2f7-4b166de98e75",
        "colab": {
          "base_uri": "https://localhost:8080/",
          "height": 50
        }
      },
      "source": [
        "firetv_mask = df['name'] == 'Amazon Fire TV with 4K Ultra HD and Alexa Voice Remote (Pendant Design) | Streaming Media Player'\n",
        "\n",
        "df[firetv_mask]['name'].value_counts()"
      ],
      "execution_count": 0,
      "outputs": [
        {
          "output_type": "execute_result",
          "data": {
            "text/plain": [
              "Amazon Fire TV with 4K Ultra HD and Alexa Voice Remote (Pendant Design) | Streaming Media Player    4\n",
              "Name: name, dtype: int64"
            ]
          },
          "metadata": {
            "tags": []
          },
          "execution_count": 10
        }
      ]
    },
    {
      "cell_type": "code",
      "metadata": {
        "id": "SqVqrdsY6YPx",
        "colab_type": "code",
        "outputId": "7a3ea183-48e7-4ab0-d82e-d6d0a4bfdf80",
        "colab": {
          "base_uri": "https://localhost:8080/",
          "height": 233
        }
      },
      "source": [
        "df[firetv_mask]"
      ],
      "execution_count": 0,
      "outputs": [
        {
          "output_type": "execute_result",
          "data": {
            "text/html": [
              "<div>\n",
              "<style scoped>\n",
              "    .dataframe tbody tr th:only-of-type {\n",
              "        vertical-align: middle;\n",
              "    }\n",
              "\n",
              "    .dataframe tbody tr th {\n",
              "        vertical-align: top;\n",
              "    }\n",
              "\n",
              "    .dataframe thead th {\n",
              "        text-align: right;\n",
              "    }\n",
              "</style>\n",
              "<table border=\"1\" class=\"dataframe\">\n",
              "  <thead>\n",
              "    <tr style=\"text-align: right;\">\n",
              "      <th></th>\n",
              "      <th>name</th>\n",
              "      <th>brand</th>\n",
              "      <th>primaryCategories</th>\n",
              "      <th>reviews.title</th>\n",
              "      <th>reviews.text</th>\n",
              "    </tr>\n",
              "  </thead>\n",
              "  <tbody>\n",
              "    <tr>\n",
              "      <th>941</th>\n",
              "      <td>Amazon Fire TV with 4K Ultra HD and Alexa Voic...</td>\n",
              "      <td>Amazon</td>\n",
              "      <td>Electronics</td>\n",
              "      <td>Awesome!</td>\n",
              "      <td>A lazy mans drean when it is combined with Ale...</td>\n",
              "    </tr>\n",
              "    <tr>\n",
              "      <th>942</th>\n",
              "      <td>Amazon Fire TV with 4K Ultra HD and Alexa Voic...</td>\n",
              "      <td>Amazon</td>\n",
              "      <td>Electronics</td>\n",
              "      <td>This is a great piece of equipment</td>\n",
              "      <td>I really enjoy my Fire stick. It's really easy...</td>\n",
              "    </tr>\n",
              "    <tr>\n",
              "      <th>943</th>\n",
              "      <td>Amazon Fire TV with 4K Ultra HD and Alexa Voic...</td>\n",
              "      <td>Amazon</td>\n",
              "      <td>Electronics</td>\n",
              "      <td>NaN</td>\n",
              "      <td>Really cool device! Instantly noticed the diff...</td>\n",
              "    </tr>\n",
              "    <tr>\n",
              "      <th>944</th>\n",
              "      <td>Amazon Fire TV with 4K Ultra HD and Alexa Voic...</td>\n",
              "      <td>Amazon</td>\n",
              "      <td>Electronics</td>\n",
              "      <td>love it!</td>\n",
              "      <td>Love it! Works great. One in each of the main ...</td>\n",
              "    </tr>\n",
              "  </tbody>\n",
              "</table>\n",
              "</div>"
            ],
            "text/plain": [
              "                                                  name  ...                                       reviews.text\n",
              "941  Amazon Fire TV with 4K Ultra HD and Alexa Voic...  ...  A lazy mans drean when it is combined with Ale...\n",
              "942  Amazon Fire TV with 4K Ultra HD and Alexa Voic...  ...  I really enjoy my Fire stick. It's really easy...\n",
              "943  Amazon Fire TV with 4K Ultra HD and Alexa Voic...  ...  Really cool device! Instantly noticed the diff...\n",
              "944  Amazon Fire TV with 4K Ultra HD and Alexa Voic...  ...  Love it! Works great. One in each of the main ...\n",
              "\n",
              "[4 rows x 5 columns]"
            ]
          },
          "metadata": {
            "tags": []
          },
          "execution_count": 11
        }
      ]
    },
    {
      "cell_type": "markdown",
      "metadata": {
        "id": "jv2GwlkT6YPz",
        "colab_type": "text"
      },
      "source": [
        "For this product, we should keep the review because it is 1 out of 4.\n",
        "\n",
        "Recommendation: Let's fill the NaN with empty string."
      ]
    },
    {
      "cell_type": "code",
      "metadata": {
        "id": "ydbxrtqJ6YPz",
        "colab_type": "code",
        "outputId": "0e5b3e15-89af-45b9-92d1-d2e07d44f2a4",
        "colab": {
          "base_uri": "https://localhost:8080/",
          "height": 185
        }
      },
      "source": [
        "# Fill NA for just the reviews.title column\n",
        "#    Substituting with empty string\n",
        "#    inplace = True means updating the original DF instead of\n",
        "#    returning a copy\n",
        "df.fillna({'reviews.title': ''}, inplace=True)\n",
        "df.info()"
      ],
      "execution_count": 0,
      "outputs": [
        {
          "output_type": "stream",
          "text": [
            "<class 'pandas.core.frame.DataFrame'>\n",
            "RangeIndex: 5000 entries, 0 to 4999\n",
            "Data columns (total 5 columns):\n",
            "name                 5000 non-null object\n",
            "brand                5000 non-null object\n",
            "primaryCategories    5000 non-null object\n",
            "reviews.title        5000 non-null object\n",
            "reviews.text         5000 non-null object\n",
            "dtypes: object(5)\n",
            "memory usage: 195.4+ KB\n"
          ],
          "name": "stdout"
        }
      ]
    },
    {
      "cell_type": "markdown",
      "metadata": {
        "id": "2dcTlOgg6YP1",
        "colab_type": "text"
      },
      "source": [
        "## Encoding\n",
        "\n",
        "Let's see if we should encode any columns from string to number."
      ]
    },
    {
      "cell_type": "code",
      "metadata": {
        "id": "dVY2iF5y6YP1",
        "colab_type": "code",
        "outputId": "f27a48f0-85ff-40ed-e4f6-3799b8e0ff65",
        "colab": {
          "base_uri": "https://localhost:8080/",
          "height": 101
        }
      },
      "source": [
        "df['primaryCategories'].value_counts()"
      ],
      "execution_count": 0,
      "outputs": [
        {
          "output_type": "execute_result",
          "data": {
            "text/plain": [
              "Electronics                    3276\n",
              "Electronics,Hardware           1435\n",
              "Office Supplies,Electronics     265\n",
              "Electronics,Media                24\n",
              "Name: primaryCategories, dtype: int64"
            ]
          },
          "metadata": {
            "tags": []
          },
          "execution_count": 13
        }
      ]
    },
    {
      "cell_type": "code",
      "metadata": {
        "id": "YV563seg6YP3",
        "colab_type": "code",
        "outputId": "27c018cd-be52-4b92-d7f7-6b58df6b139e",
        "colab": {
          "base_uri": "https://localhost:8080/",
          "height": 420
        }
      },
      "source": [
        "df['name'].value_counts()"
      ],
      "execution_count": 0,
      "outputs": [
        {
          "output_type": "execute_result",
          "data": {
            "text/plain": [
              "Amazon Echo Show Alexa-enabled Bluetooth Speaker with 7\" Screen                                                                     845\n",
              "All-New Fire HD 8 Tablet, 8\" HD Display, Wi-Fi, 16 GB - Includes Special Offers, Magenta                                            797\n",
              "Amazon - Echo Plus w/ Built-In Hub - Silver                                                                                         590\n",
              "Fire Kids Edition Tablet, 7 Display, Wi-Fi, 16 GB, Blue Kid-Proof Case                                                              561\n",
              "Brand New Amazon Kindle Fire 16gb 7\" Ips Display Tablet Wifi 16 Gb Blue                                                             467\n",
              "Fire Tablet, 7 Display, Wi-Fi, 16 GB - Includes Special Offers, Black                                                               371\n",
              "Amazon Tap - Alexa-Enabled Portable Bluetooth Speaker                                                                               225\n",
              "Fire Kids Edition Tablet, 7 Display, Wi-Fi, 16 GB, Green Kid-Proof Case                                                             217\n",
              "Kindle E-reader - White, 6 Glare-Free Touchscreen Display, Wi-Fi - Includes Special Offers                                          159\n",
              "Fire HD 10 Tablet, 10.1 HD Display, Wi-Fi, 16 GB - Includes Special Offers, Silver Aluminum                                         106\n",
              "Fire Tablet with Alexa, 7\" Display, 16 GB, Magenta - with Special Offers                                                            101\n",
              "Amazon Kindle E-Reader 6\" Wifi (8th Generation, 2016)                                                                                96\n",
              "Amazon - Kindle Voyage - 6\" - 4GB - Black                                                                                            82\n",
              "All-New Fire HD 8 Tablet, 8 HD Display, Wi-Fi, 32 GB - Includes Special Offers, Blue                                                 70\n",
              "All-New Fire HD 8 Tablet, 8\" HD Display, Wi-Fi, 32 GB - Includes Special Offers, Black                                               58\n",
              "Fire HD 8 Tablet with Alexa, 8\" HD Display, 32 GB, Tangerine - with Special Offers                                                   53\n",
              "All-New Fire HD 8 Tablet, 8 HD Display, Wi-Fi, 16 GB - Includes Special Offers, Blue                                                 51\n",
              "All-New Fire HD 8 Tablet, 8\" HD Display, Wi-Fi, 32 GB - Includes Special Offers, Magenta                                             40\n",
              "Kindle Oasis E-reader with Leather Charging Cover - Black, 6\" High-Resolution Display (300 ppi), Wi-Fi - Includes Special Offers     39\n",
              "Kindle Oasis E-reader with Leather Charging Cover - Merlot, 6 High-Resolution Display (300 ppi), Wi-Fi - Includes Special Offers     24\n",
              "Amazon - Kindle Voyage - 4GB - Wi-Fi + 3G - Black                                                                                    22\n",
              "Amazon 9W PowerFast Official OEM USB Charger and Power Adapter for Fire Tablets and Kindle eReaders                                  22\n",
              "Amazon Fire TV with 4K Ultra HD and Alexa Voice Remote (Pendant Design) | Streaming Media Player                                      4\n",
              "Name: name, dtype: int64"
            ]
          },
          "metadata": {
            "tags": []
          },
          "execution_count": 14
        }
      ]
    },
    {
      "cell_type": "code",
      "metadata": {
        "id": "Hfi7S_6u6YP5",
        "colab_type": "code",
        "outputId": "db66faf7-f7bf-4c6b-c711-218727947ace",
        "colab": {
          "base_uri": "https://localhost:8080/",
          "height": 50
        }
      },
      "source": [
        "df['brand'].value_counts()"
      ],
      "execution_count": 0,
      "outputs": [
        {
          "output_type": "execute_result",
          "data": {
            "text/plain": [
              "Amazon    5000\n",
              "Name: brand, dtype: int64"
            ]
          },
          "metadata": {
            "tags": []
          },
          "execution_count": 15
        }
      ]
    },
    {
      "cell_type": "markdown",
      "metadata": {
        "id": "qSOQzV096YP7",
        "colab_type": "text"
      },
      "source": [
        "In general, clustering works best if the data is not too similar.\n",
        "\n",
        "Recommendations:\n",
        "- Drop brand (all same value)\n",
        "- Drop primaryCategories (too similar)\n",
        "- One-hot encode the 'name' column (okay), but may choose not to use it later for clustering if the data is too similar."
      ]
    },
    {
      "cell_type": "code",
      "metadata": {
        "id": "6KRoMWlM6YP7",
        "colab_type": "code",
        "outputId": "0e28db00-0aaa-4bfb-f027-e7ee964e6b25",
        "colab": {
          "base_uri": "https://localhost:8080/",
          "height": 640
        }
      },
      "source": [
        "name_enc = pd.get_dummies(df[['name']])\n",
        "name_enc"
      ],
      "execution_count": 0,
      "outputs": [
        {
          "output_type": "execute_result",
          "data": {
            "text/html": [
              "<div>\n",
              "<style scoped>\n",
              "    .dataframe tbody tr th:only-of-type {\n",
              "        vertical-align: middle;\n",
              "    }\n",
              "\n",
              "    .dataframe tbody tr th {\n",
              "        vertical-align: top;\n",
              "    }\n",
              "\n",
              "    .dataframe thead th {\n",
              "        text-align: right;\n",
              "    }\n",
              "</style>\n",
              "<table border=\"1\" class=\"dataframe\">\n",
              "  <thead>\n",
              "    <tr style=\"text-align: right;\">\n",
              "      <th></th>\n",
              "      <th>name_All-New Fire HD 8 Tablet, 8 HD Display, Wi-Fi, 16 GB - Includes Special Offers, Blue</th>\n",
              "      <th>name_All-New Fire HD 8 Tablet, 8 HD Display, Wi-Fi, 32 GB - Includes Special Offers, Blue</th>\n",
              "      <th>name_All-New Fire HD 8 Tablet, 8\" HD Display, Wi-Fi, 16 GB - Includes Special Offers, Magenta</th>\n",
              "      <th>name_All-New Fire HD 8 Tablet, 8\" HD Display, Wi-Fi, 32 GB - Includes Special Offers, Black</th>\n",
              "      <th>name_All-New Fire HD 8 Tablet, 8\" HD Display, Wi-Fi, 32 GB - Includes Special Offers, Magenta</th>\n",
              "      <th>name_Amazon - Echo Plus w/ Built-In Hub - Silver</th>\n",
              "      <th>name_Amazon - Kindle Voyage - 4GB - Wi-Fi + 3G - Black</th>\n",
              "      <th>name_Amazon - Kindle Voyage - 6\" - 4GB - Black</th>\n",
              "      <th>name_Amazon 9W PowerFast Official OEM USB Charger and Power Adapter for Fire Tablets and Kindle eReaders</th>\n",
              "      <th>name_Amazon Echo Show Alexa-enabled Bluetooth Speaker with 7\" Screen</th>\n",
              "      <th>name_Amazon Fire TV with 4K Ultra HD and Alexa Voice Remote (Pendant Design) | Streaming Media Player</th>\n",
              "      <th>name_Amazon Kindle E-Reader 6\" Wifi (8th Generation, 2016)</th>\n",
              "      <th>name_Amazon Tap - Alexa-Enabled Portable Bluetooth Speaker</th>\n",
              "      <th>name_Brand New Amazon Kindle Fire 16gb 7\" Ips Display Tablet Wifi 16 Gb Blue</th>\n",
              "      <th>name_Fire HD 10 Tablet, 10.1 HD Display, Wi-Fi, 16 GB - Includes Special Offers, Silver Aluminum</th>\n",
              "      <th>name_Fire HD 8 Tablet with Alexa, 8\" HD Display, 32 GB, Tangerine - with Special Offers</th>\n",
              "      <th>name_Fire Kids Edition Tablet, 7 Display, Wi-Fi, 16 GB, Blue Kid-Proof Case</th>\n",
              "      <th>name_Fire Kids Edition Tablet, 7 Display, Wi-Fi, 16 GB, Green Kid-Proof Case</th>\n",
              "      <th>name_Fire Tablet with Alexa, 7\" Display, 16 GB, Magenta - with Special Offers</th>\n",
              "      <th>name_Fire Tablet, 7 Display, Wi-Fi, 16 GB - Includes Special Offers, Black</th>\n",
              "      <th>name_Kindle E-reader - White, 6 Glare-Free Touchscreen Display, Wi-Fi - Includes Special Offers</th>\n",
              "      <th>name_Kindle Oasis E-reader with Leather Charging Cover - Black, 6\" High-Resolution Display (300 ppi), Wi-Fi - Includes Special Offers</th>\n",
              "      <th>name_Kindle Oasis E-reader with Leather Charging Cover - Merlot, 6 High-Resolution Display (300 ppi), Wi-Fi - Includes Special Offers</th>\n",
              "    </tr>\n",
              "  </thead>\n",
              "  <tbody>\n",
              "    <tr>\n",
              "      <th>0</th>\n",
              "      <td>0</td>\n",
              "      <td>0</td>\n",
              "      <td>0</td>\n",
              "      <td>0</td>\n",
              "      <td>0</td>\n",
              "      <td>0</td>\n",
              "      <td>0</td>\n",
              "      <td>0</td>\n",
              "      <td>0</td>\n",
              "      <td>0</td>\n",
              "      <td>0</td>\n",
              "      <td>1</td>\n",
              "      <td>0</td>\n",
              "      <td>0</td>\n",
              "      <td>0</td>\n",
              "      <td>0</td>\n",
              "      <td>0</td>\n",
              "      <td>0</td>\n",
              "      <td>0</td>\n",
              "      <td>0</td>\n",
              "      <td>0</td>\n",
              "      <td>0</td>\n",
              "      <td>0</td>\n",
              "    </tr>\n",
              "    <tr>\n",
              "      <th>1</th>\n",
              "      <td>0</td>\n",
              "      <td>0</td>\n",
              "      <td>0</td>\n",
              "      <td>0</td>\n",
              "      <td>0</td>\n",
              "      <td>0</td>\n",
              "      <td>0</td>\n",
              "      <td>0</td>\n",
              "      <td>0</td>\n",
              "      <td>0</td>\n",
              "      <td>0</td>\n",
              "      <td>1</td>\n",
              "      <td>0</td>\n",
              "      <td>0</td>\n",
              "      <td>0</td>\n",
              "      <td>0</td>\n",
              "      <td>0</td>\n",
              "      <td>0</td>\n",
              "      <td>0</td>\n",
              "      <td>0</td>\n",
              "      <td>0</td>\n",
              "      <td>0</td>\n",
              "      <td>0</td>\n",
              "    </tr>\n",
              "    <tr>\n",
              "      <th>2</th>\n",
              "      <td>0</td>\n",
              "      <td>0</td>\n",
              "      <td>0</td>\n",
              "      <td>0</td>\n",
              "      <td>0</td>\n",
              "      <td>0</td>\n",
              "      <td>0</td>\n",
              "      <td>0</td>\n",
              "      <td>0</td>\n",
              "      <td>0</td>\n",
              "      <td>0</td>\n",
              "      <td>1</td>\n",
              "      <td>0</td>\n",
              "      <td>0</td>\n",
              "      <td>0</td>\n",
              "      <td>0</td>\n",
              "      <td>0</td>\n",
              "      <td>0</td>\n",
              "      <td>0</td>\n",
              "      <td>0</td>\n",
              "      <td>0</td>\n",
              "      <td>0</td>\n",
              "      <td>0</td>\n",
              "    </tr>\n",
              "    <tr>\n",
              "      <th>3</th>\n",
              "      <td>0</td>\n",
              "      <td>0</td>\n",
              "      <td>0</td>\n",
              "      <td>0</td>\n",
              "      <td>0</td>\n",
              "      <td>0</td>\n",
              "      <td>0</td>\n",
              "      <td>0</td>\n",
              "      <td>0</td>\n",
              "      <td>0</td>\n",
              "      <td>0</td>\n",
              "      <td>1</td>\n",
              "      <td>0</td>\n",
              "      <td>0</td>\n",
              "      <td>0</td>\n",
              "      <td>0</td>\n",
              "      <td>0</td>\n",
              "      <td>0</td>\n",
              "      <td>0</td>\n",
              "      <td>0</td>\n",
              "      <td>0</td>\n",
              "      <td>0</td>\n",
              "      <td>0</td>\n",
              "    </tr>\n",
              "    <tr>\n",
              "      <th>4</th>\n",
              "      <td>0</td>\n",
              "      <td>0</td>\n",
              "      <td>0</td>\n",
              "      <td>0</td>\n",
              "      <td>0</td>\n",
              "      <td>0</td>\n",
              "      <td>0</td>\n",
              "      <td>0</td>\n",
              "      <td>0</td>\n",
              "      <td>0</td>\n",
              "      <td>0</td>\n",
              "      <td>1</td>\n",
              "      <td>0</td>\n",
              "      <td>0</td>\n",
              "      <td>0</td>\n",
              "      <td>0</td>\n",
              "      <td>0</td>\n",
              "      <td>0</td>\n",
              "      <td>0</td>\n",
              "      <td>0</td>\n",
              "      <td>0</td>\n",
              "      <td>0</td>\n",
              "      <td>0</td>\n",
              "    </tr>\n",
              "    <tr>\n",
              "      <th>...</th>\n",
              "      <td>...</td>\n",
              "      <td>...</td>\n",
              "      <td>...</td>\n",
              "      <td>...</td>\n",
              "      <td>...</td>\n",
              "      <td>...</td>\n",
              "      <td>...</td>\n",
              "      <td>...</td>\n",
              "      <td>...</td>\n",
              "      <td>...</td>\n",
              "      <td>...</td>\n",
              "      <td>...</td>\n",
              "      <td>...</td>\n",
              "      <td>...</td>\n",
              "      <td>...</td>\n",
              "      <td>...</td>\n",
              "      <td>...</td>\n",
              "      <td>...</td>\n",
              "      <td>...</td>\n",
              "      <td>...</td>\n",
              "      <td>...</td>\n",
              "      <td>...</td>\n",
              "      <td>...</td>\n",
              "    </tr>\n",
              "    <tr>\n",
              "      <th>4995</th>\n",
              "      <td>0</td>\n",
              "      <td>0</td>\n",
              "      <td>0</td>\n",
              "      <td>0</td>\n",
              "      <td>0</td>\n",
              "      <td>0</td>\n",
              "      <td>0</td>\n",
              "      <td>0</td>\n",
              "      <td>0</td>\n",
              "      <td>0</td>\n",
              "      <td>0</td>\n",
              "      <td>0</td>\n",
              "      <td>0</td>\n",
              "      <td>0</td>\n",
              "      <td>0</td>\n",
              "      <td>0</td>\n",
              "      <td>0</td>\n",
              "      <td>0</td>\n",
              "      <td>1</td>\n",
              "      <td>0</td>\n",
              "      <td>0</td>\n",
              "      <td>0</td>\n",
              "      <td>0</td>\n",
              "    </tr>\n",
              "    <tr>\n",
              "      <th>4996</th>\n",
              "      <td>0</td>\n",
              "      <td>0</td>\n",
              "      <td>0</td>\n",
              "      <td>0</td>\n",
              "      <td>0</td>\n",
              "      <td>0</td>\n",
              "      <td>0</td>\n",
              "      <td>0</td>\n",
              "      <td>0</td>\n",
              "      <td>0</td>\n",
              "      <td>0</td>\n",
              "      <td>0</td>\n",
              "      <td>0</td>\n",
              "      <td>0</td>\n",
              "      <td>0</td>\n",
              "      <td>0</td>\n",
              "      <td>0</td>\n",
              "      <td>0</td>\n",
              "      <td>1</td>\n",
              "      <td>0</td>\n",
              "      <td>0</td>\n",
              "      <td>0</td>\n",
              "      <td>0</td>\n",
              "    </tr>\n",
              "    <tr>\n",
              "      <th>4997</th>\n",
              "      <td>0</td>\n",
              "      <td>0</td>\n",
              "      <td>0</td>\n",
              "      <td>0</td>\n",
              "      <td>0</td>\n",
              "      <td>0</td>\n",
              "      <td>0</td>\n",
              "      <td>0</td>\n",
              "      <td>0</td>\n",
              "      <td>0</td>\n",
              "      <td>0</td>\n",
              "      <td>0</td>\n",
              "      <td>0</td>\n",
              "      <td>0</td>\n",
              "      <td>0</td>\n",
              "      <td>0</td>\n",
              "      <td>0</td>\n",
              "      <td>0</td>\n",
              "      <td>1</td>\n",
              "      <td>0</td>\n",
              "      <td>0</td>\n",
              "      <td>0</td>\n",
              "      <td>0</td>\n",
              "    </tr>\n",
              "    <tr>\n",
              "      <th>4998</th>\n",
              "      <td>0</td>\n",
              "      <td>0</td>\n",
              "      <td>0</td>\n",
              "      <td>0</td>\n",
              "      <td>0</td>\n",
              "      <td>0</td>\n",
              "      <td>0</td>\n",
              "      <td>0</td>\n",
              "      <td>0</td>\n",
              "      <td>0</td>\n",
              "      <td>0</td>\n",
              "      <td>0</td>\n",
              "      <td>0</td>\n",
              "      <td>0</td>\n",
              "      <td>0</td>\n",
              "      <td>0</td>\n",
              "      <td>0</td>\n",
              "      <td>0</td>\n",
              "      <td>1</td>\n",
              "      <td>0</td>\n",
              "      <td>0</td>\n",
              "      <td>0</td>\n",
              "      <td>0</td>\n",
              "    </tr>\n",
              "    <tr>\n",
              "      <th>4999</th>\n",
              "      <td>0</td>\n",
              "      <td>0</td>\n",
              "      <td>0</td>\n",
              "      <td>0</td>\n",
              "      <td>0</td>\n",
              "      <td>0</td>\n",
              "      <td>0</td>\n",
              "      <td>0</td>\n",
              "      <td>0</td>\n",
              "      <td>0</td>\n",
              "      <td>0</td>\n",
              "      <td>0</td>\n",
              "      <td>0</td>\n",
              "      <td>0</td>\n",
              "      <td>0</td>\n",
              "      <td>0</td>\n",
              "      <td>0</td>\n",
              "      <td>0</td>\n",
              "      <td>1</td>\n",
              "      <td>0</td>\n",
              "      <td>0</td>\n",
              "      <td>0</td>\n",
              "      <td>0</td>\n",
              "    </tr>\n",
              "  </tbody>\n",
              "</table>\n",
              "<p>5000 rows × 23 columns</p>\n",
              "</div>"
            ],
            "text/plain": [
              "      name_All-New Fire HD 8 Tablet, 8 HD Display, Wi-Fi, 16 GB - Includes Special Offers, Blue  ...  name_Kindle Oasis E-reader with Leather Charging Cover - Merlot, 6 High-Resolution Display (300 ppi), Wi-Fi - Includes Special Offers\n",
              "0                                                     0                                          ...                                                  0                                                                                    \n",
              "1                                                     0                                          ...                                                  0                                                                                    \n",
              "2                                                     0                                          ...                                                  0                                                                                    \n",
              "3                                                     0                                          ...                                                  0                                                                                    \n",
              "4                                                     0                                          ...                                                  0                                                                                    \n",
              "...                                                 ...                                          ...                                                ...                                                                                    \n",
              "4995                                                  0                                          ...                                                  0                                                                                    \n",
              "4996                                                  0                                          ...                                                  0                                                                                    \n",
              "4997                                                  0                                          ...                                                  0                                                                                    \n",
              "4998                                                  0                                          ...                                                  0                                                                                    \n",
              "4999                                                  0                                          ...                                                  0                                                                                    \n",
              "\n",
              "[5000 rows x 23 columns]"
            ]
          },
          "metadata": {
            "tags": []
          },
          "execution_count": 16
        }
      ]
    },
    {
      "cell_type": "code",
      "metadata": {
        "id": "ytiS7TRP6YP9",
        "colab_type": "code",
        "outputId": "a2416889-8fe5-4309-e107-ec6a76ba6eaf",
        "colab": {
          "base_uri": "https://localhost:8080/",
          "height": 420
        }
      },
      "source": [
        "# Let's see how many of each name we have\n",
        "name_enc.sum(axis=0)"
      ],
      "execution_count": 0,
      "outputs": [
        {
          "output_type": "execute_result",
          "data": {
            "text/plain": [
              "name_All-New Fire HD 8 Tablet, 8 HD Display, Wi-Fi, 16 GB - Includes Special Offers, Blue                                                 51\n",
              "name_All-New Fire HD 8 Tablet, 8 HD Display, Wi-Fi, 32 GB - Includes Special Offers, Blue                                                 70\n",
              "name_All-New Fire HD 8 Tablet, 8\" HD Display, Wi-Fi, 16 GB - Includes Special Offers, Magenta                                            797\n",
              "name_All-New Fire HD 8 Tablet, 8\" HD Display, Wi-Fi, 32 GB - Includes Special Offers, Black                                               58\n",
              "name_All-New Fire HD 8 Tablet, 8\" HD Display, Wi-Fi, 32 GB - Includes Special Offers, Magenta                                             40\n",
              "name_Amazon - Echo Plus w/ Built-In Hub - Silver                                                                                         590\n",
              "name_Amazon - Kindle Voyage - 4GB - Wi-Fi + 3G - Black                                                                                    22\n",
              "name_Amazon - Kindle Voyage - 6\" - 4GB - Black                                                                                            82\n",
              "name_Amazon 9W PowerFast Official OEM USB Charger and Power Adapter for Fire Tablets and Kindle eReaders                                  22\n",
              "name_Amazon Echo Show Alexa-enabled Bluetooth Speaker with 7\" Screen                                                                     845\n",
              "name_Amazon Fire TV with 4K Ultra HD and Alexa Voice Remote (Pendant Design) | Streaming Media Player                                      4\n",
              "name_Amazon Kindle E-Reader 6\" Wifi (8th Generation, 2016)                                                                                96\n",
              "name_Amazon Tap - Alexa-Enabled Portable Bluetooth Speaker                                                                               225\n",
              "name_Brand New Amazon Kindle Fire 16gb 7\" Ips Display Tablet Wifi 16 Gb Blue                                                             467\n",
              "name_Fire HD 10 Tablet, 10.1 HD Display, Wi-Fi, 16 GB - Includes Special Offers, Silver Aluminum                                         106\n",
              "name_Fire HD 8 Tablet with Alexa, 8\" HD Display, 32 GB, Tangerine - with Special Offers                                                   53\n",
              "name_Fire Kids Edition Tablet, 7 Display, Wi-Fi, 16 GB, Blue Kid-Proof Case                                                              561\n",
              "name_Fire Kids Edition Tablet, 7 Display, Wi-Fi, 16 GB, Green Kid-Proof Case                                                             217\n",
              "name_Fire Tablet with Alexa, 7\" Display, 16 GB, Magenta - with Special Offers                                                            101\n",
              "name_Fire Tablet, 7 Display, Wi-Fi, 16 GB - Includes Special Offers, Black                                                               371\n",
              "name_Kindle E-reader - White, 6 Glare-Free Touchscreen Display, Wi-Fi - Includes Special Offers                                          159\n",
              "name_Kindle Oasis E-reader with Leather Charging Cover - Black, 6\" High-Resolution Display (300 ppi), Wi-Fi - Includes Special Offers     39\n",
              "name_Kindle Oasis E-reader with Leather Charging Cover - Merlot, 6 High-Resolution Display (300 ppi), Wi-Fi - Includes Special Offers     24\n",
              "dtype: int64"
            ]
          },
          "metadata": {
            "tags": []
          },
          "execution_count": 17
        }
      ]
    },
    {
      "cell_type": "markdown",
      "metadata": {
        "id": "L7f3B7Ky6YP_",
        "colab_type": "text"
      },
      "source": [
        "Drop the other columns"
      ]
    },
    {
      "cell_type": "code",
      "metadata": {
        "id": "LUJKjLJ46YP_",
        "colab_type": "code",
        "outputId": "e838986b-3909-43a0-ff3f-e6cc19a6b07f",
        "colab": {
          "base_uri": "https://localhost:8080/",
          "height": 686
        }
      },
      "source": [
        "df = pd.concat([df.loc[:, ['reviews.title', 'reviews.text']], name_enc], axis=1)\n",
        "df.head()"
      ],
      "execution_count": 0,
      "outputs": [
        {
          "output_type": "execute_result",
          "data": {
            "text/html": [
              "<div>\n",
              "<style scoped>\n",
              "    .dataframe tbody tr th:only-of-type {\n",
              "        vertical-align: middle;\n",
              "    }\n",
              "\n",
              "    .dataframe tbody tr th {\n",
              "        vertical-align: top;\n",
              "    }\n",
              "\n",
              "    .dataframe thead th {\n",
              "        text-align: right;\n",
              "    }\n",
              "</style>\n",
              "<table border=\"1\" class=\"dataframe\">\n",
              "  <thead>\n",
              "    <tr style=\"text-align: right;\">\n",
              "      <th></th>\n",
              "      <th>reviews.title</th>\n",
              "      <th>reviews.text</th>\n",
              "      <th>name_All-New Fire HD 8 Tablet, 8 HD Display, Wi-Fi, 16 GB - Includes Special Offers, Blue</th>\n",
              "      <th>name_All-New Fire HD 8 Tablet, 8 HD Display, Wi-Fi, 32 GB - Includes Special Offers, Blue</th>\n",
              "      <th>name_All-New Fire HD 8 Tablet, 8\" HD Display, Wi-Fi, 16 GB - Includes Special Offers, Magenta</th>\n",
              "      <th>name_All-New Fire HD 8 Tablet, 8\" HD Display, Wi-Fi, 32 GB - Includes Special Offers, Black</th>\n",
              "      <th>name_All-New Fire HD 8 Tablet, 8\" HD Display, Wi-Fi, 32 GB - Includes Special Offers, Magenta</th>\n",
              "      <th>name_Amazon - Echo Plus w/ Built-In Hub - Silver</th>\n",
              "      <th>name_Amazon - Kindle Voyage - 4GB - Wi-Fi + 3G - Black</th>\n",
              "      <th>name_Amazon - Kindle Voyage - 6\" - 4GB - Black</th>\n",
              "      <th>name_Amazon 9W PowerFast Official OEM USB Charger and Power Adapter for Fire Tablets and Kindle eReaders</th>\n",
              "      <th>name_Amazon Echo Show Alexa-enabled Bluetooth Speaker with 7\" Screen</th>\n",
              "      <th>name_Amazon Fire TV with 4K Ultra HD and Alexa Voice Remote (Pendant Design) | Streaming Media Player</th>\n",
              "      <th>name_Amazon Kindle E-Reader 6\" Wifi (8th Generation, 2016)</th>\n",
              "      <th>name_Amazon Tap - Alexa-Enabled Portable Bluetooth Speaker</th>\n",
              "      <th>name_Brand New Amazon Kindle Fire 16gb 7\" Ips Display Tablet Wifi 16 Gb Blue</th>\n",
              "      <th>name_Fire HD 10 Tablet, 10.1 HD Display, Wi-Fi, 16 GB - Includes Special Offers, Silver Aluminum</th>\n",
              "      <th>name_Fire HD 8 Tablet with Alexa, 8\" HD Display, 32 GB, Tangerine - with Special Offers</th>\n",
              "      <th>name_Fire Kids Edition Tablet, 7 Display, Wi-Fi, 16 GB, Blue Kid-Proof Case</th>\n",
              "      <th>name_Fire Kids Edition Tablet, 7 Display, Wi-Fi, 16 GB, Green Kid-Proof Case</th>\n",
              "      <th>name_Fire Tablet with Alexa, 7\" Display, 16 GB, Magenta - with Special Offers</th>\n",
              "      <th>name_Fire Tablet, 7 Display, Wi-Fi, 16 GB - Includes Special Offers, Black</th>\n",
              "      <th>name_Kindle E-reader - White, 6 Glare-Free Touchscreen Display, Wi-Fi - Includes Special Offers</th>\n",
              "      <th>name_Kindle Oasis E-reader with Leather Charging Cover - Black, 6\" High-Resolution Display (300 ppi), Wi-Fi - Includes Special Offers</th>\n",
              "      <th>name_Kindle Oasis E-reader with Leather Charging Cover - Merlot, 6 High-Resolution Display (300 ppi), Wi-Fi - Includes Special Offers</th>\n",
              "    </tr>\n",
              "  </thead>\n",
              "  <tbody>\n",
              "    <tr>\n",
              "      <th>0</th>\n",
              "      <td>Too small</td>\n",
              "      <td>I thought it would be as big as small paper bu...</td>\n",
              "      <td>0</td>\n",
              "      <td>0</td>\n",
              "      <td>0</td>\n",
              "      <td>0</td>\n",
              "      <td>0</td>\n",
              "      <td>0</td>\n",
              "      <td>0</td>\n",
              "      <td>0</td>\n",
              "      <td>0</td>\n",
              "      <td>0</td>\n",
              "      <td>0</td>\n",
              "      <td>1</td>\n",
              "      <td>0</td>\n",
              "      <td>0</td>\n",
              "      <td>0</td>\n",
              "      <td>0</td>\n",
              "      <td>0</td>\n",
              "      <td>0</td>\n",
              "      <td>0</td>\n",
              "      <td>0</td>\n",
              "      <td>0</td>\n",
              "      <td>0</td>\n",
              "      <td>0</td>\n",
              "    </tr>\n",
              "    <tr>\n",
              "      <th>1</th>\n",
              "      <td>Great light reader. Easy to use at the beach</td>\n",
              "      <td>This kindle is light and easy to use especiall...</td>\n",
              "      <td>0</td>\n",
              "      <td>0</td>\n",
              "      <td>0</td>\n",
              "      <td>0</td>\n",
              "      <td>0</td>\n",
              "      <td>0</td>\n",
              "      <td>0</td>\n",
              "      <td>0</td>\n",
              "      <td>0</td>\n",
              "      <td>0</td>\n",
              "      <td>0</td>\n",
              "      <td>1</td>\n",
              "      <td>0</td>\n",
              "      <td>0</td>\n",
              "      <td>0</td>\n",
              "      <td>0</td>\n",
              "      <td>0</td>\n",
              "      <td>0</td>\n",
              "      <td>0</td>\n",
              "      <td>0</td>\n",
              "      <td>0</td>\n",
              "      <td>0</td>\n",
              "      <td>0</td>\n",
              "    </tr>\n",
              "    <tr>\n",
              "      <th>2</th>\n",
              "      <td>Great for the price</td>\n",
              "      <td>Didnt know how much i'd use a kindle so went f...</td>\n",
              "      <td>0</td>\n",
              "      <td>0</td>\n",
              "      <td>0</td>\n",
              "      <td>0</td>\n",
              "      <td>0</td>\n",
              "      <td>0</td>\n",
              "      <td>0</td>\n",
              "      <td>0</td>\n",
              "      <td>0</td>\n",
              "      <td>0</td>\n",
              "      <td>0</td>\n",
              "      <td>1</td>\n",
              "      <td>0</td>\n",
              "      <td>0</td>\n",
              "      <td>0</td>\n",
              "      <td>0</td>\n",
              "      <td>0</td>\n",
              "      <td>0</td>\n",
              "      <td>0</td>\n",
              "      <td>0</td>\n",
              "      <td>0</td>\n",
              "      <td>0</td>\n",
              "      <td>0</td>\n",
              "    </tr>\n",
              "    <tr>\n",
              "      <th>3</th>\n",
              "      <td>A Great Buy</td>\n",
              "      <td>I am 100 happy with my purchase. I caught it o...</td>\n",
              "      <td>0</td>\n",
              "      <td>0</td>\n",
              "      <td>0</td>\n",
              "      <td>0</td>\n",
              "      <td>0</td>\n",
              "      <td>0</td>\n",
              "      <td>0</td>\n",
              "      <td>0</td>\n",
              "      <td>0</td>\n",
              "      <td>0</td>\n",
              "      <td>0</td>\n",
              "      <td>1</td>\n",
              "      <td>0</td>\n",
              "      <td>0</td>\n",
              "      <td>0</td>\n",
              "      <td>0</td>\n",
              "      <td>0</td>\n",
              "      <td>0</td>\n",
              "      <td>0</td>\n",
              "      <td>0</td>\n",
              "      <td>0</td>\n",
              "      <td>0</td>\n",
              "      <td>0</td>\n",
              "    </tr>\n",
              "    <tr>\n",
              "      <th>4</th>\n",
              "      <td>Solid entry-level Kindle. Great for kids</td>\n",
              "      <td>Solid entry level Kindle. Great for kids. Gift...</td>\n",
              "      <td>0</td>\n",
              "      <td>0</td>\n",
              "      <td>0</td>\n",
              "      <td>0</td>\n",
              "      <td>0</td>\n",
              "      <td>0</td>\n",
              "      <td>0</td>\n",
              "      <td>0</td>\n",
              "      <td>0</td>\n",
              "      <td>0</td>\n",
              "      <td>0</td>\n",
              "      <td>1</td>\n",
              "      <td>0</td>\n",
              "      <td>0</td>\n",
              "      <td>0</td>\n",
              "      <td>0</td>\n",
              "      <td>0</td>\n",
              "      <td>0</td>\n",
              "      <td>0</td>\n",
              "      <td>0</td>\n",
              "      <td>0</td>\n",
              "      <td>0</td>\n",
              "      <td>0</td>\n",
              "    </tr>\n",
              "  </tbody>\n",
              "</table>\n",
              "</div>"
            ],
            "text/plain": [
              "                                  reviews.title  ... name_Kindle Oasis E-reader with Leather Charging Cover - Merlot, 6 High-Resolution Display (300 ppi), Wi-Fi - Includes Special Offers\n",
              "0                                     Too small  ...                                                  0                                                                                   \n",
              "1  Great light reader. Easy to use at the beach  ...                                                  0                                                                                   \n",
              "2                           Great for the price  ...                                                  0                                                                                   \n",
              "3                                   A Great Buy  ...                                                  0                                                                                   \n",
              "4      Solid entry-level Kindle. Great for kids  ...                                                  0                                                                                   \n",
              "\n",
              "[5 rows x 25 columns]"
            ]
          },
          "metadata": {
            "tags": []
          },
          "execution_count": 18
        }
      ]
    },
    {
      "cell_type": "code",
      "metadata": {
        "id": "QUz9NgAa6YQH",
        "colab_type": "code",
        "colab": {}
      },
      "source": [
        ""
      ],
      "execution_count": 0,
      "outputs": []
    },
    {
      "cell_type": "markdown",
      "metadata": {
        "id": "XKVYRcx06YQL",
        "colab_type": "text"
      },
      "source": [
        "## Feature Engineering\n",
        "\n",
        "- Extract features from text\n",
        "  - reviews.title: fairly simple vocab, can use CountVectorizer\n",
        "  - reviews.text: use TfidfVectorizer"
      ]
    },
    {
      "cell_type": "code",
      "metadata": {
        "id": "EQD3JRs_6YQL",
        "colab_type": "code",
        "outputId": "dcd94433-0966-4428-d635-1cfbe5cf7f47",
        "colab": {
          "base_uri": "https://localhost:8080/",
          "height": 50
        }
      },
      "source": [
        "# using default tokeniser, no stop word removal, unigrams\n",
        "title_countvec = CountVectorizer()\n",
        "\n",
        "# call fit_transform on reviews.title\n",
        "title_matrix = title_countvec.fit_transform(df['reviews.title'])\n",
        "title_matrix"
      ],
      "execution_count": 0,
      "outputs": [
        {
          "output_type": "execute_result",
          "data": {
            "text/plain": [
              "<5000x1392 sparse matrix of type '<class 'numpy.int64'>'\n",
              "\twith 16682 stored elements in Compressed Sparse Row format>"
            ]
          },
          "metadata": {
            "tags": []
          },
          "execution_count": 19
        }
      ]
    },
    {
      "cell_type": "code",
      "metadata": {
        "id": "QNE5WWsH6YQN",
        "colab_type": "code",
        "outputId": "cdc5da79-bde9-4284-a3e4-db51ee9b98b9",
        "colab": {
          "base_uri": "https://localhost:8080/",
          "height": 118
        }
      },
      "source": [
        "# inspect the settings of the vectoriser\n",
        "# note: ngram_range=(1, 1), tokenizer=None, stop_words=None\n",
        " \n",
        "title_countvec"
      ],
      "execution_count": 0,
      "outputs": [
        {
          "output_type": "execute_result",
          "data": {
            "text/plain": [
              "CountVectorizer(analyzer='word', binary=False, decode_error='strict',\n",
              "                dtype=<class 'numpy.int64'>, encoding='utf-8', input='content',\n",
              "                lowercase=True, max_df=1.0, max_features=None, min_df=1,\n",
              "                ngram_range=(1, 1), preprocessor=None, stop_words=None,\n",
              "                strip_accents=None, token_pattern='(?u)\\\\b\\\\w\\\\w+\\\\b',\n",
              "                tokenizer=None, vocabulary=None)"
            ]
          },
          "metadata": {
            "tags": []
          },
          "execution_count": 20
        }
      ]
    },
    {
      "cell_type": "markdown",
      "metadata": {
        "id": "UADRshle6YQQ",
        "colab_type": "text"
      },
      "source": [
        "Continue on with reviews.text..."
      ]
    },
    {
      "cell_type": "code",
      "metadata": {
        "id": "d6Hr3n486YQR",
        "colab_type": "code",
        "outputId": "782c10f7-7c02-4c2d-d9de-24c8a279e4a9",
        "colab": {
          "base_uri": "https://localhost:8080/",
          "height": 50
        }
      },
      "source": [
        "# using default tokeniser, no stop word removal, unigrams\n",
        "text_tfidf = TfidfVectorizer()\n",
        "\n",
        "# call fit_transform on reviews.text\n",
        "text_matrix = text_tfidf.fit_transform(df['reviews.text'])\n",
        "text_matrix"
      ],
      "execution_count": 0,
      "outputs": [
        {
          "output_type": "execute_result",
          "data": {
            "text/plain": [
              "<5000x5412 sparse matrix of type '<class 'numpy.float64'>'\n",
              "\twith 118997 stored elements in Compressed Sparse Row format>"
            ]
          },
          "metadata": {
            "tags": []
          },
          "execution_count": 21
        }
      ]
    },
    {
      "cell_type": "code",
      "metadata": {
        "id": "7SXgomID6YQS",
        "colab_type": "code",
        "outputId": "e2068fc9-d336-4133-9941-d1944bc86077",
        "colab": {
          "base_uri": "https://localhost:8080/",
          "height": 134
        }
      },
      "source": [
        "text_tfidf"
      ],
      "execution_count": 0,
      "outputs": [
        {
          "output_type": "execute_result",
          "data": {
            "text/plain": [
              "TfidfVectorizer(analyzer='word', binary=False, decode_error='strict',\n",
              "                dtype=<class 'numpy.float64'>, encoding='utf-8',\n",
              "                input='content', lowercase=True, max_df=1.0, max_features=None,\n",
              "                min_df=1, ngram_range=(1, 1), norm='l2', preprocessor=None,\n",
              "                smooth_idf=True, stop_words=None, strip_accents=None,\n",
              "                sublinear_tf=False, token_pattern='(?u)\\\\b\\\\w\\\\w+\\\\b',\n",
              "                tokenizer=None, use_idf=True, vocabulary=None)"
            ]
          },
          "metadata": {
            "tags": []
          },
          "execution_count": 22
        }
      ]
    },
    {
      "cell_type": "markdown",
      "metadata": {
        "id": "UCMlgZvr6YQT",
        "colab_type": "text"
      },
      "source": [
        "Concatenate the sparse matrices side-by-side"
      ]
    },
    {
      "cell_type": "code",
      "metadata": {
        "id": "fLgzZ77w6YQU",
        "colab_type": "code",
        "outputId": "15ec167c-0ade-496d-e706-2dcd5be4d918",
        "colab": {
          "base_uri": "https://localhost:8080/",
          "height": 50
        }
      },
      "source": [
        "# hstack, vstack is like pd.concat\n",
        "# where hstack is pd.concat, axis=1 (column-wise horizontal) |columns...|more columns...|\n",
        "# and vstack is pd.concat, axis=0 (row-wise vertical)  |rows     |\n",
        "#                                                      |more rows|\n",
        "X = scipy.sparse.hstack([title_matrix, text_matrix, name_enc])\n",
        "X"
      ],
      "execution_count": 0,
      "outputs": [
        {
          "output_type": "execute_result",
          "data": {
            "text/plain": [
              "<5000x6827 sparse matrix of type '<class 'numpy.float64'>'\n",
              "\twith 140679 stored elements in COOrdinate format>"
            ]
          },
          "metadata": {
            "tags": []
          },
          "execution_count": 23
        }
      ]
    },
    {
      "cell_type": "code",
      "metadata": {
        "id": "4-PmDxa26YQV",
        "colab_type": "code",
        "outputId": "9c8d18f5-a35e-4143-e801-6e0bd080d7b4",
        "colab": {
          "base_uri": "https://localhost:8080/",
          "height": 34
        }
      },
      "source": [
        "title_matrix.shape, text_matrix.shape, name_enc.shape"
      ],
      "execution_count": 0,
      "outputs": [
        {
          "output_type": "execute_result",
          "data": {
            "text/plain": [
              "((5000, 1392), (5000, 5412), (5000, 23))"
            ]
          },
          "metadata": {
            "tags": []
          },
          "execution_count": 24
        }
      ]
    },
    {
      "cell_type": "code",
      "metadata": {
        "id": "ch0L7gh_6YQc",
        "colab_type": "code",
        "colab": {}
      },
      "source": [
        "# makes it to a dense matrix\n",
        "# X.toarray()"
      ],
      "execution_count": 0,
      "outputs": []
    },
    {
      "cell_type": "markdown",
      "metadata": {
        "id": "IGpwvKIu6YQf",
        "colab_type": "text"
      },
      "source": [
        "## Visualise Features\n",
        "\n",
        "Now that the columns of final_df are numerical, let's apply PCA to visualise the data. \n",
        "\n",
        "We will use TruncatedSVD, an implementation of PCA that supports sparse data. Other than that, the usage is similar to PCA."
      ]
    },
    {
      "cell_type": "code",
      "metadata": {
        "id": "xaBWB1kb6YQf",
        "colab_type": "code",
        "outputId": "7b35f95f-edf9-4b54-eab2-d8aa0034480e",
        "colab": {
          "base_uri": "https://localhost:8080/",
          "height": 134
        }
      },
      "source": [
        "# Run TruncatedSVD with 2 components, assign to Z_2d\n",
        "pca = TruncatedSVD(n_components=2)\n",
        "\n",
        "# scaling not needed for Tfidf (already scaled), one-hot encoding\n",
        "Z_2d = pca.fit_transform(X)\n",
        "Z_2d"
      ],
      "execution_count": 0,
      "outputs": [
        {
          "output_type": "execute_result",
          "data": {
            "text/plain": [
              "array([[ 0.08409519,  0.05275432],\n",
              "       [ 0.99209771,  0.37432947],\n",
              "       [ 1.33905953, -0.06798455],\n",
              "       ...,\n",
              "       [ 1.30361441, -0.21561322],\n",
              "       [ 0.53343902, -0.1431317 ],\n",
              "       [ 1.07012557, -0.27361876]])"
            ]
          },
          "metadata": {
            "tags": []
          },
          "execution_count": 26
        }
      ]
    },
    {
      "cell_type": "code",
      "metadata": {
        "id": "ReuPyVPF6YQh",
        "colab_type": "code",
        "outputId": "1a0526b3-6c84-4c28-e2fe-a286a7ce7c7f",
        "colab": {
          "base_uri": "https://localhost:8080/",
          "height": 485
        }
      },
      "source": [
        "fig, ax = plt.subplots(figsize=(10, 8))\n",
        "ax.scatter(Z_2d[:, 0], Z_2d[:, 1])\n",
        "plt.show()"
      ],
      "execution_count": 0,
      "outputs": [
        {
          "output_type": "display_data",
          "data": {
            "image/png": "[encoded data removed]",
            "text/plain": [
              "<Figure size 720x576 with 1 Axes>"
            ]
          },
          "metadata": {
            "tags": []
          }
        }
      ]
    },
    {
      "cell_type": "code",
      "metadata": {
        "id": "E1Tm5nh06YQk",
        "colab_type": "code",
        "outputId": "1978ae09-01de-4d40-dd6e-7a14972f7b81",
        "colab": {
          "base_uri": "https://localhost:8080/",
          "height": 34
        }
      },
      "source": [
        "pca.explained_variance_ratio_"
      ],
      "execution_count": 0,
      "outputs": [
        {
          "output_type": "execute_result",
          "data": {
            "text/plain": [
              "array([0.04521225, 0.03878755])"
            ]
          },
          "metadata": {
            "tags": []
          },
          "execution_count": 28
        }
      ]
    },
    {
      "cell_type": "markdown",
      "metadata": {
        "id": "6vnlBQbO6YQm",
        "colab_type": "text"
      },
      "source": [
        "### Outliers\n",
        "\n",
        "There are some outliers from the PCA plot that we may want to remove.\n",
        "\n",
        "If not removed, these can cause very large cluster distances, and make it harder to find the optimum k."
      ]
    },
    {
      "cell_type": "code",
      "metadata": {
        "id": "k3uCvAXR6YQm",
        "colab_type": "code",
        "outputId": "8593c477-17e5-4b2e-fa43-45639b996e3e",
        "colab": {
          "base_uri": "https://localhost:8080/",
          "height": 67
        }
      },
      "source": [
        "from sklearn.covariance import EllipticEnvelope\n",
        "\n",
        "# contaimnation can be tuned - percentage of the data\n",
        "# you think are outliers (e.g. 0.001 = 0.1%)\n",
        "ee = EllipticEnvelope(contamination=5e-3)\n",
        "\n",
        "ee.fit(Z_2d) # use PCA because this method doesn't\n",
        "             # work well on high dimensional data\n",
        "             # just a visual aid\n",
        "\n",
        "include = ee.predict(Z_2d)\n",
        "print('outlier detection results: ', pd.Series(include).value_counts())"
      ],
      "execution_count": 0,
      "outputs": [
        {
          "output_type": "stream",
          "text": [
            "outlier detection results:   1    4975\n",
            "-1      25\n",
            "dtype: int64\n"
          ],
          "name": "stdout"
        }
      ]
    },
    {
      "cell_type": "code",
      "metadata": {
        "id": "WGryuV5n6YQn",
        "colab_type": "code",
        "colab": {}
      },
      "source": [
        ""
      ],
      "execution_count": 0,
      "outputs": []
    },
    {
      "cell_type": "code",
      "metadata": {
        "id": "icBWgu7I6YQp",
        "colab_type": "code",
        "outputId": "f26096ea-236d-4898-fc53-1f1b706befdd",
        "colab": {
          "base_uri": "https://localhost:8080/",
          "height": 488
        }
      },
      "source": [
        "# plot the outliers\n",
        "fig, ax = plt.subplots(figsize=(10, 8))\n",
        "\n",
        "ax.scatter(Z_2d[include==1, 0], Z_2d[include==1, 1], label='inlier')\n",
        "ax.scatter(Z_2d[include==-1, 0], Z_2d[include==-1, 1], label='outlier')\n",
        "ax.legend()\n",
        "plt.show()"
      ],
      "execution_count": 0,
      "outputs": [
        {
          "output_type": "display_data",
          "data": {
            "image/png": "[encoded data removed]",
            "text/plain": [
              "<Figure size 720x576 with 1 Axes>"
            ]
          },
          "metadata": {
            "tags": []
          }
        }
      ]
    },
    {
      "cell_type": "markdown",
      "metadata": {
        "id": "jlQUPvgG6YQu",
        "colab_type": "text"
      },
      "source": [
        "Play around with contamination values."
      ]
    },
    {
      "cell_type": "markdown",
      "metadata": {
        "id": "wmY-cvX96YQu",
        "colab_type": "text"
      },
      "source": [
        "Let's go ahead and exclude the outliers from clustering"
      ]
    },
    {
      "cell_type": "code",
      "metadata": {
        "id": "B1QC_Rz56YQu",
        "colab_type": "code",
        "outputId": "586188c5-a6d1-46f2-d25f-f460b671147b",
        "colab": {
          "base_uri": "https://localhost:8080/",
          "height": 50
        }
      },
      "source": [
        "# mask to exclude the outliers\n",
        "mask = (include==1)\n",
        "\n",
        "# apply mask on the PCA\n",
        "Z_2d_inlier = Z_2d[mask]\n",
        "\n",
        "# mask out data to use for kmeans\n",
        "X_inlier = X.tocsr()[mask]\n",
        "X_inlier"
      ],
      "execution_count": 0,
      "outputs": [
        {
          "output_type": "execute_result",
          "data": {
            "text/plain": [
              "<4975x6827 sparse matrix of type '<class 'numpy.float64'>'\n",
              "\twith 139857 stored elements in Compressed Sparse Row format>"
            ]
          },
          "metadata": {
            "tags": []
          },
          "execution_count": 31
        }
      ]
    },
    {
      "cell_type": "code",
      "metadata": {
        "id": "cao6hqv-6YQw",
        "colab_type": "code",
        "outputId": "8563301f-2588-4925-830c-bfe0cc49e730",
        "colab": {
          "base_uri": "https://localhost:8080/",
          "height": 1000
        }
      },
      "source": [
        "# to see which rows correspond to the outliers\n",
        "df.loc[~mask]"
      ],
      "execution_count": 0,
      "outputs": [
        {
          "output_type": "execute_result",
          "data": {
            "text/html": [
              "<div>\n",
              "<style scoped>\n",
              "    .dataframe tbody tr th:only-of-type {\n",
              "        vertical-align: middle;\n",
              "    }\n",
              "\n",
              "    .dataframe tbody tr th {\n",
              "        vertical-align: top;\n",
              "    }\n",
              "\n",
              "    .dataframe thead th {\n",
              "        text-align: right;\n",
              "    }\n",
              "</style>\n",
              "<table border=\"1\" class=\"dataframe\">\n",
              "  <thead>\n",
              "    <tr style=\"text-align: right;\">\n",
              "      <th></th>\n",
              "      <th>reviews.title</th>\n",
              "      <th>reviews.text</th>\n",
              "      <th>name_All-New Fire HD 8 Tablet, 8 HD Display, Wi-Fi, 16 GB - Includes Special Offers, Blue</th>\n",
              "      <th>name_All-New Fire HD 8 Tablet, 8 HD Display, Wi-Fi, 32 GB - Includes Special Offers, Blue</th>\n",
              "      <th>name_All-New Fire HD 8 Tablet, 8\" HD Display, Wi-Fi, 16 GB - Includes Special Offers, Magenta</th>\n",
              "      <th>name_All-New Fire HD 8 Tablet, 8\" HD Display, Wi-Fi, 32 GB - Includes Special Offers, Black</th>\n",
              "      <th>name_All-New Fire HD 8 Tablet, 8\" HD Display, Wi-Fi, 32 GB - Includes Special Offers, Magenta</th>\n",
              "      <th>name_Amazon - Echo Plus w/ Built-In Hub - Silver</th>\n",
              "      <th>name_Amazon - Kindle Voyage - 4GB - Wi-Fi + 3G - Black</th>\n",
              "      <th>name_Amazon - Kindle Voyage - 6\" - 4GB - Black</th>\n",
              "      <th>name_Amazon 9W PowerFast Official OEM USB Charger and Power Adapter for Fire Tablets and Kindle eReaders</th>\n",
              "      <th>name_Amazon Echo Show Alexa-enabled Bluetooth Speaker with 7\" Screen</th>\n",
              "      <th>name_Amazon Fire TV with 4K Ultra HD and Alexa Voice Remote (Pendant Design) | Streaming Media Player</th>\n",
              "      <th>name_Amazon Kindle E-Reader 6\" Wifi (8th Generation, 2016)</th>\n",
              "      <th>name_Amazon Tap - Alexa-Enabled Portable Bluetooth Speaker</th>\n",
              "      <th>name_Brand New Amazon Kindle Fire 16gb 7\" Ips Display Tablet Wifi 16 Gb Blue</th>\n",
              "      <th>name_Fire HD 10 Tablet, 10.1 HD Display, Wi-Fi, 16 GB - Includes Special Offers, Silver Aluminum</th>\n",
              "      <th>name_Fire HD 8 Tablet with Alexa, 8\" HD Display, 32 GB, Tangerine - with Special Offers</th>\n",
              "      <th>name_Fire Kids Edition Tablet, 7 Display, Wi-Fi, 16 GB, Blue Kid-Proof Case</th>\n",
              "      <th>name_Fire Kids Edition Tablet, 7 Display, Wi-Fi, 16 GB, Green Kid-Proof Case</th>\n",
              "      <th>name_Fire Tablet with Alexa, 7\" Display, 16 GB, Magenta - with Special Offers</th>\n",
              "      <th>name_Fire Tablet, 7 Display, Wi-Fi, 16 GB - Includes Special Offers, Black</th>\n",
              "      <th>name_Kindle E-reader - White, 6 Glare-Free Touchscreen Display, Wi-Fi - Includes Special Offers</th>\n",
              "      <th>name_Kindle Oasis E-reader with Leather Charging Cover - Black, 6\" High-Resolution Display (300 ppi), Wi-Fi - Includes Special Offers</th>\n",
              "      <th>name_Kindle Oasis E-reader with Leather Charging Cover - Merlot, 6 High-Resolution Display (300 ppi), Wi-Fi - Includes Special Offers</th>\n",
              "    </tr>\n",
              "  </thead>\n",
              "  <tbody>\n",
              "    <tr>\n",
              "      <th>205</th>\n",
              "      <td>Great product for the every day use.</td>\n",
              "      <td>I like the ease and usage of the amazon show. ...</td>\n",
              "      <td>0</td>\n",
              "      <td>0</td>\n",
              "      <td>0</td>\n",
              "      <td>0</td>\n",
              "      <td>0</td>\n",
              "      <td>0</td>\n",
              "      <td>0</td>\n",
              "      <td>0</td>\n",
              "      <td>0</td>\n",
              "      <td>1</td>\n",
              "      <td>0</td>\n",
              "      <td>0</td>\n",
              "      <td>0</td>\n",
              "      <td>0</td>\n",
              "      <td>0</td>\n",
              "      <td>0</td>\n",
              "      <td>0</td>\n",
              "      <td>0</td>\n",
              "      <td>0</td>\n",
              "      <td>0</td>\n",
              "      <td>0</td>\n",
              "      <td>0</td>\n",
              "      <td>0</td>\n",
              "    </tr>\n",
              "    <tr>\n",
              "      <th>220</th>\n",
              "      <td>Great Item, works great</td>\n",
              "      <td>Very neat item, fun to talk to. Easy set up to...</td>\n",
              "      <td>0</td>\n",
              "      <td>0</td>\n",
              "      <td>0</td>\n",
              "      <td>0</td>\n",
              "      <td>0</td>\n",
              "      <td>0</td>\n",
              "      <td>0</td>\n",
              "      <td>0</td>\n",
              "      <td>0</td>\n",
              "      <td>1</td>\n",
              "      <td>0</td>\n",
              "      <td>0</td>\n",
              "      <td>0</td>\n",
              "      <td>0</td>\n",
              "      <td>0</td>\n",
              "      <td>0</td>\n",
              "      <td>0</td>\n",
              "      <td>0</td>\n",
              "      <td>0</td>\n",
              "      <td>0</td>\n",
              "      <td>0</td>\n",
              "      <td>0</td>\n",
              "      <td>0</td>\n",
              "    </tr>\n",
              "    <tr>\n",
              "      <th>227</th>\n",
              "      <td>Love love love it</td>\n",
              "      <td>Great product. Absolute love it. Alexa is fun ...</td>\n",
              "      <td>0</td>\n",
              "      <td>0</td>\n",
              "      <td>0</td>\n",
              "      <td>0</td>\n",
              "      <td>0</td>\n",
              "      <td>0</td>\n",
              "      <td>0</td>\n",
              "      <td>0</td>\n",
              "      <td>0</td>\n",
              "      <td>1</td>\n",
              "      <td>0</td>\n",
              "      <td>0</td>\n",
              "      <td>0</td>\n",
              "      <td>0</td>\n",
              "      <td>0</td>\n",
              "      <td>0</td>\n",
              "      <td>0</td>\n",
              "      <td>0</td>\n",
              "      <td>0</td>\n",
              "      <td>0</td>\n",
              "      <td>0</td>\n",
              "      <td>0</td>\n",
              "      <td>0</td>\n",
              "    </tr>\n",
              "    <tr>\n",
              "      <th>264</th>\n",
              "      <td>Great product and at a great price.</td>\n",
              "      <td>Bought the Echo Show because of the display an...</td>\n",
              "      <td>0</td>\n",
              "      <td>0</td>\n",
              "      <td>0</td>\n",
              "      <td>0</td>\n",
              "      <td>0</td>\n",
              "      <td>0</td>\n",
              "      <td>0</td>\n",
              "      <td>0</td>\n",
              "      <td>0</td>\n",
              "      <td>1</td>\n",
              "      <td>0</td>\n",
              "      <td>0</td>\n",
              "      <td>0</td>\n",
              "      <td>0</td>\n",
              "      <td>0</td>\n",
              "      <td>0</td>\n",
              "      <td>0</td>\n",
              "      <td>0</td>\n",
              "      <td>0</td>\n",
              "      <td>0</td>\n",
              "      <td>0</td>\n",
              "      <td>0</td>\n",
              "      <td>0</td>\n",
              "    </tr>\n",
              "    <tr>\n",
              "      <th>273</th>\n",
              "      <td>Great addition to the Amazon echo family</td>\n",
              "      <td>Love the Amazon Echo Show! The video display i...</td>\n",
              "      <td>0</td>\n",
              "      <td>0</td>\n",
              "      <td>0</td>\n",
              "      <td>0</td>\n",
              "      <td>0</td>\n",
              "      <td>0</td>\n",
              "      <td>0</td>\n",
              "      <td>0</td>\n",
              "      <td>0</td>\n",
              "      <td>1</td>\n",
              "      <td>0</td>\n",
              "      <td>0</td>\n",
              "      <td>0</td>\n",
              "      <td>0</td>\n",
              "      <td>0</td>\n",
              "      <td>0</td>\n",
              "      <td>0</td>\n",
              "      <td>0</td>\n",
              "      <td>0</td>\n",
              "      <td>0</td>\n",
              "      <td>0</td>\n",
              "      <td>0</td>\n",
              "      <td>0</td>\n",
              "    </tr>\n",
              "    <tr>\n",
              "      <th>278</th>\n",
              "      <td>The Amazon Echo is a great product....</td>\n",
              "      <td>I love the ECHO- Alexa is awesome... it was a ...</td>\n",
              "      <td>0</td>\n",
              "      <td>0</td>\n",
              "      <td>0</td>\n",
              "      <td>0</td>\n",
              "      <td>0</td>\n",
              "      <td>0</td>\n",
              "      <td>0</td>\n",
              "      <td>0</td>\n",
              "      <td>0</td>\n",
              "      <td>1</td>\n",
              "      <td>0</td>\n",
              "      <td>0</td>\n",
              "      <td>0</td>\n",
              "      <td>0</td>\n",
              "      <td>0</td>\n",
              "      <td>0</td>\n",
              "      <td>0</td>\n",
              "      <td>0</td>\n",
              "      <td>0</td>\n",
              "      <td>0</td>\n",
              "      <td>0</td>\n",
              "      <td>0</td>\n",
              "      <td>0</td>\n",
              "    </tr>\n",
              "    <tr>\n",
              "      <th>282</th>\n",
              "      <td>I switched the echo for the show and I love it!</td>\n",
              "      <td>The show is an all in one Alexa-enabled machin...</td>\n",
              "      <td>0</td>\n",
              "      <td>0</td>\n",
              "      <td>0</td>\n",
              "      <td>0</td>\n",
              "      <td>0</td>\n",
              "      <td>0</td>\n",
              "      <td>0</td>\n",
              "      <td>0</td>\n",
              "      <td>0</td>\n",
              "      <td>1</td>\n",
              "      <td>0</td>\n",
              "      <td>0</td>\n",
              "      <td>0</td>\n",
              "      <td>0</td>\n",
              "      <td>0</td>\n",
              "      <td>0</td>\n",
              "      <td>0</td>\n",
              "      <td>0</td>\n",
              "      <td>0</td>\n",
              "      <td>0</td>\n",
              "      <td>0</td>\n",
              "      <td>0</td>\n",
              "      <td>0</td>\n",
              "    </tr>\n",
              "    <tr>\n",
              "      <th>422</th>\n",
              "      <td>Great product, she loves it!</td>\n",
              "      <td>Bought this for my better half and she loves i...</td>\n",
              "      <td>0</td>\n",
              "      <td>0</td>\n",
              "      <td>0</td>\n",
              "      <td>0</td>\n",
              "      <td>0</td>\n",
              "      <td>0</td>\n",
              "      <td>0</td>\n",
              "      <td>0</td>\n",
              "      <td>0</td>\n",
              "      <td>1</td>\n",
              "      <td>0</td>\n",
              "      <td>0</td>\n",
              "      <td>0</td>\n",
              "      <td>0</td>\n",
              "      <td>0</td>\n",
              "      <td>0</td>\n",
              "      <td>0</td>\n",
              "      <td>0</td>\n",
              "      <td>0</td>\n",
              "      <td>0</td>\n",
              "      <td>0</td>\n",
              "      <td>0</td>\n",
              "      <td>0</td>\n",
              "    </tr>\n",
              "    <tr>\n",
              "      <th>511</th>\n",
              "      <td>Love love love it!</td>\n",
              "      <td>Too many great things to say about the echo sh...</td>\n",
              "      <td>0</td>\n",
              "      <td>0</td>\n",
              "      <td>0</td>\n",
              "      <td>0</td>\n",
              "      <td>0</td>\n",
              "      <td>0</td>\n",
              "      <td>0</td>\n",
              "      <td>0</td>\n",
              "      <td>0</td>\n",
              "      <td>1</td>\n",
              "      <td>0</td>\n",
              "      <td>0</td>\n",
              "      <td>0</td>\n",
              "      <td>0</td>\n",
              "      <td>0</td>\n",
              "      <td>0</td>\n",
              "      <td>0</td>\n",
              "      <td>0</td>\n",
              "      <td>0</td>\n",
              "      <td>0</td>\n",
              "      <td>0</td>\n",
              "      <td>0</td>\n",
              "      <td>0</td>\n",
              "    </tr>\n",
              "    <tr>\n",
              "      <th>539</th>\n",
              "      <td>Great addition to the Echo family</td>\n",
              "      <td>This is a great addition to the Echo family, b...</td>\n",
              "      <td>0</td>\n",
              "      <td>0</td>\n",
              "      <td>0</td>\n",
              "      <td>0</td>\n",
              "      <td>0</td>\n",
              "      <td>0</td>\n",
              "      <td>0</td>\n",
              "      <td>0</td>\n",
              "      <td>0</td>\n",
              "      <td>1</td>\n",
              "      <td>0</td>\n",
              "      <td>0</td>\n",
              "      <td>0</td>\n",
              "      <td>0</td>\n",
              "      <td>0</td>\n",
              "      <td>0</td>\n",
              "      <td>0</td>\n",
              "      <td>0</td>\n",
              "      <td>0</td>\n",
              "      <td>0</td>\n",
              "      <td>0</td>\n",
              "      <td>0</td>\n",
              "      <td>0</td>\n",
              "    </tr>\n",
              "    <tr>\n",
              "      <th>585</th>\n",
              "      <td>Echo show is great for me and my daughter</td>\n",
              "      <td>Loving it the ability to call up and watch ses...</td>\n",
              "      <td>0</td>\n",
              "      <td>0</td>\n",
              "      <td>0</td>\n",
              "      <td>0</td>\n",
              "      <td>0</td>\n",
              "      <td>0</td>\n",
              "      <td>0</td>\n",
              "      <td>0</td>\n",
              "      <td>0</td>\n",
              "      <td>1</td>\n",
              "      <td>0</td>\n",
              "      <td>0</td>\n",
              "      <td>0</td>\n",
              "      <td>0</td>\n",
              "      <td>0</td>\n",
              "      <td>0</td>\n",
              "      <td>0</td>\n",
              "      <td>0</td>\n",
              "      <td>0</td>\n",
              "      <td>0</td>\n",
              "      <td>0</td>\n",
              "      <td>0</td>\n",
              "      <td>0</td>\n",
              "    </tr>\n",
              "    <tr>\n",
              "      <th>609</th>\n",
              "      <td>Love Love Love</td>\n",
              "      <td>I didn't think I needed Alexa to have a screen...</td>\n",
              "      <td>0</td>\n",
              "      <td>0</td>\n",
              "      <td>0</td>\n",
              "      <td>0</td>\n",
              "      <td>0</td>\n",
              "      <td>0</td>\n",
              "      <td>0</td>\n",
              "      <td>0</td>\n",
              "      <td>0</td>\n",
              "      <td>1</td>\n",
              "      <td>0</td>\n",
              "      <td>0</td>\n",
              "      <td>0</td>\n",
              "      <td>0</td>\n",
              "      <td>0</td>\n",
              "      <td>0</td>\n",
              "      <td>0</td>\n",
              "      <td>0</td>\n",
              "      <td>0</td>\n",
              "      <td>0</td>\n",
              "      <td>0</td>\n",
              "      <td>0</td>\n",
              "      <td>0</td>\n",
              "    </tr>\n",
              "    <tr>\n",
              "      <th>769</th>\n",
              "      <td>Love Love Love</td>\n",
              "      <td>I didn't think I needed Alexa to have a screen...</td>\n",
              "      <td>0</td>\n",
              "      <td>0</td>\n",
              "      <td>0</td>\n",
              "      <td>0</td>\n",
              "      <td>0</td>\n",
              "      <td>0</td>\n",
              "      <td>0</td>\n",
              "      <td>0</td>\n",
              "      <td>0</td>\n",
              "      <td>1</td>\n",
              "      <td>0</td>\n",
              "      <td>0</td>\n",
              "      <td>0</td>\n",
              "      <td>0</td>\n",
              "      <td>0</td>\n",
              "      <td>0</td>\n",
              "      <td>0</td>\n",
              "      <td>0</td>\n",
              "      <td>0</td>\n",
              "      <td>0</td>\n",
              "      <td>0</td>\n",
              "      <td>0</td>\n",
              "      <td>0</td>\n",
              "    </tr>\n",
              "    <tr>\n",
              "      <th>883</th>\n",
              "      <td>Great product and easy to use</td>\n",
              "      <td>Product is great. It is Easy to use and easy t...</td>\n",
              "      <td>0</td>\n",
              "      <td>0</td>\n",
              "      <td>0</td>\n",
              "      <td>0</td>\n",
              "      <td>0</td>\n",
              "      <td>0</td>\n",
              "      <td>0</td>\n",
              "      <td>0</td>\n",
              "      <td>0</td>\n",
              "      <td>1</td>\n",
              "      <td>0</td>\n",
              "      <td>0</td>\n",
              "      <td>0</td>\n",
              "      <td>0</td>\n",
              "      <td>0</td>\n",
              "      <td>0</td>\n",
              "      <td>0</td>\n",
              "      <td>0</td>\n",
              "      <td>0</td>\n",
              "      <td>0</td>\n",
              "      <td>0</td>\n",
              "      <td>0</td>\n",
              "      <td>0</td>\n",
              "    </tr>\n",
              "    <tr>\n",
              "      <th>1819</th>\n",
              "      <td>great tablet for a great price!</td>\n",
              "      <td>I bought this a few weeks ago and use it every...</td>\n",
              "      <td>0</td>\n",
              "      <td>0</td>\n",
              "      <td>0</td>\n",
              "      <td>0</td>\n",
              "      <td>0</td>\n",
              "      <td>0</td>\n",
              "      <td>0</td>\n",
              "      <td>0</td>\n",
              "      <td>0</td>\n",
              "      <td>0</td>\n",
              "      <td>0</td>\n",
              "      <td>0</td>\n",
              "      <td>0</td>\n",
              "      <td>0</td>\n",
              "      <td>0</td>\n",
              "      <td>0</td>\n",
              "      <td>0</td>\n",
              "      <td>0</td>\n",
              "      <td>0</td>\n",
              "      <td>1</td>\n",
              "      <td>0</td>\n",
              "      <td>0</td>\n",
              "      <td>0</td>\n",
              "    </tr>\n",
              "    <tr>\n",
              "      <th>1869</th>\n",
              "      <td>Great tablet for a great price</td>\n",
              "      <td>My husband and I purchased 3 of these for each...</td>\n",
              "      <td>0</td>\n",
              "      <td>0</td>\n",
              "      <td>0</td>\n",
              "      <td>0</td>\n",
              "      <td>0</td>\n",
              "      <td>0</td>\n",
              "      <td>0</td>\n",
              "      <td>0</td>\n",
              "      <td>0</td>\n",
              "      <td>0</td>\n",
              "      <td>0</td>\n",
              "      <td>0</td>\n",
              "      <td>0</td>\n",
              "      <td>0</td>\n",
              "      <td>0</td>\n",
              "      <td>0</td>\n",
              "      <td>1</td>\n",
              "      <td>0</td>\n",
              "      <td>0</td>\n",
              "      <td>0</td>\n",
              "      <td>0</td>\n",
              "      <td>0</td>\n",
              "      <td>0</td>\n",
              "    </tr>\n",
              "    <tr>\n",
              "      <th>1956</th>\n",
              "      <td>great tablet/reader for a great price</td>\n",
              "      <td>The graphics and sound on this tablet were bet...</td>\n",
              "      <td>0</td>\n",
              "      <td>0</td>\n",
              "      <td>0</td>\n",
              "      <td>0</td>\n",
              "      <td>0</td>\n",
              "      <td>0</td>\n",
              "      <td>0</td>\n",
              "      <td>0</td>\n",
              "      <td>0</td>\n",
              "      <td>0</td>\n",
              "      <td>0</td>\n",
              "      <td>0</td>\n",
              "      <td>0</td>\n",
              "      <td>0</td>\n",
              "      <td>0</td>\n",
              "      <td>0</td>\n",
              "      <td>0</td>\n",
              "      <td>0</td>\n",
              "      <td>0</td>\n",
              "      <td>1</td>\n",
              "      <td>0</td>\n",
              "      <td>0</td>\n",
              "      <td>0</td>\n",
              "    </tr>\n",
              "    <tr>\n",
              "      <th>2735</th>\n",
              "      <td>Great tablet for a great price</td>\n",
              "      <td>I bought this tablet for my son, he loves it. ...</td>\n",
              "      <td>0</td>\n",
              "      <td>0</td>\n",
              "      <td>0</td>\n",
              "      <td>0</td>\n",
              "      <td>0</td>\n",
              "      <td>0</td>\n",
              "      <td>0</td>\n",
              "      <td>0</td>\n",
              "      <td>0</td>\n",
              "      <td>0</td>\n",
              "      <td>0</td>\n",
              "      <td>0</td>\n",
              "      <td>0</td>\n",
              "      <td>0</td>\n",
              "      <td>0</td>\n",
              "      <td>0</td>\n",
              "      <td>0</td>\n",
              "      <td>0</td>\n",
              "      <td>0</td>\n",
              "      <td>1</td>\n",
              "      <td>0</td>\n",
              "      <td>0</td>\n",
              "      <td>0</td>\n",
              "    </tr>\n",
              "    <tr>\n",
              "      <th>3104</th>\n",
              "      <td>Great Great Great!!!!</td>\n",
              "      <td>Omg I am so enjoying this. Sitting around the ...</td>\n",
              "      <td>0</td>\n",
              "      <td>0</td>\n",
              "      <td>0</td>\n",
              "      <td>0</td>\n",
              "      <td>0</td>\n",
              "      <td>0</td>\n",
              "      <td>0</td>\n",
              "      <td>0</td>\n",
              "      <td>0</td>\n",
              "      <td>0</td>\n",
              "      <td>0</td>\n",
              "      <td>0</td>\n",
              "      <td>1</td>\n",
              "      <td>0</td>\n",
              "      <td>0</td>\n",
              "      <td>0</td>\n",
              "      <td>0</td>\n",
              "      <td>0</td>\n",
              "      <td>0</td>\n",
              "      <td>0</td>\n",
              "      <td>0</td>\n",
              "      <td>0</td>\n",
              "      <td>0</td>\n",
              "    </tr>\n",
              "    <tr>\n",
              "      <th>3953</th>\n",
              "      <td>A Great Tablet for a Great Price</td>\n",
              "      <td>This Amazon Fire is perfect for what I need - ...</td>\n",
              "      <td>0</td>\n",
              "      <td>0</td>\n",
              "      <td>1</td>\n",
              "      <td>0</td>\n",
              "      <td>0</td>\n",
              "      <td>0</td>\n",
              "      <td>0</td>\n",
              "      <td>0</td>\n",
              "      <td>0</td>\n",
              "      <td>0</td>\n",
              "      <td>0</td>\n",
              "      <td>0</td>\n",
              "      <td>0</td>\n",
              "      <td>0</td>\n",
              "      <td>0</td>\n",
              "      <td>0</td>\n",
              "      <td>0</td>\n",
              "      <td>0</td>\n",
              "      <td>0</td>\n",
              "      <td>0</td>\n",
              "      <td>0</td>\n",
              "      <td>0</td>\n",
              "      <td>0</td>\n",
              "    </tr>\n",
              "    <tr>\n",
              "      <th>4076</th>\n",
              "      <td>Great price for such a great item.</td>\n",
              "      <td>I gave this Amazon Fire HD8 as a retirement gi...</td>\n",
              "      <td>0</td>\n",
              "      <td>0</td>\n",
              "      <td>1</td>\n",
              "      <td>0</td>\n",
              "      <td>0</td>\n",
              "      <td>0</td>\n",
              "      <td>0</td>\n",
              "      <td>0</td>\n",
              "      <td>0</td>\n",
              "      <td>0</td>\n",
              "      <td>0</td>\n",
              "      <td>0</td>\n",
              "      <td>0</td>\n",
              "      <td>0</td>\n",
              "      <td>0</td>\n",
              "      <td>0</td>\n",
              "      <td>0</td>\n",
              "      <td>0</td>\n",
              "      <td>0</td>\n",
              "      <td>0</td>\n",
              "      <td>0</td>\n",
              "      <td>0</td>\n",
              "      <td>0</td>\n",
              "    </tr>\n",
              "    <tr>\n",
              "      <th>4220</th>\n",
              "      <td>Great tablet for great price</td>\n",
              "      <td>This tablet is perfect for travel! Recently to...</td>\n",
              "      <td>0</td>\n",
              "      <td>0</td>\n",
              "      <td>0</td>\n",
              "      <td>0</td>\n",
              "      <td>0</td>\n",
              "      <td>0</td>\n",
              "      <td>0</td>\n",
              "      <td>0</td>\n",
              "      <td>0</td>\n",
              "      <td>0</td>\n",
              "      <td>0</td>\n",
              "      <td>0</td>\n",
              "      <td>0</td>\n",
              "      <td>1</td>\n",
              "      <td>0</td>\n",
              "      <td>0</td>\n",
              "      <td>0</td>\n",
              "      <td>0</td>\n",
              "      <td>0</td>\n",
              "      <td>0</td>\n",
              "      <td>0</td>\n",
              "      <td>0</td>\n",
              "      <td>0</td>\n",
              "    </tr>\n",
              "    <tr>\n",
              "      <th>4244</th>\n",
              "      <td>Great product for a great price</td>\n",
              "      <td>This tablet has far exceeded my expectations. ...</td>\n",
              "      <td>0</td>\n",
              "      <td>0</td>\n",
              "      <td>0</td>\n",
              "      <td>0</td>\n",
              "      <td>0</td>\n",
              "      <td>0</td>\n",
              "      <td>0</td>\n",
              "      <td>0</td>\n",
              "      <td>0</td>\n",
              "      <td>0</td>\n",
              "      <td>0</td>\n",
              "      <td>0</td>\n",
              "      <td>0</td>\n",
              "      <td>1</td>\n",
              "      <td>0</td>\n",
              "      <td>0</td>\n",
              "      <td>0</td>\n",
              "      <td>0</td>\n",
              "      <td>0</td>\n",
              "      <td>0</td>\n",
              "      <td>0</td>\n",
              "      <td>0</td>\n",
              "      <td>0</td>\n",
              "    </tr>\n",
              "    <tr>\n",
              "      <th>4357</th>\n",
              "      <td>Great tablet for great price.</td>\n",
              "      <td>I bought this tablet as a 13th birthday presen...</td>\n",
              "      <td>0</td>\n",
              "      <td>0</td>\n",
              "      <td>0</td>\n",
              "      <td>0</td>\n",
              "      <td>0</td>\n",
              "      <td>0</td>\n",
              "      <td>0</td>\n",
              "      <td>0</td>\n",
              "      <td>0</td>\n",
              "      <td>0</td>\n",
              "      <td>0</td>\n",
              "      <td>0</td>\n",
              "      <td>0</td>\n",
              "      <td>1</td>\n",
              "      <td>0</td>\n",
              "      <td>0</td>\n",
              "      <td>0</td>\n",
              "      <td>0</td>\n",
              "      <td>0</td>\n",
              "      <td>0</td>\n",
              "      <td>0</td>\n",
              "      <td>0</td>\n",
              "      <td>0</td>\n",
              "    </tr>\n",
              "    <tr>\n",
              "      <th>4944</th>\n",
              "      <td>Great tablet for great price.</td>\n",
              "      <td>its a nice tablet for the basic uses i need it...</td>\n",
              "      <td>0</td>\n",
              "      <td>0</td>\n",
              "      <td>0</td>\n",
              "      <td>0</td>\n",
              "      <td>0</td>\n",
              "      <td>0</td>\n",
              "      <td>0</td>\n",
              "      <td>0</td>\n",
              "      <td>0</td>\n",
              "      <td>0</td>\n",
              "      <td>0</td>\n",
              "      <td>0</td>\n",
              "      <td>0</td>\n",
              "      <td>0</td>\n",
              "      <td>0</td>\n",
              "      <td>0</td>\n",
              "      <td>0</td>\n",
              "      <td>0</td>\n",
              "      <td>1</td>\n",
              "      <td>0</td>\n",
              "      <td>0</td>\n",
              "      <td>0</td>\n",
              "      <td>0</td>\n",
              "    </tr>\n",
              "  </tbody>\n",
              "</table>\n",
              "</div>"
            ],
            "text/plain": [
              "                                        reviews.title  ... name_Kindle Oasis E-reader with Leather Charging Cover - Merlot, 6 High-Resolution Display (300 ppi), Wi-Fi - Includes Special Offers\n",
              "205              Great product for the every day use.  ...                                                  0                                                                                   \n",
              "220                           Great Item, works great  ...                                                  0                                                                                   \n",
              "227                                 Love love love it  ...                                                  0                                                                                   \n",
              "264               Great product and at a great price.  ...                                                  0                                                                                   \n",
              "273          Great addition to the Amazon echo family  ...                                                  0                                                                                   \n",
              "278            The Amazon Echo is a great product....  ...                                                  0                                                                                   \n",
              "282   I switched the echo for the show and I love it!  ...                                                  0                                                                                   \n",
              "422                      Great product, she loves it!  ...                                                  0                                                                                   \n",
              "511                                Love love love it!  ...                                                  0                                                                                   \n",
              "539                 Great addition to the Echo family  ...                                                  0                                                                                   \n",
              "585         Echo show is great for me and my daughter  ...                                                  0                                                                                   \n",
              "609                                    Love Love Love  ...                                                  0                                                                                   \n",
              "769                                    Love Love Love  ...                                                  0                                                                                   \n",
              "883                     Great product and easy to use  ...                                                  0                                                                                   \n",
              "1819                  great tablet for a great price!  ...                                                  0                                                                                   \n",
              "1869                   Great tablet for a great price  ...                                                  0                                                                                   \n",
              "1956            great tablet/reader for a great price  ...                                                  0                                                                                   \n",
              "2735                   Great tablet for a great price  ...                                                  0                                                                                   \n",
              "3104                            Great Great Great!!!!  ...                                                  0                                                                                   \n",
              "3953                 A Great Tablet for a Great Price  ...                                                  0                                                                                   \n",
              "4076               Great price for such a great item.  ...                                                  0                                                                                   \n",
              "4220                     Great tablet for great price  ...                                                  0                                                                                   \n",
              "4244                  Great product for a great price  ...                                                  0                                                                                   \n",
              "4357                    Great tablet for great price.  ...                                                  0                                                                                   \n",
              "4944                    Great tablet for great price.  ...                                                  0                                                                                   \n",
              "\n",
              "[25 rows x 25 columns]"
            ]
          },
          "metadata": {
            "tags": []
          },
          "execution_count": 32
        }
      ]
    },
    {
      "cell_type": "markdown",
      "metadata": {
        "id": "LQCrZzpt6YQ2",
        "colab_type": "text"
      },
      "source": [
        "# Clustering\n",
        "\n",
        "Let's run KMeans clustering to assign and then inspect the clusters.\n",
        "\n",
        "Note that the PCA is just an approximation, actual clustering outcome can look different."
      ]
    },
    {
      "cell_type": "markdown",
      "metadata": {
        "id": "HzsKM1eX6YQ3",
        "colab_type": "text"
      },
      "source": [
        "### KMeans\n",
        "https://scikit-learn.org/stable/modules/generated/sklearn.cluster.KMeans.html\n",
        "\n",
        "#### Fit\n",
        "\n",
        "- Original dimensions.\n",
        "- After feature reduction to 100 dimensions (to compare clustering results if low variance columns are dropped)"
      ]
    },
    {
      "cell_type": "code",
      "metadata": {
        "id": "c7qwAOAX6YQ3",
        "colab_type": "code",
        "colab": {}
      },
      "source": [
        "# Run KMeans with 2 clusters on the original dimensions\n",
        "kmeans = KMeans(n_clusters=2)\n",
        "\n",
        "kmeans.fit(X_inlier)\n",
        "\n",
        "# Get cluster assignments, assign to y\n",
        "y = kmeans.labels_\n",
        "\n",
        "# Get metrics\n",
        "score = silhouette_score(X_inlier, y)"
      ],
      "execution_count": 0,
      "outputs": []
    },
    {
      "cell_type": "code",
      "metadata": {
        "id": "JQi2P5iB6YQ5",
        "colab_type": "code",
        "outputId": "deab549a-8b44-4858-c4b7-dbe7d88796bf",
        "colab": {
          "base_uri": "https://localhost:8080/",
          "height": 34
        }
      },
      "source": [
        "y"
      ],
      "execution_count": 0,
      "outputs": [
        {
          "output_type": "execute_result",
          "data": {
            "text/plain": [
              "array([0, 1, 1, ..., 1, 0, 1], dtype=int32)"
            ]
          },
          "metadata": {
            "tags": []
          },
          "execution_count": 34
        }
      ]
    },
    {
      "cell_type": "code",
      "metadata": {
        "id": "TXCne-Wy6YQ8",
        "colab_type": "code",
        "outputId": "ae476a11-47df-4158-b59f-6b4f489e8c0d",
        "colab": {
          "base_uri": "https://localhost:8080/",
          "height": 235
        }
      },
      "source": [
        "# Run KMeans with 2 clusters after reducing to 100 dimensions\n",
        "pca_100 = TruncatedSVD(n_components=100)\n",
        "Z_100d = pca_100.fit_transform(X_inlier)\n",
        "Z_100d"
      ],
      "execution_count": 0,
      "outputs": [
        {
          "output_type": "execute_result",
          "data": {
            "text/plain": [
              "array([[ 0.08545244,  0.05362508,  0.02972103, ..., -0.12765747,\n",
              "         0.07749255,  0.09834017],\n",
              "       [ 0.98556244,  0.38885767, -0.3283519 , ...,  0.08017444,\n",
              "         0.2144054 , -0.02115732],\n",
              "       [ 1.32860185, -0.06442105,  0.07460261, ..., -0.00698773,\n",
              "        -0.00968542,  0.02935525],\n",
              "       ...,\n",
              "       [ 1.30275432, -0.20668717, -0.02979532, ...,  0.20247874,\n",
              "         0.24060354,  0.12586013],\n",
              "       [ 0.53809726, -0.15917976,  0.56811361, ..., -0.04814934,\n",
              "         0.09136014, -0.04702762],\n",
              "       [ 1.06552927, -0.25176604, -0.54100141, ..., -0.01053586,\n",
              "         0.08940657,  0.05729491]])"
            ]
          },
          "metadata": {
            "tags": []
          },
          "execution_count": 35
        }
      ]
    },
    {
      "cell_type": "code",
      "metadata": {
        "id": "t7K2BTc-6YRA",
        "colab_type": "code",
        "colab": {}
      },
      "source": [
        "# Run KMeans with 2 clusters on 100 dimensions\n",
        "kmeans_100d = KMeans(n_clusters=2)\n",
        "\n",
        "kmeans_100d.fit(Z_100d)\n",
        "\n",
        "# Get cluster assignments, assign to y_100d\n",
        "y_100d = kmeans_100d.labels_\n",
        "score_100d = silhouette_score(Z_100d, y_100d)"
      ],
      "execution_count": 0,
      "outputs": []
    },
    {
      "cell_type": "markdown",
      "metadata": {
        "id": "nqBc35Wh6YRM",
        "colab_type": "text"
      },
      "source": [
        "#### Visualise\n",
        "- Scatter plots coloured according to clusters\n",
        "- Mark the cluster centroids (KMeans-specific)"
      ]
    },
    {
      "cell_type": "code",
      "metadata": {
        "id": "xpueLend6YRM",
        "colab_type": "code",
        "outputId": "3f8d89f1-d09a-40ec-abd2-65741f4411d8",
        "colab": {
          "base_uri": "https://localhost:8080/",
          "height": 301
        }
      },
      "source": [
        "fig, ax = plt.subplots()\n",
        "\n",
        "n_clusters = kmeans.n_clusters\n",
        "\n",
        "for cluster_id in range(n_clusters):\n",
        "    # create a mask for the current cluster_id and inliers\n",
        "    mask = (y == cluster_id)\n",
        "    \n",
        "    # plot subset of samples using mask\n",
        "    ax.scatter(Z_2d_inlier[mask, 0], Z_2d_inlier[mask, 1], label=cluster_id)\n",
        "\n",
        "# mark the 2D cluster centroids on the same graph\n",
        "ax.scatter(kmeans.cluster_centers_[:, 0], kmeans.cluster_centers_[:, 1], \n",
        "           marker='x', label='centroids', color='black')\n",
        "\n",
        "ax.set_title(f'Kmeans clustering on original dimensions {X_inlier.shape[1]}, score: {score:.2f}')\n",
        "ax.set_xlabel('PC1')\n",
        "ax.set_ylabel('PC2')\n",
        "ax.legend()\n",
        "plt.show()"
      ],
      "execution_count": 0,
      "outputs": [
        {
          "output_type": "display_data",
          "data": {
            "image/png": "[encoded data removed]",
            "text/plain": [
              "<Figure size 432x288 with 1 Axes>"
            ]
          },
          "metadata": {
            "tags": []
          }
        }
      ]
    },
    {
      "cell_type": "code",
      "metadata": {
        "id": "h2LUXN7W6YRN",
        "colab_type": "code",
        "outputId": "845097f3-319f-4090-d65a-2a1194993c83",
        "colab": {
          "base_uri": "https://localhost:8080/",
          "height": 301
        }
      },
      "source": [
        "fig, ax = plt.subplots()\n",
        "\n",
        "n_clusters = kmeans_100d.n_clusters\n",
        "\n",
        "for cluster_id in range(n_clusters):\n",
        "    mask = (y_100d == cluster_id)\n",
        "    ax.scatter(Z_100d[mask, 0], Z_100d[mask, 1], label=cluster_id)\n",
        "\n",
        "ax.scatter(kmeans_100d.cluster_centers_[:, 0],\n",
        "               kmeans_100d.cluster_centers_[:, 1], marker='x',\n",
        "               color='black', label='centroids')\n",
        "\n",
        "ax.set_title(f'Kmeans clustering on reduced dimensions {Z_100d.shape[1]}, score: {score_100d:.2f}')\n",
        "ax.set_xlabel('PC1')\n",
        "ax.set_ylabel('PC2')\n",
        "ax.legend()\n",
        "plt.show()"
      ],
      "execution_count": 0,
      "outputs": [
        {
          "output_type": "display_data",
          "data": {
            "image/png": "[encoded data removed]",
            "text/plain": [
              "<Figure size 432x288 with 1 Axes>"
            ]
          },
          "metadata": {
            "tags": []
          }
        }
      ]
    },
    {
      "cell_type": "code",
      "metadata": {
        "id": "EwRJCQGSorZf",
        "colab_type": "code",
        "outputId": "d7145170-798c-40b3-a90e-6963fd3f3477",
        "colab": {
          "base_uri": "https://localhost:8080/",
          "height": 269
        }
      },
      "source": [
        "# Trying different feature reduction dimensions\n",
        "best_kmeans = None\n",
        "best_score = 0\n",
        "best_dim = 100\n",
        "\n",
        "for dim in range(100, 1001, 100): # 100-1000, step 100\n",
        "    # reduce and then fit kmeans\n",
        "    pca_dim = TruncatedSVD(n_components=dim)\n",
        "    Z_dim = pca_dim.fit_transform(X_inlier)\n",
        "    kmeans_dim = KMeans(n_clusters=2, n_jobs=4)\n",
        "    kmeans_dim.fit(Z_dim)\n",
        "\n",
        "    #scoring\n",
        "    y_dim = kmeans_dim.labels_\n",
        "    score_dim = silhouette_score(Z_dim, y_dim)\n",
        "    print(dim, score_dim)\n",
        "    if score_dim > best_score:\n",
        "        best_score = score_dim\n",
        "        best_kmeans = kmeans_dim\n",
        "        best_dim = dim\n",
        "\n",
        "best_score, best_kmeans, best_dim"
      ],
      "execution_count": 0,
      "outputs": [
        {
          "output_type": "stream",
          "text": [
            "100 0.07989599987966256\n",
            "200 0.06739140190007069\n",
            "300 0.06179193634171406\n",
            "400 0.058442914183378006\n",
            "500 0.05602023936840314\n",
            "600 0.054150052009602545\n",
            "700 0.05265795589233687\n",
            "800 0.051470875156562776\n",
            "900 0.050475114432491024\n",
            "1000 0.04965403256597217\n"
          ],
          "name": "stdout"
        },
        {
          "output_type": "execute_result",
          "data": {
            "text/plain": [
              "(0.07989599987966256,\n",
              " KMeans(algorithm='auto', copy_x=True, init='k-means++', max_iter=300,\n",
              "        n_clusters=2, n_init=10, n_jobs=4, precompute_distances='auto',\n",
              "        random_state=None, tol=0.0001, verbose=0),\n",
              " 100)"
            ]
          },
          "metadata": {
            "tags": []
          },
          "execution_count": 39
        }
      ]
    },
    {
      "cell_type": "code",
      "metadata": {
        "id": "LcFUd9gjsk3X",
        "colab_type": "code",
        "outputId": "4077761a-8776-490c-9d47-fe7b5ab3f817",
        "colab": {
          "base_uri": "https://localhost:8080/",
          "height": 235
        }
      },
      "source": [
        "# Looks like n_dimensions=100 is the best so far\n",
        "# Retrying with different k\n",
        "\n",
        "best_kmeans_k = None\n",
        "best_score_k = 0\n",
        "best_k = 2\n",
        "scores = []\n",
        "inertias = []\n",
        "ks = range(2, 10)\n",
        "\n",
        "for k in ks:\n",
        "    kmeans_k = KMeans(n_clusters=k, n_jobs=4)\n",
        "    kmeans_k.fit(Z_100d)\n",
        "\n",
        "    y_k = kmeans_k.labels_\n",
        "    score_k = silhouette_score(Z_100d, y_k)\n",
        "    print(k, score_k)\n",
        "    if score_k > best_score_k:\n",
        "        best_score_k = score_k\n",
        "        best_kmeans_k = kmeans_k\n",
        "        best_k = k\n",
        "    scores.append(score_k)\n",
        "    inertias.append(kmeans_k.inertia_)\n",
        "\n",
        "best_score_k, best_kmeans_k, best_k"
      ],
      "execution_count": 0,
      "outputs": [
        {
          "output_type": "stream",
          "text": [
            "2 0.07990984540569865\n",
            "3 0.06392143905269725\n",
            "4 0.08170636735569156\n",
            "5 0.09156239919481113\n",
            "6 0.09538915088609826\n",
            "7 0.10466487959121366\n",
            "8 0.08880941972228867\n",
            "9 0.10209069344632284\n"
          ],
          "name": "stdout"
        },
        {
          "output_type": "execute_result",
          "data": {
            "text/plain": [
              "(0.10466487959121366,\n",
              " KMeans(algorithm='auto', copy_x=True, init='k-means++', max_iter=300,\n",
              "        n_clusters=7, n_init=10, n_jobs=4, precompute_distances='auto',\n",
              "        random_state=None, tol=0.0001, verbose=0),\n",
              " 7)"
            ]
          },
          "metadata": {
            "tags": []
          },
          "execution_count": 40
        }
      ]
    },
    {
      "cell_type": "code",
      "metadata": {
        "id": "CaHQrc3btq61",
        "colab_type": "code",
        "outputId": "416c326b-7f7a-4f96-aac4-1723b03d34cc",
        "colab": {
          "base_uri": "https://localhost:8080/",
          "height": 397
        }
      },
      "source": [
        "# Elbow plots\n",
        "import numpy as np\n",
        "fig, axes = plt.subplots(nrows=2, figsize=(10, 6), sharex=True)\n",
        "\n",
        "axes[0].plot(ks, np.sqrt(np.array(inertias))/len(y_k))\n",
        "axes[0].set_xlabel('k')\n",
        "axes[0].set_ylabel('root mean square inertia')\n",
        "\n",
        "axes[1].plot(ks, scores)\n",
        "axes[1].set_xlabel('k')\n",
        "axes[1].set_ylabel('silhoutte coefficient')\n",
        "\n",
        "plt.show()"
      ],
      "execution_count": 0,
      "outputs": [
        {
          "output_type": "display_data",
          "data": {
            "image/png": "[encoded data removed]",
            "text/plain": [
              "<Figure size 720x432 with 2 Axes>"
            ]
          },
          "metadata": {
            "tags": []
          }
        }
      ]
    },
    {
      "cell_type": "markdown",
      "metadata": {
        "id": "cGq-_CsL6YRe",
        "colab_type": "text"
      },
      "source": [
        "## Observations\n",
        "\n",
        "Do the clusters actually make sense?\n",
        "\n",
        "To know for sure, we need to explore the data in each cluster."
      ]
    },
    {
      "cell_type": "code",
      "metadata": {
        "id": "dyWBVOyn6YRe",
        "colab_type": "code",
        "colab": {}
      },
      "source": [
        "# these are the cluster assignments with the highest score\n",
        "best_y = best_kmeans_k.labels_"
      ],
      "execution_count": 0,
      "outputs": []
    },
    {
      "cell_type": "code",
      "metadata": {
        "id": "vkFJgqA86YRg",
        "colab_type": "code",
        "outputId": "d2dbd08c-9f30-410a-f3e1-43321c7b06ea",
        "colab": {
          "base_uri": "https://localhost:8080/",
          "height": 1000
        }
      },
      "source": [
        "# Create a mask to explore the original text\n",
        "# Note that the outliers need to be excluded.\n",
        "\n",
        "df_nooutliers = df[include == 1]\n",
        "df_nooutliers"
      ],
      "execution_count": 0,
      "outputs": [
        {
          "output_type": "execute_result",
          "data": {
            "text/html": [
              "<div>\n",
              "<style scoped>\n",
              "    .dataframe tbody tr th:only-of-type {\n",
              "        vertical-align: middle;\n",
              "    }\n",
              "\n",
              "    .dataframe tbody tr th {\n",
              "        vertical-align: top;\n",
              "    }\n",
              "\n",
              "    .dataframe thead th {\n",
              "        text-align: right;\n",
              "    }\n",
              "</style>\n",
              "<table border=\"1\" class=\"dataframe\">\n",
              "  <thead>\n",
              "    <tr style=\"text-align: right;\">\n",
              "      <th></th>\n",
              "      <th>reviews.title</th>\n",
              "      <th>reviews.text</th>\n",
              "      <th>name_All-New Fire HD 8 Tablet, 8 HD Display, Wi-Fi, 16 GB - Includes Special Offers, Blue</th>\n",
              "      <th>name_All-New Fire HD 8 Tablet, 8 HD Display, Wi-Fi, 32 GB - Includes Special Offers, Blue</th>\n",
              "      <th>name_All-New Fire HD 8 Tablet, 8\" HD Display, Wi-Fi, 16 GB - Includes Special Offers, Magenta</th>\n",
              "      <th>name_All-New Fire HD 8 Tablet, 8\" HD Display, Wi-Fi, 32 GB - Includes Special Offers, Black</th>\n",
              "      <th>name_All-New Fire HD 8 Tablet, 8\" HD Display, Wi-Fi, 32 GB - Includes Special Offers, Magenta</th>\n",
              "      <th>name_Amazon - Echo Plus w/ Built-In Hub - Silver</th>\n",
              "      <th>name_Amazon - Kindle Voyage - 4GB - Wi-Fi + 3G - Black</th>\n",
              "      <th>name_Amazon - Kindle Voyage - 6\" - 4GB - Black</th>\n",
              "      <th>name_Amazon 9W PowerFast Official OEM USB Charger and Power Adapter for Fire Tablets and Kindle eReaders</th>\n",
              "      <th>name_Amazon Echo Show Alexa-enabled Bluetooth Speaker with 7\" Screen</th>\n",
              "      <th>name_Amazon Fire TV with 4K Ultra HD and Alexa Voice Remote (Pendant Design) | Streaming Media Player</th>\n",
              "      <th>name_Amazon Kindle E-Reader 6\" Wifi (8th Generation, 2016)</th>\n",
              "      <th>name_Amazon Tap - Alexa-Enabled Portable Bluetooth Speaker</th>\n",
              "      <th>name_Brand New Amazon Kindle Fire 16gb 7\" Ips Display Tablet Wifi 16 Gb Blue</th>\n",
              "      <th>name_Fire HD 10 Tablet, 10.1 HD Display, Wi-Fi, 16 GB - Includes Special Offers, Silver Aluminum</th>\n",
              "      <th>name_Fire HD 8 Tablet with Alexa, 8\" HD Display, 32 GB, Tangerine - with Special Offers</th>\n",
              "      <th>name_Fire Kids Edition Tablet, 7 Display, Wi-Fi, 16 GB, Blue Kid-Proof Case</th>\n",
              "      <th>name_Fire Kids Edition Tablet, 7 Display, Wi-Fi, 16 GB, Green Kid-Proof Case</th>\n",
              "      <th>name_Fire Tablet with Alexa, 7\" Display, 16 GB, Magenta - with Special Offers</th>\n",
              "      <th>name_Fire Tablet, 7 Display, Wi-Fi, 16 GB - Includes Special Offers, Black</th>\n",
              "      <th>name_Kindle E-reader - White, 6 Glare-Free Touchscreen Display, Wi-Fi - Includes Special Offers</th>\n",
              "      <th>name_Kindle Oasis E-reader with Leather Charging Cover - Black, 6\" High-Resolution Display (300 ppi), Wi-Fi - Includes Special Offers</th>\n",
              "      <th>name_Kindle Oasis E-reader with Leather Charging Cover - Merlot, 6 High-Resolution Display (300 ppi), Wi-Fi - Includes Special Offers</th>\n",
              "    </tr>\n",
              "  </thead>\n",
              "  <tbody>\n",
              "    <tr>\n",
              "      <th>0</th>\n",
              "      <td>Too small</td>\n",
              "      <td>I thought it would be as big as small paper bu...</td>\n",
              "      <td>0</td>\n",
              "      <td>0</td>\n",
              "      <td>0</td>\n",
              "      <td>0</td>\n",
              "      <td>0</td>\n",
              "      <td>0</td>\n",
              "      <td>0</td>\n",
              "      <td>0</td>\n",
              "      <td>0</td>\n",
              "      <td>0</td>\n",
              "      <td>0</td>\n",
              "      <td>1</td>\n",
              "      <td>0</td>\n",
              "      <td>0</td>\n",
              "      <td>0</td>\n",
              "      <td>0</td>\n",
              "      <td>0</td>\n",
              "      <td>0</td>\n",
              "      <td>0</td>\n",
              "      <td>0</td>\n",
              "      <td>0</td>\n",
              "      <td>0</td>\n",
              "      <td>0</td>\n",
              "    </tr>\n",
              "    <tr>\n",
              "      <th>1</th>\n",
              "      <td>Great light reader. Easy to use at the beach</td>\n",
              "      <td>This kindle is light and easy to use especiall...</td>\n",
              "      <td>0</td>\n",
              "      <td>0</td>\n",
              "      <td>0</td>\n",
              "      <td>0</td>\n",
              "      <td>0</td>\n",
              "      <td>0</td>\n",
              "      <td>0</td>\n",
              "      <td>0</td>\n",
              "      <td>0</td>\n",
              "      <td>0</td>\n",
              "      <td>0</td>\n",
              "      <td>1</td>\n",
              "      <td>0</td>\n",
              "      <td>0</td>\n",
              "      <td>0</td>\n",
              "      <td>0</td>\n",
              "      <td>0</td>\n",
              "      <td>0</td>\n",
              "      <td>0</td>\n",
              "      <td>0</td>\n",
              "      <td>0</td>\n",
              "      <td>0</td>\n",
              "      <td>0</td>\n",
              "    </tr>\n",
              "    <tr>\n",
              "      <th>2</th>\n",
              "      <td>Great for the price</td>\n",
              "      <td>Didnt know how much i'd use a kindle so went f...</td>\n",
              "      <td>0</td>\n",
              "      <td>0</td>\n",
              "      <td>0</td>\n",
              "      <td>0</td>\n",
              "      <td>0</td>\n",
              "      <td>0</td>\n",
              "      <td>0</td>\n",
              "      <td>0</td>\n",
              "      <td>0</td>\n",
              "      <td>0</td>\n",
              "      <td>0</td>\n",
              "      <td>1</td>\n",
              "      <td>0</td>\n",
              "      <td>0</td>\n",
              "      <td>0</td>\n",
              "      <td>0</td>\n",
              "      <td>0</td>\n",
              "      <td>0</td>\n",
              "      <td>0</td>\n",
              "      <td>0</td>\n",
              "      <td>0</td>\n",
              "      <td>0</td>\n",
              "      <td>0</td>\n",
              "    </tr>\n",
              "    <tr>\n",
              "      <th>3</th>\n",
              "      <td>A Great Buy</td>\n",
              "      <td>I am 100 happy with my purchase. I caught it o...</td>\n",
              "      <td>0</td>\n",
              "      <td>0</td>\n",
              "      <td>0</td>\n",
              "      <td>0</td>\n",
              "      <td>0</td>\n",
              "      <td>0</td>\n",
              "      <td>0</td>\n",
              "      <td>0</td>\n",
              "      <td>0</td>\n",
              "      <td>0</td>\n",
              "      <td>0</td>\n",
              "      <td>1</td>\n",
              "      <td>0</td>\n",
              "      <td>0</td>\n",
              "      <td>0</td>\n",
              "      <td>0</td>\n",
              "      <td>0</td>\n",
              "      <td>0</td>\n",
              "      <td>0</td>\n",
              "      <td>0</td>\n",
              "      <td>0</td>\n",
              "      <td>0</td>\n",
              "      <td>0</td>\n",
              "    </tr>\n",
              "    <tr>\n",
              "      <th>4</th>\n",
              "      <td>Solid entry-level Kindle. Great for kids</td>\n",
              "      <td>Solid entry level Kindle. Great for kids. Gift...</td>\n",
              "      <td>0</td>\n",
              "      <td>0</td>\n",
              "      <td>0</td>\n",
              "      <td>0</td>\n",
              "      <td>0</td>\n",
              "      <td>0</td>\n",
              "      <td>0</td>\n",
              "      <td>0</td>\n",
              "      <td>0</td>\n",
              "      <td>0</td>\n",
              "      <td>0</td>\n",
              "      <td>1</td>\n",
              "      <td>0</td>\n",
              "      <td>0</td>\n",
              "      <td>0</td>\n",
              "      <td>0</td>\n",
              "      <td>0</td>\n",
              "      <td>0</td>\n",
              "      <td>0</td>\n",
              "      <td>0</td>\n",
              "      <td>0</td>\n",
              "      <td>0</td>\n",
              "      <td>0</td>\n",
              "    </tr>\n",
              "    <tr>\n",
              "      <th>...</th>\n",
              "      <td>...</td>\n",
              "      <td>...</td>\n",
              "      <td>...</td>\n",
              "      <td>...</td>\n",
              "      <td>...</td>\n",
              "      <td>...</td>\n",
              "      <td>...</td>\n",
              "      <td>...</td>\n",
              "      <td>...</td>\n",
              "      <td>...</td>\n",
              "      <td>...</td>\n",
              "      <td>...</td>\n",
              "      <td>...</td>\n",
              "      <td>...</td>\n",
              "      <td>...</td>\n",
              "      <td>...</td>\n",
              "      <td>...</td>\n",
              "      <td>...</td>\n",
              "      <td>...</td>\n",
              "      <td>...</td>\n",
              "      <td>...</td>\n",
              "      <td>...</td>\n",
              "      <td>...</td>\n",
              "      <td>...</td>\n",
              "      <td>...</td>\n",
              "    </tr>\n",
              "    <tr>\n",
              "      <th>4995</th>\n",
              "      <td>Good product</td>\n",
              "      <td>This is a great tablet for the price. Amazon i...</td>\n",
              "      <td>0</td>\n",
              "      <td>0</td>\n",
              "      <td>0</td>\n",
              "      <td>0</td>\n",
              "      <td>0</td>\n",
              "      <td>0</td>\n",
              "      <td>0</td>\n",
              "      <td>0</td>\n",
              "      <td>0</td>\n",
              "      <td>0</td>\n",
              "      <td>0</td>\n",
              "      <td>0</td>\n",
              "      <td>0</td>\n",
              "      <td>0</td>\n",
              "      <td>0</td>\n",
              "      <td>0</td>\n",
              "      <td>0</td>\n",
              "      <td>0</td>\n",
              "      <td>1</td>\n",
              "      <td>0</td>\n",
              "      <td>0</td>\n",
              "      <td>0</td>\n",
              "      <td>0</td>\n",
              "    </tr>\n",
              "    <tr>\n",
              "      <th>4996</th>\n",
              "      <td>Great Tablet</td>\n",
              "      <td>This tablet is the perfect size and so easy to...</td>\n",
              "      <td>0</td>\n",
              "      <td>0</td>\n",
              "      <td>0</td>\n",
              "      <td>0</td>\n",
              "      <td>0</td>\n",
              "      <td>0</td>\n",
              "      <td>0</td>\n",
              "      <td>0</td>\n",
              "      <td>0</td>\n",
              "      <td>0</td>\n",
              "      <td>0</td>\n",
              "      <td>0</td>\n",
              "      <td>0</td>\n",
              "      <td>0</td>\n",
              "      <td>0</td>\n",
              "      <td>0</td>\n",
              "      <td>0</td>\n",
              "      <td>0</td>\n",
              "      <td>1</td>\n",
              "      <td>0</td>\n",
              "      <td>0</td>\n",
              "      <td>0</td>\n",
              "      <td>0</td>\n",
              "    </tr>\n",
              "    <tr>\n",
              "      <th>4997</th>\n",
              "      <td>Great for kids or smaller needs</td>\n",
              "      <td>Purchased this for my son. Has room to upgrade...</td>\n",
              "      <td>0</td>\n",
              "      <td>0</td>\n",
              "      <td>0</td>\n",
              "      <td>0</td>\n",
              "      <td>0</td>\n",
              "      <td>0</td>\n",
              "      <td>0</td>\n",
              "      <td>0</td>\n",
              "      <td>0</td>\n",
              "      <td>0</td>\n",
              "      <td>0</td>\n",
              "      <td>0</td>\n",
              "      <td>0</td>\n",
              "      <td>0</td>\n",
              "      <td>0</td>\n",
              "      <td>0</td>\n",
              "      <td>0</td>\n",
              "      <td>0</td>\n",
              "      <td>1</td>\n",
              "      <td>0</td>\n",
              "      <td>0</td>\n",
              "      <td>0</td>\n",
              "      <td>0</td>\n",
              "    </tr>\n",
              "    <tr>\n",
              "      <th>4998</th>\n",
              "      <td>Very sturdy for a 5 year old</td>\n",
              "      <td>I had some thoughts about getting this for a 5...</td>\n",
              "      <td>0</td>\n",
              "      <td>0</td>\n",
              "      <td>0</td>\n",
              "      <td>0</td>\n",
              "      <td>0</td>\n",
              "      <td>0</td>\n",
              "      <td>0</td>\n",
              "      <td>0</td>\n",
              "      <td>0</td>\n",
              "      <td>0</td>\n",
              "      <td>0</td>\n",
              "      <td>0</td>\n",
              "      <td>0</td>\n",
              "      <td>0</td>\n",
              "      <td>0</td>\n",
              "      <td>0</td>\n",
              "      <td>0</td>\n",
              "      <td>0</td>\n",
              "      <td>1</td>\n",
              "      <td>0</td>\n",
              "      <td>0</td>\n",
              "      <td>0</td>\n",
              "      <td>0</td>\n",
              "    </tr>\n",
              "    <tr>\n",
              "      <th>4999</th>\n",
              "      <td>great little tablet</td>\n",
              "      <td>this is a steal, have 8 gb model as well.This ...</td>\n",
              "      <td>0</td>\n",
              "      <td>0</td>\n",
              "      <td>0</td>\n",
              "      <td>0</td>\n",
              "      <td>0</td>\n",
              "      <td>0</td>\n",
              "      <td>0</td>\n",
              "      <td>0</td>\n",
              "      <td>0</td>\n",
              "      <td>0</td>\n",
              "      <td>0</td>\n",
              "      <td>0</td>\n",
              "      <td>0</td>\n",
              "      <td>0</td>\n",
              "      <td>0</td>\n",
              "      <td>0</td>\n",
              "      <td>0</td>\n",
              "      <td>0</td>\n",
              "      <td>1</td>\n",
              "      <td>0</td>\n",
              "      <td>0</td>\n",
              "      <td>0</td>\n",
              "      <td>0</td>\n",
              "    </tr>\n",
              "  </tbody>\n",
              "</table>\n",
              "<p>4975 rows × 25 columns</p>\n",
              "</div>"
            ],
            "text/plain": [
              "                                     reviews.title  ... name_Kindle Oasis E-reader with Leather Charging Cover - Merlot, 6 High-Resolution Display (300 ppi), Wi-Fi - Includes Special Offers\n",
              "0                                        Too small  ...                                                  0                                                                                   \n",
              "1     Great light reader. Easy to use at the beach  ...                                                  0                                                                                   \n",
              "2                              Great for the price  ...                                                  0                                                                                   \n",
              "3                                      A Great Buy  ...                                                  0                                                                                   \n",
              "4         Solid entry-level Kindle. Great for kids  ...                                                  0                                                                                   \n",
              "...                                            ...  ...                                                ...                                                                                   \n",
              "4995                                  Good product  ...                                                  0                                                                                   \n",
              "4996                                  Great Tablet  ...                                                  0                                                                                   \n",
              "4997               Great for kids or smaller needs  ...                                                  0                                                                                   \n",
              "4998                  Very sturdy for a 5 year old  ...                                                  0                                                                                   \n",
              "4999                           great little tablet  ...                                                  0                                                                                   \n",
              "\n",
              "[4975 rows x 25 columns]"
            ]
          },
          "metadata": {
            "tags": []
          },
          "execution_count": 43
        }
      ]
    },
    {
      "cell_type": "code",
      "metadata": {
        "id": "pwBRCvYBvl_q",
        "colab_type": "code",
        "outputId": "97d8c943-e1b1-481c-a947-f108cd76a9ac",
        "colab": {
          "base_uri": "https://localhost:8080/",
          "height": 301
        }
      },
      "source": [
        "fig, ax = plt.subplots()\n",
        "\n",
        "n_clusters = best_kmeans_k.n_clusters\n",
        "\n",
        "for cluster_id in range(n_clusters):\n",
        "    mask = (best_y == cluster_id)\n",
        "    ax.scatter(Z_100d[mask, 0], Z_100d[mask, 1], label=cluster_id)\n",
        "\n",
        "ax.scatter(best_kmeans_k.cluster_centers_[:, 0],\n",
        "               best_kmeans_k.cluster_centers_[:, 1],\n",
        "               marker='x', color='black', label='centroids')\n",
        "\n",
        "ax.set_title(f'Kmeans clustering on reduced dimensions {Z_100d.shape[1]}, k {n_clusters}, score: {best_score_k:.2f}')\n",
        "ax.set_xlabel('PC1')\n",
        "ax.set_ylabel('PC2')\n",
        "ax.legend()\n",
        "plt.show()"
      ],
      "execution_count": 0,
      "outputs": [
        {
          "output_type": "display_data",
          "data": {
            "image/png": "[encoded data removed]",
            "text/plain": [
              "<Figure size 432x288 with 1 Axes>"
            ]
          },
          "metadata": {
            "tags": []
          }
        }
      ]
    },
    {
      "cell_type": "code",
      "metadata": {
        "scrolled": true,
        "id": "kFIh5Qo86YRi",
        "colab_type": "code",
        "outputId": "756b583d-3696-4599-9e52-c5014f47662f",
        "colab": {
          "base_uri": "https://localhost:8080/",
          "height": 402
        }
      },
      "source": [
        "# cluster 0\n",
        "df_nooutliers[best_y==0][['reviews.title', 'reviews.text']]"
      ],
      "execution_count": 0,
      "outputs": [
        {
          "output_type": "execute_result",
          "data": {
            "text/html": [
              "<div>\n",
              "<style scoped>\n",
              "    .dataframe tbody tr th:only-of-type {\n",
              "        vertical-align: middle;\n",
              "    }\n",
              "\n",
              "    .dataframe tbody tr th {\n",
              "        vertical-align: top;\n",
              "    }\n",
              "\n",
              "    .dataframe thead th {\n",
              "        text-align: right;\n",
              "    }\n",
              "</style>\n",
              "<table border=\"1\" class=\"dataframe\">\n",
              "  <thead>\n",
              "    <tr style=\"text-align: right;\">\n",
              "      <th></th>\n",
              "      <th>reviews.title</th>\n",
              "      <th>reviews.text</th>\n",
              "    </tr>\n",
              "  </thead>\n",
              "  <tbody>\n",
              "    <tr>\n",
              "      <th>96</th>\n",
              "      <td>Amazon Echo Show - Greatest Gift EVER</td>\n",
              "      <td>Great Gift for anyone. Very easy to setup. Coe...</td>\n",
              "    </tr>\n",
              "    <tr>\n",
              "      <th>97</th>\n",
              "      <td>Amazon Echo Show</td>\n",
              "      <td>Super excited to give this as a gift. It's sup...</td>\n",
              "    </tr>\n",
              "    <tr>\n",
              "      <th>98</th>\n",
              "      <td>Had to upgrade</td>\n",
              "      <td>We bought this for mother in law, buying anoth...</td>\n",
              "    </tr>\n",
              "    <tr>\n",
              "      <th>99</th>\n",
              "      <td>Practical, easy to setup</td>\n",
              "      <td>Well designed, good sound, has everything Alex...</td>\n",
              "    </tr>\n",
              "    <tr>\n",
              "      <th>100</th>\n",
              "      <td>Awesome having Show!</td>\n",
              "      <td>I have one Alexa and three Echo dots and havin...</td>\n",
              "    </tr>\n",
              "    <tr>\n",
              "      <th>...</th>\n",
              "      <td>...</td>\n",
              "      <td>...</td>\n",
              "    </tr>\n",
              "    <tr>\n",
              "      <th>936</th>\n",
              "      <td></td>\n",
              "      <td>Best New Adult Toy in years! Wish I had purcha...</td>\n",
              "    </tr>\n",
              "    <tr>\n",
              "      <th>937</th>\n",
              "      <td>Echo Show</td>\n",
              "      <td>I own multiple echoes and I like the show the ...</td>\n",
              "    </tr>\n",
              "    <tr>\n",
              "      <th>938</th>\n",
              "      <td>Like Alexa</td>\n",
              "      <td>I bought several Alexa‚Äôs for Christmas gifts...</td>\n",
              "    </tr>\n",
              "    <tr>\n",
              "      <th>939</th>\n",
              "      <td>Best one yet</td>\n",
              "      <td>This one is the best...I have the dots but thi...</td>\n",
              "    </tr>\n",
              "    <tr>\n",
              "      <th>940</th>\n",
              "      <td>Third Echo Product...</td>\n",
              "      <td>My wife said I‚Äôm developing a ‚ÄúStar Trek‚Ä...</td>\n",
              "    </tr>\n",
              "  </tbody>\n",
              "</table>\n",
              "<p>822 rows × 2 columns</p>\n",
              "</div>"
            ],
            "text/plain": [
              "                             reviews.title                                       reviews.text\n",
              "96   Amazon Echo Show - Greatest Gift EVER  Great Gift for anyone. Very easy to setup. Coe...\n",
              "97                        Amazon Echo Show  Super excited to give this as a gift. It's sup...\n",
              "98                          Had to upgrade  We bought this for mother in law, buying anoth...\n",
              "99                Practical, easy to setup  Well designed, good sound, has everything Alex...\n",
              "100                   Awesome having Show!  I have one Alexa and three Echo dots and havin...\n",
              "..                                     ...                                                ...\n",
              "936                                         Best New Adult Toy in years! Wish I had purcha...\n",
              "937                              Echo Show  I own multiple echoes and I like the show the ...\n",
              "938                             Like Alexa  I bought several Alexa‚Äôs for Christmas gifts...\n",
              "939                           Best one yet  This one is the best...I have the dots but thi...\n",
              "940                  Third Echo Product...  My wife said I‚Äôm developing a ‚ÄúStar Trek‚Ä...\n",
              "\n",
              "[822 rows x 2 columns]"
            ]
          },
          "metadata": {
            "tags": []
          },
          "execution_count": 45
        }
      ]
    },
    {
      "cell_type": "code",
      "metadata": {
        "scrolled": true,
        "id": "4DbmWnOI6YRj",
        "colab_type": "code",
        "outputId": "823d2ce7-7790-4929-e319-f7e06e2e3c1f",
        "colab": {
          "base_uri": "https://localhost:8080/",
          "height": 402
        }
      },
      "source": [
        "# cluster 5\n",
        "df_nooutliers[best_y==5][['reviews.title', 'reviews.text']]"
      ],
      "execution_count": 0,
      "outputs": [
        {
          "output_type": "execute_result",
          "data": {
            "text/html": [
              "<div>\n",
              "<style scoped>\n",
              "    .dataframe tbody tr th:only-of-type {\n",
              "        vertical-align: middle;\n",
              "    }\n",
              "\n",
              "    .dataframe tbody tr th {\n",
              "        vertical-align: top;\n",
              "    }\n",
              "\n",
              "    .dataframe thead th {\n",
              "        text-align: right;\n",
              "    }\n",
              "</style>\n",
              "<table border=\"1\" class=\"dataframe\">\n",
              "  <thead>\n",
              "    <tr style=\"text-align: right;\">\n",
              "      <th></th>\n",
              "      <th>reviews.title</th>\n",
              "      <th>reviews.text</th>\n",
              "    </tr>\n",
              "  </thead>\n",
              "  <tbody>\n",
              "    <tr>\n",
              "      <th>0</th>\n",
              "      <td>Too small</td>\n",
              "      <td>I thought it would be as big as small paper bu...</td>\n",
              "    </tr>\n",
              "    <tr>\n",
              "      <th>5</th>\n",
              "      <td>Good ebook</td>\n",
              "      <td>This make an excellent ebook reader. Don't exp...</td>\n",
              "    </tr>\n",
              "    <tr>\n",
              "      <th>6</th>\n",
              "      <td>Light Weight - Makes a world of difference whe...</td>\n",
              "      <td>I ordered this for my daughter, as I have the ...</td>\n",
              "    </tr>\n",
              "    <tr>\n",
              "      <th>7</th>\n",
              "      <td>not good quality</td>\n",
              "      <td>I bought my Kindle about 2 months ago and the ...</td>\n",
              "    </tr>\n",
              "    <tr>\n",
              "      <th>8</th>\n",
              "      <td>best ebook</td>\n",
              "      <td>amazon kindle is always the best ebook, upgrad...</td>\n",
              "    </tr>\n",
              "    <tr>\n",
              "      <th>...</th>\n",
              "      <td>...</td>\n",
              "      <td>...</td>\n",
              "    </tr>\n",
              "    <tr>\n",
              "      <th>4987</th>\n",
              "      <td>So improved</td>\n",
              "      <td>My children love these kindles! They are so mu...</td>\n",
              "    </tr>\n",
              "    <tr>\n",
              "      <th>4988</th>\n",
              "      <td>EXCELLENT</td>\n",
              "      <td>This tablet is so great for school children to...</td>\n",
              "    </tr>\n",
              "    <tr>\n",
              "      <th>4990</th>\n",
              "      <td>Its a gift</td>\n",
              "      <td>Tablets are best used for personal reading. Cl...</td>\n",
              "    </tr>\n",
              "    <tr>\n",
              "      <th>4994</th>\n",
              "      <td>Very versatile</td>\n",
              "      <td>I love this tablet/kindle. I can access email,...</td>\n",
              "    </tr>\n",
              "    <tr>\n",
              "      <th>4995</th>\n",
              "      <td>Good product</td>\n",
              "      <td>This is a great tablet for the price. Amazon i...</td>\n",
              "    </tr>\n",
              "  </tbody>\n",
              "</table>\n",
              "<p>1162 rows × 2 columns</p>\n",
              "</div>"
            ],
            "text/plain": [
              "                                          reviews.title                                       reviews.text\n",
              "0                                             Too small  I thought it would be as big as small paper bu...\n",
              "5                                            Good ebook  This make an excellent ebook reader. Don't exp...\n",
              "6     Light Weight - Makes a world of difference whe...  I ordered this for my daughter, as I have the ...\n",
              "7                                      not good quality  I bought my Kindle about 2 months ago and the ...\n",
              "8                                            best ebook  amazon kindle is always the best ebook, upgrad...\n",
              "...                                                 ...                                                ...\n",
              "4987                                        So improved  My children love these kindles! They are so mu...\n",
              "4988                                          EXCELLENT  This tablet is so great for school children to...\n",
              "4990                                         Its a gift  Tablets are best used for personal reading. Cl...\n",
              "4994                                     Very versatile  I love this tablet/kindle. I can access email,...\n",
              "4995                                       Good product  This is a great tablet for the price. Amazon i...\n",
              "\n",
              "[1162 rows x 2 columns]"
            ]
          },
          "metadata": {
            "tags": []
          },
          "execution_count": 46
        }
      ]
    },
    {
      "cell_type": "code",
      "metadata": {
        "scrolled": true,
        "id": "6Bwvh8oz6YRl",
        "colab_type": "code",
        "outputId": "a92e77ff-85d3-4259-fedc-a7163bf9593c",
        "colab": {
          "base_uri": "https://localhost:8080/",
          "height": 402
        }
      },
      "source": [
        "# cluster 2: family\n",
        "df_nooutliers[best_y==2][['reviews.title', 'reviews.text']]"
      ],
      "execution_count": 0,
      "outputs": [
        {
          "output_type": "execute_result",
          "data": {
            "text/html": [
              "<div>\n",
              "<style scoped>\n",
              "    .dataframe tbody tr th:only-of-type {\n",
              "        vertical-align: middle;\n",
              "    }\n",
              "\n",
              "    .dataframe tbody tr th {\n",
              "        vertical-align: top;\n",
              "    }\n",
              "\n",
              "    .dataframe thead th {\n",
              "        text-align: right;\n",
              "    }\n",
              "</style>\n",
              "<table border=\"1\" class=\"dataframe\">\n",
              "  <thead>\n",
              "    <tr style=\"text-align: right;\">\n",
              "      <th></th>\n",
              "      <th>reviews.title</th>\n",
              "      <th>reviews.text</th>\n",
              "    </tr>\n",
              "  </thead>\n",
              "  <tbody>\n",
              "    <tr>\n",
              "      <th>2</th>\n",
              "      <td>Great for the price</td>\n",
              "      <td>Didnt know how much i'd use a kindle so went f...</td>\n",
              "    </tr>\n",
              "    <tr>\n",
              "      <th>14</th>\n",
              "      <td>Great for reading on the go</td>\n",
              "      <td>I use this every day on my commute. Great batt...</td>\n",
              "    </tr>\n",
              "    <tr>\n",
              "      <th>23</th>\n",
              "      <td>Good Deal for the Price</td>\n",
              "      <td>The Amazon Kindle is light weight and easy to ...</td>\n",
              "    </tr>\n",
              "    <tr>\n",
              "      <th>46</th>\n",
              "      <td>For mom</td>\n",
              "      <td>Bought this for my 90+ year-old, totally no-te...</td>\n",
              "    </tr>\n",
              "    <tr>\n",
              "      <th>51</th>\n",
              "      <td>Good for books</td>\n",
              "      <td>The kindle is good to download apps for books ...</td>\n",
              "    </tr>\n",
              "    <tr>\n",
              "      <th>...</th>\n",
              "      <td>...</td>\n",
              "      <td>...</td>\n",
              "    </tr>\n",
              "    <tr>\n",
              "      <th>4952</th>\n",
              "      <td>Easy enough for Grandpa</td>\n",
              "      <td>Tablet has worked without a hitch. We bought i...</td>\n",
              "    </tr>\n",
              "    <tr>\n",
              "      <th>4974</th>\n",
              "      <td>It was the I deal gift for my gran child</td>\n",
              "      <td>It great just a little small then what I would...</td>\n",
              "    </tr>\n",
              "    <tr>\n",
              "      <th>4983</th>\n",
              "      <td>awesome for games and movies</td>\n",
              "      <td>Bought this to use on my travels. comes in han...</td>\n",
              "    </tr>\n",
              "    <tr>\n",
              "      <th>4991</th>\n",
              "      <td>Good for my 11 year old son</td>\n",
              "      <td>My son uses the device to help him do his home...</td>\n",
              "    </tr>\n",
              "    <tr>\n",
              "      <th>4998</th>\n",
              "      <td>Very sturdy for a 5 year old</td>\n",
              "      <td>I had some thoughts about getting this for a 5...</td>\n",
              "    </tr>\n",
              "  </tbody>\n",
              "</table>\n",
              "<p>398 rows × 2 columns</p>\n",
              "</div>"
            ],
            "text/plain": [
              "                                 reviews.title                                       reviews.text\n",
              "2                          Great for the price  Didnt know how much i'd use a kindle so went f...\n",
              "14                 Great for reading on the go  I use this every day on my commute. Great batt...\n",
              "23                     Good Deal for the Price  The Amazon Kindle is light weight and easy to ...\n",
              "46                                     For mom  Bought this for my 90+ year-old, totally no-te...\n",
              "51                              Good for books  The kindle is good to download apps for books ...\n",
              "...                                        ...                                                ...\n",
              "4952                   Easy enough for Grandpa  Tablet has worked without a hitch. We bought i...\n",
              "4974  It was the I deal gift for my gran child  It great just a little small then what I would...\n",
              "4983              awesome for games and movies  Bought this to use on my travels. comes in han...\n",
              "4991               Good for my 11 year old son  My son uses the device to help him do his home...\n",
              "4998              Very sturdy for a 5 year old  I had some thoughts about getting this for a 5...\n",
              "\n",
              "[398 rows x 2 columns]"
            ]
          },
          "metadata": {
            "tags": []
          },
          "execution_count": 47
        }
      ]
    },
    {
      "cell_type": "markdown",
      "metadata": {
        "id": "N5gtvDpW6YRv",
        "colab_type": "text"
      },
      "source": [
        "## Further practice\n",
        "- Try Hierarchical clustering. You can refer to the clustering reference notebook. \n",
        "- Compare the results of Hierarchical clustering with KMeans (silhoutte scores, PCA plot)\n",
        "https://scikit-learn.org/stable/modules/generated/sklearn.cluster.AgglomerativeClustering.html\n",
        "\n",
        "- Run Latent Dirichlet Analysis to extract topics for each cluster. Example:\n",
        "https://github.com/lisaong/mldds-courseware/blob/master/03_TextImage/examples/Clustering_NLB_Articles.ipynb\n"
      ]
    },
    {
      "cell_type": "code",
      "metadata": {
        "id": "JylE-QzZ26dz",
        "colab_type": "code",
        "colab": {}
      },
      "source": [
        ""
      ],
      "execution_count": 0,
      "outputs": []
    }
  ]
}