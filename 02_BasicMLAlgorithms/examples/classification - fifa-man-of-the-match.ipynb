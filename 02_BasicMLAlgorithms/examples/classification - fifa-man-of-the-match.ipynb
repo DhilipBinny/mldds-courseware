{
  "nbformat": 4,
  "nbformat_minor": 0,
  "metadata": {
    "kernelspec": {
      "display_name": "Python 3",
      "language": "python",
      "name": "python3"
    },
    "language_info": {
      "codemirror_mode": {
        "name": "ipython",
        "version": 3
      },
      "file_extension": ".py",
      "mimetype": "text/x-python",
      "name": "python",
      "nbconvert_exporter": "python",
      "pygments_lexer": "ipython3",
      "version": "3.7.3"
    },
    "colab": {
      "name": "decision_trees hands on.ipynb",
      "provenance": [],
      "collapsed_sections": [],
      "toc_visible": true,
      "include_colab_link": true
    }
  },
  "cells": [
    {
      "cell_type": "markdown",
      "metadata": {
        "id": "view-in-github",
        "colab_type": "text"
      },
      "source": [
        "<a href=\"https://colab.research.google.com/github/lisaong/mldds-courseware/blob/master/02_BasicMLAlgorithms/examples/classification%20-%20fifa-man-of-the-match.ipynb\" target=\"_parent\"><img src=\"https://colab.research.google.com/assets/colab-badge.svg\" alt=\"Open In Colab\"/></a>"
      ]
    },
    {
      "cell_type": "markdown",
      "metadata": {
        "id": "SMjd4tgEtHQk",
        "colab_type": "text"
      },
      "source": [
        "# Decision Trees Hands On"
      ]
    },
    {
      "cell_type": "markdown",
      "metadata": {
        "id": "DewGlXSqtHQq",
        "colab_type": "text"
      },
      "source": [
        "The data has been collected from 2018 FIFA World Cup Russia Official App.\n",
        "\n",
        "https://www.kaggle.com/mathan/fifa-2018-match-statistics\n",
        "\n",
        "Attributes:\n",
        "- Date: Match Date\n",
        "- Team: Playing Team\n",
        "- Opponent: Opponent Team\n",
        "- Goal Scored: Number of goals scored by this team\n",
        "- Ball Possession %: Amount of time ball was in control by the team\n",
        "- Attempts: Number of attempts to score goal\n",
        "- On-Target: Number of shots on-target\n",
        "- Off-Target: Number of shots that went off-target\n",
        "- Blocked: Number of opponent team's attempts blocked by the team\n",
        "- Corners: Number of corner shots used\n",
        "- Offsides: Number of off-side events\n",
        "- Free Kicks: Number of free-kicks used\n",
        "- Saves: Number saves by the goal keeper\n",
        "- Pass Accuracy %: Percentage of passes that reached the same team player as aimed\n",
        "- Passes: Total number of passes by the team\n",
        "- Distance Covered (Kms): Total distance covered by the team members in this game\n",
        "- Fouls Committed: Number of fouls committed by the team members\n",
        "- Yellow Card: Number of Yellow warning received\n",
        "- Yellow & Red: Number of Yellow & Red warning received\n",
        "- Red: Number of Red cards received\n",
        "- 1st Goal: When did the team score the 1st goal?\n",
        "- Round: Stage of the match\n",
        "- PSO: Was there a penalty shootout (PSO) in this match?\n",
        "- Goals in PSO: Number of goals scored in the Penalty shootout\n",
        "- Own goals: Number of own goals\n",
        "- Own goal Time: When did the team score own goal?\n",
        "\n",
        "\n",
        "Target:\n",
        "- Man of the Match: Which team won Man of the Match for a given game?"
      ]
    },
    {
      "cell_type": "code",
      "metadata": {
        "id": "Hf81bScDzqbM",
        "colab_type": "code",
        "colab": {
          "base_uri": "https://localhost:8080/",
          "height": 176
        },
        "outputId": "9df5b242-bf9f-474e-8cb4-e455b01ed176"
      },
      "source": [
        "# https://datascience.stackexchange.com/questions/57245/seaborn-heatmap-not-displaying-correctly\n",
        "!pip install matplotlib==3.1.0"
      ],
      "execution_count": 1,
      "outputs": [
        {
          "output_type": "stream",
          "text": [
            "Requirement already satisfied: matplotlib==3.1.0 in /usr/local/lib/python3.6/dist-packages (3.1.0)\n",
            "Requirement already satisfied: pyparsing!=2.0.4,!=2.1.2,!=2.1.6,>=2.0.1 in /usr/local/lib/python3.6/dist-packages (from matplotlib==3.1.0) (2.4.5)\n",
            "Requirement already satisfied: cycler>=0.10 in /usr/local/lib/python3.6/dist-packages (from matplotlib==3.1.0) (0.10.0)\n",
            "Requirement already satisfied: python-dateutil>=2.1 in /usr/local/lib/python3.6/dist-packages (from matplotlib==3.1.0) (2.6.1)\n",
            "Requirement already satisfied: kiwisolver>=1.0.1 in /usr/local/lib/python3.6/dist-packages (from matplotlib==3.1.0) (1.1.0)\n",
            "Requirement already satisfied: numpy>=1.11 in /usr/local/lib/python3.6/dist-packages (from matplotlib==3.1.0) (1.17.4)\n",
            "Requirement already satisfied: six in /usr/local/lib/python3.6/dist-packages (from cycler>=0.10->matplotlib==3.1.0) (1.12.0)\n",
            "Requirement already satisfied: setuptools in /usr/local/lib/python3.6/dist-packages (from kiwisolver>=1.0.1->matplotlib==3.1.0) (41.6.0)\n"
          ],
          "name": "stdout"
        }
      ]
    },
    {
      "cell_type": "code",
      "metadata": {
        "id": "mzPK3QmItHQu",
        "colab_type": "code",
        "colab": {}
      },
      "source": [
        "import matplotlib.pyplot as plt\n",
        "import numpy as np\n",
        "import pandas as pd\n",
        "import seaborn as sns\n",
        "sns.set()\n",
        "\n",
        "# data engineering\n",
        "from sklearn.preprocessing import OneHotEncoder, StandardScaler, FunctionTransformer\n",
        "from sklearn.compose import ColumnTransformer, make_column_transformer\n",
        "\n",
        "# feature engineering\n",
        "from sklearn.feature_selection import SelectKBest, f_classif\n",
        "from sklearn.decomposition import PCA\n",
        "\n",
        "# classification\n",
        "from sklearn.model_selection import cross_validate\n",
        "from sklearn.pipeline import Pipeline\n",
        "from sklearn.tree import DecisionTreeClassifier\n",
        "from sklearn.metrics import classification_report, confusion_matrix\n",
        "\n",
        "%matplotlib inline"
      ],
      "execution_count": 0,
      "outputs": []
    },
    {
      "cell_type": "code",
      "metadata": {
        "id": "-phMxeVYtHQ5",
        "colab_type": "code",
        "colab": {
          "base_uri": "https://localhost:8080/",
          "height": 34
        },
        "outputId": "d83f9508-55e2-4752-9eb0-6cc477a3e346"
      },
      "source": [
        "# We are relying on some newer features of sklearn (OneHotEncoder), \n",
        "# so check what version we have installed (need 0.21)\n",
        "import sklearn\n",
        "sklearn.__version__"
      ],
      "execution_count": 3,
      "outputs": [
        {
          "output_type": "execute_result",
          "data": {
            "text/plain": [
              "'0.21.3'"
            ]
          },
          "metadata": {
            "tags": []
          },
          "execution_count": 3
        }
      ]
    },
    {
      "cell_type": "code",
      "metadata": {
        "scrolled": false,
        "id": "rkwSR6tGtHRB",
        "colab_type": "code",
        "colab": {
          "base_uri": "https://localhost:8080/",
          "height": 365
        },
        "outputId": "96efe7c8-ec64-4068-87dc-fe6286603183"
      },
      "source": [
        "csv_path = 'https://raw.githubusercontent.com/lisaong/mldds-courseware/master/data/fifa-2018-match-statistics/FIFA%202018%20Statistics_train.csv'\n",
        "test_csv_path = 'https://raw.githubusercontent.com/lisaong/mldds-courseware/master/data/fifa-2018-match-statistics/FIFA%202018%20Statistics_test.csv'\n",
        "\n",
        "df = pd.read_csv(csv_path)\n",
        "df.head()"
      ],
      "execution_count": 4,
      "outputs": [
        {
          "output_type": "execute_result",
          "data": {
            "text/html": [
              "<div>\n",
              "<style scoped>\n",
              "    .dataframe tbody tr th:only-of-type {\n",
              "        vertical-align: middle;\n",
              "    }\n",
              "\n",
              "    .dataframe tbody tr th {\n",
              "        vertical-align: top;\n",
              "    }\n",
              "\n",
              "    .dataframe thead th {\n",
              "        text-align: right;\n",
              "    }\n",
              "</style>\n",
              "<table border=\"1\" class=\"dataframe\">\n",
              "  <thead>\n",
              "    <tr style=\"text-align: right;\">\n",
              "      <th></th>\n",
              "      <th>Date</th>\n",
              "      <th>Team</th>\n",
              "      <th>Opponent</th>\n",
              "      <th>Goal Scored</th>\n",
              "      <th>Ball Possession %</th>\n",
              "      <th>Attempts</th>\n",
              "      <th>On-Target</th>\n",
              "      <th>Off-Target</th>\n",
              "      <th>Blocked</th>\n",
              "      <th>Corners</th>\n",
              "      <th>Offsides</th>\n",
              "      <th>Free Kicks</th>\n",
              "      <th>Saves</th>\n",
              "      <th>Pass Accuracy %</th>\n",
              "      <th>Passes</th>\n",
              "      <th>Distance Covered (Kms)</th>\n",
              "      <th>Fouls Committed</th>\n",
              "      <th>Yellow Card</th>\n",
              "      <th>Yellow &amp; Red</th>\n",
              "      <th>Red</th>\n",
              "      <th>Man of the Match</th>\n",
              "      <th>1st Goal</th>\n",
              "      <th>Round</th>\n",
              "      <th>PSO</th>\n",
              "      <th>Goals in PSO</th>\n",
              "      <th>Own goals</th>\n",
              "      <th>Own goal Time</th>\n",
              "    </tr>\n",
              "  </thead>\n",
              "  <tbody>\n",
              "    <tr>\n",
              "      <th>0</th>\n",
              "      <td>14-06-2018</td>\n",
              "      <td>Russia</td>\n",
              "      <td>Saudi Arabia</td>\n",
              "      <td>5</td>\n",
              "      <td>40</td>\n",
              "      <td>13</td>\n",
              "      <td>7</td>\n",
              "      <td>3</td>\n",
              "      <td>3</td>\n",
              "      <td>6</td>\n",
              "      <td>3</td>\n",
              "      <td>11</td>\n",
              "      <td>0</td>\n",
              "      <td>78</td>\n",
              "      <td>306</td>\n",
              "      <td>118</td>\n",
              "      <td>22</td>\n",
              "      <td>0</td>\n",
              "      <td>0</td>\n",
              "      <td>0</td>\n",
              "      <td>Yes</td>\n",
              "      <td>12.0</td>\n",
              "      <td>Group Stage</td>\n",
              "      <td>No</td>\n",
              "      <td>0</td>\n",
              "      <td>NaN</td>\n",
              "      <td>NaN</td>\n",
              "    </tr>\n",
              "    <tr>\n",
              "      <th>1</th>\n",
              "      <td>14-06-2018</td>\n",
              "      <td>Saudi Arabia</td>\n",
              "      <td>Russia</td>\n",
              "      <td>0</td>\n",
              "      <td>60</td>\n",
              "      <td>6</td>\n",
              "      <td>0</td>\n",
              "      <td>3</td>\n",
              "      <td>3</td>\n",
              "      <td>2</td>\n",
              "      <td>1</td>\n",
              "      <td>25</td>\n",
              "      <td>2</td>\n",
              "      <td>86</td>\n",
              "      <td>511</td>\n",
              "      <td>105</td>\n",
              "      <td>10</td>\n",
              "      <td>0</td>\n",
              "      <td>0</td>\n",
              "      <td>0</td>\n",
              "      <td>No</td>\n",
              "      <td>NaN</td>\n",
              "      <td>Group Stage</td>\n",
              "      <td>No</td>\n",
              "      <td>0</td>\n",
              "      <td>NaN</td>\n",
              "      <td>NaN</td>\n",
              "    </tr>\n",
              "    <tr>\n",
              "      <th>2</th>\n",
              "      <td>15-06-2018</td>\n",
              "      <td>Egypt</td>\n",
              "      <td>Uruguay</td>\n",
              "      <td>0</td>\n",
              "      <td>43</td>\n",
              "      <td>8</td>\n",
              "      <td>3</td>\n",
              "      <td>3</td>\n",
              "      <td>2</td>\n",
              "      <td>0</td>\n",
              "      <td>1</td>\n",
              "      <td>7</td>\n",
              "      <td>3</td>\n",
              "      <td>78</td>\n",
              "      <td>395</td>\n",
              "      <td>112</td>\n",
              "      <td>12</td>\n",
              "      <td>2</td>\n",
              "      <td>0</td>\n",
              "      <td>0</td>\n",
              "      <td>No</td>\n",
              "      <td>NaN</td>\n",
              "      <td>Group Stage</td>\n",
              "      <td>No</td>\n",
              "      <td>0</td>\n",
              "      <td>NaN</td>\n",
              "      <td>NaN</td>\n",
              "    </tr>\n",
              "    <tr>\n",
              "      <th>3</th>\n",
              "      <td>15-06-2018</td>\n",
              "      <td>Uruguay</td>\n",
              "      <td>Egypt</td>\n",
              "      <td>1</td>\n",
              "      <td>57</td>\n",
              "      <td>14</td>\n",
              "      <td>4</td>\n",
              "      <td>6</td>\n",
              "      <td>4</td>\n",
              "      <td>5</td>\n",
              "      <td>1</td>\n",
              "      <td>13</td>\n",
              "      <td>3</td>\n",
              "      <td>86</td>\n",
              "      <td>589</td>\n",
              "      <td>111</td>\n",
              "      <td>6</td>\n",
              "      <td>0</td>\n",
              "      <td>0</td>\n",
              "      <td>0</td>\n",
              "      <td>Yes</td>\n",
              "      <td>89.0</td>\n",
              "      <td>Group Stage</td>\n",
              "      <td>No</td>\n",
              "      <td>0</td>\n",
              "      <td>NaN</td>\n",
              "      <td>NaN</td>\n",
              "    </tr>\n",
              "    <tr>\n",
              "      <th>4</th>\n",
              "      <td>15-06-2018</td>\n",
              "      <td>Morocco</td>\n",
              "      <td>Iran</td>\n",
              "      <td>0</td>\n",
              "      <td>64</td>\n",
              "      <td>13</td>\n",
              "      <td>3</td>\n",
              "      <td>6</td>\n",
              "      <td>4</td>\n",
              "      <td>5</td>\n",
              "      <td>0</td>\n",
              "      <td>14</td>\n",
              "      <td>2</td>\n",
              "      <td>86</td>\n",
              "      <td>433</td>\n",
              "      <td>101</td>\n",
              "      <td>22</td>\n",
              "      <td>1</td>\n",
              "      <td>0</td>\n",
              "      <td>0</td>\n",
              "      <td>No</td>\n",
              "      <td>NaN</td>\n",
              "      <td>Group Stage</td>\n",
              "      <td>No</td>\n",
              "      <td>0</td>\n",
              "      <td>1.0</td>\n",
              "      <td>90.0</td>\n",
              "    </tr>\n",
              "  </tbody>\n",
              "</table>\n",
              "</div>"
            ],
            "text/plain": [
              "         Date          Team  ... Own goals  Own goal Time\n",
              "0  14-06-2018        Russia  ...       NaN            NaN\n",
              "1  14-06-2018  Saudi Arabia  ...       NaN            NaN\n",
              "2  15-06-2018         Egypt  ...       NaN            NaN\n",
              "3  15-06-2018       Uruguay  ...       NaN            NaN\n",
              "4  15-06-2018       Morocco  ...       1.0           90.0\n",
              "\n",
              "[5 rows x 27 columns]"
            ]
          },
          "metadata": {
            "tags": []
          },
          "execution_count": 4
        }
      ]
    },
    {
      "cell_type": "code",
      "metadata": {
        "id": "HmRmzNWqtHRJ",
        "colab_type": "code",
        "colab": {
          "base_uri": "https://localhost:8080/",
          "height": 139
        },
        "outputId": "f074b6da-f1aa-4a88-ea80-7023e4e67598"
      },
      "source": [
        "df.columns"
      ],
      "execution_count": 5,
      "outputs": [
        {
          "output_type": "execute_result",
          "data": {
            "text/plain": [
              "Index(['Date', 'Team', 'Opponent', 'Goal Scored', 'Ball Possession %',\n",
              "       'Attempts', 'On-Target', 'Off-Target', 'Blocked', 'Corners', 'Offsides',\n",
              "       'Free Kicks', 'Saves', 'Pass Accuracy %', 'Passes',\n",
              "       'Distance Covered (Kms)', 'Fouls Committed', 'Yellow Card',\n",
              "       'Yellow & Red', 'Red', 'Man of the Match', '1st Goal', 'Round', 'PSO',\n",
              "       'Goals in PSO', 'Own goals', 'Own goal Time'],\n",
              "      dtype='object')"
            ]
          },
          "metadata": {
            "tags": []
          },
          "execution_count": 5
        }
      ]
    },
    {
      "cell_type": "code",
      "metadata": {
        "id": "QOLz2dXqtHRQ",
        "colab_type": "code",
        "colab": {}
      },
      "source": [
        "target = 'Man of the Match'\n",
        "\n",
        "# - Target is excluded from features\n",
        "# - Date is not considered an influencing factor in winning Man of the Match, so we are excluding it from features\n",
        "# - Round has some issues with encoding because the test and train set have different values. To fix that, need to shuffle the test and training set\n",
        "\n",
        "features = (df.columns != target) & (df.columns != 'Date') & (df.columns != 'Round')"
      ],
      "execution_count": 0,
      "outputs": []
    },
    {
      "cell_type": "code",
      "metadata": {
        "id": "jJXKpdPHtHRX",
        "colab_type": "code",
        "colab": {}
      },
      "source": [
        ""
      ],
      "execution_count": 0,
      "outputs": []
    },
    {
      "cell_type": "markdown",
      "metadata": {
        "id": "fRJrEzE0tHRd",
        "colab_type": "text"
      },
      "source": [
        "## Data Engineering\n",
        "\n",
        "- Clean NaN values\n",
        "- Scale features\n",
        "- One-hot Encode features\n",
        "- Plot PCA\n",
        "- Check for Imbalance\n",
        "\n",
        "We will see how to package everything in to a Pipeline, using Transformers.\n",
        "This is useful when there are multiple sets of data (e.g. separate train, test datasets), and we want to ensure that we streamline processing the same way."
      ]
    },
    {
      "cell_type": "code",
      "metadata": {
        "id": "oMv-Q9W-tHRf",
        "colab_type": "code",
        "colab": {
          "base_uri": "https://localhost:8080/",
          "height": 521
        },
        "outputId": "1fbef1e6-af03-4b5b-c9e4-3ba861f2f600"
      },
      "source": [
        "# inspect features\n",
        "df.loc[:, features].info()"
      ],
      "execution_count": 7,
      "outputs": [
        {
          "output_type": "stream",
          "text": [
            "<class 'pandas.core.frame.DataFrame'>\n",
            "RangeIndex: 120 entries, 0 to 119\n",
            "Data columns (total 24 columns):\n",
            "Team                      120 non-null object\n",
            "Opponent                  120 non-null object\n",
            "Goal Scored               120 non-null int64\n",
            "Ball Possession %         120 non-null int64\n",
            "Attempts                  120 non-null int64\n",
            "On-Target                 120 non-null int64\n",
            "Off-Target                120 non-null int64\n",
            "Blocked                   120 non-null int64\n",
            "Corners                   120 non-null int64\n",
            "Offsides                  120 non-null int64\n",
            "Free Kicks                120 non-null int64\n",
            "Saves                     120 non-null int64\n",
            "Pass Accuracy %           120 non-null int64\n",
            "Passes                    120 non-null int64\n",
            "Distance Covered (Kms)    120 non-null int64\n",
            "Fouls Committed           120 non-null int64\n",
            "Yellow Card               120 non-null int64\n",
            "Yellow & Red              120 non-null int64\n",
            "Red                       120 non-null int64\n",
            "1st Goal                  88 non-null float64\n",
            "PSO                       120 non-null object\n",
            "Goals in PSO              120 non-null int64\n",
            "Own goals                 11 non-null float64\n",
            "Own goal Time             11 non-null float64\n",
            "dtypes: float64(3), int64(18), object(3)\n",
            "memory usage: 22.6+ KB\n"
          ],
          "name": "stdout"
        }
      ]
    },
    {
      "cell_type": "code",
      "metadata": {
        "id": "QTVfbYUatHRn",
        "colab_type": "code",
        "colab": {
          "base_uri": "https://localhost:8080/",
          "height": 104
        },
        "outputId": "df74c2cd-319c-4073-9994-8080a8cc5575"
      },
      "source": [
        "# Inspect NaN values\n",
        "df['1st Goal'].unique()"
      ],
      "execution_count": 8,
      "outputs": [
        {
          "output_type": "execute_result",
          "data": {
            "text/plain": [
              "array([12., nan, 89., 90.,  4., 24., 58., 62., 19., 23., 59., 32., 56.,\n",
              "       35., 20., 50., 65., 47., 11., 39.,  6., 37., 60., 54.,  7., 38.,\n",
              "       34., 53., 49.,  5., 52., 18., 26., 48.,  8., 78., 40., 10., 45.,\n",
              "       22., 14., 51., 76., 36., 31., 74., 33., 13., 41., 55.,  1., 69.,\n",
              "       66., 57., 30.])"
            ]
          },
          "metadata": {
            "tags": []
          },
          "execution_count": 8
        }
      ]
    },
    {
      "cell_type": "code",
      "metadata": {
        "scrolled": false,
        "id": "EbYPjoIbtHRt",
        "colab_type": "code",
        "colab": {
          "base_uri": "https://localhost:8080/",
          "height": 1000
        },
        "outputId": "784aa8f3-79d1-4305-9572-7295ff1c2c0c"
      },
      "source": [
        "mask = df['1st Goal'].isna() # True for rows that have 1st Goal NaN\n",
        "df[mask] # Subset of df where mask is True"
      ],
      "execution_count": 9,
      "outputs": [
        {
          "output_type": "execute_result",
          "data": {
            "text/html": [
              "<div>\n",
              "<style scoped>\n",
              "    .dataframe tbody tr th:only-of-type {\n",
              "        vertical-align: middle;\n",
              "    }\n",
              "\n",
              "    .dataframe tbody tr th {\n",
              "        vertical-align: top;\n",
              "    }\n",
              "\n",
              "    .dataframe thead th {\n",
              "        text-align: right;\n",
              "    }\n",
              "</style>\n",
              "<table border=\"1\" class=\"dataframe\">\n",
              "  <thead>\n",
              "    <tr style=\"text-align: right;\">\n",
              "      <th></th>\n",
              "      <th>Date</th>\n",
              "      <th>Team</th>\n",
              "      <th>Opponent</th>\n",
              "      <th>Goal Scored</th>\n",
              "      <th>Ball Possession %</th>\n",
              "      <th>Attempts</th>\n",
              "      <th>On-Target</th>\n",
              "      <th>Off-Target</th>\n",
              "      <th>Blocked</th>\n",
              "      <th>Corners</th>\n",
              "      <th>Offsides</th>\n",
              "      <th>Free Kicks</th>\n",
              "      <th>Saves</th>\n",
              "      <th>Pass Accuracy %</th>\n",
              "      <th>Passes</th>\n",
              "      <th>Distance Covered (Kms)</th>\n",
              "      <th>Fouls Committed</th>\n",
              "      <th>Yellow Card</th>\n",
              "      <th>Yellow &amp; Red</th>\n",
              "      <th>Red</th>\n",
              "      <th>Man of the Match</th>\n",
              "      <th>1st Goal</th>\n",
              "      <th>Round</th>\n",
              "      <th>PSO</th>\n",
              "      <th>Goals in PSO</th>\n",
              "      <th>Own goals</th>\n",
              "      <th>Own goal Time</th>\n",
              "    </tr>\n",
              "  </thead>\n",
              "  <tbody>\n",
              "    <tr>\n",
              "      <th>1</th>\n",
              "      <td>14-06-2018</td>\n",
              "      <td>Saudi Arabia</td>\n",
              "      <td>Russia</td>\n",
              "      <td>0</td>\n",
              "      <td>60</td>\n",
              "      <td>6</td>\n",
              "      <td>0</td>\n",
              "      <td>3</td>\n",
              "      <td>3</td>\n",
              "      <td>2</td>\n",
              "      <td>1</td>\n",
              "      <td>25</td>\n",
              "      <td>2</td>\n",
              "      <td>86</td>\n",
              "      <td>511</td>\n",
              "      <td>105</td>\n",
              "      <td>10</td>\n",
              "      <td>0</td>\n",
              "      <td>0</td>\n",
              "      <td>0</td>\n",
              "      <td>No</td>\n",
              "      <td>NaN</td>\n",
              "      <td>Group Stage</td>\n",
              "      <td>No</td>\n",
              "      <td>0</td>\n",
              "      <td>NaN</td>\n",
              "      <td>NaN</td>\n",
              "    </tr>\n",
              "    <tr>\n",
              "      <th>2</th>\n",
              "      <td>15-06-2018</td>\n",
              "      <td>Egypt</td>\n",
              "      <td>Uruguay</td>\n",
              "      <td>0</td>\n",
              "      <td>43</td>\n",
              "      <td>8</td>\n",
              "      <td>3</td>\n",
              "      <td>3</td>\n",
              "      <td>2</td>\n",
              "      <td>0</td>\n",
              "      <td>1</td>\n",
              "      <td>7</td>\n",
              "      <td>3</td>\n",
              "      <td>78</td>\n",
              "      <td>395</td>\n",
              "      <td>112</td>\n",
              "      <td>12</td>\n",
              "      <td>2</td>\n",
              "      <td>0</td>\n",
              "      <td>0</td>\n",
              "      <td>No</td>\n",
              "      <td>NaN</td>\n",
              "      <td>Group Stage</td>\n",
              "      <td>No</td>\n",
              "      <td>0</td>\n",
              "      <td>NaN</td>\n",
              "      <td>NaN</td>\n",
              "    </tr>\n",
              "    <tr>\n",
              "      <th>4</th>\n",
              "      <td>15-06-2018</td>\n",
              "      <td>Morocco</td>\n",
              "      <td>Iran</td>\n",
              "      <td>0</td>\n",
              "      <td>64</td>\n",
              "      <td>13</td>\n",
              "      <td>3</td>\n",
              "      <td>6</td>\n",
              "      <td>4</td>\n",
              "      <td>5</td>\n",
              "      <td>0</td>\n",
              "      <td>14</td>\n",
              "      <td>2</td>\n",
              "      <td>86</td>\n",
              "      <td>433</td>\n",
              "      <td>101</td>\n",
              "      <td>22</td>\n",
              "      <td>1</td>\n",
              "      <td>0</td>\n",
              "      <td>0</td>\n",
              "      <td>No</td>\n",
              "      <td>NaN</td>\n",
              "      <td>Group Stage</td>\n",
              "      <td>No</td>\n",
              "      <td>0</td>\n",
              "      <td>1.0</td>\n",
              "      <td>90.0</td>\n",
              "    </tr>\n",
              "    <tr>\n",
              "      <th>12</th>\n",
              "      <td>16-06-2018</td>\n",
              "      <td>Peru</td>\n",
              "      <td>Denmark</td>\n",
              "      <td>0</td>\n",
              "      <td>52</td>\n",
              "      <td>18</td>\n",
              "      <td>6</td>\n",
              "      <td>7</td>\n",
              "      <td>5</td>\n",
              "      <td>3</td>\n",
              "      <td>5</td>\n",
              "      <td>21</td>\n",
              "      <td>2</td>\n",
              "      <td>85</td>\n",
              "      <td>394</td>\n",
              "      <td>104</td>\n",
              "      <td>10</td>\n",
              "      <td>1</td>\n",
              "      <td>0</td>\n",
              "      <td>0</td>\n",
              "      <td>No</td>\n",
              "      <td>NaN</td>\n",
              "      <td>Group Stage</td>\n",
              "      <td>No</td>\n",
              "      <td>0</td>\n",
              "      <td>NaN</td>\n",
              "      <td>NaN</td>\n",
              "    </tr>\n",
              "    <tr>\n",
              "      <th>15</th>\n",
              "      <td>17-06-2018</td>\n",
              "      <td>Nigeria</td>\n",
              "      <td>Croatia</td>\n",
              "      <td>0</td>\n",
              "      <td>46</td>\n",
              "      <td>14</td>\n",
              "      <td>2</td>\n",
              "      <td>5</td>\n",
              "      <td>7</td>\n",
              "      <td>5</td>\n",
              "      <td>1</td>\n",
              "      <td>22</td>\n",
              "      <td>1</td>\n",
              "      <td>84</td>\n",
              "      <td>388</td>\n",
              "      <td>101</td>\n",
              "      <td>16</td>\n",
              "      <td>1</td>\n",
              "      <td>0</td>\n",
              "      <td>0</td>\n",
              "      <td>No</td>\n",
              "      <td>NaN</td>\n",
              "      <td>Group Stage</td>\n",
              "      <td>No</td>\n",
              "      <td>0</td>\n",
              "      <td>1.0</td>\n",
              "      <td>32.0</td>\n",
              "    </tr>\n",
              "    <tr>\n",
              "      <th>16</th>\n",
              "      <td>17-06-2018</td>\n",
              "      <td>Costa Rica</td>\n",
              "      <td>Serbia</td>\n",
              "      <td>0</td>\n",
              "      <td>50</td>\n",
              "      <td>10</td>\n",
              "      <td>3</td>\n",
              "      <td>3</td>\n",
              "      <td>4</td>\n",
              "      <td>5</td>\n",
              "      <td>1</td>\n",
              "      <td>18</td>\n",
              "      <td>2</td>\n",
              "      <td>83</td>\n",
              "      <td>428</td>\n",
              "      <td>107</td>\n",
              "      <td>18</td>\n",
              "      <td>2</td>\n",
              "      <td>0</td>\n",
              "      <td>0</td>\n",
              "      <td>No</td>\n",
              "      <td>NaN</td>\n",
              "      <td>Group Stage</td>\n",
              "      <td>No</td>\n",
              "      <td>0</td>\n",
              "      <td>NaN</td>\n",
              "      <td>NaN</td>\n",
              "    </tr>\n",
              "    <tr>\n",
              "      <th>18</th>\n",
              "      <td>17-06-2018</td>\n",
              "      <td>Germany</td>\n",
              "      <td>Mexico</td>\n",
              "      <td>0</td>\n",
              "      <td>60</td>\n",
              "      <td>25</td>\n",
              "      <td>9</td>\n",
              "      <td>9</td>\n",
              "      <td>7</td>\n",
              "      <td>8</td>\n",
              "      <td>1</td>\n",
              "      <td>17</td>\n",
              "      <td>3</td>\n",
              "      <td>88</td>\n",
              "      <td>595</td>\n",
              "      <td>110</td>\n",
              "      <td>10</td>\n",
              "      <td>2</td>\n",
              "      <td>0</td>\n",
              "      <td>0</td>\n",
              "      <td>Yes</td>\n",
              "      <td>NaN</td>\n",
              "      <td>Group Stage</td>\n",
              "      <td>No</td>\n",
              "      <td>0</td>\n",
              "      <td>NaN</td>\n",
              "      <td>NaN</td>\n",
              "    </tr>\n",
              "    <tr>\n",
              "      <th>23</th>\n",
              "      <td>18-06-2018</td>\n",
              "      <td>Korea Republic</td>\n",
              "      <td>Sweden</td>\n",
              "      <td>0</td>\n",
              "      <td>48</td>\n",
              "      <td>5</td>\n",
              "      <td>0</td>\n",
              "      <td>2</td>\n",
              "      <td>3</td>\n",
              "      <td>5</td>\n",
              "      <td>0</td>\n",
              "      <td>21</td>\n",
              "      <td>3</td>\n",
              "      <td>79</td>\n",
              "      <td>351</td>\n",
              "      <td>103</td>\n",
              "      <td>23</td>\n",
              "      <td>2</td>\n",
              "      <td>0</td>\n",
              "      <td>0</td>\n",
              "      <td>No</td>\n",
              "      <td>NaN</td>\n",
              "      <td>Group Stage</td>\n",
              "      <td>No</td>\n",
              "      <td>0</td>\n",
              "      <td>NaN</td>\n",
              "      <td>NaN</td>\n",
              "    </tr>\n",
              "    <tr>\n",
              "      <th>25</th>\n",
              "      <td>18-06-2018</td>\n",
              "      <td>Panama</td>\n",
              "      <td>Belgium</td>\n",
              "      <td>0</td>\n",
              "      <td>39</td>\n",
              "      <td>6</td>\n",
              "      <td>2</td>\n",
              "      <td>4</td>\n",
              "      <td>0</td>\n",
              "      <td>3</td>\n",
              "      <td>3</td>\n",
              "      <td>18</td>\n",
              "      <td>2</td>\n",
              "      <td>82</td>\n",
              "      <td>317</td>\n",
              "      <td>100</td>\n",
              "      <td>18</td>\n",
              "      <td>5</td>\n",
              "      <td>0</td>\n",
              "      <td>0</td>\n",
              "      <td>No</td>\n",
              "      <td>NaN</td>\n",
              "      <td>Group Stage</td>\n",
              "      <td>No</td>\n",
              "      <td>0</td>\n",
              "      <td>NaN</td>\n",
              "      <td>NaN</td>\n",
              "    </tr>\n",
              "    <tr>\n",
              "      <th>35</th>\n",
              "      <td>20-06-2018</td>\n",
              "      <td>Morocco</td>\n",
              "      <td>Portugal</td>\n",
              "      <td>0</td>\n",
              "      <td>53</td>\n",
              "      <td>16</td>\n",
              "      <td>4</td>\n",
              "      <td>10</td>\n",
              "      <td>2</td>\n",
              "      <td>7</td>\n",
              "      <td>1</td>\n",
              "      <td>20</td>\n",
              "      <td>1</td>\n",
              "      <td>77</td>\n",
              "      <td>466</td>\n",
              "      <td>107</td>\n",
              "      <td>23</td>\n",
              "      <td>1</td>\n",
              "      <td>0</td>\n",
              "      <td>0</td>\n",
              "      <td>No</td>\n",
              "      <td>NaN</td>\n",
              "      <td>Group Stage</td>\n",
              "      <td>No</td>\n",
              "      <td>0</td>\n",
              "      <td>NaN</td>\n",
              "      <td>NaN</td>\n",
              "    </tr>\n",
              "    <tr>\n",
              "      <th>37</th>\n",
              "      <td>20-06-2018</td>\n",
              "      <td>Saudi Arabia</td>\n",
              "      <td>Uruguay</td>\n",
              "      <td>0</td>\n",
              "      <td>53</td>\n",
              "      <td>8</td>\n",
              "      <td>3</td>\n",
              "      <td>3</td>\n",
              "      <td>2</td>\n",
              "      <td>4</td>\n",
              "      <td>2</td>\n",
              "      <td>11</td>\n",
              "      <td>3</td>\n",
              "      <td>86</td>\n",
              "      <td>590</td>\n",
              "      <td>100</td>\n",
              "      <td>13</td>\n",
              "      <td>0</td>\n",
              "      <td>0</td>\n",
              "      <td>0</td>\n",
              "      <td>No</td>\n",
              "      <td>NaN</td>\n",
              "      <td>Group Stage</td>\n",
              "      <td>No</td>\n",
              "      <td>0</td>\n",
              "      <td>NaN</td>\n",
              "      <td>NaN</td>\n",
              "    </tr>\n",
              "    <tr>\n",
              "      <th>38</th>\n",
              "      <td>20-06-2018</td>\n",
              "      <td>Iran</td>\n",
              "      <td>Spain</td>\n",
              "      <td>0</td>\n",
              "      <td>30</td>\n",
              "      <td>5</td>\n",
              "      <td>0</td>\n",
              "      <td>5</td>\n",
              "      <td>0</td>\n",
              "      <td>2</td>\n",
              "      <td>2</td>\n",
              "      <td>15</td>\n",
              "      <td>2</td>\n",
              "      <td>69</td>\n",
              "      <td>219</td>\n",
              "      <td>106</td>\n",
              "      <td>14</td>\n",
              "      <td>2</td>\n",
              "      <td>0</td>\n",
              "      <td>0</td>\n",
              "      <td>No</td>\n",
              "      <td>NaN</td>\n",
              "      <td>Group Stage</td>\n",
              "      <td>No</td>\n",
              "      <td>0</td>\n",
              "      <td>NaN</td>\n",
              "      <td>NaN</td>\n",
              "    </tr>\n",
              "    <tr>\n",
              "      <th>43</th>\n",
              "      <td>21-06-2018</td>\n",
              "      <td>Peru</td>\n",
              "      <td>France</td>\n",
              "      <td>0</td>\n",
              "      <td>56</td>\n",
              "      <td>10</td>\n",
              "      <td>2</td>\n",
              "      <td>6</td>\n",
              "      <td>2</td>\n",
              "      <td>3</td>\n",
              "      <td>1</td>\n",
              "      <td>11</td>\n",
              "      <td>3</td>\n",
              "      <td>81</td>\n",
              "      <td>532</td>\n",
              "      <td>102</td>\n",
              "      <td>15</td>\n",
              "      <td>2</td>\n",
              "      <td>0</td>\n",
              "      <td>0</td>\n",
              "      <td>No</td>\n",
              "      <td>NaN</td>\n",
              "      <td>Group Stage</td>\n",
              "      <td>No</td>\n",
              "      <td>0</td>\n",
              "      <td>NaN</td>\n",
              "      <td>NaN</td>\n",
              "    </tr>\n",
              "    <tr>\n",
              "      <th>44</th>\n",
              "      <td>21-06-2018</td>\n",
              "      <td>Argentina</td>\n",
              "      <td>Croatia</td>\n",
              "      <td>0</td>\n",
              "      <td>58</td>\n",
              "      <td>10</td>\n",
              "      <td>3</td>\n",
              "      <td>3</td>\n",
              "      <td>4</td>\n",
              "      <td>5</td>\n",
              "      <td>3</td>\n",
              "      <td>26</td>\n",
              "      <td>2</td>\n",
              "      <td>81</td>\n",
              "      <td>505</td>\n",
              "      <td>101</td>\n",
              "      <td>15</td>\n",
              "      <td>3</td>\n",
              "      <td>0</td>\n",
              "      <td>0</td>\n",
              "      <td>No</td>\n",
              "      <td>NaN</td>\n",
              "      <td>Group Stage</td>\n",
              "      <td>No</td>\n",
              "      <td>0</td>\n",
              "      <td>NaN</td>\n",
              "      <td>NaN</td>\n",
              "    </tr>\n",
              "    <tr>\n",
              "      <th>47</th>\n",
              "      <td>22-06-2018</td>\n",
              "      <td>Costa Rica</td>\n",
              "      <td>Brazil</td>\n",
              "      <td>0</td>\n",
              "      <td>34</td>\n",
              "      <td>4</td>\n",
              "      <td>0</td>\n",
              "      <td>4</td>\n",
              "      <td>0</td>\n",
              "      <td>1</td>\n",
              "      <td>3</td>\n",
              "      <td>14</td>\n",
              "      <td>7</td>\n",
              "      <td>73</td>\n",
              "      <td>271</td>\n",
              "      <td>109</td>\n",
              "      <td>11</td>\n",
              "      <td>1</td>\n",
              "      <td>0</td>\n",
              "      <td>0</td>\n",
              "      <td>No</td>\n",
              "      <td>NaN</td>\n",
              "      <td>Group Stage</td>\n",
              "      <td>No</td>\n",
              "      <td>0</td>\n",
              "      <td>NaN</td>\n",
              "      <td>NaN</td>\n",
              "    </tr>\n",
              "    <tr>\n",
              "      <th>49</th>\n",
              "      <td>22-06-2018</td>\n",
              "      <td>Iceland</td>\n",
              "      <td>Nigeria</td>\n",
              "      <td>0</td>\n",
              "      <td>42</td>\n",
              "      <td>10</td>\n",
              "      <td>3</td>\n",
              "      <td>6</td>\n",
              "      <td>1</td>\n",
              "      <td>5</td>\n",
              "      <td>0</td>\n",
              "      <td>10</td>\n",
              "      <td>2</td>\n",
              "      <td>75</td>\n",
              "      <td>291</td>\n",
              "      <td>106</td>\n",
              "      <td>10</td>\n",
              "      <td>0</td>\n",
              "      <td>0</td>\n",
              "      <td>0</td>\n",
              "      <td>No</td>\n",
              "      <td>NaN</td>\n",
              "      <td>Group Stage</td>\n",
              "      <td>No</td>\n",
              "      <td>0</td>\n",
              "      <td>NaN</td>\n",
              "      <td>NaN</td>\n",
              "    </tr>\n",
              "    <tr>\n",
              "      <th>62</th>\n",
              "      <td>24-06-2018</td>\n",
              "      <td>Poland</td>\n",
              "      <td>Colombia</td>\n",
              "      <td>0</td>\n",
              "      <td>45</td>\n",
              "      <td>9</td>\n",
              "      <td>2</td>\n",
              "      <td>3</td>\n",
              "      <td>4</td>\n",
              "      <td>7</td>\n",
              "      <td>1</td>\n",
              "      <td>11</td>\n",
              "      <td>0</td>\n",
              "      <td>79</td>\n",
              "      <td>424</td>\n",
              "      <td>107</td>\n",
              "      <td>15</td>\n",
              "      <td>2</td>\n",
              "      <td>0</td>\n",
              "      <td>0</td>\n",
              "      <td>No</td>\n",
              "      <td>NaN</td>\n",
              "      <td>Group Stage</td>\n",
              "      <td>No</td>\n",
              "      <td>0</td>\n",
              "      <td>NaN</td>\n",
              "      <td>NaN</td>\n",
              "    </tr>\n",
              "    <tr>\n",
              "      <th>65</th>\n",
              "      <td>25-06-2018</td>\n",
              "      <td>Russia</td>\n",
              "      <td>Uruguay</td>\n",
              "      <td>0</td>\n",
              "      <td>44</td>\n",
              "      <td>3</td>\n",
              "      <td>1</td>\n",
              "      <td>1</td>\n",
              "      <td>1</td>\n",
              "      <td>2</td>\n",
              "      <td>2</td>\n",
              "      <td>17</td>\n",
              "      <td>5</td>\n",
              "      <td>83</td>\n",
              "      <td>355</td>\n",
              "      <td>98</td>\n",
              "      <td>18</td>\n",
              "      <td>1</td>\n",
              "      <td>1</td>\n",
              "      <td>0</td>\n",
              "      <td>No</td>\n",
              "      <td>NaN</td>\n",
              "      <td>Group Stage</td>\n",
              "      <td>No</td>\n",
              "      <td>0</td>\n",
              "      <td>1.0</td>\n",
              "      <td>23.0</td>\n",
              "    </tr>\n",
              "    <tr>\n",
              "      <th>72</th>\n",
              "      <td>26-06-2018</td>\n",
              "      <td>Denmark</td>\n",
              "      <td>France</td>\n",
              "      <td>0</td>\n",
              "      <td>38</td>\n",
              "      <td>5</td>\n",
              "      <td>1</td>\n",
              "      <td>2</td>\n",
              "      <td>2</td>\n",
              "      <td>4</td>\n",
              "      <td>1</td>\n",
              "      <td>11</td>\n",
              "      <td>4</td>\n",
              "      <td>72</td>\n",
              "      <td>305</td>\n",
              "      <td>106</td>\n",
              "      <td>10</td>\n",
              "      <td>1</td>\n",
              "      <td>0</td>\n",
              "      <td>0</td>\n",
              "      <td>No</td>\n",
              "      <td>NaN</td>\n",
              "      <td>Group Stage</td>\n",
              "      <td>No</td>\n",
              "      <td>0</td>\n",
              "      <td>NaN</td>\n",
              "      <td>NaN</td>\n",
              "    </tr>\n",
              "    <tr>\n",
              "      <th>73</th>\n",
              "      <td>26-06-2018</td>\n",
              "      <td>France</td>\n",
              "      <td>Denmark</td>\n",
              "      <td>0</td>\n",
              "      <td>62</td>\n",
              "      <td>11</td>\n",
              "      <td>4</td>\n",
              "      <td>6</td>\n",
              "      <td>1</td>\n",
              "      <td>2</td>\n",
              "      <td>1</td>\n",
              "      <td>11</td>\n",
              "      <td>1</td>\n",
              "      <td>87</td>\n",
              "      <td>669</td>\n",
              "      <td>104</td>\n",
              "      <td>10</td>\n",
              "      <td>0</td>\n",
              "      <td>0</td>\n",
              "      <td>0</td>\n",
              "      <td>Yes</td>\n",
              "      <td>NaN</td>\n",
              "      <td>Group Stage</td>\n",
              "      <td>No</td>\n",
              "      <td>0</td>\n",
              "      <td>NaN</td>\n",
              "      <td>NaN</td>\n",
              "    </tr>\n",
              "    <tr>\n",
              "      <th>74</th>\n",
              "      <td>26-06-2018</td>\n",
              "      <td>Australia</td>\n",
              "      <td>Peru</td>\n",
              "      <td>0</td>\n",
              "      <td>53</td>\n",
              "      <td>14</td>\n",
              "      <td>2</td>\n",
              "      <td>7</td>\n",
              "      <td>5</td>\n",
              "      <td>8</td>\n",
              "      <td>3</td>\n",
              "      <td>13</td>\n",
              "      <td>1</td>\n",
              "      <td>86</td>\n",
              "      <td>555</td>\n",
              "      <td>105</td>\n",
              "      <td>13</td>\n",
              "      <td>4</td>\n",
              "      <td>0</td>\n",
              "      <td>0</td>\n",
              "      <td>No</td>\n",
              "      <td>NaN</td>\n",
              "      <td>Group Stage</td>\n",
              "      <td>No</td>\n",
              "      <td>0</td>\n",
              "      <td>NaN</td>\n",
              "      <td>NaN</td>\n",
              "    </tr>\n",
              "    <tr>\n",
              "      <th>81</th>\n",
              "      <td>27-06-2018</td>\n",
              "      <td>Germany</td>\n",
              "      <td>Korea Republic</td>\n",
              "      <td>0</td>\n",
              "      <td>70</td>\n",
              "      <td>26</td>\n",
              "      <td>6</td>\n",
              "      <td>11</td>\n",
              "      <td>9</td>\n",
              "      <td>9</td>\n",
              "      <td>1</td>\n",
              "      <td>16</td>\n",
              "      <td>3</td>\n",
              "      <td>88</td>\n",
              "      <td>719</td>\n",
              "      <td>115</td>\n",
              "      <td>7</td>\n",
              "      <td>0</td>\n",
              "      <td>0</td>\n",
              "      <td>0</td>\n",
              "      <td>No</td>\n",
              "      <td>NaN</td>\n",
              "      <td>Group Stage</td>\n",
              "      <td>No</td>\n",
              "      <td>0</td>\n",
              "      <td>NaN</td>\n",
              "      <td>NaN</td>\n",
              "    </tr>\n",
              "    <tr>\n",
              "      <th>82</th>\n",
              "      <td>27-06-2018</td>\n",
              "      <td>Mexico</td>\n",
              "      <td>Sweden</td>\n",
              "      <td>0</td>\n",
              "      <td>65</td>\n",
              "      <td>19</td>\n",
              "      <td>3</td>\n",
              "      <td>8</td>\n",
              "      <td>8</td>\n",
              "      <td>7</td>\n",
              "      <td>2</td>\n",
              "      <td>11</td>\n",
              "      <td>3</td>\n",
              "      <td>83</td>\n",
              "      <td>487</td>\n",
              "      <td>95</td>\n",
              "      <td>14</td>\n",
              "      <td>3</td>\n",
              "      <td>0</td>\n",
              "      <td>0</td>\n",
              "      <td>No</td>\n",
              "      <td>NaN</td>\n",
              "      <td>Group Stage</td>\n",
              "      <td>No</td>\n",
              "      <td>0</td>\n",
              "      <td>1.0</td>\n",
              "      <td>74.0</td>\n",
              "    </tr>\n",
              "    <tr>\n",
              "      <th>84</th>\n",
              "      <td>27-06-2018</td>\n",
              "      <td>Serbia</td>\n",
              "      <td>Brazil</td>\n",
              "      <td>0</td>\n",
              "      <td>44</td>\n",
              "      <td>10</td>\n",
              "      <td>1</td>\n",
              "      <td>5</td>\n",
              "      <td>4</td>\n",
              "      <td>5</td>\n",
              "      <td>2</td>\n",
              "      <td>11</td>\n",
              "      <td>4</td>\n",
              "      <td>78</td>\n",
              "      <td>467</td>\n",
              "      <td>114</td>\n",
              "      <td>13</td>\n",
              "      <td>3</td>\n",
              "      <td>0</td>\n",
              "      <td>0</td>\n",
              "      <td>No</td>\n",
              "      <td>NaN</td>\n",
              "      <td>Group Stage</td>\n",
              "      <td>No</td>\n",
              "      <td>0</td>\n",
              "      <td>NaN</td>\n",
              "      <td>NaN</td>\n",
              "    </tr>\n",
              "    <tr>\n",
              "      <th>88</th>\n",
              "      <td>28-06-2018</td>\n",
              "      <td>Japan</td>\n",
              "      <td>Poland</td>\n",
              "      <td>0</td>\n",
              "      <td>54</td>\n",
              "      <td>10</td>\n",
              "      <td>3</td>\n",
              "      <td>4</td>\n",
              "      <td>3</td>\n",
              "      <td>5</td>\n",
              "      <td>1</td>\n",
              "      <td>8</td>\n",
              "      <td>2</td>\n",
              "      <td>86</td>\n",
              "      <td>557</td>\n",
              "      <td>83</td>\n",
              "      <td>11</td>\n",
              "      <td>1</td>\n",
              "      <td>0</td>\n",
              "      <td>0</td>\n",
              "      <td>No</td>\n",
              "      <td>NaN</td>\n",
              "      <td>Group Stage</td>\n",
              "      <td>No</td>\n",
              "      <td>0</td>\n",
              "      <td>NaN</td>\n",
              "      <td>NaN</td>\n",
              "    </tr>\n",
              "    <tr>\n",
              "      <th>90</th>\n",
              "      <td>28-06-2018</td>\n",
              "      <td>Senegal</td>\n",
              "      <td>Colombia</td>\n",
              "      <td>0</td>\n",
              "      <td>43</td>\n",
              "      <td>8</td>\n",
              "      <td>3</td>\n",
              "      <td>4</td>\n",
              "      <td>1</td>\n",
              "      <td>1</td>\n",
              "      <td>3</td>\n",
              "      <td>18</td>\n",
              "      <td>1</td>\n",
              "      <td>78</td>\n",
              "      <td>281</td>\n",
              "      <td>97</td>\n",
              "      <td>15</td>\n",
              "      <td>1</td>\n",
              "      <td>0</td>\n",
              "      <td>0</td>\n",
              "      <td>No</td>\n",
              "      <td>NaN</td>\n",
              "      <td>Group Stage</td>\n",
              "      <td>No</td>\n",
              "      <td>0</td>\n",
              "      <td>NaN</td>\n",
              "      <td>NaN</td>\n",
              "    </tr>\n",
              "    <tr>\n",
              "      <th>94</th>\n",
              "      <td>28-06-2018</td>\n",
              "      <td>England</td>\n",
              "      <td>Belgium</td>\n",
              "      <td>0</td>\n",
              "      <td>48</td>\n",
              "      <td>13</td>\n",
              "      <td>1</td>\n",
              "      <td>7</td>\n",
              "      <td>5</td>\n",
              "      <td>7</td>\n",
              "      <td>3</td>\n",
              "      <td>15</td>\n",
              "      <td>3</td>\n",
              "      <td>88</td>\n",
              "      <td>484</td>\n",
              "      <td>109</td>\n",
              "      <td>11</td>\n",
              "      <td>0</td>\n",
              "      <td>0</td>\n",
              "      <td>0</td>\n",
              "      <td>No</td>\n",
              "      <td>NaN</td>\n",
              "      <td>Group Stage</td>\n",
              "      <td>No</td>\n",
              "      <td>0</td>\n",
              "      <td>NaN</td>\n",
              "      <td>NaN</td>\n",
              "    </tr>\n",
              "    <tr>\n",
              "      <th>105</th>\n",
              "      <td>02-07-2018</td>\n",
              "      <td>Mexico</td>\n",
              "      <td>Brazil</td>\n",
              "      <td>0</td>\n",
              "      <td>53</td>\n",
              "      <td>13</td>\n",
              "      <td>1</td>\n",
              "      <td>4</td>\n",
              "      <td>8</td>\n",
              "      <td>7</td>\n",
              "      <td>2</td>\n",
              "      <td>6</td>\n",
              "      <td>8</td>\n",
              "      <td>85</td>\n",
              "      <td>424</td>\n",
              "      <td>89</td>\n",
              "      <td>18</td>\n",
              "      <td>4</td>\n",
              "      <td>0</td>\n",
              "      <td>0</td>\n",
              "      <td>No</td>\n",
              "      <td>NaN</td>\n",
              "      <td>Round of 16</td>\n",
              "      <td>No</td>\n",
              "      <td>0</td>\n",
              "      <td>NaN</td>\n",
              "      <td>NaN</td>\n",
              "    </tr>\n",
              "    <tr>\n",
              "      <th>109</th>\n",
              "      <td>03-07-2018</td>\n",
              "      <td>Switzerland</td>\n",
              "      <td>Sweden</td>\n",
              "      <td>0</td>\n",
              "      <td>63</td>\n",
              "      <td>18</td>\n",
              "      <td>4</td>\n",
              "      <td>5</td>\n",
              "      <td>9</td>\n",
              "      <td>11</td>\n",
              "      <td>0</td>\n",
              "      <td>12</td>\n",
              "      <td>2</td>\n",
              "      <td>84</td>\n",
              "      <td>599</td>\n",
              "      <td>103</td>\n",
              "      <td>13</td>\n",
              "      <td>2</td>\n",
              "      <td>0</td>\n",
              "      <td>1</td>\n",
              "      <td>No</td>\n",
              "      <td>NaN</td>\n",
              "      <td>Round of 16</td>\n",
              "      <td>No</td>\n",
              "      <td>0</td>\n",
              "      <td>NaN</td>\n",
              "      <td>NaN</td>\n",
              "    </tr>\n",
              "    <tr>\n",
              "      <th>112</th>\n",
              "      <td>06-07-2018</td>\n",
              "      <td>Uruguay</td>\n",
              "      <td>France</td>\n",
              "      <td>0</td>\n",
              "      <td>42</td>\n",
              "      <td>11</td>\n",
              "      <td>4</td>\n",
              "      <td>6</td>\n",
              "      <td>1</td>\n",
              "      <td>4</td>\n",
              "      <td>0</td>\n",
              "      <td>15</td>\n",
              "      <td>0</td>\n",
              "      <td>67</td>\n",
              "      <td>322</td>\n",
              "      <td>103</td>\n",
              "      <td>17</td>\n",
              "      <td>2</td>\n",
              "      <td>0</td>\n",
              "      <td>0</td>\n",
              "      <td>No</td>\n",
              "      <td>NaN</td>\n",
              "      <td>Quarter Finals</td>\n",
              "      <td>No</td>\n",
              "      <td>0</td>\n",
              "      <td>NaN</td>\n",
              "      <td>NaN</td>\n",
              "    </tr>\n",
              "    <tr>\n",
              "      <th>114</th>\n",
              "      <td>06-07-2018</td>\n",
              "      <td>Brazil</td>\n",
              "      <td>Belgium</td>\n",
              "      <td>1</td>\n",
              "      <td>57</td>\n",
              "      <td>26</td>\n",
              "      <td>9</td>\n",
              "      <td>7</td>\n",
              "      <td>10</td>\n",
              "      <td>8</td>\n",
              "      <td>1</td>\n",
              "      <td>16</td>\n",
              "      <td>2</td>\n",
              "      <td>89</td>\n",
              "      <td>557</td>\n",
              "      <td>104</td>\n",
              "      <td>14</td>\n",
              "      <td>2</td>\n",
              "      <td>0</td>\n",
              "      <td>0</td>\n",
              "      <td>No</td>\n",
              "      <td>NaN</td>\n",
              "      <td>Quarter Finals</td>\n",
              "      <td>No</td>\n",
              "      <td>0</td>\n",
              "      <td>1.0</td>\n",
              "      <td>13.0</td>\n",
              "    </tr>\n",
              "    <tr>\n",
              "      <th>116</th>\n",
              "      <td>07-07-2018</td>\n",
              "      <td>Sweden</td>\n",
              "      <td>England</td>\n",
              "      <td>0</td>\n",
              "      <td>43</td>\n",
              "      <td>7</td>\n",
              "      <td>3</td>\n",
              "      <td>3</td>\n",
              "      <td>1</td>\n",
              "      <td>1</td>\n",
              "      <td>2</td>\n",
              "      <td>8</td>\n",
              "      <td>0</td>\n",
              "      <td>74</td>\n",
              "      <td>379</td>\n",
              "      <td>107</td>\n",
              "      <td>10</td>\n",
              "      <td>2</td>\n",
              "      <td>0</td>\n",
              "      <td>0</td>\n",
              "      <td>No</td>\n",
              "      <td>NaN</td>\n",
              "      <td>Quarter Finals</td>\n",
              "      <td>No</td>\n",
              "      <td>0</td>\n",
              "      <td>NaN</td>\n",
              "      <td>NaN</td>\n",
              "    </tr>\n",
              "  </tbody>\n",
              "</table>\n",
              "</div>"
            ],
            "text/plain": [
              "           Date            Team  ... Own goals  Own goal Time\n",
              "1    14-06-2018    Saudi Arabia  ...       NaN            NaN\n",
              "2    15-06-2018           Egypt  ...       NaN            NaN\n",
              "4    15-06-2018         Morocco  ...       1.0           90.0\n",
              "12   16-06-2018            Peru  ...       NaN            NaN\n",
              "15   17-06-2018         Nigeria  ...       1.0           32.0\n",
              "16   17-06-2018      Costa Rica  ...       NaN            NaN\n",
              "18   17-06-2018         Germany  ...       NaN            NaN\n",
              "23   18-06-2018  Korea Republic  ...       NaN            NaN\n",
              "25   18-06-2018          Panama  ...       NaN            NaN\n",
              "35   20-06-2018         Morocco  ...       NaN            NaN\n",
              "37   20-06-2018    Saudi Arabia  ...       NaN            NaN\n",
              "38   20-06-2018            Iran  ...       NaN            NaN\n",
              "43   21-06-2018            Peru  ...       NaN            NaN\n",
              "44   21-06-2018       Argentina  ...       NaN            NaN\n",
              "47   22-06-2018      Costa Rica  ...       NaN            NaN\n",
              "49   22-06-2018         Iceland  ...       NaN            NaN\n",
              "62   24-06-2018          Poland  ...       NaN            NaN\n",
              "65   25-06-2018          Russia  ...       1.0           23.0\n",
              "72   26-06-2018         Denmark  ...       NaN            NaN\n",
              "73   26-06-2018          France  ...       NaN            NaN\n",
              "74   26-06-2018       Australia  ...       NaN            NaN\n",
              "81   27-06-2018         Germany  ...       NaN            NaN\n",
              "82   27-06-2018          Mexico  ...       1.0           74.0\n",
              "84   27-06-2018          Serbia  ...       NaN            NaN\n",
              "88   28-06-2018           Japan  ...       NaN            NaN\n",
              "90   28-06-2018         Senegal  ...       NaN            NaN\n",
              "94   28-06-2018         England  ...       NaN            NaN\n",
              "105  02-07-2018          Mexico  ...       NaN            NaN\n",
              "109  03-07-2018     Switzerland  ...       NaN            NaN\n",
              "112  06-07-2018         Uruguay  ...       NaN            NaN\n",
              "114  06-07-2018          Brazil  ...       1.0           13.0\n",
              "116  07-07-2018          Sweden  ...       NaN            NaN\n",
              "\n",
              "[32 rows x 27 columns]"
            ]
          },
          "metadata": {
            "tags": []
          },
          "execution_count": 9
        }
      ]
    },
    {
      "cell_type": "code",
      "metadata": {
        "id": "oje-UZsytHRz",
        "colab_type": "code",
        "colab": {}
      },
      "source": [
        "# 1st Goal [12. nan 89. 90.  4. 24. 58. 62. 19. ...\n",
        "df['1st Goal'].fillna(-1, inplace=True)"
      ],
      "execution_count": 0,
      "outputs": []
    },
    {
      "cell_type": "code",
      "metadata": {
        "id": "_tKDHOEptHR5",
        "colab_type": "code",
        "colab": {}
      },
      "source": [
        ""
      ],
      "execution_count": 0,
      "outputs": []
    },
    {
      "cell_type": "code",
      "metadata": {
        "id": "e3lHpYGItHR9",
        "colab_type": "code",
        "colab": {
          "base_uri": "https://localhost:8080/",
          "height": 34
        },
        "outputId": "d8d610a8-d35d-4ea1-ce5b-1f7ca9a51e05"
      },
      "source": [
        "# Inspect NaN values\n",
        "df['Own goals'].unique()"
      ],
      "execution_count": 11,
      "outputs": [
        {
          "output_type": "execute_result",
          "data": {
            "text/plain": [
              "array([nan,  1.])"
            ]
          },
          "metadata": {
            "tags": []
          },
          "execution_count": 11
        }
      ]
    },
    {
      "cell_type": "code",
      "metadata": {
        "id": "LIVX114BtHSD",
        "colab_type": "code",
        "colab": {}
      },
      "source": [
        "# Own goals [nan  1.]\n",
        "df['Own goals'].fillna(0, inplace=True)"
      ],
      "execution_count": 0,
      "outputs": []
    },
    {
      "cell_type": "code",
      "metadata": {
        "id": "vFebAnZXtHSJ",
        "colab_type": "code",
        "colab": {}
      },
      "source": [
        ""
      ],
      "execution_count": 0,
      "outputs": []
    },
    {
      "cell_type": "code",
      "metadata": {
        "id": "dRzy7Ox-tHSP",
        "colab_type": "code",
        "colab": {
          "base_uri": "https://localhost:8080/",
          "height": 34
        },
        "outputId": "70f247a5-c074-4aba-e951-2b02c42d7e09"
      },
      "source": [
        "# Inspect NaN values\n",
        "df['Own goal Time'].unique()"
      ],
      "execution_count": 13,
      "outputs": [
        {
          "output_type": "execute_result",
          "data": {
            "text/plain": [
              "array([nan, 90., 81., 32., 37., 47., 23., 74., 33., 12., 13.])"
            ]
          },
          "metadata": {
            "tags": []
          },
          "execution_count": 13
        }
      ]
    },
    {
      "cell_type": "code",
      "metadata": {
        "id": "aF_5n3Z3tHST",
        "colab_type": "code",
        "colab": {}
      },
      "source": [
        "# Own goal Time [nan 90. 81. 32. 37. 47. 23. 74. 33. 12. 13. 18.]\n",
        "df['Own goal Time'].fillna(-1, inplace=True)"
      ],
      "execution_count": 0,
      "outputs": []
    },
    {
      "cell_type": "code",
      "metadata": {
        "id": "BTO2Pwj5tHSY",
        "colab_type": "code",
        "colab": {}
      },
      "source": [
        ""
      ],
      "execution_count": 0,
      "outputs": []
    },
    {
      "cell_type": "code",
      "metadata": {
        "id": "Iq6itCu4tHSc",
        "colab_type": "code",
        "colab": {
          "base_uri": "https://localhost:8080/",
          "height": 521
        },
        "outputId": "c360edba-9077-43c7-eb5d-8c99c6088370"
      },
      "source": [
        "# check that we've filled all the NaNs\n",
        "df.loc[:, features].info()"
      ],
      "execution_count": 15,
      "outputs": [
        {
          "output_type": "stream",
          "text": [
            "<class 'pandas.core.frame.DataFrame'>\n",
            "RangeIndex: 120 entries, 0 to 119\n",
            "Data columns (total 24 columns):\n",
            "Team                      120 non-null object\n",
            "Opponent                  120 non-null object\n",
            "Goal Scored               120 non-null int64\n",
            "Ball Possession %         120 non-null int64\n",
            "Attempts                  120 non-null int64\n",
            "On-Target                 120 non-null int64\n",
            "Off-Target                120 non-null int64\n",
            "Blocked                   120 non-null int64\n",
            "Corners                   120 non-null int64\n",
            "Offsides                  120 non-null int64\n",
            "Free Kicks                120 non-null int64\n",
            "Saves                     120 non-null int64\n",
            "Pass Accuracy %           120 non-null int64\n",
            "Passes                    120 non-null int64\n",
            "Distance Covered (Kms)    120 non-null int64\n",
            "Fouls Committed           120 non-null int64\n",
            "Yellow Card               120 non-null int64\n",
            "Yellow & Red              120 non-null int64\n",
            "Red                       120 non-null int64\n",
            "1st Goal                  120 non-null float64\n",
            "PSO                       120 non-null object\n",
            "Goals in PSO              120 non-null int64\n",
            "Own goals                 120 non-null float64\n",
            "Own goal Time             120 non-null float64\n",
            "dtypes: float64(3), int64(18), object(3)\n",
            "memory usage: 22.6+ KB\n"
          ],
          "name": "stdout"
        }
      ]
    },
    {
      "cell_type": "code",
      "metadata": {
        "id": "o2yZPHFztHSi",
        "colab_type": "code",
        "colab": {}
      },
      "source": [
        ""
      ],
      "execution_count": 0,
      "outputs": []
    },
    {
      "cell_type": "markdown",
      "metadata": {
        "id": "rUAMMv9UtHSn",
        "colab_type": "text"
      },
      "source": [
        "### Function Transformer\n",
        "\n",
        "- Useful way to package the cleaning steps for use later in a scikit-learn Pipeline\n",
        "- https://scikit-learn.org/stable/modules/preprocessing.html#custom-transformers"
      ]
    },
    {
      "cell_type": "code",
      "metadata": {
        "id": "f9BOmXcwtHSo",
        "colab_type": "code",
        "colab": {}
      },
      "source": [
        "def clean_nan(input_df):\n",
        "    \"\"\"Cleans NaN columns for FIFA dataset\n",
        "    Params:\n",
        "        input_df - the input dataframe that will be cleaned in place\n",
        "    \"\"\"\n",
        "    result_df = input_df.copy()\n",
        "\n",
        "    # 1st Goal [12. nan 89. 90.  4. 24. 58. 62. 19. ...\n",
        "    result_df['1st Goal'].fillna(-1, inplace=True)\n",
        "\n",
        "    # Own goals [nan  1.]\n",
        "    result_df['Own goals'].fillna(0, inplace=True)\n",
        "\n",
        "    # Own goal Time [nan 90. 81. 32. 37. 47. 23. 74. 33. 12. 13. 18.]\n",
        "    result_df['Own goal Time'].fillna(-1, inplace=True)\n",
        "    \n",
        "    return result_df"
      ],
      "execution_count": 0,
      "outputs": []
    },
    {
      "cell_type": "code",
      "metadata": {
        "colab_type": "code",
        "outputId": "b626ea3c-d25f-486f-9c31-cfa043bc4367",
        "id": "P8K72p5utqLm",
        "colab": {
          "base_uri": "https://localhost:8080/",
          "height": 503
        }
      },
      "source": [
        "# test it out\n",
        "dftemp = pd.read_csv(csv_path)\n",
        "dftemp.isnull().sum()"
      ],
      "execution_count": 17,
      "outputs": [
        {
          "output_type": "execute_result",
          "data": {
            "text/plain": [
              "Date                        0\n",
              "Team                        0\n",
              "Opponent                    0\n",
              "Goal Scored                 0\n",
              "Ball Possession %           0\n",
              "Attempts                    0\n",
              "On-Target                   0\n",
              "Off-Target                  0\n",
              "Blocked                     0\n",
              "Corners                     0\n",
              "Offsides                    0\n",
              "Free Kicks                  0\n",
              "Saves                       0\n",
              "Pass Accuracy %             0\n",
              "Passes                      0\n",
              "Distance Covered (Kms)      0\n",
              "Fouls Committed             0\n",
              "Yellow Card                 0\n",
              "Yellow & Red                0\n",
              "Red                         0\n",
              "Man of the Match            0\n",
              "1st Goal                   32\n",
              "Round                       0\n",
              "PSO                         0\n",
              "Goals in PSO                0\n",
              "Own goals                 109\n",
              "Own goal Time             109\n",
              "dtype: int64"
            ]
          },
          "metadata": {
            "tags": []
          },
          "execution_count": 17
        }
      ]
    },
    {
      "cell_type": "code",
      "metadata": {
        "colab_type": "code",
        "outputId": "82ba1878-77ec-476d-ae7a-19e0be1c29ee",
        "id": "h3Xy5QS7tp2D",
        "colab": {
          "base_uri": "https://localhost:8080/",
          "height": 503
        }
      },
      "source": [
        "df_clean = clean_nan(dftemp)\n",
        "df_clean.isnull().sum()"
      ],
      "execution_count": 18,
      "outputs": [
        {
          "output_type": "execute_result",
          "data": {
            "text/plain": [
              "Date                      0\n",
              "Team                      0\n",
              "Opponent                  0\n",
              "Goal Scored               0\n",
              "Ball Possession %         0\n",
              "Attempts                  0\n",
              "On-Target                 0\n",
              "Off-Target                0\n",
              "Blocked                   0\n",
              "Corners                   0\n",
              "Offsides                  0\n",
              "Free Kicks                0\n",
              "Saves                     0\n",
              "Pass Accuracy %           0\n",
              "Passes                    0\n",
              "Distance Covered (Kms)    0\n",
              "Fouls Committed           0\n",
              "Yellow Card               0\n",
              "Yellow & Red              0\n",
              "Red                       0\n",
              "Man of the Match          0\n",
              "1st Goal                  0\n",
              "Round                     0\n",
              "PSO                       0\n",
              "Goals in PSO              0\n",
              "Own goals                 0\n",
              "Own goal Time             0\n",
              "dtype: int64"
            ]
          },
          "metadata": {
            "tags": []
          },
          "execution_count": 18
        }
      ]
    },
    {
      "cell_type": "code",
      "metadata": {
        "colab_type": "code",
        "outputId": "faaa374c-6eab-4949-a427-e68cc685be1e",
        "id": "IGuaR2VStpgn",
        "colab": {
          "base_uri": "https://localhost:8080/",
          "height": 503
        }
      },
      "source": [
        "# Create a FunctionTransformer\n",
        "clean_nan_transformer = FunctionTransformer(clean_nan, validate=False)\n",
        "df_clean = clean_nan_transformer.transform(dftemp)\n",
        "df_clean.isnull().sum()"
      ],
      "execution_count": 19,
      "outputs": [
        {
          "output_type": "execute_result",
          "data": {
            "text/plain": [
              "Date                      0\n",
              "Team                      0\n",
              "Opponent                  0\n",
              "Goal Scored               0\n",
              "Ball Possession %         0\n",
              "Attempts                  0\n",
              "On-Target                 0\n",
              "Off-Target                0\n",
              "Blocked                   0\n",
              "Corners                   0\n",
              "Offsides                  0\n",
              "Free Kicks                0\n",
              "Saves                     0\n",
              "Pass Accuracy %           0\n",
              "Passes                    0\n",
              "Distance Covered (Kms)    0\n",
              "Fouls Committed           0\n",
              "Yellow Card               0\n",
              "Yellow & Red              0\n",
              "Red                       0\n",
              "Man of the Match          0\n",
              "1st Goal                  0\n",
              "Round                     0\n",
              "PSO                       0\n",
              "Goals in PSO              0\n",
              "Own goals                 0\n",
              "Own goal Time             0\n",
              "dtype: int64"
            ]
          },
          "metadata": {
            "tags": []
          },
          "execution_count": 19
        }
      ]
    },
    {
      "cell_type": "code",
      "metadata": {
        "id": "pfJHBTVvtHS-",
        "colab_type": "code",
        "colab": {}
      },
      "source": [
        ""
      ],
      "execution_count": 0,
      "outputs": []
    },
    {
      "cell_type": "markdown",
      "metadata": {
        "id": "IXIOnBmotHTP",
        "colab_type": "text"
      },
      "source": [
        "### One-hot Encode\n",
        "\n",
        "Find out which columns we should encode. Typically, we use pandas.get_dummies() to one-hot encode. However, in a pipeline, it is better to use Sklearn's encoder.\n",
        "\n",
        "Note: LabelEncoder does not work with Pipelines (https://github.com/scikit-learn/scikit-learn/issues/3956)"
      ]
    },
    {
      "cell_type": "code",
      "metadata": {
        "id": "DBVNFEAbtHTR",
        "colab_type": "code",
        "colab": {
          "base_uri": "https://localhost:8080/",
          "height": 573
        },
        "outputId": "1a869109-d8bb-490c-9c14-7a618a982a4d"
      },
      "source": [
        "df_clean.info()"
      ],
      "execution_count": 20,
      "outputs": [
        {
          "output_type": "stream",
          "text": [
            "<class 'pandas.core.frame.DataFrame'>\n",
            "RangeIndex: 120 entries, 0 to 119\n",
            "Data columns (total 27 columns):\n",
            "Date                      120 non-null object\n",
            "Team                      120 non-null object\n",
            "Opponent                  120 non-null object\n",
            "Goal Scored               120 non-null int64\n",
            "Ball Possession %         120 non-null int64\n",
            "Attempts                  120 non-null int64\n",
            "On-Target                 120 non-null int64\n",
            "Off-Target                120 non-null int64\n",
            "Blocked                   120 non-null int64\n",
            "Corners                   120 non-null int64\n",
            "Offsides                  120 non-null int64\n",
            "Free Kicks                120 non-null int64\n",
            "Saves                     120 non-null int64\n",
            "Pass Accuracy %           120 non-null int64\n",
            "Passes                    120 non-null int64\n",
            "Distance Covered (Kms)    120 non-null int64\n",
            "Fouls Committed           120 non-null int64\n",
            "Yellow Card               120 non-null int64\n",
            "Yellow & Red              120 non-null int64\n",
            "Red                       120 non-null int64\n",
            "Man of the Match          120 non-null object\n",
            "1st Goal                  120 non-null float64\n",
            "Round                     120 non-null object\n",
            "PSO                       120 non-null object\n",
            "Goals in PSO              120 non-null int64\n",
            "Own goals                 120 non-null float64\n",
            "Own goal Time             120 non-null float64\n",
            "dtypes: float64(3), int64(18), object(6)\n",
            "memory usage: 25.4+ KB\n"
          ],
          "name": "stdout"
        }
      ]
    },
    {
      "cell_type": "code",
      "metadata": {
        "id": "1RE6qUM5tHTV",
        "colab_type": "code",
        "colab": {
          "base_uri": "https://localhost:8080/",
          "height": 34
        },
        "outputId": "31ec4d93-469a-4305-b0cc-05815ccfbc8a"
      },
      "source": [
        "columns_to_encode = ['Team', 'Opponent', 'PSO']\n",
        "columns_to_encode"
      ],
      "execution_count": 21,
      "outputs": [
        {
          "output_type": "execute_result",
          "data": {
            "text/plain": [
              "['Team', 'Opponent', 'PSO']"
            ]
          },
          "metadata": {
            "tags": []
          },
          "execution_count": 21
        }
      ]
    },
    {
      "cell_type": "code",
      "metadata": {
        "id": "e3iaAbNUtHTY",
        "colab_type": "code",
        "colab": {}
      },
      "source": [
        ""
      ],
      "execution_count": 0,
      "outputs": []
    },
    {
      "cell_type": "markdown",
      "metadata": {
        "id": "c2ddw7hRtHTb",
        "colab_type": "text"
      },
      "source": [
        "### Scale\n",
        "\n",
        "Find out which columns we should scale"
      ]
    },
    {
      "cell_type": "code",
      "metadata": {
        "id": "_4Oz6AwbtHTc",
        "colab_type": "code",
        "colab": {
          "base_uri": "https://localhost:8080/",
          "height": 355
        },
        "outputId": "fb7387ff-d8bf-473e-c134-40e2d3efa358"
      },
      "source": [
        "df_clean.describe()"
      ],
      "execution_count": 22,
      "outputs": [
        {
          "output_type": "execute_result",
          "data": {
            "text/html": [
              "<div>\n",
              "<style scoped>\n",
              "    .dataframe tbody tr th:only-of-type {\n",
              "        vertical-align: middle;\n",
              "    }\n",
              "\n",
              "    .dataframe tbody tr th {\n",
              "        vertical-align: top;\n",
              "    }\n",
              "\n",
              "    .dataframe thead th {\n",
              "        text-align: right;\n",
              "    }\n",
              "</style>\n",
              "<table border=\"1\" class=\"dataframe\">\n",
              "  <thead>\n",
              "    <tr style=\"text-align: right;\">\n",
              "      <th></th>\n",
              "      <th>Goal Scored</th>\n",
              "      <th>Ball Possession %</th>\n",
              "      <th>Attempts</th>\n",
              "      <th>On-Target</th>\n",
              "      <th>Off-Target</th>\n",
              "      <th>Blocked</th>\n",
              "      <th>Corners</th>\n",
              "      <th>Offsides</th>\n",
              "      <th>Free Kicks</th>\n",
              "      <th>Saves</th>\n",
              "      <th>Pass Accuracy %</th>\n",
              "      <th>Passes</th>\n",
              "      <th>Distance Covered (Kms)</th>\n",
              "      <th>Fouls Committed</th>\n",
              "      <th>Yellow Card</th>\n",
              "      <th>Yellow &amp; Red</th>\n",
              "      <th>Red</th>\n",
              "      <th>1st Goal</th>\n",
              "      <th>Goals in PSO</th>\n",
              "      <th>Own goals</th>\n",
              "      <th>Own goal Time</th>\n",
              "    </tr>\n",
              "  </thead>\n",
              "  <tbody>\n",
              "    <tr>\n",
              "      <th>count</th>\n",
              "      <td>120.000000</td>\n",
              "      <td>120.000000</td>\n",
              "      <td>120.000000</td>\n",
              "      <td>120.000000</td>\n",
              "      <td>120.000000</td>\n",
              "      <td>120.000000</td>\n",
              "      <td>120.000000</td>\n",
              "      <td>120.000000</td>\n",
              "      <td>120.000000</td>\n",
              "      <td>120.000000</td>\n",
              "      <td>120.000000</td>\n",
              "      <td>120.000000</td>\n",
              "      <td>120.000000</td>\n",
              "      <td>120.000000</td>\n",
              "      <td>120.000000</td>\n",
              "      <td>120.000000</td>\n",
              "      <td>120.000000</td>\n",
              "      <td>120.000000</td>\n",
              "      <td>120.000000</td>\n",
              "      <td>120.000000</td>\n",
              "      <td>120.000000</td>\n",
              "    </tr>\n",
              "    <tr>\n",
              "      <th>mean</th>\n",
              "      <td>1.308333</td>\n",
              "      <td>49.991667</td>\n",
              "      <td>12.508333</td>\n",
              "      <td>3.891667</td>\n",
              "      <td>5.216667</td>\n",
              "      <td>3.350000</td>\n",
              "      <td>4.716667</td>\n",
              "      <td>1.358333</td>\n",
              "      <td>14.958333</td>\n",
              "      <td>2.716667</td>\n",
              "      <td>82.458333</td>\n",
              "      <td>459.341667</td>\n",
              "      <td>106.175000</td>\n",
              "      <td>13.600000</td>\n",
              "      <td>1.691667</td>\n",
              "      <td>0.016667</td>\n",
              "      <td>0.016667</td>\n",
              "      <td>29.191667</td>\n",
              "      <td>0.216667</td>\n",
              "      <td>0.091667</td>\n",
              "      <td>3.525000</td>\n",
              "    </tr>\n",
              "    <tr>\n",
              "      <th>std</th>\n",
              "      <td>1.150782</td>\n",
              "      <td>10.564325</td>\n",
              "      <td>5.278776</td>\n",
              "      <td>2.259604</td>\n",
              "      <td>2.359260</td>\n",
              "      <td>2.444854</td>\n",
              "      <td>2.490936</td>\n",
              "      <td>1.214726</td>\n",
              "      <td>4.649742</td>\n",
              "      <td>2.070941</td>\n",
              "      <td>5.942152</td>\n",
              "      <td>151.524438</td>\n",
              "      <td>10.967992</td>\n",
              "      <td>4.562176</td>\n",
              "      <td>1.358421</td>\n",
              "      <td>0.128556</td>\n",
              "      <td>0.128556</td>\n",
              "      <td>27.737453</td>\n",
              "      <td>0.831960</td>\n",
              "      <td>0.289765</td>\n",
              "      <td>16.750248</td>\n",
              "    </tr>\n",
              "    <tr>\n",
              "      <th>min</th>\n",
              "      <td>0.000000</td>\n",
              "      <td>25.000000</td>\n",
              "      <td>3.000000</td>\n",
              "      <td>0.000000</td>\n",
              "      <td>1.000000</td>\n",
              "      <td>0.000000</td>\n",
              "      <td>0.000000</td>\n",
              "      <td>0.000000</td>\n",
              "      <td>5.000000</td>\n",
              "      <td>0.000000</td>\n",
              "      <td>67.000000</td>\n",
              "      <td>189.000000</td>\n",
              "      <td>80.000000</td>\n",
              "      <td>5.000000</td>\n",
              "      <td>0.000000</td>\n",
              "      <td>0.000000</td>\n",
              "      <td>0.000000</td>\n",
              "      <td>-1.000000</td>\n",
              "      <td>0.000000</td>\n",
              "      <td>0.000000</td>\n",
              "      <td>-1.000000</td>\n",
              "    </tr>\n",
              "    <tr>\n",
              "      <th>25%</th>\n",
              "      <td>0.000000</td>\n",
              "      <td>42.000000</td>\n",
              "      <td>8.750000</td>\n",
              "      <td>2.000000</td>\n",
              "      <td>4.000000</td>\n",
              "      <td>1.750000</td>\n",
              "      <td>3.000000</td>\n",
              "      <td>0.000000</td>\n",
              "      <td>11.000000</td>\n",
              "      <td>1.000000</td>\n",
              "      <td>79.000000</td>\n",
              "      <td>351.000000</td>\n",
              "      <td>101.000000</td>\n",
              "      <td>10.000000</td>\n",
              "      <td>1.000000</td>\n",
              "      <td>0.000000</td>\n",
              "      <td>0.000000</td>\n",
              "      <td>-1.000000</td>\n",
              "      <td>0.000000</td>\n",
              "      <td>0.000000</td>\n",
              "      <td>-1.000000</td>\n",
              "    </tr>\n",
              "    <tr>\n",
              "      <th>50%</th>\n",
              "      <td>1.000000</td>\n",
              "      <td>50.000000</td>\n",
              "      <td>12.000000</td>\n",
              "      <td>3.000000</td>\n",
              "      <td>5.000000</td>\n",
              "      <td>3.000000</td>\n",
              "      <td>5.000000</td>\n",
              "      <td>1.000000</td>\n",
              "      <td>15.000000</td>\n",
              "      <td>2.000000</td>\n",
              "      <td>83.000000</td>\n",
              "      <td>455.500000</td>\n",
              "      <td>104.500000</td>\n",
              "      <td>13.000000</td>\n",
              "      <td>2.000000</td>\n",
              "      <td>0.000000</td>\n",
              "      <td>0.000000</td>\n",
              "      <td>25.000000</td>\n",
              "      <td>0.000000</td>\n",
              "      <td>0.000000</td>\n",
              "      <td>-1.000000</td>\n",
              "    </tr>\n",
              "    <tr>\n",
              "      <th>75%</th>\n",
              "      <td>2.000000</td>\n",
              "      <td>58.000000</td>\n",
              "      <td>15.000000</td>\n",
              "      <td>5.000000</td>\n",
              "      <td>7.000000</td>\n",
              "      <td>4.000000</td>\n",
              "      <td>6.250000</td>\n",
              "      <td>2.000000</td>\n",
              "      <td>18.000000</td>\n",
              "      <td>4.000000</td>\n",
              "      <td>87.000000</td>\n",
              "      <td>552.750000</td>\n",
              "      <td>109.000000</td>\n",
              "      <td>16.250000</td>\n",
              "      <td>2.000000</td>\n",
              "      <td>0.000000</td>\n",
              "      <td>0.000000</td>\n",
              "      <td>51.000000</td>\n",
              "      <td>0.000000</td>\n",
              "      <td>0.000000</td>\n",
              "      <td>-1.000000</td>\n",
              "    </tr>\n",
              "    <tr>\n",
              "      <th>max</th>\n",
              "      <td>6.000000</td>\n",
              "      <td>75.000000</td>\n",
              "      <td>26.000000</td>\n",
              "      <td>12.000000</td>\n",
              "      <td>11.000000</td>\n",
              "      <td>10.000000</td>\n",
              "      <td>11.000000</td>\n",
              "      <td>5.000000</td>\n",
              "      <td>26.000000</td>\n",
              "      <td>9.000000</td>\n",
              "      <td>94.000000</td>\n",
              "      <td>1137.000000</td>\n",
              "      <td>148.000000</td>\n",
              "      <td>25.000000</td>\n",
              "      <td>6.000000</td>\n",
              "      <td>1.000000</td>\n",
              "      <td>1.000000</td>\n",
              "      <td>90.000000</td>\n",
              "      <td>4.000000</td>\n",
              "      <td>1.000000</td>\n",
              "      <td>90.000000</td>\n",
              "    </tr>\n",
              "  </tbody>\n",
              "</table>\n",
              "</div>"
            ],
            "text/plain": [
              "       Goal Scored  Ball Possession %  ...   Own goals  Own goal Time\n",
              "count   120.000000         120.000000  ...  120.000000     120.000000\n",
              "mean      1.308333          49.991667  ...    0.091667       3.525000\n",
              "std       1.150782          10.564325  ...    0.289765      16.750248\n",
              "min       0.000000          25.000000  ...    0.000000      -1.000000\n",
              "25%       0.000000          42.000000  ...    0.000000      -1.000000\n",
              "50%       1.000000          50.000000  ...    0.000000      -1.000000\n",
              "75%       2.000000          58.000000  ...    0.000000      -1.000000\n",
              "max       6.000000          75.000000  ...    1.000000      90.000000\n",
              "\n",
              "[8 rows x 21 columns]"
            ]
          },
          "metadata": {
            "tags": []
          },
          "execution_count": 22
        }
      ]
    },
    {
      "cell_type": "code",
      "metadata": {
        "id": "-NEqOZ-VtHTf",
        "colab_type": "code",
        "colab": {
          "base_uri": "https://localhost:8080/",
          "height": 399
        },
        "outputId": "a22b8b88-ce9e-4f93-bbfd-d0fcc4041269"
      },
      "source": [
        "# Too many columns, can't see, so use this way\n",
        "df_clean.describe().loc['mean']"
      ],
      "execution_count": 23,
      "outputs": [
        {
          "output_type": "execute_result",
          "data": {
            "text/plain": [
              "Goal Scored                 1.308333\n",
              "Ball Possession %          49.991667\n",
              "Attempts                   12.508333\n",
              "On-Target                   3.891667\n",
              "Off-Target                  5.216667\n",
              "Blocked                     3.350000\n",
              "Corners                     4.716667\n",
              "Offsides                    1.358333\n",
              "Free Kicks                 14.958333\n",
              "Saves                       2.716667\n",
              "Pass Accuracy %            82.458333\n",
              "Passes                    459.341667\n",
              "Distance Covered (Kms)    106.175000\n",
              "Fouls Committed            13.600000\n",
              "Yellow Card                 1.691667\n",
              "Yellow & Red                0.016667\n",
              "Red                         0.016667\n",
              "1st Goal                   29.191667\n",
              "Goals in PSO                0.216667\n",
              "Own goals                   0.091667\n",
              "Own goal Time               3.525000\n",
              "Name: mean, dtype: float64"
            ]
          },
          "metadata": {
            "tags": []
          },
          "execution_count": 23
        }
      ]
    },
    {
      "cell_type": "code",
      "metadata": {
        "id": "ax8AVrrZtHTi",
        "colab_type": "code",
        "colab": {
          "base_uri": "https://localhost:8080/",
          "height": 399
        },
        "outputId": "94bb6731-6b2e-4626-c259-c3635d8ed191"
      },
      "source": [
        "# repeat for std deviation\n",
        "\n",
        "df_clean.describe().loc['std']"
      ],
      "execution_count": 24,
      "outputs": [
        {
          "output_type": "execute_result",
          "data": {
            "text/plain": [
              "Goal Scored                 1.150782\n",
              "Ball Possession %          10.564325\n",
              "Attempts                    5.278776\n",
              "On-Target                   2.259604\n",
              "Off-Target                  2.359260\n",
              "Blocked                     2.444854\n",
              "Corners                     2.490936\n",
              "Offsides                    1.214726\n",
              "Free Kicks                  4.649742\n",
              "Saves                       2.070941\n",
              "Pass Accuracy %             5.942152\n",
              "Passes                    151.524438\n",
              "Distance Covered (Kms)     10.967992\n",
              "Fouls Committed             4.562176\n",
              "Yellow Card                 1.358421\n",
              "Yellow & Red                0.128556\n",
              "Red                         0.128556\n",
              "1st Goal                   27.737453\n",
              "Goals in PSO                0.831960\n",
              "Own goals                   0.289765\n",
              "Own goal Time              16.750248\n",
              "Name: std, dtype: float64"
            ]
          },
          "metadata": {
            "tags": []
          },
          "execution_count": 24
        }
      ]
    },
    {
      "cell_type": "code",
      "metadata": {
        "id": "sbI_9_n_tHTm",
        "colab_type": "code",
        "colab": {
          "base_uri": "https://localhost:8080/",
          "height": 121
        },
        "outputId": "57676a09-0233-455e-b456-faa5c9ee8822"
      },
      "source": [
        "# most of these columns above can be scaled\n",
        "columns_to_scale = df_clean.describe().columns\n",
        "columns_to_scale"
      ],
      "execution_count": 25,
      "outputs": [
        {
          "output_type": "execute_result",
          "data": {
            "text/plain": [
              "Index(['Goal Scored', 'Ball Possession %', 'Attempts', 'On-Target',\n",
              "       'Off-Target', 'Blocked', 'Corners', 'Offsides', 'Free Kicks', 'Saves',\n",
              "       'Pass Accuracy %', 'Passes', 'Distance Covered (Kms)',\n",
              "       'Fouls Committed', 'Yellow Card', 'Yellow & Red', 'Red', '1st Goal',\n",
              "       'Goals in PSO', 'Own goals', 'Own goal Time'],\n",
              "      dtype='object')"
            ]
          },
          "metadata": {
            "tags": []
          },
          "execution_count": 25
        }
      ]
    },
    {
      "cell_type": "code",
      "metadata": {
        "id": "ditScVx0tHTp",
        "colab_type": "code",
        "colab": {}
      },
      "source": [
        ""
      ],
      "execution_count": 0,
      "outputs": []
    },
    {
      "cell_type": "markdown",
      "metadata": {
        "id": "5DQ7j9-YtHTs",
        "colab_type": "text"
      },
      "source": [
        "### Column Transformer\n",
        "- Perform scaling on some columns\n",
        "- Perform label encoding on other columns\n",
        "- Available in sklearn 0.20 and later\n",
        "\n",
        "https://jorisvandenbossche.github.io/blog/2018/05/28/scikit-learn-columntransformer/\n",
        "\n",
        "https://scikit-learn.org/stable/modules/generated/sklearn.compose.ColumnTransformer.html"
      ]
    },
    {
      "cell_type": "code",
      "metadata": {
        "id": "1DjleLwntHTt",
        "colab_type": "code",
        "colab": {}
      },
      "source": [
        "scaler_encoder = make_column_transformer(\n",
        "    (StandardScaler(), columns_to_scale),\n",
        "    (OneHotEncoder(drop='first'), columns_to_encode),\n",
        "    remainder='drop', verbose=True)"
      ],
      "execution_count": 0,
      "outputs": []
    },
    {
      "cell_type": "code",
      "metadata": {
        "id": "goV4pYxYtHTw",
        "colab_type": "code",
        "colab": {
          "base_uri": "https://localhost:8080/",
          "height": 347
        },
        "outputId": "7b110772-254e-48bd-f792-1cd26c6f5109"
      },
      "source": [
        "scaler_encoder"
      ],
      "execution_count": 27,
      "outputs": [
        {
          "output_type": "execute_result",
          "data": {
            "text/plain": [
              "ColumnTransformer(n_jobs=None, remainder='drop', sparse_threshold=0.3,\n",
              "                  transformer_weights=None,\n",
              "                  transformers=[('standardscaler',\n",
              "                                 StandardScaler(copy=True, with_mean=True,\n",
              "                                                with_std=True),\n",
              "                                 Index(['Goal Scored', 'Ball Possession %', 'Attempts', 'On-Target',\n",
              "       'Off-Target', 'Blocked', 'Corners', 'Offsides', 'Free Kicks', 'Saves',\n",
              "       'Pass Accuracy %', 'Passes', 'Distance Covered (Kms)',\n",
              "       'Fouls Committed', 'Yellow Card', 'Yellow & Red', 'Red', '1st Goal',\n",
              "       'Goals in PSO', 'Own goals', 'Own goal Time'],\n",
              "      dtype='object')),\n",
              "                                ('onehotencoder',\n",
              "                                 OneHotEncoder(categorical_features=None,\n",
              "                                               categories=None, drop='first',\n",
              "                                               dtype=<class 'numpy.float64'>,\n",
              "                                               handle_unknown='error',\n",
              "                                               n_values=None, sparse=True),\n",
              "                                 ['Team', 'Opponent', 'PSO'])],\n",
              "                  verbose=True)"
            ]
          },
          "metadata": {
            "tags": []
          },
          "execution_count": 27
        }
      ]
    },
    {
      "cell_type": "code",
      "metadata": {
        "id": "dvMM4RJ4tHTy",
        "colab_type": "code",
        "colab": {
          "base_uri": "https://localhost:8080/",
          "height": 278
        },
        "outputId": "ccfabe32-0980-4234-b4ba-d7d56c94440d"
      },
      "source": [
        "# make sure we only apply to features (not the target)\n",
        "df_clean_features = df_clean.loc[:, features]\n",
        "\n",
        "encoded_features = scaler_encoder.fit_transform(df_clean_features).todense()\n",
        "encoded_features"
      ],
      "execution_count": 28,
      "outputs": [
        {
          "output_type": "stream",
          "text": [
            "[ColumnTransformer]  (1 of 2) Processing standardscaler, total=   0.0s\n",
            "[ColumnTransformer] . (2 of 2) Processing onehotencoder, total=   0.0s\n"
          ],
          "name": "stdout"
        },
        {
          "output_type": "execute_result",
          "data": {
            "text/plain": [
              "matrix([[ 3.22141353, -0.94975876,  0.09353081, ...,  0.        ,\n",
              "          0.        ,  0.        ],\n",
              "        [-1.14167477,  0.95134301, -1.23809422, ...,  0.        ,\n",
              "          0.        ,  0.        ],\n",
              "        [-1.14167477, -0.66459349, -0.85762993, ...,  0.        ,\n",
              "          1.        ,  0.        ],\n",
              "        ...,\n",
              "        [ 0.60356055,  0.66617775, -0.09670134, ...,  0.        ,\n",
              "          0.        ,  0.        ],\n",
              "        [ 0.60356055, -1.13986894,  0.09353081, ...,  0.        ,\n",
              "          0.        ,  1.        ],\n",
              "        [ 0.60356055,  1.14145319,  0.85445939, ...,  0.        ,\n",
              "          0.        ,  1.        ]])"
            ]
          },
          "metadata": {
            "tags": []
          },
          "execution_count": 28
        }
      ]
    },
    {
      "cell_type": "markdown",
      "metadata": {
        "id": "ApdtfO27tHT2",
        "colab_type": "text"
      },
      "source": [
        "The order of the columns in the transformed feature matrix follows the order of how the columns are specified in the transformers list. \n",
        "\n",
        "Columns of the original feature matrix that are not specified are dropped from the resulting transformed feature matrix, unless specified in the passthrough keyword. \n",
        "\n",
        "Those columns specified with passthrough are added at the right to the output of the transformers.\n",
        "\n",
        "(https://scikit-learn.org/stable/modules/generated/sklearn.compose.ColumnTransformer.html)"
      ]
    },
    {
      "cell_type": "code",
      "metadata": {
        "id": "6uAG_TFAtHT2",
        "colab_type": "code",
        "colab": {
          "base_uri": "https://localhost:8080/",
          "height": 278
        },
        "outputId": "764f07ed-e4b0-402e-b504-0bfdbdd762a1"
      },
      "source": [
        "# getting the column names for one-hot encoder\n",
        "one_hot_encoder = scaler_encoder.named_transformers_['onehotencoder']\n",
        "one_hot_encoder.get_feature_names()"
      ],
      "execution_count": 29,
      "outputs": [
        {
          "output_type": "execute_result",
          "data": {
            "text/plain": [
              "array(['x0_Australia', 'x0_Belgium', 'x0_Brazil', 'x0_Colombia',\n",
              "       'x0_Costa Rica', 'x0_Croatia', 'x0_Denmark', 'x0_Egypt',\n",
              "       'x0_England', 'x0_France', 'x0_Germany', 'x0_Iceland', 'x0_Iran',\n",
              "       'x0_Japan', 'x0_Korea Republic', 'x0_Mexico', 'x0_Morocco',\n",
              "       'x0_Nigeria', 'x0_Panama', 'x0_Peru', 'x0_Poland', 'x0_Portugal',\n",
              "       'x0_Russia', 'x0_Saudi Arabia', 'x0_Senegal', 'x0_Serbia',\n",
              "       'x0_Spain', 'x0_Sweden', 'x0_Switzerland', 'x0_Tunisia',\n",
              "       'x0_Uruguay', 'x1_Australia', 'x1_Belgium', 'x1_Brazil',\n",
              "       'x1_Colombia', 'x1_Costa Rica', 'x1_Croatia', 'x1_Denmark',\n",
              "       'x1_Egypt', 'x1_England', 'x1_France', 'x1_Germany', 'x1_Iceland',\n",
              "       'x1_Iran', 'x1_Japan', 'x1_Korea Republic', 'x1_Mexico',\n",
              "       'x1_Morocco', 'x1_Nigeria', 'x1_Panama', 'x1_Peru', 'x1_Poland',\n",
              "       'x1_Portugal', 'x1_Russia', 'x1_Saudi Arabia', 'x1_Senegal',\n",
              "       'x1_Serbia', 'x1_Spain', 'x1_Sweden', 'x1_Switzerland',\n",
              "       'x1_Tunisia', 'x1_Uruguay', 'x2_Yes'], dtype=object)"
            ]
          },
          "metadata": {
            "tags": []
          },
          "execution_count": 29
        }
      ]
    },
    {
      "cell_type": "code",
      "metadata": {
        "id": "AGJ6WMGItHT4",
        "colab_type": "code",
        "colab": {
          "base_uri": "https://localhost:8080/",
          "height": 1000
        },
        "outputId": "73c9ea73-2c02-4eb5-da00-2dedba70f073"
      },
      "source": [
        "column_names = list(columns_to_scale) + list(one_hot_encoder.get_feature_names())\n",
        "\n",
        "df_encoded = pd.DataFrame(encoded_features, columns=column_names)\n",
        "df_encoded[target] = df[target]\n",
        "df_encoded.info()"
      ],
      "execution_count": 30,
      "outputs": [
        {
          "output_type": "stream",
          "text": [
            "<class 'pandas.core.frame.DataFrame'>\n",
            "RangeIndex: 120 entries, 0 to 119\n",
            "Data columns (total 85 columns):\n",
            "Goal Scored               120 non-null float64\n",
            "Ball Possession %         120 non-null float64\n",
            "Attempts                  120 non-null float64\n",
            "On-Target                 120 non-null float64\n",
            "Off-Target                120 non-null float64\n",
            "Blocked                   120 non-null float64\n",
            "Corners                   120 non-null float64\n",
            "Offsides                  120 non-null float64\n",
            "Free Kicks                120 non-null float64\n",
            "Saves                     120 non-null float64\n",
            "Pass Accuracy %           120 non-null float64\n",
            "Passes                    120 non-null float64\n",
            "Distance Covered (Kms)    120 non-null float64\n",
            "Fouls Committed           120 non-null float64\n",
            "Yellow Card               120 non-null float64\n",
            "Yellow & Red              120 non-null float64\n",
            "Red                       120 non-null float64\n",
            "1st Goal                  120 non-null float64\n",
            "Goals in PSO              120 non-null float64\n",
            "Own goals                 120 non-null float64\n",
            "Own goal Time             120 non-null float64\n",
            "x0_Australia              120 non-null float64\n",
            "x0_Belgium                120 non-null float64\n",
            "x0_Brazil                 120 non-null float64\n",
            "x0_Colombia               120 non-null float64\n",
            "x0_Costa Rica             120 non-null float64\n",
            "x0_Croatia                120 non-null float64\n",
            "x0_Denmark                120 non-null float64\n",
            "x0_Egypt                  120 non-null float64\n",
            "x0_England                120 non-null float64\n",
            "x0_France                 120 non-null float64\n",
            "x0_Germany                120 non-null float64\n",
            "x0_Iceland                120 non-null float64\n",
            "x0_Iran                   120 non-null float64\n",
            "x0_Japan                  120 non-null float64\n",
            "x0_Korea Republic         120 non-null float64\n",
            "x0_Mexico                 120 non-null float64\n",
            "x0_Morocco                120 non-null float64\n",
            "x0_Nigeria                120 non-null float64\n",
            "x0_Panama                 120 non-null float64\n",
            "x0_Peru                   120 non-null float64\n",
            "x0_Poland                 120 non-null float64\n",
            "x0_Portugal               120 non-null float64\n",
            "x0_Russia                 120 non-null float64\n",
            "x0_Saudi Arabia           120 non-null float64\n",
            "x0_Senegal                120 non-null float64\n",
            "x0_Serbia                 120 non-null float64\n",
            "x0_Spain                  120 non-null float64\n",
            "x0_Sweden                 120 non-null float64\n",
            "x0_Switzerland            120 non-null float64\n",
            "x0_Tunisia                120 non-null float64\n",
            "x0_Uruguay                120 non-null float64\n",
            "x1_Australia              120 non-null float64\n",
            "x1_Belgium                120 non-null float64\n",
            "x1_Brazil                 120 non-null float64\n",
            "x1_Colombia               120 non-null float64\n",
            "x1_Costa Rica             120 non-null float64\n",
            "x1_Croatia                120 non-null float64\n",
            "x1_Denmark                120 non-null float64\n",
            "x1_Egypt                  120 non-null float64\n",
            "x1_England                120 non-null float64\n",
            "x1_France                 120 non-null float64\n",
            "x1_Germany                120 non-null float64\n",
            "x1_Iceland                120 non-null float64\n",
            "x1_Iran                   120 non-null float64\n",
            "x1_Japan                  120 non-null float64\n",
            "x1_Korea Republic         120 non-null float64\n",
            "x1_Mexico                 120 non-null float64\n",
            "x1_Morocco                120 non-null float64\n",
            "x1_Nigeria                120 non-null float64\n",
            "x1_Panama                 120 non-null float64\n",
            "x1_Peru                   120 non-null float64\n",
            "x1_Poland                 120 non-null float64\n",
            "x1_Portugal               120 non-null float64\n",
            "x1_Russia                 120 non-null float64\n",
            "x1_Saudi Arabia           120 non-null float64\n",
            "x1_Senegal                120 non-null float64\n",
            "x1_Serbia                 120 non-null float64\n",
            "x1_Spain                  120 non-null float64\n",
            "x1_Sweden                 120 non-null float64\n",
            "x1_Switzerland            120 non-null float64\n",
            "x1_Tunisia                120 non-null float64\n",
            "x1_Uruguay                120 non-null float64\n",
            "x2_Yes                    120 non-null float64\n",
            "Man of the Match          120 non-null object\n",
            "dtypes: float64(84), object(1)\n",
            "memory usage: 79.8+ KB\n"
          ],
          "name": "stdout"
        }
      ]
    },
    {
      "cell_type": "code",
      "metadata": {
        "id": "ioT4sKIqtHT7",
        "colab_type": "code",
        "colab": {}
      },
      "source": [
        ""
      ],
      "execution_count": 0,
      "outputs": []
    },
    {
      "cell_type": "markdown",
      "metadata": {
        "id": "nRY8cWb_tHUA",
        "colab_type": "text"
      },
      "source": [
        "### PCA"
      ]
    },
    {
      "cell_type": "code",
      "metadata": {
        "id": "RRJmhTwutHUC",
        "colab_type": "code",
        "colab": {}
      },
      "source": [
        "X = df_encoded.loc[:, df_encoded.columns != target]\n",
        "y = df_encoded[target]"
      ],
      "execution_count": 0,
      "outputs": []
    },
    {
      "cell_type": "code",
      "metadata": {
        "id": "4BK4xDMbtHUF",
        "colab_type": "code",
        "colab": {
          "base_uri": "https://localhost:8080/",
          "height": 69
        },
        "outputId": "6c18e3f5-f1ec-489d-f050-87a8248a056b"
      },
      "source": [
        "y.value_counts()"
      ],
      "execution_count": 32,
      "outputs": [
        {
          "output_type": "execute_result",
          "data": {
            "text/plain": [
              "No     60\n",
              "Yes    60\n",
              "Name: Man of the Match, dtype: int64"
            ]
          },
          "metadata": {
            "tags": []
          },
          "execution_count": 32
        }
      ]
    },
    {
      "cell_type": "code",
      "metadata": {
        "id": "-bFRbXmgtHUJ",
        "colab_type": "code",
        "colab": {
          "base_uri": "https://localhost:8080/",
          "height": 518
        },
        "outputId": "d6b695db-bb93-4789-8178-e911cd94f008"
      },
      "source": [
        "pca = PCA(n_components=2)\n",
        "Z_2d = pca.fit_transform(StandardScaler().fit_transform(X))\n",
        "\n",
        "fig, ax = plt.subplots(figsize=(10, 8))\n",
        "\n",
        "mask0 = y == 'No'\n",
        "mask1 = y == 'Yes'\n",
        "ax.scatter(Z_2d[mask0, 0], Z_2d[mask0, 1], label='no')\n",
        "ax.scatter(Z_2d[mask1, 0], Z_2d[mask1, 1], label='yes')\n",
        "ax.set_title(f'All columns. Explained Variance {pca.explained_variance_ratio_.sum():.2f}')\n",
        "ax.legend()"
      ],
      "execution_count": 33,
      "outputs": [
        {
          "output_type": "execute_result",
          "data": {
            "text/plain": [
              "<matplotlib.legend.Legend at 0x7fe9f51ad748>"
            ]
          },
          "metadata": {
            "tags": []
          },
          "execution_count": 33
        },
        {
          "output_type": "display_data",
          "data": {
            "image/png": "[encoded data removed]",
            "text/plain": [
              "<Figure size 720x576 with 1 Axes>"
            ]
          },
          "metadata": {
            "tags": []
          }
        }
      ]
    },
    {
      "cell_type": "code",
      "metadata": {
        "id": "_SCaT6BStHUL",
        "colab_type": "code",
        "colab": {}
      },
      "source": [
        ""
      ],
      "execution_count": 0,
      "outputs": []
    },
    {
      "cell_type": "markdown",
      "metadata": {
        "id": "TVqa7kITyIwo",
        "colab_type": "text"
      },
      "source": [
        "### Imbalance Check\n",
        "\n",
        "Check if the number of samples are balanced across classes."
      ]
    },
    {
      "cell_type": "code",
      "metadata": {
        "id": "aa1q1dS_yJMG",
        "colab_type": "code",
        "colab": {
          "base_uri": "https://localhost:8080/",
          "height": 302
        },
        "outputId": "88dc5ca5-c806-4d1b-95aa-6b5999bba623"
      },
      "source": [
        "sns.countplot(y)"
      ],
      "execution_count": 34,
      "outputs": [
        {
          "output_type": "execute_result",
          "data": {
            "text/plain": [
              "<matplotlib.axes._subplots.AxesSubplot at 0x7fe9f724b4e0>"
            ]
          },
          "metadata": {
            "tags": []
          },
          "execution_count": 34
        },
        {
          "output_type": "display_data",
          "data": {
            "image/png": "[encoded data removed]",
            "text/plain": [
              "<Figure size 432x288 with 1 Axes>"
            ]
          },
          "metadata": {
            "tags": []
          }
        }
      ]
    },
    {
      "cell_type": "markdown",
      "metadata": {
        "id": "VtE4YgEetHUO",
        "colab_type": "text"
      },
      "source": [
        "## Feature Engineering\n",
        "\n",
        "Explore:\n",
        "- Feature Selection\n",
        "- Plot PCA"
      ]
    },
    {
      "cell_type": "markdown",
      "metadata": {
        "id": "w1d-HJ1jtHUP",
        "colab_type": "text"
      },
      "source": [
        "### SelectKBest"
      ]
    },
    {
      "cell_type": "code",
      "metadata": {
        "id": "Pnm3fEVwtHUR",
        "colab_type": "code",
        "colab": {}
      },
      "source": [
        "# Use classification test to find best features\n",
        "# test checks each X with y\n",
        "kbest = SelectKBest(f_classif, k='all')\n",
        "\n",
        "X_kbest = kbest.fit(X, y)"
      ],
      "execution_count": 0,
      "outputs": []
    },
    {
      "cell_type": "markdown",
      "metadata": {
        "id": "aQC1Q1J_tHUX",
        "colab_type": "text"
      },
      "source": [
        "### Tune best k\n",
        "\n",
        "Plot the scores to find an \"Elbow\". This approach is similar to KMeans."
      ]
    },
    {
      "cell_type": "code",
      "metadata": {
        "id": "odIlS2jDtHUZ",
        "colab_type": "code",
        "colab": {
          "base_uri": "https://localhost:8080/",
          "height": 502
        },
        "outputId": "5182fe71-a318-48d1-84f0-ba263c2ef5c7"
      },
      "source": [
        "fig, ax = plt.subplots(figsize=(10, 8))\n",
        "\n",
        "# sort kbest scores in descending order\n",
        "kbest_sorted = np.array(sorted(kbest.scores_, reverse=True))\n",
        "\n",
        "# plot the sorted scores vs. k\n",
        "ax.plot(kbest_sorted, marker='o')\n",
        "\n",
        "ax.set_xlabel('k')\n",
        "ax.set_ylabel('K-best score')\n",
        "\n",
        "plt.show()"
      ],
      "execution_count": 36,
      "outputs": [
        {
          "output_type": "display_data",
          "data": {
            "image/png": "[encoded data removed]",
            "text/plain": [
              "<Figure size 720x576 with 1 Axes>"
            ]
          },
          "metadata": {
            "tags": []
          }
        }
      ]
    },
    {
      "cell_type": "code",
      "metadata": {
        "id": "mXGqkst7tHUb",
        "colab_type": "code",
        "colab": {}
      },
      "source": [
        "# Let's try k=10 (near elbow)\n",
        "k = 10\n",
        "kbest = SelectKBest(f_classif, k=k)\n",
        "\n",
        "X_kbest = kbest.fit_transform(X, y)"
      ],
      "execution_count": 0,
      "outputs": []
    },
    {
      "cell_type": "code",
      "metadata": {
        "id": "8YSBP6ZatHUd",
        "colab_type": "code",
        "colab": {
          "base_uri": "https://localhost:8080/",
          "height": 69
        },
        "outputId": "ec6600c9-487d-4fed-e218-a076b0bfda40"
      },
      "source": [
        "X.columns[kbest.get_support()]"
      ],
      "execution_count": 38,
      "outputs": [
        {
          "output_type": "execute_result",
          "data": {
            "text/plain": [
              "Index(['Goal Scored', 'Attempts', 'On-Target', 'Off-Target', 'Corners',\n",
              "       '1st Goal', 'x0_Belgium', 'x0_France', 'x1_Belgium', 'x1_France'],\n",
              "      dtype='object')"
            ]
          },
          "metadata": {
            "tags": []
          },
          "execution_count": 38
        }
      ]
    },
    {
      "cell_type": "code",
      "metadata": {
        "id": "_YDQyLAvtHUg",
        "colab_type": "code",
        "colab": {}
      },
      "source": [
        ""
      ],
      "execution_count": 0,
      "outputs": []
    },
    {
      "cell_type": "markdown",
      "metadata": {
        "id": "V8LehAbEtHUh",
        "colab_type": "text"
      },
      "source": [
        "### Plot PCA with k-best features"
      ]
    },
    {
      "cell_type": "code",
      "metadata": {
        "id": "PprkYMzttHUi",
        "colab_type": "code",
        "colab": {
          "base_uri": "https://localhost:8080/",
          "height": 501
        },
        "outputId": "0e5cee96-b206-45a3-b23f-7a8919c2e29c"
      },
      "source": [
        "pca = PCA(n_components=2)\n",
        "Z_2d = pca.fit_transform(StandardScaler().fit_transform(X_kbest))\n",
        "\n",
        "fig, ax = plt.subplots(figsize=(10, 8))\n",
        "\n",
        "mask0 = y == 'No'\n",
        "mask1 = y == 'Yes'\n",
        "ax.scatter(Z_2d[mask0, 0], Z_2d[mask0, 1], label='no')\n",
        "ax.scatter(Z_2d[mask1, 0], Z_2d[mask1, 1], label='yes')\n",
        "ax.set_title(f'After kBest, Explained Variance {pca.explained_variance_ratio_.sum():.2f}')\n",
        "ax.legend()\n",
        "plt.show()"
      ],
      "execution_count": 39,
      "outputs": [
        {
          "output_type": "display_data",
          "data": {
            "image/png": "[encoded data removed]",
            "text/plain": [
              "<Figure size 720x576 with 1 Axes>"
            ]
          },
          "metadata": {
            "tags": []
          }
        }
      ]
    },
    {
      "cell_type": "code",
      "metadata": {
        "id": "TkWvN7abtHUk",
        "colab_type": "code",
        "colab": {}
      },
      "source": [
        "# Slightly better boundary of separation\n",
        "# Why? Features that have low variance have been dropped"
      ],
      "execution_count": 0,
      "outputs": []
    },
    {
      "cell_type": "code",
      "metadata": {
        "id": "LkL9TSMXtHUn",
        "colab_type": "code",
        "colab": {}
      },
      "source": [
        ""
      ],
      "execution_count": 0,
      "outputs": []
    },
    {
      "cell_type": "markdown",
      "metadata": {
        "id": "DdEyYJbVtHUp",
        "colab_type": "text"
      },
      "source": [
        "### Pipelining Data and Feature Engineering\n",
        "\n",
        "- Train/test split not necessary because we have a separate test set (FIFA 2018 Statistics_train.csv, FIFA 2018 Statistics_test.csv)\n",
        "  - However, we need to ensure the same processing steps are run with the train and test set\n",
        "  - Let's put our pipeline together:\n",
        "    1. Clean NaN\n",
        "    2. LabelEncode\n",
        "    3. Scale\n",
        "    4. SelectKBest "
      ]
    },
    {
      "cell_type": "code",
      "metadata": {
        "id": "Nrc12eV4tHUr",
        "colab_type": "code",
        "colab": {
          "base_uri": "https://localhost:8080/",
          "height": 503
        },
        "outputId": "0b355d4f-cd96-4fe7-ecaa-a4d969bd0df4"
      },
      "source": [
        "# we are going to fit again, so create a new one\n",
        "column_transformer = make_column_transformer(\n",
        "    (StandardScaler(), columns_to_scale),\n",
        "    (OneHotEncoder(drop='first'), columns_to_encode), # not supported by earlier versions of sklearn\n",
        "    remainder='drop', verbose=True)\n",
        "\n",
        "pipeline = Pipeline([\n",
        "    ('clean', clean_nan_transformer),\n",
        "    ('column_transform', column_transformer),\n",
        "    ('kbest', SelectKBest(k=k))\n",
        "])\n",
        "\n",
        "pipeline"
      ],
      "execution_count": 41,
      "outputs": [
        {
          "output_type": "execute_result",
          "data": {
            "text/plain": [
              "Pipeline(memory=None,\n",
              "         steps=[('clean',\n",
              "                 FunctionTransformer(accept_sparse=False, check_inverse=True,\n",
              "                                     func=<function clean_nan at 0x7fe9f72deae8>,\n",
              "                                     inv_kw_args=None, inverse_func=None,\n",
              "                                     kw_args=None, pass_y='deprecated',\n",
              "                                     validate=False)),\n",
              "                ('column_transform',\n",
              "                 ColumnTransformer(n_jobs=None, remainder='drop',\n",
              "                                   sparse_threshold=0.3,\n",
              "                                   transformer_weights=None,\n",
              "                                   transformers=[(...\n",
              "       'Goals in PSO', 'Own goals', 'Own goal Time'],\n",
              "      dtype='object')),\n",
              "                                                 ('onehotencoder',\n",
              "                                                  OneHotEncoder(categorical_features=None,\n",
              "                                                                categories=None,\n",
              "                                                                drop='first',\n",
              "                                                                dtype=<class 'numpy.float64'>,\n",
              "                                                                handle_unknown='error',\n",
              "                                                                n_values=None,\n",
              "                                                                sparse=True),\n",
              "                                                  ['Team', 'Opponent', 'PSO'])],\n",
              "                                   verbose=True)),\n",
              "                ('kbest',\n",
              "                 SelectKBest(k=10,\n",
              "                             score_func=<function f_classif at 0x7fe9fb0ced08>))],\n",
              "         verbose=False)"
            ]
          },
          "metadata": {
            "tags": []
          },
          "execution_count": 41
        }
      ]
    },
    {
      "cell_type": "code",
      "metadata": {
        "id": "Aac5uPijtHUv",
        "colab_type": "code",
        "colab": {}
      },
      "source": [
        "# Verify that pipeline works\n",
        "df_train = pd.read_csv(csv_path)\n",
        "df_test = pd.read_csv(test_csv_path)"
      ],
      "execution_count": 0,
      "outputs": []
    },
    {
      "cell_type": "code",
      "metadata": {
        "id": "RwRgTsN1tHUz",
        "colab_type": "code",
        "colab": {}
      },
      "source": [
        "df_train_X = df_train.loc[:, df_train.columns != target]\n",
        "df_train_y = df_train.loc[:, target]"
      ],
      "execution_count": 0,
      "outputs": []
    },
    {
      "cell_type": "code",
      "metadata": {
        "id": "RU0ar33dtHU2",
        "colab_type": "code",
        "colab": {}
      },
      "source": [
        "df_test_X = df_test.loc[:, df_test.columns != target]\n",
        "df_test_y = df_test.loc[:, target]"
      ],
      "execution_count": 0,
      "outputs": []
    },
    {
      "cell_type": "code",
      "metadata": {
        "id": "copn5vyhtHU4",
        "colab_type": "code",
        "colab": {
          "base_uri": "https://localhost:8080/",
          "height": 86
        },
        "outputId": "24d64504-c893-4437-f8b9-14a1a7aa66a7"
      },
      "source": [
        "pipeline.fit_transform(df_train_X, df_train_y)"
      ],
      "execution_count": 45,
      "outputs": [
        {
          "output_type": "stream",
          "text": [
            "[ColumnTransformer]  (1 of 2) Processing standardscaler, total=   0.0s\n",
            "[ColumnTransformer] . (2 of 2) Processing onehotencoder, total=   0.0s\n"
          ],
          "name": "stdout"
        },
        {
          "output_type": "execute_result",
          "data": {
            "text/plain": [
              "<120x10 sparse matrix of type '<class 'numpy.float64'>'\n",
              "\twith 740 stored elements in Compressed Sparse Row format>"
            ]
          },
          "metadata": {
            "tags": []
          },
          "execution_count": 45
        }
      ]
    },
    {
      "cell_type": "code",
      "metadata": {
        "id": "BFbOtvfrtHU6",
        "colab_type": "code",
        "colab": {
          "base_uri": "https://localhost:8080/",
          "height": 52
        },
        "outputId": "e454c516-1bce-4210-de22-92224904fa21"
      },
      "source": [
        "pipeline.transform(df_test_X)"
      ],
      "execution_count": 46,
      "outputs": [
        {
          "output_type": "execute_result",
          "data": {
            "text/plain": [
              "<4x10 sparse matrix of type '<class 'numpy.float64'>'\n",
              "\twith 28 stored elements in Compressed Sparse Row format>"
            ]
          },
          "metadata": {
            "tags": []
          },
          "execution_count": 46
        }
      ]
    },
    {
      "cell_type": "code",
      "metadata": {
        "id": "FdWoY0UttHU9",
        "colab_type": "code",
        "colab": {}
      },
      "source": [
        ""
      ],
      "execution_count": 0,
      "outputs": []
    },
    {
      "cell_type": "markdown",
      "metadata": {
        "id": "fRB5jtLAtHU_",
        "colab_type": "text"
      },
      "source": [
        "## Train a Decision Tree Classifier\n",
        "\n",
        "We will complete the pipeline to add the Decision Tree Classifier"
      ]
    },
    {
      "cell_type": "code",
      "metadata": {
        "id": "H2vaTwKwtHU_",
        "colab_type": "code",
        "colab": {
          "base_uri": "https://localhost:8080/",
          "height": 434
        },
        "outputId": "0bd4318f-045f-42ec-a17e-3932363c0150"
      },
      "source": [
        "column_transformer = make_column_transformer(\n",
        "    (StandardScaler(), columns_to_scale),\n",
        "    (OneHotEncoder(drop='first'), columns_to_encode),\n",
        "    remainder='drop', verbose=True)\n",
        "\n",
        "pipeline = Pipeline([\n",
        "    ('clean', clean_nan_transformer),\n",
        "    ('column_transform', column_transformer),\n",
        "    ('kbest', SelectKBest(k=k)),\n",
        "    \n",
        "    # Add this\n",
        "    ('dtc', DecisionTreeClassifier())\n",
        "])\n",
        "\n",
        "pipeline"
      ],
      "execution_count": 47,
      "outputs": [
        {
          "output_type": "execute_result",
          "data": {
            "text/plain": [
              "Pipeline(memory=None,\n",
              "         steps=[('clean',\n",
              "                 FunctionTransformer(accept_sparse=False, check_inverse=True,\n",
              "                                     func=<function clean_nan at 0x7fe9f72deae8>,\n",
              "                                     inv_kw_args=None, inverse_func=None,\n",
              "                                     kw_args=None, pass_y='deprecated',\n",
              "                                     validate=False)),\n",
              "                ('column_transform',\n",
              "                 ColumnTransformer(n_jobs=None, remainder='drop',\n",
              "                                   sparse_threshold=0.3,\n",
              "                                   transformer_weights=None,\n",
              "                                   transformers=[(...\n",
              "                             score_func=<function f_classif at 0x7fe9fb0ced08>)),\n",
              "                ('dtc',\n",
              "                 DecisionTreeClassifier(class_weight=None, criterion='gini',\n",
              "                                        max_depth=None, max_features=None,\n",
              "                                        max_leaf_nodes=None,\n",
              "                                        min_impurity_decrease=0.0,\n",
              "                                        min_impurity_split=None,\n",
              "                                        min_samples_leaf=1, min_samples_split=2,\n",
              "                                        min_weight_fraction_leaf=0.0,\n",
              "                                        presort=False, random_state=None,\n",
              "                                        splitter='best'))],\n",
              "         verbose=False)"
            ]
          },
          "metadata": {
            "tags": []
          },
          "execution_count": 47
        }
      ]
    },
    {
      "cell_type": "code",
      "metadata": {
        "id": "-Th7QOoktHVC",
        "colab_type": "code",
        "colab": {
          "base_uri": "https://localhost:8080/",
          "height": 469
        },
        "outputId": "21b36bcc-cf01-4f6f-bbda-c41cff132d3a"
      },
      "source": [
        "# Fit completed pipeline to data\n",
        "# Note that you cannot use cross_validate together with encoding, because\n",
        "# the labels may not be present in each fold\n",
        "\n",
        "pipeline.fit(df_train_X, df_train_y)"
      ],
      "execution_count": 48,
      "outputs": [
        {
          "output_type": "stream",
          "text": [
            "[ColumnTransformer]  (1 of 2) Processing standardscaler, total=   0.0s\n",
            "[ColumnTransformer] . (2 of 2) Processing onehotencoder, total=   0.0s\n"
          ],
          "name": "stdout"
        },
        {
          "output_type": "execute_result",
          "data": {
            "text/plain": [
              "Pipeline(memory=None,\n",
              "         steps=[('clean',\n",
              "                 FunctionTransformer(accept_sparse=False, check_inverse=True,\n",
              "                                     func=<function clean_nan at 0x7fe9f72deae8>,\n",
              "                                     inv_kw_args=None, inverse_func=None,\n",
              "                                     kw_args=None, pass_y='deprecated',\n",
              "                                     validate=False)),\n",
              "                ('column_transform',\n",
              "                 ColumnTransformer(n_jobs=None, remainder='drop',\n",
              "                                   sparse_threshold=0.3,\n",
              "                                   transformer_weights=None,\n",
              "                                   transformers=[(...\n",
              "                             score_func=<function f_classif at 0x7fe9fb0ced08>)),\n",
              "                ('dtc',\n",
              "                 DecisionTreeClassifier(class_weight=None, criterion='gini',\n",
              "                                        max_depth=None, max_features=None,\n",
              "                                        max_leaf_nodes=None,\n",
              "                                        min_impurity_decrease=0.0,\n",
              "                                        min_impurity_split=None,\n",
              "                                        min_samples_leaf=1, min_samples_split=2,\n",
              "                                        min_weight_fraction_leaf=0.0,\n",
              "                                        presort=False, random_state=None,\n",
              "                                        splitter='best'))],\n",
              "         verbose=False)"
            ]
          },
          "metadata": {
            "tags": []
          },
          "execution_count": 48
        }
      ]
    },
    {
      "cell_type": "code",
      "metadata": {
        "id": "OcUF0VHYtHVE",
        "colab_type": "code",
        "colab": {
          "base_uri": "https://localhost:8080/",
          "height": 34
        },
        "outputId": "f8db59c8-f03e-4383-beaf-f2b57b1a5a99"
      },
      "source": [
        "# Get predictions from completed pipeline\n",
        "\n",
        "pred = pipeline.predict(df_test_X)\n",
        "pred"
      ],
      "execution_count": 49,
      "outputs": [
        {
          "output_type": "execute_result",
          "data": {
            "text/plain": [
              "array(['No', 'No', 'Yes', 'No'], dtype=object)"
            ]
          },
          "metadata": {
            "tags": []
          },
          "execution_count": 49
        }
      ]
    },
    {
      "cell_type": "code",
      "metadata": {
        "id": "1GlCJN3ptHVI",
        "colab_type": "code",
        "colab": {}
      },
      "source": [
        ""
      ],
      "execution_count": 0,
      "outputs": []
    },
    {
      "cell_type": "code",
      "metadata": {
        "id": "VAKgrIaG0Fuj",
        "colab_type": "code",
        "colab": {
          "base_uri": "https://localhost:8080/",
          "height": 86
        },
        "outputId": "1d2602c4-a4aa-47a6-fc9d-f6f1be0b71c4"
      },
      "source": [
        "# Alternatively, if we want to perform cross validation\n",
        "# Train decision tree classifier separately from pipeline...\n",
        "pipeline_pre_training = Pipeline([\n",
        "    ('clean', clean_nan_transformer),\n",
        "    ('column_transform', column_transformer),\n",
        "    ('kbest', SelectKBest(k=k)),\n",
        "])\n",
        "\n",
        "X_train = pipeline_pre_training.fit_transform(df_train_X, df_train_y)\n",
        "X_test = pipeline_pre_training.transform(df_train_X)\n",
        "X_train"
      ],
      "execution_count": 58,
      "outputs": [
        {
          "output_type": "stream",
          "text": [
            "[ColumnTransformer]  (1 of 2) Processing standardscaler, total=   0.0s\n",
            "[ColumnTransformer] . (2 of 2) Processing onehotencoder, total=   0.0s\n"
          ],
          "name": "stdout"
        },
        {
          "output_type": "execute_result",
          "data": {
            "text/plain": [
              "<120x10 sparse matrix of type '<class 'numpy.float64'>'\n",
              "\twith 740 stored elements in Compressed Sparse Row format>"
            ]
          },
          "metadata": {
            "tags": []
          },
          "execution_count": 58
        }
      ]
    },
    {
      "cell_type": "code",
      "metadata": {
        "id": "Rn8J-ftG0GAw",
        "colab_type": "code",
        "colab": {
          "base_uri": "https://localhost:8080/",
          "height": 399
        },
        "outputId": "c0c96896-db61-408b-cedb-cd284d957fcf"
      },
      "source": [
        "# Then train decision tree using cross_validate as per usual\n",
        "\n",
        "cv_results = cross_validate(DecisionTreeClassifier(), X_train, df_train_y,\n",
        "                            cv = 3,\n",
        "                            return_train_score=True, return_estimator=True)\n",
        "cv_results"
      ],
      "execution_count": 59,
      "outputs": [
        {
          "output_type": "execute_result",
          "data": {
            "text/plain": [
              "{'estimator': (DecisionTreeClassifier(class_weight=None, criterion='gini', max_depth=None,\n",
              "                         max_features=None, max_leaf_nodes=None,\n",
              "                         min_impurity_decrease=0.0, min_impurity_split=None,\n",
              "                         min_samples_leaf=1, min_samples_split=2,\n",
              "                         min_weight_fraction_leaf=0.0, presort=False,\n",
              "                         random_state=None, splitter='best'),\n",
              "  DecisionTreeClassifier(class_weight=None, criterion='gini', max_depth=None,\n",
              "                         max_features=None, max_leaf_nodes=None,\n",
              "                         min_impurity_decrease=0.0, min_impurity_split=None,\n",
              "                         min_samples_leaf=1, min_samples_split=2,\n",
              "                         min_weight_fraction_leaf=0.0, presort=False,\n",
              "                         random_state=None, splitter='best'),\n",
              "  DecisionTreeClassifier(class_weight=None, criterion='gini', max_depth=None,\n",
              "                         max_features=None, max_leaf_nodes=None,\n",
              "                         min_impurity_decrease=0.0, min_impurity_split=None,\n",
              "                         min_samples_leaf=1, min_samples_split=2,\n",
              "                         min_weight_fraction_leaf=0.0, presort=False,\n",
              "                         random_state=None, splitter='best')),\n",
              " 'fit_time': array([0.00445628, 0.00221753, 0.00152349]),\n",
              " 'score_time': array([0.0065434 , 0.00057864, 0.00055456]),\n",
              " 'test_score': array([0.7  , 0.7  , 0.625]),\n",
              " 'train_score': array([1., 1., 1.])}"
            ]
          },
          "metadata": {
            "tags": []
          },
          "execution_count": 59
        }
      ]
    },
    {
      "cell_type": "code",
      "metadata": {
        "id": "ZIEAYDK90n__",
        "colab_type": "code",
        "colab": {}
      },
      "source": [
        "# notice something about the train score?\n",
        "# Decision trees overfit!"
      ],
      "execution_count": 0,
      "outputs": []
    },
    {
      "cell_type": "code",
      "metadata": {
        "id": "OvOi84JL07V1",
        "colab_type": "code",
        "colab": {}
      },
      "source": [
        ""
      ],
      "execution_count": 0,
      "outputs": []
    },
    {
      "cell_type": "markdown",
      "metadata": {
        "id": "a_OlFXZdtHVL",
        "colab_type": "text"
      },
      "source": [
        "- Evaluation Metrics"
      ]
    },
    {
      "cell_type": "code",
      "metadata": {
        "id": "xUSY2ESXtHVM",
        "colab_type": "code",
        "colab": {
          "base_uri": "https://localhost:8080/",
          "height": 173
        },
        "outputId": "322fe964-d4f2-4c8a-b10f-3a17e4cebb0e"
      },
      "source": [
        "print(classification_report(df_test_y, pred))"
      ],
      "execution_count": 50,
      "outputs": [
        {
          "output_type": "stream",
          "text": [
            "              precision    recall  f1-score   support\n",
            "\n",
            "          No       0.67      1.00      0.80         2\n",
            "         Yes       1.00      0.50      0.67         2\n",
            "\n",
            "    accuracy                           0.75         4\n",
            "   macro avg       0.83      0.75      0.73         4\n",
            "weighted avg       0.83      0.75      0.73         4\n",
            "\n"
          ],
          "name": "stdout"
        }
      ]
    },
    {
      "cell_type": "code",
      "metadata": {
        "id": "Op_4iny9tHVP",
        "colab_type": "code",
        "colab": {
          "base_uri": "https://localhost:8080/",
          "height": 272
        },
        "outputId": "b91c9fdd-4efd-4eed-d39f-6b8bea2ae1f4"
      },
      "source": [
        "sns.heatmap(confusion_matrix(df_test_y, pred), annot=True)\n",
        "ax.set_xlabel('Prediction')\n",
        "ax.set_ylabel('Actual')\n",
        "plt.show()"
      ],
      "execution_count": 51,
      "outputs": [
        {
          "output_type": "display_data",
          "data": {
            "image/png": "[encoded data removed]",
            "text/plain": [
              "<Figure size 432x288 with 2 Axes>"
            ]
          },
          "metadata": {
            "tags": []
          }
        }
      ]
    },
    {
      "cell_type": "code",
      "metadata": {
        "id": "q3mx2NPStHVS",
        "colab_type": "code",
        "colab": {}
      },
      "source": [
        ""
      ],
      "execution_count": 0,
      "outputs": []
    },
    {
      "cell_type": "markdown",
      "metadata": {
        "id": "l3oLXEyYtHVW",
        "colab_type": "text"
      },
      "source": [
        "- Feature Importances\n",
        "  - Features that are used most often in the \"best\" split"
      ]
    },
    {
      "cell_type": "code",
      "metadata": {
        "id": "7i6aQSc8tHVX",
        "colab_type": "code",
        "colab": {
          "base_uri": "https://localhost:8080/",
          "height": 121
        },
        "outputId": "bc23a003-8ea1-493b-bb57-6aaa97346d5a"
      },
      "source": [
        "# How to get the classifier from a pipeline\n",
        "fitted_dtc = pipeline.named_steps['dtc']\n",
        "fitted_dtc"
      ],
      "execution_count": 52,
      "outputs": [
        {
          "output_type": "execute_result",
          "data": {
            "text/plain": [
              "DecisionTreeClassifier(class_weight=None, criterion='gini', max_depth=None,\n",
              "                       max_features=None, max_leaf_nodes=None,\n",
              "                       min_impurity_decrease=0.0, min_impurity_split=None,\n",
              "                       min_samples_leaf=1, min_samples_split=2,\n",
              "                       min_weight_fraction_leaf=0.0, presort=False,\n",
              "                       random_state=None, splitter='best')"
            ]
          },
          "metadata": {
            "tags": []
          },
          "execution_count": 52
        }
      ]
    },
    {
      "cell_type": "code",
      "metadata": {
        "id": "tvrNqR7ztHVa",
        "colab_type": "code",
        "colab": {
          "base_uri": "https://localhost:8080/",
          "height": 52
        },
        "outputId": "602e1bef-28ae-4857-9055-7dea7e0afd0c"
      },
      "source": [
        "# Features that result in the highest gain in purity\n",
        "feat_impt = fitted_dtc.feature_importances_\n",
        "feat_impt"
      ],
      "execution_count": 53,
      "outputs": [
        {
          "output_type": "execute_result",
          "data": {
            "text/plain": [
              "array([0.04206349, 0.11328484, 0.0700983 , 0.10621972, 0.18884725,\n",
              "       0.4096023 , 0.01616162, 0.0303346 , 0.02338788, 0.        ])"
            ]
          },
          "metadata": {
            "tags": []
          },
          "execution_count": 53
        }
      ]
    },
    {
      "cell_type": "code",
      "metadata": {
        "id": "o640SjL4wl1R",
        "colab_type": "code",
        "colab": {
          "base_uri": "https://localhost:8080/",
          "height": 69
        },
        "outputId": "289a0dea-4f8f-421b-fd85-ac489749027b"
      },
      "source": [
        "kbest_cols = X.columns[pipeline.named_steps['kbest'].get_support()]\n",
        "kbest_cols"
      ],
      "execution_count": 54,
      "outputs": [
        {
          "output_type": "execute_result",
          "data": {
            "text/plain": [
              "Index(['Goal Scored', 'Attempts', 'On-Target', 'Off-Target', 'Corners',\n",
              "       '1st Goal', 'x0_Belgium', 'x0_France', 'x1_Belgium', 'x1_France'],\n",
              "      dtype='object')"
            ]
          },
          "metadata": {
            "tags": []
          },
          "execution_count": 54
        }
      ]
    },
    {
      "cell_type": "code",
      "metadata": {
        "id": "IMGwHf3stHVd",
        "colab_type": "code",
        "colab": {
          "base_uri": "https://localhost:8080/",
          "height": 363
        },
        "outputId": "343555fc-1b21-4ac3-b549-a572eab81cb1"
      },
      "source": [
        "df_impt = pd.DataFrame(feat_impt, kbest_cols, columns=['Feat Impt'])\n",
        "df_impt.sort_values(by='Feat Impt', ascending=False)"
      ],
      "execution_count": 55,
      "outputs": [
        {
          "output_type": "execute_result",
          "data": {
            "text/html": [
              "<div>\n",
              "<style scoped>\n",
              "    .dataframe tbody tr th:only-of-type {\n",
              "        vertical-align: middle;\n",
              "    }\n",
              "\n",
              "    .dataframe tbody tr th {\n",
              "        vertical-align: top;\n",
              "    }\n",
              "\n",
              "    .dataframe thead th {\n",
              "        text-align: right;\n",
              "    }\n",
              "</style>\n",
              "<table border=\"1\" class=\"dataframe\">\n",
              "  <thead>\n",
              "    <tr style=\"text-align: right;\">\n",
              "      <th></th>\n",
              "      <th>Feat Impt</th>\n",
              "    </tr>\n",
              "  </thead>\n",
              "  <tbody>\n",
              "    <tr>\n",
              "      <th>1st Goal</th>\n",
              "      <td>0.409602</td>\n",
              "    </tr>\n",
              "    <tr>\n",
              "      <th>Corners</th>\n",
              "      <td>0.188847</td>\n",
              "    </tr>\n",
              "    <tr>\n",
              "      <th>Attempts</th>\n",
              "      <td>0.113285</td>\n",
              "    </tr>\n",
              "    <tr>\n",
              "      <th>Off-Target</th>\n",
              "      <td>0.106220</td>\n",
              "    </tr>\n",
              "    <tr>\n",
              "      <th>On-Target</th>\n",
              "      <td>0.070098</td>\n",
              "    </tr>\n",
              "    <tr>\n",
              "      <th>Goal Scored</th>\n",
              "      <td>0.042063</td>\n",
              "    </tr>\n",
              "    <tr>\n",
              "      <th>x0_France</th>\n",
              "      <td>0.030335</td>\n",
              "    </tr>\n",
              "    <tr>\n",
              "      <th>x1_Belgium</th>\n",
              "      <td>0.023388</td>\n",
              "    </tr>\n",
              "    <tr>\n",
              "      <th>x0_Belgium</th>\n",
              "      <td>0.016162</td>\n",
              "    </tr>\n",
              "    <tr>\n",
              "      <th>x1_France</th>\n",
              "      <td>0.000000</td>\n",
              "    </tr>\n",
              "  </tbody>\n",
              "</table>\n",
              "</div>"
            ],
            "text/plain": [
              "             Feat Impt\n",
              "1st Goal      0.409602\n",
              "Corners       0.188847\n",
              "Attempts      0.113285\n",
              "Off-Target    0.106220\n",
              "On-Target     0.070098\n",
              "Goal Scored   0.042063\n",
              "x0_France     0.030335\n",
              "x1_Belgium    0.023388\n",
              "x0_Belgium    0.016162\n",
              "x1_France     0.000000"
            ]
          },
          "metadata": {
            "tags": []
          },
          "execution_count": 55
        }
      ]
    },
    {
      "cell_type": "code",
      "metadata": {
        "id": "IE-PX6U3tHVi",
        "colab_type": "code",
        "colab": {}
      },
      "source": [
        ""
      ],
      "execution_count": 0,
      "outputs": []
    },
    {
      "cell_type": "markdown",
      "metadata": {
        "id": "W0nVv8XDtHVu",
        "colab_type": "text"
      },
      "source": [
        "### Visualise the Decision Tree"
      ]
    },
    {
      "cell_type": "code",
      "metadata": {
        "id": "zVYGE0a3tHVv",
        "colab_type": "code",
        "colab": {
          "base_uri": "https://localhost:8080/",
          "height": 34
        },
        "outputId": "2a912f31-69b5-4bde-dbdd-c2bdd51463b3"
      },
      "source": [
        "# Requires graphviz to be installed with class setup instructions\n",
        "\n",
        "# if you get an error about dot, check that you don't have\n",
        "# the old .pdf open somewhere\n",
        "\n",
        "from sklearn.tree import export_graphviz\n",
        "import graphviz\n",
        "\n",
        "filename = 'dtc_fifa.dot'\n",
        "export_graphviz(fitted_dtc,\n",
        "                out_file=filename,\n",
        "                feature_names=kbest_cols,\n",
        "                filled=True,\n",
        "                rounded=True)\n",
        "\n",
        "source = graphviz.Source.from_file(filename)\n",
        "source.render(view=True)"
      ],
      "execution_count": 56,
      "outputs": [
        {
          "output_type": "execute_result",
          "data": {
            "text/plain": [
              "'dtc_fifa.dot.pdf'"
            ]
          },
          "metadata": {
            "tags": []
          },
          "execution_count": 56
        }
      ]
    },
    {
      "cell_type": "code",
      "metadata": {
        "id": "bxGSRC8LtHV0",
        "colab_type": "code",
        "colab": {}
      },
      "source": [
        ""
      ],
      "execution_count": 0,
      "outputs": []
    },
    {
      "cell_type": "code",
      "metadata": {
        "id": "c7gVD5qptHV1",
        "colab_type": "code",
        "colab": {}
      },
      "source": [
        "# Try visualising the cross_validated Decision Tree\n",
        "# Do we all get the same trees if we shuffle the dataset before training?"
      ],
      "execution_count": 0,
      "outputs": []
    }
  ]
}