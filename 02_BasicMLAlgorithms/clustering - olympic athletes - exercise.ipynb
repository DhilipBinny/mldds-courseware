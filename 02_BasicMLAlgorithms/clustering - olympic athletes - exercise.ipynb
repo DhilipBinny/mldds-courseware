{
 "cells": [
  {
   "cell_type": "markdown",
   "metadata": {},
   "source": [
    "## Clustering Exercise: Olympic Atheletes\n",
    "\n",
    "In this exercise, the task is to explore the olympic athelete dataset to find interesting clusters.\n",
    "\n",
    "Features to start with:\n",
    " - Age\n",
    " - Height\n",
    " - Weight\n",
    " - Team\n",
    " - Sex\n",
    " - Sport\n",
    "\n",
    "Task: do clusters correlate to medals?\n",
    "\n",
    "You can use any of the clustering algorithms to explore the dataset.\n",
    " - KMeans\n",
    " - Gaussian Mixture Models\n",
    " - DBSCAN"
   ]
  },
  {
   "cell_type": "markdown",
   "metadata": {},
   "source": [
    "## Dataset\n",
    "\n",
    "https://www.kaggle.com/heesoo37/120-years-of-olympic-history-athletes-and-results\n",
    "\n",
    "Columns:\n",
    "\n",
    "```\n",
    "ID\n",
    "Name\n",
    "Sex\n",
    "Age\n",
    "Height\n",
    "Weight\n",
    "Team\n",
    "NOC\n",
    "Games\n",
    "Year\n",
    "Season\n",
    "City\n",
    "Sport\n",
    "Event\n",
    "Medal\n",
    "```\n",
    "\n",
    "Note that there can be multiple entries per athelete, since an athelete can participate in multiple events, or return multiple years."
   ]
  },
  {
   "cell_type": "code",
   "execution_count": null,
   "metadata": {},
   "outputs": [],
   "source": []
  },
  {
   "cell_type": "markdown",
   "metadata": {},
   "source": [
    "## Explore Dataset (Estimated time: 30 minutes)\n",
    "\n",
    "- Remove NaN\n",
    "- Label Encode\n",
    "- Scale"
   ]
  },
  {
   "cell_type": "code",
   "execution_count": null,
   "metadata": {},
   "outputs": [],
   "source": []
  },
  {
   "cell_type": "code",
   "execution_count": null,
   "metadata": {},
   "outputs": [],
   "source": []
  },
  {
   "cell_type": "code",
   "execution_count": null,
   "metadata": {},
   "outputs": [],
   "source": []
  },
  {
   "cell_type": "code",
   "execution_count": null,
   "metadata": {},
   "outputs": [],
   "source": []
  },
  {
   "cell_type": "markdown",
   "metadata": {},
   "source": [
    "## Cluster (Estimated time: 60 minutes)\n",
    "\n",
    "You can train different clusters, if you decide to split the dataset further."
   ]
  },
  {
   "cell_type": "code",
   "execution_count": null,
   "metadata": {},
   "outputs": [],
   "source": []
  },
  {
   "cell_type": "code",
   "execution_count": null,
   "metadata": {},
   "outputs": [],
   "source": []
  },
  {
   "cell_type": "code",
   "execution_count": null,
   "metadata": {},
   "outputs": [],
   "source": []
  }
 ],
 "metadata": {
  "kernelspec": {
   "display_name": "Python 3",
   "language": "python",
   "name": "python3"
  },
  "language_info": {
   "codemirror_mode": {
    "name": "ipython",
    "version": 3
   },
   "file_extension": ".py",
   "mimetype": "text/x-python",
   "name": "python",
   "nbconvert_exporter": "python",
   "pygments_lexer": "ipython3",
   "version": "3.6.5"
  }
 },
 "nbformat": 4,
 "nbformat_minor": 2
}
