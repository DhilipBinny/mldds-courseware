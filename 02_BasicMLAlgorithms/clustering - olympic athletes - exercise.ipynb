{
 "cells": [
  {
   "cell_type": "markdown",
   "metadata": {},
   "source": [
    "## Clustering Exercise: Olympic Atheletes\n",
    "\n",
    "In this exercise, the task is to explore the olympic athelete dataset.\n",
    "\n",
    "Features to start with:\n",
    " - Age\n",
    " - Height\n",
    " - Weight\n",
    " - Team\n",
    " - Sex\n",
    "\n",
    "Task:\n",
    "- Split dataset by Sport\n",
    "- For a given sport, do clusters correlate to type of medals won?  You can choose your favourite Sports to answer this question.\n",
    "\n",
    "You can use any of the clustering algorithms to explore the dataset.\n",
    " - KMeans\n",
    " - Gaussian Mixture Models\n",
    " - DBSCAN\n",
    " \n",
    "You can decide to create different clusters for each type of Sport"
   ]
  },
  {
   "cell_type": "markdown",
   "metadata": {},
   "source": [
    "## Dataset\n",
    "\n",
    "https://www.kaggle.com/heesoo37/120-years-of-olympic-history-athletes-and-results\n",
    "\n",
    "Columns:\n",
    "\n",
    "```\n",
    "ID - Athelete ID\n",
    "Name\n",
    "Sex\n",
    "Age\n",
    "Height\n",
    "Weight\n",
    "Team\n",
    "NOC - Code Name of Country (represented by the athelete)\n",
    "Games - Which Olympic Games (year and city)\n",
    "Year\n",
    "Season - Winter or Summer Olympics\n",
    "City - City that held the games\n",
    "Sport - Sport\n",
    "Event - Sport Event (e.g. Basketball finals)\n",
    "Medal - Gold, Silver, Bronze, or NaN (for No Medal)\n",
    "```\n",
    "\n",
    "Note that there can be multiple entries per athelete, since an athelete can participate in multiple events, or return multiple years."
   ]
  },
  {
   "cell_type": "code",
   "execution_count": null,
   "metadata": {},
   "outputs": [],
   "source": []
  },
  {
   "cell_type": "markdown",
   "metadata": {},
   "source": [
    "## Explore Dataset (Estimated time: 45 minutes)\n",
    "\n",
    "Features to start with (you can add more if you wish):\n",
    " - Age\n",
    " - Height\n",
    " - Weight\n",
    " - Team\n",
    " - Sex\n",
    "\n",
    "Tasks:\n",
    " - Convert NaN medals to 'None'\n",
    " - Interpolate Height / Weight?\n",
    " - Label Encode?\n",
    " - Scale?"
   ]
  },
  {
   "cell_type": "code",
   "execution_count": null,
   "metadata": {},
   "outputs": [],
   "source": []
  },
  {
   "cell_type": "code",
   "execution_count": null,
   "metadata": {},
   "outputs": [],
   "source": []
  },
  {
   "cell_type": "code",
   "execution_count": null,
   "metadata": {},
   "outputs": [],
   "source": []
  },
  {
   "cell_type": "markdown",
   "metadata": {},
   "source": [
    "## Cluster (Estimated time: 60 minutes)\n",
    "\n",
    "Task:\n",
    "- Split dataset by Sport\n",
    "- For a given sport, do clusters correlate to type of medals won?  You can choose your favourite Sports to answer this question."
   ]
  },
  {
   "cell_type": "code",
   "execution_count": null,
   "metadata": {},
   "outputs": [],
   "source": []
  },
  {
   "cell_type": "code",
   "execution_count": null,
   "metadata": {},
   "outputs": [],
   "source": []
  },
  {
   "cell_type": "code",
   "execution_count": null,
   "metadata": {},
   "outputs": [],
   "source": []
  }
 ],
 "metadata": {
  "kernelspec": {
   "display_name": "Python 3",
   "language": "python",
   "name": "python3"
  },
  "language_info": {
   "codemirror_mode": {
    "name": "ipython",
    "version": 3
   },
   "file_extension": ".py",
   "mimetype": "text/x-python",
   "name": "python",
   "nbconvert_exporter": "python",
   "pygments_lexer": "ipython3",
   "version": "3.6.5"
  }
 },
 "nbformat": 4,
 "nbformat_minor": 2
}
