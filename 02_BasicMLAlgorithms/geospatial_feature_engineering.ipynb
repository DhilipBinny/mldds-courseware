{
  "nbformat": 4,
  "nbformat_minor": 0,
  "metadata": {
    "colab": {
      "name": "geospatial feature engineering",
      "provenance": [],
      "collapsed_sections": [],
      "include_colab_link": true
    },
    "kernelspec": {
      "name": "python3",
      "display_name": "Python 3"
    }
  },
  "cells": [
    {
      "cell_type": "markdown",
      "metadata": {
        "id": "view-in-github",
        "colab_type": "text"
      },
      "source": [
        "<a href=\"https://colab.research.google.com/github/lisaong/mldds-courseware/blob/master/02_BasicMLAlgorithms/geospatial_feature_engineering.ipynb\" target=\"_parent\"><img src=\"https://colab.research.google.com/assets/colab-badge.svg\" alt=\"Open In Colab\"/></a>"
      ]
    },
    {
      "cell_type": "markdown",
      "metadata": {
        "id": "_9Bf66FjwhIp",
        "colab_type": "text"
      },
      "source": [
        "# Tutorial\n",
        "https://www.kaggle.com/camnugent/geospatial-feature-engineering-and-visualization\n",
        "\n",
        "## Housing prices dataset:\n",
        "https://www.kaggle.com/camnugent/california-housing-prices"
      ]
    },
    {
      "cell_type": "markdown",
      "metadata": {
        "id": "3GmBIhaj19cO",
        "colab_type": "text"
      },
      "source": [
        ""
      ]
    },
    {
      "cell_type": "code",
      "metadata": {
        "id": "IzwaiIdnxPhj",
        "colab_type": "code",
        "outputId": "da29de78-398c-4d79-e9c1-46bcf6f5ce85",
        "colab": {
          "base_uri": "https://localhost:8080/",
          "height": 123
        }
      },
      "source": [
        "from google.colab import drive\n",
        "drive.mount('/content/drive')"
      ],
      "execution_count": 0,
      "outputs": [
        {
          "output_type": "stream",
          "text": [
            "Go to this URL in a browser: https://accounts.google.com/o/oauth2/auth?client_id=947318989803-6bn6qk8qdgf4n4g3pfee6491hc0brc4i.apps.googleusercontent.com&redirect_uri=urn%3Aietf%3Awg%3Aoauth%3A2.0%3Aoob&scope=email%20https%3A%2F%2Fwww.googleapis.com%2Fauth%2Fdocs.test%20https%3A%2F%2Fwww.googleapis.com%2Fauth%2Fdrive%20https%3A%2F%2Fwww.googleapis.com%2Fauth%2Fdrive.photos.readonly%20https%3A%2F%2Fwww.googleapis.com%2Fauth%2Fpeopleapi.readonly&response_type=code\n",
            "\n",
            "Enter your authorization code:\n",
            "··········\n",
            "Mounted at /content/drive\n"
          ],
          "name": "stdout"
        }
      ]
    },
    {
      "cell_type": "code",
      "metadata": {
        "id": "X5b_emVD0gXn",
        "colab_type": "code",
        "colab": {}
      },
      "source": [
        "import pandas as pd\n",
        "import numpy as np\n",
        "import matplotlib.pyplot as plt"
      ],
      "execution_count": 0,
      "outputs": []
    },
    {
      "cell_type": "code",
      "metadata": {
        "id": "9elTYzOA06m7",
        "colab_type": "code",
        "colab": {}
      },
      "source": [
        "data_path = '/content/drive/My Drive/data/california-housing-feature-engineering/'\n",
        "\n",
        "housing = pd.read_csv(data_path + 'housing.csv')\n",
        "city_lat_long = pd.read_csv(data_path + 'cal_cities_lat_long.csv')\n",
        "city_pop_data = pd.read_csv(data_path + 'cal_populations_city.csv')\n",
        "county_pop_data = pd.read_csv(data_path + 'cal_populations_county.csv')"
      ],
      "execution_count": 0,
      "outputs": []
    },
    {
      "cell_type": "code",
      "metadata": {
        "id": "RqHE8JnT1YVm",
        "colab_type": "code",
        "outputId": "54433d0f-62b8-41ba-dd7d-b1c007d8c7c1",
        "colab": {
          "base_uri": "https://localhost:8080/",
          "height": 223
        }
      },
      "source": [
        "housing.head()"
      ],
      "execution_count": 0,
      "outputs": [
        {
          "output_type": "execute_result",
          "data": {
            "text/html": [
              "<div>\n",
              "<style scoped>\n",
              "    .dataframe tbody tr th:only-of-type {\n",
              "        vertical-align: middle;\n",
              "    }\n",
              "\n",
              "    .dataframe tbody tr th {\n",
              "        vertical-align: top;\n",
              "    }\n",
              "\n",
              "    .dataframe thead th {\n",
              "        text-align: right;\n",
              "    }\n",
              "</style>\n",
              "<table border=\"1\" class=\"dataframe\">\n",
              "  <thead>\n",
              "    <tr style=\"text-align: right;\">\n",
              "      <th></th>\n",
              "      <th>longitude</th>\n",
              "      <th>latitude</th>\n",
              "      <th>housing_median_age</th>\n",
              "      <th>total_rooms</th>\n",
              "      <th>total_bedrooms</th>\n",
              "      <th>population</th>\n",
              "      <th>households</th>\n",
              "      <th>median_income</th>\n",
              "      <th>median_house_value</th>\n",
              "      <th>ocean_proximity</th>\n",
              "    </tr>\n",
              "  </thead>\n",
              "  <tbody>\n",
              "    <tr>\n",
              "      <th>0</th>\n",
              "      <td>-122.23</td>\n",
              "      <td>37.88</td>\n",
              "      <td>41.0</td>\n",
              "      <td>880.0</td>\n",
              "      <td>129.0</td>\n",
              "      <td>322.0</td>\n",
              "      <td>126.0</td>\n",
              "      <td>8.3252</td>\n",
              "      <td>452600.0</td>\n",
              "      <td>NEAR BAY</td>\n",
              "    </tr>\n",
              "    <tr>\n",
              "      <th>1</th>\n",
              "      <td>-122.22</td>\n",
              "      <td>37.86</td>\n",
              "      <td>21.0</td>\n",
              "      <td>7099.0</td>\n",
              "      <td>1106.0</td>\n",
              "      <td>2401.0</td>\n",
              "      <td>1138.0</td>\n",
              "      <td>8.3014</td>\n",
              "      <td>358500.0</td>\n",
              "      <td>NEAR BAY</td>\n",
              "    </tr>\n",
              "    <tr>\n",
              "      <th>2</th>\n",
              "      <td>-122.24</td>\n",
              "      <td>37.85</td>\n",
              "      <td>52.0</td>\n",
              "      <td>1467.0</td>\n",
              "      <td>190.0</td>\n",
              "      <td>496.0</td>\n",
              "      <td>177.0</td>\n",
              "      <td>7.2574</td>\n",
              "      <td>352100.0</td>\n",
              "      <td>NEAR BAY</td>\n",
              "    </tr>\n",
              "    <tr>\n",
              "      <th>3</th>\n",
              "      <td>-122.25</td>\n",
              "      <td>37.85</td>\n",
              "      <td>52.0</td>\n",
              "      <td>1274.0</td>\n",
              "      <td>235.0</td>\n",
              "      <td>558.0</td>\n",
              "      <td>219.0</td>\n",
              "      <td>5.6431</td>\n",
              "      <td>341300.0</td>\n",
              "      <td>NEAR BAY</td>\n",
              "    </tr>\n",
              "    <tr>\n",
              "      <th>4</th>\n",
              "      <td>-122.25</td>\n",
              "      <td>37.85</td>\n",
              "      <td>52.0</td>\n",
              "      <td>1627.0</td>\n",
              "      <td>280.0</td>\n",
              "      <td>565.0</td>\n",
              "      <td>259.0</td>\n",
              "      <td>3.8462</td>\n",
              "      <td>342200.0</td>\n",
              "      <td>NEAR BAY</td>\n",
              "    </tr>\n",
              "  </tbody>\n",
              "</table>\n",
              "</div>"
            ],
            "text/plain": [
              "   longitude  latitude  ...  median_house_value  ocean_proximity\n",
              "0    -122.23     37.88  ...            452600.0         NEAR BAY\n",
              "1    -122.22     37.86  ...            358500.0         NEAR BAY\n",
              "2    -122.24     37.85  ...            352100.0         NEAR BAY\n",
              "3    -122.25     37.85  ...            341300.0         NEAR BAY\n",
              "4    -122.25     37.85  ...            342200.0         NEAR BAY\n",
              "\n",
              "[5 rows x 10 columns]"
            ]
          },
          "metadata": {
            "tags": []
          },
          "execution_count": 4
        }
      ]
    },
    {
      "cell_type": "code",
      "metadata": {
        "id": "-GpzWPWx2VB7",
        "colab_type": "code",
        "outputId": "e1a3dbbb-fcde-4351-d911-c234699d859a",
        "colab": {
          "base_uri": "https://localhost:8080/",
          "height": 203
        }
      },
      "source": [
        "city_lat_long.head()"
      ],
      "execution_count": 0,
      "outputs": [
        {
          "output_type": "execute_result",
          "data": {
            "text/html": [
              "<div>\n",
              "<style scoped>\n",
              "    .dataframe tbody tr th:only-of-type {\n",
              "        vertical-align: middle;\n",
              "    }\n",
              "\n",
              "    .dataframe tbody tr th {\n",
              "        vertical-align: top;\n",
              "    }\n",
              "\n",
              "    .dataframe thead th {\n",
              "        text-align: right;\n",
              "    }\n",
              "</style>\n",
              "<table border=\"1\" class=\"dataframe\">\n",
              "  <thead>\n",
              "    <tr style=\"text-align: right;\">\n",
              "      <th></th>\n",
              "      <th>Name</th>\n",
              "      <th>Latitude</th>\n",
              "      <th>Longitude</th>\n",
              "    </tr>\n",
              "  </thead>\n",
              "  <tbody>\n",
              "    <tr>\n",
              "      <th>0</th>\n",
              "      <td>Adelanto</td>\n",
              "      <td>34.582769</td>\n",
              "      <td>-117.409214</td>\n",
              "    </tr>\n",
              "    <tr>\n",
              "      <th>1</th>\n",
              "      <td>Agoura Hills</td>\n",
              "      <td>34.153339</td>\n",
              "      <td>-118.761675</td>\n",
              "    </tr>\n",
              "    <tr>\n",
              "      <th>2</th>\n",
              "      <td>Alameda</td>\n",
              "      <td>37.765206</td>\n",
              "      <td>-122.241636</td>\n",
              "    </tr>\n",
              "    <tr>\n",
              "      <th>3</th>\n",
              "      <td>Albany</td>\n",
              "      <td>37.886869</td>\n",
              "      <td>-122.297747</td>\n",
              "    </tr>\n",
              "    <tr>\n",
              "      <th>4</th>\n",
              "      <td>Alhambra</td>\n",
              "      <td>34.095286</td>\n",
              "      <td>-118.127014</td>\n",
              "    </tr>\n",
              "  </tbody>\n",
              "</table>\n",
              "</div>"
            ],
            "text/plain": [
              "           Name   Latitude   Longitude\n",
              "0      Adelanto  34.582769 -117.409214\n",
              "1  Agoura Hills  34.153339 -118.761675\n",
              "2       Alameda  37.765206 -122.241636\n",
              "3        Albany  37.886869 -122.297747\n",
              "4      Alhambra  34.095286 -118.127014"
            ]
          },
          "metadata": {
            "tags": []
          },
          "execution_count": 5
        }
      ]
    },
    {
      "cell_type": "code",
      "metadata": {
        "id": "vg7lU54e4Xga",
        "colab_type": "code",
        "outputId": "4014a7e7-4343-499f-8a21-1cf579a248e7",
        "colab": {
          "base_uri": "https://localhost:8080/",
          "height": 154
        }
      },
      "source": [
        "city_lat_long.info()"
      ],
      "execution_count": 0,
      "outputs": [
        {
          "output_type": "stream",
          "text": [
            "<class 'pandas.core.frame.DataFrame'>\n",
            "RangeIndex: 459 entries, 0 to 458\n",
            "Data columns (total 3 columns):\n",
            "Name         459 non-null object\n",
            "Latitude     459 non-null float64\n",
            "Longitude    459 non-null float64\n",
            "dtypes: float64(2), object(1)\n",
            "memory usage: 10.8+ KB\n"
          ],
          "name": "stdout"
        }
      ]
    },
    {
      "cell_type": "code",
      "metadata": {
        "id": "SAWTxP423c8q",
        "colab_type": "code",
        "outputId": "14d7adbe-ac03-4bf2-cad0-766430940c98",
        "colab": {
          "base_uri": "https://localhost:8080/",
          "height": 203
        }
      },
      "source": [
        "city_pop_data.head()"
      ],
      "execution_count": 0,
      "outputs": [
        {
          "output_type": "execute_result",
          "data": {
            "text/html": [
              "<div>\n",
              "<style scoped>\n",
              "    .dataframe tbody tr th:only-of-type {\n",
              "        vertical-align: middle;\n",
              "    }\n",
              "\n",
              "    .dataframe tbody tr th {\n",
              "        vertical-align: top;\n",
              "    }\n",
              "\n",
              "    .dataframe thead th {\n",
              "        text-align: right;\n",
              "    }\n",
              "</style>\n",
              "<table border=\"1\" class=\"dataframe\">\n",
              "  <thead>\n",
              "    <tr style=\"text-align: right;\">\n",
              "      <th></th>\n",
              "      <th>County</th>\n",
              "      <th>City</th>\n",
              "      <th>Incorportation_date</th>\n",
              "      <th>pop_april_1980</th>\n",
              "      <th>pop_april_1990</th>\n",
              "      <th>pop_april_2000</th>\n",
              "      <th>pop_april_2010</th>\n",
              "    </tr>\n",
              "  </thead>\n",
              "  <tbody>\n",
              "    <tr>\n",
              "      <th>0</th>\n",
              "      <td>San Bernardino</td>\n",
              "      <td>Adelanto</td>\n",
              "      <td>1970</td>\n",
              "      <td>2164.0</td>\n",
              "      <td>8517</td>\n",
              "      <td>18130</td>\n",
              "      <td>31765</td>\n",
              "    </tr>\n",
              "    <tr>\n",
              "      <th>1</th>\n",
              "      <td>Los Angeles</td>\n",
              "      <td>Agoura Hills</td>\n",
              "      <td>1982</td>\n",
              "      <td>NaN</td>\n",
              "      <td>20390</td>\n",
              "      <td>20537</td>\n",
              "      <td>20330</td>\n",
              "    </tr>\n",
              "    <tr>\n",
              "      <th>2</th>\n",
              "      <td>Alameda</td>\n",
              "      <td>Alameda</td>\n",
              "      <td>1854</td>\n",
              "      <td>63852.0</td>\n",
              "      <td>76459</td>\n",
              "      <td>72259</td>\n",
              "      <td>73812</td>\n",
              "    </tr>\n",
              "    <tr>\n",
              "      <th>3</th>\n",
              "      <td>Alameda</td>\n",
              "      <td>Albany</td>\n",
              "      <td>1908</td>\n",
              "      <td>15130.0</td>\n",
              "      <td>16327</td>\n",
              "      <td>16444</td>\n",
              "      <td>18539</td>\n",
              "    </tr>\n",
              "    <tr>\n",
              "      <th>4</th>\n",
              "      <td>Los Angeles</td>\n",
              "      <td>Alhambra</td>\n",
              "      <td>1903</td>\n",
              "      <td>64767.0</td>\n",
              "      <td>82106</td>\n",
              "      <td>85804</td>\n",
              "      <td>83089</td>\n",
              "    </tr>\n",
              "  </tbody>\n",
              "</table>\n",
              "</div>"
            ],
            "text/plain": [
              "           County          City  ... pop_april_2000  pop_april_2010\n",
              "0  San Bernardino      Adelanto  ...          18130           31765\n",
              "1     Los Angeles  Agoura Hills  ...          20537           20330\n",
              "2         Alameda       Alameda  ...          72259           73812\n",
              "3         Alameda        Albany  ...          16444           18539\n",
              "4     Los Angeles      Alhambra  ...          85804           83089\n",
              "\n",
              "[5 rows x 7 columns]"
            ]
          },
          "metadata": {
            "tags": []
          },
          "execution_count": 7
        }
      ]
    },
    {
      "cell_type": "code",
      "metadata": {
        "id": "-RVI4JLo4bKG",
        "colab_type": "code",
        "outputId": "22c2f8c5-b5c8-4035-9ca3-82273e4bace3",
        "colab": {
          "base_uri": "https://localhost:8080/",
          "height": 223
        }
      },
      "source": [
        "city_pop_data.info()"
      ],
      "execution_count": 0,
      "outputs": [
        {
          "output_type": "stream",
          "text": [
            "<class 'pandas.core.frame.DataFrame'>\n",
            "RangeIndex: 455 entries, 0 to 454\n",
            "Data columns (total 7 columns):\n",
            "County                 455 non-null object\n",
            "City                   455 non-null object\n",
            "Incorportation_date    455 non-null object\n",
            "pop_april_1980         425 non-null float64\n",
            "pop_april_1990         455 non-null int64\n",
            "pop_april_2000         455 non-null int64\n",
            "pop_april_2010         455 non-null int64\n",
            "dtypes: float64(1), int64(3), object(3)\n",
            "memory usage: 25.0+ KB\n"
          ],
          "name": "stdout"
        }
      ]
    },
    {
      "cell_type": "markdown",
      "metadata": {
        "id": "SEQfWsur50P0",
        "colab_type": "text"
      },
      "source": [
        "Only use cities with populations and coordinates. "
      ]
    },
    {
      "cell_type": "code",
      "metadata": {
        "id": "BjUTFd2g3jWs",
        "colab_type": "code",
        "outputId": "13fb6098-49a8-4bc6-d380-71634a68c681",
        "colab": {
          "base_uri": "https://localhost:8080/",
          "height": 274
        }
      },
      "source": [
        "city_coords = city_lat_long.merge(city_pop_data, left_on='Name', right_on='City')\n",
        "city_coords.info()"
      ],
      "execution_count": 0,
      "outputs": [
        {
          "output_type": "stream",
          "text": [
            "<class 'pandas.core.frame.DataFrame'>\n",
            "Int64Index: 434 entries, 0 to 433\n",
            "Data columns (total 10 columns):\n",
            "Name                   434 non-null object\n",
            "Latitude               434 non-null float64\n",
            "Longitude              434 non-null float64\n",
            "County                 434 non-null object\n",
            "City                   434 non-null object\n",
            "Incorportation_date    434 non-null object\n",
            "pop_april_1980         406 non-null float64\n",
            "pop_april_1990         434 non-null int64\n",
            "pop_april_2000         434 non-null int64\n",
            "pop_april_2010         434 non-null int64\n",
            "dtypes: float64(3), int64(3), object(4)\n",
            "memory usage: 37.3+ KB\n"
          ],
          "name": "stdout"
        }
      ]
    },
    {
      "cell_type": "code",
      "metadata": {
        "id": "ZXBLWA8c4iji",
        "colab_type": "code",
        "outputId": "cec3bfad-7a90-4770-e55a-d14ec6bc546c",
        "colab": {
          "base_uri": "https://localhost:8080/",
          "height": 274
        }
      },
      "source": [
        "city_coords.head()"
      ],
      "execution_count": 0,
      "outputs": [
        {
          "output_type": "execute_result",
          "data": {
            "text/html": [
              "<div>\n",
              "<style scoped>\n",
              "    .dataframe tbody tr th:only-of-type {\n",
              "        vertical-align: middle;\n",
              "    }\n",
              "\n",
              "    .dataframe tbody tr th {\n",
              "        vertical-align: top;\n",
              "    }\n",
              "\n",
              "    .dataframe thead th {\n",
              "        text-align: right;\n",
              "    }\n",
              "</style>\n",
              "<table border=\"1\" class=\"dataframe\">\n",
              "  <thead>\n",
              "    <tr style=\"text-align: right;\">\n",
              "      <th></th>\n",
              "      <th>Name</th>\n",
              "      <th>Latitude</th>\n",
              "      <th>Longitude</th>\n",
              "      <th>County</th>\n",
              "      <th>City</th>\n",
              "      <th>Incorportation_date</th>\n",
              "      <th>pop_april_1980</th>\n",
              "      <th>pop_april_1990</th>\n",
              "      <th>pop_april_2000</th>\n",
              "      <th>pop_april_2010</th>\n",
              "    </tr>\n",
              "  </thead>\n",
              "  <tbody>\n",
              "    <tr>\n",
              "      <th>0</th>\n",
              "      <td>Adelanto</td>\n",
              "      <td>34.582769</td>\n",
              "      <td>-117.409214</td>\n",
              "      <td>San Bernardino</td>\n",
              "      <td>Adelanto</td>\n",
              "      <td>1970</td>\n",
              "      <td>2164.0</td>\n",
              "      <td>8517</td>\n",
              "      <td>18130</td>\n",
              "      <td>31765</td>\n",
              "    </tr>\n",
              "    <tr>\n",
              "      <th>1</th>\n",
              "      <td>Agoura Hills</td>\n",
              "      <td>34.153339</td>\n",
              "      <td>-118.761675</td>\n",
              "      <td>Los Angeles</td>\n",
              "      <td>Agoura Hills</td>\n",
              "      <td>1982</td>\n",
              "      <td>NaN</td>\n",
              "      <td>20390</td>\n",
              "      <td>20537</td>\n",
              "      <td>20330</td>\n",
              "    </tr>\n",
              "    <tr>\n",
              "      <th>2</th>\n",
              "      <td>Alameda</td>\n",
              "      <td>37.765206</td>\n",
              "      <td>-122.241636</td>\n",
              "      <td>Alameda</td>\n",
              "      <td>Alameda</td>\n",
              "      <td>1854</td>\n",
              "      <td>63852.0</td>\n",
              "      <td>76459</td>\n",
              "      <td>72259</td>\n",
              "      <td>73812</td>\n",
              "    </tr>\n",
              "    <tr>\n",
              "      <th>3</th>\n",
              "      <td>Albany</td>\n",
              "      <td>37.886869</td>\n",
              "      <td>-122.297747</td>\n",
              "      <td>Alameda</td>\n",
              "      <td>Albany</td>\n",
              "      <td>1908</td>\n",
              "      <td>15130.0</td>\n",
              "      <td>16327</td>\n",
              "      <td>16444</td>\n",
              "      <td>18539</td>\n",
              "    </tr>\n",
              "    <tr>\n",
              "      <th>4</th>\n",
              "      <td>Alhambra</td>\n",
              "      <td>34.095286</td>\n",
              "      <td>-118.127014</td>\n",
              "      <td>Los Angeles</td>\n",
              "      <td>Alhambra</td>\n",
              "      <td>1903</td>\n",
              "      <td>64767.0</td>\n",
              "      <td>82106</td>\n",
              "      <td>85804</td>\n",
              "      <td>83089</td>\n",
              "    </tr>\n",
              "  </tbody>\n",
              "</table>\n",
              "</div>"
            ],
            "text/plain": [
              "           Name   Latitude  ...  pop_april_2000 pop_april_2010\n",
              "0      Adelanto  34.582769  ...           18130          31765\n",
              "1  Agoura Hills  34.153339  ...           20537          20330\n",
              "2       Alameda  37.765206  ...           72259          73812\n",
              "3        Albany  37.886869  ...           16444          18539\n",
              "4      Alhambra  34.095286  ...           85804          83089\n",
              "\n",
              "[5 rows x 10 columns]"
            ]
          },
          "metadata": {
            "tags": []
          },
          "execution_count": 10
        }
      ]
    },
    {
      "cell_type": "code",
      "metadata": {
        "id": "m62sr8hc5aKU",
        "colab_type": "code",
        "outputId": "1fe1c8e4-2150-44a1-ea6f-d69a3020e73e",
        "colab": {
          "base_uri": "https://localhost:8080/",
          "height": 274
        }
      },
      "source": [
        "city_coords.drop('City', inplace=True, axis=1)\n",
        "city_coords.head()"
      ],
      "execution_count": 0,
      "outputs": [
        {
          "output_type": "execute_result",
          "data": {
            "text/html": [
              "<div>\n",
              "<style scoped>\n",
              "    .dataframe tbody tr th:only-of-type {\n",
              "        vertical-align: middle;\n",
              "    }\n",
              "\n",
              "    .dataframe tbody tr th {\n",
              "        vertical-align: top;\n",
              "    }\n",
              "\n",
              "    .dataframe thead th {\n",
              "        text-align: right;\n",
              "    }\n",
              "</style>\n",
              "<table border=\"1\" class=\"dataframe\">\n",
              "  <thead>\n",
              "    <tr style=\"text-align: right;\">\n",
              "      <th></th>\n",
              "      <th>Name</th>\n",
              "      <th>Latitude</th>\n",
              "      <th>Longitude</th>\n",
              "      <th>County</th>\n",
              "      <th>Incorportation_date</th>\n",
              "      <th>pop_april_1980</th>\n",
              "      <th>pop_april_1990</th>\n",
              "      <th>pop_april_2000</th>\n",
              "      <th>pop_april_2010</th>\n",
              "    </tr>\n",
              "  </thead>\n",
              "  <tbody>\n",
              "    <tr>\n",
              "      <th>0</th>\n",
              "      <td>Adelanto</td>\n",
              "      <td>34.582769</td>\n",
              "      <td>-117.409214</td>\n",
              "      <td>San Bernardino</td>\n",
              "      <td>1970</td>\n",
              "      <td>2164.0</td>\n",
              "      <td>8517</td>\n",
              "      <td>18130</td>\n",
              "      <td>31765</td>\n",
              "    </tr>\n",
              "    <tr>\n",
              "      <th>1</th>\n",
              "      <td>Agoura Hills</td>\n",
              "      <td>34.153339</td>\n",
              "      <td>-118.761675</td>\n",
              "      <td>Los Angeles</td>\n",
              "      <td>1982</td>\n",
              "      <td>NaN</td>\n",
              "      <td>20390</td>\n",
              "      <td>20537</td>\n",
              "      <td>20330</td>\n",
              "    </tr>\n",
              "    <tr>\n",
              "      <th>2</th>\n",
              "      <td>Alameda</td>\n",
              "      <td>37.765206</td>\n",
              "      <td>-122.241636</td>\n",
              "      <td>Alameda</td>\n",
              "      <td>1854</td>\n",
              "      <td>63852.0</td>\n",
              "      <td>76459</td>\n",
              "      <td>72259</td>\n",
              "      <td>73812</td>\n",
              "    </tr>\n",
              "    <tr>\n",
              "      <th>3</th>\n",
              "      <td>Albany</td>\n",
              "      <td>37.886869</td>\n",
              "      <td>-122.297747</td>\n",
              "      <td>Alameda</td>\n",
              "      <td>1908</td>\n",
              "      <td>15130.0</td>\n",
              "      <td>16327</td>\n",
              "      <td>16444</td>\n",
              "      <td>18539</td>\n",
              "    </tr>\n",
              "    <tr>\n",
              "      <th>4</th>\n",
              "      <td>Alhambra</td>\n",
              "      <td>34.095286</td>\n",
              "      <td>-118.127014</td>\n",
              "      <td>Los Angeles</td>\n",
              "      <td>1903</td>\n",
              "      <td>64767.0</td>\n",
              "      <td>82106</td>\n",
              "      <td>85804</td>\n",
              "      <td>83089</td>\n",
              "    </tr>\n",
              "  </tbody>\n",
              "</table>\n",
              "</div>"
            ],
            "text/plain": [
              "           Name   Latitude  ...  pop_april_2000 pop_april_2010\n",
              "0      Adelanto  34.582769  ...           18130          31765\n",
              "1  Agoura Hills  34.153339  ...           20537          20330\n",
              "2       Alameda  37.765206  ...           72259          73812\n",
              "3        Albany  37.886869  ...           16444          18539\n",
              "4      Alhambra  34.095286  ...           85804          83089\n",
              "\n",
              "[5 rows x 9 columns]"
            ]
          },
          "metadata": {
            "tags": []
          },
          "execution_count": 11
        }
      ]
    },
    {
      "cell_type": "markdown",
      "metadata": {
        "id": "HghUu3Rl6Cuw",
        "colab_type": "text"
      },
      "source": [
        "## Distance to nearest town\n",
        "\n",
        "- Compute distance between two sets of lat, long\n",
        "- Find out which city is closest to a given coordinate\n",
        "\n",
        "https://pypi.org/project/geopy/"
      ]
    },
    {
      "cell_type": "code",
      "metadata": {
        "id": "LTdtE3Ab5ZXw",
        "colab_type": "code",
        "colab": {}
      },
      "source": [
        "from geopy.distance import geodesic"
      ],
      "execution_count": 0,
      "outputs": []
    },
    {
      "cell_type": "code",
      "metadata": {
        "id": "bsWm4zhO6p_i",
        "colab_type": "code",
        "outputId": "4704c3fc-5cdf-47aa-e639-2b191e69b703",
        "colab": {
          "base_uri": "https://localhost:8080/",
          "height": 34
        }
      },
      "source": [
        "city1 = city_coords.iloc[0]['Latitude'], city_coords.iloc[0]['Longitude']\n",
        "place1 = housing.iloc[0]['latitude'], housing.iloc[0]['longitude']\n",
        "\n",
        "geodesic(place1, city1).km # distance in km"
      ],
      "execution_count": 0,
      "outputs": [
        {
          "output_type": "execute_result",
          "data": {
            "text/plain": [
              "567.0202547994141"
            ]
          },
          "metadata": {
            "tags": []
          },
          "execution_count": 13
        }
      ]
    },
    {
      "cell_type": "code",
      "metadata": {
        "id": "M_MofAaeCj2Y",
        "colab_type": "code",
        "outputId": "33629fb8-c979-4658-9535-5f781bac3219",
        "colab": {
          "base_uri": "https://localhost:8080/",
          "height": 188
        }
      },
      "source": [
        "# wrap the above into a function\n",
        "\n",
        "def compute_distances(row, lat, lon):\n",
        "  '''Computes distances for a given row from the coordinates dataframe with the\n",
        "     specified lat and lon\n",
        "  '''\n",
        "  return geodesic((row['Latitude'], row['Longitude']), (lat, lon)).km\n",
        "\n",
        "# apply the function on city_coords and get the nearest city to place1\n",
        "distances = city_coords.apply(compute_distances, lat=place1[0], lon=place1[1],\n",
        "                              axis=1)\n",
        "city_coords.loc[distances.idxmin()]"
      ],
      "execution_count": 0,
      "outputs": [
        {
          "output_type": "execute_result",
          "data": {
            "text/plain": [
              "Name                   Berkeley\n",
              "Latitude                37.8716\n",
              "Longitude              -122.273\n",
              "County                  Alameda\n",
              "Incorportation_date        1878\n",
              "pop_april_1980           103328\n",
              "pop_april_1990           102724\n",
              "pop_april_2000           102743\n",
              "pop_april_2010           112580\n",
              "Name: 32, dtype: object"
            ]
          },
          "metadata": {
            "tags": []
          },
          "execution_count": 14
        }
      ]
    },
    {
      "cell_type": "code",
      "metadata": {
        "id": "akpewcG47My4",
        "colab_type": "code",
        "outputId": "1cccacbc-850d-437f-81e2-7b29b615dfdd",
        "colab": {
          "base_uri": "https://localhost:8080/",
          "height": 538
        }
      },
      "source": [
        "# find big cities\n",
        "big_population = 250000\n",
        "\n",
        "big_city_coords = city_coords[city_coords['pop_april_2010'] > big_population]\n",
        "big_city_coords"
      ],
      "execution_count": 0,
      "outputs": [
        {
          "output_type": "execute_result",
          "data": {
            "text/html": [
              "<div>\n",
              "<style scoped>\n",
              "    .dataframe tbody tr th:only-of-type {\n",
              "        vertical-align: middle;\n",
              "    }\n",
              "\n",
              "    .dataframe tbody tr th {\n",
              "        vertical-align: top;\n",
              "    }\n",
              "\n",
              "    .dataframe thead th {\n",
              "        text-align: right;\n",
              "    }\n",
              "</style>\n",
              "<table border=\"1\" class=\"dataframe\">\n",
              "  <thead>\n",
              "    <tr style=\"text-align: right;\">\n",
              "      <th></th>\n",
              "      <th>Name</th>\n",
              "      <th>Latitude</th>\n",
              "      <th>Longitude</th>\n",
              "      <th>County</th>\n",
              "      <th>Incorportation_date</th>\n",
              "      <th>pop_april_1980</th>\n",
              "      <th>pop_april_1990</th>\n",
              "      <th>pop_april_2000</th>\n",
              "      <th>pop_april_2010</th>\n",
              "    </tr>\n",
              "  </thead>\n",
              "  <tbody>\n",
              "    <tr>\n",
              "      <th>7</th>\n",
              "      <td>Anaheim</td>\n",
              "      <td>33.835292</td>\n",
              "      <td>-117.914503</td>\n",
              "      <td>Orange</td>\n",
              "      <td>1876</td>\n",
              "      <td>219494.0</td>\n",
              "      <td>266406</td>\n",
              "      <td>328014</td>\n",
              "      <td>336265</td>\n",
              "    </tr>\n",
              "    <tr>\n",
              "      <th>22</th>\n",
              "      <td>Bakersfield</td>\n",
              "      <td>35.373292</td>\n",
              "      <td>-119.018711</td>\n",
              "      <td>Kern</td>\n",
              "      <td>1873</td>\n",
              "      <td>105611.0</td>\n",
              "      <td>174820</td>\n",
              "      <td>246889</td>\n",
              "      <td>347483</td>\n",
              "    </tr>\n",
              "    <tr>\n",
              "      <th>131</th>\n",
              "      <td>Fresno</td>\n",
              "      <td>36.746842</td>\n",
              "      <td>-119.772586</td>\n",
              "      <td>Fresno</td>\n",
              "      <td>1885</td>\n",
              "      <td>217129.0</td>\n",
              "      <td>354202</td>\n",
              "      <td>427652</td>\n",
              "      <td>494665</td>\n",
              "    </tr>\n",
              "    <tr>\n",
              "      <th>209</th>\n",
              "      <td>Long Beach</td>\n",
              "      <td>33.768322</td>\n",
              "      <td>-118.195617</td>\n",
              "      <td>Los Angeles</td>\n",
              "      <td>i. 1888/ d.1896/ \\nri. 1897</td>\n",
              "      <td>361355.0</td>\n",
              "      <td>429433</td>\n",
              "      <td>461522</td>\n",
              "      <td>462257</td>\n",
              "    </tr>\n",
              "    <tr>\n",
              "      <th>212</th>\n",
              "      <td>Los Angeles</td>\n",
              "      <td>34.052233</td>\n",
              "      <td>-118.243686</td>\n",
              "      <td>Los Angeles</td>\n",
              "      <td>1850</td>\n",
              "      <td>2968579.0</td>\n",
              "      <td>3485398</td>\n",
              "      <td>3694742</td>\n",
              "      <td>3792621</td>\n",
              "    </tr>\n",
              "    <tr>\n",
              "      <th>257</th>\n",
              "      <td>Oakland</td>\n",
              "      <td>37.804364</td>\n",
              "      <td>-122.271114</td>\n",
              "      <td>Alameda</td>\n",
              "      <td>1852</td>\n",
              "      <td>339337.0</td>\n",
              "      <td>372242</td>\n",
              "      <td>399484</td>\n",
              "      <td>390724</td>\n",
              "    </tr>\n",
              "    <tr>\n",
              "      <th>313</th>\n",
              "      <td>Riverside</td>\n",
              "      <td>33.953350</td>\n",
              "      <td>-117.396156</td>\n",
              "      <td>Riverside</td>\n",
              "      <td>1883</td>\n",
              "      <td>170591.0</td>\n",
              "      <td>226505</td>\n",
              "      <td>255166</td>\n",
              "      <td>303871</td>\n",
              "    </tr>\n",
              "    <tr>\n",
              "      <th>320</th>\n",
              "      <td>Sacramento</td>\n",
              "      <td>38.581572</td>\n",
              "      <td>-121.494400</td>\n",
              "      <td>Sacramento</td>\n",
              "      <td>1850</td>\n",
              "      <td>275741.0</td>\n",
              "      <td>369365</td>\n",
              "      <td>407018</td>\n",
              "      <td>466488</td>\n",
              "    </tr>\n",
              "    <tr>\n",
              "      <th>326</th>\n",
              "      <td>San Diego</td>\n",
              "      <td>32.715328</td>\n",
              "      <td>-117.157256</td>\n",
              "      <td>San Diego</td>\n",
              "      <td>1850</td>\n",
              "      <td>875538.0</td>\n",
              "      <td>1110549</td>\n",
              "      <td>1223400</td>\n",
              "      <td>1307402</td>\n",
              "    </tr>\n",
              "    <tr>\n",
              "      <th>329</th>\n",
              "      <td>San Francisco</td>\n",
              "      <td>37.774931</td>\n",
              "      <td>-122.419417</td>\n",
              "      <td>San Francisco</td>\n",
              "      <td>1850</td>\n",
              "      <td>678974.0</td>\n",
              "      <td>723959</td>\n",
              "      <td>776733</td>\n",
              "      <td>805235</td>\n",
              "    </tr>\n",
              "    <tr>\n",
              "      <th>333</th>\n",
              "      <td>San Jose</td>\n",
              "      <td>37.339386</td>\n",
              "      <td>-121.894956</td>\n",
              "      <td>Santa Clara</td>\n",
              "      <td>1850</td>\n",
              "      <td>629531.0</td>\n",
              "      <td>782248</td>\n",
              "      <td>894943</td>\n",
              "      <td>945942</td>\n",
              "    </tr>\n",
              "    <tr>\n",
              "      <th>346</th>\n",
              "      <td>Santa Ana</td>\n",
              "      <td>33.745572</td>\n",
              "      <td>-117.867833</td>\n",
              "      <td>Orange</td>\n",
              "      <td>1886</td>\n",
              "      <td>204023.0</td>\n",
              "      <td>293742</td>\n",
              "      <td>337977</td>\n",
              "      <td>324528</td>\n",
              "    </tr>\n",
              "    <tr>\n",
              "      <th>380</th>\n",
              "      <td>Stockton</td>\n",
              "      <td>37.957703</td>\n",
              "      <td>-121.290781</td>\n",
              "      <td>San Joaquin</td>\n",
              "      <td>1850</td>\n",
              "      <td>148283.0</td>\n",
              "      <td>210943</td>\n",
              "      <td>243771</td>\n",
              "      <td>291707</td>\n",
              "    </tr>\n",
              "  </tbody>\n",
              "</table>\n",
              "</div>"
            ],
            "text/plain": [
              "              Name   Latitude  ...  pop_april_2000 pop_april_2010\n",
              "7          Anaheim  33.835292  ...          328014         336265\n",
              "22     Bakersfield  35.373292  ...          246889         347483\n",
              "131         Fresno  36.746842  ...          427652         494665\n",
              "209     Long Beach  33.768322  ...          461522         462257\n",
              "212    Los Angeles  34.052233  ...         3694742        3792621\n",
              "257        Oakland  37.804364  ...          399484         390724\n",
              "313      Riverside  33.953350  ...          255166         303871\n",
              "320     Sacramento  38.581572  ...          407018         466488\n",
              "326      San Diego  32.715328  ...         1223400        1307402\n",
              "329  San Francisco  37.774931  ...          776733         805235\n",
              "333       San Jose  37.339386  ...          894943         945942\n",
              "346      Santa Ana  33.745572  ...          337977         324528\n",
              "380       Stockton  37.957703  ...          243771         291707\n",
              "\n",
              "[13 rows x 9 columns]"
            ]
          },
          "metadata": {
            "tags": []
          },
          "execution_count": 15
        }
      ]
    },
    {
      "cell_type": "code",
      "metadata": {
        "id": "ITQ_7tzc_Q63",
        "colab_type": "code",
        "outputId": "158055d5-fc3f-4da1-adf3-a2f5b7afdcb3",
        "colab": {
          "base_uri": "https://localhost:8080/",
          "height": 86
        }
      },
      "source": [
        "# apply the function on big_city_coords and get the nearest city to place1\n",
        "distances = big_city_coords.apply(compute_distances, lat=place1[0], lon=place1[1],\n",
        "                                  axis=1)\n",
        "big_city_coords.loc[distances.idxmin(), ['Name', 'County', 'pop_april_2010']]"
      ],
      "execution_count": 0,
      "outputs": [
        {
          "output_type": "execute_result",
          "data": {
            "text/plain": [
              "Name              Oakland\n",
              "County            Alameda\n",
              "pop_april_2010     390724\n",
              "Name: 257, dtype: object"
            ]
          },
          "metadata": {
            "tags": []
          },
          "execution_count": 16
        }
      ]
    },
    {
      "cell_type": "code",
      "metadata": {
        "id": "qvsmfcEdZDmn",
        "colab_type": "code",
        "outputId": "08e6fd13-12c6-47f8-bcf3-7f45cecf8744",
        "colab": {
          "base_uri": "https://localhost:8080/",
          "height": 357
        }
      },
      "source": [
        "# Apply to housing dataframe by converting the above cell into a function\n",
        "\n",
        "def find_nearest_city(row, coords):\n",
        "  '''Find the nearest city to the given row, among the list of cities\n",
        "     and coordinates\n",
        "  '''\n",
        "  distances = coords.apply(compute_distances, lat=row['latitude'],\n",
        "                           lon=row['longitude'], axis=1)\n",
        "  return coords.loc[distances.idxmin(),  ['Name', 'County', 'pop_april_2010']]\n",
        "\n",
        "# apply the function on housing (try first 10 rows)\n",
        "nearest_cities = housing.iloc[:10].apply(find_nearest_city, coords=city_coords, axis=1)\n",
        "nearest_cities"
      ],
      "execution_count": 0,
      "outputs": [
        {
          "output_type": "execute_result",
          "data": {
            "text/html": [
              "<div>\n",
              "<style scoped>\n",
              "    .dataframe tbody tr th:only-of-type {\n",
              "        vertical-align: middle;\n",
              "    }\n",
              "\n",
              "    .dataframe tbody tr th {\n",
              "        vertical-align: top;\n",
              "    }\n",
              "\n",
              "    .dataframe thead th {\n",
              "        text-align: right;\n",
              "    }\n",
              "</style>\n",
              "<table border=\"1\" class=\"dataframe\">\n",
              "  <thead>\n",
              "    <tr style=\"text-align: right;\">\n",
              "      <th></th>\n",
              "      <th>Name</th>\n",
              "      <th>County</th>\n",
              "      <th>pop_april_2010</th>\n",
              "    </tr>\n",
              "  </thead>\n",
              "  <tbody>\n",
              "    <tr>\n",
              "      <th>0</th>\n",
              "      <td>Berkeley</td>\n",
              "      <td>Alameda</td>\n",
              "      <td>112580</td>\n",
              "    </tr>\n",
              "    <tr>\n",
              "      <th>1</th>\n",
              "      <td>Orinda</td>\n",
              "      <td>Contra Costa</td>\n",
              "      <td>17643</td>\n",
              "    </tr>\n",
              "    <tr>\n",
              "      <th>2</th>\n",
              "      <td>Piedmont</td>\n",
              "      <td>Alameda</td>\n",
              "      <td>10667</td>\n",
              "    </tr>\n",
              "    <tr>\n",
              "      <th>3</th>\n",
              "      <td>Berkeley</td>\n",
              "      <td>Alameda</td>\n",
              "      <td>112580</td>\n",
              "    </tr>\n",
              "    <tr>\n",
              "      <th>4</th>\n",
              "      <td>Berkeley</td>\n",
              "      <td>Alameda</td>\n",
              "      <td>112580</td>\n",
              "    </tr>\n",
              "    <tr>\n",
              "      <th>5</th>\n",
              "      <td>Berkeley</td>\n",
              "      <td>Alameda</td>\n",
              "      <td>112580</td>\n",
              "    </tr>\n",
              "    <tr>\n",
              "      <th>6</th>\n",
              "      <td>Piedmont</td>\n",
              "      <td>Alameda</td>\n",
              "      <td>10667</td>\n",
              "    </tr>\n",
              "    <tr>\n",
              "      <th>7</th>\n",
              "      <td>Piedmont</td>\n",
              "      <td>Alameda</td>\n",
              "      <td>10667</td>\n",
              "    </tr>\n",
              "    <tr>\n",
              "      <th>8</th>\n",
              "      <td>Emeryville</td>\n",
              "      <td>Alameda</td>\n",
              "      <td>10080</td>\n",
              "    </tr>\n",
              "    <tr>\n",
              "      <th>9</th>\n",
              "      <td>Piedmont</td>\n",
              "      <td>Alameda</td>\n",
              "      <td>10667</td>\n",
              "    </tr>\n",
              "  </tbody>\n",
              "</table>\n",
              "</div>"
            ],
            "text/plain": [
              "         Name        County  pop_april_2010\n",
              "0    Berkeley       Alameda          112580\n",
              "1      Orinda  Contra Costa           17643\n",
              "2    Piedmont       Alameda           10667\n",
              "3    Berkeley       Alameda          112580\n",
              "4    Berkeley       Alameda          112580\n",
              "5    Berkeley       Alameda          112580\n",
              "6    Piedmont       Alameda           10667\n",
              "7    Piedmont       Alameda           10667\n",
              "8  Emeryville       Alameda           10080\n",
              "9    Piedmont       Alameda           10667"
            ]
          },
          "metadata": {
            "tags": []
          },
          "execution_count": 23
        }
      ]
    },
    {
      "cell_type": "code",
      "metadata": {
        "id": "b9Vo6fyH6JeD",
        "colab_type": "code",
        "colab": {}
      },
      "source": [
        "# Parallize\n",
        "\n",
        "import dask.dataframe as dd\n",
        "from dask.multiprocessing import get\n",
        "\n",
        "dd_housing = dd.from_pandas(housing, npartitions=10)"
      ],
      "execution_count": 0,
      "outputs": []
    },
    {
      "cell_type": "code",
      "metadata": {
        "id": "wDTsffSY8lWn",
        "colab_type": "code",
        "colab": {}
      },
      "source": [
        "# this will take a while to run (around 30 minutes on Colab)\n",
        "res = dd_housing.map_partitions(lambda df: df.apply(find_nearest_city, coords=city_coords, axis=1)).compute(scheduler='threads')\n"
      ],
      "execution_count": 0,
      "outputs": []
    },
    {
      "cell_type": "code",
      "metadata": {
        "id": "wKJA-hJl9FuF",
        "colab_type": "code",
        "outputId": "7fc70ed3-7fa8-486e-e8df-164d239e81c0",
        "colab": {
          "base_uri": "https://localhost:8080/",
          "height": 203
        }
      },
      "source": [
        "res.head()"
      ],
      "execution_count": 0,
      "outputs": [
        {
          "output_type": "execute_result",
          "data": {
            "text/html": [
              "<div>\n",
              "<style scoped>\n",
              "    .dataframe tbody tr th:only-of-type {\n",
              "        vertical-align: middle;\n",
              "    }\n",
              "\n",
              "    .dataframe tbody tr th {\n",
              "        vertical-align: top;\n",
              "    }\n",
              "\n",
              "    .dataframe thead th {\n",
              "        text-align: right;\n",
              "    }\n",
              "</style>\n",
              "<table border=\"1\" class=\"dataframe\">\n",
              "  <thead>\n",
              "    <tr style=\"text-align: right;\">\n",
              "      <th></th>\n",
              "      <th>Name</th>\n",
              "      <th>County</th>\n",
              "      <th>pop_april_2010</th>\n",
              "    </tr>\n",
              "  </thead>\n",
              "  <tbody>\n",
              "    <tr>\n",
              "      <th>0</th>\n",
              "      <td>Berkeley</td>\n",
              "      <td>Alameda</td>\n",
              "      <td>112580</td>\n",
              "    </tr>\n",
              "    <tr>\n",
              "      <th>1</th>\n",
              "      <td>Orinda</td>\n",
              "      <td>Contra Costa</td>\n",
              "      <td>17643</td>\n",
              "    </tr>\n",
              "    <tr>\n",
              "      <th>2</th>\n",
              "      <td>Piedmont</td>\n",
              "      <td>Alameda</td>\n",
              "      <td>10667</td>\n",
              "    </tr>\n",
              "    <tr>\n",
              "      <th>3</th>\n",
              "      <td>Berkeley</td>\n",
              "      <td>Alameda</td>\n",
              "      <td>112580</td>\n",
              "    </tr>\n",
              "    <tr>\n",
              "      <th>4</th>\n",
              "      <td>Berkeley</td>\n",
              "      <td>Alameda</td>\n",
              "      <td>112580</td>\n",
              "    </tr>\n",
              "  </tbody>\n",
              "</table>\n",
              "</div>"
            ],
            "text/plain": [
              "       Name        County  pop_april_2010\n",
              "0  Berkeley       Alameda          112580\n",
              "1    Orinda  Contra Costa           17643\n",
              "2  Piedmont       Alameda           10667\n",
              "3  Berkeley       Alameda          112580\n",
              "4  Berkeley       Alameda          112580"
            ]
          },
          "metadata": {
            "tags": []
          },
          "execution_count": 35
        }
      ]
    },
    {
      "cell_type": "code",
      "metadata": {
        "id": "C3f-9NmvJd_b",
        "colab_type": "code",
        "outputId": "2fd8e578-6f37-400e-d5ba-3d7602178740",
        "colab": {
          "base_uri": "https://localhost:8080/",
          "height": 203
        }
      },
      "source": [
        "res.columns = ['nearest_city_name', 'nearest_city_county', 'nearest_city_pop_april_2010']\n",
        "res.head()"
      ],
      "execution_count": 0,
      "outputs": [
        {
          "output_type": "execute_result",
          "data": {
            "text/html": [
              "<div>\n",
              "<style scoped>\n",
              "    .dataframe tbody tr th:only-of-type {\n",
              "        vertical-align: middle;\n",
              "    }\n",
              "\n",
              "    .dataframe tbody tr th {\n",
              "        vertical-align: top;\n",
              "    }\n",
              "\n",
              "    .dataframe thead th {\n",
              "        text-align: right;\n",
              "    }\n",
              "</style>\n",
              "<table border=\"1\" class=\"dataframe\">\n",
              "  <thead>\n",
              "    <tr style=\"text-align: right;\">\n",
              "      <th></th>\n",
              "      <th>nearest_city_name</th>\n",
              "      <th>nearest_city_county</th>\n",
              "      <th>nearest_city_pop_april_2010</th>\n",
              "    </tr>\n",
              "  </thead>\n",
              "  <tbody>\n",
              "    <tr>\n",
              "      <th>0</th>\n",
              "      <td>Berkeley</td>\n",
              "      <td>Alameda</td>\n",
              "      <td>112580</td>\n",
              "    </tr>\n",
              "    <tr>\n",
              "      <th>1</th>\n",
              "      <td>Orinda</td>\n",
              "      <td>Contra Costa</td>\n",
              "      <td>17643</td>\n",
              "    </tr>\n",
              "    <tr>\n",
              "      <th>2</th>\n",
              "      <td>Piedmont</td>\n",
              "      <td>Alameda</td>\n",
              "      <td>10667</td>\n",
              "    </tr>\n",
              "    <tr>\n",
              "      <th>3</th>\n",
              "      <td>Berkeley</td>\n",
              "      <td>Alameda</td>\n",
              "      <td>112580</td>\n",
              "    </tr>\n",
              "    <tr>\n",
              "      <th>4</th>\n",
              "      <td>Berkeley</td>\n",
              "      <td>Alameda</td>\n",
              "      <td>112580</td>\n",
              "    </tr>\n",
              "  </tbody>\n",
              "</table>\n",
              "</div>"
            ],
            "text/plain": [
              "  nearest_city_name nearest_city_county  nearest_city_pop_april_2010\n",
              "0          Berkeley             Alameda                       112580\n",
              "1            Orinda        Contra Costa                        17643\n",
              "2          Piedmont             Alameda                        10667\n",
              "3          Berkeley             Alameda                       112580\n",
              "4          Berkeley             Alameda                       112580"
            ]
          },
          "metadata": {
            "tags": []
          },
          "execution_count": 36
        }
      ]
    },
    {
      "cell_type": "code",
      "metadata": {
        "id": "Tdu4paWMJu2X",
        "colab_type": "code",
        "outputId": "14ae4e6d-9d38-4fa2-f8e6-63cc363cb24a",
        "colab": {
          "base_uri": "https://localhost:8080/",
          "height": 223
        }
      },
      "source": [
        "housing = pd.concat([housing, res], axis=1)\n",
        "housing.head()"
      ],
      "execution_count": 0,
      "outputs": [
        {
          "output_type": "execute_result",
          "data": {
            "text/html": [
              "<div>\n",
              "<style scoped>\n",
              "    .dataframe tbody tr th:only-of-type {\n",
              "        vertical-align: middle;\n",
              "    }\n",
              "\n",
              "    .dataframe tbody tr th {\n",
              "        vertical-align: top;\n",
              "    }\n",
              "\n",
              "    .dataframe thead th {\n",
              "        text-align: right;\n",
              "    }\n",
              "</style>\n",
              "<table border=\"1\" class=\"dataframe\">\n",
              "  <thead>\n",
              "    <tr style=\"text-align: right;\">\n",
              "      <th></th>\n",
              "      <th>longitude</th>\n",
              "      <th>latitude</th>\n",
              "      <th>housing_median_age</th>\n",
              "      <th>total_rooms</th>\n",
              "      <th>total_bedrooms</th>\n",
              "      <th>population</th>\n",
              "      <th>households</th>\n",
              "      <th>median_income</th>\n",
              "      <th>median_house_value</th>\n",
              "      <th>ocean_proximity</th>\n",
              "      <th>nearest_city_name</th>\n",
              "      <th>nearest_city_county</th>\n",
              "      <th>nearest_city_pop_april_2010</th>\n",
              "    </tr>\n",
              "  </thead>\n",
              "  <tbody>\n",
              "    <tr>\n",
              "      <th>0</th>\n",
              "      <td>-122.23</td>\n",
              "      <td>37.88</td>\n",
              "      <td>41.0</td>\n",
              "      <td>880.0</td>\n",
              "      <td>129.0</td>\n",
              "      <td>322.0</td>\n",
              "      <td>126.0</td>\n",
              "      <td>8.3252</td>\n",
              "      <td>452600.0</td>\n",
              "      <td>NEAR BAY</td>\n",
              "      <td>Berkeley</td>\n",
              "      <td>Alameda</td>\n",
              "      <td>112580</td>\n",
              "    </tr>\n",
              "    <tr>\n",
              "      <th>1</th>\n",
              "      <td>-122.22</td>\n",
              "      <td>37.86</td>\n",
              "      <td>21.0</td>\n",
              "      <td>7099.0</td>\n",
              "      <td>1106.0</td>\n",
              "      <td>2401.0</td>\n",
              "      <td>1138.0</td>\n",
              "      <td>8.3014</td>\n",
              "      <td>358500.0</td>\n",
              "      <td>NEAR BAY</td>\n",
              "      <td>Orinda</td>\n",
              "      <td>Contra Costa</td>\n",
              "      <td>17643</td>\n",
              "    </tr>\n",
              "    <tr>\n",
              "      <th>2</th>\n",
              "      <td>-122.24</td>\n",
              "      <td>37.85</td>\n",
              "      <td>52.0</td>\n",
              "      <td>1467.0</td>\n",
              "      <td>190.0</td>\n",
              "      <td>496.0</td>\n",
              "      <td>177.0</td>\n",
              "      <td>7.2574</td>\n",
              "      <td>352100.0</td>\n",
              "      <td>NEAR BAY</td>\n",
              "      <td>Piedmont</td>\n",
              "      <td>Alameda</td>\n",
              "      <td>10667</td>\n",
              "    </tr>\n",
              "    <tr>\n",
              "      <th>3</th>\n",
              "      <td>-122.25</td>\n",
              "      <td>37.85</td>\n",
              "      <td>52.0</td>\n",
              "      <td>1274.0</td>\n",
              "      <td>235.0</td>\n",
              "      <td>558.0</td>\n",
              "      <td>219.0</td>\n",
              "      <td>5.6431</td>\n",
              "      <td>341300.0</td>\n",
              "      <td>NEAR BAY</td>\n",
              "      <td>Berkeley</td>\n",
              "      <td>Alameda</td>\n",
              "      <td>112580</td>\n",
              "    </tr>\n",
              "    <tr>\n",
              "      <th>4</th>\n",
              "      <td>-122.25</td>\n",
              "      <td>37.85</td>\n",
              "      <td>52.0</td>\n",
              "      <td>1627.0</td>\n",
              "      <td>280.0</td>\n",
              "      <td>565.0</td>\n",
              "      <td>259.0</td>\n",
              "      <td>3.8462</td>\n",
              "      <td>342200.0</td>\n",
              "      <td>NEAR BAY</td>\n",
              "      <td>Berkeley</td>\n",
              "      <td>Alameda</td>\n",
              "      <td>112580</td>\n",
              "    </tr>\n",
              "  </tbody>\n",
              "</table>\n",
              "</div>"
            ],
            "text/plain": [
              "   longitude  latitude  ...  nearest_city_county  nearest_city_pop_april_2010\n",
              "0    -122.23     37.88  ...              Alameda                       112580\n",
              "1    -122.22     37.86  ...         Contra Costa                        17643\n",
              "2    -122.24     37.85  ...              Alameda                        10667\n",
              "3    -122.25     37.85  ...              Alameda                       112580\n",
              "4    -122.25     37.85  ...              Alameda                       112580\n",
              "\n",
              "[5 rows x 13 columns]"
            ]
          },
          "metadata": {
            "tags": []
          },
          "execution_count": 37
        }
      ]
    },
    {
      "cell_type": "code",
      "metadata": {
        "id": "FBVylp0PJ1Yg",
        "colab_type": "code",
        "colab": {}
      },
      "source": [
        "housing.to_csv('/content/drive/My Drive/data/housing_nearest_city.csv', index=None)"
      ],
      "execution_count": 0,
      "outputs": []
    },
    {
      "cell_type": "code",
      "metadata": {
        "id": "RAIQpZZKJ84p",
        "colab_type": "code",
        "outputId": "8bb4bb50-dbe9-4737-a307-00160afca26c",
        "colab": {
          "base_uri": "https://localhost:8080/",
          "height": 203
        }
      },
      "source": [
        "res_big = dd_housing.map_partitions(lambda df: df.apply(find_nearest_city, coords=big_city_coords, axis=1)).compute(scheduler='threads')\n",
        "res_big.head()"
      ],
      "execution_count": 0,
      "outputs": [
        {
          "output_type": "execute_result",
          "data": {
            "text/html": [
              "<div>\n",
              "<style scoped>\n",
              "    .dataframe tbody tr th:only-of-type {\n",
              "        vertical-align: middle;\n",
              "    }\n",
              "\n",
              "    .dataframe tbody tr th {\n",
              "        vertical-align: top;\n",
              "    }\n",
              "\n",
              "    .dataframe thead th {\n",
              "        text-align: right;\n",
              "    }\n",
              "</style>\n",
              "<table border=\"1\" class=\"dataframe\">\n",
              "  <thead>\n",
              "    <tr style=\"text-align: right;\">\n",
              "      <th></th>\n",
              "      <th>Name</th>\n",
              "      <th>County</th>\n",
              "      <th>pop_april_2010</th>\n",
              "    </tr>\n",
              "  </thead>\n",
              "  <tbody>\n",
              "    <tr>\n",
              "      <th>0</th>\n",
              "      <td>Oakland</td>\n",
              "      <td>Alameda</td>\n",
              "      <td>390724</td>\n",
              "    </tr>\n",
              "    <tr>\n",
              "      <th>1</th>\n",
              "      <td>Oakland</td>\n",
              "      <td>Alameda</td>\n",
              "      <td>390724</td>\n",
              "    </tr>\n",
              "    <tr>\n",
              "      <th>2</th>\n",
              "      <td>Oakland</td>\n",
              "      <td>Alameda</td>\n",
              "      <td>390724</td>\n",
              "    </tr>\n",
              "    <tr>\n",
              "      <th>3</th>\n",
              "      <td>Oakland</td>\n",
              "      <td>Alameda</td>\n",
              "      <td>390724</td>\n",
              "    </tr>\n",
              "    <tr>\n",
              "      <th>4</th>\n",
              "      <td>Oakland</td>\n",
              "      <td>Alameda</td>\n",
              "      <td>390724</td>\n",
              "    </tr>\n",
              "  </tbody>\n",
              "</table>\n",
              "</div>"
            ],
            "text/plain": [
              "      Name   County  pop_april_2010\n",
              "0  Oakland  Alameda          390724\n",
              "1  Oakland  Alameda          390724\n",
              "2  Oakland  Alameda          390724\n",
              "3  Oakland  Alameda          390724\n",
              "4  Oakland  Alameda          390724"
            ]
          },
          "metadata": {
            "tags": []
          },
          "execution_count": 41
        }
      ]
    },
    {
      "cell_type": "code",
      "metadata": {
        "id": "T112CKhhKz__",
        "colab_type": "code",
        "outputId": "751b5edd-c8a1-4815-bebb-f430a806bd8b",
        "colab": {
          "base_uri": "https://localhost:8080/",
          "height": 203
        }
      },
      "source": [
        "res_big.columns = ['nearest_big_city_name', 'nearest_big_city_county', 'nearest_big_city_pop_april_2010']\n",
        "res_big.head()"
      ],
      "execution_count": 0,
      "outputs": [
        {
          "output_type": "execute_result",
          "data": {
            "text/html": [
              "<div>\n",
              "<style scoped>\n",
              "    .dataframe tbody tr th:only-of-type {\n",
              "        vertical-align: middle;\n",
              "    }\n",
              "\n",
              "    .dataframe tbody tr th {\n",
              "        vertical-align: top;\n",
              "    }\n",
              "\n",
              "    .dataframe thead th {\n",
              "        text-align: right;\n",
              "    }\n",
              "</style>\n",
              "<table border=\"1\" class=\"dataframe\">\n",
              "  <thead>\n",
              "    <tr style=\"text-align: right;\">\n",
              "      <th></th>\n",
              "      <th>nearest_big_city_name</th>\n",
              "      <th>nearest_big_city_county</th>\n",
              "      <th>nearest_big_city_pop_april_2010</th>\n",
              "    </tr>\n",
              "  </thead>\n",
              "  <tbody>\n",
              "    <tr>\n",
              "      <th>0</th>\n",
              "      <td>Oakland</td>\n",
              "      <td>Alameda</td>\n",
              "      <td>390724</td>\n",
              "    </tr>\n",
              "    <tr>\n",
              "      <th>1</th>\n",
              "      <td>Oakland</td>\n",
              "      <td>Alameda</td>\n",
              "      <td>390724</td>\n",
              "    </tr>\n",
              "    <tr>\n",
              "      <th>2</th>\n",
              "      <td>Oakland</td>\n",
              "      <td>Alameda</td>\n",
              "      <td>390724</td>\n",
              "    </tr>\n",
              "    <tr>\n",
              "      <th>3</th>\n",
              "      <td>Oakland</td>\n",
              "      <td>Alameda</td>\n",
              "      <td>390724</td>\n",
              "    </tr>\n",
              "    <tr>\n",
              "      <th>4</th>\n",
              "      <td>Oakland</td>\n",
              "      <td>Alameda</td>\n",
              "      <td>390724</td>\n",
              "    </tr>\n",
              "  </tbody>\n",
              "</table>\n",
              "</div>"
            ],
            "text/plain": [
              "  nearest_big_city_name  ... nearest_big_city_pop_april_2010\n",
              "0               Oakland  ...                          390724\n",
              "1               Oakland  ...                          390724\n",
              "2               Oakland  ...                          390724\n",
              "3               Oakland  ...                          390724\n",
              "4               Oakland  ...                          390724\n",
              "\n",
              "[5 rows x 3 columns]"
            ]
          },
          "metadata": {
            "tags": []
          },
          "execution_count": 42
        }
      ]
    },
    {
      "cell_type": "code",
      "metadata": {
        "id": "iU2N4mDELjTG",
        "colab_type": "code",
        "colab": {}
      },
      "source": [
        "housing = pd.concat([housing, res_big], axis=1)\n",
        "housing.to_csv('/content/drive/My Drive/data/housing_nearest_big_city.csv', index=None)"
      ],
      "execution_count": 0,
      "outputs": []
    },
    {
      "cell_type": "code",
      "metadata": {
        "id": "k0CRYbioLrVY",
        "colab_type": "code",
        "outputId": "07356f9c-d1c7-4523-c8b6-a46be8a46f64",
        "colab": {
          "base_uri": "https://localhost:8080/",
          "height": 223
        }
      },
      "source": [
        "housing.head()"
      ],
      "execution_count": 0,
      "outputs": [
        {
          "output_type": "execute_result",
          "data": {
            "text/html": [
              "<div>\n",
              "<style scoped>\n",
              "    .dataframe tbody tr th:only-of-type {\n",
              "        vertical-align: middle;\n",
              "    }\n",
              "\n",
              "    .dataframe tbody tr th {\n",
              "        vertical-align: top;\n",
              "    }\n",
              "\n",
              "    .dataframe thead th {\n",
              "        text-align: right;\n",
              "    }\n",
              "</style>\n",
              "<table border=\"1\" class=\"dataframe\">\n",
              "  <thead>\n",
              "    <tr style=\"text-align: right;\">\n",
              "      <th></th>\n",
              "      <th>longitude</th>\n",
              "      <th>latitude</th>\n",
              "      <th>housing_median_age</th>\n",
              "      <th>total_rooms</th>\n",
              "      <th>total_bedrooms</th>\n",
              "      <th>population</th>\n",
              "      <th>households</th>\n",
              "      <th>median_income</th>\n",
              "      <th>median_house_value</th>\n",
              "      <th>ocean_proximity</th>\n",
              "      <th>nearest_city_name</th>\n",
              "      <th>nearest_city_county</th>\n",
              "      <th>nearest_city_pop_april_2010</th>\n",
              "      <th>nearest_big_city_name</th>\n",
              "      <th>nearest_big_city_county</th>\n",
              "      <th>nearest_big_city_pop_april_2010</th>\n",
              "    </tr>\n",
              "  </thead>\n",
              "  <tbody>\n",
              "    <tr>\n",
              "      <th>0</th>\n",
              "      <td>-122.23</td>\n",
              "      <td>37.88</td>\n",
              "      <td>41.0</td>\n",
              "      <td>880.0</td>\n",
              "      <td>129.0</td>\n",
              "      <td>322.0</td>\n",
              "      <td>126.0</td>\n",
              "      <td>8.3252</td>\n",
              "      <td>452600.0</td>\n",
              "      <td>NEAR BAY</td>\n",
              "      <td>Berkeley</td>\n",
              "      <td>Alameda</td>\n",
              "      <td>112580</td>\n",
              "      <td>Oakland</td>\n",
              "      <td>Alameda</td>\n",
              "      <td>390724</td>\n",
              "    </tr>\n",
              "    <tr>\n",
              "      <th>1</th>\n",
              "      <td>-122.22</td>\n",
              "      <td>37.86</td>\n",
              "      <td>21.0</td>\n",
              "      <td>7099.0</td>\n",
              "      <td>1106.0</td>\n",
              "      <td>2401.0</td>\n",
              "      <td>1138.0</td>\n",
              "      <td>8.3014</td>\n",
              "      <td>358500.0</td>\n",
              "      <td>NEAR BAY</td>\n",
              "      <td>Orinda</td>\n",
              "      <td>Contra Costa</td>\n",
              "      <td>17643</td>\n",
              "      <td>Oakland</td>\n",
              "      <td>Alameda</td>\n",
              "      <td>390724</td>\n",
              "    </tr>\n",
              "    <tr>\n",
              "      <th>2</th>\n",
              "      <td>-122.24</td>\n",
              "      <td>37.85</td>\n",
              "      <td>52.0</td>\n",
              "      <td>1467.0</td>\n",
              "      <td>190.0</td>\n",
              "      <td>496.0</td>\n",
              "      <td>177.0</td>\n",
              "      <td>7.2574</td>\n",
              "      <td>352100.0</td>\n",
              "      <td>NEAR BAY</td>\n",
              "      <td>Piedmont</td>\n",
              "      <td>Alameda</td>\n",
              "      <td>10667</td>\n",
              "      <td>Oakland</td>\n",
              "      <td>Alameda</td>\n",
              "      <td>390724</td>\n",
              "    </tr>\n",
              "    <tr>\n",
              "      <th>3</th>\n",
              "      <td>-122.25</td>\n",
              "      <td>37.85</td>\n",
              "      <td>52.0</td>\n",
              "      <td>1274.0</td>\n",
              "      <td>235.0</td>\n",
              "      <td>558.0</td>\n",
              "      <td>219.0</td>\n",
              "      <td>5.6431</td>\n",
              "      <td>341300.0</td>\n",
              "      <td>NEAR BAY</td>\n",
              "      <td>Berkeley</td>\n",
              "      <td>Alameda</td>\n",
              "      <td>112580</td>\n",
              "      <td>Oakland</td>\n",
              "      <td>Alameda</td>\n",
              "      <td>390724</td>\n",
              "    </tr>\n",
              "    <tr>\n",
              "      <th>4</th>\n",
              "      <td>-122.25</td>\n",
              "      <td>37.85</td>\n",
              "      <td>52.0</td>\n",
              "      <td>1627.0</td>\n",
              "      <td>280.0</td>\n",
              "      <td>565.0</td>\n",
              "      <td>259.0</td>\n",
              "      <td>3.8462</td>\n",
              "      <td>342200.0</td>\n",
              "      <td>NEAR BAY</td>\n",
              "      <td>Berkeley</td>\n",
              "      <td>Alameda</td>\n",
              "      <td>112580</td>\n",
              "      <td>Oakland</td>\n",
              "      <td>Alameda</td>\n",
              "      <td>390724</td>\n",
              "    </tr>\n",
              "  </tbody>\n",
              "</table>\n",
              "</div>"
            ],
            "text/plain": [
              "   longitude  latitude  ...  nearest_big_city_county  nearest_big_city_pop_april_2010\n",
              "0    -122.23     37.88  ...                  Alameda                           390724\n",
              "1    -122.22     37.86  ...                  Alameda                           390724\n",
              "2    -122.24     37.85  ...                  Alameda                           390724\n",
              "3    -122.25     37.85  ...                  Alameda                           390724\n",
              "4    -122.25     37.85  ...                  Alameda                           390724\n",
              "\n",
              "[5 rows x 16 columns]"
            ]
          },
          "metadata": {
            "tags": []
          },
          "execution_count": 44
        }
      ]
    },
    {
      "cell_type": "code",
      "metadata": {
        "id": "8Wg7jgopLsWE",
        "colab_type": "code",
        "colab": {}
      },
      "source": [
        ""
      ],
      "execution_count": 0,
      "outputs": []
    }
  ]
}