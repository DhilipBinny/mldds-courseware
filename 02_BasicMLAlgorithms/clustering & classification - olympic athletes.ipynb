{
 "cells": [
  {
   "cell_type": "markdown",
   "metadata": {},
   "source": [
    "## Clustering & Classification: Olympic Atheletes\n",
    "\n",
    "In this exercise, the task is to explore the olympic athelete dataset.\n",
    "\n",
    "Features to start with:\n",
    " - Age\n",
    " - Height\n",
    " - Weight\n",
    "\n",
    "Non-Features:\n",
    " - Sex (for splitting dataset)\n",
    " - Sport (for splitting dataset)\n",
    " - Year (for filtering NaN)\n",
    " - Medal (our truth comparison?)\n",
    "\n",
    "Task:\n",
    "- Split dataset by Sport\n",
    "- Run classification algorithms to predict the medals won\n",
    "- Try clustering algorithms to see if we can get the clusters to correlate to type of medals won.\n",
    "  - KMeans\n",
    "  - Gaussian Mixture Models\n",
    "  - DBSCAN\n"
   ]
  },
  {
   "cell_type": "markdown",
   "metadata": {},
   "source": [
    "## Dataset\n",
    "\n",
    "https://www.kaggle.com/heesoo37/120-years-of-olympic-history-athletes-and-results\n",
    "\n",
    "Columns:\n",
    "\n",
    "```\n",
    "ID - Athelete ID\n",
    "Name\n",
    "Sex\n",
    "Age\n",
    "Height\n",
    "Weight\n",
    "Team\n",
    "NOC - Code Name of Country (represented by the athelete)\n",
    "Games - Which Olympic Games (year and city)\n",
    "Year\n",
    "Season - Winter or Summer Olympics\n",
    "City - City that held the games\n",
    "Sport - Sport\n",
    "Event - Sport Event (e.g. Basketball finals)\n",
    "Medal - Gold, Silver, Bronze, or NaN (for No Medal)\n",
    "```\n",
    "\n",
    "Note that there can be multiple entries per athelete, since an athelete can participate in multiple events, or return multiple years."
   ]
  },
  {
   "cell_type": "code",
   "execution_count": 359,
   "metadata": {},
   "outputs": [],
   "source": [
    "import pandas as pd\n",
    "import matplotlib.pyplot as plt"
   ]
  },
  {
   "cell_type": "markdown",
   "metadata": {},
   "source": [
    "## Explore Dataset\n",
    "\n",
    "Features for partitioning the dataset:\n",
    " - Sport\n",
    " - Sex\n",
    "\n",
    "Features to cluster:\n",
    " - Age\n",
    " - Height\n",
    " - Weight\n",
    " - Team\n",
    " - Year\n",
    " - Medal (this is our clustering comparison)\n",
    "\n",
    "Data Processing\n",
    " - Convert NaN medals to 'None'\n",
    " - Drop rows earlier than 1960\n",
    "   - because of too many missing Height and Weight values\n",
    "   - see analysis here: https://www.kaggle.com/goldendime/advanced-techniques-for-dealing-w-missing-data\n",
    "    - Fill other NaN values with mean (this is a crude interpolation)\n",
    " - Label Encode\n",
    " - Scale"
   ]
  },
  {
   "cell_type": "code",
   "execution_count": 360,
   "metadata": {},
   "outputs": [
    {
     "data": {
      "text/html": [
       "<div>\n",
       "<style scoped>\n",
       "    .dataframe tbody tr th:only-of-type {\n",
       "        vertical-align: middle;\n",
       "    }\n",
       "\n",
       "    .dataframe tbody tr th {\n",
       "        vertical-align: top;\n",
       "    }\n",
       "\n",
       "    .dataframe thead th {\n",
       "        text-align: right;\n",
       "    }\n",
       "</style>\n",
       "<table border=\"1\" class=\"dataframe\">\n",
       "  <thead>\n",
       "    <tr style=\"text-align: right;\">\n",
       "      <th></th>\n",
       "      <th>Sex</th>\n",
       "      <th>Age</th>\n",
       "      <th>Height</th>\n",
       "      <th>Weight</th>\n",
       "      <th>Team</th>\n",
       "      <th>Year</th>\n",
       "      <th>Sport</th>\n",
       "      <th>Medal</th>\n",
       "    </tr>\n",
       "  </thead>\n",
       "  <tbody>\n",
       "    <tr>\n",
       "      <th>0</th>\n",
       "      <td>M</td>\n",
       "      <td>24.0</td>\n",
       "      <td>180.0</td>\n",
       "      <td>80.0</td>\n",
       "      <td>China</td>\n",
       "      <td>1992-01-01</td>\n",
       "      <td>Basketball</td>\n",
       "      <td>NaN</td>\n",
       "    </tr>\n",
       "    <tr>\n",
       "      <th>1</th>\n",
       "      <td>M</td>\n",
       "      <td>23.0</td>\n",
       "      <td>170.0</td>\n",
       "      <td>60.0</td>\n",
       "      <td>China</td>\n",
       "      <td>2012-01-01</td>\n",
       "      <td>Judo</td>\n",
       "      <td>NaN</td>\n",
       "    </tr>\n",
       "    <tr>\n",
       "      <th>2</th>\n",
       "      <td>M</td>\n",
       "      <td>24.0</td>\n",
       "      <td>NaN</td>\n",
       "      <td>NaN</td>\n",
       "      <td>Denmark</td>\n",
       "      <td>1920-01-01</td>\n",
       "      <td>Football</td>\n",
       "      <td>NaN</td>\n",
       "    </tr>\n",
       "    <tr>\n",
       "      <th>3</th>\n",
       "      <td>M</td>\n",
       "      <td>34.0</td>\n",
       "      <td>NaN</td>\n",
       "      <td>NaN</td>\n",
       "      <td>Denmark/Sweden</td>\n",
       "      <td>1900-01-01</td>\n",
       "      <td>Tug-Of-War</td>\n",
       "      <td>Gold</td>\n",
       "    </tr>\n",
       "    <tr>\n",
       "      <th>4</th>\n",
       "      <td>F</td>\n",
       "      <td>21.0</td>\n",
       "      <td>185.0</td>\n",
       "      <td>82.0</td>\n",
       "      <td>Netherlands</td>\n",
       "      <td>1988-01-01</td>\n",
       "      <td>Speed Skating</td>\n",
       "      <td>NaN</td>\n",
       "    </tr>\n",
       "  </tbody>\n",
       "</table>\n",
       "</div>"
      ],
      "text/plain": [
       "  Sex   Age  Height  Weight            Team       Year          Sport Medal\n",
       "0   M  24.0   180.0    80.0           China 1992-01-01     Basketball   NaN\n",
       "1   M  23.0   170.0    60.0           China 2012-01-01           Judo   NaN\n",
       "2   M  24.0     NaN     NaN         Denmark 1920-01-01       Football   NaN\n",
       "3   M  34.0     NaN     NaN  Denmark/Sweden 1900-01-01     Tug-Of-War  Gold\n",
       "4   F  21.0   185.0    82.0     Netherlands 1988-01-01  Speed Skating   NaN"
      ]
     },
     "execution_count": 360,
     "metadata": {},
     "output_type": "execute_result"
    }
   ],
   "source": [
    "df = pd.read_csv('D:/tmp/olympic-atheletes/athlete_events.csv',\n",
    "                 usecols=['Age', 'Height', 'Weight',\n",
    "                          'Team', 'Sex', 'Sport', 'Medal', 'Year'],\n",
    "                 parse_dates=['Year'])\n",
    "df.head()"
   ]
  },
  {
   "cell_type": "code",
   "execution_count": 361,
   "metadata": {},
   "outputs": [
    {
     "data": {
      "text/html": [
       "<div>\n",
       "<style scoped>\n",
       "    .dataframe tbody tr th:only-of-type {\n",
       "        vertical-align: middle;\n",
       "    }\n",
       "\n",
       "    .dataframe tbody tr th {\n",
       "        vertical-align: top;\n",
       "    }\n",
       "\n",
       "    .dataframe thead th {\n",
       "        text-align: right;\n",
       "    }\n",
       "</style>\n",
       "<table border=\"1\" class=\"dataframe\">\n",
       "  <thead>\n",
       "    <tr style=\"text-align: right;\">\n",
       "      <th></th>\n",
       "      <th>Age</th>\n",
       "      <th>Height</th>\n",
       "      <th>Weight</th>\n",
       "    </tr>\n",
       "  </thead>\n",
       "  <tbody>\n",
       "    <tr>\n",
       "      <th>count</th>\n",
       "      <td>261642.000000</td>\n",
       "      <td>210945.000000</td>\n",
       "      <td>208241.000000</td>\n",
       "    </tr>\n",
       "    <tr>\n",
       "      <th>mean</th>\n",
       "      <td>25.556898</td>\n",
       "      <td>175.338970</td>\n",
       "      <td>70.702393</td>\n",
       "    </tr>\n",
       "    <tr>\n",
       "      <th>std</th>\n",
       "      <td>6.393561</td>\n",
       "      <td>10.518462</td>\n",
       "      <td>14.348020</td>\n",
       "    </tr>\n",
       "    <tr>\n",
       "      <th>min</th>\n",
       "      <td>10.000000</td>\n",
       "      <td>127.000000</td>\n",
       "      <td>25.000000</td>\n",
       "    </tr>\n",
       "    <tr>\n",
       "      <th>25%</th>\n",
       "      <td>21.000000</td>\n",
       "      <td>168.000000</td>\n",
       "      <td>60.000000</td>\n",
       "    </tr>\n",
       "    <tr>\n",
       "      <th>50%</th>\n",
       "      <td>24.000000</td>\n",
       "      <td>175.000000</td>\n",
       "      <td>70.000000</td>\n",
       "    </tr>\n",
       "    <tr>\n",
       "      <th>75%</th>\n",
       "      <td>28.000000</td>\n",
       "      <td>183.000000</td>\n",
       "      <td>79.000000</td>\n",
       "    </tr>\n",
       "    <tr>\n",
       "      <th>max</th>\n",
       "      <td>97.000000</td>\n",
       "      <td>226.000000</td>\n",
       "      <td>214.000000</td>\n",
       "    </tr>\n",
       "  </tbody>\n",
       "</table>\n",
       "</div>"
      ],
      "text/plain": [
       "                 Age         Height         Weight\n",
       "count  261642.000000  210945.000000  208241.000000\n",
       "mean       25.556898     175.338970      70.702393\n",
       "std         6.393561      10.518462      14.348020\n",
       "min        10.000000     127.000000      25.000000\n",
       "25%        21.000000     168.000000      60.000000\n",
       "50%        24.000000     175.000000      70.000000\n",
       "75%        28.000000     183.000000      79.000000\n",
       "max        97.000000     226.000000     214.000000"
      ]
     },
     "execution_count": 361,
     "metadata": {},
     "output_type": "execute_result"
    }
   ],
   "source": [
    "df.describe()"
   ]
  },
  {
   "cell_type": "code",
   "execution_count": 362,
   "metadata": {},
   "outputs": [
    {
     "data": {
      "text/plain": [
       "Sex               object\n",
       "Age              float64\n",
       "Height           float64\n",
       "Weight           float64\n",
       "Team              object\n",
       "Year      datetime64[ns]\n",
       "Sport             object\n",
       "Medal             object\n",
       "dtype: object"
      ]
     },
     "execution_count": 362,
     "metadata": {},
     "output_type": "execute_result"
    }
   ],
   "source": [
    "df.dtypes"
   ]
  },
  {
   "cell_type": "code",
   "execution_count": 363,
   "metadata": {},
   "outputs": [
    {
     "data": {
      "text/plain": [
       "array([nan, 'Gold', 'Bronze', 'Silver'], dtype=object)"
      ]
     },
     "execution_count": 363,
     "metadata": {},
     "output_type": "execute_result"
    }
   ],
   "source": [
    "df.Medal.unique()"
   ]
  },
  {
   "cell_type": "code",
   "execution_count": 364,
   "metadata": {},
   "outputs": [],
   "source": [
    "# Convert NaN medals to 'None'\n",
    "\n",
    "df['Medal'].fillna(value='None', inplace=True)"
   ]
  },
  {
   "cell_type": "code",
   "execution_count": 365,
   "metadata": {},
   "outputs": [
    {
     "data": {
      "text/plain": [
       "array(['None', 'Gold', 'Bronze', 'Silver'], dtype=object)"
      ]
     },
     "execution_count": 365,
     "metadata": {},
     "output_type": "execute_result"
    }
   ],
   "source": [
    "df.Medal.unique()"
   ]
  },
  {
   "cell_type": "code",
   "execution_count": 366,
   "metadata": {},
   "outputs": [],
   "source": [
    "# Drop rows earlier than 1960\n",
    "df.drop(index=df[df.Year < '1960'].index, inplace=True)"
   ]
  },
  {
   "cell_type": "code",
   "execution_count": 367,
   "metadata": {},
   "outputs": [
    {
     "name": "stdout",
     "output_type": "stream",
     "text": [
      "Empty DataFrame\n",
      "Columns: [Sex, Age, Height, Weight, Team, Year, Sport, Medal]\n",
      "Index: []\n"
     ]
    }
   ],
   "source": [
    "# check if there are still entries before 1960\n",
    "print(df[df.Year < '1960'])"
   ]
  },
  {
   "cell_type": "code",
   "execution_count": 368,
   "metadata": {},
   "outputs": [
    {
     "name": "stdout",
     "output_type": "stream",
     "text": [
      "<class 'pandas.core.frame.DataFrame'>\n",
      "Int64Index: 209072 entries, 0 to 271115\n",
      "Data columns (total 8 columns):\n",
      "Sex       209072 non-null object\n",
      "Age       207957 non-null float64\n",
      "Height    197953 non-null float64\n",
      "Weight    197248 non-null float64\n",
      "Team      209072 non-null object\n",
      "Year      209072 non-null datetime64[ns]\n",
      "Sport     209072 non-null object\n",
      "Medal     209072 non-null object\n",
      "dtypes: datetime64[ns](1), float64(3), object(4)\n",
      "memory usage: 14.4+ MB\n"
     ]
    }
   ],
   "source": [
    "df.info()"
   ]
  },
  {
   "cell_type": "code",
   "execution_count": 369,
   "metadata": {},
   "outputs": [
    {
     "name": "stdout",
     "output_type": "stream",
     "text": [
      "<class 'pandas.core.frame.DataFrame'>\n",
      "MultiIndex: 97 entries, (Alpine Skiing, F) to (Wrestling, M)\n",
      "Data columns (total 1 columns):\n",
      "Height    97 non-null float64\n",
      "dtypes: float64(1)\n",
      "memory usage: 1.5+ KB\n"
     ]
    }
   ],
   "source": [
    "# try to see if we can fill na using mean\n",
    "mean_heights = pd.DataFrame(df.groupby(['Sport', 'Sex'])['Height'].mean())\n",
    "\n",
    "mean_heights.info()"
   ]
  },
  {
   "cell_type": "code",
   "execution_count": 370,
   "metadata": {
    "scrolled": false
   },
   "outputs": [],
   "source": [
    "# Since all heights are available, let's fillna with them\n",
    "# based on sport and gender\n",
    "#\n",
    "# fillna does nothing if the value isn't NaN, so it is\n",
    "# safe to loop over and do a fillna per combination\n",
    "\n",
    "for row in mean_heights.itertuples():\n",
    "    sport = row.Index[0]\n",
    "    gender = row.Index[1]\n",
    "    height = row[1] # row.Height also works, but this is more generic\n",
    "                    # and allows us to abstract this into a function\n",
    "    \n",
    "    # fillna inplace=True doesn't work because\n",
    "    # somehow internally a copy is used and not a view (bug?)\n",
    "    df.loc[(df.Sport == sport) & (df.Sex == gender), 'Height'] = \\\n",
    "        df.loc[(df.Sport == sport) & (df.Sex == gender), 'Height'].fillna(height)"
   ]
  },
  {
   "cell_type": "code",
   "execution_count": 371,
   "metadata": {},
   "outputs": [
    {
     "name": "stdout",
     "output_type": "stream",
     "text": [
      "<class 'pandas.core.frame.DataFrame'>\n",
      "Int64Index: 209072 entries, 0 to 271115\n",
      "Data columns (total 8 columns):\n",
      "Sex       209072 non-null object\n",
      "Age       207957 non-null float64\n",
      "Height    209072 non-null float64\n",
      "Weight    197248 non-null float64\n",
      "Team      209072 non-null object\n",
      "Year      209072 non-null datetime64[ns]\n",
      "Sport     209072 non-null object\n",
      "Medal     209072 non-null object\n",
      "dtypes: datetime64[ns](1), float64(3), object(4)\n",
      "memory usage: 14.4+ MB\n"
     ]
    }
   ],
   "source": [
    "df.info()"
   ]
  },
  {
   "cell_type": "code",
   "execution_count": 372,
   "metadata": {},
   "outputs": [],
   "source": [
    "# repeat the same process for weight and age\n",
    "# define a helper function\n",
    "\n",
    "def fillna_with_mean_by_sport_and_gender(df, column):\n",
    "    \"\"\"Fills NaN values using the mean value, grouped by\n",
    "    sport and gender\n",
    "    Args:\n",
    "        df: dataframe to update\n",
    "        column: column to fillna\n",
    "    \"\"\"\n",
    "    means = pd.DataFrame(df.groupby(['Sport', 'Sex'])[column].mean())\n",
    "\n",
    "    for row in means.itertuples():\n",
    "        sport = row.Index[0]\n",
    "        gender = row.Index[1]\n",
    "        mean = row[1]\n",
    "    \n",
    "        # fillna inplace=True doesn't work because\n",
    "        # somehow internally a copy is used and not a view (bug?)\n",
    "        df.loc[(df.Sport == sport) & (df.Sex == gender), column] = \\\n",
    "            df.loc[(df.Sport == sport) & (df.Sex == gender), column].fillna(mean)"
   ]
  },
  {
   "cell_type": "code",
   "execution_count": 373,
   "metadata": {},
   "outputs": [
    {
     "name": "stdout",
     "output_type": "stream",
     "text": [
      "<class 'pandas.core.frame.DataFrame'>\n",
      "Int64Index: 209072 entries, 0 to 271115\n",
      "Data columns (total 8 columns):\n",
      "Sex       209072 non-null object\n",
      "Age       209072 non-null float64\n",
      "Height    209072 non-null float64\n",
      "Weight    209072 non-null float64\n",
      "Team      209072 non-null object\n",
      "Year      209072 non-null datetime64[ns]\n",
      "Sport     209072 non-null object\n",
      "Medal     209072 non-null object\n",
      "dtypes: datetime64[ns](1), float64(3), object(4)\n",
      "memory usage: 14.4+ MB\n"
     ]
    }
   ],
   "source": [
    "fillna_with_mean_by_sport_and_gender(df, 'Weight')\n",
    "fillna_with_mean_by_sport_and_gender(df, 'Age')\n",
    "df.info()"
   ]
  },
  {
   "cell_type": "code",
   "execution_count": null,
   "metadata": {},
   "outputs": [],
   "source": []
  },
  {
   "cell_type": "code",
   "execution_count": null,
   "metadata": {},
   "outputs": [],
   "source": []
  },
  {
   "cell_type": "markdown",
   "metadata": {},
   "source": [
    "### Partition dataset and select features"
   ]
  },
  {
   "cell_type": "code",
   "execution_count": 337,
   "metadata": {},
   "outputs": [
    {
     "data": {
      "text/plain": [
       "Sport                  Sex\n",
       "Alpine Skiing          F       2997\n",
       "                       M       4588\n",
       "Archery                F        974\n",
       "                       M       1095\n",
       "Athletics              F      10571\n",
       "                       M      17521\n",
       "Badminton              F        740\n",
       "                       M        717\n",
       "Baseball               M        894\n",
       "Basketball             F       1256\n",
       "                       M       2331\n",
       "Beach Volleyball       F        276\n",
       "                       M        288\n",
       "Biathlon               F       1863\n",
       "                       M       3030\n",
       "Bobsleigh              F        143\n",
       "                       M       2267\n",
       "Boxing                 F         72\n",
       "                       M       4589\n",
       "Canoeing               F       1347\n",
       "                       M       4212\n",
       "Cross Country Skiing   F       3295\n",
       "                       M       4806\n",
       "Curling                F        222\n",
       "                       M        225\n",
       "Cycling                F       1394\n",
       "                       M       6523\n",
       "Diving                 F        971\n",
       "                       M       1088\n",
       "Equestrianism          F       1215\n",
       "                              ...  \n",
       "Skeleton               F         66\n",
       "                       M        108\n",
       "Ski Jumping            F         30\n",
       "                       M       2080\n",
       "Snowboarding           F        416\n",
       "                       M        520\n",
       "Softball               F        478\n",
       "Speed Skating          F       2081\n",
       "                       M       2628\n",
       "Swimming               F       8875\n",
       "                       M      11132\n",
       "Synchronized Swimming  F        909\n",
       "Table Tennis           F        953\n",
       "                       M       1002\n",
       "Taekwondo              F        299\n",
       "                       M        307\n",
       "Tennis                 F        987\n",
       "                       M       1037\n",
       "Trampolining           F         76\n",
       "                       M         76\n",
       "Triathlon              F        263\n",
       "                       M        266\n",
       "Volleyball             F       1543\n",
       "                       M       1861\n",
       "Water Polo             F        488\n",
       "                       M       2271\n",
       "Weightlifting          F        463\n",
       "                       M       2705\n",
       "Wrestling              F        304\n",
       "                       M       4895\n",
       "Name: Medal, Length: 97, dtype: int64"
      ]
     },
     "execution_count": 337,
     "metadata": {},
     "output_type": "execute_result"
    }
   ],
   "source": [
    "# see which cluster we want to create by counting\n",
    "# the number of entries\n",
    "df.groupby(['Sport', 'Sex'])['Medal'].count()"
   ]
  },
  {
   "cell_type": "code",
   "execution_count": 391,
   "metadata": {},
   "outputs": [],
   "source": [
    "from sklearn.preprocessing import StandardScaler\n",
    "from sklearn.decomposition import PCA\n",
    "\n",
    "def plot_pca(df, sport, gender):\n",
    "    sport_df = df.loc[(df.Sport == sport) & (df.Sex == gender) & \\\n",
    "                      (df.Medal != 'None')]\n",
    "\n",
    "    X = sport_df.loc[:, ['Height', 'Weight', 'Age']]\n",
    "    medals = sport_df.Medal\n",
    "    \n",
    "    X_2d = PCA(n_components=2).fit_transform(StandardScaler().fit_transform(X))\n",
    "\n",
    "    fig, ax = plt.subplots()\n",
    "    \n",
    "    medal_types = ['Gold', 'Silver', 'Bronze']\n",
    "    colors = ['gold', 'silver', 'brown']\n",
    "\n",
    "    for medal, color in zip(medal_types, colors):\n",
    "        ax.scatter(X_2d[medals==medal, 0],\n",
    "                   X_2d[medals==medal, 1],\n",
    "                   color=color, label=medal)\n",
    "\n",
    "    ax.set(title='PCA plot for %s, %s' % (sport, gender))\n",
    "        \n",
    "    ax.legend()"
   ]
  },
  {
   "cell_type": "code",
   "execution_count": 392,
   "metadata": {},
   "outputs": [
    {
     "data": {
      "image/png": "[encoded data removed]",
      "text/plain": [
       "<Figure size 432x288 with 1 Axes>"
      ]
     },
     "metadata": {},
     "output_type": "display_data"
    }
   ],
   "source": [
    "# Find a sport that we can cluster\n",
    "\n",
    "plot_pca(df, 'Swimming', 'F')"
   ]
  },
  {
   "cell_type": "code",
   "execution_count": 394,
   "metadata": {},
   "outputs": [
    {
     "data": {
      "image/png": "[encoded data removed]",
      "text/plain": [
       "<Figure size 432x288 with 1 Axes>"
      ]
     },
     "metadata": {},
     "output_type": "display_data"
    }
   ],
   "source": [
    "plot_pca(df, 'Weightlifting', 'M')"
   ]
  },
  {
   "cell_type": "code",
   "execution_count": null,
   "metadata": {},
   "outputs": [],
   "source": []
  },
  {
   "cell_type": "markdown",
   "metadata": {},
   "source": [
    "## Classification"
   ]
  },
  {
   "cell_type": "code",
   "execution_count": null,
   "metadata": {},
   "outputs": [],
   "source": []
  },
  {
   "cell_type": "code",
   "execution_count": null,
   "metadata": {},
   "outputs": [],
   "source": []
  },
  {
   "cell_type": "markdown",
   "metadata": {},
   "source": [
    "## Clustering\n",
    "\n",
    "Can we transform the dataset and then cluster?"
   ]
  },
  {
   "cell_type": "code",
   "execution_count": null,
   "metadata": {},
   "outputs": [],
   "source": []
  }
 ],
 "metadata": {
  "kernelspec": {
   "display_name": "Python 3",
   "language": "python",
   "name": "python3"
  },
  "language_info": {
   "codemirror_mode": {
    "name": "ipython",
    "version": 3
   },
   "file_extension": ".py",
   "mimetype": "text/x-python",
   "name": "python",
   "nbconvert_exporter": "python",
   "pygments_lexer": "ipython3",
   "version": "3.6.5"
  }
 },
 "nbformat": 4,
 "nbformat_minor": 2
}
