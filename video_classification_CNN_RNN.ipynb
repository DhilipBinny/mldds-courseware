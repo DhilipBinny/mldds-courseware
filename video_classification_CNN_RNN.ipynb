{
  "nbformat": 4,
  "nbformat_minor": 0,
  "metadata": {
    "colab": {
      "name": "video classification CNN-RNN.ipynb",
      "provenance": [],
      "collapsed_sections": [],
      "toc_visible": true,
      "authorship_tag": "ABX9TyMhjwOaIshIp0fNJOzfyCeE",
      "include_colab_link": true
    },
    "kernelspec": {
      "name": "python3",
      "display_name": "Python 3"
    }
  },
  "cells": [
    {
      "cell_type": "markdown",
      "metadata": {
        "id": "view-in-github",
        "colab_type": "text"
      },
      "source": [
        "<a href=\"https://colab.research.google.com/github/lisaong/mldds-courseware/blob/master/video_classification_CNN_RNN.ipynb\" target=\"_parent\"><img src=\"https://colab.research.google.com/assets/colab-badge.svg\" alt=\"Open In Colab\"/></a>"
      ]
    },
    {
      "cell_type": "markdown",
      "metadata": {
        "id": "eWs2Gef1P6Fe",
        "colab_type": "text"
      },
      "source": [
        "# Video Classification with RNN\n",
        "\n",
        "This notebook demonstrates video classification of action videos using a time-distributed CNN + RNN.\n",
        "\n",
        "The CNN will use the InceptionV3 model (transfer learning) to perform feature extraction.\n",
        "\n",
        "1. Run on Colab\n",
        "2. Runtime -> Change Runtime Type: GPU\n",
        "\n",
        "We will be using a subset of techniques demonstrated in the more complex example here: https://github.com/harvitronix/five-video-classification-methods\n",
        "\n",
        "We will also be using a small dataset to demonstrate how this works. Only 5 classes were selected from the UCF101 video classification dataset.\n",
        "\n",
        "Incidentally, this entire dataset is also part of Tensorflow (but already preprocessed): https://www.tensorflow.org/datasets/catalog/ucf101\n"
      ]
    },
    {
      "cell_type": "code",
      "metadata": {
        "id": "OX4yeg8nPx0S",
        "colab_type": "code",
        "colab": {
          "base_uri": "https://localhost:8080/",
          "height": 34
        },
        "outputId": "924b1977-3512-430f-e481-cc0f026f08b4"
      },
      "source": [
        "%tensorflow_version 2.x"
      ],
      "execution_count": 1,
      "outputs": [
        {
          "output_type": "stream",
          "text": [
            "TensorFlow 2.x selected.\n"
          ],
          "name": "stdout"
        }
      ]
    },
    {
      "cell_type": "code",
      "metadata": {
        "id": "beEi9eSgxPc6",
        "colab_type": "code",
        "outputId": "a6b6818f-ff61-41cc-aefd-354c543e4a8d",
        "colab": {
          "base_uri": "https://localhost:8080/",
          "height": 153
        }
      },
      "source": [
        "# Ensure that ffmpeg is installed as we will be using it to extract frames\n",
        "!apt install ffmpeg"
      ],
      "execution_count": 2,
      "outputs": [
        {
          "output_type": "stream",
          "text": [
            "Reading package lists... Done\n",
            "Building dependency tree       \n",
            "Reading state information... Done\n",
            "ffmpeg is already the newest version (7:3.4.6-0ubuntu0.18.04.1).\n",
            "The following package was automatically installed and is no longer required:\n",
            "  libnvidia-common-430\n",
            "Use 'apt autoremove' to remove it.\n",
            "0 upgraded, 0 newly installed, 0 to remove and 7 not upgraded.\n"
          ],
          "name": "stdout"
        }
      ]
    },
    {
      "cell_type": "code",
      "metadata": {
        "id": "1040n-QR3Lv3",
        "colab_type": "code",
        "outputId": "432503c3-969a-41c9-d3a4-d63c4da87b4c",
        "colab": {
          "base_uri": "https://localhost:8080/",
          "height": 34
        }
      },
      "source": [
        "# Instead of 101 classes, we will start small, just 5 classes.\n",
        "\n",
        "classes = [\n",
        "  'Archery',\n",
        "  'Basketball',\n",
        "  'CricketBowling',\n",
        "  'Diving',\n",
        "  'Haircut'\n",
        "]\n",
        "\n",
        "classes"
      ],
      "execution_count": 3,
      "outputs": [
        {
          "output_type": "execute_result",
          "data": {
            "text/plain": [
              "['Archery', 'Basketball', 'CricketBowling', 'Diving', 'Haircut']"
            ]
          },
          "metadata": {
            "tags": []
          },
          "execution_count": 3
        }
      ]
    },
    {
      "cell_type": "code",
      "metadata": {
        "id": "nJqSCmlwjBrK",
        "colab_type": "code",
        "colab": {
          "base_uri": "https://localhost:8080/",
          "height": 170
        },
        "outputId": "d031eb2b-4af6-43f4-eb06-d908adadd410"
      },
      "source": [
        "!pip install wget"
      ],
      "execution_count": 4,
      "outputs": [
        {
          "output_type": "stream",
          "text": [
            "Collecting wget\n",
            "  Downloading https://files.pythonhosted.org/packages/47/6a/62e288da7bcda82b935ff0c6cfe542970f04e29c756b0e147251b2fb251f/wget-3.2.zip\n",
            "Building wheels for collected packages: wget\n",
            "  Building wheel for wget (setup.py) ... \u001b[?25l\u001b[?25hdone\n",
            "  Created wheel for wget: filename=wget-3.2-cp36-none-any.whl size=9681 sha256=89025d17a408b62f5a405f00e7aa2ca6ed957bb10ac95b081d482a56ddc38a2b\n",
            "  Stored in directory: /root/.cache/pip/wheels/40/15/30/7d8f7cea2902b4db79e3fea550d7d7b85ecb27ef992b618f3f\n",
            "Successfully built wget\n",
            "Installing collected packages: wget\n",
            "Successfully installed wget-3.2\n"
          ],
          "name": "stdout"
        }
      ]
    },
    {
      "cell_type": "code",
      "metadata": {
        "id": "RVs4K6C-xY3g",
        "colab_type": "code",
        "colab": {}
      },
      "source": [
        "# Download subset of the dataset for the classes we have.\n",
        "import wget\n",
        "import zipfile\n",
        "import os\n",
        "\n",
        "def download_and_extract(label, folder):\n",
        "  url = f'https://github.com/lisaong/mldds-courseware/raw/master/data/ucf101-5classes/{folder}/{label}.zip'\n",
        "  print(f'Downloaded {url}')\n",
        "\n",
        "  # prepare folders\n",
        "  if not os.path.isdir(folder):\n",
        "    os.mkdir(folder)\n",
        "  filename = f'{label}.zip'\n",
        "\n",
        "  # download\n",
        "  wget.download(url, filename)\n",
        "\n",
        "  # extract within folder\n",
        "  with zipfile.ZipFile(filename) as f:\n",
        "    f.extractall(folder)\n",
        "  print(f'Extracted {os.path.join(folder, label)}')\n",
        "  \n",
        "  # delete zip archive\n",
        "  os.remove(filename)"
      ],
      "execution_count": 0,
      "outputs": []
    },
    {
      "cell_type": "code",
      "metadata": {
        "id": "ubuSzDWKHPWx",
        "colab_type": "code",
        "colab": {
          "base_uri": "https://localhost:8080/",
          "height": 357
        },
        "outputId": "ce1527fb-92ba-482b-f559-e8cd0b1023b2"
      },
      "source": [
        "for label in classes:\n",
        "  download_and_extract(label, 'train')\n",
        "  download_and_extract(label, 'test')"
      ],
      "execution_count": 16,
      "outputs": [
        {
          "output_type": "stream",
          "text": [
            "Downloaded https://github.com/lisaong/mldds-courseware/raw/master/data/ucf101-5classes/train/Archery.zip\n",
            "Extracted train/Archery\n",
            "Downloaded https://github.com/lisaong/mldds-courseware/raw/master/data/ucf101-5classes/test/Archery.zip\n",
            "Extracted test/Archery\n",
            "Downloaded https://github.com/lisaong/mldds-courseware/raw/master/data/ucf101-5classes/train/Basketball.zip\n",
            "Extracted train/Basketball\n",
            "Downloaded https://github.com/lisaong/mldds-courseware/raw/master/data/ucf101-5classes/test/Basketball.zip\n",
            "Extracted test/Basketball\n",
            "Downloaded https://github.com/lisaong/mldds-courseware/raw/master/data/ucf101-5classes/train/CricketBowling.zip\n",
            "Extracted train/CricketBowling\n",
            "Downloaded https://github.com/lisaong/mldds-courseware/raw/master/data/ucf101-5classes/test/CricketBowling.zip\n",
            "Extracted test/CricketBowling\n",
            "Downloaded https://github.com/lisaong/mldds-courseware/raw/master/data/ucf101-5classes/train/Diving.zip\n",
            "Extracted train/Diving\n",
            "Downloaded https://github.com/lisaong/mldds-courseware/raw/master/data/ucf101-5classes/test/Diving.zip\n",
            "Extracted test/Diving\n",
            "Downloaded https://github.com/lisaong/mldds-courseware/raw/master/data/ucf101-5classes/train/Haircut.zip\n",
            "Extracted train/Haircut\n",
            "Downloaded https://github.com/lisaong/mldds-courseware/raw/master/data/ucf101-5classes/test/Haircut.zip\n",
            "Extracted test/Haircut\n"
          ],
          "name": "stdout"
        }
      ]
    },
    {
      "cell_type": "code",
      "metadata": {
        "id": "psffPHDwhGwf",
        "colab_type": "code",
        "colab": {}
      },
      "source": [
        ""
      ],
      "execution_count": 0,
      "outputs": []
    }
  ]
}