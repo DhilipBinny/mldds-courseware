{
  "nbformat": 4,
  "nbformat_minor": 0,
  "metadata": {
    "kernelspec": {
      "display_name": "Python 3",
      "language": "python",
      "name": "python3"
    },
    "language_info": {
      "codemirror_mode": {
        "name": "ipython",
        "version": 3
      },
      "file_extension": ".py",
      "mimetype": "text/x-python",
      "name": "python",
      "nbconvert_exporter": "python",
      "pygments_lexer": "ipython3",
      "version": "3.7.3"
    },
    "colab": {
      "name": "LSTM time series models.ipynb",
      "provenance": [],
      "toc_visible": true,
      "include_colab_link": true
    }
  },
  "cells": [
    {
      "cell_type": "markdown",
      "metadata": {
        "id": "view-in-github",
        "colab_type": "text"
      },
      "source": [
        "<a href=\"https://colab.research.google.com/github/lisaong/mldds-courseware/blob/master/04_SpeechTimeSeries/LSTM_time_series_models.ipynb\" target=\"_parent\"><img src=\"https://colab.research.google.com/assets/colab-badge.svg\" alt=\"Open In Colab\"/></a>"
      ]
    },
    {
      "cell_type": "markdown",
      "metadata": {
        "id": "XscrDfNph8wK",
        "colab_type": "text"
      },
      "source": [
        "# LSTM time series models (data.gov)\n",
        "\n",
        "Reference:\n",
        "https://machinelearningmastery.com/how-to-develop-lstm-models-for-time-series-forecasting/\n",
        "\n",
        "Dataset (you can try others as well):\n",
        "https://data.gov.sg/dataset/gross-domestic-product-in-chained-2015-dollars-year-on-year-growth-rate-quarterly\n",
        "\n",
        "Download the dataset from data.gov to the same location as this notebook.\n",
        "\n",
        "If using Colab: Upload it to the Files tab in Colab"
      ]
    },
    {
      "cell_type": "code",
      "metadata": {
        "id": "59NrY7EHihDe",
        "colab_type": "code",
        "colab": {}
      },
      "source": [
        "# This command only works in Colab\n",
        "# specify tensorflow 2.0 before import tensorflow\n",
        "%tensorflow_version 2.x"
      ],
      "execution_count": 0,
      "outputs": []
    },
    {
      "cell_type": "code",
      "metadata": {
        "id": "GSh0RSYEh8wM",
        "colab_type": "code",
        "outputId": "53b20879-b568-473f-a4e5-b1d8bc29c073",
        "colab": {
          "base_uri": "https://localhost:8080/",
          "height": 35
        }
      },
      "source": [
        "import pandas as pd\n",
        "import numpy as np\n",
        "import matplotlib.pyplot as plt\n",
        "import seaborn as sns\n",
        "\n",
        "# Similar to StandardScaler, but scales between -1 and 1 for RNN training\n",
        "from sklearn.preprocessing import MinMaxScaler\n",
        "from sklearn.model_selection import train_test_split\n",
        "from sklearn.metrics import mean_squared_error, r2_score\n",
        "\n",
        "# Stationarity test\n",
        "# conda install statsmodels\n",
        "from statsmodels.tsa.stattools import adfuller\n",
        "\n",
        "import tensorflow as tf\n",
        "from tensorflow.keras.models import Sequential, load_model\n",
        "from tensorflow.keras.layers import Dense, LSTM\n",
        "from tensorflow.keras.callbacks import ModelCheckpoint\n",
        "\n",
        "sns.set_style('whitegrid')\n",
        "%matplotlib inline\n",
        "\n",
        "tf.__version__"
      ],
      "execution_count": 7,
      "outputs": [
        {
          "output_type": "execute_result",
          "data": {
            "text/plain": [
              "'2.1.0-rc1'"
            ]
          },
          "metadata": {
            "tags": []
          },
          "execution_count": 7
        }
      ]
    },
    {
      "cell_type": "code",
      "metadata": {
        "id": "6OSJpsekh8wQ",
        "colab_type": "code",
        "outputId": "c7f20d61-18c0-4e07-f8a3-df62dc07526b",
        "colab": {
          "base_uri": "https://localhost:8080/",
          "height": 235
        }
      },
      "source": [
        "# From Colab, easy way get this path, \"right click -> Copy Path\"\n",
        "df = pd.read_csv('./gross-domestic-product-in-chained-2015-dollars-year-on-year-growth-rate-quarterly.csv', parse_dates=True, index_col=0)\n",
        "df.head()"
      ],
      "execution_count": 8,
      "outputs": [
        {
          "output_type": "execute_result",
          "data": {
            "text/html": [
              "<div>\n",
              "<style scoped>\n",
              "    .dataframe tbody tr th:only-of-type {\n",
              "        vertical-align: middle;\n",
              "    }\n",
              "\n",
              "    .dataframe tbody tr th {\n",
              "        vertical-align: top;\n",
              "    }\n",
              "\n",
              "    .dataframe thead th {\n",
              "        text-align: right;\n",
              "    }\n",
              "</style>\n",
              "<table border=\"1\" class=\"dataframe\">\n",
              "  <thead>\n",
              "    <tr style=\"text-align: right;\">\n",
              "      <th></th>\n",
              "      <th>level_1</th>\n",
              "      <th>value</th>\n",
              "    </tr>\n",
              "    <tr>\n",
              "      <th>quarter</th>\n",
              "      <th></th>\n",
              "      <th></th>\n",
              "    </tr>\n",
              "  </thead>\n",
              "  <tbody>\n",
              "    <tr>\n",
              "      <th>1976-01-01</th>\n",
              "      <td>GDP In Chained (2015) Dollars</td>\n",
              "      <td>8.2</td>\n",
              "    </tr>\n",
              "    <tr>\n",
              "      <th>1976-04-01</th>\n",
              "      <td>GDP In Chained (2015) Dollars</td>\n",
              "      <td>7.4</td>\n",
              "    </tr>\n",
              "    <tr>\n",
              "      <th>1976-07-01</th>\n",
              "      <td>GDP In Chained (2015) Dollars</td>\n",
              "      <td>7.2</td>\n",
              "    </tr>\n",
              "    <tr>\n",
              "      <th>1976-10-01</th>\n",
              "      <td>GDP In Chained (2015) Dollars</td>\n",
              "      <td>7.0</td>\n",
              "    </tr>\n",
              "    <tr>\n",
              "      <th>1977-01-01</th>\n",
              "      <td>GDP In Chained (2015) Dollars</td>\n",
              "      <td>6.2</td>\n",
              "    </tr>\n",
              "  </tbody>\n",
              "</table>\n",
              "</div>"
            ],
            "text/plain": [
              "                                  level_1  value\n",
              "quarter                                         \n",
              "1976-01-01  GDP In Chained (2015) Dollars    8.2\n",
              "1976-04-01  GDP In Chained (2015) Dollars    7.4\n",
              "1976-07-01  GDP In Chained (2015) Dollars    7.2\n",
              "1976-10-01  GDP In Chained (2015) Dollars    7.0\n",
              "1977-01-01  GDP In Chained (2015) Dollars    6.2"
            ]
          },
          "metadata": {
            "tags": []
          },
          "execution_count": 8
        }
      ]
    },
    {
      "cell_type": "code",
      "metadata": {
        "id": "m7vuVduWh8wU",
        "colab_type": "code",
        "outputId": "a58d6d3d-0563-4ea0-d160-a9dc7849593f",
        "colab": {
          "base_uri": "https://localhost:8080/",
          "height": 279
        }
      },
      "source": [
        "# Plot the series\n",
        "df.plot()\n",
        "plt.show()"
      ],
      "execution_count": 9,
      "outputs": [
        {
          "output_type": "display_data",
          "data": {
            "image/png": "[encoded data removed]",
            "text/plain": [
              "<Figure size 432x288 with 1 Axes>"
            ]
          },
          "metadata": {
            "tags": []
          }
        }
      ]
    },
    {
      "cell_type": "markdown",
      "metadata": {
        "id": "5C8o1prxh8wX",
        "colab_type": "text"
      },
      "source": [
        "## Data Preparation\n",
        "\n",
        "- Check for stationarity\n",
        "- Performing windowing to split a sequence into columns.\n"
      ]
    },
    {
      "cell_type": "code",
      "metadata": {
        "id": "VdwYEX5th8wY",
        "colab_type": "code",
        "outputId": "76016295-66da-4069-8644-36efe97a9c19",
        "colab": {
          "base_uri": "https://localhost:8080/",
          "height": 159
        }
      },
      "source": [
        "# Check for stationairty. pvalue > 0.05 means the series is NOT stationary (has unit root)\n",
        "\n",
        "adfuller(df['value'])\n",
        "\n",
        "# How to interpret:\n",
        "#\n",
        "# (-2.8256920599042608,\n",
        "#  0.05469652181207146,\n",
        "# 11,\n",
        "# 163,\n",
        "# {'1%': -3.471118535474365,\n",
        "#  '10%': -2.576313761526591,\n",
        "#  '5%': -2.8794405060097024},\n",
        "# 696.8540385364829)\n",
        "#\n",
        "# first score is the raw ADF statistic. You can compare against the 5% value of (-2.879)\n",
        "# second score is the p-value (if >0.05, then it is NOT stationary)"
      ],
      "execution_count": 5,
      "outputs": [
        {
          "output_type": "execute_result",
          "data": {
            "text/plain": [
              "(-2.8256920599042608,\n",
              " 0.05469652181207146,\n",
              " 11,\n",
              " 163,\n",
              " {'1%': -3.471118535474365,\n",
              "  '10%': -2.576313761526591,\n",
              "  '5%': -2.8794405060097024},\n",
              " 696.8540385364829)"
            ]
          },
          "metadata": {
            "tags": []
          },
          "execution_count": 5
        }
      ]
    },
    {
      "cell_type": "markdown",
      "metadata": {
        "id": "jmXLZlx1h8wa",
        "colab_type": "text"
      },
      "source": [
        " 0.05469652181207146 > 0.05\n",
        "\n",
        "(Non-stationary)"
      ]
    },
    {
      "cell_type": "code",
      "metadata": {
        "id": "IzDyZpmZh8wa",
        "colab_type": "code",
        "outputId": "9f3a1202-3608-4749-ac3b-17daa206a2bf",
        "colab": {
          "base_uri": "https://localhost:8080/",
          "height": 235
        }
      },
      "source": [
        "# take the first order difference to make this a stationary series\n",
        "\n",
        "df['diff'] = df['value'].diff() # how to convert to stationary\n",
        "df.head()"
      ],
      "execution_count": 11,
      "outputs": [
        {
          "output_type": "execute_result",
          "data": {
            "text/html": [
              "<div>\n",
              "<style scoped>\n",
              "    .dataframe tbody tr th:only-of-type {\n",
              "        vertical-align: middle;\n",
              "    }\n",
              "\n",
              "    .dataframe tbody tr th {\n",
              "        vertical-align: top;\n",
              "    }\n",
              "\n",
              "    .dataframe thead th {\n",
              "        text-align: right;\n",
              "    }\n",
              "</style>\n",
              "<table border=\"1\" class=\"dataframe\">\n",
              "  <thead>\n",
              "    <tr style=\"text-align: right;\">\n",
              "      <th></th>\n",
              "      <th>level_1</th>\n",
              "      <th>value</th>\n",
              "      <th>diff</th>\n",
              "    </tr>\n",
              "    <tr>\n",
              "      <th>quarter</th>\n",
              "      <th></th>\n",
              "      <th></th>\n",
              "      <th></th>\n",
              "    </tr>\n",
              "  </thead>\n",
              "  <tbody>\n",
              "    <tr>\n",
              "      <th>1976-04-01</th>\n",
              "      <td>GDP In Chained (2015) Dollars</td>\n",
              "      <td>7.4</td>\n",
              "      <td>NaN</td>\n",
              "    </tr>\n",
              "    <tr>\n",
              "      <th>1976-07-01</th>\n",
              "      <td>GDP In Chained (2015) Dollars</td>\n",
              "      <td>7.2</td>\n",
              "      <td>-0.2</td>\n",
              "    </tr>\n",
              "    <tr>\n",
              "      <th>1976-10-01</th>\n",
              "      <td>GDP In Chained (2015) Dollars</td>\n",
              "      <td>7.0</td>\n",
              "      <td>-0.2</td>\n",
              "    </tr>\n",
              "    <tr>\n",
              "      <th>1977-01-01</th>\n",
              "      <td>GDP In Chained (2015) Dollars</td>\n",
              "      <td>6.2</td>\n",
              "      <td>-0.8</td>\n",
              "    </tr>\n",
              "    <tr>\n",
              "      <th>1977-04-01</th>\n",
              "      <td>GDP In Chained (2015) Dollars</td>\n",
              "      <td>7.6</td>\n",
              "      <td>1.4</td>\n",
              "    </tr>\n",
              "  </tbody>\n",
              "</table>\n",
              "</div>"
            ],
            "text/plain": [
              "                                  level_1  value  diff\n",
              "quarter                                               \n",
              "1976-04-01  GDP In Chained (2015) Dollars    7.4   NaN\n",
              "1976-07-01  GDP In Chained (2015) Dollars    7.2  -0.2\n",
              "1976-10-01  GDP In Chained (2015) Dollars    7.0  -0.2\n",
              "1977-01-01  GDP In Chained (2015) Dollars    6.2  -0.8\n",
              "1977-04-01  GDP In Chained (2015) Dollars    7.6   1.4"
            ]
          },
          "metadata": {
            "tags": []
          },
          "execution_count": 11
        }
      ]
    },
    {
      "cell_type": "code",
      "metadata": {
        "id": "IjCLchITCJkq",
        "colab_type": "code",
        "colab": {
          "base_uri": "https://localhost:8080/",
          "height": 35
        },
        "outputId": "f985fea7-c2f5-468d-ad02-632855d499fc"
      },
      "source": [
        "# first row is NaN because it has no reference\n",
        "# we should save it if we want to recover original from the diff later\n",
        "\n",
        "first_value = df['value'][0]\n",
        "first_value"
      ],
      "execution_count": 12,
      "outputs": [
        {
          "output_type": "execute_result",
          "data": {
            "text/plain": [
              "7.4"
            ]
          },
          "metadata": {
            "tags": []
          },
          "execution_count": 12
        }
      ]
    },
    {
      "cell_type": "code",
      "metadata": {
        "id": "bnFY40z7CVhy",
        "colab_type": "code",
        "colab": {}
      },
      "source": [
        "df.dropna(inplace=True) # drop the first row to remove NaN"
      ],
      "execution_count": 0,
      "outputs": []
    },
    {
      "cell_type": "code",
      "metadata": {
        "id": "pN0yT1TTB5yR",
        "colab_type": "code",
        "colab": {
          "base_uri": "https://localhost:8080/",
          "height": 248
        },
        "outputId": "9f802b51-e395-42c5-fae4-e6bd75453a7e"
      },
      "source": [
        "# how to recover original from diff\n",
        "# second_value = first_value + diff[0]\n",
        "# third_value = second_value + diff[1]\n",
        "# it's essentially a cumulative sum of the diff column with the first_value\n",
        "\n",
        "first_value + df['diff'].cumsum()"
      ],
      "execution_count": 15,
      "outputs": [
        {
          "output_type": "execute_result",
          "data": {
            "text/plain": [
              "quarter\n",
              "1976-07-01    7.2\n",
              "1976-10-01    7.0\n",
              "1977-01-01    6.2\n",
              "1977-04-01    7.6\n",
              "1977-07-01    6.4\n",
              "             ... \n",
              "2018-07-01    2.6\n",
              "2018-10-01    1.3\n",
              "2019-01-01    1.1\n",
              "2019-04-01    0.2\n",
              "2019-07-01    0.5\n",
              "Name: diff, Length: 173, dtype: float64"
            ]
          },
          "metadata": {
            "tags": []
          },
          "execution_count": 15
        }
      ]
    },
    {
      "cell_type": "code",
      "metadata": {
        "id": "F92C1MxNw1DU",
        "colab_type": "code",
        "outputId": "c90dbcb7-6d6d-4864-fa8f-26f72b66fc14",
        "colab": {
          "base_uri": "https://localhost:8080/",
          "height": 281
        }
      },
      "source": [
        "# How to determine a \"good\" window size\n",
        "# use plot_acf\n",
        "\n",
        "from statsmodels.graphics.tsaplots import plot_acf\n",
        "\n",
        "# x-axis is the number of lags (window size)\n",
        "plot_acf(df['diff'])\n",
        "plt.show()\n",
        "\n",
        "# based on the plot, lag=4 has correlation above the 95% percentile\n",
        "# lag=0 always gives correlation of 1"
      ],
      "execution_count": 17,
      "outputs": [
        {
          "output_type": "display_data",
          "data": {
            "image/png": "[encoded data removed]",
            "text/plain": [
              "<Figure size 432x288 with 1 Axes>"
            ]
          },
          "metadata": {
            "tags": []
          }
        }
      ]
    },
    {
      "cell_type": "code",
      "metadata": {
        "id": "mhHr_-NOw1J6",
        "colab_type": "code",
        "colab": {}
      },
      "source": [
        ""
      ],
      "execution_count": 0,
      "outputs": []
    },
    {
      "cell_type": "code",
      "metadata": {
        "id": "TaiK1JgZh8we",
        "colab_type": "code",
        "outputId": "4b7cbec0-091e-46d1-9e36-14fb854272b9",
        "colab": {
          "base_uri": "https://localhost:8080/",
          "height": 235
        }
      },
      "source": [
        "# Windowing to split a sequence into columns.\n",
        "window_size = 4+1 # add 1 for the target column\n",
        "\n",
        "shifted = [df['diff'].shift(-i) for i in range(window_size)]\n",
        "df_windowed = pd.concat(shifted, axis=1).dropna()\n",
        "df_windowed.columns = [f'y[t+{i}]' for i in range(window_size)]\n",
        "df_windowed.head()"
      ],
      "execution_count": 18,
      "outputs": [
        {
          "output_type": "execute_result",
          "data": {
            "text/html": [
              "<div>\n",
              "<style scoped>\n",
              "    .dataframe tbody tr th:only-of-type {\n",
              "        vertical-align: middle;\n",
              "    }\n",
              "\n",
              "    .dataframe tbody tr th {\n",
              "        vertical-align: top;\n",
              "    }\n",
              "\n",
              "    .dataframe thead th {\n",
              "        text-align: right;\n",
              "    }\n",
              "</style>\n",
              "<table border=\"1\" class=\"dataframe\">\n",
              "  <thead>\n",
              "    <tr style=\"text-align: right;\">\n",
              "      <th></th>\n",
              "      <th>y[t+0]</th>\n",
              "      <th>y[t+1]</th>\n",
              "      <th>y[t+2]</th>\n",
              "      <th>y[t+3]</th>\n",
              "      <th>y[t+4]</th>\n",
              "    </tr>\n",
              "    <tr>\n",
              "      <th>quarter</th>\n",
              "      <th></th>\n",
              "      <th></th>\n",
              "      <th></th>\n",
              "      <th></th>\n",
              "      <th></th>\n",
              "    </tr>\n",
              "  </thead>\n",
              "  <tbody>\n",
              "    <tr>\n",
              "      <th>1976-07-01</th>\n",
              "      <td>-0.2</td>\n",
              "      <td>-0.2</td>\n",
              "      <td>-0.8</td>\n",
              "      <td>1.4</td>\n",
              "      <td>-1.2</td>\n",
              "    </tr>\n",
              "    <tr>\n",
              "      <th>1976-10-01</th>\n",
              "      <td>-0.2</td>\n",
              "      <td>-0.8</td>\n",
              "      <td>1.4</td>\n",
              "      <td>-1.2</td>\n",
              "      <td>0.8</td>\n",
              "    </tr>\n",
              "    <tr>\n",
              "      <th>1977-01-01</th>\n",
              "      <td>-0.8</td>\n",
              "      <td>1.4</td>\n",
              "      <td>-1.2</td>\n",
              "      <td>0.8</td>\n",
              "      <td>-1.6</td>\n",
              "    </tr>\n",
              "    <tr>\n",
              "      <th>1977-04-01</th>\n",
              "      <td>1.4</td>\n",
              "      <td>-1.2</td>\n",
              "      <td>0.8</td>\n",
              "      <td>-1.6</td>\n",
              "      <td>0.6</td>\n",
              "    </tr>\n",
              "    <tr>\n",
              "      <th>1977-07-01</th>\n",
              "      <td>-1.2</td>\n",
              "      <td>0.8</td>\n",
              "      <td>-1.6</td>\n",
              "      <td>0.6</td>\n",
              "      <td>2.6</td>\n",
              "    </tr>\n",
              "  </tbody>\n",
              "</table>\n",
              "</div>"
            ],
            "text/plain": [
              "            y[t+0]  y[t+1]  y[t+2]  y[t+3]  y[t+4]\n",
              "quarter                                           \n",
              "1976-07-01    -0.2    -0.2    -0.8     1.4    -1.2\n",
              "1976-10-01    -0.2    -0.8     1.4    -1.2     0.8\n",
              "1977-01-01    -0.8     1.4    -1.2     0.8    -1.6\n",
              "1977-04-01     1.4    -1.2     0.8    -1.6     0.6\n",
              "1977-07-01    -1.2     0.8    -1.6     0.6     2.6"
            ]
          },
          "metadata": {
            "tags": []
          },
          "execution_count": 18
        }
      ]
    },
    {
      "cell_type": "markdown",
      "metadata": {
        "id": "2l1a2Ijah8wg",
        "colab_type": "text"
      },
      "source": [
        "## Select X and y\n",
        "\n",
        "- X: all columns except last column\n",
        "- y: last column\n",
        "- Reshape to train for RNN\n",
        "- Train test split without shuffling (to preserve ordering)\n",
        "- Min-max Scaling to -1, 1 range"
      ]
    },
    {
      "cell_type": "code",
      "metadata": {
        "id": "v0jG5YFKh8wh",
        "colab_type": "code",
        "colab": {}
      },
      "source": [
        "# .values returns the numpy array for easier manipulation\n",
        "\n",
        "# X: all columns except last column\n",
        "X = df_windowed.iloc[:, :-1].values\n",
        "\n",
        "# y: last column\n",
        "y = df_windowed.iloc[:, -1].values"
      ],
      "execution_count": 0,
      "outputs": []
    },
    {
      "cell_type": "code",
      "metadata": {
        "id": "3hs7ekn1h8wi",
        "colab_type": "code",
        "outputId": "c9679efc-c229-4fc3-e35b-296bb2d327e5",
        "colab": {
          "base_uri": "https://localhost:8080/",
          "height": 35
        }
      },
      "source": [
        "X.shape, y.shape"
      ],
      "execution_count": 20,
      "outputs": [
        {
          "output_type": "execute_result",
          "data": {
            "text/plain": [
              "((169, 4), (169,))"
            ]
          },
          "metadata": {
            "tags": []
          },
          "execution_count": 20
        }
      ]
    },
    {
      "cell_type": "code",
      "metadata": {
        "id": "Lk1gj8ijh8wl",
        "colab_type": "code",
        "colab": {}
      },
      "source": [
        "# Reshape to train for RNN\n",
        "\n",
        "n_steps = window_size-1\n",
        "n_features = 1\n",
        "\n",
        "# reshape from [samples, timesteps] into [samples, timesteps, features]\n",
        "X_rnn = X.reshape(X.shape[0], X.shape[1], n_features)"
      ],
      "execution_count": 0,
      "outputs": []
    },
    {
      "cell_type": "code",
      "metadata": {
        "id": "HC9EJwmeh8wn",
        "colab_type": "code",
        "outputId": "28d93c76-c033-4909-e783-17c39075b96f",
        "colab": {
          "base_uri": "https://localhost:8080/",
          "height": 35
        }
      },
      "source": [
        "X_rnn.shape"
      ],
      "execution_count": 22,
      "outputs": [
        {
          "output_type": "execute_result",
          "data": {
            "text/plain": [
              "(169, 4, 1)"
            ]
          },
          "metadata": {
            "tags": []
          },
          "execution_count": 22
        }
      ]
    },
    {
      "cell_type": "code",
      "metadata": {
        "id": "HYGHBOGUh8wo",
        "colab_type": "code",
        "colab": {}
      },
      "source": [
        "# train test split without shuffling (to preserve ordering)\n",
        "X_train, X_test, y_train, y_test = train_test_split(X_rnn, y, test_size=0.2, shuffle=False)"
      ],
      "execution_count": 0,
      "outputs": []
    },
    {
      "cell_type": "code",
      "metadata": {
        "id": "TvV_Eldrh8wq",
        "colab_type": "code",
        "outputId": "e5521fd3-7155-4c71-e093-c081d47b50ce",
        "colab": {
          "base_uri": "https://localhost:8080/",
          "height": 35
        }
      },
      "source": [
        "X_train.shape, X_test.shape"
      ],
      "execution_count": 24,
      "outputs": [
        {
          "output_type": "execute_result",
          "data": {
            "text/plain": [
              "((135, 4, 1), (34, 4, 1))"
            ]
          },
          "metadata": {
            "tags": []
          },
          "execution_count": 24
        }
      ]
    },
    {
      "cell_type": "code",
      "metadata": {
        "scrolled": true,
        "id": "L5Mn0Jf8h8ws",
        "colab_type": "code",
        "outputId": "5199bd50-4451-4342-b53a-f14828668de9",
        "colab": {
          "base_uri": "https://localhost:8080/",
          "height": 1000
        }
      },
      "source": [
        "# look at the X_train, you will see a list of column vectors, \n",
        "# where each column vector is of shape (4, 1)\n",
        "X_train"
      ],
      "execution_count": 25,
      "outputs": [
        {
          "output_type": "execute_result",
          "data": {
            "text/plain": [
              "array([[[-0.2],\n",
              "        [-0.2],\n",
              "        [-0.8],\n",
              "        [ 1.4]],\n",
              "\n",
              "       [[-0.2],\n",
              "        [-0.8],\n",
              "        [ 1.4],\n",
              "        [-1.2]],\n",
              "\n",
              "       [[-0.8],\n",
              "        [ 1.4],\n",
              "        [-1.2],\n",
              "        [ 0.8]],\n",
              "\n",
              "       [[ 1.4],\n",
              "        [-1.2],\n",
              "        [ 0.8],\n",
              "        [-1.6]],\n",
              "\n",
              "       [[-1.2],\n",
              "        [ 0.8],\n",
              "        [-1.6],\n",
              "        [ 0.6]],\n",
              "\n",
              "       [[ 0.8],\n",
              "        [-1.6],\n",
              "        [ 0.6],\n",
              "        [ 2.6]],\n",
              "\n",
              "       [[-1.6],\n",
              "        [ 0.6],\n",
              "        [ 2.6],\n",
              "        [ 1.4]],\n",
              "\n",
              "       [[ 0.6],\n",
              "        [ 2.6],\n",
              "        [ 1.4],\n",
              "        [-0.7]],\n",
              "\n",
              "       [[ 2.6],\n",
              "        [ 1.4],\n",
              "        [-0.7],\n",
              "        [ 1.2]],\n",
              "\n",
              "       [[ 1.4],\n",
              "        [-0.7],\n",
              "        [ 1.2],\n",
              "        [-2.5]],\n",
              "\n",
              "       [[-0.7],\n",
              "        [ 1.2],\n",
              "        [-2.5],\n",
              "        [ 1.7]],\n",
              "\n",
              "       [[ 1.2],\n",
              "        [-2.5],\n",
              "        [ 1.7],\n",
              "        [ 1.6]],\n",
              "\n",
              "       [[-2.5],\n",
              "        [ 1.7],\n",
              "        [ 1.6],\n",
              "        [-1.2]],\n",
              "\n",
              "       [[ 1.7],\n",
              "        [ 1.6],\n",
              "        [-1.2],\n",
              "        [ 0. ]],\n",
              "\n",
              "       [[ 1.6],\n",
              "        [-1.2],\n",
              "        [ 0. ],\n",
              "        [-1.8]],\n",
              "\n",
              "       [[-1.2],\n",
              "        [ 0. ],\n",
              "        [-1.8],\n",
              "        [ 1.8]],\n",
              "\n",
              "       [[ 0. ],\n",
              "        [-1.8],\n",
              "        [ 1.8],\n",
              "        [ 1.2]],\n",
              "\n",
              "       [[-1.8],\n",
              "        [ 1.8],\n",
              "        [ 1.2],\n",
              "        [-0.3]],\n",
              "\n",
              "       [[ 1.8],\n",
              "        [ 1.2],\n",
              "        [-0.3],\n",
              "        [-0.8]],\n",
              "\n",
              "       [[ 1.2],\n",
              "        [-0.3],\n",
              "        [-0.8],\n",
              "        [-1.3]],\n",
              "\n",
              "       [[-0.3],\n",
              "        [-0.8],\n",
              "        [-1.3],\n",
              "        [-1.7]],\n",
              "\n",
              "       [[-0.8],\n",
              "        [-1.3],\n",
              "        [-1.7],\n",
              "        [-1. ]],\n",
              "\n",
              "       [[-1.3],\n",
              "        [-1.7],\n",
              "        [-1. ],\n",
              "        [-0.7]],\n",
              "\n",
              "       [[-1.7],\n",
              "        [-1. ],\n",
              "        [-0.7],\n",
              "        [ 1.9]],\n",
              "\n",
              "       [[-1. ],\n",
              "        [-0.7],\n",
              "        [ 1.9],\n",
              "        [ 0.4]],\n",
              "\n",
              "       [[-0.7],\n",
              "        [ 1.9],\n",
              "        [ 0.4],\n",
              "        [ 0.6]],\n",
              "\n",
              "       [[ 1.9],\n",
              "        [ 0.4],\n",
              "        [ 0.6],\n",
              "        [ 1.4]],\n",
              "\n",
              "       [[ 0.4],\n",
              "        [ 0.6],\n",
              "        [ 1.4],\n",
              "        [ 0.9]],\n",
              "\n",
              "       [[ 0.6],\n",
              "        [ 1.4],\n",
              "        [ 0.9],\n",
              "        [-1.1]],\n",
              "\n",
              "       [[ 1.4],\n",
              "        [ 0.9],\n",
              "        [-1.1],\n",
              "        [-1. ]],\n",
              "\n",
              "       [[ 0.9],\n",
              "        [-1.1],\n",
              "        [-1. ],\n",
              "        [-2.9]],\n",
              "\n",
              "       [[-1.1],\n",
              "        [-1. ],\n",
              "        [-2.9],\n",
              "        [-2. ]],\n",
              "\n",
              "       [[-1. ],\n",
              "        [-2.9],\n",
              "        [-2. ],\n",
              "        [-4. ]],\n",
              "\n",
              "       [[-2.9],\n",
              "        [-2. ],\n",
              "        [-4. ],\n",
              "        [-2.2]],\n",
              "\n",
              "       [[-2. ],\n",
              "        [-4. ],\n",
              "        [-2.2],\n",
              "        [-1.5]],\n",
              "\n",
              "       [[-4. ],\n",
              "        [-2.2],\n",
              "        [-1.5],\n",
              "        [-0.2]],\n",
              "\n",
              "       [[-2.2],\n",
              "        [-1.5],\n",
              "        [-0.2],\n",
              "        [ 4.1]],\n",
              "\n",
              "       [[-1.5],\n",
              "        [-0.2],\n",
              "        [ 4.1],\n",
              "        [ 2.8]],\n",
              "\n",
              "       [[-0.2],\n",
              "        [ 4.1],\n",
              "        [ 2.8],\n",
              "        [ 3.6]],\n",
              "\n",
              "       [[ 4.1],\n",
              "        [ 2.8],\n",
              "        [ 3.6],\n",
              "        [ 1.6]],\n",
              "\n",
              "       [[ 2.8],\n",
              "        [ 3.6],\n",
              "        [ 1.6],\n",
              "        [ 2.1]],\n",
              "\n",
              "       [[ 3.6],\n",
              "        [ 1.6],\n",
              "        [ 2.1],\n",
              "        [ 2.1]],\n",
              "\n",
              "       [[ 1.6],\n",
              "        [ 2.1],\n",
              "        [ 2.1],\n",
              "        [ 0.2]],\n",
              "\n",
              "       [[ 2.1],\n",
              "        [ 2.1],\n",
              "        [ 0.2],\n",
              "        [-1.4]],\n",
              "\n",
              "       [[ 2.1],\n",
              "        [ 0.2],\n",
              "        [-1.4],\n",
              "        [ 0.9]],\n",
              "\n",
              "       [[ 0.2],\n",
              "        [-1.4],\n",
              "        [ 0.9],\n",
              "        [-0.8]],\n",
              "\n",
              "       [[-1.4],\n",
              "        [ 0.9],\n",
              "        [-0.8],\n",
              "        [-0.5]],\n",
              "\n",
              "       [[ 0.9],\n",
              "        [-0.8],\n",
              "        [-0.5],\n",
              "        [-0.8]],\n",
              "\n",
              "       [[-0.8],\n",
              "        [-0.5],\n",
              "        [-0.8],\n",
              "        [ 1.5]],\n",
              "\n",
              "       [[-0.5],\n",
              "        [-0.8],\n",
              "        [ 1.5],\n",
              "        [-1.5]],\n",
              "\n",
              "       [[-0.8],\n",
              "        [ 1.5],\n",
              "        [-1.5],\n",
              "        [-0.4]],\n",
              "\n",
              "       [[ 1.5],\n",
              "        [-1.5],\n",
              "        [-0.4],\n",
              "        [ 4.5]],\n",
              "\n",
              "       [[-1.5],\n",
              "        [-0.4],\n",
              "        [ 4.5],\n",
              "        [-5.2]],\n",
              "\n",
              "       [[-0.4],\n",
              "        [ 4.5],\n",
              "        [-5.2],\n",
              "        [ 0. ]],\n",
              "\n",
              "       [[ 4.5],\n",
              "        [-5.2],\n",
              "        [ 0. ],\n",
              "        [-0.7]],\n",
              "\n",
              "       [[-5.2],\n",
              "        [ 0. ],\n",
              "        [-0.7],\n",
              "        [-1.7]],\n",
              "\n",
              "       [[ 0. ],\n",
              "        [-0.7],\n",
              "        [-1.7],\n",
              "        [ 0.1]],\n",
              "\n",
              "       [[-0.7],\n",
              "        [-1.7],\n",
              "        [ 0.1],\n",
              "        [ 0.8]],\n",
              "\n",
              "       [[-1.7],\n",
              "        [ 0.1],\n",
              "        [ 0.8],\n",
              "        [-0.8]],\n",
              "\n",
              "       [[ 0.1],\n",
              "        [ 0.8],\n",
              "        [-0.8],\n",
              "        [-0.8]],\n",
              "\n",
              "       [[ 0.8],\n",
              "        [-0.8],\n",
              "        [-0.8],\n",
              "        [-0.3]],\n",
              "\n",
              "       [[-0.8],\n",
              "        [-0.8],\n",
              "        [-0.3],\n",
              "        [ 1.3]],\n",
              "\n",
              "       [[-0.8],\n",
              "        [-0.3],\n",
              "        [ 1.3],\n",
              "        [ 2. ]],\n",
              "\n",
              "       [[-0.3],\n",
              "        [ 1.3],\n",
              "        [ 2. ],\n",
              "        [ 0.3]],\n",
              "\n",
              "       [[ 1.3],\n",
              "        [ 2. ],\n",
              "        [ 0.3],\n",
              "        [ 3.3]],\n",
              "\n",
              "       [[ 2. ],\n",
              "        [ 0.3],\n",
              "        [ 3.3],\n",
              "        [-0.8]],\n",
              "\n",
              "       [[ 0.3],\n",
              "        [ 3.3],\n",
              "        [-0.8],\n",
              "        [ 1.4]],\n",
              "\n",
              "       [[ 3.3],\n",
              "        [-0.8],\n",
              "        [ 1.4],\n",
              "        [ 0.6]],\n",
              "\n",
              "       [[-0.8],\n",
              "        [ 1.4],\n",
              "        [ 0.6],\n",
              "        [-3.2]],\n",
              "\n",
              "       [[ 1.4],\n",
              "        [ 0.6],\n",
              "        [-3.2],\n",
              "        [ 1.5]],\n",
              "\n",
              "       [[ 0.6],\n",
              "        [-3.2],\n",
              "        [ 1.5],\n",
              "        [-2.8]],\n",
              "\n",
              "       [[-3.2],\n",
              "        [ 1.5],\n",
              "        [-2.8],\n",
              "        [-3.8]],\n",
              "\n",
              "       [[ 1.5],\n",
              "        [-2.8],\n",
              "        [-3.8],\n",
              "        [ 2. ]],\n",
              "\n",
              "       [[-2.8],\n",
              "        [-3.8],\n",
              "        [ 2. ],\n",
              "        [ 1.2]],\n",
              "\n",
              "       [[-3.8],\n",
              "        [ 2. ],\n",
              "        [ 1.2],\n",
              "        [-0.6]],\n",
              "\n",
              "       [[ 2. ],\n",
              "        [ 1.2],\n",
              "        [-0.6],\n",
              "        [ 4. ]],\n",
              "\n",
              "       [[ 1.2],\n",
              "        [-0.6],\n",
              "        [ 4. ],\n",
              "        [-3. ]],\n",
              "\n",
              "       [[-0.6],\n",
              "        [ 4. ],\n",
              "        [-3. ],\n",
              "        [-4.7]],\n",
              "\n",
              "       [[ 4. ],\n",
              "        [-3. ],\n",
              "        [-4.7],\n",
              "        [ 1.6]],\n",
              "\n",
              "       [[-3. ],\n",
              "        [-4.7],\n",
              "        [ 1.6],\n",
              "        [ 0. ]],\n",
              "\n",
              "       [[-4.7],\n",
              "        [ 1.6],\n",
              "        [ 0. ],\n",
              "        [ 3.8]],\n",
              "\n",
              "       [[ 1.6],\n",
              "        [ 0. ],\n",
              "        [ 3.8],\n",
              "        [ 1.4]],\n",
              "\n",
              "       [[ 0. ],\n",
              "        [ 3.8],\n",
              "        [ 1.4],\n",
              "        [-3.8]],\n",
              "\n",
              "       [[ 3.8],\n",
              "        [ 1.4],\n",
              "        [-3.8],\n",
              "        [-5.6]],\n",
              "\n",
              "       [[ 1.4],\n",
              "        [-3.8],\n",
              "        [-5.6],\n",
              "        [-3.9]],\n",
              "\n",
              "       [[-3.8],\n",
              "        [-5.6],\n",
              "        [-3.9],\n",
              "        [-2.6]],\n",
              "\n",
              "       [[-5.6],\n",
              "        [-3.9],\n",
              "        [-2.6],\n",
              "        [ 2.4]],\n",
              "\n",
              "       [[-3.9],\n",
              "        [-2.6],\n",
              "        [ 2.4],\n",
              "        [ 4.8]],\n",
              "\n",
              "       [[-2.6],\n",
              "        [ 2.4],\n",
              "        [ 4.8],\n",
              "        [ 3.2]],\n",
              "\n",
              "       [[ 2.4],\n",
              "        [ 4.8],\n",
              "        [ 3.2],\n",
              "        [ 2.6]],\n",
              "\n",
              "       [[ 4.8],\n",
              "        [ 3.2],\n",
              "        [ 2.6],\n",
              "        [-0.9]],\n",
              "\n",
              "       [[ 3.2],\n",
              "        [ 2.6],\n",
              "        [-0.9],\n",
              "        [ 1.7]],\n",
              "\n",
              "       [[ 2.6],\n",
              "        [-0.9],\n",
              "        [ 1.7],\n",
              "        [-0.7]],\n",
              "\n",
              "       [[-0.9],\n",
              "        [ 1.7],\n",
              "        [-0.7],\n",
              "        [ 1.6]],\n",
              "\n",
              "       [[ 1.7],\n",
              "        [-0.7],\n",
              "        [ 1.6],\n",
              "        [-0.1]],\n",
              "\n",
              "       [[-0.7],\n",
              "        [ 1.6],\n",
              "        [-0.1],\n",
              "        [-3.9]],\n",
              "\n",
              "       [[ 1.6],\n",
              "        [-0.1],\n",
              "        [-3.9],\n",
              "        [-5.1]],\n",
              "\n",
              "       [[-0.1],\n",
              "        [-3.9],\n",
              "        [-5.1],\n",
              "        [-5.6]],\n",
              "\n",
              "       [[-3.9],\n",
              "        [-5.1],\n",
              "        [-5.6],\n",
              "        [ 0.1]],\n",
              "\n",
              "       [[-5.1],\n",
              "        [-5.6],\n",
              "        [ 0.1],\n",
              "        [ 3.8]],\n",
              "\n",
              "       [[-5.6],\n",
              "        [ 0.1],\n",
              "        [ 3.8],\n",
              "        [ 5.3]],\n",
              "\n",
              "       [[ 0.1],\n",
              "        [ 3.8],\n",
              "        [ 5.3],\n",
              "        [ 2.4]],\n",
              "\n",
              "       [[ 3.8],\n",
              "        [ 5.3],\n",
              "        [ 2.4],\n",
              "        [-0.5]],\n",
              "\n",
              "       [[ 5.3],\n",
              "        [ 2.4],\n",
              "        [-0.5],\n",
              "        [-1.9]],\n",
              "\n",
              "       [[ 2.4],\n",
              "        [-0.5],\n",
              "        [-1.9],\n",
              "        [-4.5]],\n",
              "\n",
              "       [[-0.5],\n",
              "        [-1.9],\n",
              "        [-4.5],\n",
              "        [ 5.6]],\n",
              "\n",
              "       [[-1.9],\n",
              "        [-4.5],\n",
              "        [ 5.6],\n",
              "        [ 3.6]],\n",
              "\n",
              "       [[-4.5],\n",
              "        [ 5.6],\n",
              "        [ 3.6],\n",
              "        [ 1.4]],\n",
              "\n",
              "       [[ 5.6],\n",
              "        [ 3.6],\n",
              "        [ 1.4],\n",
              "        [ 3.1]],\n",
              "\n",
              "       [[ 3.6],\n",
              "        [ 1.4],\n",
              "        [ 3.1],\n",
              "        [-5.1]],\n",
              "\n",
              "       [[ 1.4],\n",
              "        [ 3.1],\n",
              "        [-5.1],\n",
              "        [-0.6]],\n",
              "\n",
              "       [[ 3.1],\n",
              "        [-5.1],\n",
              "        [-0.6],\n",
              "        [-2.5]],\n",
              "\n",
              "       [[-5.1],\n",
              "        [-0.6],\n",
              "        [-2.5],\n",
              "        [ 1. ]],\n",
              "\n",
              "       [[-0.6],\n",
              "        [-2.5],\n",
              "        [ 1. ],\n",
              "        [ 2.4]],\n",
              "\n",
              "       [[-2.5],\n",
              "        [ 1. ],\n",
              "        [ 2.4],\n",
              "        [ 0.8]],\n",
              "\n",
              "       [[ 1. ],\n",
              "        [ 2.4],\n",
              "        [ 0.8],\n",
              "        [ 1. ]],\n",
              "\n",
              "       [[ 2.4],\n",
              "        [ 0.8],\n",
              "        [ 1. ],\n",
              "        [-1.5]],\n",
              "\n",
              "       [[ 0.8],\n",
              "        [ 1. ],\n",
              "        [-1.5],\n",
              "        [-0.4]],\n",
              "\n",
              "       [[ 1. ],\n",
              "        [-1.5],\n",
              "        [-0.4],\n",
              "        [-0.2]],\n",
              "\n",
              "       [[-1.5],\n",
              "        [-0.4],\n",
              "        [-0.2],\n",
              "        [ 0.3]],\n",
              "\n",
              "       [[-0.4],\n",
              "        [-0.2],\n",
              "        [ 0.3],\n",
              "        [ 1.4]],\n",
              "\n",
              "       [[-0.2],\n",
              "        [ 0.3],\n",
              "        [ 1.4],\n",
              "        [ 1. ]],\n",
              "\n",
              "       [[ 0.3],\n",
              "        [ 1.4],\n",
              "        [ 1. ],\n",
              "        [-4.4]],\n",
              "\n",
              "       [[ 1.4],\n",
              "        [ 1. ],\n",
              "        [-4.4],\n",
              "        [ 1.6]],\n",
              "\n",
              "       [[ 1. ],\n",
              "        [-4.4],\n",
              "        [ 1.6],\n",
              "        [-4.9]],\n",
              "\n",
              "       [[-4.4],\n",
              "        [ 1.6],\n",
              "        [-4.9],\n",
              "        [-3.4]],\n",
              "\n",
              "       [[ 1.6],\n",
              "        [-4.9],\n",
              "        [-3.4],\n",
              "        [-3.3]],\n",
              "\n",
              "       [[-4.9],\n",
              "        [-3.4],\n",
              "        [-3.3],\n",
              "        [-4.3]],\n",
              "\n",
              "       [[-3.4],\n",
              "        [-3.3],\n",
              "        [-4.3],\n",
              "        [ 6.5]],\n",
              "\n",
              "       [[-3.3],\n",
              "        [-4.3],\n",
              "        [ 6.5],\n",
              "        [ 4. ]],\n",
              "\n",
              "       [[-4.3],\n",
              "        [ 6.5],\n",
              "        [ 4. ],\n",
              "        [ 4. ]],\n",
              "\n",
              "       [[ 6.5],\n",
              "        [ 4. ],\n",
              "        [ 4. ],\n",
              "        [ 9.2]],\n",
              "\n",
              "       [[ 4. ],\n",
              "        [ 4. ],\n",
              "        [ 9.2],\n",
              "        [ 2.6]],\n",
              "\n",
              "       [[ 4. ],\n",
              "        [ 9.2],\n",
              "        [ 2.6],\n",
              "        [-8.2]],\n",
              "\n",
              "       [[ 9.2],\n",
              "        [ 2.6],\n",
              "        [-8.2],\n",
              "        [ 3. ]]])"
            ]
          },
          "metadata": {
            "tags": []
          },
          "execution_count": 25
        }
      ]
    },
    {
      "cell_type": "code",
      "metadata": {
        "id": "aVxPR0H7m-C9",
        "colab_type": "code",
        "colab": {}
      },
      "source": [
        "# Scaling\n",
        "# In general, scaling will improve performance because the activation\n",
        "# is between -1 and 1\n",
        "\n",
        "# setup the scalers to use -1, 1 range\n",
        "X_scaler = MinMaxScaler(feature_range=(-1, 1))\n",
        "y_scaler = MinMaxScaler(feature_range=(-1, 1))\n",
        "\n",
        "# X is 3 dimensions e.g. (135, 4, 1)\n",
        "# since scaling only works for dimensions <= 2 (and X_train has 3 dimensions),\n",
        "# X_train.squeeze() will convert it to 2 dimensions\n",
        "# np.expand_dims() will add back the 3rd dimension\n",
        "X_train_sc = X_scaler.fit_transform(X_train.squeeze())\n",
        "X_train_sc = np.expand_dims(X_train_sc, axis=2)\n",
        "X_test_sc = X_scaler.transform(X_test.squeeze())\n",
        "X_test_sc = np.expand_dims(X_test_sc, axis=2)\n",
        "\n",
        "# y is 1 dimension e.g. (135,)\n",
        "# .reshape(-1, 1) will add a new dimension of size 1 while preserving\n",
        "y_train_sc = y_scaler.fit_transform(y_train.reshape(-1, 1))\n",
        "y_test_sc = y_scaler.transform(y_test.reshape(-1, 1))"
      ],
      "execution_count": 0,
      "outputs": []
    },
    {
      "cell_type": "markdown",
      "metadata": {
        "id": "OCb0IDLGh8wt",
        "colab_type": "text"
      },
      "source": [
        "## Vanilla LSTM\n",
        "\n",
        "Vanilla LSTM is an LSTM model that has a single hidden layer of LSTM units, followed by a dense layer used to make a prediction."
      ]
    },
    {
      "cell_type": "code",
      "metadata": {
        "id": "sZZMNQ6Vh8wu",
        "colab_type": "code",
        "outputId": "81b86ce7-a78c-4918-8e46-7b8d25340458",
        "colab": {
          "base_uri": "https://localhost:8080/",
          "height": 230
        }
      },
      "source": [
        "# define model\n",
        "\n",
        "model = Sequential()\n",
        "model.add(LSTM(100, input_shape=(n_steps, n_features)))\n",
        "model.add(Dense(1))\n",
        "model.summary()"
      ],
      "execution_count": 27,
      "outputs": [
        {
          "output_type": "stream",
          "text": [
            "Model: \"sequential\"\n",
            "_________________________________________________________________\n",
            "Layer (type)                 Output Shape              Param #   \n",
            "=================================================================\n",
            "lstm (LSTM)                  (None, 100)               40800     \n",
            "_________________________________________________________________\n",
            "dense (Dense)                (None, 1)                 101       \n",
            "=================================================================\n",
            "Total params: 40,901\n",
            "Trainable params: 40,901\n",
            "Non-trainable params: 0\n",
            "_________________________________________________________________\n"
          ],
          "name": "stdout"
        }
      ]
    },
    {
      "cell_type": "code",
      "metadata": {
        "id": "AbNvLDMAh8wv",
        "colab_type": "code",
        "colab": {}
      },
      "source": [
        "# Compile the model, use rmsprop (a common optimiser for RNNs, and use mse as loss because we are performing\n",
        "# regression)\n",
        "model.compile(loss='mse', optimizer='rmsprop')"
      ],
      "execution_count": 0,
      "outputs": []
    },
    {
      "cell_type": "code",
      "metadata": {
        "id": "HEpcAp_Kh8wx",
        "colab_type": "code",
        "colab": {}
      },
      "source": [
        "mc = ModelCheckpoint('./vanilla_lstm.h5', save_best_only=True)"
      ],
      "execution_count": 0,
      "outputs": []
    },
    {
      "cell_type": "code",
      "metadata": {
        "id": "kt-JoC8Ph8wz",
        "colab_type": "code",
        "outputId": "f200ed05-ae6d-4f16-e348-2811da829545",
        "colab": {
          "base_uri": "https://localhost:8080/",
          "height": 1000
        }
      },
      "source": [
        "history = model.fit(X_train_sc, y_train_sc, epochs=200, validation_data=(X_test_sc, y_test_sc), callbacks=[mc])"
      ],
      "execution_count": 30,
      "outputs": [
        {
          "output_type": "stream",
          "text": [
            "Train on 135 samples, validate on 34 samples\n",
            "Epoch 1/200\n",
            "135/135 [==============================] - 2s 16ms/sample - loss: 0.1033 - val_loss: 0.0457\n",
            "Epoch 2/200\n",
            "135/135 [==============================] - 0s 409us/sample - loss: 0.0991 - val_loss: 0.0449\n",
            "Epoch 3/200\n",
            "135/135 [==============================] - 0s 385us/sample - loss: 0.0944 - val_loss: 0.0435\n",
            "Epoch 4/200\n",
            "135/135 [==============================] - 0s 321us/sample - loss: 0.0919 - val_loss: 0.0448\n",
            "Epoch 5/200\n",
            "135/135 [==============================] - 0s 393us/sample - loss: 0.0892 - val_loss: 0.0405\n",
            "Epoch 6/200\n",
            "135/135 [==============================] - 0s 323us/sample - loss: 0.0909 - val_loss: 0.0434\n",
            "Epoch 7/200\n",
            "135/135 [==============================] - 0s 431us/sample - loss: 0.0877 - val_loss: 0.0400\n",
            "Epoch 8/200\n",
            "135/135 [==============================] - 0s 307us/sample - loss: 0.0863 - val_loss: 0.0405\n",
            "Epoch 9/200\n",
            "135/135 [==============================] - 0s 326us/sample - loss: 0.0845 - val_loss: 0.0455\n",
            "Epoch 10/200\n",
            "135/135 [==============================] - 0s 412us/sample - loss: 0.0839 - val_loss: 0.0386\n",
            "Epoch 11/200\n",
            "135/135 [==============================] - 0s 357us/sample - loss: 0.0822 - val_loss: 0.0548\n",
            "Epoch 12/200\n",
            "135/135 [==============================] - 0s 375us/sample - loss: 0.0838 - val_loss: 0.0419\n",
            "Epoch 13/200\n",
            "135/135 [==============================] - 0s 314us/sample - loss: 0.0817 - val_loss: 0.0401\n",
            "Epoch 14/200\n",
            "135/135 [==============================] - 0s 489us/sample - loss: 0.0799 - val_loss: 0.0375\n",
            "Epoch 15/200\n",
            "135/135 [==============================] - 0s 399us/sample - loss: 0.0809 - val_loss: 0.0373\n",
            "Epoch 16/200\n",
            "135/135 [==============================] - 0s 351us/sample - loss: 0.0780 - val_loss: 0.0414\n",
            "Epoch 17/200\n",
            "135/135 [==============================] - 0s 315us/sample - loss: 0.0802 - val_loss: 0.0456\n",
            "Epoch 18/200\n",
            "135/135 [==============================] - 0s 427us/sample - loss: 0.0773 - val_loss: 0.0369\n",
            "Epoch 19/200\n",
            "135/135 [==============================] - 0s 330us/sample - loss: 0.0764 - val_loss: 0.0406\n",
            "Epoch 20/200\n",
            "135/135 [==============================] - 0s 424us/sample - loss: 0.0767 - val_loss: 0.0357\n",
            "Epoch 21/200\n",
            "135/135 [==============================] - 0s 311us/sample - loss: 0.0765 - val_loss: 0.0534\n",
            "Epoch 22/200\n",
            "135/135 [==============================] - 0s 328us/sample - loss: 0.0791 - val_loss: 0.0394\n",
            "Epoch 23/200\n",
            "135/135 [==============================] - 0s 356us/sample - loss: 0.0760 - val_loss: 0.0363\n",
            "Epoch 24/200\n",
            "135/135 [==============================] - 0s 395us/sample - loss: 0.0750 - val_loss: 0.0364\n",
            "Epoch 25/200\n",
            "135/135 [==============================] - 0s 432us/sample - loss: 0.0750 - val_loss: 0.0354\n",
            "Epoch 26/200\n",
            "135/135 [==============================] - 0s 329us/sample - loss: 0.0751 - val_loss: 0.0356\n",
            "Epoch 27/200\n",
            "135/135 [==============================] - 0s 439us/sample - loss: 0.0747 - val_loss: 0.0351\n",
            "Epoch 28/200\n",
            "135/135 [==============================] - 0s 346us/sample - loss: 0.0745 - val_loss: 0.0426\n",
            "Epoch 29/200\n",
            "135/135 [==============================] - 0s 412us/sample - loss: 0.0784 - val_loss: 0.0349\n",
            "Epoch 30/200\n",
            "135/135 [==============================] - 0s 346us/sample - loss: 0.0735 - val_loss: 0.0354\n",
            "Epoch 31/200\n",
            "135/135 [==============================] - 0s 321us/sample - loss: 0.0739 - val_loss: 0.0381\n",
            "Epoch 32/200\n",
            "135/135 [==============================] - 0s 497us/sample - loss: 0.0741 - val_loss: 0.0346\n",
            "Epoch 33/200\n",
            "135/135 [==============================] - 0s 396us/sample - loss: 0.0741 - val_loss: 0.0344\n",
            "Epoch 34/200\n",
            "135/135 [==============================] - 0s 300us/sample - loss: 0.0744 - val_loss: 0.0372\n",
            "Epoch 35/200\n",
            "135/135 [==============================] - 0s 295us/sample - loss: 0.0736 - val_loss: 0.0359\n",
            "Epoch 36/200\n",
            "135/135 [==============================] - 0s 371us/sample - loss: 0.0750 - val_loss: 0.0361\n",
            "Epoch 37/200\n",
            "135/135 [==============================] - 0s 342us/sample - loss: 0.0755 - val_loss: 0.0344\n",
            "Epoch 38/200\n",
            "135/135 [==============================] - 0s 319us/sample - loss: 0.0747 - val_loss: 0.0368\n",
            "Epoch 39/200\n",
            "135/135 [==============================] - 0s 399us/sample - loss: 0.0738 - val_loss: 0.0343\n",
            "Epoch 40/200\n",
            "135/135 [==============================] - 0s 316us/sample - loss: 0.0751 - val_loss: 0.0352\n",
            "Epoch 41/200\n",
            "135/135 [==============================] - 0s 343us/sample - loss: 0.0748 - val_loss: 0.0346\n",
            "Epoch 42/200\n",
            "135/135 [==============================] - 0s 367us/sample - loss: 0.0740 - val_loss: 0.0357\n",
            "Epoch 43/200\n",
            "135/135 [==============================] - 0s 335us/sample - loss: 0.0730 - val_loss: 0.0359\n",
            "Epoch 44/200\n",
            "135/135 [==============================] - 0s 315us/sample - loss: 0.0750 - val_loss: 0.0402\n",
            "Epoch 45/200\n",
            "135/135 [==============================] - 0s 334us/sample - loss: 0.0745 - val_loss: 0.0371\n",
            "Epoch 46/200\n",
            "135/135 [==============================] - 0s 356us/sample - loss: 0.0745 - val_loss: 0.0447\n",
            "Epoch 47/200\n",
            "135/135 [==============================] - 0s 353us/sample - loss: 0.0762 - val_loss: 0.0352\n",
            "Epoch 48/200\n",
            "135/135 [==============================] - 0s 318us/sample - loss: 0.0733 - val_loss: 0.0526\n",
            "Epoch 49/200\n",
            "135/135 [==============================] - 0s 341us/sample - loss: 0.0807 - val_loss: 0.0471\n",
            "Epoch 50/200\n",
            "135/135 [==============================] - 0s 377us/sample - loss: 0.0743 - val_loss: 0.0340\n",
            "Epoch 51/200\n",
            "135/135 [==============================] - 0s 421us/sample - loss: 0.0733 - val_loss: 0.0339\n",
            "Epoch 52/200\n",
            "135/135 [==============================] - 0s 381us/sample - loss: 0.0739 - val_loss: 0.0428\n",
            "Epoch 53/200\n",
            "135/135 [==============================] - 0s 317us/sample - loss: 0.0757 - val_loss: 0.0413\n",
            "Epoch 54/200\n",
            "135/135 [==============================] - 0s 329us/sample - loss: 0.0733 - val_loss: 0.0361\n",
            "Epoch 55/200\n",
            "135/135 [==============================] - 0s 367us/sample - loss: 0.0729 - val_loss: 0.0367\n",
            "Epoch 56/200\n",
            "135/135 [==============================] - 0s 369us/sample - loss: 0.0734 - val_loss: 0.0351\n",
            "Epoch 57/200\n",
            "135/135 [==============================] - 0s 341us/sample - loss: 0.0756 - val_loss: 0.0339\n",
            "Epoch 58/200\n",
            "135/135 [==============================] - 0s 303us/sample - loss: 0.0730 - val_loss: 0.0361\n",
            "Epoch 59/200\n",
            "135/135 [==============================] - 0s 335us/sample - loss: 0.0749 - val_loss: 0.0366\n",
            "Epoch 60/200\n",
            "135/135 [==============================] - 0s 309us/sample - loss: 0.0735 - val_loss: 0.0482\n",
            "Epoch 61/200\n",
            "135/135 [==============================] - 0s 287us/sample - loss: 0.0784 - val_loss: 0.0349\n",
            "Epoch 62/200\n",
            "135/135 [==============================] - 0s 305us/sample - loss: 0.0735 - val_loss: 0.0353\n",
            "Epoch 63/200\n",
            "135/135 [==============================] - 0s 341us/sample - loss: 0.0739 - val_loss: 0.0342\n",
            "Epoch 64/200\n",
            "135/135 [==============================] - 0s 287us/sample - loss: 0.0732 - val_loss: 0.0366\n",
            "Epoch 65/200\n",
            "135/135 [==============================] - 0s 287us/sample - loss: 0.0757 - val_loss: 0.0339\n",
            "Epoch 66/200\n",
            "135/135 [==============================] - 0s 276us/sample - loss: 0.0730 - val_loss: 0.0407\n",
            "Epoch 67/200\n",
            "135/135 [==============================] - 0s 307us/sample - loss: 0.0727 - val_loss: 0.0341\n",
            "Epoch 68/200\n",
            "135/135 [==============================] - 0s 273us/sample - loss: 0.0737 - val_loss: 0.0359\n",
            "Epoch 69/200\n",
            "135/135 [==============================] - 0s 306us/sample - loss: 0.0737 - val_loss: 0.0392\n",
            "Epoch 70/200\n",
            "135/135 [==============================] - 0s 388us/sample - loss: 0.0740 - val_loss: 0.0342\n",
            "Epoch 71/200\n",
            "135/135 [==============================] - 0s 321us/sample - loss: 0.0728 - val_loss: 0.0403\n",
            "Epoch 72/200\n",
            "135/135 [==============================] - 0s 381us/sample - loss: 0.0737 - val_loss: 0.0335\n",
            "Epoch 73/200\n",
            "135/135 [==============================] - 0s 322us/sample - loss: 0.0738 - val_loss: 0.0363\n",
            "Epoch 74/200\n",
            "135/135 [==============================] - 0s 358us/sample - loss: 0.0733 - val_loss: 0.0446\n",
            "Epoch 75/200\n",
            "135/135 [==============================] - 0s 334us/sample - loss: 0.0748 - val_loss: 0.0377\n",
            "Epoch 76/200\n",
            "135/135 [==============================] - 0s 350us/sample - loss: 0.0746 - val_loss: 0.0342\n",
            "Epoch 77/200\n",
            "135/135 [==============================] - 0s 292us/sample - loss: 0.0747 - val_loss: 0.0343\n",
            "Epoch 78/200\n",
            "135/135 [==============================] - 0s 316us/sample - loss: 0.0729 - val_loss: 0.0365\n",
            "Epoch 79/200\n",
            "135/135 [==============================] - 0s 298us/sample - loss: 0.0738 - val_loss: 0.0346\n",
            "Epoch 80/200\n",
            "135/135 [==============================] - 0s 284us/sample - loss: 0.0742 - val_loss: 0.0354\n",
            "Epoch 81/200\n",
            "135/135 [==============================] - 0s 325us/sample - loss: 0.0724 - val_loss: 0.0339\n",
            "Epoch 82/200\n",
            "135/135 [==============================] - 0s 373us/sample - loss: 0.0738 - val_loss: 0.0332\n",
            "Epoch 83/200\n",
            "135/135 [==============================] - 0s 385us/sample - loss: 0.0732 - val_loss: 0.0332\n",
            "Epoch 84/200\n",
            "135/135 [==============================] - 0s 315us/sample - loss: 0.0741 - val_loss: 0.0336\n",
            "Epoch 85/200\n",
            "135/135 [==============================] - 0s 323us/sample - loss: 0.0728 - val_loss: 0.0334\n",
            "Epoch 86/200\n",
            "135/135 [==============================] - 0s 296us/sample - loss: 0.0735 - val_loss: 0.0420\n",
            "Epoch 87/200\n",
            "135/135 [==============================] - 0s 361us/sample - loss: 0.0743 - val_loss: 0.0331\n",
            "Epoch 88/200\n",
            "135/135 [==============================] - 0s 301us/sample - loss: 0.0746 - val_loss: 0.0363\n",
            "Epoch 89/200\n",
            "135/135 [==============================] - 0s 287us/sample - loss: 0.0730 - val_loss: 0.0363\n",
            "Epoch 90/200\n",
            "135/135 [==============================] - 0s 280us/sample - loss: 0.0729 - val_loss: 0.0342\n",
            "Epoch 91/200\n",
            "135/135 [==============================] - 0s 440us/sample - loss: 0.0730 - val_loss: 0.0330\n",
            "Epoch 92/200\n",
            "135/135 [==============================] - 0s 304us/sample - loss: 0.0742 - val_loss: 0.0365\n",
            "Epoch 93/200\n",
            "135/135 [==============================] - 0s 311us/sample - loss: 0.0733 - val_loss: 0.0381\n",
            "Epoch 94/200\n",
            "135/135 [==============================] - 0s 303us/sample - loss: 0.0735 - val_loss: 0.0346\n",
            "Epoch 95/200\n",
            "135/135 [==============================] - 0s 308us/sample - loss: 0.0730 - val_loss: 0.0341\n",
            "Epoch 96/200\n",
            "135/135 [==============================] - 0s 385us/sample - loss: 0.0741 - val_loss: 0.0326\n",
            "Epoch 97/200\n",
            "135/135 [==============================] - 0s 419us/sample - loss: 0.0749 - val_loss: 0.0326\n",
            "Epoch 98/200\n",
            "135/135 [==============================] - 0s 378us/sample - loss: 0.0737 - val_loss: 0.0328\n",
            "Epoch 99/200\n",
            "135/135 [==============================] - 0s 301us/sample - loss: 0.0728 - val_loss: 0.0329\n",
            "Epoch 100/200\n",
            "135/135 [==============================] - 0s 308us/sample - loss: 0.0722 - val_loss: 0.0342\n",
            "Epoch 101/200\n",
            "135/135 [==============================] - 0s 410us/sample - loss: 0.0727 - val_loss: 0.0325\n",
            "Epoch 102/200\n",
            "135/135 [==============================] - 0s 320us/sample - loss: 0.0737 - val_loss: 0.0326\n",
            "Epoch 103/200\n",
            "135/135 [==============================] - 0s 308us/sample - loss: 0.0734 - val_loss: 0.0331\n",
            "Epoch 104/200\n",
            "135/135 [==============================] - 0s 293us/sample - loss: 0.0749 - val_loss: 0.0334\n",
            "Epoch 105/200\n",
            "135/135 [==============================] - 0s 325us/sample - loss: 0.0742 - val_loss: 0.0326\n",
            "Epoch 106/200\n",
            "135/135 [==============================] - 0s 292us/sample - loss: 0.0732 - val_loss: 0.0336\n",
            "Epoch 107/200\n",
            "135/135 [==============================] - 0s 313us/sample - loss: 0.0727 - val_loss: 0.0338\n",
            "Epoch 108/200\n",
            "135/135 [==============================] - 0s 368us/sample - loss: 0.0739 - val_loss: 0.0325\n",
            "Epoch 109/200\n",
            "135/135 [==============================] - 0s 323us/sample - loss: 0.0733 - val_loss: 0.0325\n",
            "Epoch 110/200\n",
            "135/135 [==============================] - 0s 296us/sample - loss: 0.0734 - val_loss: 0.0326\n",
            "Epoch 111/200\n",
            "135/135 [==============================] - 0s 304us/sample - loss: 0.0727 - val_loss: 0.0360\n",
            "Epoch 112/200\n",
            "135/135 [==============================] - 0s 319us/sample - loss: 0.0731 - val_loss: 0.0345\n",
            "Epoch 113/200\n",
            "135/135 [==============================] - 0s 293us/sample - loss: 0.0728 - val_loss: 0.0350\n",
            "Epoch 114/200\n",
            "135/135 [==============================] - 0s 285us/sample - loss: 0.0740 - val_loss: 0.0327\n",
            "Epoch 115/200\n",
            "135/135 [==============================] - 0s 294us/sample - loss: 0.0747 - val_loss: 0.0331\n",
            "Epoch 116/200\n",
            "135/135 [==============================] - 0s 428us/sample - loss: 0.0723 - val_loss: 0.0322\n",
            "Epoch 117/200\n",
            "135/135 [==============================] - 0s 308us/sample - loss: 0.0732 - val_loss: 0.0365\n",
            "Epoch 118/200\n",
            "135/135 [==============================] - 0s 301us/sample - loss: 0.0727 - val_loss: 0.0327\n",
            "Epoch 119/200\n",
            "135/135 [==============================] - 0s 331us/sample - loss: 0.0722 - val_loss: 0.0326\n",
            "Epoch 120/200\n",
            "135/135 [==============================] - 0s 416us/sample - loss: 0.0743 - val_loss: 0.0372\n",
            "Epoch 121/200\n",
            "135/135 [==============================] - 0s 319us/sample - loss: 0.0726 - val_loss: 0.0326\n",
            "Epoch 122/200\n",
            "135/135 [==============================] - 0s 341us/sample - loss: 0.0733 - val_loss: 0.0323\n",
            "Epoch 123/200\n",
            "135/135 [==============================] - 0s 381us/sample - loss: 0.0734 - val_loss: 0.0325\n",
            "Epoch 124/200\n",
            "135/135 [==============================] - 0s 328us/sample - loss: 0.0724 - val_loss: 0.0325\n",
            "Epoch 125/200\n",
            "135/135 [==============================] - 0s 290us/sample - loss: 0.0720 - val_loss: 0.0364\n",
            "Epoch 126/200\n",
            "135/135 [==============================] - 0s 316us/sample - loss: 0.0725 - val_loss: 0.0336\n",
            "Epoch 127/200\n",
            "135/135 [==============================] - 0s 308us/sample - loss: 0.0750 - val_loss: 0.0333\n",
            "Epoch 128/200\n",
            "135/135 [==============================] - 0s 290us/sample - loss: 0.0725 - val_loss: 0.0348\n",
            "Epoch 129/200\n",
            "135/135 [==============================] - 0s 306us/sample - loss: 0.0724 - val_loss: 0.0341\n",
            "Epoch 130/200\n",
            "135/135 [==============================] - 0s 298us/sample - loss: 0.0728 - val_loss: 0.0323\n",
            "Epoch 131/200\n",
            "135/135 [==============================] - 0s 381us/sample - loss: 0.0728 - val_loss: 0.0319\n",
            "Epoch 132/200\n",
            "135/135 [==============================] - 0s 273us/sample - loss: 0.0725 - val_loss: 0.0342\n",
            "Epoch 133/200\n",
            "135/135 [==============================] - 0s 290us/sample - loss: 0.0714 - val_loss: 0.0330\n",
            "Epoch 134/200\n",
            "135/135 [==============================] - 0s 274us/sample - loss: 0.0715 - val_loss: 0.0321\n",
            "Epoch 135/200\n",
            "135/135 [==============================] - 0s 279us/sample - loss: 0.0728 - val_loss: 0.0358\n",
            "Epoch 136/200\n",
            "135/135 [==============================] - 0s 305us/sample - loss: 0.0730 - val_loss: 0.0334\n",
            "Epoch 137/200\n",
            "135/135 [==============================] - 0s 351us/sample - loss: 0.0741 - val_loss: 0.0323\n",
            "Epoch 138/200\n",
            "135/135 [==============================] - 0s 330us/sample - loss: 0.0719 - val_loss: 0.0339\n",
            "Epoch 139/200\n",
            "135/135 [==============================] - 0s 401us/sample - loss: 0.0730 - val_loss: 0.0317\n",
            "Epoch 140/200\n",
            "135/135 [==============================] - 0s 365us/sample - loss: 0.0718 - val_loss: 0.0320\n",
            "Epoch 141/200\n",
            "135/135 [==============================] - 0s 449us/sample - loss: 0.0735 - val_loss: 0.0314\n",
            "Epoch 142/200\n",
            "135/135 [==============================] - 0s 367us/sample - loss: 0.0720 - val_loss: 0.0319\n",
            "Epoch 143/200\n",
            "135/135 [==============================] - 0s 338us/sample - loss: 0.0714 - val_loss: 0.0418\n",
            "Epoch 144/200\n",
            "135/135 [==============================] - 0s 450us/sample - loss: 0.0739 - val_loss: 0.0313\n",
            "Epoch 145/200\n",
            "135/135 [==============================] - 0s 304us/sample - loss: 0.0713 - val_loss: 0.0319\n",
            "Epoch 146/200\n",
            "135/135 [==============================] - 0s 357us/sample - loss: 0.0717 - val_loss: 0.0320\n",
            "Epoch 147/200\n",
            "135/135 [==============================] - 0s 301us/sample - loss: 0.0722 - val_loss: 0.0331\n",
            "Epoch 148/200\n",
            "135/135 [==============================] - 0s 300us/sample - loss: 0.0711 - val_loss: 0.0324\n",
            "Epoch 149/200\n",
            "135/135 [==============================] - 0s 268us/sample - loss: 0.0751 - val_loss: 0.0322\n",
            "Epoch 150/200\n",
            "135/135 [==============================] - 0s 402us/sample - loss: 0.0722 - val_loss: 0.0313\n",
            "Epoch 151/200\n",
            "135/135 [==============================] - 0s 332us/sample - loss: 0.0716 - val_loss: 0.0348\n",
            "Epoch 152/200\n",
            "135/135 [==============================] - 0s 314us/sample - loss: 0.0725 - val_loss: 0.0328\n",
            "Epoch 153/200\n",
            "135/135 [==============================] - 0s 397us/sample - loss: 0.0717 - val_loss: 0.0333\n",
            "Epoch 154/200\n",
            "135/135 [==============================] - 0s 301us/sample - loss: 0.0738 - val_loss: 0.0321\n",
            "Epoch 155/200\n",
            "135/135 [==============================] - 0s 310us/sample - loss: 0.0719 - val_loss: 0.0342\n",
            "Epoch 156/200\n",
            "135/135 [==============================] - 0s 385us/sample - loss: 0.0712 - val_loss: 0.0311\n",
            "Epoch 157/200\n",
            "135/135 [==============================] - 0s 330us/sample - loss: 0.0727 - val_loss: 0.0315\n",
            "Epoch 158/200\n",
            "135/135 [==============================] - 0s 286us/sample - loss: 0.0720 - val_loss: 0.0343\n",
            "Epoch 159/200\n",
            "135/135 [==============================] - 0s 302us/sample - loss: 0.0725 - val_loss: 0.0317\n",
            "Epoch 160/200\n",
            "135/135 [==============================] - 0s 329us/sample - loss: 0.0713 - val_loss: 0.0406\n",
            "Epoch 161/200\n",
            "135/135 [==============================] - 0s 335us/sample - loss: 0.0740 - val_loss: 0.0312\n",
            "Epoch 162/200\n",
            "135/135 [==============================] - 0s 320us/sample - loss: 0.0710 - val_loss: 0.0314\n",
            "Epoch 163/200\n",
            "135/135 [==============================] - 0s 299us/sample - loss: 0.0713 - val_loss: 0.0319\n",
            "Epoch 164/200\n",
            "135/135 [==============================] - 0s 317us/sample - loss: 0.0745 - val_loss: 0.0311\n",
            "Epoch 165/200\n",
            "135/135 [==============================] - 0s 297us/sample - loss: 0.0710 - val_loss: 0.0327\n",
            "Epoch 166/200\n",
            "135/135 [==============================] - 0s 284us/sample - loss: 0.0718 - val_loss: 0.0320\n",
            "Epoch 167/200\n",
            "135/135 [==============================] - 0s 396us/sample - loss: 0.0715 - val_loss: 0.0307\n",
            "Epoch 168/200\n",
            "135/135 [==============================] - 0s 446us/sample - loss: 0.0709 - val_loss: 0.0306\n",
            "Epoch 169/200\n",
            "135/135 [==============================] - 0s 335us/sample - loss: 0.0715 - val_loss: 0.0309\n",
            "Epoch 170/200\n",
            "135/135 [==============================] - 0s 305us/sample - loss: 0.0711 - val_loss: 0.0417\n",
            "Epoch 171/200\n",
            "135/135 [==============================] - 0s 303us/sample - loss: 0.0754 - val_loss: 0.0327\n",
            "Epoch 172/200\n",
            "135/135 [==============================] - 0s 331us/sample - loss: 0.0713 - val_loss: 0.0321\n",
            "Epoch 173/200\n",
            "135/135 [==============================] - 0s 297us/sample - loss: 0.0707 - val_loss: 0.0312\n",
            "Epoch 174/200\n",
            "135/135 [==============================] - 0s 300us/sample - loss: 0.0711 - val_loss: 0.0309\n",
            "Epoch 175/200\n",
            "135/135 [==============================] - 0s 326us/sample - loss: 0.0709 - val_loss: 0.0313\n",
            "Epoch 176/200\n",
            "135/135 [==============================] - 0s 315us/sample - loss: 0.0726 - val_loss: 0.0311\n",
            "Epoch 177/200\n",
            "135/135 [==============================] - 0s 297us/sample - loss: 0.0718 - val_loss: 0.0308\n",
            "Epoch 178/200\n",
            "135/135 [==============================] - 0s 333us/sample - loss: 0.0716 - val_loss: 0.0312\n",
            "Epoch 179/200\n",
            "135/135 [==============================] - 0s 369us/sample - loss: 0.0718 - val_loss: 0.0306\n",
            "Epoch 180/200\n",
            "135/135 [==============================] - 0s 330us/sample - loss: 0.0715 - val_loss: 0.0314\n",
            "Epoch 181/200\n",
            "135/135 [==============================] - 0s 315us/sample - loss: 0.0727 - val_loss: 0.0317\n",
            "Epoch 182/200\n",
            "135/135 [==============================] - 0s 319us/sample - loss: 0.0733 - val_loss: 0.0317\n",
            "Epoch 183/200\n",
            "135/135 [==============================] - 0s 334us/sample - loss: 0.0717 - val_loss: 0.0335\n",
            "Epoch 184/200\n",
            "135/135 [==============================] - 0s 317us/sample - loss: 0.0723 - val_loss: 0.0313\n",
            "Epoch 185/200\n",
            "135/135 [==============================] - 0s 320us/sample - loss: 0.0719 - val_loss: 0.0315\n",
            "Epoch 186/200\n",
            "135/135 [==============================] - 0s 282us/sample - loss: 0.0708 - val_loss: 0.0358\n",
            "Epoch 187/200\n",
            "135/135 [==============================] - 0s 305us/sample - loss: 0.0720 - val_loss: 0.0328\n",
            "Epoch 188/200\n",
            "135/135 [==============================] - 0s 383us/sample - loss: 0.0712 - val_loss: 0.0317\n",
            "Epoch 189/200\n",
            "135/135 [==============================] - 0s 295us/sample - loss: 0.0722 - val_loss: 0.0325\n",
            "Epoch 190/200\n",
            "135/135 [==============================] - 0s 317us/sample - loss: 0.0727 - val_loss: 0.0312\n",
            "Epoch 191/200\n",
            "135/135 [==============================] - 0s 280us/sample - loss: 0.0708 - val_loss: 0.0309\n",
            "Epoch 192/200\n",
            "135/135 [==============================] - 0s 322us/sample - loss: 0.0703 - val_loss: 0.0381\n",
            "Epoch 193/200\n",
            "135/135 [==============================] - 0s 322us/sample - loss: 0.0720 - val_loss: 0.0349\n",
            "Epoch 194/200\n",
            "135/135 [==============================] - 0s 403us/sample - loss: 0.0716 - val_loss: 0.0305\n",
            "Epoch 195/200\n",
            "135/135 [==============================] - 0s 278us/sample - loss: 0.0708 - val_loss: 0.0332\n",
            "Epoch 196/200\n",
            "135/135 [==============================] - 0s 280us/sample - loss: 0.0707 - val_loss: 0.0314\n",
            "Epoch 197/200\n",
            "135/135 [==============================] - 0s 356us/sample - loss: 0.0712 - val_loss: 0.0302\n",
            "Epoch 198/200\n",
            "135/135 [==============================] - 0s 273us/sample - loss: 0.0720 - val_loss: 0.0313\n",
            "Epoch 199/200\n",
            "135/135 [==============================] - 0s 388us/sample - loss: 0.0713 - val_loss: 0.0302\n",
            "Epoch 200/200\n",
            "135/135 [==============================] - 0s 308us/sample - loss: 0.0701 - val_loss: 0.0310\n"
          ],
          "name": "stdout"
        }
      ]
    },
    {
      "cell_type": "code",
      "metadata": {
        "id": "gW72N41gh8w0",
        "colab_type": "code",
        "outputId": "046f6aae-fd6e-41c2-ebad-2ec2b81395b8",
        "colab": {
          "base_uri": "https://localhost:8080/",
          "height": 295
        }
      },
      "source": [
        "# plot the learning curve\n",
        "fig, ax = plt.subplots()\n",
        "ax.plot(history.history['loss'], label='train')\n",
        "ax.plot(history.history['val_loss'], label='validation')\n",
        "ax.set_title('learning curve')\n",
        "ax.set_xlabel('epochs')\n",
        "ax.set_ylabel('mse')\n",
        "ax.legend()\n",
        "plt.show()"
      ],
      "execution_count": 31,
      "outputs": [
        {
          "output_type": "display_data",
          "data": {
            "image/png": "[encoded data removed]",
            "text/plain": [
              "<Figure size 432x288 with 1 Axes>"
            ]
          },
          "metadata": {
            "tags": []
          }
        }
      ]
    },
    {
      "cell_type": "markdown",
      "metadata": {
        "id": "Cpcrxpozh8w3",
        "colab_type": "text"
      },
      "source": [
        "### Predict"
      ]
    },
    {
      "cell_type": "code",
      "metadata": {
        "id": "JYO_Lx5Ah8w5",
        "colab_type": "code",
        "outputId": "781ebf17-0e77-4bef-8a38-a3f9eeb8e307",
        "colab": {
          "base_uri": "https://localhost:8080/",
          "height": 0
        }
      },
      "source": [
        "best_model = load_model('./vanilla_lstm.h5')\n",
        "best_model.summary()"
      ],
      "execution_count": 32,
      "outputs": [
        {
          "output_type": "stream",
          "text": [
            "Model: \"sequential\"\n",
            "_________________________________________________________________\n",
            "Layer (type)                 Output Shape              Param #   \n",
            "=================================================================\n",
            "lstm (LSTM)                  (None, 100)               40800     \n",
            "_________________________________________________________________\n",
            "dense (Dense)                (None, 1)                 101       \n",
            "=================================================================\n",
            "Total params: 40,901\n",
            "Trainable params: 40,901\n",
            "Non-trainable params: 0\n",
            "_________________________________________________________________\n"
          ],
          "name": "stdout"
        }
      ]
    },
    {
      "cell_type": "code",
      "metadata": {
        "id": "SRiee1xih8w9",
        "colab_type": "code",
        "outputId": "18888689-fe7a-4d45-93d0-58d45a70987e",
        "colab": {
          "base_uri": "https://localhost:8080/",
          "height": 0
        }
      },
      "source": [
        "# last 5 values of the test set\n",
        "test, testy = X_test_sc[-5:], y_test_sc[-5:]\n",
        "test, testy"
      ],
      "execution_count": 33,
      "outputs": [
        {
          "output_type": "execute_result",
          "data": {
            "text/plain": [
              "(array([[[-0.02702703],\n",
              "         [-0.37837838],\n",
              "         [ 0.05747126],\n",
              "         [-0.10344828]],\n",
              " \n",
              "        [[-0.37837838],\n",
              "         [-0.10810811],\n",
              "         [-0.10344828],\n",
              "         [-0.24137931]],\n",
              " \n",
              "        [[-0.10810811],\n",
              "         [-0.2972973 ],\n",
              "         [-0.24137931],\n",
              "         [-0.20689655]],\n",
              " \n",
              "        [[-0.2972973 ],\n",
              "         [-0.45945946],\n",
              "         [-0.20689655],\n",
              "         [-0.08045977]],\n",
              " \n",
              "        [[-0.45945946],\n",
              "         [-0.41891892],\n",
              "         [-0.08045977],\n",
              "         [-0.16091954]]]), array([[-0.24137931],\n",
              "        [-0.20689655],\n",
              "        [-0.08045977],\n",
              "        [-0.16091954],\n",
              "        [-0.02298851]]))"
            ]
          },
          "metadata": {
            "tags": []
          },
          "execution_count": 33
        }
      ]
    },
    {
      "cell_type": "code",
      "metadata": {
        "id": "2DI0Fqwyh8w_",
        "colab_type": "code",
        "outputId": "e1bdfde8-8ff2-4ae8-e038-7b21c652c05f",
        "colab": {
          "base_uri": "https://localhost:8080/",
          "height": 0
        }
      },
      "source": [
        "pred = best_model.predict(test)\n",
        "\n",
        "mean_squared_error(testy, pred), r2_score(testy, pred)"
      ],
      "execution_count": 34,
      "outputs": [
        {
          "output_type": "execute_result",
          "data": {
            "text/plain": [
              "(0.006829654190856684, -0.05411200184735376)"
            ]
          },
          "metadata": {
            "tags": []
          },
          "execution_count": 34
        }
      ]
    },
    {
      "cell_type": "code",
      "metadata": {
        "id": "2MiwQdf1h8xA",
        "colab_type": "code",
        "outputId": "27e234b0-5e86-40ca-fe59-f80c590f7216",
        "colab": {
          "base_uri": "https://localhost:8080/",
          "height": 0
        }
      },
      "source": [
        "fig, ax = plt.subplots()\n",
        "ax.plot(testy, label='truth')\n",
        "ax.plot(pred, label='pred')\n",
        "ax.legend()\n",
        "plt.show()"
      ],
      "execution_count": 35,
      "outputs": [
        {
          "output_type": "display_data",
          "data": {
            "image/png": "[encoded data removed]",
            "text/plain": [
              "<Figure size 432x288 with 1 Axes>"
            ]
          },
          "metadata": {
            "tags": []
          }
        }
      ]
    },
    {
      "cell_type": "code",
      "metadata": {
        "id": "UHa2XERph8xC",
        "colab_type": "code",
        "outputId": "ea0f88d9-7aea-4a5c-cb6a-2d5ee7e80017",
        "colab": {
          "base_uri": "https://localhost:8080/",
          "height": 0
        }
      },
      "source": [
        "# Plot unscaled predictions vs. actual\n",
        "\n",
        "pred_unscaled = y_scaler.inverse_transform(pred)\n",
        "\n",
        "fig, ax = plt.subplots()\n",
        "ax.plot(y_test[-5:], label='truth (unscaled)')\n",
        "ax.plot(pred_unscaled, label='pred (unscaled)')\n",
        "ax.legend()\n",
        "plt.show()"
      ],
      "execution_count": 36,
      "outputs": [
        {
          "output_type": "display_data",
          "data": {
            "image/png": "[encoded data removed]",
            "text/plain": [
              "<Figure size 432x288 with 1 Axes>"
            ]
          },
          "metadata": {
            "tags": []
          }
        }
      ]
    },
    {
      "cell_type": "markdown",
      "metadata": {
        "id": "krlDDDc0h8xD",
        "colab_type": "text"
      },
      "source": [
        "## Stacked LSTM\n",
        "\n",
        "Multiple hidden LSTM layers can be stacked one on top of another in what is referred to as a Stacked LSTM model.\n",
        "\n",
        "An LSTM layer requires a three-dimensional input and LSTMs by default will produce a two-dimensional output as an interpretation from the end of the sequence.\n",
        "\n",
        "We can address this by having the LSTM output a value for each time step in the input data by setting the return_sequences=True argument on the layer. This allows us to have 3D output from hidden LSTM layer as input to the next."
      ]
    },
    {
      "cell_type": "code",
      "metadata": {
        "id": "9_mWwNkFh8xE",
        "colab_type": "code",
        "outputId": "34bcee12-7e70-4a5e-d5a2-e90ec312dbdb",
        "colab": {
          "base_uri": "https://localhost:8080/",
          "height": 266
        }
      },
      "source": [
        "# define model\n",
        "model1 = Sequential()\n",
        "\n",
        "model1.add(LSTM(100, return_sequences=True, input_shape=(n_steps, n_features)))\n",
        "model1.add(LSTM(100))\n",
        "model1.add(Dense(1))\n",
        "model1.summary()"
      ],
      "execution_count": 37,
      "outputs": [
        {
          "output_type": "stream",
          "text": [
            "Model: \"sequential_1\"\n",
            "_________________________________________________________________\n",
            "Layer (type)                 Output Shape              Param #   \n",
            "=================================================================\n",
            "lstm_1 (LSTM)                (None, 4, 100)            40800     \n",
            "_________________________________________________________________\n",
            "lstm_2 (LSTM)                (None, 100)               80400     \n",
            "_________________________________________________________________\n",
            "dense_1 (Dense)              (None, 1)                 101       \n",
            "=================================================================\n",
            "Total params: 121,301\n",
            "Trainable params: 121,301\n",
            "Non-trainable params: 0\n",
            "_________________________________________________________________\n"
          ],
          "name": "stdout"
        }
      ]
    },
    {
      "cell_type": "code",
      "metadata": {
        "id": "ET6GaLs6h8xG",
        "colab_type": "code",
        "colab": {}
      },
      "source": [
        "# compile the model\n",
        "model1.compile(loss='mse', optimizer='rmsprop')"
      ],
      "execution_count": 0,
      "outputs": []
    },
    {
      "cell_type": "code",
      "metadata": {
        "id": "ra9e59u1h8xH",
        "colab_type": "code",
        "colab": {}
      },
      "source": [
        "mc1 = ModelCheckpoint('./stacked_lstm.h5', save_best_only=True)"
      ],
      "execution_count": 0,
      "outputs": []
    },
    {
      "cell_type": "code",
      "metadata": {
        "id": "WV55yNz3h8xI",
        "colab_type": "code",
        "outputId": "60098887-e6b6-4c57-9774-368749415aa5",
        "colab": {
          "base_uri": "https://localhost:8080/",
          "height": 1000
        }
      },
      "source": [
        "history = model1.fit(X_train_sc, y_train_sc, epochs=200, validation_data=(X_test_sc, y_test_sc), callbacks=[mc1])"
      ],
      "execution_count": 40,
      "outputs": [
        {
          "output_type": "stream",
          "text": [
            "Train on 135 samples, validate on 34 samples\n",
            "Epoch 1/200\n",
            "135/135 [==============================] - 3s 23ms/sample - loss: 0.1026 - val_loss: 0.0442\n",
            "Epoch 2/200\n",
            "135/135 [==============================] - 0s 659us/sample - loss: 0.0957 - val_loss: 0.0413\n",
            "Epoch 3/200\n",
            "135/135 [==============================] - 0s 489us/sample - loss: 0.0910 - val_loss: 0.0442\n",
            "Epoch 4/200\n",
            "135/135 [==============================] - 0s 656us/sample - loss: 0.0900 - val_loss: 0.0382\n",
            "Epoch 5/200\n",
            "135/135 [==============================] - 0s 605us/sample - loss: 0.0877 - val_loss: 0.0361\n",
            "Epoch 6/200\n",
            "135/135 [==============================] - 0s 488us/sample - loss: 0.0875 - val_loss: 0.0460\n",
            "Epoch 7/200\n",
            "135/135 [==============================] - 0s 632us/sample - loss: 0.0862 - val_loss: 0.0360\n",
            "Epoch 8/200\n",
            "135/135 [==============================] - 0s 550us/sample - loss: 0.0841 - val_loss: 0.0503\n",
            "Epoch 9/200\n",
            "135/135 [==============================] - 0s 620us/sample - loss: 0.0801 - val_loss: 0.0340\n",
            "Epoch 10/200\n",
            "135/135 [==============================] - 0s 502us/sample - loss: 0.0811 - val_loss: 0.0497\n",
            "Epoch 11/200\n",
            "135/135 [==============================] - 0s 509us/sample - loss: 0.0806 - val_loss: 0.0378\n",
            "Epoch 12/200\n",
            "135/135 [==============================] - 0s 580us/sample - loss: 0.0809 - val_loss: 0.0329\n",
            "Epoch 13/200\n",
            "135/135 [==============================] - 0s 634us/sample - loss: 0.0789 - val_loss: 0.0320\n",
            "Epoch 14/200\n",
            "135/135 [==============================] - 0s 493us/sample - loss: 0.0767 - val_loss: 0.0370\n",
            "Epoch 15/200\n",
            "135/135 [==============================] - 0s 560us/sample - loss: 0.0758 - val_loss: 0.0354\n",
            "Epoch 16/200\n",
            "135/135 [==============================] - 0s 632us/sample - loss: 0.0778 - val_loss: 0.0316\n",
            "Epoch 17/200\n",
            "135/135 [==============================] - 0s 529us/sample - loss: 0.0750 - val_loss: 0.0323\n",
            "Epoch 18/200\n",
            "135/135 [==============================] - 0s 497us/sample - loss: 0.0767 - val_loss: 0.0318\n",
            "Epoch 19/200\n",
            "135/135 [==============================] - 0s 467us/sample - loss: 0.0745 - val_loss: 0.0415\n",
            "Epoch 20/200\n",
            "135/135 [==============================] - 0s 529us/sample - loss: 0.0775 - val_loss: 0.0326\n",
            "Epoch 21/200\n",
            "135/135 [==============================] - 0s 554us/sample - loss: 0.0727 - val_loss: 0.0416\n",
            "Epoch 22/200\n",
            "135/135 [==============================] - 0s 497us/sample - loss: 0.0763 - val_loss: 0.0592\n",
            "Epoch 23/200\n",
            "135/135 [==============================] - 0s 495us/sample - loss: 0.0775 - val_loss: 0.0359\n",
            "Epoch 24/200\n",
            "135/135 [==============================] - 0s 537us/sample - loss: 0.0807 - val_loss: 0.0371\n",
            "Epoch 25/200\n",
            "135/135 [==============================] - 0s 539us/sample - loss: 0.0741 - val_loss: 0.0352\n",
            "Epoch 26/200\n",
            "135/135 [==============================] - 0s 507us/sample - loss: 0.0831 - val_loss: 0.0423\n",
            "Epoch 27/200\n",
            "135/135 [==============================] - 0s 495us/sample - loss: 0.0751 - val_loss: 0.0335\n",
            "Epoch 28/200\n",
            "135/135 [==============================] - 0s 560us/sample - loss: 0.0745 - val_loss: 0.0430\n",
            "Epoch 29/200\n",
            "135/135 [==============================] - 0s 529us/sample - loss: 0.0752 - val_loss: 0.0324\n",
            "Epoch 30/200\n",
            "135/135 [==============================] - 0s 504us/sample - loss: 0.0726 - val_loss: 0.0320\n",
            "Epoch 31/200\n",
            "135/135 [==============================] - 0s 507us/sample - loss: 0.0719 - val_loss: 0.0756\n",
            "Epoch 32/200\n",
            "135/135 [==============================] - 0s 513us/sample - loss: 0.0798 - val_loss: 0.0342\n",
            "Epoch 33/200\n",
            "135/135 [==============================] - 0s 500us/sample - loss: 0.0751 - val_loss: 0.0339\n",
            "Epoch 34/200\n",
            "135/135 [==============================] - 0s 553us/sample - loss: 0.0741 - val_loss: 0.0367\n",
            "Epoch 35/200\n",
            "135/135 [==============================] - 0s 628us/sample - loss: 0.0726 - val_loss: 0.0311\n",
            "Epoch 36/200\n",
            "135/135 [==============================] - 0s 532us/sample - loss: 0.0748 - val_loss: 0.0325\n",
            "Epoch 37/200\n",
            "135/135 [==============================] - 0s 540us/sample - loss: 0.0750 - val_loss: 0.0313\n",
            "Epoch 38/200\n",
            "135/135 [==============================] - 0s 499us/sample - loss: 0.0735 - val_loss: 0.0359\n",
            "Epoch 39/200\n",
            "135/135 [==============================] - 0s 551us/sample - loss: 0.0741 - val_loss: 0.0321\n",
            "Epoch 40/200\n",
            "135/135 [==============================] - 0s 545us/sample - loss: 0.0772 - val_loss: 0.0315\n",
            "Epoch 41/200\n",
            "135/135 [==============================] - 0s 617us/sample - loss: 0.0723 - val_loss: 0.0388\n",
            "Epoch 42/200\n",
            "135/135 [==============================] - 0s 517us/sample - loss: 0.0758 - val_loss: 0.0330\n",
            "Epoch 43/200\n",
            "135/135 [==============================] - 0s 551us/sample - loss: 0.0774 - val_loss: 0.0319\n",
            "Epoch 44/200\n",
            "135/135 [==============================] - 0s 498us/sample - loss: 0.0762 - val_loss: 0.0390\n",
            "Epoch 45/200\n",
            "135/135 [==============================] - 0s 501us/sample - loss: 0.0741 - val_loss: 0.0336\n",
            "Epoch 46/200\n",
            "135/135 [==============================] - 0s 503us/sample - loss: 0.0748 - val_loss: 0.0509\n",
            "Epoch 47/200\n",
            "135/135 [==============================] - 0s 493us/sample - loss: 0.0785 - val_loss: 0.0338\n",
            "Epoch 48/200\n",
            "135/135 [==============================] - 0s 563us/sample - loss: 0.0742 - val_loss: 0.0333\n",
            "Epoch 49/200\n",
            "135/135 [==============================] - 0s 482us/sample - loss: 0.0742 - val_loss: 0.0368\n",
            "Epoch 50/200\n",
            "135/135 [==============================] - 0s 492us/sample - loss: 0.0731 - val_loss: 0.0321\n",
            "Epoch 51/200\n",
            "135/135 [==============================] - 0s 562us/sample - loss: 0.0730 - val_loss: 0.0321\n",
            "Epoch 52/200\n",
            "135/135 [==============================] - 0s 503us/sample - loss: 0.0747 - val_loss: 0.0347\n",
            "Epoch 53/200\n",
            "135/135 [==============================] - 0s 492us/sample - loss: 0.0739 - val_loss: 0.0330\n",
            "Epoch 54/200\n",
            "135/135 [==============================] - 0s 482us/sample - loss: 0.0741 - val_loss: 0.0328\n",
            "Epoch 55/200\n",
            "135/135 [==============================] - 0s 547us/sample - loss: 0.0734 - val_loss: 0.0423\n",
            "Epoch 56/200\n",
            "135/135 [==============================] - 0s 480us/sample - loss: 0.0741 - val_loss: 0.0326\n",
            "Epoch 57/200\n",
            "135/135 [==============================] - 0s 537us/sample - loss: 0.0733 - val_loss: 0.0438\n",
            "Epoch 58/200\n",
            "135/135 [==============================] - 0s 515us/sample - loss: 0.0762 - val_loss: 0.0324\n",
            "Epoch 59/200\n",
            "135/135 [==============================] - 0s 529us/sample - loss: 0.0741 - val_loss: 0.0322\n",
            "Epoch 60/200\n",
            "135/135 [==============================] - 0s 487us/sample - loss: 0.0738 - val_loss: 0.0433\n",
            "Epoch 61/200\n",
            "135/135 [==============================] - 0s 514us/sample - loss: 0.0790 - val_loss: 0.0385\n",
            "Epoch 62/200\n",
            "135/135 [==============================] - 0s 485us/sample - loss: 0.0755 - val_loss: 0.0341\n",
            "Epoch 63/200\n",
            "135/135 [==============================] - 0s 545us/sample - loss: 0.0742 - val_loss: 0.0323\n",
            "Epoch 64/200\n",
            "135/135 [==============================] - 0s 545us/sample - loss: 0.0747 - val_loss: 0.0327\n",
            "Epoch 65/200\n",
            "135/135 [==============================] - 0s 478us/sample - loss: 0.0735 - val_loss: 0.0321\n",
            "Epoch 66/200\n",
            "135/135 [==============================] - 0s 491us/sample - loss: 0.0757 - val_loss: 0.0329\n",
            "Epoch 67/200\n",
            "135/135 [==============================] - 0s 493us/sample - loss: 0.0737 - val_loss: 0.0321\n",
            "Epoch 68/200\n",
            "135/135 [==============================] - 0s 547us/sample - loss: 0.0739 - val_loss: 0.0360\n",
            "Epoch 69/200\n",
            "135/135 [==============================] - 0s 492us/sample - loss: 0.0749 - val_loss: 0.0578\n",
            "Epoch 70/200\n",
            "135/135 [==============================] - 0s 501us/sample - loss: 0.0757 - val_loss: 0.0320\n",
            "Epoch 71/200\n",
            "135/135 [==============================] - 0s 523us/sample - loss: 0.0739 - val_loss: 0.0330\n",
            "Epoch 72/200\n",
            "135/135 [==============================] - 0s 502us/sample - loss: 0.0742 - val_loss: 0.0326\n",
            "Epoch 73/200\n",
            "135/135 [==============================] - 0s 531us/sample - loss: 0.0724 - val_loss: 0.0405\n",
            "Epoch 74/200\n",
            "135/135 [==============================] - 0s 529us/sample - loss: 0.0763 - val_loss: 0.0327\n",
            "Epoch 75/200\n",
            "135/135 [==============================] - 0s 522us/sample - loss: 0.0742 - val_loss: 0.0340\n",
            "Epoch 76/200\n",
            "135/135 [==============================] - 0s 489us/sample - loss: 0.0739 - val_loss: 0.0366\n",
            "Epoch 77/200\n",
            "135/135 [==============================] - 0s 555us/sample - loss: 0.0744 - val_loss: 0.0330\n",
            "Epoch 78/200\n",
            "135/135 [==============================] - 0s 493us/sample - loss: 0.0739 - val_loss: 0.0351\n",
            "Epoch 79/200\n",
            "135/135 [==============================] - 0s 496us/sample - loss: 0.0729 - val_loss: 0.0346\n",
            "Epoch 80/200\n",
            "135/135 [==============================] - 0s 533us/sample - loss: 0.0742 - val_loss: 0.0349\n",
            "Epoch 81/200\n",
            "135/135 [==============================] - 0s 489us/sample - loss: 0.0741 - val_loss: 0.0353\n",
            "Epoch 82/200\n",
            "135/135 [==============================] - 0s 506us/sample - loss: 0.0731 - val_loss: 0.0342\n",
            "Epoch 83/200\n",
            "135/135 [==============================] - 0s 526us/sample - loss: 0.0737 - val_loss: 0.0363\n",
            "Epoch 84/200\n",
            "135/135 [==============================] - 0s 527us/sample - loss: 0.0734 - val_loss: 0.0341\n",
            "Epoch 85/200\n",
            "135/135 [==============================] - 0s 493us/sample - loss: 0.0726 - val_loss: 0.0324\n",
            "Epoch 86/200\n",
            "135/135 [==============================] - 0s 521us/sample - loss: 0.0726 - val_loss: 0.0421\n",
            "Epoch 87/200\n",
            "135/135 [==============================] - 0s 557us/sample - loss: 0.0744 - val_loss: 0.0377\n",
            "Epoch 88/200\n",
            "135/135 [==============================] - 0s 521us/sample - loss: 0.0757 - val_loss: 0.0351\n",
            "Epoch 89/200\n",
            "135/135 [==============================] - 0s 489us/sample - loss: 0.0734 - val_loss: 0.0333\n",
            "Epoch 90/200\n",
            "135/135 [==============================] - 0s 491us/sample - loss: 0.0732 - val_loss: 0.0353\n",
            "Epoch 91/200\n",
            "135/135 [==============================] - 0s 539us/sample - loss: 0.0733 - val_loss: 0.0354\n",
            "Epoch 92/200\n",
            "135/135 [==============================] - 0s 498us/sample - loss: 0.0743 - val_loss: 0.0331\n",
            "Epoch 93/200\n",
            "135/135 [==============================] - 0s 507us/sample - loss: 0.0738 - val_loss: 0.0326\n",
            "Epoch 94/200\n",
            "135/135 [==============================] - 0s 535us/sample - loss: 0.0754 - val_loss: 0.0335\n",
            "Epoch 95/200\n",
            "135/135 [==============================] - 0s 499us/sample - loss: 0.0746 - val_loss: 0.0337\n",
            "Epoch 96/200\n",
            "135/135 [==============================] - 0s 518us/sample - loss: 0.0722 - val_loss: 0.0403\n",
            "Epoch 97/200\n",
            "135/135 [==============================] - 0s 538us/sample - loss: 0.0746 - val_loss: 0.0341\n",
            "Epoch 98/200\n",
            "135/135 [==============================] - 0s 527us/sample - loss: 0.0720 - val_loss: 0.0329\n",
            "Epoch 99/200\n",
            "135/135 [==============================] - 0s 505us/sample - loss: 0.0735 - val_loss: 0.0334\n",
            "Epoch 100/200\n",
            "135/135 [==============================] - 0s 559us/sample - loss: 0.0725 - val_loss: 0.0338\n",
            "Epoch 101/200\n",
            "135/135 [==============================] - 0s 519us/sample - loss: 0.0729 - val_loss: 0.0335\n",
            "Epoch 102/200\n",
            "135/135 [==============================] - 0s 518us/sample - loss: 0.0735 - val_loss: 0.0350\n",
            "Epoch 103/200\n",
            "135/135 [==============================] - 0s 576us/sample - loss: 0.0744 - val_loss: 0.0343\n",
            "Epoch 104/200\n",
            "135/135 [==============================] - 0s 575us/sample - loss: 0.0730 - val_loss: 0.0369\n",
            "Epoch 105/200\n",
            "135/135 [==============================] - 0s 556us/sample - loss: 0.0736 - val_loss: 0.0334\n",
            "Epoch 106/200\n",
            "135/135 [==============================] - 0s 570us/sample - loss: 0.0728 - val_loss: 0.0344\n",
            "Epoch 107/200\n",
            "135/135 [==============================] - 0s 555us/sample - loss: 0.0716 - val_loss: 0.0328\n",
            "Epoch 108/200\n",
            "135/135 [==============================] - 0s 517us/sample - loss: 0.0760 - val_loss: 0.0370\n",
            "Epoch 109/200\n",
            "135/135 [==============================] - 0s 570us/sample - loss: 0.0757 - val_loss: 0.0434\n",
            "Epoch 110/200\n",
            "135/135 [==============================] - 0s 558us/sample - loss: 0.0744 - val_loss: 0.0334\n",
            "Epoch 111/200\n",
            "135/135 [==============================] - 0s 534us/sample - loss: 0.0725 - val_loss: 0.0336\n",
            "Epoch 112/200\n",
            "135/135 [==============================] - 0s 505us/sample - loss: 0.0717 - val_loss: 0.0325\n",
            "Epoch 113/200\n",
            "135/135 [==============================] - 0s 511us/sample - loss: 0.0727 - val_loss: 0.0324\n",
            "Epoch 114/200\n",
            "135/135 [==============================] - 0s 573us/sample - loss: 0.0720 - val_loss: 0.0319\n",
            "Epoch 115/200\n",
            "135/135 [==============================] - 0s 543us/sample - loss: 0.0724 - val_loss: 0.0332\n",
            "Epoch 116/200\n",
            "135/135 [==============================] - 0s 525us/sample - loss: 0.0721 - val_loss: 0.0362\n",
            "Epoch 117/200\n",
            "135/135 [==============================] - 0s 576us/sample - loss: 0.0734 - val_loss: 0.0343\n",
            "Epoch 118/200\n",
            "135/135 [==============================] - 0s 507us/sample - loss: 0.0735 - val_loss: 0.0345\n",
            "Epoch 119/200\n",
            "135/135 [==============================] - 0s 526us/sample - loss: 0.0721 - val_loss: 0.0399\n",
            "Epoch 120/200\n",
            "135/135 [==============================] - 0s 560us/sample - loss: 0.0720 - val_loss: 0.0316\n",
            "Epoch 121/200\n",
            "135/135 [==============================] - 0s 554us/sample - loss: 0.0737 - val_loss: 0.0371\n",
            "Epoch 122/200\n",
            "135/135 [==============================] - 0s 573us/sample - loss: 0.0720 - val_loss: 0.0331\n",
            "Epoch 123/200\n",
            "135/135 [==============================] - 0s 513us/sample - loss: 0.0733 - val_loss: 0.0339\n",
            "Epoch 124/200\n",
            "135/135 [==============================] - 0s 539us/sample - loss: 0.0725 - val_loss: 0.0316\n",
            "Epoch 125/200\n",
            "135/135 [==============================] - 0s 535us/sample - loss: 0.0719 - val_loss: 0.0329\n",
            "Epoch 126/200\n",
            "135/135 [==============================] - 0s 526us/sample - loss: 0.0720 - val_loss: 0.0317\n",
            "Epoch 127/200\n",
            "135/135 [==============================] - 0s 468us/sample - loss: 0.0722 - val_loss: 0.0319\n",
            "Epoch 128/200\n",
            "135/135 [==============================] - 0s 584us/sample - loss: 0.0738 - val_loss: 0.0340\n",
            "Epoch 129/200\n",
            "135/135 [==============================] - 0s 551us/sample - loss: 0.0737 - val_loss: 0.0315\n",
            "Epoch 130/200\n",
            "135/135 [==============================] - 0s 543us/sample - loss: 0.0724 - val_loss: 0.0312\n",
            "Epoch 131/200\n",
            "135/135 [==============================] - 0s 538us/sample - loss: 0.0715 - val_loss: 0.0330\n",
            "Epoch 132/200\n",
            "135/135 [==============================] - 0s 539us/sample - loss: 0.0728 - val_loss: 0.0322\n",
            "Epoch 133/200\n",
            "135/135 [==============================] - 0s 517us/sample - loss: 0.0709 - val_loss: 0.0320\n",
            "Epoch 134/200\n",
            "135/135 [==============================] - 0s 533us/sample - loss: 0.0747 - val_loss: 0.0316\n",
            "Epoch 135/200\n",
            "135/135 [==============================] - 0s 516us/sample - loss: 0.0722 - val_loss: 0.0316\n",
            "Epoch 136/200\n",
            "135/135 [==============================] - 0s 532us/sample - loss: 0.0738 - val_loss: 0.0357\n",
            "Epoch 137/200\n",
            "135/135 [==============================] - 0s 564us/sample - loss: 0.0724 - val_loss: 0.0318\n",
            "Epoch 138/200\n",
            "135/135 [==============================] - 0s 527us/sample - loss: 0.0717 - val_loss: 0.0321\n",
            "Epoch 139/200\n",
            "135/135 [==============================] - 0s 513us/sample - loss: 0.0721 - val_loss: 0.0322\n",
            "Epoch 140/200\n",
            "135/135 [==============================] - 0s 549us/sample - loss: 0.0740 - val_loss: 0.0328\n",
            "Epoch 141/200\n",
            "135/135 [==============================] - 0s 582us/sample - loss: 0.0712 - val_loss: 0.0314\n",
            "Epoch 142/200\n",
            "135/135 [==============================] - 0s 497us/sample - loss: 0.0706 - val_loss: 0.0337\n",
            "Epoch 143/200\n",
            "135/135 [==============================] - 0s 549us/sample - loss: 0.0724 - val_loss: 0.0322\n",
            "Epoch 144/200\n",
            "135/135 [==============================] - 0s 544us/sample - loss: 0.0725 - val_loss: 0.0394\n",
            "Epoch 145/200\n",
            "135/135 [==============================] - 0s 530us/sample - loss: 0.0723 - val_loss: 0.0330\n",
            "Epoch 146/200\n",
            "135/135 [==============================] - 0s 523us/sample - loss: 0.0715 - val_loss: 0.0343\n",
            "Epoch 147/200\n",
            "135/135 [==============================] - 0s 522us/sample - loss: 0.0721 - val_loss: 0.0323\n",
            "Epoch 148/200\n",
            "135/135 [==============================] - 0s 518us/sample - loss: 0.0713 - val_loss: 0.0347\n",
            "Epoch 149/200\n",
            "135/135 [==============================] - 0s 528us/sample - loss: 0.0709 - val_loss: 0.0334\n",
            "Epoch 150/200\n",
            "135/135 [==============================] - 0s 532us/sample - loss: 0.0734 - val_loss: 0.0390\n",
            "Epoch 151/200\n",
            "135/135 [==============================] - 0s 521us/sample - loss: 0.0723 - val_loss: 0.0316\n",
            "Epoch 152/200\n",
            "135/135 [==============================] - 0s 549us/sample - loss: 0.0704 - val_loss: 0.0313\n",
            "Epoch 153/200\n",
            "135/135 [==============================] - 0s 541us/sample - loss: 0.0712 - val_loss: 0.0322\n",
            "Epoch 154/200\n",
            "135/135 [==============================] - 0s 547us/sample - loss: 0.0713 - val_loss: 0.0331\n",
            "Epoch 155/200\n",
            "135/135 [==============================] - 0s 509us/sample - loss: 0.0717 - val_loss: 0.0319\n",
            "Epoch 156/200\n",
            "135/135 [==============================] - 0s 559us/sample - loss: 0.0720 - val_loss: 0.0324\n",
            "Epoch 157/200\n",
            "135/135 [==============================] - 0s 517us/sample - loss: 0.0713 - val_loss: 0.0330\n",
            "Epoch 158/200\n",
            "135/135 [==============================] - 0s 516us/sample - loss: 0.0712 - val_loss: 0.0319\n",
            "Epoch 159/200\n",
            "135/135 [==============================] - 0s 498us/sample - loss: 0.0716 - val_loss: 0.0394\n",
            "Epoch 160/200\n",
            "135/135 [==============================] - 0s 484us/sample - loss: 0.0726 - val_loss: 0.0323\n",
            "Epoch 161/200\n",
            "135/135 [==============================] - 0s 502us/sample - loss: 0.0710 - val_loss: 0.0347\n",
            "Epoch 162/200\n",
            "135/135 [==============================] - 0s 526us/sample - loss: 0.0706 - val_loss: 0.0320\n",
            "Epoch 163/200\n",
            "135/135 [==============================] - 0s 506us/sample - loss: 0.0712 - val_loss: 0.0329\n",
            "Epoch 164/200\n",
            "135/135 [==============================] - 0s 618us/sample - loss: 0.0715 - val_loss: 0.0311\n",
            "Epoch 165/200\n",
            "135/135 [==============================] - 0s 649us/sample - loss: 0.0710 - val_loss: 0.0309\n",
            "Epoch 166/200\n",
            "135/135 [==============================] - 0s 502us/sample - loss: 0.0721 - val_loss: 0.0324\n",
            "Epoch 167/200\n",
            "135/135 [==============================] - 0s 660us/sample - loss: 0.0733 - val_loss: 0.0308\n",
            "Epoch 168/200\n",
            "135/135 [==============================] - 0s 510us/sample - loss: 0.0704 - val_loss: 0.0329\n",
            "Epoch 169/200\n",
            "135/135 [==============================] - 0s 494us/sample - loss: 0.0713 - val_loss: 0.0326\n",
            "Epoch 170/200\n",
            "135/135 [==============================] - 0s 506us/sample - loss: 0.0720 - val_loss: 0.0310\n",
            "Epoch 171/200\n",
            "135/135 [==============================] - 0s 544us/sample - loss: 0.0703 - val_loss: 0.0322\n",
            "Epoch 172/200\n",
            "135/135 [==============================] - 0s 478us/sample - loss: 0.0721 - val_loss: 0.0330\n",
            "Epoch 173/200\n",
            "135/135 [==============================] - 0s 493us/sample - loss: 0.0702 - val_loss: 0.0336\n",
            "Epoch 174/200\n",
            "135/135 [==============================] - 0s 513us/sample - loss: 0.0703 - val_loss: 0.0350\n",
            "Epoch 175/200\n",
            "135/135 [==============================] - 0s 482us/sample - loss: 0.0734 - val_loss: 0.0350\n",
            "Epoch 176/200\n",
            "135/135 [==============================] - 0s 500us/sample - loss: 0.0712 - val_loss: 0.0319\n",
            "Epoch 177/200\n",
            "135/135 [==============================] - 0s 495us/sample - loss: 0.0695 - val_loss: 0.0329\n",
            "Epoch 178/200\n",
            "135/135 [==============================] - 0s 518us/sample - loss: 0.0701 - val_loss: 0.0322\n",
            "Epoch 179/200\n",
            "135/135 [==============================] - 0s 580us/sample - loss: 0.0715 - val_loss: 0.0326\n",
            "Epoch 180/200\n",
            "135/135 [==============================] - 0s 518us/sample - loss: 0.0716 - val_loss: 0.0310\n",
            "Epoch 181/200\n",
            "135/135 [==============================] - 0s 519us/sample - loss: 0.0708 - val_loss: 0.0317\n",
            "Epoch 182/200\n",
            "135/135 [==============================] - 0s 579us/sample - loss: 0.0710 - val_loss: 0.0320\n",
            "Epoch 183/200\n",
            "135/135 [==============================] - 0s 607us/sample - loss: 0.0725 - val_loss: 0.0344\n",
            "Epoch 184/200\n",
            "135/135 [==============================] - 0s 560us/sample - loss: 0.0698 - val_loss: 0.0318\n",
            "Epoch 185/200\n",
            "135/135 [==============================] - 0s 503us/sample - loss: 0.0712 - val_loss: 0.0318\n",
            "Epoch 186/200\n",
            "135/135 [==============================] - 0s 495us/sample - loss: 0.0714 - val_loss: 0.0347\n",
            "Epoch 187/200\n",
            "135/135 [==============================] - 0s 491us/sample - loss: 0.0717 - val_loss: 0.0315\n",
            "Epoch 188/200\n",
            "135/135 [==============================] - 0s 502us/sample - loss: 0.0705 - val_loss: 0.0329\n",
            "Epoch 189/200\n",
            "135/135 [==============================] - 0s 507us/sample - loss: 0.0706 - val_loss: 0.0311\n",
            "Epoch 190/200\n",
            "135/135 [==============================] - 0s 535us/sample - loss: 0.0700 - val_loss: 0.0341\n",
            "Epoch 191/200\n",
            "135/135 [==============================] - 0s 500us/sample - loss: 0.0715 - val_loss: 0.0318\n",
            "Epoch 192/200\n",
            "135/135 [==============================] - 0s 486us/sample - loss: 0.0715 - val_loss: 0.0349\n",
            "Epoch 193/200\n",
            "135/135 [==============================] - 0s 508us/sample - loss: 0.0713 - val_loss: 0.0324\n",
            "Epoch 194/200\n",
            "135/135 [==============================] - 0s 523us/sample - loss: 0.0702 - val_loss: 0.0335\n",
            "Epoch 195/200\n",
            "135/135 [==============================] - 0s 481us/sample - loss: 0.0709 - val_loss: 0.0331\n",
            "Epoch 196/200\n",
            "135/135 [==============================] - 0s 494us/sample - loss: 0.0715 - val_loss: 0.0330\n",
            "Epoch 197/200\n",
            "135/135 [==============================] - 0s 515us/sample - loss: 0.0727 - val_loss: 0.0334\n",
            "Epoch 198/200\n",
            "135/135 [==============================] - 0s 510us/sample - loss: 0.0724 - val_loss: 0.0328\n",
            "Epoch 199/200\n",
            "135/135 [==============================] - 0s 524us/sample - loss: 0.0699 - val_loss: 0.0318\n",
            "Epoch 200/200\n",
            "135/135 [==============================] - 0s 472us/sample - loss: 0.0689 - val_loss: 0.0324\n"
          ],
          "name": "stdout"
        }
      ]
    },
    {
      "cell_type": "code",
      "metadata": {
        "id": "G0OKu4x3h8xK",
        "colab_type": "code",
        "outputId": "6993bed1-b950-4214-cf56-59522aae689d",
        "colab": {
          "base_uri": "https://localhost:8080/",
          "height": 295
        }
      },
      "source": [
        "# plot the learning curve\n",
        "fig, ax = plt.subplots()\n",
        "ax.plot(history.history['loss'], label='train')\n",
        "ax.plot(history.history['val_loss'], label='validation')\n",
        "ax.set_title('learning curve')\n",
        "ax.set_xlabel('epochs')\n",
        "ax.set_ylabel('mse')\n",
        "ax.legend()\n",
        "plt.show()"
      ],
      "execution_count": 41,
      "outputs": [
        {
          "output_type": "display_data",
          "data": {
            "image/png": "[encoded data removed]",
            "text/plain": [
              "<Figure size 432x288 with 1 Axes>"
            ]
          },
          "metadata": {
            "tags": []
          }
        }
      ]
    },
    {
      "cell_type": "markdown",
      "metadata": {
        "id": "NJCtrKwXh8xM",
        "colab_type": "text"
      },
      "source": [
        "### Predict"
      ]
    },
    {
      "cell_type": "code",
      "metadata": {
        "id": "Gka9gXi4h8xM",
        "colab_type": "code",
        "outputId": "13f7debc-528a-47ad-e663-fec982eb75b9",
        "colab": {
          "base_uri": "https://localhost:8080/",
          "height": 0
        }
      },
      "source": [
        "best_model = load_model('./stacked_lstm.h5')\n",
        "best_model.summary()"
      ],
      "execution_count": 42,
      "outputs": [
        {
          "output_type": "stream",
          "text": [
            "Model: \"sequential_1\"\n",
            "_________________________________________________________________\n",
            "Layer (type)                 Output Shape              Param #   \n",
            "=================================================================\n",
            "lstm_1 (LSTM)                (None, 4, 100)            40800     \n",
            "_________________________________________________________________\n",
            "lstm_2 (LSTM)                (None, 100)               80400     \n",
            "_________________________________________________________________\n",
            "dense_1 (Dense)              (None, 1)                 101       \n",
            "=================================================================\n",
            "Total params: 121,301\n",
            "Trainable params: 121,301\n",
            "Non-trainable params: 0\n",
            "_________________________________________________________________\n"
          ],
          "name": "stdout"
        }
      ]
    },
    {
      "cell_type": "code",
      "metadata": {
        "id": "Q0A3ormZh8xP",
        "colab_type": "code",
        "outputId": "ddf74d7c-ff4c-48f8-c120-a72e4762ebad",
        "colab": {
          "base_uri": "https://localhost:8080/",
          "height": 0
        }
      },
      "source": [
        "pred_stacked = best_model.predict(test) # since this LSTM is not stateful, no need to fast-forward\n",
        "\n",
        "mean_squared_error(testy, pred_stacked), r2_score(testy, pred_stacked)"
      ],
      "execution_count": 43,
      "outputs": [
        {
          "output_type": "execute_result",
          "data": {
            "text/plain": [
              "(0.0070926572764269825, -0.0947047904827858)"
            ]
          },
          "metadata": {
            "tags": []
          },
          "execution_count": 43
        }
      ]
    },
    {
      "cell_type": "code",
      "metadata": {
        "id": "nPS2sZAEh8xQ",
        "colab_type": "code",
        "outputId": "3d135ed3-0ef0-455f-e109-320dd94c089e",
        "colab": {
          "base_uri": "https://localhost:8080/",
          "height": 0
        }
      },
      "source": [
        "fig, ax = plt.subplots()\n",
        "ax.plot(testy, label='truth')\n",
        "ax.plot(pred, label='pred (Vanilla LSTM)')\n",
        "ax.plot(pred_stacked, label='pred (Stacked LSTM)')\n",
        "ax.legend()\n",
        "plt.show()"
      ],
      "execution_count": 44,
      "outputs": [
        {
          "output_type": "display_data",
          "data": {
            "image/png": "[encoded data removed]",
            "text/plain": [
              "<Figure size 432x288 with 1 Axes>"
            ]
          },
          "metadata": {
            "tags": []
          }
        }
      ]
    },
    {
      "cell_type": "code",
      "metadata": {
        "id": "TuA85ZASh8xR",
        "colab_type": "code",
        "colab": {}
      },
      "source": [
        ""
      ],
      "execution_count": 0,
      "outputs": []
    },
    {
      "cell_type": "markdown",
      "metadata": {
        "id": "V5L3vq2Ih8xT",
        "colab_type": "text"
      },
      "source": [
        "### Observations\n",
        "\n",
        "Both Vanilla and Stack LSTM predict more \"averaged\" results. The averaging seems to get worse with Stacked LSTM (we are passing through deeper layers). \n",
        "\n",
        "Possible experiments:\n",
        "- Reduce the timesteps so that we are only looking at shorter term fluctuations (last 1-2 months).\n",
        "- Try a wider LSTM (more units) rather than a deeper one to learn the patterns. There doesn't seem to be much pattern...\n",
        "- Try a Conv LSTM. Although Conv probably will result in more temporal averaging as well.\n",
        "- Try ARIMA to see if statistical method can perform better."
      ]
    },
    {
      "cell_type": "code",
      "metadata": {
        "id": "Mq07jMQMh8xT",
        "colab_type": "code",
        "colab": {}
      },
      "source": [
        ""
      ],
      "execution_count": 0,
      "outputs": []
    }
  ]
}