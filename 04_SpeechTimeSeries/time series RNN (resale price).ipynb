{
 "cells": [
  {
   "cell_type": "code",
   "execution_count": null,
   "metadata": {},
   "outputs": [],
   "source": [
    "# 1. Import dataset\n",
    "# 2. Convert to supervised-learning dataset\n",
    "# 3. Train RNN\n",
    "# 4. Predict\n",
    "# 5. Evaluate"
   ]
  },
  {
   "cell_type": "code",
   "execution_count": 24,
   "metadata": {},
   "outputs": [
    {
     "data": {
      "text/html": [
       "<div>\n",
       "<style scoped>\n",
       "    .dataframe tbody tr th:only-of-type {\n",
       "        vertical-align: middle;\n",
       "    }\n",
       "\n",
       "    .dataframe tbody tr th {\n",
       "        vertical-align: top;\n",
       "    }\n",
       "\n",
       "    .dataframe thead th {\n",
       "        text-align: right;\n",
       "    }\n",
       "</style>\n",
       "<table border=\"1\" class=\"dataframe\">\n",
       "  <thead>\n",
       "    <tr style=\"text-align: right;\">\n",
       "      <th></th>\n",
       "      <th>price</th>\n",
       "    </tr>\n",
       "    <tr>\n",
       "      <th>quarter</th>\n",
       "      <th></th>\n",
       "    </tr>\n",
       "  </thead>\n",
       "  <tbody>\n",
       "    <tr>\n",
       "      <th>1990-01-01</th>\n",
       "      <td>24.3</td>\n",
       "    </tr>\n",
       "    <tr>\n",
       "      <th>1990-04-01</th>\n",
       "      <td>24.4</td>\n",
       "    </tr>\n",
       "    <tr>\n",
       "      <th>1990-07-01</th>\n",
       "      <td>25.0</td>\n",
       "    </tr>\n",
       "    <tr>\n",
       "      <th>1990-10-01</th>\n",
       "      <td>24.7</td>\n",
       "    </tr>\n",
       "    <tr>\n",
       "      <th>1991-01-01</th>\n",
       "      <td>24.9</td>\n",
       "    </tr>\n",
       "  </tbody>\n",
       "</table>\n",
       "</div>"
      ],
      "text/plain": [
       "            price\n",
       "quarter          \n",
       "1990-01-01   24.3\n",
       "1990-04-01   24.4\n",
       "1990-07-01   25.0\n",
       "1990-10-01   24.7\n",
       "1991-01-01   24.9"
      ]
     },
     "execution_count": 24,
     "metadata": {},
     "output_type": "execute_result"
    }
   ],
   "source": [
    "# 1. Import dataset\n",
    "\n",
    "import matplotlib.pyplot as plt\n",
    "import pandas as pd\n",
    "\n",
    "df = pd.read_csv('../data/hdb-resale-price-index/housing-and-development-board-resale-price-index-1q2009-100-quarterly.csv',\n",
    "                 parse_dates=True, index_col=0)\n",
    "\n",
    "\n",
    "df.rename(columns={'index': 'price'}, inplace=True)\n",
    "df.head()"
   ]
  },
  {
   "cell_type": "code",
   "execution_count": 102,
   "metadata": {},
   "outputs": [
    {
     "data": {
      "image/png": "[encoded data removed]",
      "text/plain": [
       "<Figure size 432x288 with 1 Axes>"
      ]
     },
     "metadata": {},
     "output_type": "display_data"
    }
   ],
   "source": [
    "import matplotlib.pyplot as plt\n",
    "df.plot()\n",
    "plt.show()"
   ]
  },
  {
   "cell_type": "code",
   "execution_count": null,
   "metadata": {},
   "outputs": [],
   "source": []
  },
  {
   "cell_type": "code",
   "execution_count": 40,
   "metadata": {},
   "outputs": [
    {
     "name": "stdout",
     "output_type": "stream",
     "text": [
      "[ 24.3  24.4  25.   24.7  24.9  25.5  25.2  25.1  25.8  27.4  28.   28.6\n",
      "  30.2  39.6  47.7  49.   50.4  51.7  54.6  54.8  57.3  63.9  67.7  73.7\n",
      "  80.5  90.9  96.4  99.   98.6  97.5  93.6  88.   81.7  78.3  74.9  72.3\n",
      "  71.2  72.2  78.1  79.8  80.3  79.3  77.6  75.8  73.2  72.1  70.6  69.6\n",
      "  69.1  69.2  69.9  69.9  71.   72.5  74.3  75.1  75.3  76.2  76.3  77.1\n",
      "  77.2  73.5  73.2  73.5  73.6  74.3  74.2  74.9  75.8  78.1  83.2  88.\n",
      "  91.3  95.4  99.4 100.8 100.  101.4 105.  109.  112.1 116.6 121.3 124.4\n",
      " 126.4 130.4 135.4 137.7 138.5 140.3 143.1 146.7 148.6 149.4 148.1 145.8\n",
      " 143.5 141.5 139.1 137.  135.6 135.  134.6 134.8 134.7 134.7 134.7 134.6\n",
      " 133.9 133.7 132.8 132.6]\n",
      "\n",
      "[ 24.4  25.   24.7  24.9  25.5  25.2  25.1  25.8  27.4  28.   28.6  30.2\n",
      "  39.6  47.7  49.   50.4  51.7  54.6  54.8  57.3  63.9  67.7  73.7  80.5\n",
      "  90.9  96.4  99.   98.6  97.5  93.6  88.   81.7  78.3  74.9  72.3  71.2\n",
      "  72.2  78.1  79.8  80.3  79.3  77.6  75.8  73.2  72.1  70.6  69.6  69.1\n",
      "  69.2  69.9  69.9  71.   72.5  74.3  75.1  75.3  76.2  76.3  77.1  77.2\n",
      "  73.5  73.2  73.5  73.6  74.3  74.2  74.9  75.8  78.1  83.2  88.   91.3\n",
      "  95.4  99.4 100.8 100.  101.4 105.  109.  112.1 116.6 121.3 124.4 126.4\n",
      " 130.4 135.4 137.7 138.5 140.3 143.1 146.7 148.6 149.4 148.1 145.8 143.5\n",
      " 141.5 139.1 137.  135.6 135.  134.6 134.8 134.7 134.7 134.7 134.6 133.9\n",
      " 133.7 132.8 132.6   nan]\n",
      "\n",
      "[  nan  24.3  24.4  25.   24.7  24.9  25.5  25.2  25.1  25.8  27.4  28.\n",
      "  28.6  30.2  39.6  47.7  49.   50.4  51.7  54.6  54.8  57.3  63.9  67.7\n",
      "  73.7  80.5  90.9  96.4  99.   98.6  97.5  93.6  88.   81.7  78.3  74.9\n",
      "  72.3  71.2  72.2  78.1  79.8  80.3  79.3  77.6  75.8  73.2  72.1  70.6\n",
      "  69.6  69.1  69.2  69.9  69.9  71.   72.5  74.3  75.1  75.3  76.2  76.3\n",
      "  77.1  77.2  73.5  73.2  73.5  73.6  74.3  74.2  74.9  75.8  78.1  83.2\n",
      "  88.   91.3  95.4  99.4 100.8 100.  101.4 105.  109.  112.1 116.6 121.3\n",
      " 124.4 126.4 130.4 135.4 137.7 138.5 140.3 143.1 146.7 148.6 149.4 148.1\n",
      " 145.8 143.5 141.5 139.1 137.  135.6 135.  134.6 134.8 134.7 134.7 134.7\n",
      " 134.6 133.9 133.7 132.8]\n"
     ]
    }
   ],
   "source": [
    "# Signature: series_s.shift(periods=1, freq=None, axis=0)\n",
    "# Docstring: Shift index by desired number of periods with an optional time freq\n",
    "\n",
    "series = pd.DataFrame(df.price.values)\n",
    "\n",
    "print(series.values.flatten()) # flatten to print nicely\n",
    "\n",
    "# shift left\n",
    "print()\n",
    "print(series.shift(-1).values.flatten())\n",
    "\n",
    "# shift right\n",
    "print()\n",
    "print(series.shift(1).values.flatten())"
   ]
  },
  {
   "cell_type": "code",
   "execution_count": 66,
   "metadata": {},
   "outputs": [
    {
     "name": "stdout",
     "output_type": "stream",
     "text": [
      "(62, 51)\n"
     ]
    }
   ],
   "source": [
    "# 2. Convert to supervised-learning dataset\n",
    "\n",
    "from sklearn.model_selection import train_test_split\n",
    "from sklearn.preprocessing import StandardScaler\n",
    "\n",
    "# window\n",
    "window_size = 50\n",
    "\n",
    "series = pd.DataFrame(df.price.values)\n",
    "series_s = series.copy()\n",
    "\n",
    "# Stack pandas dataframes:\n",
    "# 24.3  24.4  25.0  24.7  24.9  25.5  25.2  25.1  25.8  27.4 ...\n",
    "# 24.4  25.0  24.7  24.9  25.5  25.2  25.1  25.8  27.4 ...\n",
    "# 25.0  24.7  24.9  25.5  25.2  25.1  25.8  27.4 ...\n",
    "# ...\n",
    "# 50 times\n",
    "\n",
    "for i in range(window_size):\n",
    "    series = pd.concat([series, series_s.shift(-(i+1))], axis=1)\n",
    "\n",
    "# drop last few rows\n",
    "series.dropna(inplace=True)\n",
    "print(series.shape)"
   ]
  },
  {
   "cell_type": "code",
   "execution_count": 68,
   "metadata": {},
   "outputs": [
    {
     "name": "stdout",
     "output_type": "stream",
     "text": [
      "[[-1.72415902 -1.79312974 -1.85021855 ... -1.28969535 -1.29842302\n",
      "  -1.29497737]\n",
      " [-0.51965096 -0.43584397 -0.47530772 ... -1.13909011 -1.18793789\n",
      "  -1.21127075]\n",
      " [ 0.48856689  0.50100312  0.48666061 ...  0.92488618  0.90437424\n",
      "   0.87441912]\n",
      " ...\n",
      " [ 1.57262413  1.52467993  1.34539332 ... -0.25941862 -0.24881429\n",
      "  -0.16145026]\n",
      " [ 0.29227668  0.3136337   0.35526981 ...  1.00703449  0.93199552\n",
      "   0.88488245]\n",
      " [ 0.65809024  0.71579245  0.72128703 ...  0.95226895  1.00450139\n",
      "   1.0069546 ]]\n",
      "training set shape (46, 51)\n",
      "test set shape (16, 51)\n"
     ]
    }
   ],
   "source": [
    "# scale (Note: don't need to split beforehand for time series)\n",
    "scaler = StandardScaler()\n",
    "series_scaled = scaler.fit_transform(series)\n",
    "\n",
    "# train test split (Note: shuffle is okay)\n",
    "train, test = train_test_split(series_scaled, random_state=42)\n",
    "\n",
    "print(train)\n",
    "print('training set shape', train.shape)\n",
    "print('test set shape', test.shape)"
   ]
  },
  {
   "cell_type": "code",
   "execution_count": 69,
   "metadata": {},
   "outputs": [
    {
     "data": {
      "text/plain": [
       "(46, 51)"
      ]
     },
     "execution_count": 69,
     "metadata": {},
     "output_type": "execute_result"
    }
   ],
   "source": [
    "train.shape"
   ]
  },
  {
   "cell_type": "code",
   "execution_count": 71,
   "metadata": {},
   "outputs": [
    {
     "name": "stdout",
     "output_type": "stream",
     "text": [
      "(46, 50)\n",
      "(46,)\n"
     ]
    }
   ],
   "source": [
    "# select first 50 columns => X\n",
    "# select last column => y (next value we want to predict/forecast)\n",
    "train_X = train[:, :-1]\n",
    "train_y = train[:, -1]\n",
    "\n",
    "print(train_X.shape)\n",
    "print(train_y.shape)"
   ]
  },
  {
   "cell_type": "code",
   "execution_count": 73,
   "metadata": {},
   "outputs": [
    {
     "name": "stdout",
     "output_type": "stream",
     "text": [
      "(16, 50)\n",
      "(16,)\n"
     ]
    }
   ],
   "source": [
    "test_X = test[:, :-1]\n",
    "test_y = test[:, -1]\n",
    "\n",
    "print(test_X.shape)\n",
    "print(test_y.shape)"
   ]
  },
  {
   "cell_type": "code",
   "execution_count": 75,
   "metadata": {},
   "outputs": [
    {
     "name": "stdout",
     "output_type": "stream",
     "text": [
      "training set shape (46, 50, 1)\n",
      "test set shape (16, 50, 1)\n"
     ]
    }
   ],
   "source": [
    "# RNN requires: num_samples, num_features (50), num_time_steps (1)\n",
    "train_X = train_X.reshape(train_X.shape[0], train_X.shape[1], 1)\n",
    "test_X = test_X.reshape(test_X.shape[0], test_X.shape[1], 1)\n",
    "\n",
    "print('training set shape', train_X.shape)\n",
    "print('test set shape', test_X.shape)"
   ]
  },
  {
   "cell_type": "code",
   "execution_count": null,
   "metadata": {},
   "outputs": [],
   "source": []
  },
  {
   "cell_type": "code",
   "execution_count": 76,
   "metadata": {},
   "outputs": [
    {
     "name": "stdout",
     "output_type": "stream",
     "text": [
      "_________________________________________________________________\n",
      "Layer (type)                 Output Shape              Param #   \n",
      "=================================================================\n",
      "lstm_5 (LSTM)                (None, 50, 50)            10400     \n",
      "_________________________________________________________________\n",
      "dropout_5 (Dropout)          (None, 50, 50)            0         \n",
      "_________________________________________________________________\n",
      "lstm_6 (LSTM)                (None, 256)               314368    \n",
      "_________________________________________________________________\n",
      "dropout_6 (Dropout)          (None, 256)               0         \n",
      "_________________________________________________________________\n",
      "dense_3 (Dense)              (None, 1)                 257       \n",
      "_________________________________________________________________\n",
      "activation_3 (Activation)    (None, 1)                 0         \n",
      "=================================================================\n",
      "Total params: 325,025\n",
      "Trainable params: 325,025\n",
      "Non-trainable params: 0\n",
      "_________________________________________________________________\n"
     ]
    }
   ],
   "source": [
    "from keras.models import Sequential\n",
    "from keras.layers import Dense, Dropout, LSTM, Activation\n",
    "\n",
    "model = Sequential()\n",
    "model.add(LSTM(input_shape=(50, 1), units=50, return_sequences=True))\n",
    "model.add(Dropout(0.5))\n",
    "model.add(LSTM(256))\n",
    "model.add(Dropout(0.5))\n",
    "model.add(Dense(1))\n",
    "model.add(Activation(\"linear\"))\n",
    "model.summary()"
   ]
  },
  {
   "cell_type": "code",
   "execution_count": null,
   "metadata": {},
   "outputs": [],
   "source": []
  },
  {
   "cell_type": "code",
   "execution_count": 81,
   "metadata": {},
   "outputs": [
    {
     "name": "stdout",
     "output_type": "stream",
     "text": [
      "Train on 46 samples, validate on 16 samples\n",
      "Epoch 1/10\n",
      "46/46 [==============================] - 6s 141ms/step - loss: 0.0792 - val_loss: 0.0736\n",
      "Epoch 2/10\n",
      "46/46 [==============================] - 1s 28ms/step - loss: 0.0347 - val_loss: 0.0552\n",
      "Epoch 3/10\n",
      "46/46 [==============================] - 1s 29ms/step - loss: 0.0325 - val_loss: 0.0285\n",
      "Epoch 4/10\n",
      "46/46 [==============================] - 1s 28ms/step - loss: 0.0304 - val_loss: 0.0327\n",
      "Epoch 5/10\n",
      "46/46 [==============================] - 1s 29ms/step - loss: 0.0552 - val_loss: 0.0615\n"
     ]
    },
    {
     "data": {
      "text/plain": [
       "<keras.callbacks.History at 0x122b2f84128>"
      ]
     },
     "execution_count": 81,
     "metadata": {},
     "output_type": "execute_result"
    }
   ],
   "source": [
    "from keras.callbacks import TensorBoard, EarlyStopping\n",
    "import time\n",
    "\n",
    "model.compile(loss=\"mse\", optimizer=\"adam\")\n",
    "\n",
    "tensorboard = TensorBoard(log_dir='./logs/timeseries/%d' % time.time())\n",
    "earlystopping = EarlyStopping(patience=2)\n",
    "\n",
    "model.fit(train_X, train_y,\n",
    "          batch_size=8,\n",
    "          epochs=10,\n",
    "          validation_data=(test_X, test_y),\n",
    "          callbacks=[tensorboard, earlystopping])"
   ]
  },
  {
   "cell_type": "code",
   "execution_count": null,
   "metadata": {},
   "outputs": [],
   "source": []
  },
  {
   "cell_type": "code",
   "execution_count": 103,
   "metadata": {},
   "outputs": [
    {
     "name": "stdout",
     "output_type": "stream",
     "text": [
      "[[0.5485377]]\n",
      "[[125.35647]]\n"
     ]
    }
   ],
   "source": [
    "# predict the future resale price\n",
    "import numpy as np\n",
    "last_input = test_X[-1]\n",
    "future_price = model.predict(np.expand_dims(last_input, 0))\n",
    "\n",
    "print(future_price)\n",
    "\n",
    "# inverse transform manually\n",
    "# standard_scaler subtracts mean and divides by stddev\n",
    "future_price = (future_price * np.sqrt(scaler.var_[-1])) + scaler.mean_[-1]\n",
    "print(future_price)"
   ]
  },
  {
   "cell_type": "code",
   "execution_count": 108,
   "metadata": {},
   "outputs": [
    {
     "data": {
      "image/png": "[encoded data removed]",
      "text/plain": [
       "<Figure size 432x288 with 1 Axes>"
      ]
     },
     "metadata": {},
     "output_type": "display_data"
    }
   ],
   "source": [
    "fig, ax = plt.subplots()\n",
    "ax.plot(df, label='data')\n",
    "ax.plot(pd.to_datetime('2018-01-01'), future_price, marker='x', label='future prediction')\n",
    "ax.legend()\n",
    "\n",
    "plt.show()"
   ]
  },
  {
   "cell_type": "code",
   "execution_count": 109,
   "metadata": {},
   "outputs": [
    {
     "data": {
      "text/plain": [
       "DatetimeIndex(['1990-01-01', '1990-04-01', '1990-07-01', '1990-10-01',\n",
       "               '1991-01-01', '1991-04-01', '1991-07-01', '1991-10-01',\n",
       "               '1992-01-01', '1992-04-01',\n",
       "               ...\n",
       "               '2015-07-01', '2015-10-01', '2016-01-01', '2016-04-01',\n",
       "               '2016-07-01', '2016-10-01', '2017-01-01', '2017-04-01',\n",
       "               '2017-07-01', '2017-10-01'],\n",
       "              dtype='datetime64[ns]', name='quarter', length=112, freq=None)"
      ]
     },
     "execution_count": 109,
     "metadata": {},
     "output_type": "execute_result"
    }
   ],
   "source": [
    "df.index"
   ]
  },
  {
   "cell_type": "code",
   "execution_count": null,
   "metadata": {},
   "outputs": [],
   "source": []
  }
 ],
 "metadata": {
  "kernelspec": {
   "display_name": "Python 3",
   "language": "python",
   "name": "python3"
  },
  "language_info": {
   "codemirror_mode": {
    "name": "ipython",
    "version": 3
   },
   "file_extension": ".py",
   "mimetype": "text/x-python",
   "name": "python",
   "nbconvert_exporter": "python",
   "pygments_lexer": "ipython3",
   "version": "3.6.5"
  }
 },
 "nbformat": 4,
 "nbformat_minor": 2
}
