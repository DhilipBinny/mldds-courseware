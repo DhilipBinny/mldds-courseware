{
  "nbformat": 4,
  "nbformat_minor": 0,
  "metadata": {
    "colab": {
      "name": "video classification CNN-RNN.ipynb",
      "provenance": [],
      "collapsed_sections": [],
      "toc_visible": true,
      "authorship_tag": "ABX9TyOToPvVY/Hi5tU93Y4Sl1PZ",
      "include_colab_link": true
    },
    "kernelspec": {
      "name": "python3",
      "display_name": "Python 3"
    }
  },
  "cells": [
    {
      "cell_type": "markdown",
      "metadata": {
        "id": "view-in-github",
        "colab_type": "text"
      },
      "source": [
        "<a href=\"https://colab.research.google.com/github/lisaong/mldds-courseware/blob/master/04_SpeechTimeSeries/examples/video_classification_CNN_RNN.ipynb\" target=\"_parent\"><img src=\"https://colab.research.google.com/assets/colab-badge.svg\" alt=\"Open In Colab\"/></a>"
      ]
    },
    {
      "cell_type": "markdown",
      "metadata": {
        "id": "eWs2Gef1P6Fe",
        "colab_type": "text"
      },
      "source": [
        "# Video Classification with RNN\n",
        "\n",
        "This notebook demonstrates video classification of action videos using a time-distributed CNN + RNN.\n",
        "\n",
        "The CNN will use the InceptionV3 model (transfer learning) to perform feature extraction.\n",
        "\n",
        "1. Run on Colab\n",
        "2. Runtime -> Change Runtime Type: GPU\n",
        "\n",
        "We will be using a subset of techniques demonstrated in the more complex example here: https://github.com/harvitronix/five-video-classification-methods\n",
        "\n",
        "We will also be using a small dataset to demonstrate how this works. Only 5 classes were selected from the UCF101 video classification dataset.\n",
        "\n",
        "Incidentally, this entire dataset is also part of Tensorflow (but already preprocessed): https://www.tensorflow.org/datasets/catalog/ucf101. The goal of doing this manually is to demonstrate how to go about processing your own video dataset.\n"
      ]
    },
    {
      "cell_type": "code",
      "metadata": {
        "id": "OX4yeg8nPx0S",
        "colab_type": "code",
        "colab": {
          "base_uri": "https://localhost:8080/",
          "height": 34
        },
        "outputId": "924b1977-3512-430f-e481-cc0f026f08b4"
      },
      "source": [
        "%tensorflow_version 2.x"
      ],
      "execution_count": 1,
      "outputs": [
        {
          "output_type": "stream",
          "text": [
            "TensorFlow 2.x selected.\n"
          ],
          "name": "stdout"
        }
      ]
    },
    {
      "cell_type": "code",
      "metadata": {
        "id": "beEi9eSgxPc6",
        "colab_type": "code",
        "outputId": "a6b6818f-ff61-41cc-aefd-354c543e4a8d",
        "colab": {
          "base_uri": "https://localhost:8080/",
          "height": 153
        }
      },
      "source": [
        "# Ensure that ffmpeg is installed as we will be using it to extract frames\n",
        "!apt install ffmpeg"
      ],
      "execution_count": 2,
      "outputs": [
        {
          "output_type": "stream",
          "text": [
            "Reading package lists... Done\n",
            "Building dependency tree       \n",
            "Reading state information... Done\n",
            "ffmpeg is already the newest version (7:3.4.6-0ubuntu0.18.04.1).\n",
            "The following package was automatically installed and is no longer required:\n",
            "  libnvidia-common-430\n",
            "Use 'apt autoremove' to remove it.\n",
            "0 upgraded, 0 newly installed, 0 to remove and 7 not upgraded.\n"
          ],
          "name": "stdout"
        }
      ]
    },
    {
      "cell_type": "markdown",
      "metadata": {
        "id": "q0FKfT3ih-O8",
        "colab_type": "text"
      },
      "source": [
        "## Download video data\n",
        "\n",
        "We will download the data from github and create a folder structure like this:\n",
        "\n",
        "```\n",
        "train/\n",
        "  Archery/\n",
        "  Basketball/\n",
        "  ...\n",
        "test/\n",
        "  Archery/\n",
        "  Basketball/\n",
        "  ...\n",
        "```"
      ]
    },
    {
      "cell_type": "code",
      "metadata": {
        "id": "1040n-QR3Lv3",
        "colab_type": "code",
        "outputId": "432503c3-969a-41c9-d3a4-d63c4da87b4c",
        "colab": {
          "base_uri": "https://localhost:8080/",
          "height": 34
        }
      },
      "source": [
        "# Instead of 101 classes, we will start small, just 5 classes.\n",
        "\n",
        "classes = [\n",
        "  'Archery',\n",
        "  'Basketball',\n",
        "  'CricketBowling',\n",
        "  'Diving',\n",
        "  'Haircut'\n",
        "]\n",
        "\n",
        "classes"
      ],
      "execution_count": 3,
      "outputs": [
        {
          "output_type": "execute_result",
          "data": {
            "text/plain": [
              "['Archery', 'Basketball', 'CricketBowling', 'Diving', 'Haircut']"
            ]
          },
          "metadata": {
            "tags": []
          },
          "execution_count": 3
        }
      ]
    },
    {
      "cell_type": "code",
      "metadata": {
        "id": "nJqSCmlwjBrK",
        "colab_type": "code",
        "colab": {
          "base_uri": "https://localhost:8080/",
          "height": 170
        },
        "outputId": "d031eb2b-4af6-43f4-eb06-d908adadd410"
      },
      "source": [
        "!pip install wget"
      ],
      "execution_count": 4,
      "outputs": [
        {
          "output_type": "stream",
          "text": [
            "Collecting wget\n",
            "  Downloading https://files.pythonhosted.org/packages/47/6a/62e288da7bcda82b935ff0c6cfe542970f04e29c756b0e147251b2fb251f/wget-3.2.zip\n",
            "Building wheels for collected packages: wget\n",
            "  Building wheel for wget (setup.py) ... \u001b[?25l\u001b[?25hdone\n",
            "  Created wheel for wget: filename=wget-3.2-cp36-none-any.whl size=9681 sha256=89025d17a408b62f5a405f00e7aa2ca6ed957bb10ac95b081d482a56ddc38a2b\n",
            "  Stored in directory: /root/.cache/pip/wheels/40/15/30/7d8f7cea2902b4db79e3fea550d7d7b85ecb27ef992b618f3f\n",
            "Successfully built wget\n",
            "Installing collected packages: wget\n",
            "Successfully installed wget-3.2\n"
          ],
          "name": "stdout"
        }
      ]
    },
    {
      "cell_type": "code",
      "metadata": {
        "id": "RVs4K6C-xY3g",
        "colab_type": "code",
        "colab": {}
      },
      "source": [
        "# Download subset of the dataset for the classes we have.\n",
        "import wget\n",
        "import zipfile\n",
        "import os\n",
        "\n",
        "def download_and_extract(label, folder):\n",
        "  url = f'https://github.com/lisaong/mldds-courseware/raw/master/data/ucf101-5classes/{folder}/{label}.zip'\n",
        "  print(f'Downloaded {url}')\n",
        "\n",
        "  # prepare folders\n",
        "  if not os.path.isdir(folder):\n",
        "    os.mkdir(folder)\n",
        "  filename = f'{label}.zip'\n",
        "\n",
        "  # download\n",
        "  wget.download(url, filename)\n",
        "\n",
        "  # extract within folder\n",
        "  with zipfile.ZipFile(filename) as f:\n",
        "    f.extractall(folder)\n",
        "  print(f'Extracted {os.path.join(folder, label)}')\n",
        "  \n",
        "  # delete zip archive\n",
        "  os.remove(filename)"
      ],
      "execution_count": 0,
      "outputs": []
    },
    {
      "cell_type": "code",
      "metadata": {
        "id": "ubuSzDWKHPWx",
        "colab_type": "code",
        "colab": {
          "base_uri": "https://localhost:8080/",
          "height": 357
        },
        "outputId": "ce1527fb-92ba-482b-f559-e8cd0b1023b2"
      },
      "source": [
        "for label in classes:\n",
        "  download_and_extract(label, 'train')\n",
        "  download_and_extract(label, 'test')"
      ],
      "execution_count": 16,
      "outputs": [
        {
          "output_type": "stream",
          "text": [
            "Downloaded https://github.com/lisaong/mldds-courseware/raw/master/data/ucf101-5classes/train/Archery.zip\n",
            "Extracted train/Archery\n",
            "Downloaded https://github.com/lisaong/mldds-courseware/raw/master/data/ucf101-5classes/test/Archery.zip\n",
            "Extracted test/Archery\n",
            "Downloaded https://github.com/lisaong/mldds-courseware/raw/master/data/ucf101-5classes/train/Basketball.zip\n",
            "Extracted train/Basketball\n",
            "Downloaded https://github.com/lisaong/mldds-courseware/raw/master/data/ucf101-5classes/test/Basketball.zip\n",
            "Extracted test/Basketball\n",
            "Downloaded https://github.com/lisaong/mldds-courseware/raw/master/data/ucf101-5classes/train/CricketBowling.zip\n",
            "Extracted train/CricketBowling\n",
            "Downloaded https://github.com/lisaong/mldds-courseware/raw/master/data/ucf101-5classes/test/CricketBowling.zip\n",
            "Extracted test/CricketBowling\n",
            "Downloaded https://github.com/lisaong/mldds-courseware/raw/master/data/ucf101-5classes/train/Diving.zip\n",
            "Extracted train/Diving\n",
            "Downloaded https://github.com/lisaong/mldds-courseware/raw/master/data/ucf101-5classes/test/Diving.zip\n",
            "Extracted test/Diving\n",
            "Downloaded https://github.com/lisaong/mldds-courseware/raw/master/data/ucf101-5classes/train/Haircut.zip\n",
            "Extracted train/Haircut\n",
            "Downloaded https://github.com/lisaong/mldds-courseware/raw/master/data/ucf101-5classes/test/Haircut.zip\n",
            "Extracted test/Haircut\n"
          ],
          "name": "stdout"
        }
      ]
    },
    {
      "cell_type": "code",
      "metadata": {
        "id": "psffPHDwhGwf",
        "colab_type": "code",
        "colab": {}
      },
      "source": [
        "# Files are downloaded, press 'Refresh' in the Files tab to see them"
      ],
      "execution_count": 0,
      "outputs": []
    },
    {
      "cell_type": "markdown",
      "metadata": {
        "id": "DTFKhPvEhyZ1",
        "colab_type": "text"
      },
      "source": [
        "## Extracting frames from videos\n",
        "\n",
        "In this step, we will use ffmpeg to extract frames from the video files and save the frames into images. \n",
        "\n",
        "This will also generate a csv file describing the class, video filename, and number of frames for each video.\n",
        "\n",
        "This can take a while to run."
      ]
    },
    {
      "cell_type": "code",
      "metadata": {
        "id": "VilNMlVHhj88",
        "colab_type": "code",
        "colab": {}
      },
      "source": [
        "# https://github.com/harvitronix/five-video-classification-methods/blob/master/data/2_extract_files.py\n",
        "import glob\n",
        "import csv\n",
        "from subprocess import call\n",
        "\n",
        "def get_nb_frames_for_video(video_parts):\n",
        "    \"\"\"Given video parts of an (assumed) already extracted video, return\n",
        "    the number of frames that were extracted.\"\"\"\n",
        "    train_or_test, classname, filename_no_ext, _ = video_parts\n",
        "    generated_files = glob.glob(os.path.join(train_or_test, classname,\n",
        "                                filename_no_ext + '*.jpg'))\n",
        "    return len(generated_files)\n",
        "\n",
        "def get_video_path_parts(video_path):\n",
        "    \"\"\"Given a full path to a video, return its parts.\"\"\"\n",
        "    parts = video_path.split(os.path.sep)\n",
        "    filename = parts[2]\n",
        "    filename_no_ext = filename.split('.')[0]\n",
        "    classname = parts[1]\n",
        "    train_or_test = parts[0]\n",
        "\n",
        "    return train_or_test, classname, filename_no_ext, filename\n",
        "\n",
        "def check_already_extracted(video_parts):\n",
        "    \"\"\"Check to see if we created the -0001 frame of this file.\"\"\"\n",
        "    train_or_test, classname, filename_no_ext, _ = video_parts\n",
        "    return bool(os.path.exists(os.path.join(train_or_test, classname,\n",
        "                               filename_no_ext + '-0001.jpg')))\n",
        "\n",
        "def extract_files():\n",
        "    \"\"\"After we have all of our videos split between train and test, and\n",
        "    all nested within folders representing their classes, we need to\n",
        "    make a data file that we can reference when training our RNN(s).\n",
        "    \n",
        "    This will let us keep track of image sequences and other parts\n",
        "    of the training process.\n",
        "    \n",
        "    We'll first need to extract images from each of the videos. We'll\n",
        "    need to record the following data in the file:\n",
        "    [train|test], class, filename, nb frames\n",
        "    \n",
        "    Extracting can be done with ffmpeg:\n",
        "    `ffmpeg -i video.mpg image-%04d.jpg`\n",
        "    \"\"\"\n",
        "\n",
        "    data_file = []\n",
        "    folders = ['train', 'test']\n",
        "    for folder in folders:\n",
        "      class_folders = glob.glob(os.path.join(folder, '*'))\n",
        "      \n",
        "      for vid_class in class_folders:\n",
        "        class_files = glob.glob(os.path.join(vid_class, '*.avi'))\n",
        "        \n",
        "        for video_path in class_files:\n",
        "          # Get the parts of the file path\n",
        "          video_parts  = get_video_path_parts(video_path)\n",
        "          train_or_test, classname, filename_no_ext, filename = video_parts          \n",
        "\n",
        "          # Only extract if we haven't done it yet. Otherwise, just get\n",
        "          # the info.\n",
        "          if not check_already_extracted(video_parts):\n",
        "            # Now extract it.\n",
        "            src = os.path.join(train_or_test, classname, filename)\n",
        "            dest = os.path.join(train_or_test, classname,\n",
        "                                filename_no_ext + '-%04d.jpg')\n",
        "            call([\"ffmpeg\", \"-i\", src, dest])\n",
        "\n",
        "            # Now get how many frames it is.\n",
        "            nb_frames = get_nb_frames_for_video(video_parts)\n",
        "\n",
        "            data_file.append([train_or_test, classname, filename_no_ext, nb_frames])\n",
        "\n",
        "            print(\"Generated %d frames for %s\" % (nb_frames, filename_no_ext))\n",
        "\n",
        "    with open('data_file.csv', 'w') as fout:\n",
        "        writer = csv.writer(fout)\n",
        "        writer.writerows(data_file)\n",
        "\n",
        "    print(\"Extracted and wrote %d video files.\" % (len(data_file)))"
      ],
      "execution_count": 0,
      "outputs": []
    },
    {
      "cell_type": "code",
      "metadata": {
        "id": "a5BDjczxjlsM",
        "colab_type": "code",
        "colab": {}
      },
      "source": [
        "# If you have many more files, recommend run directly from a Terminal\n",
        "# (outside of Jupyter or Colab - because Colab can hang)\n",
        "extract_files()"
      ],
      "execution_count": 0,
      "outputs": []
    },
    {
      "cell_type": "code",
      "metadata": {
        "id": "bgq6_PYijoM3",
        "colab_type": "code",
        "colab": {}
      },
      "source": [
        "# To see what gets generated (if Files Refresh does not show anything)\n",
        "!ls test/Archery"
      ],
      "execution_count": 0,
      "outputs": []
    },
    {
      "cell_type": "code",
      "metadata": {
        "id": "BodfuXJYkpkU",
        "colab_type": "code",
        "colab": {}
      },
      "source": [
        "# Contents of the data file\n",
        "# [train|test], class, filename, nb frames\n",
        "!cat data_file.csv"
      ],
      "execution_count": 0,
      "outputs": []
    },
    {
      "cell_type": "code",
      "metadata": {
        "id": "Iw8lImWVkyVR",
        "colab_type": "code",
        "colab": {}
      },
      "source": [
        ""
      ],
      "execution_count": 0,
      "outputs": []
    }
  ]
}